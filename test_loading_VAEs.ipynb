{
 "cells": [
  {
   "cell_type": "code",
   "execution_count": 8,
   "metadata": {},
   "outputs": [],
   "source": [
    "import kmodels as kmk\n",
    "import pandas as pd \n",
    "import numpy as np\n",
    "import matplotlib.pyplot as plt\n",
    "import torch\n",
    "from sklearn.preprocessing import MinMaxScaler\n",
    "from sklearn.metrics import mean_squared_error, mean_absolute_error, r2_score\n",
    "# get torch pretty mokey patch\n",
    "import lovely_tensors as lt\n",
    "lt.monkey_patch()\n",
    "def to_torch(X):\n",
    "    if isinstance(X, np.ndarray):\n",
    "        X = torch.from_numpy(X.astype(np.float32))\n",
    "    elif isinstance(X, pd.DataFrame):\n",
    "        X = X.values\n",
    "        X = torch.from_numpy(X.astype(np.float32))\n",
    "    return X\n",
    "def to_plot_var(x):\n",
    "    if isinstance(x, torch.Tensor):\n",
    "        x = x.cpu().detach().numpy()\n",
    "    return x\n",
    "# for each subject make a large array of copipes of the x data where each muscle is deleted systematically and then the data is appeneded together\n",
    "# this will be the input data\n",
    "\n",
    "\n",
    "def get_cols_names():\n",
    "    x_cols = ['FPL', 'APL', 'EPL', 'EPB', 'DIO', 'ADP', 'OPP', 'FPB', 'Fx', 'Fy', 'Fz']\n",
    "    y_cols = ['Pain_Cohort', 'Eaton_Litter']\n",
    "    return x_cols, y_cols\n",
    "\n",
    "def get_muscle_names():\n",
    "    return ['FPL', 'APL', 'EPL', 'EPB', 'DIO', 'ADP', 'OPP', 'FPB']\n",
    "\n",
    "# write a function that will take in a dataframe and return a list of muscles that are active (that have non-zero values)\n",
    "def get_active_muscles(train_df):\n",
    "    muscles = get_muscle_names()\n",
    "    active_muscles = []\n",
    "    for muscle in muscles:\n",
    "        if train_df[muscle].sum() != 0:\n",
    "            active_muscles.append(muscle)\n",
    "    return active_muscles\n",
    "\n",
    "# write a function that will take in a dataframe and return a list of muscles that are inactive (that have zero values)\n",
    "def get_inactive_muscles(train_df):\n",
    "    muscles = get_muscle_names()\n",
    "    inactive_muscles = []\n",
    "    for muscle in muscles:\n",
    "        if train_df[muscle].sum() == 0:\n",
    "            inactive_muscles.append(muscle)\n",
    "    return inactive_muscles\n",
    "\n",
    "# write a function that will take in the entire dataset and split it up by subject and event\n",
    "def split_by_subject(train_df):\n",
    "    grouped_df = train_df.groupby(['Subject','Event'])\n",
    "    # return a list of dataframes for each subject and event\n",
    "    return [grouped_df.get_group(x) for x in grouped_df.groups]\n",
    "\n",
    "# lets write an augmentation function that will take in a dataframe and augment it by zeroing out one muscle at a time\n",
    "def dataframe_to_augmented_dfs(train_df):\n",
    "    # get the active and inactive muscles\n",
    "    active_muscles = get_active_muscles(train_df)\n",
    "    inactive_muscles = get_inactive_muscles(train_df)\n",
    "    # make a copy of the dataframe\n",
    "    dfs = []\n",
    "    df_copy = train_df.copy()\n",
    "    # for each active muscle, make a copy of the dataframe and zero out that muscle\n",
    "    for muscle in active_muscles:\n",
    "        df_copy[muscle] = 0\n",
    "        dfs.append(df_copy.copy())\n",
    "        df_copy = train_df.copy()\n",
    "    # return the augmented dataframe\n",
    "    return dfs\n",
    "    \n",
    "\n",
    "# lets write a function that takes the original dataframe and outputs the augmented dataframe\n",
    "def augment_df(train_df):\n",
    "    # split the dataframe by subject and event\n",
    "    dfs = split_by_subject(train_df)\n",
    "    # for each dataframe, augment it and append it to a list\n",
    "    augmented_dfs = []\n",
    "    for train_df in dfs:\n",
    "        augmented_dfs.extend(dataframe_to_augmented_dfs(train_df))\n",
    "    # return the list of augmented dataframes\n",
    "    return augmented_dfs\n",
    "\n",
    "# lets write a function that will take in a list of dataframes and return a list of the x and y data\n",
    "def get_x_y_data(train_df):\n",
    "    x_cols, y_cols = get_cols_names()\n",
    "    x_data = []\n",
    "    y_data = []\n",
    "    x_og = []\n",
    "    dfs = augment_df(train_df)\n",
    "    for loop_df in dfs:\n",
    "        loop_df = loop_df.sort_values(by=['Event','Frame'])\n",
    "        x_data.append(loop_df[x_cols].values)\n",
    "        y_data.append(loop_df[y_cols].values)\n",
    "    return np.row_stack(x_data), np.row_stack(y_data)\n",
    "\n",
    "# get the data of the un-augmented dataframe\n",
    "def get_data(train_df):\n",
    "    x_cols, y_cols = get_cols_names()\n",
    "    groups = train_df.groupby(['Subject', 'Event'])\n",
    "    X = []\n",
    "    Y = []\n",
    "    for name, group in groups:\n",
    "        group = group.sort_values(by=['Event','Frame'])\n",
    "        X.append(group[x_cols].values.reshape(1, -1))\n",
    "        Y.append(group[y_cols].values[0,:])\n",
    "    X = np.row_stack(X)\n",
    "    Y = np.row_stack(Y)\n",
    "    return X, Y\n",
    "\n",
    "# create a function that will create x_og, which is the original x data with the missing data but corressponding to the un-augmented data. For each muscle the augmentor\n",
    "# will make a copy of the dataframe and zero out that muscle. Take this into account to copy the data the appropriate number of times\n",
    "def get_x_og(train_df):\n",
    "    x_cols, y_cols = get_cols_names()\n",
    "    muscles = get_muscle_names()\n",
    "    groups = train_df.groupby(['Subject', 'Event'])\n",
    "    X = []\n",
    "    Y = []\n",
    "    for name, group in groups:\n",
    "        used_muscles = get_active_muscles(group)\n",
    "        for muscle in used_muscles:\n",
    "            group = group.sort_values(by=['Event','Frame'])\n",
    "            X.append(group[x_cols].values.reshape(1, -1))\n",
    "            Y.append(group[y_cols].values)\n",
    "    X = np.row_stack(X)\n",
    "    Y = np.row_stack(Y)\n",
    "    return X, Y\n",
    "\n",
    "def get_number_of_frames(train_df):\n",
    "    # find how many frames each event ran to\n",
    "    # (find the unique values of \"frames\")\n",
    "    frames = train_df['Frame'].unique()\n",
    "    return len(frames)"
   ]
  },
  {
   "cell_type": "code",
   "execution_count": 68,
   "metadata": {},
   "outputs": [
    {
     "name": "stdout",
     "output_type": "stream",
     "text": [
      "TRAINING SET\n",
      "Number of subjects with pain: 4\n",
      "Number of subjects without pain: 8\n",
      "\n",
      "LEAVE OUT SET\n",
      "Number of subjects with pain: 4\n",
      "Number of subjects without pain: 4\n"
     ]
    },
    {
     "data": {
      "text/plain": [
       "(torch.Size([90, 33000]),\n",
       " torch.Size([90, 2]),\n",
       " torch.Size([90, 33000]),\n",
       " torch.Size([12, 2]))"
      ]
     },
     "execution_count": 68,
     "metadata": {},
     "output_type": "execute_result"
    },
    {
     "data": {
      "image/png": "[encoded data removed]",
      "text/plain": [
       "<Figure size 640x480 with 1 Axes>"
      ]
     },
     "metadata": {},
     "output_type": "display_data"
    }
   ],
   "source": [
    "\n",
    "\n",
    "df = pd.read_pickle('./data/ML_Data.pkl')\n",
    "by_event = False # this makes it so you can switch back and forth between the format we talk about. 3 events per observation or 1 event per observation\n",
    "nframes = get_number_of_frames(df)\n",
    "n_events = 3\n",
    "n_muscles = 11\n",
    "subject_dfs =  split_by_subject(df)\n",
    "# find which subjects have at least n working muscles\n",
    "n = 6\n",
    "working_subjects = []\n",
    "for subject_df in subject_dfs:\n",
    "    if len(get_active_muscles(subject_df)) >= n:\n",
    "        working_subjects.append(subject_df['Subject'].values[0])\n",
    "leave_out_df = df[~df['Subject'].isin(working_subjects)]\n",
    "train_df = df[df['Subject'].isin(working_subjects)]\n",
    "train_df['Subject'].unique(), leave_out_df['Subject'].unique()\n",
    "print('TRAINING SET')\n",
    "# lets make a pretty table of how many subjects have pain and how many don't\n",
    "pain_df = train_df[train_df['Pain_Cohort'] == 1]\n",
    "no_pain_df = train_df[train_df['Pain_Cohort'] == 0]\n",
    "print('Number of subjects with pain: {}'.format(len(pain_df['Subject'].unique())))\n",
    "print('Number of subjects without pain: {}'.format(len(no_pain_df['Subject'].unique())))\n",
    "print()\n",
    "print('LEAVE OUT SET')\n",
    "# do the same for the leaveout set\n",
    "pain_df = leave_out_df[leave_out_df['Pain_Cohort'] == 1]\n",
    "no_pain_df = leave_out_df[leave_out_df['Pain_Cohort'] == 0]\n",
    "print('Number of subjects with pain: {}'.format(len(pain_df['Subject'].unique())))\n",
    "print('Number of subjects without pain: {}'.format(len(no_pain_df['Subject'].unique())))\n",
    "\n",
    "# format data as trajectories\n",
    "x, y = get_x_y_data(train_df)\n",
    "y = y.reshape(-1, nframes, 2)\n",
    "x_og, y_og = get_x_og(train_df)\n",
    "x = x.reshape(-1, nframes, 11)\n",
    "x_og = x_og.reshape(-1, nframes, 11)\n",
    "y_og = y_og.reshape(-1, nframes, 2)\n",
    "# get the leaveout data and format as trajectories\n",
    "leaveout_x, leaveout_y = get_x_y_data(leave_out_df)\n",
    "leaveout_x = to_torch(leaveout_x).float().reshape(-1, nframes, 11)\n",
    "leaveout_y = to_torch(leaveout_y).float().reshape(-1, nframes, 2)\n",
    "\n",
    "x.shape, y.shape, x_og.shape, y_og.shape, leaveout_x.shape, leaveout_y.shape\n",
    "# lets get the datafrom the original dataframe\n",
    "x_cols = ['Fx', 'Fy', 'Fz', 'FPL', 'APL', 'EPL', 'EPB', 'DIO', 'ADP', 'OPP','FPB']\n",
    "y_cols = ['Pain_Cohort', 'Eaton_Litter']\n",
    "x_data = train_df[x_cols].values\n",
    "y_data = train_df[y_cols].values\n",
    "x_data = x_data.reshape(-1, nframes, n_muscles)\n",
    "y_data = y_data.reshape(-1, nframes, len(y_cols))\n",
    "\n",
    "x_data.shape, y_data.shape, leaveout_y.shape\n",
    "# get the data from the leaveout train_df\n",
    "if by_event:\n",
    "    leaveout_x = leaveout_x.reshape(-1, nframes*n_muscles)\n",
    "    # get the value for leaveout_y. Only grab the first value of each evnet\n",
    "    leaveout_y = leaveout_y[:, 0, :]\n",
    "    y_data = y_data[:, 0, :]\n",
    "    y = y[:, 0, :]\n",
    "    y_og = y_og[:, 0, :]\n",
    "else:\n",
    "    leaveout_x = leaveout_x.reshape(-1,  nframes*n_muscles*n_events)\n",
    "    y_data = y_data.reshape(-1, nframes*n_events, 2)\n",
    "    leaveout_y = leaveout_y.reshape(-1, nframes*n_events, 2)\n",
    "    y = y.reshape(-1, nframes*n_events, 2)\n",
    "    y_og = y_og.reshape(-1, nframes*n_events, 2)\n",
    "    leaveout_y = leaveout_y[:, 0, :]\n",
    "    y_data = y_data[:, 0, :]\n",
    "    y = y[:, 0, :]\n",
    "    y_og = y_og[:, 0, :]\n",
    "leaveout_y = to_torch(leaveout_y).float()\n",
    "leaveout_x.shape, leaveout_y.shape, y_data.shape, y.shape, y_og.shape\n",
    "# convert the x dimensions depending if we want to group by trajectories or 3 trajectories\n",
    "if by_event:\n",
    "    x = x.reshape(-1, nframes*11)\n",
    "    x_data = x_data.reshape(-1, nframes*11)\n",
    "    x_og = x_og.reshape(-1, nframes*11)\n",
    "else:\n",
    "    x = x.reshape(-1, nframes*11*3)\n",
    "    x_data = x_data.reshape(-1, nframes*11*3)\n",
    "    x_og = x_og.reshape(-1, nframes*11*3)\n",
    "\n",
    "x.shape\n",
    "plt.plot(x[0,:])\n",
    "scaler = MinMaxScaler()\n",
    "x = scaler.fit_transform(x)\n",
    "x_data = scaler.transform(x_data)\n",
    "x_og = scaler.transform(x_og)\n",
    "leaveout_x = scaler.transform(leaveout_x)\n",
    "x.shape, x_data.shape, x_og.shape, leaveout_x.shape\n",
    "plt.hist(y[:,0])\n",
    "plt.hist(y[:,1])\n",
    "# plot the latent space of the un-augmented data\n",
    "X_prime, Y_prime = get_data(train_df)\n",
    "if by_event:\n",
    "    X_prime = X_prime.reshape(-1, nframes*n_muscles)\n",
    "    \n",
    "else:\n",
    "    X_prime = X_prime.reshape(-1, nframes*n_muscles*n_events)\n",
    "    Y_prime = Y_prime[::n_events,:]\n",
    "X_prime = scaler.transform(X_prime)\n",
    "X_prime.shape, Y_prime.shape\n",
    "X = to_torch(x)\n",
    "X_og = to_torch(x_og)\n",
    "Y = to_torch(y)\n",
    "X_prime = to_torch(X_prime)\n",
    "Y_prime = to_torch(Y_prime)\n",
    "\n",
    "X = torch.cat((X, X_prime), dim=0)\n",
    "Y = torch.cat((Y, Y_prime), dim=0)\n",
    "Y_og = torch.cat((Y, Y_prime), dim=0)\n",
    "X_og = torch.cat((X_og, X_prime), dim=0)\n",
    "X.shape, Y.shape, X_og.shape, Y_prime.shape"
   ]
  },
  {
   "cell_type": "code",
   "execution_count": 74,
   "metadata": {},
   "outputs": [],
   "source": [
    "# load the model with dill (reg.dill) \n",
    "import dill\n",
    "reg = dill.load(open('./reg_33000.dill', 'rb'))\n"
   ]
  },
  {
   "cell_type": "code",
   "execution_count": 98,
   "metadata": {},
   "outputs": [
    {
     "data": {
      "text/plain": [
       "(0.7479534444435935, 0.9569398039940252, -6.909251175326169)"
      ]
     },
     "execution_count": 98,
     "metadata": {},
     "output_type": "execute_result"
    }
   ],
   "source": [
    "# get r2 score of x, x_og, and leaveout_x. (the reconstruction loss of the VAE)\n",
    "from sklearn.metrics import r2_score\n",
    "# get the r2 score of the x data\n",
    "pred_x = to_plot_var(reg.predict(X))\n",
    "pred_x_og = to_plot_var(reg.predict(X_og))\n",
    "pred_leaveout_x = to_plot_var(reg.predict(to_torch(leaveout_x).float()))\n",
    "r2_score(X, pred_x), r2_score(X_og, pred_x_og), r2_score(leaveout_x, pred_leaveout_x)"
   ]
  },
  {
   "cell_type": "code",
   "execution_count": 99,
   "metadata": {},
   "outputs": [
    {
     "data": {
      "text/plain": [
       "((32, 2), (32, 2))"
      ]
     },
     "execution_count": 99,
     "metadata": {},
     "output_type": "execute_result"
    }
   ],
   "source": [
    "leaveout_x_encoded = to_plot_var(reg.estimator.encode(to_torch(leaveout_x))[0])\n",
    "x_encoded = to_plot_var(reg.estimator.encode(X)[0])\n",
    "Y = to_plot_var(Y)\n",
    "leaveout_y = to_plot_var(leaveout_y)\n",
    "leaveout_y.shape, leaveout_x_encoded.shape"
   ]
  },
  {
   "cell_type": "code",
   "execution_count": 100,
   "metadata": {},
   "outputs": [
    {
     "data": {
      "text/plain": [
       "(0.7222222222222222, 0.46875)"
      ]
     },
     "execution_count": 100,
     "metadata": {},
     "output_type": "execute_result"
    }
   ],
   "source": [
    "# use logistic regression to predict the pain cohort\n",
    "from sklearn.linear_model import LogisticRegression\n",
    "log_reg = LogisticRegression()\n",
    "log_reg.fit(x_encoded, Y[:,0])\n",
    "log_reg.score(x_encoded, Y[:,0]), log_reg.score(leaveout_x_encoded, leaveout_y[:,0])"
   ]
  },
  {
   "cell_type": "code",
   "execution_count": 101,
   "metadata": {},
   "outputs": [
    {
     "data": {
      "text/plain": [
       "<matplotlib.collections.PathCollection at 0x2cdfb1d33d0>"
      ]
     },
     "execution_count": 101,
     "metadata": {},
     "output_type": "execute_result"
    },
    {
     "data": {
      "image/png": "[encoded data removed]",
      "text/plain": [
       "<Figure size 640x480 with 1 Axes>"
      ]
     },
     "metadata": {},
     "output_type": "display_data"
    }
   ],
   "source": [
    "# plot the decision boundary\n",
    "from matplotlib.colors import ListedColormap\n",
    "def plot_decision_boundary(clf, X, y, axes=[-1.5, 2.5, -1, 1.5], alpha=0.5, contour=True):\n",
    "    x1s = np.linspace(axes[0], axes[1], 100)\n",
    "    x2s = np.linspace(axes[2], axes[3], 100)\n",
    "    # create a meshgrid\n",
    "    x1, x2 = np.meshgrid(x1s, x2s)\n",
    "    # flatten the meshgrid\n",
    "    X_new = np.c_[x1.ravel(), x2.ravel()]\n",
    "    # make predictions\n",
    "    y_pred = clf.predict(X_new).reshape(x1.shape)\n",
    "    # plot the contour\n",
    "    if contour:\n",
    "        custom_cmap = ListedColormap(['#fafab0','#9898ff','#a0faa0'])\n",
    "        plt.contourf(x1, x2, y_pred, alpha=0.3, cmap=custom_cmap)\n",
    "    # plot the scatter plot\n",
    "    plt.plot(X[:, 0][y==0], X[:, 1][y==0], \"yo\", alpha=alpha)\n",
    "    plt.plot(X[:, 0][y==1], X[:, 1][y==1], \"bs\", alpha=alpha)\n",
    "    plt.axis(axes)\n",
    "    plt.xlabel(r\"$z_1$\", fontsize=18)\n",
    "    plt.ylabel(r\"$z_2$\", fontsize=18, rotation=0)\n",
    "\n",
    "axes = [np.min(x_encoded[:,0]), np.max(x_encoded[:,0]), np.min(x_encoded[:,1]), np.max(x_encoded[:,1])]\n",
    "plot_decision_boundary(log_reg, x_encoded, Y[:,0], axes=axes)\n",
    "# plot the leaveout data\n",
    "# use red outlines for the leaveout data\n",
    "# use the same symbol scheme for pain\n",
    "plt.scatter(leaveout_x_encoded[:,0][leaveout_y[:,0]==0], leaveout_x_encoded[:,1][leaveout_y[:,0]==0], c='blue', edgecolors='r', s=50, alpha=0.7, marker='s')\n",
    "plt.scatter(leaveout_x_encoded[:,0][leaveout_y[:,0]==1], leaveout_x_encoded[:,1][leaveout_y[:,0]==1], c='yellow', edgecolors='r', s=50, alpha=0.7, marker='o')"
   ]
  },
  {
   "cell_type": "code",
   "execution_count": 105,
   "metadata": {},
   "outputs": [
    {
     "data": {
      "text/plain": [
       "(1.0, 0.4375)"
      ]
     },
     "execution_count": 105,
     "metadata": {},
     "output_type": "execute_result"
    }
   ],
   "source": [
    "# use a random forest\n",
    "from sklearn.ensemble import RandomForestClassifier\n",
    "from sklearn.gaussian_process import GaussianProcessClassifier\n",
    "rf_reg = RandomForestClassifier()\n",
    "rf_reg.fit(x_encoded, Y[:,0])\n",
    "rf_reg.score(x_encoded, Y[:,0]), rf_reg.score(leaveout_x_encoded, leaveout_y[:,0])"
   ]
  },
  {
   "cell_type": "code",
   "execution_count": 106,
   "metadata": {},
   "outputs": [
    {
     "data": {
      "text/plain": [
       "<matplotlib.legend.Legend at 0x2cdad016cb0>"
      ]
     },
     "execution_count": 106,
     "metadata": {},
     "output_type": "execute_result"
    },
    {
     "data": {
      "image/png": "[encoded data removed]",
      "text/plain": [
       "<Figure size 640x480 with 1 Axes>"
      ]
     },
     "metadata": {},
     "output_type": "display_data"
    }
   ],
   "source": [
    "plot_decision_boundary(rf_reg, x_encoded, Y[:,0], axes=axes)\n",
    "# plot the leaveout data\n",
    "# use red outlines for the leaveout data\n",
    "# use the same symbol scheme for pain\n",
    "plt.scatter(leaveout_x_encoded[:,0][leaveout_y[:,0]==0], leaveout_x_encoded[:,1][leaveout_y[:,0]==0], c=leaveout_y[:,1][leaveout_y[:,0] ==0], edgecolors='r', s=50, marker='s')\n",
    "\n",
    "plt.scatter(leaveout_x_encoded[:,0][leaveout_y[:,0]==1], leaveout_x_encoded[:,1][leaveout_y[:,0]==1], c=leaveout_y[:,1][leaveout_y[:,0] ==1], edgecolors='r', s=50, marker='o')\n",
    "\n",
    "# create a legend for the background color used for the decision boundary\n",
    "import matplotlib.patches as mpatches\n",
    "blue_patch = mpatches.Patch(color='blue', label='No Pain')\n",
    "yellow_patch = mpatches.Patch(color='yellow', label='Pain')\n",
    "plt.legend(handles=[blue_patch, yellow_patch], loc='upper right')"
   ]
  },
  {
   "cell_type": "code",
   "execution_count": 104,
   "metadata": {},
   "outputs": [],
   "source": [
    "# lets see what the model's predictions are for data that has been augmented. \n",
    "# reshape x and x_og back to trajectories\n",
    "x = x.reshape(-1, nframes, 11)\n",
    "x_og = x_og.reshape(-1, nframes, 11)\n"
   ]
  },
  {
   "cell_type": "code",
   "execution_count": null,
   "metadata": {},
   "outputs": [],
   "source": []
  }
 ],
 "metadata": {
  "kernelspec": {
   "display_name": "venv",
   "language": "python",
   "name": "python3"
  },
  "language_info": {
   "codemirror_mode": {
    "name": "ipython",
    "version": 3
   },
   "file_extension": ".py",
   "mimetype": "text/x-python",
   "name": "python",
   "nbconvert_exporter": "python",
   "pygments_lexer": "ipython3",
   "version": "3.10.6"
  },
  "orig_nbformat": 4
 },
 "nbformat": 4,
 "nbformat_minor": 2
}
