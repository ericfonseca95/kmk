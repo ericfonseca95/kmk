{
 "cells": [
  {
   "cell_type": "code",
   "execution_count": 1,
   "metadata": {},
   "outputs": [],
   "source": [
    "import kmodels as kmk\n",
    "import pandas as pd \n",
    "import numpy as np\n",
    "import matplotlib.pyplot as plt\n",
    "import torch\n",
    "from sklearn.preprocessing import MinMaxScaler\n",
    "from sklearn.metrics import mean_squared_error, mean_absolute_error, r2_score\n",
    "# get torch pretty mokey patch\n",
    "import lovely_tensors as lt\n",
    "lt.monkey_patch()"
   ]
  },
  {
   "cell_type": "code",
   "execution_count": 2,
   "metadata": {},
   "outputs": [],
   "source": [
    "def to_torch(X):\n",
    "    if isinstance(X, np.ndarray):\n",
    "        X = torch.from_numpy(X.astype(np.float32))\n",
    "    elif isinstance(X, pd.DataFrame):\n",
    "        X = X.values\n",
    "        X = torch.from_numpy(X.astype(np.float32))\n",
    "    return X\n",
    "\n",
    "# for each subject make a large array of copipes of the x data where each muscle is deleted systematically and then the data is appeneded together\n",
    "# this will be the input data\n"
   ]
  },
  {
   "cell_type": "code",
   "execution_count": 184,
   "metadata": {},
   "outputs": [],
   "source": [
    "\n",
    "def get_cols_names():\n",
    "    x_cols = ['FPL', 'APL', 'EPL', 'EPB', 'DIO', 'ADP', 'OPP', 'FPB', 'Fx', 'Fy', 'Fz']\n",
    "    y_cols = ['Pain_Cohort', 'Eaton_Litter']\n",
    "    return x_cols, y_cols\n",
    "\n",
    "def get_muscle_names():\n",
    "    return ['FPL', 'APL', 'EPL', 'EPB', 'DIO', 'ADP', 'OPP', 'FPB']\n",
    "\n",
    "# write a function that will take in a dataframe and return a list of muscles that are active (that have non-zero values)\n",
    "def get_active_muscles(df):\n",
    "    muscles = get_muscle_names()\n",
    "    active_muscles = []\n",
    "    for muscle in muscles:\n",
    "        if df[muscle].sum() != 0:\n",
    "            active_muscles.append(muscle)\n",
    "    return active_muscles\n",
    "\n",
    "# write a function that will take in a dataframe and return a list of muscles that are inactive (that have zero values)\n",
    "def get_inactive_muscles(df):\n",
    "    muscles = get_muscle_names()\n",
    "    inactive_muscles = []\n",
    "    for muscle in muscles:\n",
    "        if df[muscle].sum() == 0:\n",
    "            inactive_muscles.append(muscle)\n",
    "    return inactive_muscles\n",
    "\n",
    "# write a function that will take in the entire dataset and split it up by subject and event\n",
    "def split_by_subject(df):\n",
    "    grouped_df = df.groupby(['Subject','Event'])\n",
    "    # return a list of dataframes for each subject and event\n",
    "    return [grouped_df.get_group(x) for x in grouped_df.groups]\n",
    "\n",
    "# lets write an augmentation function that will take in a dataframe and augment it by zeroing out one muscle at a time\n",
    "def dataframe_to_augmented_dfs(df):\n",
    "    # get the active and inactive muscles\n",
    "    active_muscles = get_active_muscles(df)\n",
    "    inactive_muscles = get_inactive_muscles(df)\n",
    "    # make a copy of the dataframe\n",
    "    dfs = []\n",
    "    df_copy = df.copy()\n",
    "    # for each active muscle, make a copy of the dataframe and zero out that muscle\n",
    "    for muscle in active_muscles:\n",
    "        df_copy[muscle] = 0\n",
    "        dfs.append(df_copy.copy())\n",
    "        df_copy = df.copy()\n",
    "    # return the augmented dataframe\n",
    "    return dfs\n",
    "    \n",
    "\n",
    "# lets write a function that takes the original dataframe and outputs the augmented dataframe\n",
    "def augment_df(df):\n",
    "    # split the dataframe by subject and event\n",
    "    dfs = split_by_subject(df)\n",
    "    # for each dataframe, augment it and append it to a list\n",
    "    augmented_dfs = []\n",
    "    for df in dfs:\n",
    "        augmented_dfs.extend(dataframe_to_augmented_dfs(df))\n",
    "    # return the list of augmented dataframes\n",
    "    return augmented_dfs\n",
    "\n",
    "# lets write a function that will take in a list of dataframes and return a list of the x and y data\n",
    "def get_x_y_data(df):\n",
    "    x_cols, y_cols = get_cols_names()\n",
    "    x_data = []\n",
    "    y_data = []\n",
    "    x_og = []\n",
    "    dfs = augment_df(df)\n",
    "    for loop_df in dfs:\n",
    "        loop_df = loop_df.sort_values(by=['Event','Frame'])\n",
    "        x_data.append(loop_df[x_cols].values)\n",
    "        y_data.append(loop_df[y_cols].values)\n",
    "    return np.row_stack(x_data), np.row_stack(y_data)\n",
    "\n",
    "# get the data of the un-augmented dataframe\n",
    "def get_data(df):\n",
    "    x_cols, y_cols = get_cols_names()\n",
    "    groups = df.groupby(['Subject', 'Event'])\n",
    "    X = []\n",
    "    Y = []\n",
    "    for name, group in groups:\n",
    "        group = group.sort_values(by=['Event','Frame'])\n",
    "        X.append(group[x_cols].values.reshape(1, -1))\n",
    "        Y.append(group[y_cols].values[0,:])\n",
    "    X = np.row_stack(X)\n",
    "    Y = np.row_stack(Y)\n",
    "    return X, Y\n",
    "\n",
    "# create a function that will create x_og, which is the original x data with the missing data but corressponding to the un-augmented data. For each muscle the augmentor\n",
    "# will make a copy of the dataframe and zero out that muscle. Take this into account to copy the data the appropriate number of times\n",
    "def get_x_og(df):\n",
    "    x_cols, y_cols = get_cols_names()\n",
    "    muscles = get_muscle_names()\n",
    "    groups = df.groupby(['Subject', 'Event'])\n",
    "    X = []\n",
    "    Y = []\n",
    "    for name, group in groups:\n",
    "        used_muscles = get_active_muscles(group)\n",
    "        for muscle in used_muscles:\n",
    "            group = group.sort_values(by=['Event','Frame'])\n",
    "            X.append(group[x_cols].values.reshape(1, -1))\n",
    "            Y.append(group[y_cols].values[0,:])\n",
    "    X = np.row_stack(X)\n",
    "    Y = np.row_stack(Y)\n",
    "    return X, Y\n",
    "\n"
   ]
  },
  {
   "cell_type": "code",
   "execution_count": 185,
   "metadata": {},
   "outputs": [],
   "source": [
    "by_event = True # this makes it so you can switch back and forth between the format we talk about. 3 events per observation or 1 event per observation\n",
    "nframes = 1000\n",
    "n_events = 3\n",
    "n_muscles = 11"
   ]
  },
  {
   "cell_type": "code",
   "execution_count": 186,
   "metadata": {},
   "outputs": [
    {
     "data": {
      "text/plain": [
       "(array(['EH61', 'KK56', 'EK32', 'LN24', 'OP55'], dtype=object),\n",
       " array(['AO31', 'FA66', 'TS54', 'UP48', 'KE58', 'ZZ72', 'YF74', 'TO66',\n",
       "        'JX58', 'DZ62', 'BX36', 'BX24', 'EO97', 'OU92', 'NA46'],\n",
       "       dtype=object))"
      ]
     },
     "execution_count": 186,
     "metadata": {},
     "output_type": "execute_result"
    }
   ],
   "source": [
    "df = pd.read_pickle('./data/ML_Data.pkl')\n",
    "subject_dfs =  split_by_subject(df)\n",
    "# find which subjects have at least n working muscles\n",
    "n = 7\n",
    "working_subjects = []\n",
    "for subject_df in subject_dfs:\n",
    "    if len(get_active_muscles(subject_df)) >= n:\n",
    "        working_subjects.append(subject_df['Subject'].values[0])\n",
    "leave_out_df = df[~df['Subject'].isin(working_subjects)]\n",
    "df = df[df['Subject'].isin(working_subjects)]\n",
    "df['Subject'].unique(), leave_out_df['Subject'].unique()"
   ]
  },
  {
   "cell_type": "code",
   "execution_count": 187,
   "metadata": {},
   "outputs": [
    {
     "data": {
      "text/plain": [
       "(torch.Size([222, 11000]), torch.Size([222, 2]))"
      ]
     },
     "execution_count": 187,
     "metadata": {},
     "output_type": "execute_result"
    }
   ],
   "source": [
    "# get the data from the leaveout df\n",
    "leaveout_x, leaveout_y = get_x_y_data(leave_out_df)\n",
    "leaveout_x = to_torch(leaveout_x).float().reshape(-1, nframes, 11)\n",
    "if by_event:\n",
    "    leaveout_x = leaveout_x.reshape(-1, nframes*n_muscles)\n",
    "    # get the value for leaveout_y. Only grab the first value of each evnet\n",
    "    leaveout_y = leaveout_y[::nframes,:]\n",
    "else:\n",
    "    \n",
    "    leaveout_x = leaveout_x.reshape(-1,  nframes*n_muscles*n_events)\n",
    "\n",
    "leaveout_y = to_torch(leaveout_y).float()\n",
    "leaveout_x.shape, leaveout_y.shape"
   ]
  },
  {
   "cell_type": "code",
   "execution_count": 188,
   "metadata": {},
   "outputs": [
    {
     "data": {
      "text/plain": [
       "((108, 1000, 11), (108, 2), (108, 1000, 11))"
      ]
     },
     "execution_count": 188,
     "metadata": {},
     "output_type": "execute_result"
    }
   ],
   "source": [
    "\n",
    "# test get_x_y_data\n",
    "x, y = get_x_y_data(df)\n",
    "x_og, y_og = get_x_og(df)\n",
    "x = x.reshape(-1, nframes, 11)\n",
    "x_og = x_og.reshape(-1, nframes, 11)\n",
    "y = y.reshape(-1, 2)\n",
    "y = y[::nframes,:]\n",
    "x.shape, y.shape, x_og.shape"
   ]
  },
  {
   "cell_type": "code",
   "execution_count": 189,
   "metadata": {},
   "outputs": [
    {
     "data": {
      "text/plain": [
       "((15, 1000, 11), (15, 2))"
      ]
     },
     "execution_count": 189,
     "metadata": {},
     "output_type": "execute_result"
    }
   ],
   "source": [
    "# lets get the datafrom the original dataframe\n",
    "x_cols = ['Fx', 'Fy', 'Fz', 'FPL', 'APL', 'EPL', 'EPB', 'DIO', 'ADP', 'OPP','FPB']\n",
    "y_cols = ['Pain_Cohort', 'Eaton_Litter']\n",
    "x_data = df[x_cols].values\n",
    "y_data = df[y_cols].values\n",
    "x_data = x_data.reshape(-1, nframes, 11)\n",
    "y_data = y_data\n",
    "# get only the 1000'th frame of y_data\n",
    "y_data = y_data[::nframes,:]\n",
    "x_data.shape, y_data.shape"
   ]
  },
  {
   "cell_type": "code",
   "execution_count": 190,
   "metadata": {},
   "outputs": [
    {
     "data": {
      "text/plain": [
       "(108, 11000)"
      ]
     },
     "execution_count": 190,
     "metadata": {},
     "output_type": "execute_result"
    }
   ],
   "source": [
    "# convert the x dimensions depending if we want to group by trajectories or 3 trajectories\n",
    "if by_event:\n",
    "    x = x.reshape(-1, nframes*11)\n",
    "    x_data = x_data.reshape(-1, nframes*11)\n",
    "    x_og = x_og.reshape(-1, nframes*11)\n",
    "else:\n",
    "    x = x.reshape(-1, nframes*11*3)\n",
    "    x_data = x_data.reshape(-1, nframes*11*3)\n",
    "    x_og = x_og.reshape(-1, nframes*11*3)\n",
    "\n",
    "x.shape"
   ]
  },
  {
   "cell_type": "code",
   "execution_count": 191,
   "metadata": {},
   "outputs": [
    {
     "data": {
      "text/plain": [
       "[<matplotlib.lines.Line2D at 0x1f105c583a0>]"
      ]
     },
     "execution_count": 191,
     "metadata": {},
     "output_type": "execute_result"
    },
    {
     "data": {
      "image/png": "[encoded data removed]",
      "text/plain": [
       "<Figure size 640x480 with 1 Axes>"
      ]
     },
     "metadata": {},
     "output_type": "display_data"
    }
   ],
   "source": [
    "plt.plot(x[0,:])"
   ]
  },
  {
   "cell_type": "code",
   "execution_count": 192,
   "metadata": {},
   "outputs": [
    {
     "data": {
      "text/plain": [
       "((108, 11000), (15, 11000), (108, 11000), (222, 11000))"
      ]
     },
     "execution_count": 192,
     "metadata": {},
     "output_type": "execute_result"
    }
   ],
   "source": [
    "scaler = MinMaxScaler()\n",
    "x = scaler.fit_transform(x)\n",
    "x_data = scaler.transform(x_data)\n",
    "x_og = scaler.transform(x_og)\n",
    "leaveout_x = scaler.transform(leaveout_x)\n",
    "x.shape, x_data.shape, x_og.shape, leaveout_x.shape"
   ]
  },
  {
   "cell_type": "code",
   "execution_count": 193,
   "metadata": {},
   "outputs": [
    {
     "data": {
      "text/plain": [
       "(array([21.,  0.,  0., 24.,  0.,  0., 42.,  0.,  0., 21.]),\n",
       " array([1. , 1.3, 1.6, 1.9, 2.2, 2.5, 2.8, 3.1, 3.4, 3.7, 4. ]),\n",
       " <BarContainer object of 10 artists>)"
      ]
     },
     "execution_count": 193,
     "metadata": {},
     "output_type": "execute_result"
    },
    {
     "data": {
      "image/png": "[encoded data removed]",
      "text/plain": [
       "<Figure size 640x480 with 1 Axes>"
      ]
     },
     "metadata": {},
     "output_type": "display_data"
    }
   ],
   "source": [
    "plt.hist(y[:,0])\n",
    "plt.hist(y[:,1])"
   ]
  },
  {
   "cell_type": "code",
   "execution_count": 194,
   "metadata": {},
   "outputs": [
    {
     "data": {
      "text/plain": [
       "((15, 11000), (15, 2))"
      ]
     },
     "execution_count": 194,
     "metadata": {},
     "output_type": "execute_result"
    }
   ],
   "source": [
    "# plot the latent space of the un-augmented data\n",
    "X_prime, Y_prime = get_data(df)\n",
    "if by_event:\n",
    "    X_prime = X_prime.reshape(-1, nframes*11)\n",
    "else:\n",
    "    X_prime = X_prime.reshape(-1, nframes*11*3)\n",
    "\n",
    "X_prime = scaler.transform(X_prime)\n",
    "X_prime.shape, Y_prime.shape"
   ]
  },
  {
   "cell_type": "code",
   "execution_count": 195,
   "metadata": {},
   "outputs": [
    {
     "data": {
      "text/plain": [
       "(torch.Size([123, 11000]), torch.Size([123, 2]), torch.Size([123, 11000]))"
      ]
     },
     "execution_count": 195,
     "metadata": {},
     "output_type": "execute_result"
    },
    {
     "data": {
      "image/png": "[encoded data removed]",
      "text/plain": [
       "<Figure size 640x480 with 1 Axes>"
      ]
     },
     "metadata": {},
     "output_type": "display_data"
    }
   ],
   "source": [
    "X = to_torch(x)\n",
    "X_og = to_torch(x_og)\n",
    "Y = to_torch(y)\n",
    "plt.hist(Y[:,0])\n",
    "X_prime = to_torch(X_prime)\n",
    "Y_prime = to_torch(Y_prime)\n",
    "\n",
    "X = torch.cat((X, X_prime), dim=0)\n",
    "Y = torch.cat((Y, Y_prime), dim=0)\n",
    "plt.hist(Y[:,0])\n",
    "X_og = torch.cat((X_og, X_prime), dim=0)\n",
    "X.shape, Y.shape, X_og.shape"
   ]
  },
  {
   "cell_type": "code",
   "execution_count": 196,
   "metadata": {},
   "outputs": [
    {
     "data": {
      "text/plain": [
       "(array([42.,  0.,  0.,  0.,  0.,  0.,  0.,  0.,  0., 66.]),\n",
       " array([0. , 0.1, 0.2, 0.3, 0.4, 0.5, 0.6, 0.7, 0.8, 0.9, 1. ]),\n",
       " <BarContainer object of 10 artists>)"
      ]
     },
     "execution_count": 196,
     "metadata": {},
     "output_type": "execute_result"
    },
    {
     "data": {
      "image/png": "[encoded data removed]",
      "text/plain": [
       "<Figure size 640x480 with 1 Axes>"
      ]
     },
     "metadata": {},
     "output_type": "display_data"
    }
   ],
   "source": [
    "plt.hist(y[:,0])"
   ]
  },
  {
   "cell_type": "code",
   "execution_count": 197,
   "metadata": {},
   "outputs": [
    {
     "data": {
      "image/png": "[encoded data removed]",
      "image/svg+xml": [
       "<?xml version=\"1.0\" encoding=\"utf-8\" standalone=\"no\"?>\n",
       "<!DOCTYPE svg PUBLIC \"-//W3C//DTD SVG 1.1//EN\"\n",
       "  \"http://www.w3.org/Graphics/SVG/1.1/DTD/svg11.dtd\">\n",
       "<svg xmlns:xlink=\"http://www.w3.org/1999/xlink\" width=\"872.39952pt\" height=\"152.406273pt\" viewBox=\"0 0 872.39952 152.406273\" xmlns=\"http://www.w3.org/2000/svg\" version=\"1.1\">\n",
       " <metadata>\n",
       "  <rdf:RDF xmlns:dc=\"http://purl.org/dc/elements/1.1/\" xmlns:cc=\"http://creativecommons.org/ns#\" xmlns:rdf=\"http://www.w3.org/1999/02/22-rdf-syntax-ns#\">\n",
       "   <cc:Work>\n",
       "    <dc:type rdf:resource=\"http://purl.org/dc/dcmitype/StillImage\"/>\n",
       "    <dc:format>image/svg+xml</dc:format>\n",
       "    <dc:creator>\n",
       "     <cc:Agent>\n",
       "      <dc:title>Matplotlib, https://matplotlib.org/</dc:title>\n",
       "     </cc:Agent>\n",
       "    </dc:creator>\n",
       "   </cc:Work>\n",
       "  </rdf:RDF>\n",
       " </metadata>\n",
       " <defs>\n",
       "  <style type=\"text/css\">*{stroke-linejoin: round; stroke-linecap: butt}</style>\n",
       " </defs>\n",
       " <g id=\"figure_1\">\n",
       "  <g id=\"patch_1\">\n",
       "   <path d=\"M 0 152.406273 \n",
       "L 872.39952 152.406273 \n",
       "L 872.39952 0 \n",
       "L 0 0 \n",
       "z\n",
       "\" style=\"fill: #ffffff\"/>\n",
       "  </g>\n",
       "  <g id=\"axes_1\">\n",
       "   <g id=\"patch_2\">\n",
       "    <path d=\"M 10.7 128.528148 \n",
       "L 865.19952 128.528148 \n",
       "L 865.19952 20.214138 \n",
       "L 10.7 20.214138 \n",
       "z\n",
       "\" style=\"fill: #ffffff\"/>\n",
       "   </g>\n",
       "   <g id=\"matplotlib.axis_1\">\n",
       "    <g id=\"xtick_1\">\n",
       "     <g id=\"line2d_1\">\n",
       "      <defs>\n",
       "       <path id=\"m8f1de1206a\" d=\"M 0 0 \n",
       "L 0 3.5 \n",
       "\" style=\"stroke: #000000; stroke-width: 0.8\"/>\n",
       "      </defs>\n",
       "      <g>\n",
       "       <use xlink:href=\"#m8f1de1206a\" x=\"27.126365\" y=\"128.528148\" style=\"stroke: #000000; stroke-width: 0.8\"/>\n",
       "      </g>\n",
       "     </g>\n",
       "     <g id=\"text_1\">\n",
       "      <!-- −1.00 -->\n",
       "      <g transform=\"translate(11.803709 143.126585) scale(0.1 -0.1)\">\n",
       "       <defs>\n",
       "        <path id=\"DejaVuSans-2212\" d=\"M 678 2272 \n",
       "L 4684 2272 \n",
       "L 4684 1741 \n",
       "L 678 1741 \n",
       "L 678 2272 \n",
       "z\n",
       "\" transform=\"scale(0.015625)\"/>\n",
       "        <path id=\"DejaVuSans-31\" d=\"M 794 531 \n",
       "L 1825 531 \n",
       "L 1825 4091 \n",
       "L 703 3866 \n",
       "L 703 4441 \n",
       "L 1819 4666 \n",
       "L 2450 4666 \n",
       "L 2450 531 \n",
       "L 3481 531 \n",
       "L 3481 0 \n",
       "L 794 0 \n",
       "L 794 531 \n",
       "z\n",
       "\" transform=\"scale(0.015625)\"/>\n",
       "        <path id=\"DejaVuSans-2e\" d=\"M 684 794 \n",
       "L 1344 794 \n",
       "L 1344 0 \n",
       "L 684 0 \n",
       "L 684 794 \n",
       "z\n",
       "\" transform=\"scale(0.015625)\"/>\n",
       "        <path id=\"DejaVuSans-30\" d=\"M 2034 4250 \n",
       "Q 1547 4250 1301 3770 \n",
       "Q 1056 3291 1056 2328 \n",
       "Q 1056 1369 1301 889 \n",
       "Q 1547 409 2034 409 \n",
       "Q 2525 409 2770 889 \n",
       "Q 3016 1369 3016 2328 \n",
       "Q 3016 3291 2770 3770 \n",
       "Q 2525 4250 2034 4250 \n",
       "z\n",
       "M 2034 4750 \n",
       "Q 2819 4750 3233 4129 \n",
       "Q 3647 3509 3647 2328 \n",
       "Q 3647 1150 3233 529 \n",
       "Q 2819 -91 2034 -91 \n",
       "Q 1250 -91 836 529 \n",
       "Q 422 1150 422 2328 \n",
       "Q 422 3509 836 4129 \n",
       "Q 1250 4750 2034 4750 \n",
       "z\n",
       "\" transform=\"scale(0.015625)\"/>\n",
       "       </defs>\n",
       "       <use xlink:href=\"#DejaVuSans-2212\"/>\n",
       "       <use xlink:href=\"#DejaVuSans-31\" x=\"83.789062\"/>\n",
       "       <use xlink:href=\"#DejaVuSans-2e\" x=\"147.412109\"/>\n",
       "       <use xlink:href=\"#DejaVuSans-30\" x=\"179.199219\"/>\n",
       "       <use xlink:href=\"#DejaVuSans-30\" x=\"242.822266\"/>\n",
       "      </g>\n",
       "     </g>\n",
       "    </g>\n",
       "    <g id=\"xtick_2\">\n",
       "     <g id=\"line2d_2\">\n",
       "      <g>\n",
       "       <use xlink:href=\"#m8f1de1206a\" x=\"129.791148\" y=\"128.528148\" style=\"stroke: #000000; stroke-width: 0.8\"/>\n",
       "      </g>\n",
       "     </g>\n",
       "     <g id=\"text_2\">\n",
       "      <!-- −0.75 -->\n",
       "      <g transform=\"translate(114.468492 143.126585) scale(0.1 -0.1)\">\n",
       "       <defs>\n",
       "        <path id=\"DejaVuSans-37\" d=\"M 525 4666 \n",
       "L 3525 4666 \n",
       "L 3525 4397 \n",
       "L 1831 0 \n",
       "L 1172 0 \n",
       "L 2766 4134 \n",
       "L 525 4134 \n",
       "L 525 4666 \n",
       "z\n",
       "\" transform=\"scale(0.015625)\"/>\n",
       "        <path id=\"DejaVuSans-35\" d=\"M 691 4666 \n",
       "L 3169 4666 \n",
       "L 3169 4134 \n",
       "L 1269 4134 \n",
       "L 1269 2991 \n",
       "Q 1406 3038 1543 3061 \n",
       "Q 1681 3084 1819 3084 \n",
       "Q 2600 3084 3056 2656 \n",
       "Q 3513 2228 3513 1497 \n",
       "Q 3513 744 3044 326 \n",
       "Q 2575 -91 1722 -91 \n",
       "Q 1428 -91 1123 -41 \n",
       "Q 819 9 494 109 \n",
       "L 494 744 \n",
       "Q 775 591 1075 516 \n",
       "Q 1375 441 1709 441 \n",
       "Q 2250 441 2565 725 \n",
       "Q 2881 1009 2881 1497 \n",
       "Q 2881 1984 2565 2268 \n",
       "Q 2250 2553 1709 2553 \n",
       "Q 1456 2553 1204 2497 \n",
       "Q 953 2441 691 2322 \n",
       "L 691 4666 \n",
       "z\n",
       "\" transform=\"scale(0.015625)\"/>\n",
       "       </defs>\n",
       "       <use xlink:href=\"#DejaVuSans-2212\"/>\n",
       "       <use xlink:href=\"#DejaVuSans-30\" x=\"83.789062\"/>\n",
       "       <use xlink:href=\"#DejaVuSans-2e\" x=\"147.412109\"/>\n",
       "       <use xlink:href=\"#DejaVuSans-37\" x=\"179.199219\"/>\n",
       "       <use xlink:href=\"#DejaVuSans-35\" x=\"242.822266\"/>\n",
       "      </g>\n",
       "     </g>\n",
       "    </g>\n",
       "    <g id=\"xtick_3\">\n",
       "     <g id=\"line2d_3\">\n",
       "      <g>\n",
       "       <use xlink:href=\"#m8f1de1206a\" x=\"232.455931\" y=\"128.528148\" style=\"stroke: #000000; stroke-width: 0.8\"/>\n",
       "      </g>\n",
       "     </g>\n",
       "     <g id=\"text_3\">\n",
       "      <!-- −0.50 -->\n",
       "      <g transform=\"translate(217.133275 143.126585) scale(0.1 -0.1)\">\n",
       "       <use xlink:href=\"#DejaVuSans-2212\"/>\n",
       "       <use xlink:href=\"#DejaVuSans-30\" x=\"83.789062\"/>\n",
       "       <use xlink:href=\"#DejaVuSans-2e\" x=\"147.412109\"/>\n",
       "       <use xlink:href=\"#DejaVuSans-35\" x=\"179.199219\"/>\n",
       "       <use xlink:href=\"#DejaVuSans-30\" x=\"242.822266\"/>\n",
       "      </g>\n",
       "     </g>\n",
       "    </g>\n",
       "    <g id=\"xtick_4\">\n",
       "     <g id=\"line2d_4\">\n",
       "      <g>\n",
       "       <use xlink:href=\"#m8f1de1206a\" x=\"335.120714\" y=\"128.528148\" style=\"stroke: #000000; stroke-width: 0.8\"/>\n",
       "      </g>\n",
       "     </g>\n",
       "     <g id=\"text_4\">\n",
       "      <!-- −0.25 -->\n",
       "      <g transform=\"translate(319.798057 143.126585) scale(0.1 -0.1)\">\n",
       "       <defs>\n",
       "        <path id=\"DejaVuSans-32\" d=\"M 1228 531 \n",
       "L 3431 531 \n",
       "L 3431 0 \n",
       "L 469 0 \n",
       "L 469 531 \n",
       "Q 828 903 1448 1529 \n",
       "Q 2069 2156 2228 2338 \n",
       "Q 2531 2678 2651 2914 \n",
       "Q 2772 3150 2772 3378 \n",
       "Q 2772 3750 2511 3984 \n",
       "Q 2250 4219 1831 4219 \n",
       "Q 1534 4219 1204 4116 \n",
       "Q 875 4013 500 3803 \n",
       "L 500 4441 \n",
       "Q 881 4594 1212 4672 \n",
       "Q 1544 4750 1819 4750 \n",
       "Q 2544 4750 2975 4387 \n",
       "Q 3406 4025 3406 3419 \n",
       "Q 3406 3131 3298 2873 \n",
       "Q 3191 2616 2906 2266 \n",
       "Q 2828 2175 2409 1742 \n",
       "Q 1991 1309 1228 531 \n",
       "z\n",
       "\" transform=\"scale(0.015625)\"/>\n",
       "       </defs>\n",
       "       <use xlink:href=\"#DejaVuSans-2212\"/>\n",
       "       <use xlink:href=\"#DejaVuSans-30\" x=\"83.789062\"/>\n",
       "       <use xlink:href=\"#DejaVuSans-2e\" x=\"147.412109\"/>\n",
       "       <use xlink:href=\"#DejaVuSans-32\" x=\"179.199219\"/>\n",
       "       <use xlink:href=\"#DejaVuSans-35\" x=\"242.822266\"/>\n",
       "      </g>\n",
       "     </g>\n",
       "    </g>\n",
       "    <g id=\"xtick_5\">\n",
       "     <g id=\"line2d_5\">\n",
       "      <g>\n",
       "       <use xlink:href=\"#m8f1de1206a\" x=\"437.785496\" y=\"128.528148\" style=\"stroke: #000000; stroke-width: 0.8\"/>\n",
       "      </g>\n",
       "     </g>\n",
       "     <g id=\"text_5\">\n",
       "      <!-- 0.00 -->\n",
       "      <g transform=\"translate(426.652684 143.126585) scale(0.1 -0.1)\">\n",
       "       <use xlink:href=\"#DejaVuSans-30\"/>\n",
       "       <use xlink:href=\"#DejaVuSans-2e\" x=\"63.623047\"/>\n",
       "       <use xlink:href=\"#DejaVuSans-30\" x=\"95.410156\"/>\n",
       "       <use xlink:href=\"#DejaVuSans-30\" x=\"159.033203\"/>\n",
       "      </g>\n",
       "     </g>\n",
       "    </g>\n",
       "    <g id=\"xtick_6\">\n",
       "     <g id=\"line2d_6\">\n",
       "      <g>\n",
       "       <use xlink:href=\"#m8f1de1206a\" x=\"540.450279\" y=\"128.528148\" style=\"stroke: #000000; stroke-width: 0.8\"/>\n",
       "      </g>\n",
       "     </g>\n",
       "     <g id=\"text_6\">\n",
       "      <!-- 0.25 -->\n",
       "      <g transform=\"translate(529.317467 143.126585) scale(0.1 -0.1)\">\n",
       "       <use xlink:href=\"#DejaVuSans-30\"/>\n",
       "       <use xlink:href=\"#DejaVuSans-2e\" x=\"63.623047\"/>\n",
       "       <use xlink:href=\"#DejaVuSans-32\" x=\"95.410156\"/>\n",
       "       <use xlink:href=\"#DejaVuSans-35\" x=\"159.033203\"/>\n",
       "      </g>\n",
       "     </g>\n",
       "    </g>\n",
       "    <g id=\"xtick_7\">\n",
       "     <g id=\"line2d_7\">\n",
       "      <g>\n",
       "       <use xlink:href=\"#m8f1de1206a\" x=\"643.115062\" y=\"128.528148\" style=\"stroke: #000000; stroke-width: 0.8\"/>\n",
       "      </g>\n",
       "     </g>\n",
       "     <g id=\"text_7\">\n",
       "      <!-- 0.50 -->\n",
       "      <g transform=\"translate(631.982249 143.126585) scale(0.1 -0.1)\">\n",
       "       <use xlink:href=\"#DejaVuSans-30\"/>\n",
       "       <use xlink:href=\"#DejaVuSans-2e\" x=\"63.623047\"/>\n",
       "       <use xlink:href=\"#DejaVuSans-35\" x=\"95.410156\"/>\n",
       "       <use xlink:href=\"#DejaVuSans-30\" x=\"159.033203\"/>\n",
       "      </g>\n",
       "     </g>\n",
       "    </g>\n",
       "    <g id=\"xtick_8\">\n",
       "     <g id=\"line2d_8\">\n",
       "      <g>\n",
       "       <use xlink:href=\"#m8f1de1206a\" x=\"745.779845\" y=\"128.528148\" style=\"stroke: #000000; stroke-width: 0.8\"/>\n",
       "      </g>\n",
       "     </g>\n",
       "     <g id=\"text_8\">\n",
       "      <!-- 0.75 -->\n",
       "      <g transform=\"translate(734.647032 143.126585) scale(0.1 -0.1)\">\n",
       "       <use xlink:href=\"#DejaVuSans-30\"/>\n",
       "       <use xlink:href=\"#DejaVuSans-2e\" x=\"63.623047\"/>\n",
       "       <use xlink:href=\"#DejaVuSans-37\" x=\"95.410156\"/>\n",
       "       <use xlink:href=\"#DejaVuSans-35\" x=\"159.033203\"/>\n",
       "      </g>\n",
       "     </g>\n",
       "    </g>\n",
       "    <g id=\"xtick_9\">\n",
       "     <g id=\"line2d_9\">\n",
       "      <g>\n",
       "       <use xlink:href=\"#m8f1de1206a\" x=\"848.444627\" y=\"128.528148\" style=\"stroke: #000000; stroke-width: 0.8\"/>\n",
       "      </g>\n",
       "     </g>\n",
       "     <g id=\"text_9\">\n",
       "      <!-- 1.00 -->\n",
       "      <g transform=\"translate(837.311815 143.126585) scale(0.1 -0.1)\">\n",
       "       <use xlink:href=\"#DejaVuSans-31\"/>\n",
       "       <use xlink:href=\"#DejaVuSans-2e\" x=\"63.623047\"/>\n",
       "       <use xlink:href=\"#DejaVuSans-30\" x=\"95.410156\"/>\n",
       "       <use xlink:href=\"#DejaVuSans-30\" x=\"159.033203\"/>\n",
       "      </g>\n",
       "     </g>\n",
       "    </g>\n",
       "   </g>\n",
       "   <g id=\"matplotlib.axis_2\"/>\n",
       "   <g id=\"line2d_10\">\n",
       "    <path d=\"M 487.046554 128.528148 \n",
       "L 487.046554 20.214138 \n",
       "\" clip-path=\"url(#p2486563038)\" style=\"fill: none; stroke: #000000; stroke-width: 1.5; stroke-linecap: square\"/>\n",
       "   </g>\n",
       "   <g id=\"line2d_11\">\n",
       "    <path d=\"M 688.187412 128.528148 \n",
       "L 688.187412 20.214138 \n",
       "\" clip-path=\"url(#p2486563038)\" style=\"fill: none; stroke: #000000; stroke-width: 1.5; stroke-linecap: square\"/>\n",
       "   </g>\n",
       "   <g id=\"line2d_12\">\n",
       "    <path d=\"M 437.785496 128.528148 \n",
       "L 437.785496 20.214138 \n",
       "\" clip-path=\"url(#p2486563038)\" style=\"fill: none; stroke: #ff0000; stroke-width: 1.5; stroke-linecap: square\"/>\n",
       "   </g>\n",
       "   <g id=\"line2d_13\">\n",
       "    <path d=\"M 848.444627 128.528148 \n",
       "L 848.444627 20.214138 \n",
       "\" clip-path=\"url(#p2486563038)\" style=\"fill: none; stroke: #ff0000; stroke-width: 1.5; stroke-linecap: square\"/>\n",
       "   </g>\n",
       "   <g id=\"patch_3\">\n",
       "    <path d=\"M 10.7 128.528148 \n",
       "L 10.7 20.214138 \n",
       "\" style=\"fill: none; stroke: #000000; stroke-width: 0.8; stroke-linejoin: miter; stroke-linecap: square\"/>\n",
       "   </g>\n",
       "   <g id=\"patch_4\">\n",
       "    <path d=\"M 865.19952 128.528148 \n",
       "L 865.19952 20.214138 \n",
       "\" style=\"fill: none; stroke: #000000; stroke-width: 0.8; stroke-linejoin: miter; stroke-linecap: square\"/>\n",
       "   </g>\n",
       "   <g id=\"patch_5\">\n",
       "    <path d=\"M 10.7 128.528148 \n",
       "L 865.19952 128.528148 \n",
       "\" style=\"fill: none; stroke: #000000; stroke-width: 0.8; stroke-linejoin: miter; stroke-linecap: square\"/>\n",
       "   </g>\n",
       "   <g id=\"patch_6\">\n",
       "    <path d=\"M 10.7 20.214138 \n",
       "L 865.19952 20.214138 \n",
       "\" style=\"fill: none; stroke: #000000; stroke-width: 0.8; stroke-linejoin: miter; stroke-linecap: square\"/>\n",
       "   </g>\n",
       "   <g id=\"text_10\">\n",
       "    <g id=\"patch_7\">\n",
       "     <path d=\"M 436.785496 92.759424 \n",
       "L 436.785496 55.982862 \n",
       "Q 436.785496 55.982862 436.785496 55.982862 \n",
       "L 427.107371 55.982862 \n",
       "Q 427.107371 55.982862 427.107371 55.982862 \n",
       "L 427.107371 92.759424 \n",
       "Q 427.107371 92.759424 427.107371 92.759424 \n",
       "L 436.785496 92.759424 \n",
       "Q 436.785496 92.759424 436.785496 92.759424 \n",
       "z\n",
       "\" style=\"fill: #ffffff\"/>\n",
       "    </g>\n",
       "    <!-- min=0. -->\n",
       "    <g transform=\"translate(434.705809 92.759424) rotate(-90) scale(0.1 -0.1)\">\n",
       "     <defs>\n",
       "      <path id=\"DejaVuSans-6d\" d=\"M 3328 2828 \n",
       "Q 3544 3216 3844 3400 \n",
       "Q 4144 3584 4550 3584 \n",
       "Q 5097 3584 5394 3201 \n",
       "Q 5691 2819 5691 2113 \n",
       "L 5691 0 \n",
       "L 5113 0 \n",
       "L 5113 2094 \n",
       "Q 5113 2597 4934 2840 \n",
       "Q 4756 3084 4391 3084 \n",
       "Q 3944 3084 3684 2787 \n",
       "Q 3425 2491 3425 1978 \n",
       "L 3425 0 \n",
       "L 2847 0 \n",
       "L 2847 2094 \n",
       "Q 2847 2600 2669 2842 \n",
       "Q 2491 3084 2119 3084 \n",
       "Q 1678 3084 1418 2786 \n",
       "Q 1159 2488 1159 1978 \n",
       "L 1159 0 \n",
       "L 581 0 \n",
       "L 581 3500 \n",
       "L 1159 3500 \n",
       "L 1159 2956 \n",
       "Q 1356 3278 1631 3431 \n",
       "Q 1906 3584 2284 3584 \n",
       "Q 2666 3584 2933 3390 \n",
       "Q 3200 3197 3328 2828 \n",
       "z\n",
       "\" transform=\"scale(0.015625)\"/>\n",
       "      <path id=\"DejaVuSans-69\" d=\"M 603 3500 \n",
       "L 1178 3500 \n",
       "L 1178 0 \n",
       "L 603 0 \n",
       "L 603 3500 \n",
       "z\n",
       "M 603 4863 \n",
       "L 1178 4863 \n",
       "L 1178 4134 \n",
       "L 603 4134 \n",
       "L 603 4863 \n",
       "z\n",
       "\" transform=\"scale(0.015625)\"/>\n",
       "      <path id=\"DejaVuSans-6e\" d=\"M 3513 2113 \n",
       "L 3513 0 \n",
       "L 2938 0 \n",
       "L 2938 2094 \n",
       "Q 2938 2591 2744 2837 \n",
       "Q 2550 3084 2163 3084 \n",
       "Q 1697 3084 1428 2787 \n",
       "Q 1159 2491 1159 1978 \n",
       "L 1159 0 \n",
       "L 581 0 \n",
       "L 581 3500 \n",
       "L 1159 3500 \n",
       "L 1159 2956 \n",
       "Q 1366 3272 1645 3428 \n",
       "Q 1925 3584 2291 3584 \n",
       "Q 2894 3584 3203 3211 \n",
       "Q 3513 2838 3513 2113 \n",
       "z\n",
       "\" transform=\"scale(0.015625)\"/>\n",
       "      <path id=\"DejaVuSans-3d\" d=\"M 678 2906 \n",
       "L 4684 2906 \n",
       "L 4684 2381 \n",
       "L 678 2381 \n",
       "L 678 2906 \n",
       "z\n",
       "M 678 1631 \n",
       "L 4684 1631 \n",
       "L 4684 1100 \n",
       "L 678 1100 \n",
       "L 678 1631 \n",
       "z\n",
       "\" transform=\"scale(0.015625)\"/>\n",
       "     </defs>\n",
       "     <use xlink:href=\"#DejaVuSans-6d\"/>\n",
       "     <use xlink:href=\"#DejaVuSans-69\" x=\"97.412109\"/>\n",
       "     <use xlink:href=\"#DejaVuSans-6e\" x=\"125.195312\"/>\n",
       "     <use xlink:href=\"#DejaVuSans-3d\" x=\"188.574219\"/>\n",
       "     <use xlink:href=\"#DejaVuSans-30\" x=\"272.363281\"/>\n",
       "     <use xlink:href=\"#DejaVuSans-2e\" x=\"335.986328\"/>\n",
       "    </g>\n",
       "   </g>\n",
       "   <g id=\"text_11\">\n",
       "    <g id=\"patch_8\">\n",
       "     <path d=\"M 860.122752 103.768799 \n",
       "L 860.122752 44.973487 \n",
       "Q 860.122752 44.973487 860.122752 44.973487 \n",
       "L 850.444627 44.973487 \n",
       "Q 850.444627 44.973487 850.444627 44.973487 \n",
       "L 850.444627 103.768799 \n",
       "Q 850.444627 103.768799 850.444627 103.768799 \n",
       "L 860.122752 103.768799 \n",
       "Q 860.122752 103.768799 860.122752 103.768799 \n",
       "z\n",
       "\" style=\"fill: #ffffff\"/>\n",
       "    </g>\n",
       "    <!-- max=1.000 -->\n",
       "    <g transform=\"translate(858.043065 103.768799) rotate(-90) scale(0.1 -0.1)\">\n",
       "     <defs>\n",
       "      <path id=\"DejaVuSans-61\" d=\"M 2194 1759 \n",
       "Q 1497 1759 1228 1600 \n",
       "Q 959 1441 959 1056 \n",
       "Q 959 750 1161 570 \n",
       "Q 1363 391 1709 391 \n",
       "Q 2188 391 2477 730 \n",
       "Q 2766 1069 2766 1631 \n",
       "L 2766 1759 \n",
       "L 2194 1759 \n",
       "z\n",
       "M 3341 1997 \n",
       "L 3341 0 \n",
       "L 2766 0 \n",
       "L 2766 531 \n",
       "Q 2569 213 2275 61 \n",
       "Q 1981 -91 1556 -91 \n",
       "Q 1019 -91 701 211 \n",
       "Q 384 513 384 1019 \n",
       "Q 384 1609 779 1909 \n",
       "Q 1175 2209 1959 2209 \n",
       "L 2766 2209 \n",
       "L 2766 2266 \n",
       "Q 2766 2663 2505 2880 \n",
       "Q 2244 3097 1772 3097 \n",
       "Q 1472 3097 1187 3025 \n",
       "Q 903 2953 641 2809 \n",
       "L 641 3341 \n",
       "Q 956 3463 1253 3523 \n",
       "Q 1550 3584 1831 3584 \n",
       "Q 2591 3584 2966 3190 \n",
       "Q 3341 2797 3341 1997 \n",
       "z\n",
       "\" transform=\"scale(0.015625)\"/>\n",
       "      <path id=\"DejaVuSans-78\" d=\"M 3513 3500 \n",
       "L 2247 1797 \n",
       "L 3578 0 \n",
       "L 2900 0 \n",
       "L 1881 1375 \n",
       "L 863 0 \n",
       "L 184 0 \n",
       "L 1544 1831 \n",
       "L 300 3500 \n",
       "L 978 3500 \n",
       "L 1906 2253 \n",
       "L 2834 3500 \n",
       "L 3513 3500 \n",
       "z\n",
       "\" transform=\"scale(0.015625)\"/>\n",
       "     </defs>\n",
       "     <use xlink:href=\"#DejaVuSans-6d\"/>\n",
       "     <use xlink:href=\"#DejaVuSans-61\" x=\"97.412109\"/>\n",
       "     <use xlink:href=\"#DejaVuSans-78\" x=\"158.691406\"/>\n",
       "     <use xlink:href=\"#DejaVuSans-3d\" x=\"217.871094\"/>\n",
       "     <use xlink:href=\"#DejaVuSans-31\" x=\"301.660156\"/>\n",
       "     <use xlink:href=\"#DejaVuSans-2e\" x=\"365.283203\"/>\n",
       "     <use xlink:href=\"#DejaVuSans-30\" x=\"397.070312\"/>\n",
       "     <use xlink:href=\"#DejaVuSans-30\" x=\"460.693359\"/>\n",
       "     <use xlink:href=\"#DejaVuSans-30\" x=\"524.316406\"/>\n",
       "    </g>\n",
       "   </g>\n",
       "   <g id=\"text_12\">\n",
       "    <!-- tensor[123] x∈[0., 1.000] μ=0.610 σ=0.490 -->\n",
       "    <g transform=\"translate(10.7 14.798437) scale(0.1 -0.1)\">\n",
       "     <defs>\n",
       "      <path id=\"DejaVuSans-74\" d=\"M 1172 4494 \n",
       "L 1172 3500 \n",
       "L 2356 3500 \n",
       "L 2356 3053 \n",
       "L 1172 3053 \n",
       "L 1172 1153 \n",
       "Q 1172 725 1289 603 \n",
       "Q 1406 481 1766 481 \n",
       "L 2356 481 \n",
       "L 2356 0 \n",
       "L 1766 0 \n",
       "Q 1100 0 847 248 \n",
       "Q 594 497 594 1153 \n",
       "L 594 3053 \n",
       "L 172 3053 \n",
       "L 172 3500 \n",
       "L 594 3500 \n",
       "L 594 4494 \n",
       "L 1172 4494 \n",
       "z\n",
       "\" transform=\"scale(0.015625)\"/>\n",
       "      <path id=\"DejaVuSans-65\" d=\"M 3597 1894 \n",
       "L 3597 1613 \n",
       "L 953 1613 \n",
       "Q 991 1019 1311 708 \n",
       "Q 1631 397 2203 397 \n",
       "Q 2534 397 2845 478 \n",
       "Q 3156 559 3463 722 \n",
       "L 3463 178 \n",
       "Q 3153 47 2828 -22 \n",
       "Q 2503 -91 2169 -91 \n",
       "Q 1331 -91 842 396 \n",
       "Q 353 884 353 1716 \n",
       "Q 353 2575 817 3079 \n",
       "Q 1281 3584 2069 3584 \n",
       "Q 2775 3584 3186 3129 \n",
       "Q 3597 2675 3597 1894 \n",
       "z\n",
       "M 3022 2063 \n",
       "Q 3016 2534 2758 2815 \n",
       "Q 2500 3097 2075 3097 \n",
       "Q 1594 3097 1305 2825 \n",
       "Q 1016 2553 972 2059 \n",
       "L 3022 2063 \n",
       "z\n",
       "\" transform=\"scale(0.015625)\"/>\n",
       "      <path id=\"DejaVuSans-73\" d=\"M 2834 3397 \n",
       "L 2834 2853 \n",
       "Q 2591 2978 2328 3040 \n",
       "Q 2066 3103 1784 3103 \n",
       "Q 1356 3103 1142 2972 \n",
       "Q 928 2841 928 2578 \n",
       "Q 928 2378 1081 2264 \n",
       "Q 1234 2150 1697 2047 \n",
       "L 1894 2003 \n",
       "Q 2506 1872 2764 1633 \n",
       "Q 3022 1394 3022 966 \n",
       "Q 3022 478 2636 193 \n",
       "Q 2250 -91 1575 -91 \n",
       "Q 1294 -91 989 -36 \n",
       "Q 684 19 347 128 \n",
       "L 347 722 \n",
       "Q 666 556 975 473 \n",
       "Q 1284 391 1588 391 \n",
       "Q 1994 391 2212 530 \n",
       "Q 2431 669 2431 922 \n",
       "Q 2431 1156 2273 1281 \n",
       "Q 2116 1406 1581 1522 \n",
       "L 1381 1569 \n",
       "Q 847 1681 609 1914 \n",
       "Q 372 2147 372 2553 \n",
       "Q 372 3047 722 3315 \n",
       "Q 1072 3584 1716 3584 \n",
       "Q 2034 3584 2315 3537 \n",
       "Q 2597 3491 2834 3397 \n",
       "z\n",
       "\" transform=\"scale(0.015625)\"/>\n",
       "      <path id=\"DejaVuSans-6f\" d=\"M 1959 3097 \n",
       "Q 1497 3097 1228 2736 \n",
       "Q 959 2375 959 1747 \n",
       "Q 959 1119 1226 758 \n",
       "Q 1494 397 1959 397 \n",
       "Q 2419 397 2687 759 \n",
       "Q 2956 1122 2956 1747 \n",
       "Q 2956 2369 2687 2733 \n",
       "Q 2419 3097 1959 3097 \n",
       "z\n",
       "M 1959 3584 \n",
       "Q 2709 3584 3137 3096 \n",
       "Q 3566 2609 3566 1747 \n",
       "Q 3566 888 3137 398 \n",
       "Q 2709 -91 1959 -91 \n",
       "Q 1206 -91 779 398 \n",
       "Q 353 888 353 1747 \n",
       "Q 353 2609 779 3096 \n",
       "Q 1206 3584 1959 3584 \n",
       "z\n",
       "\" transform=\"scale(0.015625)\"/>\n",
       "      <path id=\"DejaVuSans-72\" d=\"M 2631 2963 \n",
       "Q 2534 3019 2420 3045 \n",
       "Q 2306 3072 2169 3072 \n",
       "Q 1681 3072 1420 2755 \n",
       "Q 1159 2438 1159 1844 \n",
       "L 1159 0 \n",
       "L 581 0 \n",
       "L 581 3500 \n",
       "L 1159 3500 \n",
       "L 1159 2956 \n",
       "Q 1341 3275 1631 3429 \n",
       "Q 1922 3584 2338 3584 \n",
       "Q 2397 3584 2469 3576 \n",
       "Q 2541 3569 2628 3553 \n",
       "L 2631 2963 \n",
       "z\n",
       "\" transform=\"scale(0.015625)\"/>\n",
       "      <path id=\"DejaVuSans-5b\" d=\"M 550 4863 \n",
       "L 1875 4863 \n",
       "L 1875 4416 \n",
       "L 1125 4416 \n",
       "L 1125 -397 \n",
       "L 1875 -397 \n",
       "L 1875 -844 \n",
       "L 550 -844 \n",
       "L 550 4863 \n",
       "z\n",
       "\" transform=\"scale(0.015625)\"/>\n",
       "      <path id=\"DejaVuSans-33\" d=\"M 2597 2516 \n",
       "Q 3050 2419 3304 2112 \n",
       "Q 3559 1806 3559 1356 \n",
       "Q 3559 666 3084 287 \n",
       "Q 2609 -91 1734 -91 \n",
       "Q 1441 -91 1130 -33 \n",
       "Q 819 25 488 141 \n",
       "L 488 750 \n",
       "Q 750 597 1062 519 \n",
       "Q 1375 441 1716 441 \n",
       "Q 2309 441 2620 675 \n",
       "Q 2931 909 2931 1356 \n",
       "Q 2931 1769 2642 2001 \n",
       "Q 2353 2234 1838 2234 \n",
       "L 1294 2234 \n",
       "L 1294 2753 \n",
       "L 1863 2753 \n",
       "Q 2328 2753 2575 2939 \n",
       "Q 2822 3125 2822 3475 \n",
       "Q 2822 3834 2567 4026 \n",
       "Q 2313 4219 1838 4219 \n",
       "Q 1578 4219 1281 4162 \n",
       "Q 984 4106 628 3988 \n",
       "L 628 4550 \n",
       "Q 988 4650 1302 4700 \n",
       "Q 1616 4750 1894 4750 \n",
       "Q 2613 4750 3031 4423 \n",
       "Q 3450 4097 3450 3541 \n",
       "Q 3450 3153 3228 2886 \n",
       "Q 3006 2619 2597 2516 \n",
       "z\n",
       "\" transform=\"scale(0.015625)\"/>\n",
       "      <path id=\"DejaVuSans-5d\" d=\"M 1947 4863 \n",
       "L 1947 -844 \n",
       "L 622 -844 \n",
       "L 622 -397 \n",
       "L 1369 -397 \n",
       "L 1369 4416 \n",
       "L 622 4416 \n",
       "L 622 4863 \n",
       "L 1947 4863 \n",
       "z\n",
       "\" transform=\"scale(0.015625)\"/>\n",
       "      <path id=\"DejaVuSans-20\" transform=\"scale(0.015625)\"/>\n",
       "      <path id=\"DejaVuSans-2208\" d=\"M 1072 1959 \n",
       "Q 1094 1728 1291 1353 \n",
       "Q 1522 919 1959 675 \n",
       "Q 2388 438 2850 434 \n",
       "L 5028 434 \n",
       "L 5028 -63 \n",
       "L 2850 -63 \n",
       "Q 2250 -63 1695 246 \n",
       "Q 1141 556 844 1106 \n",
       "Q 547 1656 547 2241 \n",
       "Q 547 2819 844 3369 \n",
       "Q 1141 3919 1695 4231 \n",
       "Q 2250 4544 2850 4544 \n",
       "L 5028 4544 \n",
       "L 5028 4047 \n",
       "L 2850 4047 \n",
       "Q 2388 4044 1959 3803 \n",
       "Q 1525 3556 1291 3125 \n",
       "Q 1091 2750 1063 2459 \n",
       "L 5028 2459 \n",
       "L 5028 1959 \n",
       "L 1072 1959 \n",
       "z\n",
       "\" transform=\"scale(0.015625)\"/>\n",
       "      <path id=\"DejaVuSans-2c\" d=\"M 750 794 \n",
       "L 1409 794 \n",
       "L 1409 256 \n",
       "L 897 -744 \n",
       "L 494 -744 \n",
       "L 750 256 \n",
       "L 750 794 \n",
       "z\n",
       "\" transform=\"scale(0.015625)\"/>\n",
       "      <path id=\"DejaVuSans-3bc\" d=\"M 544 -1331 \n",
       "L 544 3500 \n",
       "L 1119 3500 \n",
       "L 1119 1325 \n",
       "Q 1119 872 1334 640 \n",
       "Q 1550 409 1972 409 \n",
       "Q 2434 409 2667 671 \n",
       "Q 2900 934 2900 1459 \n",
       "L 2900 3500 \n",
       "L 3475 3500 \n",
       "L 3475 806 \n",
       "Q 3475 619 3529 530 \n",
       "Q 3584 441 3700 441 \n",
       "Q 3728 441 3778 458 \n",
       "Q 3828 475 3916 513 \n",
       "L 3916 50 \n",
       "Q 3788 -22 3673 -56 \n",
       "Q 3559 -91 3450 -91 \n",
       "Q 3234 -91 3106 31 \n",
       "Q 2978 153 2931 403 \n",
       "Q 2775 156 2548 32 \n",
       "Q 2322 -91 2016 -91 \n",
       "Q 1697 -91 1473 31 \n",
       "Q 1250 153 1119 397 \n",
       "L 1119 -1331 \n",
       "L 544 -1331 \n",
       "z\n",
       "\" transform=\"scale(0.015625)\"/>\n",
       "      <path id=\"DejaVuSans-36\" d=\"M 2113 2584 \n",
       "Q 1688 2584 1439 2293 \n",
       "Q 1191 2003 1191 1497 \n",
       "Q 1191 994 1439 701 \n",
       "Q 1688 409 2113 409 \n",
       "Q 2538 409 2786 701 \n",
       "Q 3034 994 3034 1497 \n",
       "Q 3034 2003 2786 2293 \n",
       "Q 2538 2584 2113 2584 \n",
       "z\n",
       "M 3366 4563 \n",
       "L 3366 3988 \n",
       "Q 3128 4100 2886 4159 \n",
       "Q 2644 4219 2406 4219 \n",
       "Q 1781 4219 1451 3797 \n",
       "Q 1122 3375 1075 2522 \n",
       "Q 1259 2794 1537 2939 \n",
       "Q 1816 3084 2150 3084 \n",
       "Q 2853 3084 3261 2657 \n",
       "Q 3669 2231 3669 1497 \n",
       "Q 3669 778 3244 343 \n",
       "Q 2819 -91 2113 -91 \n",
       "Q 1303 -91 875 529 \n",
       "Q 447 1150 447 2328 \n",
       "Q 447 3434 972 4092 \n",
       "Q 1497 4750 2381 4750 \n",
       "Q 2619 4750 2861 4703 \n",
       "Q 3103 4656 3366 4563 \n",
       "z\n",
       "\" transform=\"scale(0.015625)\"/>\n",
       "      <path id=\"DejaVuSans-3c3\" d=\"M 1959 3044 \n",
       "Q 1484 3044 1228 2700 \n",
       "Q 959 2341 959 1747 \n",
       "Q 959 1119 1226 758 \n",
       "Q 1494 397 1959 397 \n",
       "Q 2419 397 2687 759 \n",
       "Q 2956 1122 2956 1747 \n",
       "Q 2956 2319 2688 2700 \n",
       "Q 2441 3044 1959 3044 \n",
       "z\n",
       "M 1959 3500 \n",
       "L 3869 3500 \n",
       "L 3869 2925 \n",
       "L 3225 2925 \n",
       "Q 3566 2438 3566 1747 \n",
       "Q 3566 888 3138 400 \n",
       "Q 2709 -91 1959 -91 \n",
       "Q 1206 -91 781 400 \n",
       "Q 353 888 353 1747 \n",
       "Q 353 2613 781 3097 \n",
       "Q 1134 3500 1959 3500 \n",
       "z\n",
       "\" transform=\"scale(0.015625)\"/>\n",
       "      <path id=\"DejaVuSans-34\" d=\"M 2419 4116 \n",
       "L 825 1625 \n",
       "L 2419 1625 \n",
       "L 2419 4116 \n",
       "z\n",
       "M 2253 4666 \n",
       "L 3047 4666 \n",
       "L 3047 1625 \n",
       "L 3713 1625 \n",
       "L 3713 1100 \n",
       "L 3047 1100 \n",
       "L 3047 0 \n",
       "L 2419 0 \n",
       "L 2419 1100 \n",
       "L 313 1100 \n",
       "L 313 1709 \n",
       "L 2253 4666 \n",
       "z\n",
       "\" transform=\"scale(0.015625)\"/>\n",
       "      <path id=\"DejaVuSans-39\" d=\"M 703 97 \n",
       "L 703 672 \n",
       "Q 941 559 1184 500 \n",
       "Q 1428 441 1663 441 \n",
       "Q 2288 441 2617 861 \n",
       "Q 2947 1281 2994 2138 \n",
       "Q 2813 1869 2534 1725 \n",
       "Q 2256 1581 1919 1581 \n",
       "Q 1219 1581 811 2004 \n",
       "Q 403 2428 403 3163 \n",
       "Q 403 3881 828 4315 \n",
       "Q 1253 4750 1959 4750 \n",
       "Q 2769 4750 3195 4129 \n",
       "Q 3622 3509 3622 2328 \n",
       "Q 3622 1225 3098 567 \n",
       "Q 2575 -91 1691 -91 \n",
       "Q 1453 -91 1209 -44 \n",
       "Q 966 3 703 97 \n",
       "z\n",
       "M 1959 2075 \n",
       "Q 2384 2075 2632 2365 \n",
       "Q 2881 2656 2881 3163 \n",
       "Q 2881 3666 2632 3958 \n",
       "Q 2384 4250 1959 4250 \n",
       "Q 1534 4250 1286 3958 \n",
       "Q 1038 3666 1038 3163 \n",
       "Q 1038 2656 1286 2365 \n",
       "Q 1534 2075 1959 2075 \n",
       "z\n",
       "\" transform=\"scale(0.015625)\"/>\n",
       "     </defs>\n",
       "     <use xlink:href=\"#DejaVuSans-74\"/>\n",
       "     <use xlink:href=\"#DejaVuSans-65\" x=\"39.208984\"/>\n",
       "     <use xlink:href=\"#DejaVuSans-6e\" x=\"100.732422\"/>\n",
       "     <use xlink:href=\"#DejaVuSans-73\" x=\"164.111328\"/>\n",
       "     <use xlink:href=\"#DejaVuSans-6f\" x=\"216.210938\"/>\n",
       "     <use xlink:href=\"#DejaVuSans-72\" x=\"277.392578\"/>\n",
       "     <use xlink:href=\"#DejaVuSans-5b\" x=\"318.505859\"/>\n",
       "     <use xlink:href=\"#DejaVuSans-31\" x=\"357.519531\"/>\n",
       "     <use xlink:href=\"#DejaVuSans-32\" x=\"421.142578\"/>\n",
       "     <use xlink:href=\"#DejaVuSans-33\" x=\"484.765625\"/>\n",
       "     <use xlink:href=\"#DejaVuSans-5d\" x=\"548.388672\"/>\n",
       "     <use xlink:href=\"#DejaVuSans-20\" x=\"587.402344\"/>\n",
       "     <use xlink:href=\"#DejaVuSans-78\" x=\"619.189453\"/>\n",
       "     <use xlink:href=\"#DejaVuSans-2208\" x=\"678.369141\"/>\n",
       "     <use xlink:href=\"#DejaVuSans-5b\" x=\"765.478516\"/>\n",
       "     <use xlink:href=\"#DejaVuSans-30\" x=\"804.492188\"/>\n",
       "     <use xlink:href=\"#DejaVuSans-2e\" x=\"868.115234\"/>\n",
       "     <use xlink:href=\"#DejaVuSans-2c\" x=\"899.902344\"/>\n",
       "     <use xlink:href=\"#DejaVuSans-20\" x=\"931.689453\"/>\n",
       "     <use xlink:href=\"#DejaVuSans-31\" x=\"963.476562\"/>\n",
       "     <use xlink:href=\"#DejaVuSans-2e\" x=\"1027.099609\"/>\n",
       "     <use xlink:href=\"#DejaVuSans-30\" x=\"1058.886719\"/>\n",
       "     <use xlink:href=\"#DejaVuSans-30\" x=\"1122.509766\"/>\n",
       "     <use xlink:href=\"#DejaVuSans-30\" x=\"1186.132812\"/>\n",
       "     <use xlink:href=\"#DejaVuSans-5d\" x=\"1249.755859\"/>\n",
       "     <use xlink:href=\"#DejaVuSans-20\" x=\"1288.769531\"/>\n",
       "     <use xlink:href=\"#DejaVuSans-3bc\" x=\"1320.556641\"/>\n",
       "     <use xlink:href=\"#DejaVuSans-3d\" x=\"1384.179688\"/>\n",
       "     <use xlink:href=\"#DejaVuSans-30\" x=\"1467.96875\"/>\n",
       "     <use xlink:href=\"#DejaVuSans-2e\" x=\"1531.591797\"/>\n",
       "     <use xlink:href=\"#DejaVuSans-36\" x=\"1563.378906\"/>\n",
       "     <use xlink:href=\"#DejaVuSans-31\" x=\"1627.001953\"/>\n",
       "     <use xlink:href=\"#DejaVuSans-30\" x=\"1690.625\"/>\n",
       "     <use xlink:href=\"#DejaVuSans-20\" x=\"1754.248047\"/>\n",
       "     <use xlink:href=\"#DejaVuSans-3c3\" x=\"1786.035156\"/>\n",
       "     <use xlink:href=\"#DejaVuSans-3d\" x=\"1849.414062\"/>\n",
       "     <use xlink:href=\"#DejaVuSans-30\" x=\"1933.203125\"/>\n",
       "     <use xlink:href=\"#DejaVuSans-2e\" x=\"1996.826172\"/>\n",
       "     <use xlink:href=\"#DejaVuSans-34\" x=\"2028.613281\"/>\n",
       "     <use xlink:href=\"#DejaVuSans-39\" x=\"2092.236328\"/>\n",
       "     <use xlink:href=\"#DejaVuSans-30\" x=\"2155.859375\"/>\n",
       "    </g>\n",
       "   </g>\n",
       "   <g id=\"patch_9\">\n",
       "    <path d=\"M 437.785496 128.528148 \n",
       "L 478.85141 128.528148 \n",
       "L 478.85141 77.743546 \n",
       "L 437.785496 77.743546 \n",
       "z\n",
       "\" clip-path=\"url(#p2486563038)\" style=\"fill: #00bfff\"/>\n",
       "   </g>\n",
       "   <g id=\"patch_10\">\n",
       "    <path d=\"M 478.85141 128.528148 \n",
       "L 519.917324 128.528148 \n",
       "L 519.917324 128.528148 \n",
       "L 478.85141 128.528148 \n",
       "z\n",
       "\" clip-path=\"url(#p2486563038)\" style=\"fill: #00bfff\"/>\n",
       "   </g>\n",
       "   <g id=\"patch_11\">\n",
       "    <path d=\"M 519.917324 128.528148 \n",
       "L 560.983241 128.528148 \n",
       "L 560.983241 128.528148 \n",
       "L 519.917324 128.528148 \n",
       "z\n",
       "\" clip-path=\"url(#p2486563038)\" style=\"fill: #00bfff\"/>\n",
       "   </g>\n",
       "   <g id=\"patch_12\">\n",
       "    <path d=\"M 560.983241 128.528148 \n",
       "L 602.049151 128.528148 \n",
       "L 602.049151 128.528148 \n",
       "L 560.983241 128.528148 \n",
       "z\n",
       "\" clip-path=\"url(#p2486563038)\" style=\"fill: #00bfff\"/>\n",
       "   </g>\n",
       "   <g id=\"patch_13\">\n",
       "    <path d=\"M 602.049151 128.528148 \n",
       "L 643.115062 128.528148 \n",
       "L 643.115062 128.528148 \n",
       "L 602.049151 128.528148 \n",
       "z\n",
       "\" clip-path=\"url(#p2486563038)\" style=\"fill: #00bfff\"/>\n",
       "   </g>\n",
       "   <g id=\"patch_14\">\n",
       "    <path d=\"M 643.115062 128.528148 \n",
       "L 684.180985 128.528148 \n",
       "L 684.180985 128.528148 \n",
       "L 643.115062 128.528148 \n",
       "z\n",
       "\" clip-path=\"url(#p2486563038)\" style=\"fill: #00bfff\"/>\n",
       "   </g>\n",
       "   <g id=\"patch_15\">\n",
       "    <path d=\"M 684.180985 128.528148 \n",
       "L 725.246883 128.528148 \n",
       "L 725.246883 128.528148 \n",
       "L 684.180985 128.528148 \n",
       "z\n",
       "\" clip-path=\"url(#p2486563038)\" style=\"fill: #00bfff\"/>\n",
       "   </g>\n",
       "   <g id=\"patch_16\">\n",
       "    <path d=\"M 725.246883 128.528148 \n",
       "L 766.312806 128.528148 \n",
       "L 766.312806 128.528148 \n",
       "L 725.246883 128.528148 \n",
       "z\n",
       "\" clip-path=\"url(#p2486563038)\" style=\"fill: #00bfff\"/>\n",
       "   </g>\n",
       "   <g id=\"patch_17\">\n",
       "    <path d=\"M 766.312806 128.528148 \n",
       "L 807.378705 128.528148 \n",
       "L 807.378705 128.528148 \n",
       "L 766.312806 128.528148 \n",
       "z\n",
       "\" clip-path=\"url(#p2486563038)\" style=\"fill: #00bfff\"/>\n",
       "   </g>\n",
       "   <g id=\"patch_18\">\n",
       "    <path d=\"M 807.378705 128.528148 \n",
       "L 848.444627 128.528148 \n",
       "L 848.444627 49.177225 \n",
       "L 807.378705 49.177225 \n",
       "z\n",
       "\" clip-path=\"url(#p2486563038)\" style=\"fill: #00bfff\"/>\n",
       "   </g>\n",
       "   <g id=\"line2d_14\">\n",
       "    <path d=\"M 10.7 128.491692 \n",
       "L 19.331308 128.486062 \n",
       "L 27.962617 128.479651 \n",
       "L 36.593925 128.472367 \n",
       "L 45.225233 128.464107 \n",
       "L 53.856541 128.454759 \n",
       "L 62.48785 128.444202 \n",
       "L 71.119158 128.432302 \n",
       "L 79.750466 128.418916 \n",
       "L 88.381775 128.403891 \n",
       "L 97.013083 128.387058 \n",
       "L 105.644391 128.36824 \n",
       "L 114.275699 128.347246 \n",
       "L 122.907008 128.323871 \n",
       "L 131.538316 128.297901 \n",
       "L 140.169624 128.269106 \n",
       "L 148.800933 128.237247 \n",
       "L 157.432241 128.20207 \n",
       "L 166.063549 128.163312 \n",
       "L 174.694857 128.120698 \n",
       "L 183.326166 128.073944 \n",
       "L 191.957474 128.022757 \n",
       "L 200.588782 127.966835 \n",
       "L 209.220091 127.905872 \n",
       "L 217.851399 127.839558 \n",
       "L 226.482707 127.767578 \n",
       "L 235.114015 127.68962 \n",
       "L 243.745324 127.605372 \n",
       "L 252.376632 127.514527 \n",
       "L 261.00794 127.416788 \n",
       "L 269.639248 127.311865 \n",
       "L 278.270557 127.199486 \n",
       "L 286.901865 127.079394 \n",
       "L 295.533173 126.951353 \n",
       "L 304.164482 126.815153 \n",
       "L 312.79579 126.670612 \n",
       "L 321.427098 126.517581 \n",
       "L 330.058406 126.355946 \n",
       "L 338.689715 126.185634 \n",
       "L 347.321023 126.006617 \n",
       "L 355.952331 125.818912 \n",
       "L 364.58364 125.62259 \n",
       "L 373.214948 125.417774 \n",
       "L 381.846256 125.204646 \n",
       "L 390.477564 124.983447 \n",
       "L 399.108873 124.754482 \n",
       "L 407.740181 124.518117 \n",
       "L 416.371489 124.274788 \n",
       "L 425.002798 124.024993 \n",
       "L 433.634106 123.769299 \n",
       "L 442.265414 123.508338 \n",
       "L 450.896722 123.242809 \n",
       "L 459.528031 122.973472 \n",
       "L 468.159339 122.70115 \n",
       "L 476.790647 122.426722 \n",
       "L 485.421956 122.151124 \n",
       "L 494.053264 121.875339 \n",
       "L 502.684572 121.600396 \n",
       "L 511.31588 121.327362 \n",
       "L 519.947189 121.057337 \n",
       "L 528.578497 120.791446 \n",
       "L 537.209805 120.530831 \n",
       "L 545.841114 120.276646 \n",
       "L 554.472422 120.030045 \n",
       "L 563.10373 119.792176 \n",
       "L 571.735038 119.56417 \n",
       "L 580.366347 119.347135 \n",
       "L 588.997655 119.142145 \n",
       "L 597.628963 118.95023 \n",
       "L 606.260272 118.772373 \n",
       "L 614.89158 118.609495 \n",
       "L 623.522888 118.462449 \n",
       "L 632.154196 118.332016 \n",
       "L 640.785505 118.218894 \n",
       "L 649.416813 118.123693 \n",
       "L 658.048121 118.046931 \n",
       "L 666.679429 117.989028 \n",
       "L 675.310738 117.950301 \n",
       "L 683.942046 117.930964 \n",
       "L 692.573354 117.931123 \n",
       "L 701.204663 117.950777 \n",
       "L 709.835971 117.989818 \n",
       "L 718.467279 118.048032 \n",
       "L 727.098587 118.125097 \n",
       "L 735.729896 118.220594 \n",
       "L 744.361204 118.334003 \n",
       "L 752.992512 118.464713 \n",
       "L 761.623821 118.612023 \n",
       "L 770.255129 118.775152 \n",
       "L 778.886437 118.953246 \n",
       "L 787.517745 119.145381 \n",
       "L 796.149054 119.350576 \n",
       "L 804.780362 119.567799 \n",
       "L 813.41167 119.795974 \n",
       "L 822.042979 120.033995 \n",
       "L 830.674287 120.280728 \n",
       "L 839.305595 120.535027 \n",
       "L 847.936903 120.795737 \n",
       "L 856.568212 121.061705 \n",
       "L 865.19952 121.331788 \n",
       "\" clip-path=\"url(#p2486563038)\" style=\"fill: none; stroke: #1f77b4; stroke-width: 1.5; stroke-linecap: square\"/>\n",
       "   </g>\n",
       "   <g id=\"text_13\">\n",
       "    <g id=\"patch_19\">\n",
       "     <path d=\"M 482.073898 38.307963 \n",
       "L 492.019211 38.307963 \n",
       "Q 495.019211 38.307963 495.019211 35.307963 \n",
       "L 495.019211 25.629838 \n",
       "Q 495.019211 22.629838 492.019211 22.629838 \n",
       "L 482.073898 22.629838 \n",
       "Q 479.073898 22.629838 479.073898 25.629838 \n",
       "L 479.073898 35.307963 \n",
       "Q 479.073898 38.307963 482.073898 38.307963 \n",
       "z\n",
       "\" style=\"fill: #ffffff\"/>\n",
       "    </g>\n",
       "    <!-- -σ -->\n",
       "    <g transform=\"translate(482.073898 33.228276) scale(0.1 -0.1)\">\n",
       "     <defs>\n",
       "      <path id=\"DejaVuSans-2d\" d=\"M 313 2009 \n",
       "L 1997 2009 \n",
       "L 1997 1497 \n",
       "L 313 1497 \n",
       "L 313 2009 \n",
       "z\n",
       "\" transform=\"scale(0.015625)\"/>\n",
       "     </defs>\n",
       "     <use xlink:href=\"#DejaVuSans-2d\"/>\n",
       "     <use xlink:href=\"#DejaVuSans-3c3\" x=\"36.083984\"/>\n",
       "    </g>\n",
       "   </g>\n",
       "   <g id=\"text_14\">\n",
       "    <g id=\"patch_20\">\n",
       "     <path d=\"M 684.508505 38.307963 \n",
       "L 691.866318 38.307963 \n",
       "Q 694.866318 38.307963 694.866318 35.307963 \n",
       "L 694.866318 25.629838 \n",
       "Q 694.866318 22.629838 691.866318 22.629838 \n",
       "L 684.508505 22.629838 \n",
       "Q 681.508505 22.629838 681.508505 25.629838 \n",
       "L 681.508505 35.307963 \n",
       "Q 681.508505 38.307963 684.508505 38.307963 \n",
       "z\n",
       "\" style=\"fill: #ffffff\"/>\n",
       "    </g>\n",
       "    <!-- μ -->\n",
       "    <g transform=\"translate(684.508505 33.217338) scale(0.1 -0.1)\">\n",
       "     <defs>\n",
       "      <path id=\"DejaVuSans-Bold-3bc\" d=\"M 544 -1338 \n",
       "L 544 3500 \n",
       "L 1672 3500 \n",
       "L 1672 1466 \n",
       "Q 1672 1103 1828 926 \n",
       "Q 1984 750 2303 750 \n",
       "Q 2625 750 2781 926 \n",
       "Q 2938 1103 2938 1466 \n",
       "L 2938 3500 \n",
       "L 4063 3500 \n",
       "L 4063 1159 \n",
       "Q 4063 938 4114 850 \n",
       "Q 4166 763 4288 763 \n",
       "Q 4344 763 4395 778 \n",
       "Q 4447 794 4506 831 \n",
       "L 4506 50 \n",
       "Q 4341 -22 4195 -56 \n",
       "Q 4050 -91 3909 -91 \n",
       "Q 3631 -91 3454 26 \n",
       "Q 3278 144 3169 403 \n",
       "Q 3022 156 2811 32 \n",
       "Q 2600 -91 2322 -91 \n",
       "Q 2091 -91 1928 -17 \n",
       "Q 1766 56 1672 206 \n",
       "L 1672 -1338 \n",
       "L 544 -1338 \n",
       "z\n",
       "\" transform=\"scale(0.015625)\"/>\n",
       "     </defs>\n",
       "     <use xlink:href=\"#DejaVuSans-Bold-3bc\"/>\n",
       "    </g>\n",
       "   </g>\n",
       "  </g>\n",
       " </g>\n",
       " <defs>\n",
       "  <clipPath id=\"p2486563038\">\n",
       "   <rect x=\"10.7\" y=\"20.214138\" width=\"854.49952\" height=\"108.31401\"/>\n",
       "  </clipPath>\n",
       " </defs>\n",
       "</svg>\n"
      ],
      "text/plain": [
       "<lovely_tensors.repr_plt.PlotProxy at 0x1f112dcc0a0>"
      ]
     },
     "execution_count": 197,
     "metadata": {},
     "output_type": "execute_result"
    }
   ],
   "source": [
    "Y[:,0].plt"
   ]
  },
  {
   "cell_type": "code",
   "execution_count": 201,
   "metadata": {},
   "outputs": [],
   "source": [
    "config = {\n",
    "    'estimator_type': 'VAE',\n",
    "    'n_inputs': X.shape[1],\n",
    "    'n_outputs': X.shape[1],\n",
    "    'input_dim': X.shape[1],\n",
    "    'is_VAE': True,\n",
    "    'batch_size':512, \n",
    "    'epochs':1001, \n",
    "    'verbose':10,\n",
    "    'latent_dim': 2,\n",
    "    'lr_init':1e-3,\n",
    "    'reg_factor':0,\n",
    "    'n_layers':3,\n",
    "    'hidden_dim':int(X.shape[1]/100),\n",
    "    'beta':1,\n",
    "    'device':'cuda', # makes it run on GPU\n",
    "}"
   ]
  },
  {
   "cell_type": "code",
   "execution_count": 202,
   "metadata": {},
   "outputs": [
    {
     "data": {
      "text/plain": [
       "VAE(\n",
       "  (fc1): Linear(in_features=11000, out_features=110, bias=True)\n",
       "  (encoder_layers): ModuleList(\n",
       "    (0): Linear(in_features=110, out_features=110, bias=True)\n",
       "    (1): Linear(in_features=110, out_features=110, bias=True)\n",
       "    (2): Linear(in_features=110, out_features=110, bias=True)\n",
       "  )\n",
       "  (out1): Linear(in_features=110, out_features=2, bias=True)\n",
       "  (out2): Linear(in_features=110, out_features=2, bias=True)\n",
       "  (encoder): Sequential(\n",
       "    (0): Linear(in_features=11000, out_features=110, bias=True)\n",
       "    (1): ModuleList(\n",
       "      (0): Linear(in_features=110, out_features=110, bias=True)\n",
       "      (1): Linear(in_features=110, out_features=110, bias=True)\n",
       "      (2): Linear(in_features=110, out_features=110, bias=True)\n",
       "    )\n",
       "    (2): Linear(in_features=110, out_features=2, bias=True)\n",
       "    (3): Linear(in_features=110, out_features=2, bias=True)\n",
       "  )\n",
       "  (fc3): Linear(in_features=2, out_features=110, bias=True)\n",
       "  (decoder_layers): ModuleList(\n",
       "    (0): Linear(in_features=110, out_features=110, bias=True)\n",
       "    (1): Linear(in_features=110, out_features=110, bias=True)\n",
       "    (2): Linear(in_features=110, out_features=110, bias=True)\n",
       "  )\n",
       "  (out3): Linear(in_features=110, out_features=11000, bias=True)\n",
       "  (decoder): Sequential(\n",
       "    (0): Linear(in_features=2, out_features=110, bias=True)\n",
       "    (1): ModuleList(\n",
       "      (0): Linear(in_features=110, out_features=110, bias=True)\n",
       "      (1): Linear(in_features=110, out_features=110, bias=True)\n",
       "      (2): Linear(in_features=110, out_features=110, bias=True)\n",
       "    )\n",
       "    (2): Linear(in_features=110, out_features=11000, bias=True)\n",
       "  )\n",
       "  (dropout): Dropout(p=0.2, inplace=False)\n",
       ")"
      ]
     },
     "execution_count": 202,
     "metadata": {},
     "output_type": "execute_result"
    }
   ],
   "source": [
    "reg = kmk.Trainer(**config)\n",
    "reg.estimator\n"
   ]
  },
  {
   "cell_type": "code",
   "execution_count": 203,
   "metadata": {},
   "outputs": [
    {
     "name": "stdout",
     "output_type": "stream",
     "text": [
      "====> Epoch: 0 Average loss: 435844.656250000 Time: 0.50\n",
      "Loss components: {'VAE_loss': tensor cuda:0 4.353e+05, 'L1_regularization': tensor grad MulBackward0 cuda:0 521.610}\n",
      "====> Epoch: 10 Average loss: 251397.218750000 Time: 0.48\n",
      "Loss components: {'VAE_loss': tensor cuda:0 2.509e+05, 'L1_regularization': tensor grad MulBackward0 cuda:0 523.005}\n",
      "====> Epoch: 20 Average loss: 134831.109375000 Time: 0.43\n",
      "Loss components: {'VAE_loss': tensor cuda:0 1.343e+05, 'L1_regularization': tensor grad MulBackward0 cuda:0 522.160}\n",
      "====> Epoch: 30 Average loss: 119895.734375000 Time: 0.42\n",
      "Loss components: {'VAE_loss': tensor cuda:0 1.194e+05, 'L1_regularization': tensor grad MulBackward0 cuda:0 521.227}\n",
      "====> Epoch: 40 Average loss: 115208.203125000 Time: 0.44\n",
      "Loss components: {'VAE_loss': tensor cuda:0 1.147e+05, 'L1_regularization': tensor grad MulBackward0 cuda:0 519.661}\n",
      "====> Epoch: 50 Average loss: 113627.515625000 Time: 0.43\n",
      "Loss components: {'VAE_loss': tensor cuda:0 1.131e+05, 'L1_regularization': tensor grad MulBackward0 cuda:0 517.107}\n",
      "====> Epoch: 60 Average loss: 113117.562500000 Time: 0.43\n",
      "Loss components: {'VAE_loss': tensor cuda:0 1.126e+05, 'L1_regularization': tensor grad MulBackward0 cuda:0 514.122}\n",
      "====> Epoch: 70 Average loss: 112770.539062500 Time: 0.43\n",
      "Loss components: {'VAE_loss': tensor cuda:0 1.123e+05, 'L1_regularization': tensor grad MulBackward0 cuda:0 510.910}\n",
      "====> Epoch: 80 Average loss: 112493.515625000 Time: 0.42\n",
      "Loss components: {'VAE_loss': tensor cuda:0 1.120e+05, 'L1_regularization': tensor grad MulBackward0 cuda:0 507.558}\n",
      "====> Epoch: 90 Average loss: 112064.554687500 Time: 0.42\n",
      "Loss components: {'VAE_loss': tensor cuda:0 1.116e+05, 'L1_regularization': tensor grad MulBackward0 cuda:0 504.176}\n",
      "====> Epoch: 100 Average loss: 111203.140625000 Time: 0.42\n",
      "Loss components: {'VAE_loss': tensor cuda:0 1.107e+05, 'L1_regularization': tensor grad MulBackward0 cuda:0 500.796}\n",
      "====> Epoch: 110 Average loss: 107407.054687500 Time: 0.43\n",
      "Loss components: {'VAE_loss': tensor cuda:0 1.069e+05, 'L1_regularization': tensor grad MulBackward0 cuda:0 497.451}\n",
      "====> Epoch: 120 Average loss: 98080.101562500 Time: 0.46\n",
      "Loss components: {'VAE_loss': tensor cuda:0 9.759e+04, 'L1_regularization': tensor grad MulBackward0 cuda:0 493.666}\n",
      "====> Epoch: 130 Average loss: 91246.773437500 Time: 0.46\n",
      "Loss components: {'VAE_loss': tensor cuda:0 9.076e+04, 'L1_regularization': tensor grad MulBackward0 cuda:0 489.580}\n",
      "====> Epoch: 140 Average loss: 90374.312500000 Time: 0.46\n",
      "Loss components: {'VAE_loss': tensor cuda:0 8.989e+04, 'L1_regularization': tensor grad MulBackward0 cuda:0 485.578}\n",
      "====> Epoch: 150 Average loss: 87038.179687500 Time: 0.43\n",
      "Loss components: {'VAE_loss': tensor cuda:0 8.656e+04, 'L1_regularization': tensor grad MulBackward0 cuda:0 481.710}\n",
      "====> Epoch: 160 Average loss: 84165.390625000 Time: 0.53\n",
      "Loss components: {'VAE_loss': tensor cuda:0 8.369e+04, 'L1_regularization': tensor grad MulBackward0 cuda:0 477.859}\n",
      "====> Epoch: 170 Average loss: 79040.085937500 Time: 0.43\n",
      "Loss components: {'VAE_loss': tensor cuda:0 7.857e+04, 'L1_regularization': tensor grad MulBackward0 cuda:0 474.136}\n",
      "====> Epoch: 180 Average loss: 70540.226562500 Time: 0.43\n",
      "Loss components: {'VAE_loss': tensor cuda:0 7.007e+04, 'L1_regularization': tensor grad MulBackward0 cuda:0 470.689}\n",
      "====> Epoch: 190 Average loss: 61777.175781250 Time: 0.43\n",
      "Loss components: {'VAE_loss': tensor cuda:0 6.131e+04, 'L1_regularization': tensor grad MulBackward0 cuda:0 467.363}\n",
      "====> Epoch: 200 Average loss: 56927.253906250 Time: 0.44\n",
      "Loss components: {'VAE_loss': tensor cuda:0 5.646e+04, 'L1_regularization': tensor grad MulBackward0 cuda:0 463.866}\n",
      "====> Epoch: 210 Average loss: 52914.238281250 Time: 0.43\n",
      "Loss components: {'VAE_loss': tensor cuda:0 5.245e+04, 'L1_regularization': tensor grad MulBackward0 cuda:0 460.161}\n",
      "====> Epoch: 220 Average loss: 48709.785156250 Time: 0.43\n",
      "Loss components: {'VAE_loss': tensor cuda:0 4.825e+04, 'L1_regularization': tensor grad MulBackward0 cuda:0 456.227}\n",
      "====> Epoch: 230 Average loss: 43822.628906250 Time: 0.44\n",
      "Loss components: {'VAE_loss': tensor cuda:0 4.337e+04, 'L1_regularization': tensor grad MulBackward0 cuda:0 452.123}\n",
      "====> Epoch: 240 Average loss: 39621.652343750 Time: 0.43\n",
      "Loss components: {'VAE_loss': tensor cuda:0 3.917e+04, 'L1_regularization': tensor grad MulBackward0 cuda:0 447.968}\n",
      "====> Epoch: 250 Average loss: 35860.816406250 Time: 0.44\n",
      "Loss components: {'VAE_loss': tensor cuda:0 3.542e+04, 'L1_regularization': tensor grad MulBackward0 cuda:0 443.702}\n",
      "====> Epoch: 260 Average loss: 32082.056640625 Time: 0.46\n",
      "Loss components: {'VAE_loss': tensor cuda:0 3.164e+04, 'L1_regularization': tensor grad MulBackward0 cuda:0 439.226}\n",
      "====> Epoch: 270 Average loss: 28761.923828125 Time: 0.42\n",
      "Loss components: {'VAE_loss': tensor cuda:0 2.833e+04, 'L1_regularization': tensor grad MulBackward0 cuda:0 434.387}\n",
      "====> Epoch: 280 Average loss: 26819.039062500 Time: 0.44\n",
      "Loss components: {'VAE_loss': tensor cuda:0 2.639e+04, 'L1_regularization': tensor grad MulBackward0 cuda:0 429.410}\n",
      "====> Epoch: 290 Average loss: 24819.062500000 Time: 0.43\n",
      "Loss components: {'VAE_loss': tensor cuda:0 2.439e+04, 'L1_regularization': tensor grad MulBackward0 cuda:0 424.451}\n",
      "====> Epoch: 300 Average loss: 23374.160156250 Time: 0.42\n",
      "Loss components: {'VAE_loss': tensor cuda:0 2.295e+04, 'L1_regularization': tensor grad MulBackward0 cuda:0 419.494}\n",
      "====> Epoch: 310 Average loss: 22993.160156250 Time: 0.42\n",
      "Loss components: {'VAE_loss': tensor cuda:0 2.258e+04, 'L1_regularization': tensor grad MulBackward0 cuda:0 414.397}\n",
      "====> Epoch: 320 Average loss: 21712.882812500 Time: 0.43\n",
      "Loss components: {'VAE_loss': tensor cuda:0 2.130e+04, 'L1_regularization': tensor grad MulBackward0 cuda:0 408.988}\n",
      "====> Epoch: 330 Average loss: 22330.777343750 Time: 0.44\n",
      "Loss components: {'VAE_loss': tensor cuda:0 2.193e+04, 'L1_regularization': tensor grad MulBackward0 cuda:0 403.298}\n",
      "====> Epoch: 340 Average loss: 19855.246093750 Time: 0.42\n",
      "Loss components: {'VAE_loss': tensor cuda:0 1.946e+04, 'L1_regularization': tensor grad MulBackward0 cuda:0 397.309}\n",
      "====> Epoch: 350 Average loss: 19030.316406250 Time: 0.42\n",
      "Loss components: {'VAE_loss': tensor cuda:0 1.864e+04, 'L1_regularization': tensor grad MulBackward0 cuda:0 391.272}\n",
      "====> Epoch: 360 Average loss: 16972.740234375 Time: 0.51\n",
      "Loss components: {'VAE_loss': tensor cuda:0 1.659e+04, 'L1_regularization': tensor grad MulBackward0 cuda:0 385.193}\n",
      "====> Epoch: 370 Average loss: 15033.891601562 Time: 0.43\n",
      "Loss components: {'VAE_loss': tensor cuda:0 1.465e+04, 'L1_regularization': tensor grad MulBackward0 cuda:0 379.121}\n",
      "====> Epoch: 380 Average loss: 13550.013671875 Time: 0.45\n",
      "Loss components: {'VAE_loss': tensor cuda:0 1.318e+04, 'L1_regularization': tensor grad MulBackward0 cuda:0 373.124}\n",
      "====> Epoch: 390 Average loss: 12357.557617188 Time: 0.42\n",
      "Loss components: {'VAE_loss': tensor cuda:0 1.199e+04, 'L1_regularization': tensor grad MulBackward0 cuda:0 367.234}\n",
      "====> Epoch: 400 Average loss: 11365.824218750 Time: 0.51\n",
      "Loss components: {'VAE_loss': tensor cuda:0 1.100e+04, 'L1_regularization': tensor grad MulBackward0 cuda:0 361.518}\n",
      "====> Epoch: 410 Average loss: 10230.398437500 Time: 0.43\n",
      "Loss components: {'VAE_loss': tensor cuda:0 9.875e+03, 'L1_regularization': tensor grad MulBackward0 cuda:0 355.825}\n",
      "====> Epoch: 420 Average loss: 9322.879882812 Time: 0.43\n",
      "Loss components: {'VAE_loss': tensor cuda:0 8.973e+03, 'L1_regularization': tensor grad MulBackward0 cuda:0 350.135}\n",
      "====> Epoch: 430 Average loss: 8561.861328125 Time: 0.43\n",
      "Loss components: {'VAE_loss': tensor cuda:0 8.217e+03, 'L1_regularization': tensor grad MulBackward0 cuda:0 344.494}\n",
      "====> Epoch: 440 Average loss: 7903.248046875 Time: 0.43\n",
      "Loss components: {'VAE_loss': tensor cuda:0 7.564e+03, 'L1_regularization': tensor grad MulBackward0 cuda:0 338.764}\n",
      "====> Epoch: 450 Average loss: 7463.583007812 Time: 0.43\n",
      "Loss components: {'VAE_loss': tensor cuda:0 7.131e+03, 'L1_regularization': tensor grad MulBackward0 cuda:0 333.004}\n",
      "====> Epoch: 460 Average loss: 6883.571289062 Time: 0.46\n",
      "Loss components: {'VAE_loss': tensor cuda:0 6.556e+03, 'L1_regularization': tensor grad MulBackward0 cuda:0 327.221}\n",
      "====> Epoch: 470 Average loss: 6570.985351562 Time: 0.43\n",
      "Loss components: {'VAE_loss': tensor cuda:0 6.250e+03, 'L1_regularization': tensor grad MulBackward0 cuda:0 321.380}\n",
      "====> Epoch: 480 Average loss: 6277.321777344 Time: 0.43\n",
      "Loss components: {'VAE_loss': tensor cuda:0 5.962e+03, 'L1_regularization': tensor grad MulBackward0 cuda:0 315.513}\n",
      "====> Epoch: 490 Average loss: 6039.575195312 Time: 0.42\n",
      "Loss components: {'VAE_loss': tensor cuda:0 5.730e+03, 'L1_regularization': tensor grad MulBackward0 cuda:0 309.555}\n",
      "====> Epoch: 500 Average loss: 5978.938476562 Time: 0.42\n",
      "Loss components: {'VAE_loss': tensor cuda:0 5.675e+03, 'L1_regularization': tensor grad MulBackward0 cuda:0 303.591}\n",
      "====> Epoch: 510 Average loss: 5438.293945312 Time: 0.44\n",
      "Loss components: {'VAE_loss': tensor cuda:0 5.141e+03, 'L1_regularization': tensor grad MulBackward0 cuda:0 297.612}\n",
      "====> Epoch: 520 Average loss: 5176.192382812 Time: 0.42\n",
      "Loss components: {'VAE_loss': tensor cuda:0 4.885e+03, 'L1_regularization': tensor grad MulBackward0 cuda:0 291.634}\n",
      "====> Epoch: 530 Average loss: 4908.372070312 Time: 0.45\n",
      "Loss components: {'VAE_loss': tensor cuda:0 4.623e+03, 'L1_regularization': tensor grad MulBackward0 cuda:0 285.659}\n",
      "====> Epoch: 540 Average loss: 5232.699707031 Time: 0.42\n",
      "Loss components: {'VAE_loss': tensor cuda:0 4.953e+03, 'L1_regularization': tensor grad MulBackward0 cuda:0 279.741}\n",
      "====> Epoch: 550 Average loss: 4624.021484375 Time: 0.44\n",
      "Loss components: {'VAE_loss': tensor cuda:0 4.350e+03, 'L1_regularization': tensor grad MulBackward0 cuda:0 273.827}\n",
      "====> Epoch: 560 Average loss: 4467.127929688 Time: 0.43\n",
      "Loss components: {'VAE_loss': tensor cuda:0 4.199e+03, 'L1_regularization': tensor grad MulBackward0 cuda:0 267.942}\n",
      "====> Epoch: 570 Average loss: 4514.621093750 Time: 0.47\n",
      "Loss components: {'VAE_loss': tensor cuda:0 4.253e+03, 'L1_regularization': tensor grad MulBackward0 cuda:0 262.081}\n",
      "====> Epoch: 580 Average loss: 3902.189453125 Time: 0.43\n",
      "Loss components: {'VAE_loss': tensor cuda:0 3.646e+03, 'L1_regularization': tensor grad MulBackward0 cuda:0 256.260}\n",
      "====> Epoch: 590 Average loss: 3759.574951172 Time: 0.43\n",
      "Loss components: {'VAE_loss': tensor cuda:0 3.509e+03, 'L1_regularization': tensor grad MulBackward0 cuda:0 250.504}\n",
      "====> Epoch: 600 Average loss: 3484.585449219 Time: 0.43\n",
      "Loss components: {'VAE_loss': tensor cuda:0 3.240e+03, 'L1_regularization': tensor grad MulBackward0 cuda:0 244.782}\n",
      "====> Epoch: 610 Average loss: 72187.007812500 Time: 0.43\n",
      "Loss components: {'VAE_loss': tensor cuda:0 7.195e+04, 'L1_regularization': tensor grad MulBackward0 cuda:0 239.218}\n",
      "====> Epoch: 620 Average loss: 27271.486328125 Time: 0.42\n",
      "Loss components: {'VAE_loss': tensor cuda:0 2.703e+04, 'L1_regularization': tensor grad MulBackward0 cuda:0 236.819}\n",
      "====> Epoch: 630 Average loss: 10606.897460938 Time: 0.43\n",
      "Loss components: {'VAE_loss': tensor cuda:0 1.037e+04, 'L1_regularization': tensor grad MulBackward0 cuda:0 233.125}\n",
      "====> Epoch: 640 Average loss: 6054.135742188 Time: 0.43\n",
      "Loss components: {'VAE_loss': tensor cuda:0 5.827e+03, 'L1_regularization': tensor grad MulBackward0 cuda:0 227.352}\n",
      "====> Epoch: 650 Average loss: 4524.584472656 Time: 0.43\n",
      "Loss components: {'VAE_loss': tensor cuda:0 4.302e+03, 'L1_regularization': tensor grad MulBackward0 cuda:0 222.378}\n",
      "====> Epoch: 660 Average loss: 3628.885009766 Time: 0.46\n",
      "Loss components: {'VAE_loss': tensor cuda:0 3.412e+03, 'L1_regularization': tensor grad MulBackward0 cuda:0 217.093}\n",
      "====> Epoch: 670 Average loss: 3081.782226562 Time: 0.43\n",
      "Loss components: {'VAE_loss': tensor cuda:0 2.870e+03, 'L1_regularization': tensor grad MulBackward0 cuda:0 211.568}\n",
      "====> Epoch: 680 Average loss: 2830.500976562 Time: 0.44\n",
      "Loss components: {'VAE_loss': tensor cuda:0 2.624e+03, 'L1_regularization': tensor grad MulBackward0 cuda:0 206.306}\n",
      "====> Epoch: 690 Average loss: 2521.548828125 Time: 0.43\n",
      "Loss components: {'VAE_loss': tensor cuda:0 2.320e+03, 'L1_regularization': tensor grad MulBackward0 cuda:0 201.198}\n",
      "====> Epoch: 700 Average loss: 2349.368896484 Time: 0.50\n",
      "Loss components: {'VAE_loss': tensor cuda:0 2.153e+03, 'L1_regularization': tensor grad MulBackward0 cuda:0 196.228}\n",
      "====> Epoch: 710 Average loss: 2095.666992188 Time: 0.44\n",
      "Loss components: {'VAE_loss': tensor cuda:0 1.904e+03, 'L1_regularization': tensor grad MulBackward0 cuda:0 191.333}\n",
      "====> Epoch: 720 Average loss: 1889.036987305 Time: 0.47\n",
      "Loss components: {'VAE_loss': tensor cuda:0 1.702e+03, 'L1_regularization': tensor grad MulBackward0 cuda:0 186.547}\n",
      "====> Epoch: 730 Average loss: 1684.215576172 Time: 0.43\n",
      "Loss components: {'VAE_loss': tensor cuda:0 1.502e+03, 'L1_regularization': tensor grad MulBackward0 cuda:0 181.789}\n",
      "====> Epoch: 740 Average loss: 1490.373779297 Time: 0.43\n",
      "Loss components: {'VAE_loss': tensor cuda:0 1.313e+03, 'L1_regularization': tensor grad MulBackward0 cuda:0 177.116}\n",
      "====> Epoch: 750 Average loss: 1300.022949219 Time: 0.43\n",
      "Loss components: {'VAE_loss': tensor cuda:0 1.128e+03, 'L1_regularization': tensor grad MulBackward0 cuda:0 172.512}\n",
      "====> Epoch: 760 Average loss: 1177.538696289 Time: 0.43\n",
      "Loss components: {'VAE_loss': tensor cuda:0 1.010e+03, 'L1_regularization': tensor grad MulBackward0 cuda:0 167.973}\n",
      "====> Epoch: 770 Average loss: 1035.368896484 Time: 0.45\n",
      "Loss components: {'VAE_loss': tensor cuda:0 871.867, 'L1_regularization': tensor grad MulBackward0 cuda:0 163.502}\n",
      "====> Epoch: 780 Average loss: 920.369262695 Time: 0.48\n",
      "Loss components: {'VAE_loss': tensor cuda:0 761.264, 'L1_regularization': tensor grad MulBackward0 cuda:0 159.105}\n",
      "====> Epoch: 790 Average loss: 807.418701172 Time: 0.43\n",
      "Loss components: {'VAE_loss': tensor cuda:0 652.645, 'L1_regularization': tensor grad MulBackward0 cuda:0 154.774}\n",
      "====> Epoch: 800 Average loss: 707.715942383 Time: 0.46\n",
      "Loss components: {'VAE_loss': tensor cuda:0 557.203, 'L1_regularization': tensor grad MulBackward0 cuda:0 150.513}\n",
      "====> Epoch: 810 Average loss: 703.956176758 Time: 0.43\n",
      "Loss components: {'VAE_loss': tensor cuda:0 557.591, 'L1_regularization': tensor grad MulBackward0 cuda:0 146.365}\n",
      "====> Epoch: 820 Average loss: 601.717651367 Time: 0.44\n",
      "Loss components: {'VAE_loss': tensor cuda:0 459.462, 'L1_regularization': tensor grad MulBackward0 cuda:0 142.256}\n",
      "====> Epoch: 830 Average loss: 564.067504883 Time: 0.45\n",
      "Loss components: {'VAE_loss': tensor cuda:0 425.877, 'L1_regularization': tensor grad MulBackward0 cuda:0 138.190}\n",
      "====> Epoch: 840 Average loss: 540.175659180 Time: 0.44\n",
      "Loss components: {'VAE_loss': tensor cuda:0 405.980, 'L1_regularization': tensor grad MulBackward0 cuda:0 134.195}\n",
      "====> Epoch: 850 Average loss: 486.308380127 Time: 0.46\n",
      "Loss components: {'VAE_loss': tensor cuda:0 355.983, 'L1_regularization': tensor grad MulBackward0 cuda:0 130.325}\n",
      "====> Epoch: 860 Average loss: 466.412536621 Time: 0.43\n",
      "Loss components: {'VAE_loss': tensor cuda:0 339.970, 'L1_regularization': tensor grad MulBackward0 cuda:0 126.443}\n",
      "====> Epoch: 870 Average loss: 448.446472168 Time: 0.44\n",
      "Loss components: {'VAE_loss': tensor cuda:0 325.802, 'L1_regularization': tensor grad MulBackward0 cuda:0 122.645}\n",
      "====> Epoch: 880 Average loss: 422.737884521 Time: 0.44\n",
      "Loss components: {'VAE_loss': tensor cuda:0 303.795, 'L1_regularization': tensor grad MulBackward0 cuda:0 118.943}\n",
      "====> Epoch: 890 Average loss: 413.589416504 Time: 0.44\n",
      "Loss components: {'VAE_loss': tensor cuda:0 298.289, 'L1_regularization': tensor grad MulBackward0 cuda:0 115.301}\n",
      "====> Epoch: 900 Average loss: 344.069274902 Time: 0.44\n",
      "Loss components: {'VAE_loss': tensor cuda:0 232.364, 'L1_regularization': tensor grad MulBackward0 cuda:0 111.705}\n",
      "====> Epoch: 910 Average loss: 347.744750977 Time: 0.45\n",
      "Loss components: {'VAE_loss': tensor cuda:0 239.583, 'L1_regularization': tensor grad MulBackward0 cuda:0 108.162}\n",
      "====> Epoch: 920 Average loss: 330.299133301 Time: 0.43\n",
      "Loss components: {'VAE_loss': tensor cuda:0 225.552, 'L1_regularization': tensor grad MulBackward0 cuda:0 104.747}\n",
      "====> Epoch: 930 Average loss: 327.754364014 Time: 0.44\n",
      "Loss components: {'VAE_loss': tensor cuda:0 226.373, 'L1_regularization': tensor grad MulBackward0 cuda:0 101.381}\n",
      "====> Epoch: 940 Average loss: 295.158996582 Time: 0.43\n",
      "Loss components: {'VAE_loss': tensor cuda:0 197.051, 'L1_regularization': tensor grad MulBackward0 cuda:0 98.108}\n",
      "====> Epoch: 950 Average loss: 302.200042725 Time: 0.43\n",
      "Loss components: {'VAE_loss': tensor cuda:0 207.324, 'L1_regularization': tensor grad MulBackward0 cuda:0 94.877}\n",
      "====> Epoch: 960 Average loss: 271.351257324 Time: 0.44\n",
      "Loss components: {'VAE_loss': tensor cuda:0 179.606, 'L1_regularization': tensor grad MulBackward0 cuda:0 91.745}\n",
      "====> Epoch: 970 Average loss: 264.113586426 Time: 0.44\n",
      "Loss components: {'VAE_loss': tensor cuda:0 175.470, 'L1_regularization': tensor grad MulBackward0 cuda:0 88.643}\n",
      "====> Epoch: 980 Average loss: 267.767089844 Time: 0.43\n",
      "Loss components: {'VAE_loss': tensor cuda:0 182.167, 'L1_regularization': tensor grad MulBackward0 cuda:0 85.600}\n",
      "====> Epoch: 990 Average loss: 247.714294434 Time: 0.44\n",
      "Loss components: {'VAE_loss': tensor cuda:0 165.051, 'L1_regularization': tensor grad MulBackward0 cuda:0 82.663}\n",
      "====> Epoch: 1000 Average loss: 255.785827637 Time: 0.43\n",
      "Loss components: {'VAE_loss': tensor cuda:0 176.024, 'L1_regularization': tensor grad MulBackward0 cuda:0 79.761}\n"
     ]
    },
    {
     "data": {
      "text/plain": [
       "<kmodels.utils.Trainer at 0x1f0d0f42020>"
      ]
     },
     "execution_count": 203,
     "metadata": {},
     "output_type": "execute_result"
    }
   ],
   "source": [
    "reg.fit(X, X_og)"
   ]
  },
  {
   "cell_type": "code",
   "execution_count": 204,
   "metadata": {},
   "outputs": [
    {
     "data": {
      "text/plain": [
       "[<matplotlib.lines.Line2D at 0x1f10484fa90>]"
      ]
     },
     "execution_count": 204,
     "metadata": {},
     "output_type": "execute_result"
    },
    {
     "data": {
      "image/png": "[encoded data removed]",
      "text/plain": [
       "<Figure size 640x480 with 1 Axes>"
      ]
     },
     "metadata": {},
     "output_type": "display_data"
    }
   ],
   "source": [
    "# plot the recon error\n",
    "X_hat = reg.predict(X.to('cuda'))\n",
    "plt.plot(X_hat[0].detach().cpu().numpy())\n",
    "plt.plot(X[0].detach().cpu().numpy(), alpha=0.5)\n"
   ]
  },
  {
   "cell_type": "code",
   "execution_count": 205,
   "metadata": {},
   "outputs": [
    {
     "data": {
      "text/plain": [
       "[<matplotlib.lines.Line2D at 0x1f105c2e9b0>]"
      ]
     },
     "execution_count": 205,
     "metadata": {},
     "output_type": "execute_result"
    },
    {
     "data": {
      "image/png": "[encoded data removed]",
      "text/plain": [
       "<Figure size 640x480 with 1 Axes>"
      ]
     },
     "metadata": {},
     "output_type": "display_data"
    }
   ],
   "source": [
    "# plot the recon error for leaveout data\n",
    "leaveout_x = to_torch(leaveout_x).float().reshape(-1, nframes*n_muscles)\n",
    "pred_leaveout = reg.predict(leaveout_x.to('cuda'))\n",
    "plt.plot(pred_leaveout[0].detach().cpu().numpy())\n",
    "plt.plot(leaveout_x[0].detach().cpu().numpy(), alpha=0.5)"
   ]
  },
  {
   "cell_type": "code",
   "execution_count": 206,
   "metadata": {},
   "outputs": [
    {
     "data": {
      "text/plain": [
       "(array([48.,  0.,  0.,  0.,  0.,  0.,  0.,  0.,  0., 75.]),\n",
       " array([0.        , 0.1       , 0.2       , 0.30000001, 0.40000001,\n",
       "        0.5       , 0.60000002, 0.69999999, 0.80000001, 0.89999998,\n",
       "        1.        ]),\n",
       " <BarContainer object of 10 artists>)"
      ]
     },
     "execution_count": 206,
     "metadata": {},
     "output_type": "execute_result"
    },
    {
     "data": {
      "image/png": "[encoded data removed]",
      "text/plain": [
       "<Figure size 640x480 with 1 Axes>"
      ]
     },
     "metadata": {},
     "output_type": "display_data"
    }
   ],
   "source": [
    "plt.hist(Y[:,0])"
   ]
  },
  {
   "cell_type": "code",
   "execution_count": 207,
   "metadata": {},
   "outputs": [
    {
     "data": {
      "application/vnd.plotly.v1+json": {
       "config": {
        "plotlyServerURL": "https://plot.ly"
       },
       "data": [
        {
         "hovertemplate": "variable=0<br>index=%{x}<br>value=%{y}<extra></extra>",
         "legendgroup": "0",
         "line": {
          "color": "#636efa",
          "dash": "solid"
         },
         "marker": {
          "symbol": "circle"
         },
         "mode": "lines",
         "name": "0",
         "showlegend": true,
         "type": "scattergl",
         "x": [
          0,
          1,
          2,
          3,
          4,
          5,
          6,
          7,
          8,
          9,
          10,
          11,
          12,
          13,
          14,
          15,
          16,
          17,
          18,
          19,
          20,
          21,
          22,
          23,
          24,
          25,
          26,
          27,
          28,
          29,
          30,
          31,
          32,
          33,
          34,
          35,
          36,
          37,
          38,
          39,
          40,
          41,
          42,
          43,
          44,
          45,
          46,
          47,
          48,
          49,
          50,
          51,
          52,
          53,
          54,
          55,
          56,
          57,
          58,
          59,
          60,
          61,
          62,
          63,
          64,
          65,
          66,
          67,
          68,
          69,
          70,
          71,
          72,
          73,
          74,
          75,
          76,
          77,
          78,
          79,
          80,
          81,
          82,
          83,
          84,
          85,
          86,
          87,
          88,
          89,
          90,
          91,
          92,
          93,
          94,
          95,
          96,
          97,
          98,
          99,
          100,
          101,
          102,
          103,
          104,
          105,
          106,
          107,
          108,
          109,
          110,
          111,
          112,
          113,
          114,
          115,
          116,
          117,
          118,
          119,
          120,
          121,
          122,
          123,
          124,
          125,
          126,
          127,
          128,
          129,
          130,
          131,
          132,
          133,
          134,
          135,
          136,
          137,
          138,
          139,
          140,
          141,
          142,
          143,
          144,
          145,
          146,
          147,
          148,
          149,
          150,
          151,
          152,
          153,
          154,
          155,
          156,
          157,
          158,
          159,
          160,
          161,
          162,
          163,
          164,
          165,
          166,
          167,
          168,
          169,
          170,
          171,
          172,
          173,
          174,
          175,
          176,
          177,
          178,
          179,
          180,
          181,
          182,
          183,
          184,
          185,
          186,
          187,
          188,
          189,
          190,
          191,
          192,
          193,
          194,
          195,
          196,
          197,
          198,
          199,
          200,
          201,
          202,
          203,
          204,
          205,
          206,
          207,
          208,
          209,
          210,
          211,
          212,
          213,
          214,
          215,
          216,
          217,
          218,
          219,
          220,
          221,
          222,
          223,
          224,
          225,
          226,
          227,
          228,
          229,
          230,
          231,
          232,
          233,
          234,
          235,
          236,
          237,
          238,
          239,
          240,
          241,
          242,
          243,
          244,
          245,
          246,
          247,
          248,
          249,
          250,
          251,
          252,
          253,
          254,
          255,
          256,
          257,
          258,
          259,
          260,
          261,
          262,
          263,
          264,
          265,
          266,
          267,
          268,
          269,
          270,
          271,
          272,
          273,
          274,
          275,
          276,
          277,
          278,
          279,
          280,
          281,
          282,
          283,
          284,
          285,
          286,
          287,
          288,
          289,
          290,
          291,
          292,
          293,
          294,
          295,
          296,
          297,
          298,
          299,
          300,
          301,
          302,
          303,
          304,
          305,
          306,
          307,
          308,
          309,
          310,
          311,
          312,
          313,
          314,
          315,
          316,
          317,
          318,
          319,
          320,
          321,
          322,
          323,
          324,
          325,
          326,
          327,
          328,
          329,
          330,
          331,
          332,
          333,
          334,
          335,
          336,
          337,
          338,
          339,
          340,
          341,
          342,
          343,
          344,
          345,
          346,
          347,
          348,
          349,
          350,
          351,
          352,
          353,
          354,
          355,
          356,
          357,
          358,
          359,
          360,
          361,
          362,
          363,
          364,
          365,
          366,
          367,
          368,
          369,
          370,
          371,
          372,
          373,
          374,
          375,
          376,
          377,
          378,
          379,
          380,
          381,
          382,
          383,
          384,
          385,
          386,
          387,
          388,
          389,
          390,
          391,
          392,
          393,
          394,
          395,
          396,
          397,
          398,
          399,
          400,
          401,
          402,
          403,
          404,
          405,
          406,
          407,
          408,
          409,
          410,
          411,
          412,
          413,
          414,
          415,
          416,
          417,
          418,
          419,
          420,
          421,
          422,
          423,
          424,
          425,
          426,
          427,
          428,
          429,
          430,
          431,
          432,
          433,
          434,
          435,
          436,
          437,
          438,
          439,
          440,
          441,
          442,
          443,
          444,
          445,
          446,
          447,
          448,
          449,
          450,
          451,
          452,
          453,
          454,
          455,
          456,
          457,
          458,
          459,
          460,
          461,
          462,
          463,
          464,
          465,
          466,
          467,
          468,
          469,
          470,
          471,
          472,
          473,
          474,
          475,
          476,
          477,
          478,
          479,
          480,
          481,
          482,
          483,
          484,
          485,
          486,
          487,
          488,
          489,
          490,
          491,
          492,
          493,
          494,
          495,
          496,
          497,
          498,
          499,
          500,
          501,
          502,
          503,
          504,
          505,
          506,
          507,
          508,
          509,
          510,
          511,
          512,
          513,
          514,
          515,
          516,
          517,
          518,
          519,
          520,
          521,
          522,
          523,
          524,
          525,
          526,
          527,
          528,
          529,
          530,
          531,
          532,
          533,
          534,
          535,
          536,
          537,
          538,
          539,
          540,
          541,
          542,
          543,
          544,
          545,
          546,
          547,
          548,
          549,
          550,
          551,
          552,
          553,
          554,
          555,
          556,
          557,
          558,
          559,
          560,
          561,
          562,
          563,
          564,
          565,
          566,
          567,
          568,
          569,
          570,
          571,
          572,
          573,
          574,
          575,
          576,
          577,
          578,
          579,
          580,
          581,
          582,
          583,
          584,
          585,
          586,
          587,
          588,
          589,
          590,
          591,
          592,
          593,
          594,
          595,
          596,
          597,
          598,
          599,
          600,
          601,
          602,
          603,
          604,
          605,
          606,
          607,
          608,
          609,
          610,
          611,
          612,
          613,
          614,
          615,
          616,
          617,
          618,
          619,
          620,
          621,
          622,
          623,
          624,
          625,
          626,
          627,
          628,
          629,
          630,
          631,
          632,
          633,
          634,
          635,
          636,
          637,
          638,
          639,
          640,
          641,
          642,
          643,
          644,
          645,
          646,
          647,
          648,
          649,
          650,
          651,
          652,
          653,
          654,
          655,
          656,
          657,
          658,
          659,
          660,
          661,
          662,
          663,
          664,
          665,
          666,
          667,
          668,
          669,
          670,
          671,
          672,
          673,
          674,
          675,
          676,
          677,
          678,
          679,
          680,
          681,
          682,
          683,
          684,
          685,
          686,
          687,
          688,
          689,
          690,
          691,
          692,
          693,
          694,
          695,
          696,
          697,
          698,
          699,
          700,
          701,
          702,
          703,
          704,
          705,
          706,
          707,
          708,
          709,
          710,
          711,
          712,
          713,
          714,
          715,
          716,
          717,
          718,
          719,
          720,
          721,
          722,
          723,
          724,
          725,
          726,
          727,
          728,
          729,
          730,
          731,
          732,
          733,
          734,
          735,
          736,
          737,
          738,
          739,
          740,
          741,
          742,
          743,
          744,
          745,
          746,
          747,
          748,
          749,
          750,
          751,
          752,
          753,
          754,
          755,
          756,
          757,
          758,
          759,
          760,
          761,
          762,
          763,
          764,
          765,
          766,
          767,
          768,
          769,
          770,
          771,
          772,
          773,
          774,
          775,
          776,
          777,
          778,
          779,
          780,
          781,
          782,
          783,
          784,
          785,
          786,
          787,
          788,
          789,
          790,
          791,
          792,
          793,
          794,
          795,
          796,
          797,
          798,
          799,
          800,
          801,
          802,
          803,
          804,
          805,
          806,
          807,
          808,
          809,
          810,
          811,
          812,
          813,
          814,
          815,
          816,
          817,
          818,
          819,
          820,
          821,
          822,
          823,
          824,
          825,
          826,
          827,
          828,
          829,
          830,
          831,
          832,
          833,
          834,
          835,
          836,
          837,
          838,
          839,
          840,
          841,
          842,
          843,
          844,
          845,
          846,
          847,
          848,
          849,
          850,
          851,
          852,
          853,
          854,
          855,
          856,
          857,
          858,
          859,
          860,
          861,
          862,
          863,
          864,
          865,
          866,
          867,
          868,
          869,
          870,
          871,
          872,
          873,
          874,
          875,
          876,
          877,
          878,
          879,
          880,
          881,
          882,
          883,
          884,
          885,
          886,
          887,
          888,
          889,
          890,
          891,
          892,
          893,
          894,
          895,
          896,
          897,
          898,
          899,
          900,
          901,
          902,
          903,
          904,
          905,
          906,
          907,
          908,
          909,
          910,
          911,
          912,
          913,
          914,
          915,
          916,
          917,
          918,
          919,
          920,
          921,
          922,
          923,
          924,
          925,
          926,
          927,
          928,
          929,
          930,
          931,
          932,
          933,
          934,
          935,
          936,
          937,
          938,
          939,
          940,
          941,
          942,
          943,
          944,
          945,
          946,
          947,
          948,
          949,
          950,
          951,
          952,
          953,
          954,
          955,
          956,
          957,
          958,
          959,
          960,
          961,
          962,
          963,
          964,
          965,
          966,
          967,
          968,
          969,
          970,
          971,
          972,
          973,
          974,
          975,
          976,
          977,
          978,
          979,
          980,
          981,
          982,
          983,
          984,
          985,
          986,
          987,
          988,
          989,
          990,
          991,
          992,
          993,
          994,
          995,
          996,
          997,
          998,
          999,
          1000
         ],
         "xaxis": "x",
         "y": [
          435844.65625,
          430267.625,
          424985.5625,
          417796.875,
          407852.34375,
          390397.9375,
          362333.15625,
          324500.3125,
          298917.8125,
          288248.5625,
          251397.21875,
          228876.78125,
          214897.953125,
          197280.203125,
          179559.375,
          172373.46875,
          162935.59375,
          150497.515625,
          144947.890625,
          140865.578125,
          134831.109375,
          130696.8359375,
          130481.90625,
          127537.6328125,
          124430.078125,
          124153.953125,
          123447.671875,
          121557.1796875,
          120622.5234375,
          120746.546875,
          119895.734375,
          118643.5234375,
          118652.453125,
          118423.328125,
          117186.1328125,
          117008.890625,
          116837.421875,
          116113.34375,
          115694.0859375,
          115790.7578125,
          115208.203125,
          114843.8515625,
          114810.7421875,
          114576.7109375,
          114269.65625,
          114227.125,
          114029.625,
          113879.296875,
          113929.7578125,
          113732.953125,
          113627.515625,
          113623.9921875,
          113498.2421875,
          113500.796875,
          113450.0390625,
          113288.1875,
          113323.1484375,
          113226.28125,
          113192.65625,
          113141.265625,
          113117.5625,
          113078.234375,
          113041.7265625,
          112978.2578125,
          112983.0078125,
          112908.390625,
          112851.0859375,
          112859.0390625,
          112872.6015625,
          112772.2890625,
          112770.5390625,
          112770.34375,
          112735.40625,
          112710.2265625,
          112635.5859375,
          112641.3828125,
          112635.9296875,
          112575.90625,
          112540.375,
          112508.7734375,
          112493.515625,
          112415.8203125,
          112389.6640625,
          112408.1171875,
          112378.109375,
          112295.0390625,
          112299.5,
          112232.1328125,
          112159.5078125,
          112171.5546875,
          112064.5546875,
          112094.3828125,
          111965.609375,
          111922.5546875,
          111813.7578125,
          111831.4453125,
          111684.6953125,
          111636.453125,
          111495.46875,
          111420.015625,
          111203.140625,
          111081.0546875,
          110911.578125,
          110721.453125,
          110361.1953125,
          110190.9453125,
          109797.515625,
          109396.578125,
          108830.8125,
          108081.6953125,
          107407.0546875,
          106509.2890625,
          105429.2421875,
          104529.1171875,
          103838.734375,
          102659.171875,
          101958.84375,
          101122.9765625,
          99929.8359375,
          99238.34375,
          98080.1015625,
          97156.984375,
          96389.140625,
          95831.3125,
          94717.5390625,
          93805.359375,
          93160.1953125,
          92483.375,
          91964.0703125,
          91553.234375,
          91246.7734375,
          91511.75,
          93314.890625,
          89935.296875,
          91928.0703125,
          92748.6796875,
          91414.046875,
          89972.640625,
          90759.796875,
          89369.171875,
          90374.3125,
          88910.0390625,
          88757.875,
          89237.046875,
          87897.1796875,
          88595.0546875,
          88240.8515625,
          87221.4609375,
          88044.5234375,
          86987.125,
          87038.1796875,
          87041.3828125,
          86307.5,
          86459.34375,
          86092.9140625,
          85648.1015625,
          85670.9921875,
          85143.3125,
          84936.15625,
          84591.9296875,
          84165.390625,
          83877.84375,
          83286.953125,
          83125.125,
          82393.6484375,
          82105.59375,
          81443.8046875,
          81024.828125,
          80322.6171875,
          79755.640625,
          79040.0859375,
          78364.9296875,
          77628.4375,
          76875.953125,
          76016.203125,
          75210.4140625,
          74294.9921875,
          73371.6875,
          72439.9765625,
          71500.8515625,
          70540.2265625,
          69531.8046875,
          68589.953125,
          67592.921875,
          66688.6484375,
          65754.484375,
          64956.85546875,
          63998.5078125,
          63228.59375,
          62445.04296875,
          61777.17578125,
          61218.8828125,
          60718.515625,
          60404.984375,
          60403.43359375,
          60264.41796875,
          58896.46875,
          57777.64453125,
          58052.34375,
          57848.04296875,
          56927.25390625,
          56183.78515625,
          56405.83203125,
          56199.71484375,
          55087.18359375,
          54761.796875,
          54889.1875,
          54210.515625,
          53344.03125,
          53129.7265625,
          52914.23828125,
          52322.48828125,
          51632.12109375,
          51197.42578125,
          51078.76953125,
          50807.33203125,
          49825.00390625,
          49198.55859375,
          48912.43359375,
          49046.7265625,
          48709.78515625,
          47879.51171875,
          46662.99609375,
          46779.890625,
          47239.23046875,
          47089.9921875,
          45268.77734375,
          44983.484375,
          47024.25390625,
          45877.78515625,
          43822.62890625,
          44627.171875,
          42949.65625,
          42653.66015625,
          42690.2578125,
          41586.6953125,
          41658.703125,
          40719.84765625,
          40603.86328125,
          40400.20703125,
          39621.65234375,
          39358.22265625,
          38768.51953125,
          38220.15625,
          38104.90625,
          37465.19921875,
          37150.6953125,
          36809.58984375,
          36266.1171875,
          35942.40625,
          35860.81640625,
          35161.97265625,
          34655.1484375,
          34925.265625,
          34162.5546875,
          33644.46875,
          33382.0078125,
          33143.61328125,
          32882.66796875,
          32207.94921875,
          32082.056640625,
          31518.79296875,
          31307.427734375,
          30777.36328125,
          30656.63671875,
          30238.21484375,
          29912.224609375,
          29614.744140625,
          29302.205078125,
          29044.14453125,
          28761.923828125,
          28483.1015625,
          28266.3125,
          28041.796875,
          27798.951171875,
          27557.2421875,
          27354.12109375,
          27134.615234375,
          26989.166015625,
          26868.814453125,
          26819.0390625,
          26561.35546875,
          26158.203125,
          26075.296875,
          25829.275390625,
          25742.41015625,
          25450.404296875,
          25328.6875,
          25104.275390625,
          25068.6953125,
          24819.0625,
          24717.609375,
          24451.5625,
          24290.6796875,
          24160.990234375,
          23978.615234375,
          23903.740234375,
          23647.669921875,
          23633.3828125,
          23388.560546875,
          23374.16015625,
          23204.298828125,
          23016.943359375,
          22952.822265625,
          22741.490234375,
          22911.47265625,
          22839.541015625,
          22941.380859375,
          23317.345703125,
          23322.431640625,
          22993.16015625,
          22236.734375,
          21988.59375,
          22183.62890625,
          21948.42578125,
          21593.921875,
          21772.916015625,
          21796.14453125,
          21396.2890625,
          21345.484375,
          21712.8828125,
          21504.212890625,
          20946.564453125,
          20971.857421875,
          21069.146484375,
          20912.4609375,
          20593.6796875,
          20455.09765625,
          20809.701171875,
          22001.224609375,
          22330.77734375,
          21679.919921875,
          20307.599609375,
          20352.109375,
          21285.626953125,
          20497.080078125,
          19796.828125,
          20524.943359375,
          19984.60546875,
          19464.720703125,
          19855.24609375,
          19314.55859375,
          19098.646484375,
          19282.0078125,
          18883.568359375,
          18619.57421875,
          18890.091796875,
          18439.6953125,
          18203.482421875,
          18534.12109375,
          19030.31640625,
          19026.71875,
          18030.591796875,
          17443.62890625,
          18575.064453125,
          18851.984375,
          17341.52734375,
          17442.037109375,
          18423.712890625,
          16767.40234375,
          16972.740234375,
          17272.580078125,
          16065.033203125,
          17326.130859375,
          17081.205078125,
          15695.8037109375,
          16885.44140625,
          16146.75390625,
          15394.1591796875,
          16064.9619140625,
          15033.8916015625,
          15280.224609375,
          15298.328125,
          14355.3125,
          14876.576171875,
          14216.75,
          14199.7919921875,
          14137.5068359375,
          13723.4580078125,
          13999.9716796875,
          13550.013671875,
          13392.95703125,
          13697.037109375,
          13319.619140625,
          13002.724609375,
          13078.7119140625,
          12690.2763671875,
          12624.896484375,
          12618.2197265625,
          12268.80078125,
          12357.5576171875,
          12131.568359375,
          11890.3720703125,
          11982.4580078125,
          11712.4736328125,
          11640.712890625,
          11547.42578125,
          11550.0234375,
          11793.78125,
          11723.2509765625,
          11365.82421875,
          10912.2587890625,
          10929.0361328125,
          10889.484375,
          10668.3056640625,
          10528.443359375,
          10419.04296875,
          10308.97265625,
          10621.0546875,
          10639.708984375,
          10230.3984375,
          10035.341796875,
          10649.3984375,
          10940.78515625,
          10323.70703125,
          9847.615234375,
          9845.2939453125,
          9777.7880859375,
          9719.6845703125,
          9643.0859375,
          9322.8798828125,
          9396.935546875,
          9353.3740234375,
          9018.6162109375,
          9134.6982421875,
          9204.94140625,
          8835.1650390625,
          8800.451171875,
          8782.6416015625,
          8655.5732421875,
          8561.861328125,
          8455.7734375,
          8371.65625,
          8241.78515625,
          8278.69140625,
          8129.49755859375,
          8111.1328125,
          8012.34619140625,
          7961.50390625,
          7964.5,
          7903.248046875,
          7831.3955078125,
          7682.984375,
          7710.19091796875,
          7598.4306640625,
          7605.5654296875,
          7600.1513671875,
          7550.1279296875,
          7483.681640625,
          7405.67626953125,
          7463.5830078125,
          7325.64990234375,
          7240.72216796875,
          7345.3896484375,
          7268.50634765625,
          7129.61572265625,
          7129.646484375,
          7112.0712890625,
          7083.671875,
          6968.78076171875,
          6883.5712890625,
          6919.88232421875,
          6870.724609375,
          6803.0244140625,
          6766.32177734375,
          6857.91796875,
          6676.37548828125,
          6715.806640625,
          6635.82421875,
          6582.853515625,
          6570.9853515625,
          6526.001953125,
          6484.40380859375,
          6464.306640625,
          6339.45166015625,
          6416.76904296875,
          6317.806640625,
          6323.5595703125,
          6249.4873046875,
          6334.9677734375,
          6277.32177734375,
          6192.623046875,
          6198.7529296875,
          6138.42919921875,
          6071.19775390625,
          6126.619140625,
          5991.66552734375,
          5964.81494140625,
          5970.509765625,
          5958.0556640625,
          6039.5751953125,
          6010.708984375,
          5930.4228515625,
          5785.98388671875,
          5938.98095703125,
          6177.0322265625,
          6135.818359375,
          5833.70556640625,
          5713.24072265625,
          5988.330078125,
          5978.9384765625,
          5689.1572265625,
          5783.1533203125,
          5897.3818359375,
          5747.5146484375,
          5546.23583984375,
          5517.9658203125,
          5530.06201171875,
          5386.744140625,
          5432.8916015625,
          5438.2939453125,
          5361.369140625,
          5436.61669921875,
          5299.59521484375,
          5235.8193359375,
          5280.83642578125,
          5259.056640625,
          5234.48583984375,
          5160.83984375,
          5154.58251953125,
          5176.1923828125,
          5106.73046875,
          5074.63525390625,
          5012.41064453125,
          5005.95751953125,
          4973.57568359375,
          4934.0498046875,
          4935.99462890625,
          4953.52392578125,
          4896.92236328125,
          4908.3720703125,
          4902.26318359375,
          4818.474609375,
          4961.75390625,
          5085.71630859375,
          5019.220703125,
          4904.99853515625,
          4941.005859375,
          5123.6572265625,
          5363.72412109375,
          5232.69970703125,
          5094.712890625,
          5053.77294921875,
          5176.4404296875,
          5186.6259765625,
          4953.9541015625,
          4604.927734375,
          4817.60791015625,
          5074.275390625,
          4991.306640625,
          4624.021484375,
          4697.96533203125,
          4929.27587890625,
          4635.15625,
          4562.87255859375,
          4742.06982421875,
          4573.4404296875,
          4640.3642578125,
          4541.98291015625,
          4409.63134765625,
          4467.1279296875,
          4479.34375,
          4317.2939453125,
          4457.89599609375,
          4398.984375,
          4257.013671875,
          4318.07958984375,
          4365.888671875,
          4207.3388671875,
          4374.12646484375,
          4514.62109375,
          4312.32666015625,
          4069.65283203125,
          4102.45166015625,
          4103.73046875,
          4101.9619140625,
          4096.6708984375,
          4143.78857421875,
          4123.48193359375,
          4003.859375,
          3902.189453125,
          3939.91845703125,
          3937.146484375,
          3962.856201171875,
          3963.76904296875,
          4086.789306640625,
          4075.6826171875,
          3938.486572265625,
          3800.71337890625,
          3788.58056640625,
          3759.574951171875,
          3694.975830078125,
          3669.5859375,
          3675.953857421875,
          3807.675537109375,
          3728.094970703125,
          3671.3974609375,
          3582.899169921875,
          3581.4560546875,
          3597.40185546875,
          3484.58544921875,
          3442.173828125,
          3456.9677734375,
          3528.677734375,
          3583.17236328125,
          3730.430419921875,
          4117.384765625,
          4788.79931640625,
          7583.3720703125,
          21501.884765625,
          72187.0078125,
          30078.404296875,
          56828.2578125,
          33903.6484375,
          47974.328125,
          23304.275390625,
          45894.85546875,
          19974.1015625,
          25230.765625,
          30811.716796875,
          27271.486328125,
          20329.041015625,
          22183.875,
          21360.146484375,
          18164.435546875,
          16360.37890625,
          14714.486328125,
          12584.4921875,
          12163.4365234375,
          11585.6318359375,
          10606.8974609375,
          9339.6494140625,
          8484.287109375,
          8509.2099609375,
          8075.1142578125,
          7175.6982421875,
          7053.8955078125,
          7012.24658203125,
          6790.4453125,
          6358.99951171875,
          6054.1357421875,
          5799.3466796875,
          5839.7158203125,
          5331.63720703125,
          5179.412109375,
          5233.599609375,
          5141.384765625,
          4860.18896484375,
          4739.94287109375,
          4545.68994140625,
          4524.58447265625,
          4381.0966796875,
          4206.5400390625,
          4204.65234375,
          4120.05615234375,
          4058.79052734375,
          3937.6171875,
          3834.514404296875,
          3764.134521484375,
          3703.616455078125,
          3628.885009765625,
          3560.49072265625,
          3441.9111328125,
          3425.028076171875,
          3418.187255859375,
          3369.24169921875,
          3301.8984375,
          3297.031494140625,
          3236.78076171875,
          3145.367919921875,
          3081.7822265625,
          3095.97216796875,
          3031.655517578125,
          2996.841796875,
          2978.43896484375,
          2979.047119140625,
          2955.7275390625,
          2912.749267578125,
          2870.74853515625,
          2850.8076171875,
          2830.5009765625,
          2773.97705078125,
          2729.697509765625,
          2717.188232421875,
          2711.71533203125,
          2722.8974609375,
          2650.904052734375,
          2590.596435546875,
          2648.061279296875,
          2545.62939453125,
          2521.548828125,
          2517.482666015625,
          2482.664306640625,
          2478.10302734375,
          2474.314453125,
          2393.30419921875,
          2391.4677734375,
          2355.78662109375,
          2364.072265625,
          2326.5615234375,
          2349.368896484375,
          2306.320068359375,
          2258.05419921875,
          2230.2412109375,
          2231.79638671875,
          2175.1298828125,
          2111.73193359375,
          2127.90625,
          2100.082275390625,
          2116.695068359375,
          2095.6669921875,
          2072.078125,
          2021.75244140625,
          2051.158203125,
          1982.197998046875,
          1971.4832763671875,
          1911.2294921875,
          1970.7947998046875,
          1902.9119873046875,
          1885.1014404296875,
          1889.0369873046875,
          1857.1898193359375,
          1803.287841796875,
          1786.893310546875,
          1779.3604736328125,
          1733.2626953125,
          1743.417724609375,
          1706.085205078125,
          1695.40234375,
          1697.470703125,
          1684.215576171875,
          1596.3939208984375,
          1612.4332275390625,
          1587.25390625,
          1656.30615234375,
          1616.767333984375,
          1547.722900390625,
          1608.8748779296875,
          1525.186279296875,
          1516.4354248046875,
          1490.373779296875,
          1521.492431640625,
          1421.2633056640625,
          1435.1055908203125,
          1478.7200927734375,
          1388.663818359375,
          1419.906494140625,
          1362.691162109375,
          1384.5447998046875,
          1289.47509765625,
          1300.02294921875,
          1268.4114990234375,
          1272.102294921875,
          1259.028564453125,
          1217.99951171875,
          1226.1829833984375,
          1216.8804931640625,
          1198.2607421875,
          1219.60791015625,
          1147.8270263671875,
          1177.5386962890625,
          1110.832275390625,
          1122.118408203125,
          1095.545166015625,
          1097.0235595703125,
          1086.698974609375,
          1072.029541015625,
          1039.72705078125,
          1060.2115478515625,
          1040.6995849609375,
          1035.368896484375,
          997.4202880859375,
          1002.2330932617188,
          1001.3898315429688,
          1017.12353515625,
          942.9482421875,
          941.16259765625,
          947.2857666015625,
          917.6153564453125,
          927.7848510742188,
          920.3692626953125,
          898.5792236328125,
          878.2987060546875,
          916.8990478515625,
          870.0533447265625,
          882.7623901367188,
          849.9722900390625,
          859.1796875,
          794.19970703125,
          806.3665771484375,
          807.418701171875,
          836.7017211914062,
          800.5342407226562,
          787.4534301757812,
          795.7369995117188,
          757.4033813476562,
          783.029296875,
          773.4515380859375,
          727.48193359375,
          733.7476196289062,
          707.7159423828125,
          730.2449951171875,
          706.9132080078125,
          719.3602294921875,
          724.2340087890625,
          694.5211181640625,
          725.919189453125,
          712.1153564453125,
          708.073974609375,
          662.3253173828125,
          703.9561767578125,
          634.2251586914062,
          652.6783447265625,
          670.57666015625,
          660.7797241210938,
          639.943359375,
          652.8530883789062,
          608.25634765625,
          627.2220458984375,
          588.48828125,
          601.7176513671875,
          641.027099609375,
          578.2625732421875,
          593.1937255859375,
          602.8600463867188,
          594.590087890625,
          585.315185546875,
          577.2615966796875,
          543.2779541015625,
          546.264892578125,
          564.0675048828125,
          568.4808959960938,
          540.0408935546875,
          570.2350463867188,
          526.3096313476562,
          548.7030639648438,
          529.6458129882812,
          528.1280517578125,
          508.2541809082031,
          539.0009155273438,
          540.1756591796875,
          508.9993591308594,
          541.412353515625,
          525.87353515625,
          523.71875,
          541.4758911132812,
          542.0452880859375,
          535.6531982421875,
          506.61517333984375,
          504.97491455078125,
          486.3083801269531,
          506.11285400390625,
          499.0249938964844,
          482.78173828125,
          474.4898376464844,
          495.1436767578125,
          508.9853820800781,
          492.8424987792969,
          485.6270446777344,
          482.8414306640625,
          466.41253662109375,
          446.9875793457031,
          467.62982177734375,
          445.0126953125,
          461.31756591796875,
          462.58306884765625,
          442.8583984375,
          433.0914306640625,
          428.0871276855469,
          464.42340087890625,
          448.44647216796875,
          426.5163269042969,
          425.3936462402344,
          409.0903625488281,
          409.44793701171875,
          395.63861083984375,
          415.2336730957031,
          400.2412109375,
          410.121826171875,
          397.6778564453125,
          422.7378845214844,
          405.14910888671875,
          387.77996826171875,
          410.35107421875,
          404.72381591796875,
          373.94732666015625,
          408.6361389160156,
          382.6554870605469,
          390.4952392578125,
          353.9779968261719,
          413.58941650390625,
          360.30810546875,
          389.81414794921875,
          345.556640625,
          374.9826965332031,
          377.30224609375,
          390.6186828613281,
          381.18695068359375,
          349.4771423339844,
          374.3431091308594,
          344.06927490234375,
          360.5920104980469,
          361.19189453125,
          350.3780517578125,
          353.15252685546875,
          361.4836730957031,
          325.3302307128906,
          361.5480041503906,
          338.36273193359375,
          358.35137939453125,
          347.7447509765625,
          332.21026611328125,
          332.1468505859375,
          361.407958984375,
          321.0947570800781,
          341.0569763183594,
          350.3036193847656,
          346.71502685546875,
          323.4468994140625,
          331.6578674316406,
          330.29913330078125,
          336.9563903808594,
          324.62762451171875,
          328.23980712890625,
          329.0213623046875,
          340.268798828125,
          319.9156494140625,
          323.8577880859375,
          327.31451416015625,
          347.8813781738281,
          327.7543640136719,
          316.1192932128906,
          327.4762268066406,
          359.9952087402344,
          337.0734558105469,
          351.4649658203125,
          317.7419128417969,
          338.49176025390625,
          317.6730041503906,
          327.9476623535156,
          295.15899658203125,
          320.35162353515625,
          312.4989013671875,
          283.6101379394531,
          315.1035461425781,
          305.58251953125,
          305.279052734375,
          305.16302490234375,
          299.23846435546875,
          298.72967529296875,
          302.2000427246094,
          289.298583984375,
          283.64276123046875,
          281.4576416015625,
          315.7183837890625,
          285.33795166015625,
          308.0118408203125,
          287.65380859375,
          287.0054931640625,
          281.5636901855469,
          271.35125732421875,
          284.18084716796875,
          279.5560302734375,
          278.5639953613281,
          289.03216552734375,
          302.32208251953125,
          264.881591796875,
          272.4233703613281,
          266.2884521484375,
          294.01849365234375,
          264.11358642578125,
          269.811767578125,
          275.02557373046875,
          282.3272705078125,
          281.29034423828125,
          285.37017822265625,
          303.1328125,
          271.5869445800781,
          283.4865417480469,
          289.4827880859375,
          267.76708984375,
          275.99200439453125,
          280.00048828125,
          269.33087158203125,
          272.63116455078125,
          280.09307861328125,
          271.31890869140625,
          274.6031494140625,
          292.2964172363281,
          245.24229431152344,
          247.71429443359375,
          257.36431884765625,
          257.39044189453125,
          246.25157165527344,
          268.3056640625,
          275.80926513671875,
          262.0810852050781,
          266.57940673828125,
          281.6533203125,
          260.0567626953125,
          255.78582763671875
         ],
         "yaxis": "y"
        }
       ],
       "layout": {
        "legend": {
         "title": {
          "text": "variable"
         },
         "tracegroupgap": 0
        },
        "template": {
         "data": {
          "bar": [
           {
            "error_x": {
             "color": "#2a3f5f"
            },
            "error_y": {
             "color": "#2a3f5f"
            },
            "marker": {
             "line": {
              "color": "#E5ECF6",
              "width": 0.5
             },
             "pattern": {
              "fillmode": "overlay",
              "size": 10,
              "solidity": 0.2
             }
            },
            "type": "bar"
           }
          ],
          "barpolar": [
           {
            "marker": {
             "line": {
              "color": "#E5ECF6",
              "width": 0.5
             },
             "pattern": {
              "fillmode": "overlay",
              "size": 10,
              "solidity": 0.2
             }
            },
            "type": "barpolar"
           }
          ],
          "carpet": [
           {
            "aaxis": {
             "endlinecolor": "#2a3f5f",
             "gridcolor": "white",
             "linecolor": "white",
             "minorgridcolor": "white",
             "startlinecolor": "#2a3f5f"
            },
            "baxis": {
             "endlinecolor": "#2a3f5f",
             "gridcolor": "white",
             "linecolor": "white",
             "minorgridcolor": "white",
             "startlinecolor": "#2a3f5f"
            },
            "type": "carpet"
           }
          ],
          "choropleth": [
           {
            "colorbar": {
             "outlinewidth": 0,
             "ticks": ""
            },
            "type": "choropleth"
           }
          ],
          "contour": [
           {
            "colorbar": {
             "outlinewidth": 0,
             "ticks": ""
            },
            "colorscale": [
             [
              0,
              "#0d0887"
             ],
             [
              0.1111111111111111,
              "#46039f"
             ],
             [
              0.2222222222222222,
              "#7201a8"
             ],
             [
              0.3333333333333333,
              "#9c179e"
             ],
             [
              0.4444444444444444,
              "#bd3786"
             ],
             [
              0.5555555555555556,
              "#d8576b"
             ],
             [
              0.6666666666666666,
              "#ed7953"
             ],
             [
              0.7777777777777778,
              "#fb9f3a"
             ],
             [
              0.8888888888888888,
              "#fdca26"
             ],
             [
              1,
              "#f0f921"
             ]
            ],
            "type": "contour"
           }
          ],
          "contourcarpet": [
           {
            "colorbar": {
             "outlinewidth": 0,
             "ticks": ""
            },
            "type": "contourcarpet"
           }
          ],
          "heatmap": [
           {
            "colorbar": {
             "outlinewidth": 0,
             "ticks": ""
            },
            "colorscale": [
             [
              0,
              "#0d0887"
             ],
             [
              0.1111111111111111,
              "#46039f"
             ],
             [
              0.2222222222222222,
              "#7201a8"
             ],
             [
              0.3333333333333333,
              "#9c179e"
             ],
             [
              0.4444444444444444,
              "#bd3786"
             ],
             [
              0.5555555555555556,
              "#d8576b"
             ],
             [
              0.6666666666666666,
              "#ed7953"
             ],
             [
              0.7777777777777778,
              "#fb9f3a"
             ],
             [
              0.8888888888888888,
              "#fdca26"
             ],
             [
              1,
              "#f0f921"
             ]
            ],
            "type": "heatmap"
           }
          ],
          "heatmapgl": [
           {
            "colorbar": {
             "outlinewidth": 0,
             "ticks": ""
            },
            "colorscale": [
             [
              0,
              "#0d0887"
             ],
             [
              0.1111111111111111,
              "#46039f"
             ],
             [
              0.2222222222222222,
              "#7201a8"
             ],
             [
              0.3333333333333333,
              "#9c179e"
             ],
             [
              0.4444444444444444,
              "#bd3786"
             ],
             [
              0.5555555555555556,
              "#d8576b"
             ],
             [
              0.6666666666666666,
              "#ed7953"
             ],
             [
              0.7777777777777778,
              "#fb9f3a"
             ],
             [
              0.8888888888888888,
              "#fdca26"
             ],
             [
              1,
              "#f0f921"
             ]
            ],
            "type": "heatmapgl"
           }
          ],
          "histogram": [
           {
            "marker": {
             "pattern": {
              "fillmode": "overlay",
              "size": 10,
              "solidity": 0.2
             }
            },
            "type": "histogram"
           }
          ],
          "histogram2d": [
           {
            "colorbar": {
             "outlinewidth": 0,
             "ticks": ""
            },
            "colorscale": [
             [
              0,
              "#0d0887"
             ],
             [
              0.1111111111111111,
              "#46039f"
             ],
             [
              0.2222222222222222,
              "#7201a8"
             ],
             [
              0.3333333333333333,
              "#9c179e"
             ],
             [
              0.4444444444444444,
              "#bd3786"
             ],
             [
              0.5555555555555556,
              "#d8576b"
             ],
             [
              0.6666666666666666,
              "#ed7953"
             ],
             [
              0.7777777777777778,
              "#fb9f3a"
             ],
             [
              0.8888888888888888,
              "#fdca26"
             ],
             [
              1,
              "#f0f921"
             ]
            ],
            "type": "histogram2d"
           }
          ],
          "histogram2dcontour": [
           {
            "colorbar": {
             "outlinewidth": 0,
             "ticks": ""
            },
            "colorscale": [
             [
              0,
              "#0d0887"
             ],
             [
              0.1111111111111111,
              "#46039f"
             ],
             [
              0.2222222222222222,
              "#7201a8"
             ],
             [
              0.3333333333333333,
              "#9c179e"
             ],
             [
              0.4444444444444444,
              "#bd3786"
             ],
             [
              0.5555555555555556,
              "#d8576b"
             ],
             [
              0.6666666666666666,
              "#ed7953"
             ],
             [
              0.7777777777777778,
              "#fb9f3a"
             ],
             [
              0.8888888888888888,
              "#fdca26"
             ],
             [
              1,
              "#f0f921"
             ]
            ],
            "type": "histogram2dcontour"
           }
          ],
          "mesh3d": [
           {
            "colorbar": {
             "outlinewidth": 0,
             "ticks": ""
            },
            "type": "mesh3d"
           }
          ],
          "parcoords": [
           {
            "line": {
             "colorbar": {
              "outlinewidth": 0,
              "ticks": ""
             }
            },
            "type": "parcoords"
           }
          ],
          "pie": [
           {
            "automargin": true,
            "type": "pie"
           }
          ],
          "scatter": [
           {
            "fillpattern": {
             "fillmode": "overlay",
             "size": 10,
             "solidity": 0.2
            },
            "type": "scatter"
           }
          ],
          "scatter3d": [
           {
            "line": {
             "colorbar": {
              "outlinewidth": 0,
              "ticks": ""
             }
            },
            "marker": {
             "colorbar": {
              "outlinewidth": 0,
              "ticks": ""
             }
            },
            "type": "scatter3d"
           }
          ],
          "scattercarpet": [
           {
            "marker": {
             "colorbar": {
              "outlinewidth": 0,
              "ticks": ""
             }
            },
            "type": "scattercarpet"
           }
          ],
          "scattergeo": [
           {
            "marker": {
             "colorbar": {
              "outlinewidth": 0,
              "ticks": ""
             }
            },
            "type": "scattergeo"
           }
          ],
          "scattergl": [
           {
            "marker": {
             "colorbar": {
              "outlinewidth": 0,
              "ticks": ""
             }
            },
            "type": "scattergl"
           }
          ],
          "scattermapbox": [
           {
            "marker": {
             "colorbar": {
              "outlinewidth": 0,
              "ticks": ""
             }
            },
            "type": "scattermapbox"
           }
          ],
          "scatterpolar": [
           {
            "marker": {
             "colorbar": {
              "outlinewidth": 0,
              "ticks": ""
             }
            },
            "type": "scatterpolar"
           }
          ],
          "scatterpolargl": [
           {
            "marker": {
             "colorbar": {
              "outlinewidth": 0,
              "ticks": ""
             }
            },
            "type": "scatterpolargl"
           }
          ],
          "scatterternary": [
           {
            "marker": {
             "colorbar": {
              "outlinewidth": 0,
              "ticks": ""
             }
            },
            "type": "scatterternary"
           }
          ],
          "surface": [
           {
            "colorbar": {
             "outlinewidth": 0,
             "ticks": ""
            },
            "colorscale": [
             [
              0,
              "#0d0887"
             ],
             [
              0.1111111111111111,
              "#46039f"
             ],
             [
              0.2222222222222222,
              "#7201a8"
             ],
             [
              0.3333333333333333,
              "#9c179e"
             ],
             [
              0.4444444444444444,
              "#bd3786"
             ],
             [
              0.5555555555555556,
              "#d8576b"
             ],
             [
              0.6666666666666666,
              "#ed7953"
             ],
             [
              0.7777777777777778,
              "#fb9f3a"
             ],
             [
              0.8888888888888888,
              "#fdca26"
             ],
             [
              1,
              "#f0f921"
             ]
            ],
            "type": "surface"
           }
          ],
          "table": [
           {
            "cells": {
             "fill": {
              "color": "#EBF0F8"
             },
             "line": {
              "color": "white"
             }
            },
            "header": {
             "fill": {
              "color": "#C8D4E3"
             },
             "line": {
              "color": "white"
             }
            },
            "type": "table"
           }
          ]
         },
         "layout": {
          "annotationdefaults": {
           "arrowcolor": "#2a3f5f",
           "arrowhead": 0,
           "arrowwidth": 1
          },
          "autotypenumbers": "strict",
          "coloraxis": {
           "colorbar": {
            "outlinewidth": 0,
            "ticks": ""
           }
          },
          "colorscale": {
           "diverging": [
            [
             0,
             "#8e0152"
            ],
            [
             0.1,
             "#c51b7d"
            ],
            [
             0.2,
             "#de77ae"
            ],
            [
             0.3,
             "#f1b6da"
            ],
            [
             0.4,
             "#fde0ef"
            ],
            [
             0.5,
             "#f7f7f7"
            ],
            [
             0.6,
             "#e6f5d0"
            ],
            [
             0.7,
             "#b8e186"
            ],
            [
             0.8,
             "#7fbc41"
            ],
            [
             0.9,
             "#4d9221"
            ],
            [
             1,
             "#276419"
            ]
           ],
           "sequential": [
            [
             0,
             "#0d0887"
            ],
            [
             0.1111111111111111,
             "#46039f"
            ],
            [
             0.2222222222222222,
             "#7201a8"
            ],
            [
             0.3333333333333333,
             "#9c179e"
            ],
            [
             0.4444444444444444,
             "#bd3786"
            ],
            [
             0.5555555555555556,
             "#d8576b"
            ],
            [
             0.6666666666666666,
             "#ed7953"
            ],
            [
             0.7777777777777778,
             "#fb9f3a"
            ],
            [
             0.8888888888888888,
             "#fdca26"
            ],
            [
             1,
             "#f0f921"
            ]
           ],
           "sequentialminus": [
            [
             0,
             "#0d0887"
            ],
            [
             0.1111111111111111,
             "#46039f"
            ],
            [
             0.2222222222222222,
             "#7201a8"
            ],
            [
             0.3333333333333333,
             "#9c179e"
            ],
            [
             0.4444444444444444,
             "#bd3786"
            ],
            [
             0.5555555555555556,
             "#d8576b"
            ],
            [
             0.6666666666666666,
             "#ed7953"
            ],
            [
             0.7777777777777778,
             "#fb9f3a"
            ],
            [
             0.8888888888888888,
             "#fdca26"
            ],
            [
             1,
             "#f0f921"
            ]
           ]
          },
          "colorway": [
           "#636efa",
           "#EF553B",
           "#00cc96",
           "#ab63fa",
           "#FFA15A",
           "#19d3f3",
           "#FF6692",
           "#B6E880",
           "#FF97FF",
           "#FECB52"
          ],
          "font": {
           "color": "#2a3f5f"
          },
          "geo": {
           "bgcolor": "white",
           "lakecolor": "white",
           "landcolor": "#E5ECF6",
           "showlakes": true,
           "showland": true,
           "subunitcolor": "white"
          },
          "hoverlabel": {
           "align": "left"
          },
          "hovermode": "closest",
          "mapbox": {
           "style": "light"
          },
          "paper_bgcolor": "white",
          "plot_bgcolor": "#E5ECF6",
          "polar": {
           "angularaxis": {
            "gridcolor": "white",
            "linecolor": "white",
            "ticks": ""
           },
           "bgcolor": "#E5ECF6",
           "radialaxis": {
            "gridcolor": "white",
            "linecolor": "white",
            "ticks": ""
           }
          },
          "scene": {
           "xaxis": {
            "backgroundcolor": "#E5ECF6",
            "gridcolor": "white",
            "gridwidth": 2,
            "linecolor": "white",
            "showbackground": true,
            "ticks": "",
            "zerolinecolor": "white"
           },
           "yaxis": {
            "backgroundcolor": "#E5ECF6",
            "gridcolor": "white",
            "gridwidth": 2,
            "linecolor": "white",
            "showbackground": true,
            "ticks": "",
            "zerolinecolor": "white"
           },
           "zaxis": {
            "backgroundcolor": "#E5ECF6",
            "gridcolor": "white",
            "gridwidth": 2,
            "linecolor": "white",
            "showbackground": true,
            "ticks": "",
            "zerolinecolor": "white"
           }
          },
          "shapedefaults": {
           "line": {
            "color": "#2a3f5f"
           }
          },
          "ternary": {
           "aaxis": {
            "gridcolor": "white",
            "linecolor": "white",
            "ticks": ""
           },
           "baxis": {
            "gridcolor": "white",
            "linecolor": "white",
            "ticks": ""
           },
           "bgcolor": "#E5ECF6",
           "caxis": {
            "gridcolor": "white",
            "linecolor": "white",
            "ticks": ""
           }
          },
          "title": {
           "x": 0.05
          },
          "xaxis": {
           "automargin": true,
           "gridcolor": "white",
           "linecolor": "white",
           "ticks": "",
           "title": {
            "standoff": 15
           },
           "zerolinecolor": "white",
           "zerolinewidth": 2
          },
          "yaxis": {
           "automargin": true,
           "gridcolor": "white",
           "linecolor": "white",
           "ticks": "",
           "title": {
            "standoff": 15
           },
           "zerolinecolor": "white",
           "zerolinewidth": 2
          }
         }
        },
        "title": {
         "text": "Losses"
        },
        "xaxis": {
         "anchor": "y",
         "domain": [
          0,
          1
         ],
         "title": {
          "text": "index"
         }
        },
        "yaxis": {
         "anchor": "x",
         "domain": [
          0,
          1
         ],
         "title": {
          "text": "value"
         }
        }
       }
      }
     },
     "metadata": {},
     "output_type": "display_data"
    }
   ],
   "source": [
    "# plot the losses\n",
    "import plotly.express as px\n",
    "px.line(reg.losses.detach().cpu(), title='Losses')"
   ]
  },
  {
   "cell_type": "code",
   "execution_count": 208,
   "metadata": {},
   "outputs": [
    {
     "data": {
      "text/plain": [
       "((15, 11000), torch.Size([15, 11000]), torch.Size([123, 2]))"
      ]
     },
     "execution_count": 208,
     "metadata": {},
     "output_type": "execute_result"
    }
   ],
   "source": [
    "# pass the data through the model\n",
    "X_prime_hat = reg.predict(X_prime.to('cuda'))\n",
    "X_prime_hat = X_prime_hat.detach().cpu().numpy()\n",
    "X_prime_hat.shape, X_prime.shape, Y.shape"
   ]
  },
  {
   "cell_type": "code",
   "execution_count": 209,
   "metadata": {},
   "outputs": [
    {
     "data": {
      "text/plain": [
       "<matplotlib.collections.PathCollection at 0x1f02c4ab3a0>"
      ]
     },
     "execution_count": 209,
     "metadata": {},
     "output_type": "execute_result"
    },
    {
     "data": {
      "image/png": "[encoded data removed]",
      "text/plain": [
       "<Figure size 640x480 with 1 Axes>"
      ]
     },
     "metadata": {},
     "output_type": "display_data"
    }
   ],
   "source": [
    "# get the encoded latent space and plot\n",
    "X_encoded = reg.estimator.encode(X.to(reg.device))[0].detach().cpu().numpy()\n",
    "plt.scatter(X_encoded[:,0], X_encoded[:,1], c=Y[:,0], marker='*')\n",
    "# plot X_prime_hat as red dots\n",
    "plt.scatter(X_prime_hat[:,0], X_prime_hat[:,1], marker='o', alpha=0.5)"
   ]
  },
  {
   "cell_type": "code",
   "execution_count": 214,
   "metadata": {},
   "outputs": [
    {
     "data": {
      "application/vnd.plotly.v1+json": {
       "config": {
        "plotlyServerURL": "https://plot.ly"
       },
       "data": [
        {
         "customdata": [
          [
           2
          ],
          [
           2
          ],
          [
           2
          ],
          [
           2
          ],
          [
           2
          ],
          [
           2
          ],
          [
           2
          ],
          [
           2
          ],
          [
           2
          ],
          [
           2
          ],
          [
           2
          ],
          [
           2
          ],
          [
           2
          ],
          [
           2
          ],
          [
           2
          ],
          [
           2
          ],
          [
           2
          ],
          [
           2
          ],
          [
           2
          ],
          [
           2
          ],
          [
           2
          ],
          [
           2
          ],
          [
           2
          ],
          [
           2
          ],
          [
           3
          ],
          [
           3
          ],
          [
           3
          ],
          [
           3
          ],
          [
           3
          ],
          [
           3
          ],
          [
           3
          ],
          [
           3
          ],
          [
           3
          ],
          [
           3
          ],
          [
           3
          ],
          [
           3
          ],
          [
           3
          ],
          [
           3
          ],
          [
           3
          ],
          [
           3
          ],
          [
           3
          ],
          [
           3
          ],
          [
           3
          ],
          [
           3
          ],
          [
           3
          ],
          [
           3
          ],
          [
           3
          ],
          [
           3
          ],
          [
           3
          ],
          [
           3
          ],
          [
           3
          ],
          [
           3
          ],
          [
           3
          ],
          [
           3
          ],
          [
           3
          ],
          [
           3
          ],
          [
           3
          ],
          [
           3
          ],
          [
           3
          ],
          [
           3
          ],
          [
           3
          ],
          [
           3
          ],
          [
           3
          ],
          [
           3
          ],
          [
           3
          ],
          [
           3
          ],
          [
           2
          ],
          [
           2
          ],
          [
           2
          ],
          [
           3
          ],
          [
           3
          ],
          [
           3
          ],
          [
           3
          ],
          [
           3
          ],
          [
           3
          ]
         ],
         "hovertemplate": "Pain_Cohort=1.0<br>x1=%{x}<br>x2=%{y}<br>Eaton_Litter=%{marker.color}<extra></extra>",
         "legendgroup": "1.0",
         "marker": {
          "color": [
           2,
           2,
           2,
           2,
           2,
           2,
           2,
           2,
           2,
           2,
           2,
           2,
           2,
           2,
           2,
           2,
           2,
           2,
           2,
           2,
           2,
           2,
           2,
           2,
           3,
           3,
           3,
           3,
           3,
           3,
           3,
           3,
           3,
           3,
           3,
           3,
           3,
           3,
           3,
           3,
           3,
           3,
           3,
           3,
           3,
           3,
           3,
           3,
           3,
           3,
           3,
           3,
           3,
           3,
           3,
           3,
           3,
           3,
           3,
           3,
           3,
           3,
           3,
           3,
           3,
           3,
           2,
           2,
           2,
           3,
           3,
           3,
           3,
           3,
           3
          ],
          "coloraxis": "coloraxis",
          "line": {
           "color": "DarkSlateGrey",
           "width": 2
          },
          "size": 12,
          "symbol": "circle"
         },
         "mode": "markers",
         "name": "1.0",
         "orientation": "v",
         "showlegend": true,
         "type": "scatter",
         "x": [
          -6.345653057098389,
          -5.991598129272461,
          -6.290854454040527,
          -6.048853397369385,
          -6.296910762786865,
          -6.332382678985596,
          -6.2765607833862305,
          -6.468857765197754,
          -0.0759076178073883,
          -0.0008076690137386322,
          -0.07558014988899231,
          -0.20187225937843323,
          -0.22181656956672668,
          -0.14905336499214172,
          -0.10055592656135559,
          -0.08378806710243225,
          -2.8197858333587646,
          -3.0190083980560303,
          -2.7569642066955566,
          -2.93546462059021,
          -2.9692814350128174,
          -2.9458179473876953,
          -3.060607433319092,
          -2.7632482051849365,
          3.479668140411377,
          3.3010497093200684,
          3.378541946411133,
          3.3560030460357666,
          3.530007839202881,
          3.4326157569885254,
          3.488142251968384,
          2.909602403640747,
          3.0470383167266846,
          2.9777660369873047,
          3.0253233909606934,
          2.979844808578491,
          3.0346221923828125,
          2.992380142211914,
          4.389150142669678,
          4.455262660980225,
          4.467334270477295,
          4.4514851570129395,
          4.468020439147949,
          4.335897922515869,
          4.398280143737793,
          1.0558849573135376,
          1.0660393238067627,
          0.9550354480743408,
          1.1255019903182983,
          1.118597149848938,
          1.1155632734298706,
          1.013624668121338,
          4.944398880004883,
          4.908084869384766,
          4.94767427444458,
          5.095774173736572,
          5.013439655303955,
          4.971088409423828,
          4.95215368270874,
          2.8454885482788086,
          2.8699886798858643,
          2.953537940979004,
          2.972297191619873,
          2.962033271789551,
          2.8624892234802246,
          2.909660816192627,
          -6.512173175811768,
          0.03900561109185219,
          -2.957679271697998,
          3.4391191005706787,
          3.014525890350342,
          4.594881534576416,
          1.092455267906189,
          5.323544025421143,
          3.1363794803619385
         ],
         "xaxis": "x",
         "y": [
          -13.898473739624023,
          -14.01475715637207,
          -13.840410232543945,
          -14.27338695526123,
          -14.024178504943848,
          -14.07768440246582,
          -13.88772201538086,
          -14.11843490600586,
          -10.313543319702148,
          -10.155089378356934,
          -10.745295524597168,
          -10.384012222290039,
          -10.317153930664062,
          -10.665620803833008,
          -10.526525497436523,
          -10.560159683227539,
          -12.551004409790039,
          -12.50363826751709,
          -12.678881645202637,
          -12.865403175354004,
          -12.554876327514648,
          -12.23052978515625,
          -12.44462776184082,
          -12.54606819152832,
          -0.47728490829467773,
          -0.4842568635940552,
          -0.562184751033783,
          -0.4219712018966675,
          -0.47669029235839844,
          -0.4766486883163452,
          -0.4641404449939728,
          -1.7061676979064941,
          -1.8679521083831787,
          -1.7584221363067627,
          -1.6707580089569092,
          -1.8396852016448975,
          -1.8618370294570923,
          -1.8025130033493042,
          -5.376258850097656,
          -5.434324741363525,
          -5.545200347900391,
          -5.4661478996276855,
          -5.392930507659912,
          -5.313858509063721,
          -5.296798229217529,
          -6.702228546142578,
          -6.54083776473999,
          -6.685499668121338,
          -7.045406341552734,
          -6.785325527191162,
          -6.538659572601318,
          -6.693310737609863,
          -11.070362091064453,
          -10.953086853027344,
          -10.928792953491211,
          -11.154226303100586,
          -11.062555313110352,
          -10.894762992858887,
          -10.786178588867188,
          -9.603721618652344,
          -9.239326477050781,
          -9.374585151672363,
          -9.478116035461426,
          -9.394879341125488,
          -9.615726470947266,
          -9.14942741394043,
          -14.229593276977539,
          -10.668069839477539,
          -12.839786529541016,
          -0.46462875604629517,
          -1.8320000171661377,
          -5.64619255065918,
          -6.965127944946289,
          -11.572511672973633,
          -9.807611465454102
         ],
         "yaxis": "y"
        },
        {
         "customdata": [
          [
           4
          ],
          [
           4
          ],
          [
           4
          ],
          [
           4
          ],
          [
           4
          ],
          [
           4
          ],
          [
           4
          ],
          [
           4
          ],
          [
           4
          ],
          [
           4
          ],
          [
           4
          ],
          [
           4
          ],
          [
           4
          ],
          [
           4
          ],
          [
           4
          ],
          [
           4
          ],
          [
           4
          ],
          [
           4
          ],
          [
           4
          ],
          [
           4
          ],
          [
           4
          ],
          [
           1
          ],
          [
           1
          ],
          [
           1
          ],
          [
           1
          ],
          [
           1
          ],
          [
           1
          ],
          [
           1
          ],
          [
           1
          ],
          [
           1
          ],
          [
           1
          ],
          [
           1
          ],
          [
           1
          ],
          [
           1
          ],
          [
           1
          ],
          [
           1
          ],
          [
           1
          ],
          [
           1
          ],
          [
           1
          ],
          [
           1
          ],
          [
           1
          ],
          [
           1
          ],
          [
           4
          ],
          [
           4
          ],
          [
           4
          ],
          [
           1
          ],
          [
           1
          ],
          [
           1
          ]
         ],
         "hovertemplate": "Pain_Cohort=0.0<br>x1=%{x}<br>x2=%{y}<br>Eaton_Litter=%{marker.color}<extra></extra>",
         "legendgroup": "0.0",
         "marker": {
          "color": [
           4,
           4,
           4,
           4,
           4,
           4,
           4,
           4,
           4,
           4,
           4,
           4,
           4,
           4,
           4,
           4,
           4,
           4,
           4,
           4,
           4,
           1,
           1,
           1,
           1,
           1,
           1,
           1,
           1,
           1,
           1,
           1,
           1,
           1,
           1,
           1,
           1,
           1,
           1,
           1,
           1,
           1,
           4,
           4,
           4,
           1,
           1,
           1
          ],
          "coloraxis": "coloraxis",
          "line": {
           "color": "DarkSlateGrey",
           "width": 2
          },
          "size": 12,
          "symbol": "diamond"
         },
         "mode": "markers",
         "name": "0.0",
         "orientation": "v",
         "showlegend": true,
         "type": "scatter",
         "x": [
          -1.4380873441696167,
          -1.3865753412246704,
          -1.28289794921875,
          -1.3247407674789429,
          -1.3361793756484985,
          -1.2948594093322754,
          -1.3723540306091309,
          -3.846017837524414,
          -3.83866548538208,
          -3.933284044265747,
          -4.043501377105713,
          -3.999864101409912,
          -3.8273050785064697,
          -3.7921142578125,
          -8.16138744354248,
          -8.04231071472168,
          -8.266197204589844,
          -8.181326866149902,
          -8.274104118347168,
          -8.156024932861328,
          -8.077670097351074,
          -8.683199882507324,
          -8.743415832519531,
          -8.777531623840332,
          -8.824387550354004,
          -8.706222534179688,
          -8.636640548706055,
          -8.716325759887695,
          -6.1546502113342285,
          -6.1726155281066895,
          -6.0601277351379395,
          -6.273457050323486,
          -6.227187156677246,
          -6.116854190826416,
          -6.347549915313721,
          -5.64551305770874,
          -5.801745891571045,
          -5.437549114227295,
          -5.450184345245361,
          -5.578584671020508,
          -5.905710697174072,
          -5.553717613220215,
          -1.4043442010879517,
          -3.835294246673584,
          -8.151870727539062,
          -9.289294242858887,
          -6.34528923034668,
          -5.906498432159424
         ],
         "xaxis": "x",
         "y": [
          -1.3448230028152466,
          -1.3653351068496704,
          -1.2138253450393677,
          -1.2793188095092773,
          -1.3128868341445923,
          -1.2939369678497314,
          -1.3330469131469727,
          -6.124172210693359,
          -5.898060321807861,
          -6.051436901092529,
          -6.096388339996338,
          -6.17096471786499,
          -5.98931360244751,
          -5.842806339263916,
          -9.617481231689453,
          -9.548818588256836,
          -9.68675422668457,
          -9.585150718688965,
          -9.75623893737793,
          -9.536336898803711,
          -9.726648330688477,
          -6.0420451164245605,
          -6.173598766326904,
          -6.199693202972412,
          -6.280397415161133,
          -6.1427717208862305,
          -6.100924015045166,
          -6.127087116241455,
          -0.29837480187416077,
          -0.1553991585969925,
          -0.2426304966211319,
          -0.23128776252269745,
          -0.22369374334812164,
          -0.22315271198749542,
          -0.23834086954593658,
          -2.6124889850616455,
          -2.688169002532959,
          -2.519125461578369,
          -2.5652403831481934,
          -2.5801024436950684,
          -2.6897332668304443,
          -2.4985239505767822,
          -1.3853065967559814,
          -6.017879962921143,
          -9.769341468811035,
          -6.4296064376831055,
          -0.24400080740451813,
          -2.694218397140503
         ],
         "yaxis": "y"
        },
        {
         "marker": {
          "color": [
           1,
           1,
           1,
           1,
           1,
           1,
           0,
           0,
           0,
           1,
           1,
           1,
           0,
           0,
           0
          ],
          "line": {
           "color": "Red",
           "width": 2
          },
          "size": 12
         },
         "mode": "markers",
         "name": "X_prime_hat",
         "type": "scatter",
         "x": [
          -0.028421727940440178,
          0.020286710932850838,
          -0.022533154115080833,
          0.041114311665296555,
          0.00827284436672926,
          0.0053548566065728664,
          1.0152627229690552,
          0.9836205840110779,
          -0.050033848732709885,
          0.006827198434621096,
          0.010169372893869877,
          -0.0010953608434647322,
          0.22453804314136505,
          0.9252925515174866,
          0.3935980796813965
         ],
         "y": [
          -0.0034447622019797564,
          0.035445258021354675,
          0.004538409411907196,
          0.9405216574668884,
          0.5258392095565796,
          0.0473099984228611,
          0.005507313180714846,
          0.006439010612666607,
          0.019540077075362206,
          0.01130476500838995,
          0.007099499460309744,
          0.007434507831931114,
          1.038799524307251,
          0.9871647357940674,
          0.46066826581954956
         ]
        }
       ],
       "layout": {
        "autosize": false,
        "coloraxis": {
         "colorbar": {
          "title": {
           "text": "Eaton_Litter"
          }
         },
         "colorscale": [
          [
           0,
           "#0d0887"
          ],
          [
           0.1111111111111111,
           "#46039f"
          ],
          [
           0.2222222222222222,
           "#7201a8"
          ],
          [
           0.3333333333333333,
           "#9c179e"
          ],
          [
           0.4444444444444444,
           "#bd3786"
          ],
          [
           0.5555555555555556,
           "#d8576b"
          ],
          [
           0.6666666666666666,
           "#ed7953"
          ],
          [
           0.7777777777777778,
           "#fb9f3a"
          ],
          [
           0.8888888888888888,
           "#fdca26"
          ],
          [
           1,
           "#f0f921"
          ]
         ]
        },
        "height": 800,
        "legend": {
         "title": {
          "text": "Pain_Cohort"
         },
         "tracegroupgap": 0
        },
        "margin": {
         "b": 100,
         "l": 50,
         "pad": 4,
         "r": 50,
         "t": 100
        },
        "paper_bgcolor": "LightSteelBlue",
        "template": {
         "data": {
          "bar": [
           {
            "error_x": {
             "color": "#2a3f5f"
            },
            "error_y": {
             "color": "#2a3f5f"
            },
            "marker": {
             "line": {
              "color": "#E5ECF6",
              "width": 0.5
             },
             "pattern": {
              "fillmode": "overlay",
              "size": 10,
              "solidity": 0.2
             }
            },
            "type": "bar"
           }
          ],
          "barpolar": [
           {
            "marker": {
             "line": {
              "color": "#E5ECF6",
              "width": 0.5
             },
             "pattern": {
              "fillmode": "overlay",
              "size": 10,
              "solidity": 0.2
             }
            },
            "type": "barpolar"
           }
          ],
          "carpet": [
           {
            "aaxis": {
             "endlinecolor": "#2a3f5f",
             "gridcolor": "white",
             "linecolor": "white",
             "minorgridcolor": "white",
             "startlinecolor": "#2a3f5f"
            },
            "baxis": {
             "endlinecolor": "#2a3f5f",
             "gridcolor": "white",
             "linecolor": "white",
             "minorgridcolor": "white",
             "startlinecolor": "#2a3f5f"
            },
            "type": "carpet"
           }
          ],
          "choropleth": [
           {
            "colorbar": {
             "outlinewidth": 0,
             "ticks": ""
            },
            "type": "choropleth"
           }
          ],
          "contour": [
           {
            "colorbar": {
             "outlinewidth": 0,
             "ticks": ""
            },
            "colorscale": [
             [
              0,
              "#0d0887"
             ],
             [
              0.1111111111111111,
              "#46039f"
             ],
             [
              0.2222222222222222,
              "#7201a8"
             ],
             [
              0.3333333333333333,
              "#9c179e"
             ],
             [
              0.4444444444444444,
              "#bd3786"
             ],
             [
              0.5555555555555556,
              "#d8576b"
             ],
             [
              0.6666666666666666,
              "#ed7953"
             ],
             [
              0.7777777777777778,
              "#fb9f3a"
             ],
             [
              0.8888888888888888,
              "#fdca26"
             ],
             [
              1,
              "#f0f921"
             ]
            ],
            "type": "contour"
           }
          ],
          "contourcarpet": [
           {
            "colorbar": {
             "outlinewidth": 0,
             "ticks": ""
            },
            "type": "contourcarpet"
           }
          ],
          "heatmap": [
           {
            "colorbar": {
             "outlinewidth": 0,
             "ticks": ""
            },
            "colorscale": [
             [
              0,
              "#0d0887"
             ],
             [
              0.1111111111111111,
              "#46039f"
             ],
             [
              0.2222222222222222,
              "#7201a8"
             ],
             [
              0.3333333333333333,
              "#9c179e"
             ],
             [
              0.4444444444444444,
              "#bd3786"
             ],
             [
              0.5555555555555556,
              "#d8576b"
             ],
             [
              0.6666666666666666,
              "#ed7953"
             ],
             [
              0.7777777777777778,
              "#fb9f3a"
             ],
             [
              0.8888888888888888,
              "#fdca26"
             ],
             [
              1,
              "#f0f921"
             ]
            ],
            "type": "heatmap"
           }
          ],
          "heatmapgl": [
           {
            "colorbar": {
             "outlinewidth": 0,
             "ticks": ""
            },
            "colorscale": [
             [
              0,
              "#0d0887"
             ],
             [
              0.1111111111111111,
              "#46039f"
             ],
             [
              0.2222222222222222,
              "#7201a8"
             ],
             [
              0.3333333333333333,
              "#9c179e"
             ],
             [
              0.4444444444444444,
              "#bd3786"
             ],
             [
              0.5555555555555556,
              "#d8576b"
             ],
             [
              0.6666666666666666,
              "#ed7953"
             ],
             [
              0.7777777777777778,
              "#fb9f3a"
             ],
             [
              0.8888888888888888,
              "#fdca26"
             ],
             [
              1,
              "#f0f921"
             ]
            ],
            "type": "heatmapgl"
           }
          ],
          "histogram": [
           {
            "marker": {
             "pattern": {
              "fillmode": "overlay",
              "size": 10,
              "solidity": 0.2
             }
            },
            "type": "histogram"
           }
          ],
          "histogram2d": [
           {
            "colorbar": {
             "outlinewidth": 0,
             "ticks": ""
            },
            "colorscale": [
             [
              0,
              "#0d0887"
             ],
             [
              0.1111111111111111,
              "#46039f"
             ],
             [
              0.2222222222222222,
              "#7201a8"
             ],
             [
              0.3333333333333333,
              "#9c179e"
             ],
             [
              0.4444444444444444,
              "#bd3786"
             ],
             [
              0.5555555555555556,
              "#d8576b"
             ],
             [
              0.6666666666666666,
              "#ed7953"
             ],
             [
              0.7777777777777778,
              "#fb9f3a"
             ],
             [
              0.8888888888888888,
              "#fdca26"
             ],
             [
              1,
              "#f0f921"
             ]
            ],
            "type": "histogram2d"
           }
          ],
          "histogram2dcontour": [
           {
            "colorbar": {
             "outlinewidth": 0,
             "ticks": ""
            },
            "colorscale": [
             [
              0,
              "#0d0887"
             ],
             [
              0.1111111111111111,
              "#46039f"
             ],
             [
              0.2222222222222222,
              "#7201a8"
             ],
             [
              0.3333333333333333,
              "#9c179e"
             ],
             [
              0.4444444444444444,
              "#bd3786"
             ],
             [
              0.5555555555555556,
              "#d8576b"
             ],
             [
              0.6666666666666666,
              "#ed7953"
             ],
             [
              0.7777777777777778,
              "#fb9f3a"
             ],
             [
              0.8888888888888888,
              "#fdca26"
             ],
             [
              1,
              "#f0f921"
             ]
            ],
            "type": "histogram2dcontour"
           }
          ],
          "mesh3d": [
           {
            "colorbar": {
             "outlinewidth": 0,
             "ticks": ""
            },
            "type": "mesh3d"
           }
          ],
          "parcoords": [
           {
            "line": {
             "colorbar": {
              "outlinewidth": 0,
              "ticks": ""
             }
            },
            "type": "parcoords"
           }
          ],
          "pie": [
           {
            "automargin": true,
            "type": "pie"
           }
          ],
          "scatter": [
           {
            "fillpattern": {
             "fillmode": "overlay",
             "size": 10,
             "solidity": 0.2
            },
            "type": "scatter"
           }
          ],
          "scatter3d": [
           {
            "line": {
             "colorbar": {
              "outlinewidth": 0,
              "ticks": ""
             }
            },
            "marker": {
             "colorbar": {
              "outlinewidth": 0,
              "ticks": ""
             }
            },
            "type": "scatter3d"
           }
          ],
          "scattercarpet": [
           {
            "marker": {
             "colorbar": {
              "outlinewidth": 0,
              "ticks": ""
             }
            },
            "type": "scattercarpet"
           }
          ],
          "scattergeo": [
           {
            "marker": {
             "colorbar": {
              "outlinewidth": 0,
              "ticks": ""
             }
            },
            "type": "scattergeo"
           }
          ],
          "scattergl": [
           {
            "marker": {
             "colorbar": {
              "outlinewidth": 0,
              "ticks": ""
             }
            },
            "type": "scattergl"
           }
          ],
          "scattermapbox": [
           {
            "marker": {
             "colorbar": {
              "outlinewidth": 0,
              "ticks": ""
             }
            },
            "type": "scattermapbox"
           }
          ],
          "scatterpolar": [
           {
            "marker": {
             "colorbar": {
              "outlinewidth": 0,
              "ticks": ""
             }
            },
            "type": "scatterpolar"
           }
          ],
          "scatterpolargl": [
           {
            "marker": {
             "colorbar": {
              "outlinewidth": 0,
              "ticks": ""
             }
            },
            "type": "scatterpolargl"
           }
          ],
          "scatterternary": [
           {
            "marker": {
             "colorbar": {
              "outlinewidth": 0,
              "ticks": ""
             }
            },
            "type": "scatterternary"
           }
          ],
          "surface": [
           {
            "colorbar": {
             "outlinewidth": 0,
             "ticks": ""
            },
            "colorscale": [
             [
              0,
              "#0d0887"
             ],
             [
              0.1111111111111111,
              "#46039f"
             ],
             [
              0.2222222222222222,
              "#7201a8"
             ],
             [
              0.3333333333333333,
              "#9c179e"
             ],
             [
              0.4444444444444444,
              "#bd3786"
             ],
             [
              0.5555555555555556,
              "#d8576b"
             ],
             [
              0.6666666666666666,
              "#ed7953"
             ],
             [
              0.7777777777777778,
              "#fb9f3a"
             ],
             [
              0.8888888888888888,
              "#fdca26"
             ],
             [
              1,
              "#f0f921"
             ]
            ],
            "type": "surface"
           }
          ],
          "table": [
           {
            "cells": {
             "fill": {
              "color": "#EBF0F8"
             },
             "line": {
              "color": "white"
             }
            },
            "header": {
             "fill": {
              "color": "#C8D4E3"
             },
             "line": {
              "color": "white"
             }
            },
            "type": "table"
           }
          ]
         },
         "layout": {
          "annotationdefaults": {
           "arrowcolor": "#2a3f5f",
           "arrowhead": 0,
           "arrowwidth": 1
          },
          "autotypenumbers": "strict",
          "coloraxis": {
           "colorbar": {
            "outlinewidth": 0,
            "ticks": ""
           }
          },
          "colorscale": {
           "diverging": [
            [
             0,
             "#8e0152"
            ],
            [
             0.1,
             "#c51b7d"
            ],
            [
             0.2,
             "#de77ae"
            ],
            [
             0.3,
             "#f1b6da"
            ],
            [
             0.4,
             "#fde0ef"
            ],
            [
             0.5,
             "#f7f7f7"
            ],
            [
             0.6,
             "#e6f5d0"
            ],
            [
             0.7,
             "#b8e186"
            ],
            [
             0.8,
             "#7fbc41"
            ],
            [
             0.9,
             "#4d9221"
            ],
            [
             1,
             "#276419"
            ]
           ],
           "sequential": [
            [
             0,
             "#0d0887"
            ],
            [
             0.1111111111111111,
             "#46039f"
            ],
            [
             0.2222222222222222,
             "#7201a8"
            ],
            [
             0.3333333333333333,
             "#9c179e"
            ],
            [
             0.4444444444444444,
             "#bd3786"
            ],
            [
             0.5555555555555556,
             "#d8576b"
            ],
            [
             0.6666666666666666,
             "#ed7953"
            ],
            [
             0.7777777777777778,
             "#fb9f3a"
            ],
            [
             0.8888888888888888,
             "#fdca26"
            ],
            [
             1,
             "#f0f921"
            ]
           ],
           "sequentialminus": [
            [
             0,
             "#0d0887"
            ],
            [
             0.1111111111111111,
             "#46039f"
            ],
            [
             0.2222222222222222,
             "#7201a8"
            ],
            [
             0.3333333333333333,
             "#9c179e"
            ],
            [
             0.4444444444444444,
             "#bd3786"
            ],
            [
             0.5555555555555556,
             "#d8576b"
            ],
            [
             0.6666666666666666,
             "#ed7953"
            ],
            [
             0.7777777777777778,
             "#fb9f3a"
            ],
            [
             0.8888888888888888,
             "#fdca26"
            ],
            [
             1,
             "#f0f921"
            ]
           ]
          },
          "colorway": [
           "#636efa",
           "#EF553B",
           "#00cc96",
           "#ab63fa",
           "#FFA15A",
           "#19d3f3",
           "#FF6692",
           "#B6E880",
           "#FF97FF",
           "#FECB52"
          ],
          "font": {
           "color": "#2a3f5f"
          },
          "geo": {
           "bgcolor": "white",
           "lakecolor": "white",
           "landcolor": "#E5ECF6",
           "showlakes": true,
           "showland": true,
           "subunitcolor": "white"
          },
          "hoverlabel": {
           "align": "left"
          },
          "hovermode": "closest",
          "mapbox": {
           "style": "light"
          },
          "paper_bgcolor": "white",
          "plot_bgcolor": "#E5ECF6",
          "polar": {
           "angularaxis": {
            "gridcolor": "white",
            "linecolor": "white",
            "ticks": ""
           },
           "bgcolor": "#E5ECF6",
           "radialaxis": {
            "gridcolor": "white",
            "linecolor": "white",
            "ticks": ""
           }
          },
          "scene": {
           "xaxis": {
            "backgroundcolor": "#E5ECF6",
            "gridcolor": "white",
            "gridwidth": 2,
            "linecolor": "white",
            "showbackground": true,
            "ticks": "",
            "zerolinecolor": "white"
           },
           "yaxis": {
            "backgroundcolor": "#E5ECF6",
            "gridcolor": "white",
            "gridwidth": 2,
            "linecolor": "white",
            "showbackground": true,
            "ticks": "",
            "zerolinecolor": "white"
           },
           "zaxis": {
            "backgroundcolor": "#E5ECF6",
            "gridcolor": "white",
            "gridwidth": 2,
            "linecolor": "white",
            "showbackground": true,
            "ticks": "",
            "zerolinecolor": "white"
           }
          },
          "shapedefaults": {
           "line": {
            "color": "#2a3f5f"
           }
          },
          "ternary": {
           "aaxis": {
            "gridcolor": "white",
            "linecolor": "white",
            "ticks": ""
           },
           "baxis": {
            "gridcolor": "white",
            "linecolor": "white",
            "ticks": ""
           },
           "bgcolor": "#E5ECF6",
           "caxis": {
            "gridcolor": "white",
            "linecolor": "white",
            "ticks": ""
           }
          },
          "title": {
           "x": 0.05
          },
          "xaxis": {
           "automargin": true,
           "gridcolor": "white",
           "linecolor": "white",
           "ticks": "",
           "title": {
            "standoff": 15
           },
           "zerolinecolor": "white",
           "zerolinewidth": 2
          },
          "yaxis": {
           "automargin": true,
           "gridcolor": "white",
           "linecolor": "white",
           "ticks": "",
           "title": {
            "standoff": 15
           },
           "zerolinecolor": "white",
           "zerolinewidth": 2
          }
         }
        },
        "width": 800,
        "xaxis": {
         "anchor": "y",
         "domain": [
          0,
          1
         ],
         "title": {
          "text": "x1"
         }
        },
        "yaxis": {
         "anchor": "x",
         "domain": [
          0,
          1
         ],
         "title": {
          "text": "x2"
         }
        }
       }
      }
     },
     "metadata": {},
     "output_type": "display_data"
    }
   ],
   "source": [
    "import plotly.express as px\n",
    "# cmap is red to blue\n",
    "# encoded_df \n",
    "Edf = pd.DataFrame(X_encoded[:, 0:2], columns=['x1', 'x2'])\n",
    "Edf['Pain_Cohort'] = Y[:,0]\n",
    "Edf['Eaton_Litter'] = Y[:,1]\n",
    "# make the pain cohort categorical\n",
    "Edf['Pain_Cohort'] = Edf['Pain_Cohort'].astype('category')\n",
    "# leaveout df\n",
    "leaveout_x_encoded = reg.estimator.encode(leaveout_x.to(reg.device))[0].detach().cpu().numpy()\n",
    "leaveout_df = pd.DataFrame(leaveout_x_encoded[:, 0:2], columns=['x1', 'x2'])\n",
    "leaveout_y = pd.DataFrame(leaveout_y, columns=['Pain_Cohort', 'Eaton_Litter'])\n",
    "leaveout_df = pd.concat([leaveout_df, leaveout_y], axis=1)\n",
    "# make the pain cohort categorical\n",
    "leaveout_df['Pain_Cohort'] = leaveout_df['Pain_Cohort'].astype('category')\n",
    "\n",
    "# now make the pain 1 category * and 0 category o\n",
    "#Edf['Pain_Cohort'] = Edf['Pain_Cohort'].apply(lambda x: '*' if x == 1 else 'o')\n",
    "fig = px.scatter(Edf, x='x1', y='x2', color='Eaton_Litter', symbol='Pain_Cohort', hover_data=['Eaton_Litter'])\n",
    "# make the size of the pain cohort bigger\n",
    "# fig.update_traces(marker=dict(size=12,\n",
    "#                                 line=dict(width=2,\n",
    "#                                             color='DarkSlateGrey')),\n",
    "#                     selector=dict(mode='markers', symbol='*')) \n",
    "# # make the markers bigger with nicer backgrounds\n",
    "fig.update_traces(marker=dict(size=12,\n",
    "                                line=dict(width=2,\n",
    "                                            color='DarkSlateGrey')),\n",
    "                    selector=dict(mode='markers'))\n",
    "# we want to really emphasize the Pain Cohort == 1 group. lets make the marker size much larger\n",
    "fig.update_traces(marker=dict(size=209,\n",
    "                                line=dict(width=2,\n",
    "                                            color='DarkSlateGrey')),\n",
    "                    selector=dict(mode='markers', symbol='o'))\n",
    "# make the figure larger and have a square aspect ratio\n",
    "fig.update_layout(\n",
    "    autosize=False,\n",
    "    width=800,\n",
    "    height=800,\n",
    "    margin=dict(l=50, r=50, b=100, t=100, pad=4),\n",
    "    paper_bgcolor=\"LightSteelBlue\",\n",
    ")\n",
    "# add the X_prime_hat as red dots\n",
    "# color the using Y_prime\n",
    "from plotly.subplots import make_subplots\n",
    "import plotly.graph_objects as go\n",
    "fig.add_trace(\n",
    "    go.Scatter(\n",
    "        x=X_prime_hat[:,0],\n",
    "        y=X_prime_hat[:,1],\n",
    "        mode=\"markers\",\n",
    "        marker=dict(\n",
    "            color=Y_prime[:,0],\n",
    "            size=12,\n",
    "            line=dict(\n",
    "                color='Red',\n",
    "                width=2\n",
    "            )\n",
    "        ),\n",
    "        name=\"X_prime_hat\"\n",
    "    )\n",
    ")\n",
    "# add leaveout data\n",
    "# make the pain cohort categorical, 1 is * and 0 is o\n",
    "# use px.scatter just like before, but put the plots together\n",
    "leaveout_fig = px.scatter(leaveout_df, x='x1', y='x2', color='Eaton_Litter', symbol='Pain_Cohort', hover_data=['Eaton_Litter'])\n",
    "\n",
    "\n",
    "    \n",
    "\n",
    "\n",
    "fig.show()\n",
    "# save as latent space.html\n",
    "fig.write_html(\"latent_space.html\")"
   ]
  },
  {
   "cell_type": "code",
   "execution_count": 217,
   "metadata": {},
   "outputs": [],
   "source": [
    "# save the entire reg. use dill\n",
    "import dill\n",
    "with open('reg.dill', 'wb') as f:\n",
    "    dill.dump(reg, f)\n",
    "    "
   ]
  },
  {
   "cell_type": "code",
   "execution_count": 216,
   "metadata": {},
   "outputs": [
    {
     "name": "stdout",
     "output_type": "stream",
     "text": [
      "Collecting dill\n",
      "  Downloading dill-0.3.6-py3-none-any.whl (110 kB)\n",
      "     ---------------------------------------- 0.0/110.5 kB ? eta -:--:--\n",
      "     -------------------------------------- 110.5/110.5 kB 3.1 MB/s eta 0:00:00\n",
      "Installing collected packages: dill\n",
      "Successfully installed dill-0.3.6\n"
     ]
    }
   ],
   "source": [
    "!pip install dill"
   ]
  },
  {
   "cell_type": "code",
   "execution_count": 79,
   "metadata": {},
   "outputs": [
    {
     "data": {
      "text/plain": [
       "2505144"
      ]
     },
     "execution_count": 79,
     "metadata": {},
     "output_type": "execute_result"
    }
   ],
   "source": [
    "reg.estimator\n",
    "# get the number of learnable parameters\n",
    "sum(p.numel() for p in reg.estimator.parameters() if p.requires_grad)"
   ]
  },
  {
   "cell_type": "code",
   "execution_count": 80,
   "metadata": {},
   "outputs": [
    {
     "ename": "ValueError",
     "evalue": "Found input variables with inconsistent numbers of samples: [15, 45]",
     "output_type": "error",
     "traceback": [
      "\u001b[1;31m---------------------------------------------------------------------------\u001b[0m",
      "\u001b[1;31mValueError\u001b[0m                                Traceback (most recent call last)",
      "Cell \u001b[1;32mIn[80], line 3\u001b[0m\n\u001b[0;32m      1\u001b[0m \u001b[39mfrom\u001b[39;00m \u001b[39msklearn\u001b[39;00m\u001b[39m.\u001b[39;00m\u001b[39mmetrics\u001b[39;00m \u001b[39mimport\u001b[39;00m mean_squared_error, mean_absolute_error, r2_score\n\u001b[1;32m----> 3\u001b[0m r2 \u001b[39m=\u001b[39m r2_score(X_prime, X_prime_hat)\n\u001b[0;32m      4\u001b[0m mse \u001b[39m=\u001b[39m mean_squared_error(X_prime, X_prime_hat)\n\u001b[0;32m      5\u001b[0m mae \u001b[39m=\u001b[39m mean_absolute_error(X_prime, X_prime_hat)\n",
      "File \u001b[1;32mc:\\Users\\efons\\anaconda3\\envs\\venv\\lib\\site-packages\\sklearn\\metrics\\_regression.py:911\u001b[0m, in \u001b[0;36mr2_score\u001b[1;34m(y_true, y_pred, sample_weight, multioutput, force_finite)\u001b[0m\n\u001b[0;32m    784\u001b[0m \u001b[39mdef\u001b[39;00m \u001b[39mr2_score\u001b[39m(\n\u001b[0;32m    785\u001b[0m     y_true,\n\u001b[0;32m    786\u001b[0m     y_pred,\n\u001b[1;32m   (...)\u001b[0m\n\u001b[0;32m    790\u001b[0m     force_finite\u001b[39m=\u001b[39m\u001b[39mTrue\u001b[39;00m,\n\u001b[0;32m    791\u001b[0m ):\n\u001b[0;32m    792\u001b[0m     \u001b[39m\"\"\":math:`R^2` (coefficient of determination) regression score function.\u001b[39;00m\n\u001b[0;32m    793\u001b[0m \n\u001b[0;32m    794\u001b[0m \u001b[39m    Best possible score is 1.0 and it can be negative (because the\u001b[39;00m\n\u001b[1;32m   (...)\u001b[0m\n\u001b[0;32m    909\u001b[0m \u001b[39m    -inf\u001b[39;00m\n\u001b[0;32m    910\u001b[0m \u001b[39m    \"\"\"\u001b[39;00m\n\u001b[1;32m--> 911\u001b[0m     y_type, y_true, y_pred, multioutput \u001b[39m=\u001b[39m _check_reg_targets(\n\u001b[0;32m    912\u001b[0m         y_true, y_pred, multioutput\n\u001b[0;32m    913\u001b[0m     )\n\u001b[0;32m    914\u001b[0m     check_consistent_length(y_true, y_pred, sample_weight)\n\u001b[0;32m    916\u001b[0m     \u001b[39mif\u001b[39;00m _num_samples(y_pred) \u001b[39m<\u001b[39m \u001b[39m2\u001b[39m:\n",
      "File \u001b[1;32mc:\\Users\\efons\\anaconda3\\envs\\venv\\lib\\site-packages\\sklearn\\metrics\\_regression.py:100\u001b[0m, in \u001b[0;36m_check_reg_targets\u001b[1;34m(y_true, y_pred, multioutput, dtype)\u001b[0m\n\u001b[0;32m     66\u001b[0m \u001b[39mdef\u001b[39;00m \u001b[39m_check_reg_targets\u001b[39m(y_true, y_pred, multioutput, dtype\u001b[39m=\u001b[39m\u001b[39m\"\u001b[39m\u001b[39mnumeric\u001b[39m\u001b[39m\"\u001b[39m):\n\u001b[0;32m     67\u001b[0m     \u001b[39m\"\"\"Check that y_true and y_pred belong to the same regression task.\u001b[39;00m\n\u001b[0;32m     68\u001b[0m \n\u001b[0;32m     69\u001b[0m \u001b[39m    Parameters\u001b[39;00m\n\u001b[1;32m   (...)\u001b[0m\n\u001b[0;32m     98\u001b[0m \u001b[39m        correct keyword.\u001b[39;00m\n\u001b[0;32m     99\u001b[0m \u001b[39m    \"\"\"\u001b[39;00m\n\u001b[1;32m--> 100\u001b[0m     check_consistent_length(y_true, y_pred)\n\u001b[0;32m    101\u001b[0m     y_true \u001b[39m=\u001b[39m check_array(y_true, ensure_2d\u001b[39m=\u001b[39m\u001b[39mFalse\u001b[39;00m, dtype\u001b[39m=\u001b[39mdtype)\n\u001b[0;32m    102\u001b[0m     y_pred \u001b[39m=\u001b[39m check_array(y_pred, ensure_2d\u001b[39m=\u001b[39m\u001b[39mFalse\u001b[39;00m, dtype\u001b[39m=\u001b[39mdtype)\n",
      "File \u001b[1;32mc:\\Users\\efons\\anaconda3\\envs\\venv\\lib\\site-packages\\sklearn\\utils\\validation.py:397\u001b[0m, in \u001b[0;36mcheck_consistent_length\u001b[1;34m(*arrays)\u001b[0m\n\u001b[0;32m    395\u001b[0m uniques \u001b[39m=\u001b[39m np\u001b[39m.\u001b[39munique(lengths)\n\u001b[0;32m    396\u001b[0m \u001b[39mif\u001b[39;00m \u001b[39mlen\u001b[39m(uniques) \u001b[39m>\u001b[39m \u001b[39m1\u001b[39m:\n\u001b[1;32m--> 397\u001b[0m     \u001b[39mraise\u001b[39;00m \u001b[39mValueError\u001b[39;00m(\n\u001b[0;32m    398\u001b[0m         \u001b[39m\"\u001b[39m\u001b[39mFound input variables with inconsistent numbers of samples: \u001b[39m\u001b[39m%r\u001b[39;00m\u001b[39m\"\u001b[39m\n\u001b[0;32m    399\u001b[0m         \u001b[39m%\u001b[39m [\u001b[39mint\u001b[39m(l) \u001b[39mfor\u001b[39;00m l \u001b[39min\u001b[39;00m lengths]\n\u001b[0;32m    400\u001b[0m     )\n",
      "\u001b[1;31mValueError\u001b[0m: Found input variables with inconsistent numbers of samples: [15, 45]"
     ]
    }
   ],
   "source": [
    "from sklearn.metrics import mean_squared_error, mean_absolute_error, r2_score\n",
    "\n",
    "r2 = r2_score(X_prime, X_prime_hat)\n",
    "mse = mean_squared_error(X_prime, X_prime_hat)\n",
    "mae = mean_absolute_error(X_prime, X_prime_hat)\n",
    "print(f'r2: {r2}, mse: {mse}, mae: {mae}')\n"
   ]
  },
  {
   "cell_type": "code",
   "execution_count": null,
   "metadata": {},
   "outputs": [],
   "source": [
    "# plot the predictions of X_prime\n",
    "pred  = reg.predict(X_prime.to(reg.device))\n",
    "pred = pred.detach().cpu().numpy()"
   ]
  },
  {
   "cell_type": "code",
   "execution_count": 81,
   "metadata": {},
   "outputs": [
    {
     "data": {
      "text/plain": [
       "[<matplotlib.lines.Line2D at 0x1f0d7905a20>]"
      ]
     },
     "execution_count": 81,
     "metadata": {},
     "output_type": "execute_result"
    },
    {
     "data": {
      "image/png": "[encoded data removed]",
      "text/plain": [
       "<Figure size 640x480 with 1 Axes>"
      ]
     },
     "metadata": {},
     "output_type": "display_data"
    }
   ],
   "source": [
    "from sklearn.linear_model import LinearRegression\n",
    "lin_reg = LinearRegression()\n",
    "lin_reg.fit(X_encoded, Y[:,1])\n",
    "lin_reg.score(X_encoded, Y[:,1])\n",
    "# plot the parity\n",
    "plt.scatter(Y[:,1], lin_reg.predict(X_encoded))\n",
    "# parity line\n",
    "plt.plot([Y[:,1].min(), Y[:,1].max()], [Y[:,1].min(), Y[:,1].max()], 'k--', lw=4)\n"
   ]
  },
  {
   "cell_type": "code",
   "execution_count": 82,
   "metadata": {},
   "outputs": [
    {
     "ename": "ValueError",
     "evalue": "x and y must be the same size",
     "output_type": "error",
     "traceback": [
      "\u001b[1;31m---------------------------------------------------------------------------\u001b[0m",
      "\u001b[1;31mValueError\u001b[0m                                Traceback (most recent call last)",
      "Cell \u001b[1;32mIn[82], line 3\u001b[0m\n\u001b[0;32m      1\u001b[0m \u001b[39m# plot the parity of the predictions\u001b[39;00m\n\u001b[0;32m      2\u001b[0m pred \u001b[39m=\u001b[39m reg\u001b[39m.\u001b[39mpredict(X\u001b[39m.\u001b[39mto(reg\u001b[39m.\u001b[39mdevice))\u001b[39m.\u001b[39mdetach()\u001b[39m.\u001b[39mcpu()\u001b[39m.\u001b[39mnumpy()\n\u001b[1;32m----> 3\u001b[0m plt\u001b[39m.\u001b[39;49mscatter(X_og[:,\u001b[39m0\u001b[39;49m], pred[:,\u001b[39m0\u001b[39;49m])\n",
      "File \u001b[1;32mc:\\users\\efons\\anaconda3\\envs\\venv\\lib\\site-packages\\matplotlib-3.6.2-py3.10-win-amd64.egg\\matplotlib\\pyplot.py:2790\u001b[0m, in \u001b[0;36mscatter\u001b[1;34m(x, y, s, c, marker, cmap, norm, vmin, vmax, alpha, linewidths, edgecolors, plotnonfinite, data, **kwargs)\u001b[0m\n\u001b[0;32m   2785\u001b[0m \u001b[39m@_copy_docstring_and_deprecators\u001b[39m(Axes\u001b[39m.\u001b[39mscatter)\n\u001b[0;32m   2786\u001b[0m \u001b[39mdef\u001b[39;00m \u001b[39mscatter\u001b[39m(\n\u001b[0;32m   2787\u001b[0m         x, y, s\u001b[39m=\u001b[39m\u001b[39mNone\u001b[39;00m, c\u001b[39m=\u001b[39m\u001b[39mNone\u001b[39;00m, marker\u001b[39m=\u001b[39m\u001b[39mNone\u001b[39;00m, cmap\u001b[39m=\u001b[39m\u001b[39mNone\u001b[39;00m, norm\u001b[39m=\u001b[39m\u001b[39mNone\u001b[39;00m,\n\u001b[0;32m   2788\u001b[0m         vmin\u001b[39m=\u001b[39m\u001b[39mNone\u001b[39;00m, vmax\u001b[39m=\u001b[39m\u001b[39mNone\u001b[39;00m, alpha\u001b[39m=\u001b[39m\u001b[39mNone\u001b[39;00m, linewidths\u001b[39m=\u001b[39m\u001b[39mNone\u001b[39;00m, \u001b[39m*\u001b[39m,\n\u001b[0;32m   2789\u001b[0m         edgecolors\u001b[39m=\u001b[39m\u001b[39mNone\u001b[39;00m, plotnonfinite\u001b[39m=\u001b[39m\u001b[39mFalse\u001b[39;00m, data\u001b[39m=\u001b[39m\u001b[39mNone\u001b[39;00m, \u001b[39m*\u001b[39m\u001b[39m*\u001b[39mkwargs):\n\u001b[1;32m-> 2790\u001b[0m     __ret \u001b[39m=\u001b[39m gca()\u001b[39m.\u001b[39mscatter(\n\u001b[0;32m   2791\u001b[0m         x, y, s\u001b[39m=\u001b[39ms, c\u001b[39m=\u001b[39mc, marker\u001b[39m=\u001b[39mmarker, cmap\u001b[39m=\u001b[39mcmap, norm\u001b[39m=\u001b[39mnorm,\n\u001b[0;32m   2792\u001b[0m         vmin\u001b[39m=\u001b[39mvmin, vmax\u001b[39m=\u001b[39mvmax, alpha\u001b[39m=\u001b[39malpha, linewidths\u001b[39m=\u001b[39mlinewidths,\n\u001b[0;32m   2793\u001b[0m         edgecolors\u001b[39m=\u001b[39medgecolors, plotnonfinite\u001b[39m=\u001b[39mplotnonfinite,\n\u001b[0;32m   2794\u001b[0m         \u001b[39m*\u001b[39m\u001b[39m*\u001b[39m({\u001b[39m\"\u001b[39m\u001b[39mdata\u001b[39m\u001b[39m\"\u001b[39m: data} \u001b[39mif\u001b[39;00m data \u001b[39mis\u001b[39;00m \u001b[39mnot\u001b[39;00m \u001b[39mNone\u001b[39;00m \u001b[39melse\u001b[39;00m {}), \u001b[39m*\u001b[39m\u001b[39m*\u001b[39mkwargs)\n\u001b[0;32m   2795\u001b[0m     sci(__ret)\n\u001b[0;32m   2796\u001b[0m     \u001b[39mreturn\u001b[39;00m __ret\n",
      "File \u001b[1;32mc:\\users\\efons\\anaconda3\\envs\\venv\\lib\\site-packages\\matplotlib-3.6.2-py3.10-win-amd64.egg\\matplotlib\\__init__.py:1423\u001b[0m, in \u001b[0;36m_preprocess_data.<locals>.inner\u001b[1;34m(ax, data, *args, **kwargs)\u001b[0m\n\u001b[0;32m   1420\u001b[0m \u001b[39m@functools\u001b[39m\u001b[39m.\u001b[39mwraps(func)\n\u001b[0;32m   1421\u001b[0m \u001b[39mdef\u001b[39;00m \u001b[39minner\u001b[39m(ax, \u001b[39m*\u001b[39margs, data\u001b[39m=\u001b[39m\u001b[39mNone\u001b[39;00m, \u001b[39m*\u001b[39m\u001b[39m*\u001b[39mkwargs):\n\u001b[0;32m   1422\u001b[0m     \u001b[39mif\u001b[39;00m data \u001b[39mis\u001b[39;00m \u001b[39mNone\u001b[39;00m:\n\u001b[1;32m-> 1423\u001b[0m         \u001b[39mreturn\u001b[39;00m func(ax, \u001b[39m*\u001b[39m\u001b[39mmap\u001b[39m(sanitize_sequence, args), \u001b[39m*\u001b[39m\u001b[39m*\u001b[39mkwargs)\n\u001b[0;32m   1425\u001b[0m     bound \u001b[39m=\u001b[39m new_sig\u001b[39m.\u001b[39mbind(ax, \u001b[39m*\u001b[39margs, \u001b[39m*\u001b[39m\u001b[39m*\u001b[39mkwargs)\n\u001b[0;32m   1426\u001b[0m     auto_label \u001b[39m=\u001b[39m (bound\u001b[39m.\u001b[39marguments\u001b[39m.\u001b[39mget(label_namer)\n\u001b[0;32m   1427\u001b[0m                   \u001b[39mor\u001b[39;00m bound\u001b[39m.\u001b[39mkwargs\u001b[39m.\u001b[39mget(label_namer))\n",
      "File \u001b[1;32mc:\\users\\efons\\anaconda3\\envs\\venv\\lib\\site-packages\\matplotlib-3.6.2-py3.10-win-amd64.egg\\matplotlib\\axes\\_axes.py:4520\u001b[0m, in \u001b[0;36mAxes.scatter\u001b[1;34m(self, x, y, s, c, marker, cmap, norm, vmin, vmax, alpha, linewidths, edgecolors, plotnonfinite, **kwargs)\u001b[0m\n\u001b[0;32m   4518\u001b[0m y \u001b[39m=\u001b[39m np\u001b[39m.\u001b[39mma\u001b[39m.\u001b[39mravel(y)\n\u001b[0;32m   4519\u001b[0m \u001b[39mif\u001b[39;00m x\u001b[39m.\u001b[39msize \u001b[39m!=\u001b[39m y\u001b[39m.\u001b[39msize:\n\u001b[1;32m-> 4520\u001b[0m     \u001b[39mraise\u001b[39;00m \u001b[39mValueError\u001b[39;00m(\u001b[39m\"\u001b[39m\u001b[39mx and y must be the same size\u001b[39m\u001b[39m\"\u001b[39m)\n\u001b[0;32m   4522\u001b[0m \u001b[39mif\u001b[39;00m s \u001b[39mis\u001b[39;00m \u001b[39mNone\u001b[39;00m:\n\u001b[0;32m   4523\u001b[0m     s \u001b[39m=\u001b[39m (\u001b[39m20\u001b[39m \u001b[39mif\u001b[39;00m mpl\u001b[39m.\u001b[39mrcParams[\u001b[39m'\u001b[39m\u001b[39m_internal.classic_mode\u001b[39m\u001b[39m'\u001b[39m] \u001b[39melse\u001b[39;00m\n\u001b[0;32m   4524\u001b[0m          mpl\u001b[39m.\u001b[39mrcParams[\u001b[39m'\u001b[39m\u001b[39mlines.markersize\u001b[39m\u001b[39m'\u001b[39m] \u001b[39m*\u001b[39m\u001b[39m*\u001b[39m \u001b[39m2.0\u001b[39m)\n",
      "\u001b[1;31mValueError\u001b[0m: x and y must be the same size"
     ]
    },
    {
     "data": {
      "image/png": "[encoded data removed]",
      "text/plain": [
       "<Figure size 640x480 with 1 Axes>"
      ]
     },
     "metadata": {},
     "output_type": "display_data"
    }
   ],
   "source": [
    "# plot the parity of the predictions\n",
    "pred = reg.predict(X.to(reg.device)).detach().cpu().numpy()\n",
    "plt.scatter(X_og[:,0], pred[:,0])"
   ]
  },
  {
   "cell_type": "code",
   "execution_count": null,
   "metadata": {},
   "outputs": [],
   "source": []
  }
 ],
 "metadata": {
  "kernelspec": {
   "display_name": "venv",
   "language": "python",
   "name": "python3"
  },
  "language_info": {
   "codemirror_mode": {
    "name": "ipython",
    "version": 3
   },
   "file_extension": ".py",
   "mimetype": "text/x-python",
   "name": "python",
   "nbconvert_exporter": "python",
   "pygments_lexer": "ipython3",
   "version": "3.10.10"
  },
  "orig_nbformat": 4
 },
 "nbformat": 4,
 "nbformat_minor": 2
}
