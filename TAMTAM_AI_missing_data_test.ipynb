{
 "cells": [
  {
   "cell_type": "code",
   "execution_count": 45,
   "metadata": {},
   "outputs": [],
   "source": [
    "import kmodels as kmk\n",
    "import pandas as pd \n",
    "import numpy as np\n",
    "import matplotlib.pyplot as plt\n",
    "import torch\n",
    "from sklearn.preprocessing import MinMaxScaler\n",
    "from sklearn.metrics import mean_squared_error, mean_absolute_error, r2_score"
   ]
  },
  {
   "cell_type": "code",
   "execution_count": 46,
   "metadata": {},
   "outputs": [],
   "source": [
    "def to_torch(X):\n",
    "    if isinstance(X, np.ndarray):\n",
    "        X = torch.from_numpy(X.astype(np.float32))\n",
    "    elif isinstance(X, pd.DataFrame):\n",
    "        X = X.values\n",
    "        X = torch.from_numpy(X.astype(np.float32))\n",
    "    return X\n",
    "\n",
    "# for each subject make a large array of copipes of the x data where each muscle is deleted systematically and then the data is appeneded together\n",
    "# this will be the input data\n",
    "\n",
    "def augment_subject_data(subject_df):\n",
    "    x_cols = ['FPL', 'APL', 'EPL', 'EPB', 'DIO', 'ADP', 'OPP', 'FPB', 'Fx', 'Fy', 'Fz']\n",
    "    y_cols = ['Pain_Cohort', 'Eaton_Litter']\n",
    "    muscles = ['FPL', 'APL', 'EPL', 'EPB', 'DIO', 'ADP', 'OPP', 'FPB']\n",
    "    # check which muscles are non-zero\n",
    "    used_muscles = []\n",
    "    for muscle in muscles:\n",
    "        if subject_df[muscle].sum() != 0:\n",
    "            used_muscles.append(muscle)\n",
    "    # for each muscle that is non-zero, delete it and append the data to a list\n",
    "    # copy the df so that we don't overwrite it\n",
    "    subject_df_copy = subject_df.copy()\n",
    "    # make a list to store the data\n",
    "    x_data = []\n",
    "    x_original = []\n",
    "    y_data = []\n",
    "    for muscle in used_muscles:\n",
    "        # delete the muscle\n",
    "        subject_df_copy[muscle] = 0\n",
    "        # append the data\n",
    "        # sort by the Frame column\n",
    "        subject_df_copy = subject_df_copy.sort_values(by=['Frame'])\n",
    "        x_data.append(subject_df_copy[x_cols].values.reshape(1, -1))\n",
    "        y_data.append(subject_df_copy[y_cols].values[0,:])\n",
    "        # append the original data\n",
    "        x_original.append(subject_df[x_cols].values.reshape(1, -1))\n",
    "        # reset the df\n",
    "        subject_df_copy = subject_df.copy()\n",
    "    # return the data\n",
    "    return np.row_stack(x_data), np.row_stack(x_original), np.row_stack(y_data)\n",
    "\n",
    "def augment2(df):\n",
    "    # pass all the data through augmenter again\n",
    "    x_data = []\n",
    "    y_data = []\n",
    "    x_og_data = []\n",
    "    subject_dfs = df.groupby(['Subject','Event'])\n",
    "    # copy the df so that we don't overwrite it\n",
    "    # for each subject, zero one muscle at a time and append the data\n",
    "    for subject, subject_df in subject_dfs:\n",
    "        subject_df_copy = subject_df.copy()\n",
    "        # pick a random muscle\n",
    "        muscle = np.random.choice(['FPL', 'APL', 'EPL', 'EPB', 'DIO', 'ADP', 'OPP', 'FPB'])\n",
    "        # zero the muscle\n",
    "        subject_df_copy[muscle] = 0\n",
    "        # augment the data\n",
    "        x, x_og, y = augment_subject_data(subject_df)\n",
    "        # append the data\n",
    "        x_data.append(x)\n",
    "        y_data.append(y)\n",
    "        x_og_data.append(x_og)\n",
    "        # reset the df\n",
    "        subject_df_copy = df.copy()\n",
    "    # stack the data\n",
    "    x_data = np.row_stack(x_data)\n",
    "    y_data = np.row_stack(y_data)\n",
    "    x_og_data = np.row_stack(x_og_data)\n",
    "    return x_data, x_og_data, y_data\n"
   ]
  },
  {
   "cell_type": "code",
   "execution_count": 47,
   "metadata": {},
   "outputs": [
    {
     "data": {
      "text/plain": [
       "Index(['Fx', 'Fy', 'Fz', 'FPL', 'APL', 'EPL', 'EPB', 'DIO', 'ADP', 'OPP',\n",
       "       'FPB', 'Subject', 'Event', 'Frame', 'Pain_Cohort', 'Eaton_Litter'],\n",
       "      dtype='object')"
      ]
     },
     "execution_count": 47,
     "metadata": {},
     "output_type": "execute_result"
    }
   ],
   "source": [
    "df = pd.read_pickle('./data/ML_Data.pkl')\n",
    "df.columns"
   ]
  },
  {
   "cell_type": "code",
   "execution_count": 48,
   "metadata": {},
   "outputs": [],
   "source": [
    "subjects = df['Subject'].unique()\n",
    "# get dfs by subject and event\n",
    "groups_subject = df.groupby(['Subject', 'Event'])\n",
    "# for each group get the dataframe \n",
    "subject_dfs = []\n",
    "for name, group in groups_subject:\n",
    "    subject_dfs.append(group)\n",
    "subject_df = subject_dfs[0]"
   ]
  },
  {
   "cell_type": "code",
   "execution_count": 49,
   "metadata": {},
   "outputs": [
    {
     "data": {
      "text/plain": [
       "(torch.Size([660, 11000]), torch.Size([660, 2]), torch.Size([660, 11000]))"
      ]
     },
     "execution_count": 49,
     "metadata": {},
     "output_type": "execute_result"
    }
   ],
   "source": [
    "# test\n",
    "x, x_og, y = augment_subject_data(subject_df)\n",
    "# get all the augmented data\n",
    "x_data = []\n",
    "x_og_data = []\n",
    "y_data = []\n",
    "for subject_df in subject_dfs:\n",
    "    x, x_og, y = augment_subject_data(subject_df)\n",
    "    x_data.append(x)\n",
    "    x_og_data.append(x_og)\n",
    "    y_data.append(y)\n",
    "# stack the data\n",
    "# loop through the subjects and augment the data and append it to the data\n",
    "for subject_df in subject_dfs:\n",
    "    x, x_og, y = augment2(subject_df)\n",
    "    x_data.append(x)\n",
    "    y_data.append(y)\n",
    "    x_og_data.append(x_og)\n",
    "# stack the data\n",
    "x_data = np.row_stack(x_data)\n",
    "y_data = np.row_stack(y_data)\n",
    "x_og_data = np.row_stack(x_og_data)\n",
    "X = to_torch(x_data)\n",
    "Y = to_torch(y_data)\n",
    "X_og = to_torch(x_og_data)\n",
    "X.shape, Y.shape, X_og.shape"
   ]
  },
  {
   "cell_type": "code",
   "execution_count": 50,
   "metadata": {},
   "outputs": [
    {
     "data": {
      "text/plain": [
       "[<matplotlib.lines.Line2D at 0x1f380b57070>]"
      ]
     },
     "execution_count": 50,
     "metadata": {},
     "output_type": "execute_result"
    },
    {
     "data": {
      "image/png": "[encoded data removed]",
      "text/plain": [
       "<Figure size 640x480 with 1 Axes>"
      ]
     },
     "metadata": {},
     "output_type": "display_data"
    }
   ],
   "source": [
    "plt.plot(X_og[0, :])"
   ]
  },
  {
   "cell_type": "code",
   "execution_count": 51,
   "metadata": {},
   "outputs": [
    {
     "data": {
      "text/plain": [
       "[<matplotlib.lines.Line2D at 0x1f380b9c7c0>,\n",
       " <matplotlib.lines.Line2D at 0x1f380b79f60>,\n",
       " <matplotlib.lines.Line2D at 0x1f38134ff70>,\n",
       " <matplotlib.lines.Line2D at 0x1f3813740a0>,\n",
       " <matplotlib.lines.Line2D at 0x1f381374190>,\n",
       " <matplotlib.lines.Line2D at 0x1f381374280>,\n",
       " <matplotlib.lines.Line2D at 0x1f381374370>,\n",
       " <matplotlib.lines.Line2D at 0x1f381374460>,\n",
       " <matplotlib.lines.Line2D at 0x1f381374550>,\n",
       " <matplotlib.lines.Line2D at 0x1f381374640>]"
      ]
     },
     "execution_count": 51,
     "metadata": {},
     "output_type": "execute_result"
    },
    {
     "data": {
      "image/png": "[encoded data removed]",
      "text/plain": [
       "<Figure size 640x480 with 1 Axes>"
      ]
     },
     "metadata": {},
     "output_type": "display_data"
    }
   ],
   "source": [
    "scaler = MinMaxScaler()\n",
    "X = scaler.fit_transform(X)\n",
    "X_og = scaler.transform(X_og)\n",
    "X = to_torch(X)\n",
    "X_og = to_torch(X_og)\n",
    "plt.plot(X_og[0:10, :].T, alpha=0.1)"
   ]
  },
  {
   "cell_type": "code",
   "execution_count": 52,
   "metadata": {},
   "outputs": [
    {
     "data": {
      "text/plain": [
       "(array([228.,   0.,   0., 156.,   0.,   0., 150.,   0.,   0., 126.]),\n",
       " array([1.        , 1.29999995, 1.60000002, 1.89999998, 2.20000005,\n",
       "        2.5       , 2.79999995, 3.0999999 , 3.4000001 , 3.70000005,\n",
       "        4.        ]),\n",
       " <BarContainer object of 10 artists>)"
      ]
     },
     "execution_count": 52,
     "metadata": {},
     "output_type": "execute_result"
    },
    {
     "data": {
      "image/png": "[encoded data removed]",
      "text/plain": [
       "<Figure size 640x480 with 1 Axes>"
      ]
     },
     "metadata": {},
     "output_type": "display_data"
    }
   ],
   "source": [
    "plt.hist(Y[:,0])\n",
    "plt.hist(Y[:,1])"
   ]
  },
  {
   "cell_type": "code",
   "execution_count": 53,
   "metadata": {},
   "outputs": [
    {
     "data": {
      "text/plain": [
       "((60, 11000), (60, 2))"
      ]
     },
     "execution_count": 53,
     "metadata": {},
     "output_type": "execute_result"
    }
   ],
   "source": [
    "# plot the latent space of the un-augmented data\n",
    "def get_data(df):\n",
    "    x_cols = ['FPL', 'APL', 'EPL', 'EPB', 'DIO', 'ADP', 'OPP', 'FPB', 'Fx', 'Fy', 'Fz']\n",
    "    y_cols = ['Pain_Cohort', 'Eaton_Litter']\n",
    "    groups = df.groupby(['Subject', 'Event'])\n",
    "    X = []\n",
    "    Y = []\n",
    "    for name, group in groups:\n",
    "        X.append(group[x_cols].values.reshape(1, -1))\n",
    "        Y.append(group[y_cols].values[0,:])\n",
    "    X = np.row_stack(X)\n",
    "    Y = np.row_stack(Y)\n",
    "    return X, Y\n",
    "\n",
    "X_prime, Y_prime = get_data(df)\n",
    "X_prime = scaler.transform(X_prime)\n",
    "X_prime.shape, Y_prime.shape"
   ]
  },
  {
   "cell_type": "code",
   "execution_count": 54,
   "metadata": {},
   "outputs": [
    {
     "data": {
      "text/plain": [
       "(torch.Size([720, 11000]), torch.Size([720, 2]))"
      ]
     },
     "execution_count": 54,
     "metadata": {},
     "output_type": "execute_result"
    }
   ],
   "source": [
    "X = to_torch(X)\n",
    "Y = to_torch(Y)\n",
    "X_prime = to_torch(X_prime)\n",
    "Y_prime = to_torch(Y_prime)\n",
    "\n",
    "X = torch.cat((X, X_prime), dim=0)\n",
    "Y = torch.cat((Y, Y_prime), dim=0)\n",
    "X_og = torch.cat((X_og, X_prime), dim=0)\n",
    "X.shape, Y.shape"
   ]
  },
  {
   "cell_type": "code",
   "execution_count": 55,
   "metadata": {},
   "outputs": [],
   "source": [
    "import lovely_tensors as lt\n",
    "lt.monkey_patch()"
   ]
  },
  {
   "cell_type": "code",
   "execution_count": 56,
   "metadata": {},
   "outputs": [
    {
     "data": {
      "text/plain": [
       "tensor[720, 11000] n=7920000 (30Mb) x∈[-5.925e-08, 1.000] μ=0.340 σ=0.337\n",
       "tensor([[0.0000e+00, 0.0000e+00, 2.0397e-01,  ..., 2.0169e-01, 4.9340e-01,\n",
       "         2.9222e-01],\n",
       "        [0.0000e+00, 3.2162e-01, 0.0000e+00,  ..., 2.0169e-01, 4.9340e-01,\n",
       "         2.9222e-01],\n",
       "        [0.0000e+00, 3.2162e-01, 2.0397e-01,  ..., 2.0169e-01, 4.9340e-01,\n",
       "         2.9222e-01],\n",
       "        ...,\n",
       "        [0.0000e+00, 0.0000e+00, 1.2227e-04,  ..., 4.9017e-01, 8.0860e-01,\n",
       "         3.1137e-01],\n",
       "        [0.0000e+00, 0.0000e+00, 4.7545e-05,  ..., 6.3158e-01, 8.4222e-01,\n",
       "         3.8652e-01],\n",
       "        [0.0000e+00, 0.0000e+00, 2.7501e-05,  ..., 7.2721e-01, 8.2448e-01,\n",
       "         3.9728e-01]])"
      ]
     },
     "execution_count": 56,
     "metadata": {},
     "output_type": "execute_result"
    }
   ],
   "source": [
    "X.v"
   ]
  },
  {
   "cell_type": "code",
   "execution_count": 59,
   "metadata": {},
   "outputs": [
    {
     "data": {
      "text/plain": [
       "({'lr_init': [0.001, 0.0001, 1e-05],\n",
       "  'n_layers': [2, 3],\n",
       "  'hidden_dim': [32, 64, 128, 256, 512]},\n",
       " {'n_inputs': 11000,\n",
       "  'n_outputs': 11000,\n",
       "  'input_dim': 11000,\n",
       "  'is_VAE': True,\n",
       "  'batch_size': 256,\n",
       "  'epochs': 1001,\n",
       "  'verbose': 10,\n",
       "  'latent_dim': 2,\n",
       "  'lr_init': 0.005,\n",
       "  'reg_factor': 0,\n",
       "  'n_layers': 2,\n",
       "  'hidden_dim': 50,\n",
       "  'beta': 10,\n",
       "  'metric': <function sklearn.metrics._regression.r2_score(y_true, y_pred, *, sample_weight=None, multioutput='uniform_average', force_finite=True)>,\n",
       "  'lr_gamma': 0.1,\n",
       "  'scheduler': kmodels.utils.LR_scheduler,\n",
       "  'device': 'cpu',\n",
       "  'binary_dim': 0,\n",
       "  'gamma': 0,\n",
       "  'binary_dim_y': 0})"
      ]
     },
     "execution_count": 59,
     "metadata": {},
     "output_type": "execute_result"
    }
   ],
   "source": [
    "config = {\n",
    "    'estimator_type': 'VAE',\n",
    "    'n_inputs': X.shape[1],\n",
    "    'n_outputs': X.shape[1],\n",
    "    'input_dim': X.shape[1],\n",
    "    'is_VAE': True,\n",
    "    'batch_size':256, \n",
    "    'epochs':1001, \n",
    "    'verbose':10,\n",
    "    'latent_dim': 2,\n",
    "    'lr_init':5e-3,\n",
    "    'reg_factor':0,\n",
    "    'n_layers':2,\n",
    "    'hidden_dim':50,\n",
    "    'beta':10,\n",
    "}\n",
    "reg = kmk.Trainer(**config)\n",
    "from sklearn.model_selection import train_test_split, GridSearchCV, RandomizedSearchCV\n",
    "# lets use parameter sampler from sklearn so that we don't have to use the CV part of RandomizedSearchCV\n",
    "from scipy.stats import uniform, randint\n",
    "param_space = {'lr_init':[1e-3, 1e-4, 1e-5],\n",
    "               'n_layers':[ 2, 3], \n",
    "               'hidden_dim':[32, 64, 128, 256, 512],\n",
    "}\n",
    "param_space, reg.config"
   ]
  },
  {
   "cell_type": "code",
   "execution_count": 60,
   "metadata": {},
   "outputs": [
    {
     "name": "stdout",
     "output_type": "stream",
     "text": [
      "====> Epoch: 0 Average loss: 534504.937500000 Time: 1.81\n",
      "Loss components: {'VAE_loss': tensor 5.268e+05, 'L1_regularization': tensor grad MulBackward0 7.751e+03}\n",
      "====> Epoch: 10 Average loss: 182103.296875000 Time: 1.46\n",
      "Loss components: {'VAE_loss': tensor 1.748e+05, 'L1_regularization': tensor grad MulBackward0 7.293e+03}\n",
      "====> Epoch: 20 Average loss: 171018.703125000 Time: 1.50\n",
      "Loss components: {'VAE_loss': tensor 1.655e+05, 'L1_regularization': tensor grad MulBackward0 5.540e+03}\n",
      "====> Epoch: 30 Average loss: 163766.468750000 Time: 1.47\n",
      "Loss components: {'VAE_loss': tensor 1.598e+05, 'L1_regularization': tensor grad MulBackward0 3.999e+03}\n",
      "====> Epoch: 40 Average loss: 149427.640625000 Time: 1.48\n",
      "Loss components: {'VAE_loss': tensor 1.469e+05, 'L1_regularization': tensor grad MulBackward0 2.538e+03}\n",
      "====> Epoch: 50 Average loss: 137933.203125000 Time: 1.47\n",
      "Loss components: {'VAE_loss': tensor 1.364e+05, 'L1_regularization': tensor grad MulBackward0 1.553e+03}\n",
      "====> Epoch: 60 Average loss: 127179.812500000 Time: 1.45\n",
      "Loss components: {'VAE_loss': tensor 1.263e+05, 'L1_regularization': tensor grad MulBackward0 869.594}\n",
      "====> Epoch: 70 Average loss: 116235.843750000 Time: 1.47\n",
      "Loss components: {'VAE_loss': tensor 1.158e+05, 'L1_regularization': tensor grad MulBackward0 481.780}\n",
      "====> Epoch: 80 Average loss: 105364.679687500 Time: 1.64\n",
      "Loss components: {'VAE_loss': tensor 1.051e+05, 'L1_regularization': tensor grad MulBackward0 269.113}\n",
      "====> Epoch: 90 Average loss: 99757.179687500 Time: 1.52\n",
      "Loss components: {'VAE_loss': tensor 9.960e+04, 'L1_regularization': tensor grad MulBackward0 160.113}\n",
      "====> Epoch: 100 Average loss: 96535.828125000 Time: 1.49\n",
      "Loss components: {'VAE_loss': tensor 9.643e+04, 'L1_regularization': tensor grad MulBackward0 109.871}\n"
     ]
    }
   ],
   "source": [
    "reg = kmk.Trainer(**config)\n",
    "reg.estimator(X)[0].shape\n",
    "reg.fit(X, X_og)\n"
   ]
  },
  {
   "cell_type": "code",
   "execution_count": 40,
   "metadata": {},
   "outputs": [
    {
     "data": {
      "text/plain": [
       "[<matplotlib.lines.Line2D at 0x1f380ff7c70>]"
      ]
     },
     "execution_count": 40,
     "metadata": {},
     "output_type": "execute_result"
    },
    {
     "data": {
      "image/png": "[encoded data removed]",
      "text/plain": [
       "<Figure size 640x480 with 1 Axes>"
      ]
     },
     "metadata": {},
     "output_type": "display_data"
    }
   ],
   "source": [
    "# plot the recon error\n",
    "X_hat = reg.predict(X)\n",
    "plt.plot(X_hat[0].detach().numpy())\n",
    "plt.plot(X[0].detach().numpy(), alpha=0.5)\n"
   ]
  },
  {
   "cell_type": "code",
   "execution_count": 41,
   "metadata": {},
   "outputs": [],
   "source": [
    "#"
   ]
  },
  {
   "cell_type": "code",
   "execution_count": 42,
   "metadata": {},
   "outputs": [
    {
     "data": {
      "text/plain": [
       "[<matplotlib.lines.Line2D at 0x1f380a4f5b0>]"
      ]
     },
     "execution_count": 42,
     "metadata": {},
     "output_type": "execute_result"
    },
    {
     "data": {
      "image/png": "[encoded data removed]",
      "text/plain": [
       "<Figure size 640x480 with 1 Axes>"
      ]
     },
     "metadata": {},
     "output_type": "display_data"
    }
   ],
   "source": [
    "plt.plot(reg.losses)"
   ]
  },
  {
   "cell_type": "code",
   "execution_count": 43,
   "metadata": {},
   "outputs": [
    {
     "data": {
      "text/plain": [
       "((60, 11000), torch.Size([60, 11000]))"
      ]
     },
     "execution_count": 43,
     "metadata": {},
     "output_type": "execute_result"
    }
   ],
   "source": [
    "# pass the data through the model\n",
    "X_prime_hat = reg.predict(X_prime)\n",
    "X_prime_hat = X_prime_hat.detach().numpy()\n",
    "X_prime_hat.shape, X_prime.shape"
   ]
  },
  {
   "cell_type": "code",
   "execution_count": 44,
   "metadata": {},
   "outputs": [
    {
     "data": {
      "text/plain": [
       "<matplotlib.collections.PathCollection at 0x1f380abff40>"
      ]
     },
     "execution_count": 44,
     "metadata": {},
     "output_type": "execute_result"
    },
    {
     "data": {
      "image/png": "[encoded data removed]",
      "text/plain": [
       "<Figure size 640x480 with 1 Axes>"
      ]
     },
     "metadata": {},
     "output_type": "display_data"
    }
   ],
   "source": [
    "# get the encoded latent space and plot\n",
    "X_encoded = reg.estimator.encode(X)[0].detach().numpy()\n",
    "plt.scatter(X_encoded[:,0], X_encoded[:,1], c=Y[:,0], marker='*')\n",
    "# plot X_prime_hat as red dots\n",
    "plt.scatter(X_prime_hat[:,0], X_prime_hat[:,1], marker='o', alpha=0.5)"
   ]
  },
  {
   "cell_type": "code",
   "execution_count": 37,
   "metadata": {},
   "outputs": [
    {
     "data": {
      "application/vnd.plotly.v1+json": {
       "config": {
        "plotlyServerURL": "https://plot.ly"
       },
       "data": [
        {
         "customdata": [
          [
           3
          ],
          [
           3
          ],
          [
           3
          ],
          [
           3
          ],
          [
           3
          ],
          [
           3
          ],
          [
           3
          ],
          [
           3
          ],
          [
           3
          ],
          [
           3
          ],
          [
           3
          ],
          [
           3
          ],
          [
           3
          ],
          [
           3
          ],
          [
           3
          ],
          [
           3
          ],
          [
           3
          ],
          [
           3
          ],
          [
           3
          ],
          [
           3
          ],
          [
           3
          ],
          [
           3
          ],
          [
           3
          ],
          [
           3
          ],
          [
           2
          ],
          [
           2
          ],
          [
           2
          ],
          [
           2
          ],
          [
           2
          ],
          [
           2
          ],
          [
           2
          ],
          [
           2
          ],
          [
           2
          ],
          [
           2
          ],
          [
           2
          ],
          [
           2
          ],
          [
           2
          ],
          [
           2
          ],
          [
           2
          ],
          [
           2
          ],
          [
           2
          ],
          [
           2
          ],
          [
           4
          ],
          [
           4
          ],
          [
           4
          ],
          [
           4
          ],
          [
           4
          ],
          [
           4
          ],
          [
           4
          ],
          [
           4
          ],
          [
           4
          ],
          [
           4
          ],
          [
           4
          ],
          [
           4
          ],
          [
           4
          ],
          [
           4
          ],
          [
           4
          ],
          [
           4
          ],
          [
           4
          ],
          [
           4
          ],
          [
           4
          ],
          [
           4
          ],
          [
           4
          ],
          [
           2
          ],
          [
           2
          ],
          [
           2
          ],
          [
           2
          ],
          [
           2
          ],
          [
           2
          ],
          [
           2
          ],
          [
           2
          ],
          [
           2
          ],
          [
           2
          ],
          [
           2
          ],
          [
           2
          ],
          [
           2
          ],
          [
           2
          ],
          [
           2
          ],
          [
           2
          ],
          [
           2
          ],
          [
           2
          ],
          [
           2
          ],
          [
           2
          ],
          [
           2
          ],
          [
           2
          ],
          [
           2
          ],
          [
           2
          ],
          [
           3
          ],
          [
           3
          ],
          [
           3
          ],
          [
           3
          ],
          [
           3
          ],
          [
           3
          ],
          [
           3
          ],
          [
           3
          ],
          [
           3
          ],
          [
           3
          ],
          [
           3
          ],
          [
           3
          ],
          [
           3
          ],
          [
           3
          ],
          [
           3
          ],
          [
           3
          ],
          [
           3
          ],
          [
           3
          ],
          [
           3
          ],
          [
           3
          ],
          [
           3
          ],
          [
           3
          ],
          [
           3
          ],
          [
           3
          ],
          [
           3
          ],
          [
           3
          ],
          [
           3
          ],
          [
           3
          ],
          [
           3
          ],
          [
           3
          ],
          [
           3
          ],
          [
           3
          ],
          [
           3
          ],
          [
           3
          ],
          [
           3
          ],
          [
           3
          ],
          [
           3
          ],
          [
           3
          ],
          [
           3
          ],
          [
           3
          ],
          [
           3
          ],
          [
           3
          ],
          [
           3
          ],
          [
           3
          ],
          [
           3
          ],
          [
           3
          ],
          [
           3
          ],
          [
           3
          ],
          [
           1
          ],
          [
           1
          ],
          [
           1
          ],
          [
           1
          ],
          [
           1
          ],
          [
           1
          ],
          [
           1
          ],
          [
           1
          ],
          [
           1
          ],
          [
           1
          ],
          [
           1
          ],
          [
           1
          ],
          [
           1
          ],
          [
           1
          ],
          [
           1
          ],
          [
           1
          ],
          [
           1
          ],
          [
           1
          ],
          [
           4
          ],
          [
           4
          ],
          [
           4
          ],
          [
           4
          ],
          [
           4
          ],
          [
           4
          ],
          [
           4
          ],
          [
           4
          ],
          [
           4
          ],
          [
           4
          ],
          [
           4
          ],
          [
           4
          ],
          [
           4
          ],
          [
           4
          ],
          [
           4
          ],
          [
           4
          ],
          [
           4
          ],
          [
           4
          ],
          [
           4
          ],
          [
           4
          ],
          [
           4
          ],
          [
           4
          ],
          [
           4
          ],
          [
           4
          ],
          [
           3
          ],
          [
           3
          ],
          [
           3
          ],
          [
           3
          ],
          [
           3
          ],
          [
           3
          ],
          [
           3
          ],
          [
           3
          ],
          [
           3
          ],
          [
           3
          ],
          [
           3
          ],
          [
           3
          ],
          [
           3
          ],
          [
           3
          ],
          [
           3
          ],
          [
           3
          ],
          [
           3
          ],
          [
           3
          ],
          [
           3
          ],
          [
           3
          ],
          [
           3
          ],
          [
           3
          ],
          [
           3
          ],
          [
           3
          ],
          [
           2
          ],
          [
           2
          ],
          [
           2
          ],
          [
           2
          ],
          [
           2
          ],
          [
           2
          ],
          [
           2
          ],
          [
           2
          ],
          [
           2
          ],
          [
           2
          ],
          [
           2
          ],
          [
           2
          ],
          [
           2
          ],
          [
           2
          ],
          [
           2
          ],
          [
           2
          ],
          [
           2
          ],
          [
           2
          ],
          [
           4
          ],
          [
           4
          ],
          [
           4
          ],
          [
           4
          ],
          [
           4
          ],
          [
           4
          ],
          [
           4
          ],
          [
           4
          ],
          [
           4
          ],
          [
           4
          ],
          [
           4
          ],
          [
           4
          ],
          [
           4
          ],
          [
           4
          ],
          [
           4
          ],
          [
           4
          ],
          [
           4
          ],
          [
           4
          ],
          [
           4
          ],
          [
           4
          ],
          [
           4
          ],
          [
           2
          ],
          [
           2
          ],
          [
           2
          ],
          [
           2
          ],
          [
           2
          ],
          [
           2
          ],
          [
           2
          ],
          [
           2
          ],
          [
           2
          ],
          [
           2
          ],
          [
           2
          ],
          [
           2
          ],
          [
           2
          ],
          [
           2
          ],
          [
           2
          ],
          [
           2
          ],
          [
           2
          ],
          [
           2
          ],
          [
           2
          ],
          [
           2
          ],
          [
           2
          ],
          [
           2
          ],
          [
           2
          ],
          [
           2
          ],
          [
           3
          ],
          [
           3
          ],
          [
           3
          ],
          [
           3
          ],
          [
           3
          ],
          [
           3
          ],
          [
           3
          ],
          [
           3
          ],
          [
           3
          ],
          [
           3
          ],
          [
           3
          ],
          [
           3
          ],
          [
           3
          ],
          [
           3
          ],
          [
           3
          ],
          [
           3
          ],
          [
           3
          ],
          [
           3
          ],
          [
           3
          ],
          [
           3
          ],
          [
           3
          ],
          [
           3
          ],
          [
           3
          ],
          [
           3
          ],
          [
           3
          ],
          [
           3
          ],
          [
           3
          ],
          [
           3
          ],
          [
           3
          ],
          [
           3
          ],
          [
           3
          ],
          [
           3
          ],
          [
           3
          ],
          [
           3
          ],
          [
           3
          ],
          [
           3
          ],
          [
           3
          ],
          [
           3
          ],
          [
           3
          ],
          [
           3
          ],
          [
           3
          ],
          [
           3
          ],
          [
           3
          ],
          [
           3
          ],
          [
           3
          ],
          [
           3
          ],
          [
           3
          ],
          [
           3
          ],
          [
           1
          ],
          [
           1
          ],
          [
           1
          ],
          [
           1
          ],
          [
           1
          ],
          [
           1
          ],
          [
           1
          ],
          [
           1
          ],
          [
           1
          ],
          [
           1
          ],
          [
           1
          ],
          [
           1
          ],
          [
           1
          ],
          [
           1
          ],
          [
           1
          ],
          [
           1
          ],
          [
           1
          ],
          [
           1
          ],
          [
           4
          ],
          [
           4
          ],
          [
           4
          ],
          [
           4
          ],
          [
           4
          ],
          [
           4
          ],
          [
           4
          ],
          [
           4
          ],
          [
           4
          ],
          [
           4
          ],
          [
           4
          ],
          [
           4
          ],
          [
           4
          ],
          [
           4
          ],
          [
           4
          ],
          [
           4
          ],
          [
           4
          ],
          [
           4
          ],
          [
           4
          ],
          [
           4
          ],
          [
           4
          ],
          [
           4
          ],
          [
           4
          ],
          [
           4
          ],
          [
           3
          ],
          [
           3
          ],
          [
           3
          ],
          [
           2
          ],
          [
           2
          ],
          [
           2
          ],
          [
           4
          ],
          [
           4
          ],
          [
           4
          ],
          [
           2
          ],
          [
           2
          ],
          [
           2
          ],
          [
           3
          ],
          [
           3
          ],
          [
           3
          ],
          [
           3
          ],
          [
           3
          ],
          [
           3
          ],
          [
           1
          ],
          [
           1
          ],
          [
           1
          ],
          [
           4
          ],
          [
           4
          ],
          [
           4
          ],
          [
           3
          ],
          [
           3
          ],
          [
           3
          ],
          [
           2
          ],
          [
           2
          ],
          [
           2
          ],
          [
           4
          ],
          [
           4
          ],
          [
           4
          ],
          [
           2
          ],
          [
           2
          ],
          [
           2
          ],
          [
           3
          ],
          [
           3
          ],
          [
           3
          ],
          [
           3
          ],
          [
           3
          ],
          [
           3
          ],
          [
           1
          ],
          [
           1
          ],
          [
           1
          ],
          [
           4
          ],
          [
           4
          ],
          [
           4
          ]
         ],
         "hovertemplate": "Pain_Cohort=1.0<br>x1=%{x}<br>x2=%{y}<br>Eaton_Litter=%{marker.color}<extra></extra>",
         "legendgroup": "1.0",
         "marker": {
          "color": [
           3,
           3,
           3,
           3,
           3,
           3,
           3,
           3,
           3,
           3,
           3,
           3,
           3,
           3,
           3,
           3,
           3,
           3,
           3,
           3,
           3,
           3,
           3,
           3,
           2,
           2,
           2,
           2,
           2,
           2,
           2,
           2,
           2,
           2,
           2,
           2,
           2,
           2,
           2,
           2,
           2,
           2,
           4,
           4,
           4,
           4,
           4,
           4,
           4,
           4,
           4,
           4,
           4,
           4,
           4,
           4,
           4,
           4,
           4,
           4,
           4,
           4,
           4,
           2,
           2,
           2,
           2,
           2,
           2,
           2,
           2,
           2,
           2,
           2,
           2,
           2,
           2,
           2,
           2,
           2,
           2,
           2,
           2,
           2,
           2,
           2,
           2,
           3,
           3,
           3,
           3,
           3,
           3,
           3,
           3,
           3,
           3,
           3,
           3,
           3,
           3,
           3,
           3,
           3,
           3,
           3,
           3,
           3,
           3,
           3,
           3,
           3,
           3,
           3,
           3,
           3,
           3,
           3,
           3,
           3,
           3,
           3,
           3,
           3,
           3,
           3,
           3,
           3,
           3,
           3,
           3,
           3,
           3,
           3,
           3,
           1,
           1,
           1,
           1,
           1,
           1,
           1,
           1,
           1,
           1,
           1,
           1,
           1,
           1,
           1,
           1,
           1,
           1,
           4,
           4,
           4,
           4,
           4,
           4,
           4,
           4,
           4,
           4,
           4,
           4,
           4,
           4,
           4,
           4,
           4,
           4,
           4,
           4,
           4,
           4,
           4,
           4,
           3,
           3,
           3,
           3,
           3,
           3,
           3,
           3,
           3,
           3,
           3,
           3,
           3,
           3,
           3,
           3,
           3,
           3,
           3,
           3,
           3,
           3,
           3,
           3,
           2,
           2,
           2,
           2,
           2,
           2,
           2,
           2,
           2,
           2,
           2,
           2,
           2,
           2,
           2,
           2,
           2,
           2,
           4,
           4,
           4,
           4,
           4,
           4,
           4,
           4,
           4,
           4,
           4,
           4,
           4,
           4,
           4,
           4,
           4,
           4,
           4,
           4,
           4,
           2,
           2,
           2,
           2,
           2,
           2,
           2,
           2,
           2,
           2,
           2,
           2,
           2,
           2,
           2,
           2,
           2,
           2,
           2,
           2,
           2,
           2,
           2,
           2,
           3,
           3,
           3,
           3,
           3,
           3,
           3,
           3,
           3,
           3,
           3,
           3,
           3,
           3,
           3,
           3,
           3,
           3,
           3,
           3,
           3,
           3,
           3,
           3,
           3,
           3,
           3,
           3,
           3,
           3,
           3,
           3,
           3,
           3,
           3,
           3,
           3,
           3,
           3,
           3,
           3,
           3,
           3,
           3,
           3,
           3,
           3,
           3,
           1,
           1,
           1,
           1,
           1,
           1,
           1,
           1,
           1,
           1,
           1,
           1,
           1,
           1,
           1,
           1,
           1,
           1,
           4,
           4,
           4,
           4,
           4,
           4,
           4,
           4,
           4,
           4,
           4,
           4,
           4,
           4,
           4,
           4,
           4,
           4,
           4,
           4,
           4,
           4,
           4,
           4,
           3,
           3,
           3,
           2,
           2,
           2,
           4,
           4,
           4,
           2,
           2,
           2,
           3,
           3,
           3,
           3,
           3,
           3,
           1,
           1,
           1,
           4,
           4,
           4,
           3,
           3,
           3,
           2,
           2,
           2,
           4,
           4,
           4,
           2,
           2,
           2,
           3,
           3,
           3,
           3,
           3,
           3,
           1,
           1,
           1,
           4,
           4,
           4
          ],
          "coloraxis": "coloraxis",
          "line": {
           "color": "DarkSlateGrey",
           "width": 2
          },
          "size": 12,
          "symbol": "circle"
         },
         "mode": "markers",
         "name": "1.0",
         "orientation": "v",
         "showlegend": true,
         "type": "scatter",
         "x": [
          5.663818359375,
          4.506392478942871,
          3.8808963298797607,
          4.4555983543396,
          4.8914947509765625,
          5.110304832458496,
          4.516101360321045,
          5.26517915725708,
          6.372323036193848,
          5.734559059143066,
          6.448893070220947,
          6.399798393249512,
          6.402246952056885,
          6.78581428527832,
          4.3000569343566895,
          6.8025736808776855,
          6.093432426452637,
          5.400371551513672,
          5.310813903808594,
          4.014904975891113,
          5.701944828033447,
          6.037684440612793,
          3.898686170578003,
          5.8131866455078125,
          2.221503496170044,
          2.358318328857422,
          1.8572478294372559,
          2.4473793506622314,
          2.705841302871704,
          2.457367181777954,
          0.14474807679653168,
          -0.638370931148529,
          -0.05873497575521469,
          0.5536857843399048,
          0.5684730410575867,
          0.23342281579971313,
          4.295983791351318,
          3.4481217861175537,
          3.1497764587402344,
          3.8899505138397217,
          4.868575572967529,
          4.499584197998047,
          0.31505826115608215,
          0.2225313037633896,
          0.1730542629957199,
          0.4056883454322815,
          0.7386391758918762,
          0.36467185616493225,
          0.5571779608726501,
          1.4729607105255127,
          1.8670889139175415,
          1.682969093322754,
          1.8133412599563599,
          1.9257009029388428,
          2.0570881366729736,
          -0.15190358459949493,
          2.998359441757202,
          3.2051358222961426,
          4.051881790161133,
          3.629307985305786,
          3.1864826679229736,
          3.2187159061431885,
          0.5722479224205017,
          9.211857795715332,
          9.620710372924805,
          8.219151496887207,
          8.720414161682129,
          8.489073753356934,
          8.90167236328125,
          6.791254043579102,
          9.357177734375,
          7.290290355682373,
          6.8428874015808105,
          7.362128257751465,
          6.069121360778809,
          7.000012397766113,
          7.311731338500977,
          5.504209518432617,
          7.879393577575684,
          6.837529182434082,
          7.094847679138184,
          7.170315742492676,
          6.020711421966553,
          6.78731632232666,
          7.173797607421875,
          4.293644905090332,
          7.265614986419678,
          -2.9022367000579834,
          -3.47175669670105,
          -3.4785101413726807,
          -3.3952105045318604,
          -2.543098211288452,
          -2.5537497997283936,
          -2.622014045715332,
          -2.6717464923858643,
          -1.7576442956924438,
          -2.1030831336975098,
          -2.649275541305542,
          -2.256448268890381,
          -1.3386344909667969,
          -1.271622657775879,
          -2.1823618412017822,
          -1.3152122497558594,
          1.930054783821106,
          1.5586392879486084,
          0.9184646010398865,
          0.9548582434654236,
          2.008326292037964,
          2.1818103790283203,
          2.741201639175415,
          2.412572145462036,
          3.2829694747924805,
          3.602163791656494,
          3.216264486312866,
          3.017273187637329,
          3.950698137283325,
          3.979914665222168,
          1.8820292949676514,
          4.2553486824035645,
          8.817303657531738,
          8.360344886779785,
          8.060291290283203,
          7.428164482116699,
          8.409125328063965,
          8.866803169250488,
          4.481426239013672,
          9.024014472961426,
          7.701721668243408,
          6.883266448974609,
          6.669318199157715,
          6.223333358764648,
          7.76623010635376,
          7.910495281219482,
          4.425368309020996,
          8.092761039733887,
          -3.6530604362487793,
          -3.590332508087158,
          -2.9966678619384766,
          -3.269878625869751,
          -3.523665428161621,
          -3.4825260639190674,
          -2.760713577270508,
          -2.324742555618286,
          -2.884551763534546,
          -2.1656599044799805,
          -2.897357702255249,
          -2.6676604747772217,
          -2.099409818649292,
          -1.3263399600982666,
          -1.7509827613830566,
          -1.0478827953338623,
          -1.8233847618103027,
          -1.6949968338012695,
          1.3373479843139648,
          0.9743622541427612,
          2.115320920944214,
          1.8889079093933105,
          1.2942084074020386,
          1.5591001510620117,
          -0.021036705002188683,
          1.5029635429382324,
          4.482118606567383,
          3.548863649368286,
          5.421515464782715,
          4.323593616485596,
          4.848676681518555,
          4.424371719360352,
          1.291680097579956,
          4.536941051483154,
          5.040523529052734,
          4.197556972503662,
          6.04149866104126,
          4.161686420440674,
          5.765458106994629,
          5.550341606140137,
          0.9748387932777405,
          5.226869106292725,
          5.663818359375,
          4.506392478942871,
          3.8808963298797607,
          4.4555983543396,
          4.8914947509765625,
          5.110304832458496,
          4.516101360321045,
          5.26517915725708,
          6.372323036193848,
          5.734559059143066,
          6.448893070220947,
          6.399798393249512,
          6.402246952056885,
          6.78581428527832,
          4.3000569343566895,
          6.8025736808776855,
          6.093432426452637,
          5.400371551513672,
          5.310813903808594,
          4.014904975891113,
          5.701944828033447,
          6.037684440612793,
          3.898686170578003,
          5.8131866455078125,
          2.221503496170044,
          2.358318328857422,
          1.8572478294372559,
          2.4473793506622314,
          2.705841302871704,
          2.457367181777954,
          0.14474807679653168,
          -0.638370931148529,
          -0.05873497575521469,
          0.5536857843399048,
          0.5684730410575867,
          0.23342281579971313,
          4.295983791351318,
          3.4481217861175537,
          3.1497764587402344,
          3.8899505138397217,
          4.868575572967529,
          4.499584197998047,
          0.31505826115608215,
          0.2225313037633896,
          0.1730542629957199,
          0.4056883454322815,
          0.7386391758918762,
          0.36467185616493225,
          0.5571779608726501,
          1.4729607105255127,
          1.8670889139175415,
          1.682969093322754,
          1.8133412599563599,
          1.9257009029388428,
          2.0570881366729736,
          -0.15190358459949493,
          2.998359441757202,
          3.2051358222961426,
          4.051881790161133,
          3.6293065547943115,
          3.1864874362945557,
          3.2187163829803467,
          0.5722479224205017,
          9.211857795715332,
          9.620710372924805,
          8.219151496887207,
          8.720414161682129,
          8.489073753356934,
          8.90167236328125,
          6.791254043579102,
          9.357177734375,
          7.290290355682373,
          6.8428874015808105,
          7.362128257751465,
          6.069121360778809,
          7.000012397766113,
          7.311731338500977,
          5.504209518432617,
          7.879393577575684,
          6.837529182434082,
          7.094847679138184,
          7.170315742492676,
          6.020711421966553,
          6.78731632232666,
          7.173797607421875,
          4.293644905090332,
          7.265614986419678,
          -2.9022367000579834,
          -3.47175669670105,
          -3.4785101413726807,
          -3.3952105045318604,
          -2.543098211288452,
          -2.5537497997283936,
          -2.622014045715332,
          -2.6717464923858643,
          -1.7576442956924438,
          -2.1030831336975098,
          -2.649275541305542,
          -2.256448268890381,
          -1.3386344909667969,
          -1.271622657775879,
          -2.1823618412017822,
          -1.3152122497558594,
          1.930054783821106,
          1.5586373805999756,
          0.9184637665748596,
          0.95485919713974,
          2.008326292037964,
          2.1818103790283203,
          2.741201639175415,
          2.412572145462036,
          3.2829694747924805,
          3.602163791656494,
          3.216264486312866,
          3.017273187637329,
          3.9506947994232178,
          3.979912757873535,
          1.8820254802703857,
          4.2553486824035645,
          8.817303657531738,
          8.360344886779785,
          8.060291290283203,
          7.428164482116699,
          8.409125328063965,
          8.866803169250488,
          4.481426239013672,
          9.024014472961426,
          7.701721668243408,
          6.883266448974609,
          6.669318199157715,
          6.223333358764648,
          7.76623010635376,
          7.910495281219482,
          4.425368309020996,
          8.092761039733887,
          -3.6530604362487793,
          -3.590332508087158,
          -2.9966678619384766,
          -3.269878625869751,
          -3.523665428161621,
          -3.4825260639190674,
          -2.760713577270508,
          -2.324742555618286,
          -2.884551763534546,
          -2.1656599044799805,
          -2.897357702255249,
          -2.6676604747772217,
          -2.099409818649292,
          -1.3263399600982666,
          -1.7509827613830566,
          -1.0478827953338623,
          -1.8233847618103027,
          -1.6949968338012695,
          1.3373479843139648,
          0.9743622541427612,
          2.115320920944214,
          1.8889079093933105,
          1.2942084074020386,
          1.5591001510620117,
          -0.021036705002188683,
          1.5029635429382324,
          4.482118606567383,
          3.548863649368286,
          5.421515464782715,
          4.323593616485596,
          4.848676681518555,
          4.424371719360352,
          1.291680097579956,
          4.536941051483154,
          5.040523529052734,
          4.197556972503662,
          6.04149866104126,
          4.161686420440674,
          5.765458106994629,
          5.550341606140137,
          0.9748387932777405,
          5.226869106292725,
          6.140048027038574,
          7.611865997314453,
          6.718868255615234,
          3.4100019931793213,
          0.6164431571960449,
          5.183357238769531,
          1.221399188041687,
          2.5526649951934814,
          4.358887195587158,
          10.064051628112793,
          8.27475357055664,
          7.86782169342041,
          -2.6153714656829834,
          -1.28468918800354,
          2.7578461170196533,
          4.373591899871826,
          9.68607234954834,
          8.615154266357422,
          -3.51147723197937,
          -2.1339781284332275,
          -0.9658870100975037,
          2.11914324760437,
          5.454227924346924,
          6.050934791564941,
          83.22113037109375,
          100.33759307861328,
          98.35527801513672,
          132.59909057617188,
          128.0726776123047,
          161.21421813964844,
          36.98053741455078,
          40.09390640258789,
          42.19956970214844,
          154.28350830078125,
          126.28427124023438,
          127.95076751708984,
          28.40097999572754,
          33.649166107177734,
          42.06110763549805,
          71.14979553222656,
          75.88189697265625,
          87.12728118896484,
          17.23988914489746,
          20.89682960510254,
          35.00149917602539,
          48.88882827758789,
          61.344093322753906,
          57.524810791015625
         ],
         "xaxis": "x",
         "y": [
          11.869874954223633,
          11.678515434265137,
          11.568723678588867,
          11.920701026916504,
          10.857094764709473,
          11.097302436828613,
          12.152119636535645,
          11.134819030761719,
          12.997223854064941,
          14.181960105895996,
          14.723137855529785,
          14.969182968139648,
          13.312901496887207,
          14.042019844055176,
          14.143930435180664,
          13.991414070129395,
          11.962470054626465,
          12.063708305358887,
          12.238768577575684,
          11.672940254211426,
          11.329510688781738,
          11.697522163391113,
          11.989121437072754,
          11.506327629089355,
          6.928590297698975,
          7.312960147857666,
          7.197776794433594,
          7.576952934265137,
          6.7122344970703125,
          6.642241954803467,
          4.54877233505249,
          4.394198417663574,
          4.878249168395996,
          5.383459568023682,
          4.892597675323486,
          4.524686813354492,
          8.321321487426758,
          8.158394813537598,
          8.168042182922363,
          8.70177936553955,
          7.944139003753662,
          7.977963924407959,
          8.529460906982422,
          9.068331718444824,
          8.964089393615723,
          8.90407943725586,
          8.525505065917969,
          8.2603759765625,
          9.58958625793457,
          8.69131088256836,
          9.434309959411621,
          9.589734077453613,
          9.35468864440918,
          8.681456565856934,
          8.566004753112793,
          8.557271003723145,
          9.697572708129883,
          10.620041847229004,
          11.413914680480957,
          10.866384506225586,
          9.392918586730957,
          9.87861156463623,
          9.435904502868652,
          13.361957550048828,
          13.935548782348633,
          12.990869522094727,
          13.171990394592285,
          12.33312702178955,
          12.443657875061035,
          12.569293022155762,
          13.166784286499023,
          11.300368309020996,
          11.213994026184082,
          11.73578929901123,
          11.009123802185059,
          10.301329612731934,
          10.87439250946045,
          10.998016357421875,
          11.594691276550293,
          10.820117950439453,
          11.298308372497559,
          11.514683723449707,
          10.716316223144531,
          10.199429512023926,
          10.72791576385498,
          10.2357759475708,
          10.434090614318848,
          6.272372722625732,
          6.185413360595703,
          6.031120777130127,
          5.8936638832092285,
          6.448835372924805,
          6.376875400543213,
          6.924591064453125,
          6.201606273651123,
          8.089064598083496,
          8.205001831054688,
          7.741429328918457,
          7.884522438049316,
          7.946481704711914,
          7.882014751434326,
          8.514408111572266,
          8.096517562866211,
          9.894068717956543,
          9.819616317749023,
          9.543595314025879,
          9.667043685913086,
          9.450507164001465,
          9.488849639892578,
          10.981049537658691,
          9.608763694763184,
          10.083295822143555,
          11.179800033569336,
          10.95331859588623,
          10.7822265625,
          10.398642539978027,
          10.699983596801758,
          10.439831733703613,
          10.681083679199219,
          13.593195915222168,
          13.800353050231934,
          13.723705291748047,
          13.676729202270508,
          12.854125022888184,
          13.473196983337402,
          12.57363224029541,
          13.09807300567627,
          12.729432106018066,
          13.149555206298828,
          13.112141609191895,
          13.083401679992676,
          12.6079740524292,
          12.747382164001465,
          12.665670394897461,
          12.72740364074707,
          4.533041000366211,
          4.795830249786377,
          4.069096565246582,
          4.618551254272461,
          4.67085075378418,
          4.175816059112549,
          5.592921733856201,
          6.264700889587402,
          5.389682769775391,
          6.368608474731445,
          5.1409010887146,
          5.4088454246521,
          6.18699312210083,
          7.3166985511779785,
          6.857820987701416,
          7.487264633178711,
          6.099114894866943,
          6.061408996582031,
          8.678339004516602,
          8.947526931762695,
          10.115254402160645,
          9.95632266998291,
          8.23751449584961,
          8.528252601623535,
          8.601019859313965,
          8.795841217041016,
          11.21831226348877,
          11.25534725189209,
          12.915929794311523,
          12.289650917053223,
          11.031867027282715,
          10.99955940246582,
          10.640685081481934,
          11.344243049621582,
          9.493484497070312,
          9.473860740661621,
          10.928983688354492,
          9.775481224060059,
          10.257065773010254,
          10.029850959777832,
          8.404623985290527,
          9.470986366271973,
          11.869874954223633,
          11.678515434265137,
          11.568723678588867,
          11.920701026916504,
          10.857094764709473,
          11.097302436828613,
          12.152119636535645,
          11.134819030761719,
          12.997223854064941,
          14.181960105895996,
          14.723137855529785,
          14.969182968139648,
          13.312901496887207,
          14.042019844055176,
          14.143930435180664,
          13.991414070129395,
          11.962470054626465,
          12.063708305358887,
          12.238768577575684,
          11.672940254211426,
          11.329510688781738,
          11.697522163391113,
          11.989121437072754,
          11.506327629089355,
          6.928590297698975,
          7.312960147857666,
          7.197776794433594,
          7.576952934265137,
          6.7122344970703125,
          6.642241954803467,
          4.54877233505249,
          4.394198417663574,
          4.878249168395996,
          5.383459568023682,
          4.892597675323486,
          4.524686813354492,
          8.321321487426758,
          8.158394813537598,
          8.168042182922363,
          8.70177936553955,
          7.944139003753662,
          7.977963924407959,
          8.529460906982422,
          9.068331718444824,
          8.964089393615723,
          8.90407943725586,
          8.525505065917969,
          8.2603759765625,
          9.58958625793457,
          8.69131088256836,
          9.434309959411621,
          9.589734077453613,
          9.35468864440918,
          8.681456565856934,
          8.566004753112793,
          8.557271003723145,
          9.697572708129883,
          10.620041847229004,
          11.413914680480957,
          10.866385459899902,
          9.392919540405273,
          9.87861156463623,
          9.435904502868652,
          13.361957550048828,
          13.935548782348633,
          12.990869522094727,
          13.171990394592285,
          12.33312702178955,
          12.443657875061035,
          12.569293022155762,
          13.166784286499023,
          11.300368309020996,
          11.213994026184082,
          11.73578929901123,
          11.009123802185059,
          10.301329612731934,
          10.87439250946045,
          10.998016357421875,
          11.594691276550293,
          10.820117950439453,
          11.298308372497559,
          11.514683723449707,
          10.716316223144531,
          10.199429512023926,
          10.72791576385498,
          10.2357759475708,
          10.434090614318848,
          6.272372722625732,
          6.185413360595703,
          6.031120777130127,
          5.8936638832092285,
          6.448835372924805,
          6.376875400543213,
          6.924591064453125,
          6.201606273651123,
          8.089064598083496,
          8.205001831054688,
          7.741429328918457,
          7.884522438049316,
          7.946481704711914,
          7.882014751434326,
          8.514408111572266,
          8.096517562866211,
          9.894068717956543,
          9.819618225097656,
          9.543597221374512,
          9.667046546936035,
          9.450507164001465,
          9.488849639892578,
          10.981049537658691,
          9.608763694763184,
          10.083295822143555,
          11.179800033569336,
          10.95331859588623,
          10.7822265625,
          10.398640632629395,
          10.699984550476074,
          10.439830780029297,
          10.681083679199219,
          13.593195915222168,
          13.800353050231934,
          13.723705291748047,
          13.676729202270508,
          12.854125022888184,
          13.473196983337402,
          12.57363224029541,
          13.09807300567627,
          12.729432106018066,
          13.149555206298828,
          13.112141609191895,
          13.083401679992676,
          12.6079740524292,
          12.747382164001465,
          12.665670394897461,
          12.72740364074707,
          4.533041000366211,
          4.795830249786377,
          4.069096565246582,
          4.618551254272461,
          4.67085075378418,
          4.175816059112549,
          5.592921733856201,
          6.264700889587402,
          5.389682769775391,
          6.368608474731445,
          5.1409010887146,
          5.4088454246521,
          6.18699312210083,
          7.3166985511779785,
          6.857820987701416,
          7.487264633178711,
          6.099114894866943,
          6.061408996582031,
          8.678339004516602,
          8.947526931762695,
          10.115254402160645,
          9.95632266998291,
          8.23751449584961,
          8.528252601623535,
          8.601019859313965,
          8.795841217041016,
          11.21831226348877,
          11.25534725189209,
          12.915929794311523,
          12.289650917053223,
          11.031867027282715,
          10.99955940246582,
          10.640685081481934,
          11.344243049621582,
          9.493484497070312,
          9.473860740661621,
          10.928983688354492,
          9.775481224060059,
          10.257065773010254,
          10.029850959777832,
          8.404623985290527,
          9.470986366271973,
          12.855294227600098,
          15.639370918273926,
          13.139204025268555,
          8.177206993103027,
          5.474430561065674,
          9.598570823669434,
          10.030007362365723,
          10.180593490600586,
          11.59907341003418,
          14.404356956481934,
          12.501038551330566,
          11.987135887145996,
          6.939513683319092,
          8.992547988891602,
          10.99535083770752,
          11.911070823669434,
          14.995391845703125,
          14.415214538574219,
          4.870358943939209,
          6.394137382507324,
          7.552773952484131,
          10.118193626403809,
          12.925141334533691,
          10.933775901794434,
          -70.11788940429688,
          -84.04258728027344,
          -82.47798156738281,
          -113.72235870361328,
          -110.56538391113281,
          -138.29803466796875,
          -31.195598602294922,
          -33.711448669433594,
          -35.35942459106445,
          -129.25799560546875,
          -106.43148040771484,
          -107.48865509033203,
          -24.26526641845703,
          -28.904016494750977,
          -35.861080169677734,
          -60.00800704956055,
          -63.62776565551758,
          -73.2757339477539,
          -14.382341384887695,
          -17.263778686523438,
          -29.150285720825195,
          -41.78898620605469,
          -51.909976959228516,
          -48.51219177246094
         ],
         "yaxis": "y"
        },
        {
         "customdata": [
          [
           1
          ],
          [
           1
          ],
          [
           1
          ],
          [
           1
          ],
          [
           1
          ],
          [
           1
          ],
          [
           1
          ],
          [
           1
          ],
          [
           1
          ],
          [
           1
          ],
          [
           1
          ],
          [
           1
          ],
          [
           2
          ],
          [
           2
          ],
          [
           2
          ],
          [
           2
          ],
          [
           2
          ],
          [
           2
          ],
          [
           2
          ],
          [
           2
          ],
          [
           2
          ],
          [
           2
          ],
          [
           2
          ],
          [
           2
          ],
          [
           2
          ],
          [
           2
          ],
          [
           2
          ],
          [
           2
          ],
          [
           2
          ],
          [
           2
          ],
          [
           2
          ],
          [
           2
          ],
          [
           2
          ],
          [
           2
          ],
          [
           2
          ],
          [
           2
          ],
          [
           2
          ],
          [
           2
          ],
          [
           2
          ],
          [
           2
          ],
          [
           2
          ],
          [
           2
          ],
          [
           2
          ],
          [
           2
          ],
          [
           2
          ],
          [
           2
          ],
          [
           2
          ],
          [
           2
          ],
          [
           2
          ],
          [
           2
          ],
          [
           2
          ],
          [
           2
          ],
          [
           2
          ],
          [
           2
          ],
          [
           1
          ],
          [
           1
          ],
          [
           1
          ],
          [
           1
          ],
          [
           1
          ],
          [
           1
          ],
          [
           1
          ],
          [
           1
          ],
          [
           1
          ],
          [
           1
          ],
          [
           1
          ],
          [
           1
          ],
          [
           1
          ],
          [
           1
          ],
          [
           1
          ],
          [
           1
          ],
          [
           1
          ],
          [
           1
          ],
          [
           1
          ],
          [
           1
          ],
          [
           1
          ],
          [
           1
          ],
          [
           1
          ],
          [
           1
          ],
          [
           1
          ],
          [
           1
          ],
          [
           1
          ],
          [
           1
          ],
          [
           1
          ],
          [
           1
          ],
          [
           1
          ],
          [
           1
          ],
          [
           1
          ],
          [
           1
          ],
          [
           1
          ],
          [
           1
          ],
          [
           1
          ],
          [
           1
          ],
          [
           1
          ],
          [
           1
          ],
          [
           1
          ],
          [
           1
          ],
          [
           4
          ],
          [
           4
          ],
          [
           4
          ],
          [
           4
          ],
          [
           4
          ],
          [
           4
          ],
          [
           4
          ],
          [
           4
          ],
          [
           4
          ],
          [
           4
          ],
          [
           4
          ],
          [
           4
          ],
          [
           4
          ],
          [
           4
          ],
          [
           4
          ],
          [
           4
          ],
          [
           4
          ],
          [
           4
          ],
          [
           4
          ],
          [
           4
          ],
          [
           4
          ],
          [
           4
          ],
          [
           4
          ],
          [
           4
          ],
          [
           1
          ],
          [
           1
          ],
          [
           1
          ],
          [
           1
          ],
          [
           1
          ],
          [
           1
          ],
          [
           1
          ],
          [
           1
          ],
          [
           1
          ],
          [
           1
          ],
          [
           1
          ],
          [
           1
          ],
          [
           1
          ],
          [
           1
          ],
          [
           1
          ],
          [
           1
          ],
          [
           1
          ],
          [
           1
          ],
          [
           1
          ],
          [
           1
          ],
          [
           1
          ],
          [
           1
          ],
          [
           1
          ],
          [
           1
          ],
          [
           4
          ],
          [
           4
          ],
          [
           4
          ],
          [
           4
          ],
          [
           4
          ],
          [
           4
          ],
          [
           4
          ],
          [
           4
          ],
          [
           4
          ],
          [
           4
          ],
          [
           4
          ],
          [
           4
          ],
          [
           1
          ],
          [
           1
          ],
          [
           1
          ],
          [
           1
          ],
          [
           1
          ],
          [
           1
          ],
          [
           1
          ],
          [
           1
          ],
          [
           1
          ],
          [
           1
          ],
          [
           1
          ],
          [
           1
          ],
          [
           1
          ],
          [
           1
          ],
          [
           1
          ],
          [
           1
          ],
          [
           1
          ],
          [
           1
          ],
          [
           1
          ],
          [
           1
          ],
          [
           1
          ],
          [
           3
          ],
          [
           3
          ],
          [
           3
          ],
          [
           3
          ],
          [
           3
          ],
          [
           3
          ],
          [
           3
          ],
          [
           3
          ],
          [
           3
          ],
          [
           3
          ],
          [
           3
          ],
          [
           3
          ],
          [
           3
          ],
          [
           3
          ],
          [
           3
          ],
          [
           3
          ],
          [
           3
          ],
          [
           3
          ],
          [
           3
          ],
          [
           3
          ],
          [
           3
          ],
          [
           3
          ],
          [
           3
          ],
          [
           3
          ],
          [
           1
          ],
          [
           1
          ],
          [
           1
          ],
          [
           1
          ],
          [
           1
          ],
          [
           1
          ],
          [
           1
          ],
          [
           1
          ],
          [
           1
          ],
          [
           1
          ],
          [
           1
          ],
          [
           1
          ],
          [
           1
          ],
          [
           1
          ],
          [
           1
          ],
          [
           1
          ],
          [
           1
          ],
          [
           1
          ],
          [
           1
          ],
          [
           1
          ],
          [
           1
          ],
          [
           1
          ],
          [
           1
          ],
          [
           1
          ],
          [
           1
          ],
          [
           1
          ],
          [
           1
          ],
          [
           1
          ],
          [
           1
          ],
          [
           1
          ],
          [
           1
          ],
          [
           1
          ],
          [
           1
          ],
          [
           1
          ],
          [
           1
          ],
          [
           1
          ],
          [
           1
          ],
          [
           1
          ],
          [
           1
          ],
          [
           1
          ],
          [
           1
          ],
          [
           1
          ],
          [
           1
          ],
          [
           1
          ],
          [
           1
          ],
          [
           1
          ],
          [
           1
          ],
          [
           1
          ],
          [
           2
          ],
          [
           2
          ],
          [
           2
          ],
          [
           2
          ],
          [
           2
          ],
          [
           2
          ],
          [
           2
          ],
          [
           2
          ],
          [
           2
          ],
          [
           2
          ],
          [
           2
          ],
          [
           2
          ],
          [
           2
          ],
          [
           2
          ],
          [
           2
          ],
          [
           2
          ],
          [
           2
          ],
          [
           2
          ],
          [
           2
          ],
          [
           2
          ],
          [
           2
          ],
          [
           2
          ],
          [
           2
          ],
          [
           2
          ],
          [
           2
          ],
          [
           2
          ],
          [
           2
          ],
          [
           2
          ],
          [
           2
          ],
          [
           2
          ],
          [
           2
          ],
          [
           2
          ],
          [
           2
          ],
          [
           2
          ],
          [
           2
          ],
          [
           2
          ],
          [
           2
          ],
          [
           2
          ],
          [
           2
          ],
          [
           2
          ],
          [
           2
          ],
          [
           2
          ],
          [
           1
          ],
          [
           1
          ],
          [
           1
          ],
          [
           1
          ],
          [
           1
          ],
          [
           1
          ],
          [
           1
          ],
          [
           1
          ],
          [
           1
          ],
          [
           1
          ],
          [
           1
          ],
          [
           1
          ],
          [
           1
          ],
          [
           1
          ],
          [
           1
          ],
          [
           1
          ],
          [
           1
          ],
          [
           1
          ],
          [
           1
          ],
          [
           1
          ],
          [
           1
          ],
          [
           1
          ],
          [
           1
          ],
          [
           1
          ],
          [
           1
          ],
          [
           1
          ],
          [
           1
          ],
          [
           1
          ],
          [
           1
          ],
          [
           1
          ],
          [
           1
          ],
          [
           1
          ],
          [
           1
          ],
          [
           1
          ],
          [
           1
          ],
          [
           1
          ],
          [
           1
          ],
          [
           1
          ],
          [
           1
          ],
          [
           1
          ],
          [
           1
          ],
          [
           1
          ],
          [
           4
          ],
          [
           4
          ],
          [
           4
          ],
          [
           4
          ],
          [
           4
          ],
          [
           4
          ],
          [
           4
          ],
          [
           4
          ],
          [
           4
          ],
          [
           4
          ],
          [
           4
          ],
          [
           4
          ],
          [
           4
          ],
          [
           4
          ],
          [
           4
          ],
          [
           4
          ],
          [
           4
          ],
          [
           4
          ],
          [
           4
          ],
          [
           4
          ],
          [
           4
          ],
          [
           4
          ],
          [
           4
          ],
          [
           4
          ],
          [
           1
          ],
          [
           1
          ],
          [
           1
          ],
          [
           1
          ],
          [
           1
          ],
          [
           1
          ],
          [
           1
          ],
          [
           1
          ],
          [
           1
          ],
          [
           1
          ],
          [
           1
          ],
          [
           1
          ],
          [
           1
          ],
          [
           1
          ],
          [
           1
          ],
          [
           1
          ],
          [
           1
          ],
          [
           1
          ],
          [
           1
          ],
          [
           1
          ],
          [
           1
          ],
          [
           1
          ],
          [
           1
          ],
          [
           1
          ],
          [
           4
          ],
          [
           4
          ],
          [
           4
          ],
          [
           4
          ],
          [
           4
          ],
          [
           4
          ],
          [
           4
          ],
          [
           4
          ],
          [
           4
          ],
          [
           4
          ],
          [
           4
          ],
          [
           4
          ],
          [
           1
          ],
          [
           1
          ],
          [
           1
          ],
          [
           1
          ],
          [
           1
          ],
          [
           1
          ],
          [
           1
          ],
          [
           1
          ],
          [
           1
          ],
          [
           1
          ],
          [
           1
          ],
          [
           1
          ],
          [
           1
          ],
          [
           1
          ],
          [
           1
          ],
          [
           1
          ],
          [
           1
          ],
          [
           1
          ],
          [
           1
          ],
          [
           1
          ],
          [
           1
          ],
          [
           3
          ],
          [
           3
          ],
          [
           3
          ],
          [
           3
          ],
          [
           3
          ],
          [
           3
          ],
          [
           3
          ],
          [
           3
          ],
          [
           3
          ],
          [
           3
          ],
          [
           3
          ],
          [
           3
          ],
          [
           3
          ],
          [
           3
          ],
          [
           3
          ],
          [
           3
          ],
          [
           3
          ],
          [
           3
          ],
          [
           3
          ],
          [
           3
          ],
          [
           3
          ],
          [
           3
          ],
          [
           3
          ],
          [
           3
          ],
          [
           1
          ],
          [
           1
          ],
          [
           1
          ],
          [
           1
          ],
          [
           1
          ],
          [
           1
          ],
          [
           1
          ],
          [
           1
          ],
          [
           1
          ],
          [
           1
          ],
          [
           1
          ],
          [
           1
          ],
          [
           1
          ],
          [
           1
          ],
          [
           1
          ],
          [
           1
          ],
          [
           1
          ],
          [
           1
          ],
          [
           1
          ],
          [
           1
          ],
          [
           1
          ],
          [
           1
          ],
          [
           1
          ],
          [
           1
          ],
          [
           1
          ],
          [
           1
          ],
          [
           1
          ],
          [
           1
          ],
          [
           1
          ],
          [
           1
          ],
          [
           1
          ],
          [
           1
          ],
          [
           1
          ],
          [
           1
          ],
          [
           1
          ],
          [
           1
          ],
          [
           1
          ],
          [
           1
          ],
          [
           1
          ],
          [
           2
          ],
          [
           2
          ],
          [
           2
          ],
          [
           2
          ],
          [
           2
          ],
          [
           2
          ],
          [
           1
          ],
          [
           1
          ],
          [
           1
          ],
          [
           1
          ],
          [
           1
          ],
          [
           1
          ],
          [
           4
          ],
          [
           4
          ],
          [
           4
          ],
          [
           1
          ],
          [
           1
          ],
          [
           1
          ],
          [
           4
          ],
          [
           4
          ],
          [
           4
          ],
          [
           1
          ],
          [
           1
          ],
          [
           1
          ],
          [
           3
          ],
          [
           3
          ],
          [
           3
          ],
          [
           1
          ],
          [
           1
          ],
          [
           1
          ],
          [
           1
          ],
          [
           1
          ],
          [
           1
          ],
          [
           1
          ],
          [
           1
          ],
          [
           1
          ],
          [
           2
          ],
          [
           2
          ],
          [
           2
          ],
          [
           2
          ],
          [
           2
          ],
          [
           2
          ],
          [
           1
          ],
          [
           1
          ],
          [
           1
          ],
          [
           1
          ],
          [
           1
          ],
          [
           1
          ],
          [
           4
          ],
          [
           4
          ],
          [
           4
          ],
          [
           1
          ],
          [
           1
          ],
          [
           1
          ],
          [
           4
          ],
          [
           4
          ],
          [
           4
          ],
          [
           1
          ],
          [
           1
          ],
          [
           1
          ],
          [
           3
          ],
          [
           3
          ],
          [
           3
          ],
          [
           1
          ],
          [
           1
          ],
          [
           1
          ],
          [
           1
          ],
          [
           1
          ],
          [
           1
          ]
         ],
         "hovertemplate": "Pain_Cohort=0.0<br>x1=%{x}<br>x2=%{y}<br>Eaton_Litter=%{marker.color}<extra></extra>",
         "legendgroup": "0.0",
         "marker": {
          "color": [
           1,
           1,
           1,
           1,
           1,
           1,
           1,
           1,
           1,
           1,
           1,
           1,
           2,
           2,
           2,
           2,
           2,
           2,
           2,
           2,
           2,
           2,
           2,
           2,
           2,
           2,
           2,
           2,
           2,
           2,
           2,
           2,
           2,
           2,
           2,
           2,
           2,
           2,
           2,
           2,
           2,
           2,
           2,
           2,
           2,
           2,
           2,
           2,
           2,
           2,
           2,
           2,
           2,
           2,
           1,
           1,
           1,
           1,
           1,
           1,
           1,
           1,
           1,
           1,
           1,
           1,
           1,
           1,
           1,
           1,
           1,
           1,
           1,
           1,
           1,
           1,
           1,
           1,
           1,
           1,
           1,
           1,
           1,
           1,
           1,
           1,
           1,
           1,
           1,
           1,
           1,
           1,
           1,
           1,
           1,
           1,
           4,
           4,
           4,
           4,
           4,
           4,
           4,
           4,
           4,
           4,
           4,
           4,
           4,
           4,
           4,
           4,
           4,
           4,
           4,
           4,
           4,
           4,
           4,
           4,
           1,
           1,
           1,
           1,
           1,
           1,
           1,
           1,
           1,
           1,
           1,
           1,
           1,
           1,
           1,
           1,
           1,
           1,
           1,
           1,
           1,
           1,
           1,
           1,
           4,
           4,
           4,
           4,
           4,
           4,
           4,
           4,
           4,
           4,
           4,
           4,
           1,
           1,
           1,
           1,
           1,
           1,
           1,
           1,
           1,
           1,
           1,
           1,
           1,
           1,
           1,
           1,
           1,
           1,
           1,
           1,
           1,
           3,
           3,
           3,
           3,
           3,
           3,
           3,
           3,
           3,
           3,
           3,
           3,
           3,
           3,
           3,
           3,
           3,
           3,
           3,
           3,
           3,
           3,
           3,
           3,
           1,
           1,
           1,
           1,
           1,
           1,
           1,
           1,
           1,
           1,
           1,
           1,
           1,
           1,
           1,
           1,
           1,
           1,
           1,
           1,
           1,
           1,
           1,
           1,
           1,
           1,
           1,
           1,
           1,
           1,
           1,
           1,
           1,
           1,
           1,
           1,
           1,
           1,
           1,
           1,
           1,
           1,
           1,
           1,
           1,
           1,
           1,
           1,
           2,
           2,
           2,
           2,
           2,
           2,
           2,
           2,
           2,
           2,
           2,
           2,
           2,
           2,
           2,
           2,
           2,
           2,
           2,
           2,
           2,
           2,
           2,
           2,
           2,
           2,
           2,
           2,
           2,
           2,
           2,
           2,
           2,
           2,
           2,
           2,
           2,
           2,
           2,
           2,
           2,
           2,
           1,
           1,
           1,
           1,
           1,
           1,
           1,
           1,
           1,
           1,
           1,
           1,
           1,
           1,
           1,
           1,
           1,
           1,
           1,
           1,
           1,
           1,
           1,
           1,
           1,
           1,
           1,
           1,
           1,
           1,
           1,
           1,
           1,
           1,
           1,
           1,
           1,
           1,
           1,
           1,
           1,
           1,
           4,
           4,
           4,
           4,
           4,
           4,
           4,
           4,
           4,
           4,
           4,
           4,
           4,
           4,
           4,
           4,
           4,
           4,
           4,
           4,
           4,
           4,
           4,
           4,
           1,
           1,
           1,
           1,
           1,
           1,
           1,
           1,
           1,
           1,
           1,
           1,
           1,
           1,
           1,
           1,
           1,
           1,
           1,
           1,
           1,
           1,
           1,
           1,
           4,
           4,
           4,
           4,
           4,
           4,
           4,
           4,
           4,
           4,
           4,
           4,
           1,
           1,
           1,
           1,
           1,
           1,
           1,
           1,
           1,
           1,
           1,
           1,
           1,
           1,
           1,
           1,
           1,
           1,
           1,
           1,
           1,
           3,
           3,
           3,
           3,
           3,
           3,
           3,
           3,
           3,
           3,
           3,
           3,
           3,
           3,
           3,
           3,
           3,
           3,
           3,
           3,
           3,
           3,
           3,
           3,
           1,
           1,
           1,
           1,
           1,
           1,
           1,
           1,
           1,
           1,
           1,
           1,
           1,
           1,
           1,
           1,
           1,
           1,
           1,
           1,
           1,
           1,
           1,
           1,
           1,
           1,
           1,
           1,
           1,
           1,
           1,
           1,
           1,
           1,
           1,
           1,
           1,
           1,
           1,
           2,
           2,
           2,
           2,
           2,
           2,
           1,
           1,
           1,
           1,
           1,
           1,
           4,
           4,
           4,
           1,
           1,
           1,
           4,
           4,
           4,
           1,
           1,
           1,
           3,
           3,
           3,
           1,
           1,
           1,
           1,
           1,
           1,
           1,
           1,
           1,
           2,
           2,
           2,
           2,
           2,
           2,
           1,
           1,
           1,
           1,
           1,
           1,
           4,
           4,
           4,
           1,
           1,
           1,
           4,
           4,
           4,
           1,
           1,
           1,
           3,
           3,
           3,
           1,
           1,
           1,
           1,
           1,
           1
          ],
          "coloraxis": "coloraxis",
          "line": {
           "color": "DarkSlateGrey",
           "width": 2
          },
          "size": 12,
          "symbol": "diamond"
         },
         "mode": "markers",
         "name": "0.0",
         "orientation": "v",
         "showlegend": true,
         "type": "scatter",
         "x": [
          0.1406169831752777,
          0.9208469390869141,
          -0.7362039685249329,
          0.360317200422287,
          0.8959315419197083,
          1.809182047843933,
          0.1500631421804428,
          1.5328391790390015,
          1.148327350616455,
          1.0805542469024658,
          1.3717660903930664,
          0.7741817235946655,
          3.2071354389190674,
          2.9844272136688232,
          2.0785117149353027,
          2.3249852657318115,
          3.6189210414886475,
          3.769973039627075,
          3.277390718460083,
          3.3468706607818604,
          4.430456161499023,
          1.838557481765747,
          3.884345769882202,
          3.997173309326172,
          1.9651603698730469,
          1.8560278415679932,
          2.8764455318450928,
          1.5388672351837158,
          2.843374252319336,
          2.5513806343078613,
          -3.50215744972229,
          -3.8152048587799072,
          -3.2169487476348877,
          -3.388148069381714,
          -3.3666679859161377,
          -3.0946927070617676,
          -3.4232282638549805,
          -3.4706976413726807,
          7.073854446411133,
          6.913879871368408,
          5.758448600769043,
          5.754140377044678,
          7.486112594604492,
          7.780474662780762,
          6.303149223327637,
          8.55644702911377,
          8.89658260345459,
          8.375016212463379,
          6.788537502288818,
          9.562736511230469,
          8.51705551147461,
          8.710330963134766,
          4.290918350219727,
          9.835331916809082,
          4.752481460571289,
          4.171143054962158,
          4.177123069763184,
          4.174310684204102,
          4.837451934814453,
          1.509917974472046,
          5.69130277633667,
          5.649014949798584,
          5.482398509979248,
          5.415473461151123,
          5.299163818359375,
          4.887924671173096,
          6.816080570220947,
          7.005361080169678,
          6.690291881561279,
          6.466466903686523,
          7.285968780517578,
          6.416085243225098,
          -0.6894777417182922,
          -0.8287909626960754,
          -0.6817309260368347,
          -1.925167202949524,
          -0.7511763572692871,
          -0.6056634783744812,
          -1.4627131223678589,
          -0.39097675681114197,
          1.9100549221038818,
          1.274153709411621,
          2.845411539077759,
          2.0876903533935547,
          1.9179093837738037,
          2.423173427581787,
          0.7349719405174255,
          2.2495949268341064,
          3.4703876972198486,
          2.6441221237182617,
          4.364871978759766,
          3.4661266803741455,
          3.350813627243042,
          3.945939302444458,
          0.49948832392692566,
          3.542071580886841,
          0.9524863362312317,
          1.3671634197235107,
          0.7920421957969666,
          1.4577391147613525,
          1.5823183059692383,
          1.5707534551620483,
          -0.17365649342536926,
          1.7154426574707031,
          6.389181613922119,
          6.450345516204834,
          5.305147171020508,
          6.845829963684082,
          6.591968536376953,
          7.14527702331543,
          4.069093704223633,
          7.525335788726807,
          10.559442520141602,
          10.498884201049805,
          10.899106979370117,
          10.654187202453613,
          10.093131065368652,
          10.66086483001709,
          9.07917308807373,
          11.314567565917969,
          10.984162330627441,
          10.683561325073242,
          10.832535743713379,
          11.120240211486816,
          10.522250175476074,
          11.298629760742188,
          7.760089874267578,
          11.371760368347168,
          6.55708122253418,
          6.739947319030762,
          5.465600967407227,
          5.336733818054199,
          6.392733097076416,
          6.31348180770874,
          6.834348678588867,
          7.058233737945557,
          3.9137864112854004,
          4.229886054992676,
          2.7326700687408447,
          3.301623582839966,
          3.807025194168091,
          4.40379524230957,
          3.5763323307037354,
          4.232254981994629,
          -1.6107423305511475,
          -1.5415501594543457,
          -1.4086167812347412,
          -1.517354965209961,
          -0.16902123391628265,
          -0.4136565625667572,
          -0.6892175078392029,
          0.0716344490647316,
          -1.5514028072357178,
          -1.5680768489837646,
          -1.5246217250823975,
          -1.3461990356445312,
          3.734243631362915,
          2.460927963256836,
          2.0688180923461914,
          2.895596742630005,
          3.4298133850097656,
          1.3170599937438965,
          3.7318360805511475,
          5.686111927032471,
          4.521548271179199,
          3.547938585281372,
          3.062854051589966,
          5.257702827453613,
          3.604236364364624,
          5.662900924682617,
          5.107580661773682,
          3.6109981536865234,
          4.017309188842773,
          5.315202236175537,
          5.120794296264648,
          2.4307262897491455,
          4.731558799743652,
          7.948676109313965,
          8.22858715057373,
          7.383270263671875,
          6.354719161987305,
          7.546876907348633,
          7.563398361206055,
          7.844659805297852,
          9.214278221130371,
          8.286303520202637,
          8.472753524780273,
          7.3868913650512695,
          7.298933029174805,
          8.076064109802246,
          8.439177513122559,
          6.9911723136901855,
          9.03398323059082,
          8.254326820373535,
          8.617037773132324,
          8.310914039611816,
          7.948799133300781,
          7.999665260314941,
          8.41944408416748,
          7.902654647827148,
          9.485514640808105,
          -1.9300158023834229,
          -2.1404123306274414,
          -1.7509129047393799,
          -1.7768372297286987,
          -1.7072800397872925,
          2.1632080078125,
          1.7881346940994263,
          1.5485303401947021,
          2.006434440612793,
          2.9666264057159424,
          -2.8503997325897217,
          -3.1135241985321045,
          -2.8334686756134033,
          -2.691477060317993,
          -2.726024627685547,
          -3.4143319129943848,
          -3.4801993370056152,
          -3.474006414413452,
          -3.251681089401245,
          -3.1131880283355713,
          -2.9157471656799316,
          -3.2246100902557373,
          1.9534398317337036,
          1.9507520198822021,
          0.8963211178779602,
          1.0280028581619263,
          2.405125379562378,
          2.4393293857574463,
          2.850663423538208,
          1.3185091018676758,
          1.4198435544967651,
          0.520821750164032,
          0.7111977934837341,
          1.1887774467468262,
          1.5049303770065308,
          1.9839783906936646,
          0.1406169831752777,
          0.9208469390869141,
          -0.7362039685249329,
          0.360317200422287,
          0.8959315419197083,
          1.809182047843933,
          0.1500631421804428,
          1.5328391790390015,
          1.148327350616455,
          1.0805542469024658,
          1.3717660903930664,
          0.7741817235946655,
          3.2071354389190674,
          2.9844272136688232,
          2.0785117149353027,
          2.3249852657318115,
          3.6189210414886475,
          3.769973039627075,
          3.277390718460083,
          3.3468706607818604,
          4.430456161499023,
          1.838557481765747,
          3.884345769882202,
          3.997173309326172,
          1.9651603698730469,
          1.8560278415679932,
          2.8764455318450928,
          1.5388672351837158,
          2.843374252319336,
          2.5513806343078613,
          -3.50215744972229,
          -3.8152048587799072,
          -3.2169487476348877,
          -3.388148069381714,
          -3.3666679859161377,
          -3.0946927070617676,
          -3.4232282638549805,
          -3.4706976413726807,
          7.073854446411133,
          6.913879871368408,
          5.758448600769043,
          5.754140377044678,
          7.486112594604492,
          7.780474662780762,
          6.303149223327637,
          8.55644702911377,
          8.89658260345459,
          8.375016212463379,
          6.788537502288818,
          9.562736511230469,
          8.51705551147461,
          8.710330963134766,
          4.290918350219727,
          9.835331916809082,
          4.752481460571289,
          4.171143054962158,
          4.177123069763184,
          4.174310684204102,
          4.837451934814453,
          1.509917974472046,
          5.69130277633667,
          5.649014949798584,
          5.482398509979248,
          5.415473461151123,
          5.299163818359375,
          4.887924671173096,
          6.816080570220947,
          7.005359172821045,
          6.690291404724121,
          6.466466426849365,
          7.285968780517578,
          6.416085243225098,
          -0.6894777417182922,
          -0.8287909626960754,
          -0.6817309260368347,
          -1.925167202949524,
          -0.7511763572692871,
          -0.6056634783744812,
          -1.4627131223678589,
          -0.39097675681114197,
          1.9100549221038818,
          1.274153709411621,
          2.845411539077759,
          2.0876903533935547,
          1.9179093837738037,
          2.423173427581787,
          0.7349719405174255,
          2.2495949268341064,
          3.4703876972198486,
          2.6441221237182617,
          4.364871978759766,
          3.4661266803741455,
          3.350813627243042,
          3.945939302444458,
          0.49948832392692566,
          3.542071580886841,
          0.9524863362312317,
          1.3671634197235107,
          0.7920421957969666,
          1.4577391147613525,
          1.5823183059692383,
          1.5707534551620483,
          -0.17365649342536926,
          1.7154426574707031,
          6.389181613922119,
          6.450345516204834,
          5.305147171020508,
          6.845829963684082,
          6.591968536376953,
          7.14527702331543,
          4.069093704223633,
          7.525335788726807,
          10.559442520141602,
          10.498884201049805,
          10.899106979370117,
          10.654187202453613,
          10.093131065368652,
          10.66086483001709,
          9.07917308807373,
          11.314567565917969,
          10.984162330627441,
          10.683561325073242,
          10.832535743713379,
          11.120240211486816,
          10.522250175476074,
          11.298629760742188,
          7.760089874267578,
          11.371760368347168,
          6.55708122253418,
          6.739947319030762,
          5.465600967407227,
          5.336733818054199,
          6.392733097076416,
          6.31348180770874,
          6.834348678588867,
          7.058233737945557,
          3.9137864112854004,
          4.229886054992676,
          2.7326700687408447,
          3.301623582839966,
          3.807025194168091,
          4.40379524230957,
          3.5763323307037354,
          4.232254981994629,
          -1.610741376876831,
          -1.541548728942871,
          -1.408616304397583,
          -1.517354965209961,
          -0.16902123391628265,
          -0.4136565625667572,
          -0.6892175078392029,
          0.0716344490647316,
          -1.5514028072357178,
          -1.5680768489837646,
          -1.5246217250823975,
          -1.3461990356445312,
          3.734243631362915,
          2.460927963256836,
          2.0688180923461914,
          2.895596742630005,
          3.4298133850097656,
          1.3170599937438965,
          3.7318360805511475,
          5.686111927032471,
          4.521548271179199,
          3.547938585281372,
          3.062854051589966,
          5.257702827453613,
          3.604236364364624,
          5.662900924682617,
          5.107580661773682,
          3.6109981536865234,
          4.017309188842773,
          5.315202236175537,
          5.120794296264648,
          2.4307262897491455,
          4.731558799743652,
          7.948676109313965,
          8.228589057922363,
          7.383274078369141,
          6.354719161987305,
          7.546876907348633,
          7.563398361206055,
          7.844659805297852,
          9.214278221130371,
          8.286303520202637,
          8.472753524780273,
          7.3868913650512695,
          7.298933029174805,
          8.076064109802246,
          8.439177513122559,
          6.9911723136901855,
          9.03398323059082,
          8.254326820373535,
          8.617037773132324,
          8.310914039611816,
          7.948799133300781,
          7.999665260314941,
          8.41944408416748,
          7.902654647827148,
          9.485514640808105,
          -1.9300158023834229,
          -2.1404123306274414,
          -1.7509129047393799,
          -1.7768372297286987,
          -1.7072800397872925,
          2.1632080078125,
          1.7881346940994263,
          1.5485303401947021,
          2.006434440612793,
          2.9666264057159424,
          -2.8503997325897217,
          -3.1135241985321045,
          -2.8334686756134033,
          -2.691477060317993,
          -2.726024627685547,
          -3.4143319129943848,
          -3.4801993370056152,
          -3.474006414413452,
          -3.251681089401245,
          -3.1131880283355713,
          -2.9157471656799316,
          -3.2246100902557373,
          1.9534398317337036,
          1.9507520198822021,
          0.8963211178779602,
          1.0280028581619263,
          2.405125379562378,
          2.4393293857574463,
          2.850663423538208,
          1.3185091018676758,
          1.4198435544967651,
          0.520821750164032,
          0.7111977934837341,
          1.1887774467468262,
          1.5049303770065308,
          1.9839783906936646,
          0.9934332370758057,
          2.0521833896636963,
          2.2551357746124268,
          3.8870174884796143,
          4.6197123527526855,
          3.260159730911255,
          -3.472632646560669,
          8.559027671813965,
          9.841933250427246,
          5.093740463256836,
          6.305203437805176,
          7.881235122680664,
          -0.28476396203041077,
          2.867300033569336,
          4.399855613708496,
          1.7797582149505615,
          7.575749397277832,
          11.981647491455078,
          12.4699125289917,
          7.588135242462158,
          4.585089206695557,
          -0.6363171935081482,
          0.6778958439826965,
          -0.5476958155632019,
          3.9164364337921143,
          5.913896560668945,
          5.5897746086120605,
          9.318188667297363,
          9.553471565246582,
          9.518757820129395,
          -1.4320623874664307,
          3.230952501296997,
          -2.8548762798309326,
          -3.2254750728607178,
          2.900508165359497,
          2.065814256668091,
          137.04481506347656,
          152.8566131591797,
          135.16310119628906,
          133.5800018310547,
          149.28553771972656,
          134.869873046875,
          52.56424331665039,
          115.51055908203125,
          122.34455871582031,
          103.68528747558594,
          133.9401092529297,
          150.1631317138672,
          26.90873146057129,
          39.82837677001953,
          41.96922302246094,
          83.15499877929688,
          135.97434997558594,
          168.42410278320312,
          158.1446990966797,
          140.1095733642578,
          142.31234741210938,
          60.459590911865234,
          56.842525482177734,
          56.66781234741211,
          77.32551574707031,
          100.00662231445312,
          90.9281234741211,
          110.28502655029297,
          112.55768585205078,
          122.80148315429688,
          47.80930709838867,
          108.27226257324219,
          22.56022834777832,
          29.364744186401367,
          63.70321273803711,
          63.76259994506836
         ],
         "xaxis": "x",
         "y": [
          3.219949722290039,
          4.052627086639404,
          3.161121368408203,
          3.704761505126953,
          3.1149790287017822,
          4.3697686195373535,
          3.806396007537842,
          4.292003631591797,
          3.765244483947754,
          4.286709308624268,
          4.939611911773682,
          4.193988800048828,
          8.618059158325195,
          8.674946784973145,
          8.574300765991211,
          8.447539329528809,
          8.185402870178223,
          8.245464324951172,
          7.3807196617126465,
          8.214180946350098,
          9.081405639648438,
          7.645682334899902,
          7.681651592254639,
          7.5317888259887695,
          6.432441234588623,
          6.7847514152526855,
          7.696977138519287,
          6.922153949737549,
          7.110332489013672,
          6.616959571838379,
          4.486778736114502,
          4.664425849914551,
          4.818064212799072,
          4.948854923248291,
          4.78555154800415,
          4.48262882232666,
          4.98837423324585,
          5.1762847900390625,
          10.955561637878418,
          11.410294532775879,
          11.245589256286621,
          11.311579704284668,
          11.364847183227539,
          11.346855163574219,
          11.976487159729004,
          13.003766059875488,
          12.652619361877441,
          12.740541458129883,
          12.542683601379395,
          14.07794189453125,
          11.980635643005371,
          11.977923393249512,
          11.800613403320312,
          14.2374849319458,
          6.578494071960449,
          6.030633449554443,
          6.0290446281433105,
          6.01338529586792,
          6.548572063446045,
          4.808722972869873,
          8.224465370178223,
          7.89220666885376,
          7.940968036651611,
          7.827479839324951,
          7.523986339569092,
          7.243881702423096,
          9.366144180297852,
          9.234915733337402,
          9.109112739562988,
          8.765718460083008,
          9.82509708404541,
          8.665279388427734,
          7.716822147369385,
          7.85321569442749,
          7.917062282562256,
          7.09152889251709,
          6.9342570304870605,
          7.1806511878967285,
          7.656256675720215,
          7.6464385986328125,
          9.722956657409668,
          9.468318939208984,
          11.048940658569336,
          10.392851829528809,
          9.037492752075195,
          9.938429832458496,
          9.788671493530273,
          9.46823501586914,
          10.73911190032959,
          10.443209648132324,
          11.99293041229248,
          11.362504005432129,
          10.047564506530762,
          10.854290962219238,
          9.747469902038574,
          10.112833023071289,
          6.321675777435303,
          7.262753009796143,
          6.840861797332764,
          7.407989025115967,
          7.029585361480713,
          6.9160075187683105,
          6.665804862976074,
          7.114686012268066,
          10.262774467468262,
          10.76373291015625,
          10.578335762023926,
          11.193713188171387,
          9.832493782043457,
          10.330266952514648,
          10.234522819519043,
          11.119626998901367,
          14.772757530212402,
          15.017955780029297,
          15.13885498046875,
          14.768924713134766,
          13.986627578735352,
          14.651150703430176,
          13.947420120239258,
          15.54061508178711,
          16.30986976623535,
          16.290632247924805,
          16.86041259765625,
          16.534156799316406,
          15.477063179016113,
          16.001373291015625,
          15.5767183303833,
          15.86766242980957,
          11.518552780151367,
          11.989487648010254,
          11.326218605041504,
          10.975090980529785,
          11.223418235778809,
          10.52557373046875,
          12.36768627166748,
          11.54826545715332,
          9.443007469177246,
          10.319948196411133,
          9.407753944396973,
          9.764981269836426,
          8.572160720825195,
          8.515504837036133,
          10.188841819763184,
          9.884857177734375,
          5.303650379180908,
          6.095732688903809,
          6.003342151641846,
          5.003768444061279,
          5.878024101257324,
          6.532756328582764,
          6.267502307891846,
          6.076957702636719,
          5.239099025726318,
          5.874048233032227,
          5.794900894165039,
          5.1800856590271,
          10.034388542175293,
          9.092615127563477,
          9.092289924621582,
          9.44296932220459,
          9.281118392944336,
          8.930070877075195,
          8.781044960021973,
          10.842618942260742,
          10.103758811950684,
          9.800004005432129,
          9.684616088867188,
          9.187905311584473,
          10.375349998474121,
          9.381966590881348,
          8.615036964416504,
          7.336537837982178,
          8.08580493927002,
          8.805475234985352,
          8.279961585998535,
          7.937448024749756,
          7.308858871459961,
          12.271254539489746,
          12.96460247039795,
          12.549992561340332,
          12.404385566711426,
          11.5786714553833,
          11.817267417907715,
          13.307184219360352,
          13.704495429992676,
          12.611353874206543,
          13.094079971313477,
          12.50148868560791,
          12.838615417480469,
          12.43356990814209,
          12.381158828735352,
          12.941434860229492,
          13.269782066345215,
          12.314577102661133,
          12.944048881530762,
          12.498428344726562,
          12.22742748260498,
          11.810904502868652,
          11.992938041687012,
          12.498350143432617,
          13.895003318786621,
          3.9564175605773926,
          4.568796634674072,
          4.765143871307373,
          4.738263130187988,
          4.3600969314575195,
          8.299565315246582,
          8.665066719055176,
          8.942463874816895,
          9.366140365600586,
          8.103296279907227,
          3.90282940864563,
          4.265605449676514,
          4.486693859100342,
          4.3096466064453125,
          4.221651554107666,
          5.1015729904174805,
          5.446585655212402,
          5.163513660430908,
          5.059967994689941,
          5.191580772399902,
          5.175602912902832,
          5.80159330368042,
          10.690896987915039,
          11.236428260803223,
          10.497227668762207,
          10.762518882751465,
          10.569090843200684,
          10.582273483276367,
          11.276335716247559,
          10.190181732177734,
          10.70149040222168,
          9.958834648132324,
          10.132969856262207,
          9.343900680541992,
          9.643046379089355,
          10.284358978271484,
          3.219949722290039,
          4.052627086639404,
          3.161121368408203,
          3.704761505126953,
          3.1149790287017822,
          4.3697686195373535,
          3.806396007537842,
          4.292003631591797,
          3.765244483947754,
          4.286709308624268,
          4.939611911773682,
          4.193988800048828,
          8.618059158325195,
          8.674946784973145,
          8.574300765991211,
          8.447539329528809,
          8.185402870178223,
          8.245464324951172,
          7.3807196617126465,
          8.214180946350098,
          9.081405639648438,
          7.645682334899902,
          7.681651592254639,
          7.5317888259887695,
          6.432441234588623,
          6.7847514152526855,
          7.696977138519287,
          6.922153949737549,
          7.110332489013672,
          6.616959571838379,
          4.486778736114502,
          4.664425849914551,
          4.818064212799072,
          4.948854923248291,
          4.78555154800415,
          4.48262882232666,
          4.98837423324585,
          5.1762847900390625,
          10.955561637878418,
          11.410294532775879,
          11.245589256286621,
          11.311579704284668,
          11.364847183227539,
          11.346855163574219,
          11.976487159729004,
          13.003766059875488,
          12.652619361877441,
          12.740541458129883,
          12.542683601379395,
          14.07794189453125,
          11.980635643005371,
          11.977923393249512,
          11.800613403320312,
          14.2374849319458,
          6.578494071960449,
          6.030633449554443,
          6.0290446281433105,
          6.01338529586792,
          6.548572063446045,
          4.808722972869873,
          8.224465370178223,
          7.89220666885376,
          7.940968036651611,
          7.827479839324951,
          7.523986339569092,
          7.243881702423096,
          9.366144180297852,
          9.23491382598877,
          9.109110832214355,
          8.765719413757324,
          9.82509708404541,
          8.665279388427734,
          7.716822147369385,
          7.85321569442749,
          7.917062282562256,
          7.09152889251709,
          6.9342570304870605,
          7.1806511878967285,
          7.656256675720215,
          7.6464385986328125,
          9.722956657409668,
          9.468318939208984,
          11.048940658569336,
          10.392851829528809,
          9.037492752075195,
          9.938429832458496,
          9.788671493530273,
          9.46823501586914,
          10.73911190032959,
          10.443209648132324,
          11.99293041229248,
          11.362504005432129,
          10.047564506530762,
          10.854290962219238,
          9.747469902038574,
          10.112833023071289,
          6.321675777435303,
          7.262753009796143,
          6.840861797332764,
          7.407989025115967,
          7.029585361480713,
          6.9160075187683105,
          6.665804862976074,
          7.114686012268066,
          10.262774467468262,
          10.76373291015625,
          10.578335762023926,
          11.193713188171387,
          9.832493782043457,
          10.330266952514648,
          10.234522819519043,
          11.119626998901367,
          14.772757530212402,
          15.017955780029297,
          15.13885498046875,
          14.768924713134766,
          13.986627578735352,
          14.651150703430176,
          13.947420120239258,
          15.54061508178711,
          16.30986976623535,
          16.290632247924805,
          16.86041259765625,
          16.534156799316406,
          15.477063179016113,
          16.001373291015625,
          15.5767183303833,
          15.86766242980957,
          11.518552780151367,
          11.989487648010254,
          11.326218605041504,
          10.975090980529785,
          11.223418235778809,
          10.52557373046875,
          12.36768627166748,
          11.54826545715332,
          9.443007469177246,
          10.319948196411133,
          9.407753944396973,
          9.764981269836426,
          8.572160720825195,
          8.515504837036133,
          10.188841819763184,
          9.884857177734375,
          5.303652286529541,
          6.095733642578125,
          6.003342151641846,
          5.003768444061279,
          5.878024101257324,
          6.532756328582764,
          6.267502307891846,
          6.076957702636719,
          5.239099025726318,
          5.874048233032227,
          5.794900894165039,
          5.1800856590271,
          10.034388542175293,
          9.092615127563477,
          9.092289924621582,
          9.44296932220459,
          9.281118392944336,
          8.930070877075195,
          8.781044960021973,
          10.842618942260742,
          10.103758811950684,
          9.800004005432129,
          9.684616088867188,
          9.187905311584473,
          10.375349998474121,
          9.381966590881348,
          8.615036964416504,
          7.336537837982178,
          8.08580493927002,
          8.805475234985352,
          8.279961585998535,
          7.937448024749756,
          7.308858871459961,
          12.271255493164062,
          12.964604377746582,
          12.549992561340332,
          12.404385566711426,
          11.5786714553833,
          11.817267417907715,
          13.307184219360352,
          13.704495429992676,
          12.611353874206543,
          13.094079971313477,
          12.50148868560791,
          12.838615417480469,
          12.43356990814209,
          12.381158828735352,
          12.941434860229492,
          13.269782066345215,
          12.314577102661133,
          12.944048881530762,
          12.498428344726562,
          12.22742748260498,
          11.810904502868652,
          11.992938041687012,
          12.498350143432617,
          13.895003318786621,
          3.9564175605773926,
          4.568796634674072,
          4.765143871307373,
          4.738263130187988,
          4.3600969314575195,
          8.299565315246582,
          8.665066719055176,
          8.942463874816895,
          9.366140365600586,
          8.103296279907227,
          3.90282940864563,
          4.265605449676514,
          4.486693859100342,
          4.3096466064453125,
          4.221651554107666,
          5.1015729904174805,
          5.446585655212402,
          5.163513660430908,
          5.059967994689941,
          5.191580772399902,
          5.175602912902832,
          5.80159330368042,
          10.690896987915039,
          11.236428260803223,
          10.497227668762207,
          10.762518882751465,
          10.569090843200684,
          10.582273483276367,
          11.276335716247559,
          10.190181732177734,
          10.70149040222168,
          9.958834648132324,
          10.132969856262207,
          9.343900680541992,
          9.643046379089355,
          10.284358978271484,
          4.128101348876953,
          4.644684314727783,
          5.358231544494629,
          9.697789192199707,
          9.205272674560547,
          7.9509758949279785,
          5.181453227996826,
          13.008358001708984,
          14.244017601013184,
          6.982484817504883,
          9.075039863586426,
          10.683625221252441,
          8.310233116149902,
          11.069318771362305,
          12.017987251281738,
          7.68623685836792,
          11.783284187316895,
          16.63460922241211,
          18.207670211791992,
          12.811335563659668,
          10.59854793548584,
          6.7525954246521,
          7.6973419189453125,
          6.635245323181152,
          10.434346199035645,
          11.188799858093262,
          9.206697463989258,
          14.107037544250488,
          14.287506103515625,
          13.956268310546875,
          5.110883712768555,
          10.192863464355469,
          4.713749885559082,
          5.804450511932373,
          12.252330780029297,
          11.349114418029785,
          -117.7555923461914,
          -131.2948760986328,
          -116.53178405761719,
          -113.34748840332031,
          -126.86181640625,
          -114.47798156738281,
          -45.34897232055664,
          -97.556640625,
          -103.03395080566406,
          -89.25308990478516,
          -115.09212493896484,
          -128.99896240234375,
          -22.79308319091797,
          -33.7275390625,
          -35.52779006958008,
          -70.56868743896484,
          -115.64794921875,
          -142.59339904785156,
          -134.1800537109375,
          -118.13280487060547,
          -120.10011291503906,
          -50.67780303955078,
          -47.69479751586914,
          -47.5028190612793,
          -65.0306396484375,
          -83.86222839355469,
          -78.07759857177734,
          -92.6235580444336,
          -94.42202758789062,
          -102.99757385253906,
          -40.340187072753906,
          -90.89591979980469,
          -19.053239822387695,
          -24.777143478393555,
          -53.430335998535156,
          -53.498046875
         ],
         "yaxis": "y"
        },
        {
         "marker": {
          "color": [
           1,
           1,
           1,
           1,
           1,
           1,
           1,
           1,
           1,
           0,
           0,
           0,
           1,
           1,
           1,
           1,
           1,
           1,
           0,
           0,
           0,
           0,
           0,
           0,
           0,
           0,
           0,
           0,
           0,
           0,
           0,
           0,
           0,
           1,
           1,
           1,
           1,
           1,
           1,
           0,
           0,
           0,
           0,
           0,
           0,
           0,
           0,
           0,
           1,
           1,
           1,
           0,
           0,
           0,
           0,
           0,
           0,
           0,
           0,
           0
          ],
          "line": {
           "color": "Red",
           "width": 2
          },
          "size": 12
         },
         "mode": "markers",
         "name": "X_prime_hat",
         "type": "scatter",
         "x": [
          0.20885662734508514,
          0.2525842785835266,
          0.2473915070295334,
          0.3258281350135803,
          0.31286078691482544,
          0.3954682946205139,
          0.09420005977153778,
          0.10221032798290253,
          0.10775880515575409,
          0.33607298135757446,
          0.37466150522232056,
          0.3304453492164612,
          0.38685137033462524,
          0.3154497742652893,
          0.32050520181655884,
          0.07214723527431488,
          0.08457688987255096,
          0.10576705634593964,
          0.3314676880836487,
          0.3696208596229553,
          0.33454567193984985,
          0.13007740676403046,
          0.28821998834609985,
          0.3058987259864807,
          0.2544921040534973,
          0.3285093903541565,
          0.3680611252784729,
          0.06897465884685516,
          0.10090212523937225,
          0.10622505843639374,
          0.2073395699262619,
          0.3366428017616272,
          0.4180822968482971,
          0.1787910908460617,
          0.19149450957775116,
          0.2188890427350998,
          0.046212777495384216,
          0.055907949805259705,
          0.09031955897808075,
          0.3919573426246643,
          0.3495555520057678,
          0.35471540689468384,
          0.15317265689373016,
          0.1440397948026657,
          0.1437268704175949,
          0.19457273185253143,
          0.2515018582344055,
          0.2240303009748459,
          0.12221209704875946,
          0.15406350791454315,
          0.1450825184583664,
          0.2766926884651184,
          0.28263264894485474,
          0.3081565499305725,
          0.12097780406475067,
          0.2717910408973694,
          0.05840568244457245,
          0.07536517083644867,
          0.16115526854991913,
          0.16125480830669403
         ],
         "y": [
          0.16853095591068268,
          0.21304799616336823,
          0.20784308016300201,
          0.29345980286598206,
          0.281151682138443,
          0.36656394600868225,
          0.049587685614824295,
          0.057710904628038406,
          0.06324972957372665,
          0.30459824204444885,
          0.3450348675251007,
          0.2993907034397125,
          0.3520001471042633,
          0.2792283594608307,
          0.28386548161506653,
          0.027221908792853355,
          0.04050176218152046,
          0.06226666644215584,
          0.2972058355808258,
          0.3373023569583893,
          0.3004768192768097,
          0.08862193673849106,
          0.2513197958469391,
          0.2691766321659088,
          0.21922339498996735,
          0.2966635525226593,
          0.3381367027759552,
          0.023570409044623375,
          0.05677684023976326,
          0.06229241564869881,
          0.16784562170505524,
          0.3030734360218048,
          0.3869146406650543,
          0.13743020594120026,
          0.14997144043445587,
          0.178710475564003,
          -0.0036326744593679905,
          0.0065046451054513454,
          0.04488982632756233,
          0.36023035645484924,
          0.31472304463386536,
          0.3202742636203766,
          0.11027088016271591,
          0.10090448707342148,
          0.10050132125616074,
          0.15349389612674713,
          0.2120971828699112,
          0.18685676157474518,
          0.07964416593313217,
          0.11205001920461655,
          0.10241272300481796,
          0.23842193186283112,
          0.24438394606113434,
          0.2707827389240265,
          0.0774167999625206,
          0.23328019678592682,
          0.01213671825826168,
          0.030026396736502647,
          0.1185920462012291,
          0.11872639507055283
         ]
        }
       ],
       "layout": {
        "autosize": false,
        "coloraxis": {
         "colorbar": {
          "title": {
           "text": "Eaton_Litter"
          }
         },
         "colorscale": [
          [
           0,
           "#0d0887"
          ],
          [
           0.1111111111111111,
           "#46039f"
          ],
          [
           0.2222222222222222,
           "#7201a8"
          ],
          [
           0.3333333333333333,
           "#9c179e"
          ],
          [
           0.4444444444444444,
           "#bd3786"
          ],
          [
           0.5555555555555556,
           "#d8576b"
          ],
          [
           0.6666666666666666,
           "#ed7953"
          ],
          [
           0.7777777777777778,
           "#fb9f3a"
          ],
          [
           0.8888888888888888,
           "#fdca26"
          ],
          [
           1,
           "#f0f921"
          ]
         ]
        },
        "height": 800,
        "legend": {
         "title": {
          "text": "Pain_Cohort"
         },
         "tracegroupgap": 0
        },
        "margin": {
         "b": 100,
         "l": 50,
         "pad": 4,
         "r": 50,
         "t": 100
        },
        "paper_bgcolor": "LightSteelBlue",
        "template": {
         "data": {
          "bar": [
           {
            "error_x": {
             "color": "#2a3f5f"
            },
            "error_y": {
             "color": "#2a3f5f"
            },
            "marker": {
             "line": {
              "color": "#E5ECF6",
              "width": 0.5
             },
             "pattern": {
              "fillmode": "overlay",
              "size": 10,
              "solidity": 0.2
             }
            },
            "type": "bar"
           }
          ],
          "barpolar": [
           {
            "marker": {
             "line": {
              "color": "#E5ECF6",
              "width": 0.5
             },
             "pattern": {
              "fillmode": "overlay",
              "size": 10,
              "solidity": 0.2
             }
            },
            "type": "barpolar"
           }
          ],
          "carpet": [
           {
            "aaxis": {
             "endlinecolor": "#2a3f5f",
             "gridcolor": "white",
             "linecolor": "white",
             "minorgridcolor": "white",
             "startlinecolor": "#2a3f5f"
            },
            "baxis": {
             "endlinecolor": "#2a3f5f",
             "gridcolor": "white",
             "linecolor": "white",
             "minorgridcolor": "white",
             "startlinecolor": "#2a3f5f"
            },
            "type": "carpet"
           }
          ],
          "choropleth": [
           {
            "colorbar": {
             "outlinewidth": 0,
             "ticks": ""
            },
            "type": "choropleth"
           }
          ],
          "contour": [
           {
            "colorbar": {
             "outlinewidth": 0,
             "ticks": ""
            },
            "colorscale": [
             [
              0,
              "#0d0887"
             ],
             [
              0.1111111111111111,
              "#46039f"
             ],
             [
              0.2222222222222222,
              "#7201a8"
             ],
             [
              0.3333333333333333,
              "#9c179e"
             ],
             [
              0.4444444444444444,
              "#bd3786"
             ],
             [
              0.5555555555555556,
              "#d8576b"
             ],
             [
              0.6666666666666666,
              "#ed7953"
             ],
             [
              0.7777777777777778,
              "#fb9f3a"
             ],
             [
              0.8888888888888888,
              "#fdca26"
             ],
             [
              1,
              "#f0f921"
             ]
            ],
            "type": "contour"
           }
          ],
          "contourcarpet": [
           {
            "colorbar": {
             "outlinewidth": 0,
             "ticks": ""
            },
            "type": "contourcarpet"
           }
          ],
          "heatmap": [
           {
            "colorbar": {
             "outlinewidth": 0,
             "ticks": ""
            },
            "colorscale": [
             [
              0,
              "#0d0887"
             ],
             [
              0.1111111111111111,
              "#46039f"
             ],
             [
              0.2222222222222222,
              "#7201a8"
             ],
             [
              0.3333333333333333,
              "#9c179e"
             ],
             [
              0.4444444444444444,
              "#bd3786"
             ],
             [
              0.5555555555555556,
              "#d8576b"
             ],
             [
              0.6666666666666666,
              "#ed7953"
             ],
             [
              0.7777777777777778,
              "#fb9f3a"
             ],
             [
              0.8888888888888888,
              "#fdca26"
             ],
             [
              1,
              "#f0f921"
             ]
            ],
            "type": "heatmap"
           }
          ],
          "heatmapgl": [
           {
            "colorbar": {
             "outlinewidth": 0,
             "ticks": ""
            },
            "colorscale": [
             [
              0,
              "#0d0887"
             ],
             [
              0.1111111111111111,
              "#46039f"
             ],
             [
              0.2222222222222222,
              "#7201a8"
             ],
             [
              0.3333333333333333,
              "#9c179e"
             ],
             [
              0.4444444444444444,
              "#bd3786"
             ],
             [
              0.5555555555555556,
              "#d8576b"
             ],
             [
              0.6666666666666666,
              "#ed7953"
             ],
             [
              0.7777777777777778,
              "#fb9f3a"
             ],
             [
              0.8888888888888888,
              "#fdca26"
             ],
             [
              1,
              "#f0f921"
             ]
            ],
            "type": "heatmapgl"
           }
          ],
          "histogram": [
           {
            "marker": {
             "pattern": {
              "fillmode": "overlay",
              "size": 10,
              "solidity": 0.2
             }
            },
            "type": "histogram"
           }
          ],
          "histogram2d": [
           {
            "colorbar": {
             "outlinewidth": 0,
             "ticks": ""
            },
            "colorscale": [
             [
              0,
              "#0d0887"
             ],
             [
              0.1111111111111111,
              "#46039f"
             ],
             [
              0.2222222222222222,
              "#7201a8"
             ],
             [
              0.3333333333333333,
              "#9c179e"
             ],
             [
              0.4444444444444444,
              "#bd3786"
             ],
             [
              0.5555555555555556,
              "#d8576b"
             ],
             [
              0.6666666666666666,
              "#ed7953"
             ],
             [
              0.7777777777777778,
              "#fb9f3a"
             ],
             [
              0.8888888888888888,
              "#fdca26"
             ],
             [
              1,
              "#f0f921"
             ]
            ],
            "type": "histogram2d"
           }
          ],
          "histogram2dcontour": [
           {
            "colorbar": {
             "outlinewidth": 0,
             "ticks": ""
            },
            "colorscale": [
             [
              0,
              "#0d0887"
             ],
             [
              0.1111111111111111,
              "#46039f"
             ],
             [
              0.2222222222222222,
              "#7201a8"
             ],
             [
              0.3333333333333333,
              "#9c179e"
             ],
             [
              0.4444444444444444,
              "#bd3786"
             ],
             [
              0.5555555555555556,
              "#d8576b"
             ],
             [
              0.6666666666666666,
              "#ed7953"
             ],
             [
              0.7777777777777778,
              "#fb9f3a"
             ],
             [
              0.8888888888888888,
              "#fdca26"
             ],
             [
              1,
              "#f0f921"
             ]
            ],
            "type": "histogram2dcontour"
           }
          ],
          "mesh3d": [
           {
            "colorbar": {
             "outlinewidth": 0,
             "ticks": ""
            },
            "type": "mesh3d"
           }
          ],
          "parcoords": [
           {
            "line": {
             "colorbar": {
              "outlinewidth": 0,
              "ticks": ""
             }
            },
            "type": "parcoords"
           }
          ],
          "pie": [
           {
            "automargin": true,
            "type": "pie"
           }
          ],
          "scatter": [
           {
            "fillpattern": {
             "fillmode": "overlay",
             "size": 10,
             "solidity": 0.2
            },
            "type": "scatter"
           }
          ],
          "scatter3d": [
           {
            "line": {
             "colorbar": {
              "outlinewidth": 0,
              "ticks": ""
             }
            },
            "marker": {
             "colorbar": {
              "outlinewidth": 0,
              "ticks": ""
             }
            },
            "type": "scatter3d"
           }
          ],
          "scattercarpet": [
           {
            "marker": {
             "colorbar": {
              "outlinewidth": 0,
              "ticks": ""
             }
            },
            "type": "scattercarpet"
           }
          ],
          "scattergeo": [
           {
            "marker": {
             "colorbar": {
              "outlinewidth": 0,
              "ticks": ""
             }
            },
            "type": "scattergeo"
           }
          ],
          "scattergl": [
           {
            "marker": {
             "colorbar": {
              "outlinewidth": 0,
              "ticks": ""
             }
            },
            "type": "scattergl"
           }
          ],
          "scattermapbox": [
           {
            "marker": {
             "colorbar": {
              "outlinewidth": 0,
              "ticks": ""
             }
            },
            "type": "scattermapbox"
           }
          ],
          "scatterpolar": [
           {
            "marker": {
             "colorbar": {
              "outlinewidth": 0,
              "ticks": ""
             }
            },
            "type": "scatterpolar"
           }
          ],
          "scatterpolargl": [
           {
            "marker": {
             "colorbar": {
              "outlinewidth": 0,
              "ticks": ""
             }
            },
            "type": "scatterpolargl"
           }
          ],
          "scatterternary": [
           {
            "marker": {
             "colorbar": {
              "outlinewidth": 0,
              "ticks": ""
             }
            },
            "type": "scatterternary"
           }
          ],
          "surface": [
           {
            "colorbar": {
             "outlinewidth": 0,
             "ticks": ""
            },
            "colorscale": [
             [
              0,
              "#0d0887"
             ],
             [
              0.1111111111111111,
              "#46039f"
             ],
             [
              0.2222222222222222,
              "#7201a8"
             ],
             [
              0.3333333333333333,
              "#9c179e"
             ],
             [
              0.4444444444444444,
              "#bd3786"
             ],
             [
              0.5555555555555556,
              "#d8576b"
             ],
             [
              0.6666666666666666,
              "#ed7953"
             ],
             [
              0.7777777777777778,
              "#fb9f3a"
             ],
             [
              0.8888888888888888,
              "#fdca26"
             ],
             [
              1,
              "#f0f921"
             ]
            ],
            "type": "surface"
           }
          ],
          "table": [
           {
            "cells": {
             "fill": {
              "color": "#EBF0F8"
             },
             "line": {
              "color": "white"
             }
            },
            "header": {
             "fill": {
              "color": "#C8D4E3"
             },
             "line": {
              "color": "white"
             }
            },
            "type": "table"
           }
          ]
         },
         "layout": {
          "annotationdefaults": {
           "arrowcolor": "#2a3f5f",
           "arrowhead": 0,
           "arrowwidth": 1
          },
          "autotypenumbers": "strict",
          "coloraxis": {
           "colorbar": {
            "outlinewidth": 0,
            "ticks": ""
           }
          },
          "colorscale": {
           "diverging": [
            [
             0,
             "#8e0152"
            ],
            [
             0.1,
             "#c51b7d"
            ],
            [
             0.2,
             "#de77ae"
            ],
            [
             0.3,
             "#f1b6da"
            ],
            [
             0.4,
             "#fde0ef"
            ],
            [
             0.5,
             "#f7f7f7"
            ],
            [
             0.6,
             "#e6f5d0"
            ],
            [
             0.7,
             "#b8e186"
            ],
            [
             0.8,
             "#7fbc41"
            ],
            [
             0.9,
             "#4d9221"
            ],
            [
             1,
             "#276419"
            ]
           ],
           "sequential": [
            [
             0,
             "#0d0887"
            ],
            [
             0.1111111111111111,
             "#46039f"
            ],
            [
             0.2222222222222222,
             "#7201a8"
            ],
            [
             0.3333333333333333,
             "#9c179e"
            ],
            [
             0.4444444444444444,
             "#bd3786"
            ],
            [
             0.5555555555555556,
             "#d8576b"
            ],
            [
             0.6666666666666666,
             "#ed7953"
            ],
            [
             0.7777777777777778,
             "#fb9f3a"
            ],
            [
             0.8888888888888888,
             "#fdca26"
            ],
            [
             1,
             "#f0f921"
            ]
           ],
           "sequentialminus": [
            [
             0,
             "#0d0887"
            ],
            [
             0.1111111111111111,
             "#46039f"
            ],
            [
             0.2222222222222222,
             "#7201a8"
            ],
            [
             0.3333333333333333,
             "#9c179e"
            ],
            [
             0.4444444444444444,
             "#bd3786"
            ],
            [
             0.5555555555555556,
             "#d8576b"
            ],
            [
             0.6666666666666666,
             "#ed7953"
            ],
            [
             0.7777777777777778,
             "#fb9f3a"
            ],
            [
             0.8888888888888888,
             "#fdca26"
            ],
            [
             1,
             "#f0f921"
            ]
           ]
          },
          "colorway": [
           "#636efa",
           "#EF553B",
           "#00cc96",
           "#ab63fa",
           "#FFA15A",
           "#19d3f3",
           "#FF6692",
           "#B6E880",
           "#FF97FF",
           "#FECB52"
          ],
          "font": {
           "color": "#2a3f5f"
          },
          "geo": {
           "bgcolor": "white",
           "lakecolor": "white",
           "landcolor": "#E5ECF6",
           "showlakes": true,
           "showland": true,
           "subunitcolor": "white"
          },
          "hoverlabel": {
           "align": "left"
          },
          "hovermode": "closest",
          "mapbox": {
           "style": "light"
          },
          "paper_bgcolor": "white",
          "plot_bgcolor": "#E5ECF6",
          "polar": {
           "angularaxis": {
            "gridcolor": "white",
            "linecolor": "white",
            "ticks": ""
           },
           "bgcolor": "#E5ECF6",
           "radialaxis": {
            "gridcolor": "white",
            "linecolor": "white",
            "ticks": ""
           }
          },
          "scene": {
           "xaxis": {
            "backgroundcolor": "#E5ECF6",
            "gridcolor": "white",
            "gridwidth": 2,
            "linecolor": "white",
            "showbackground": true,
            "ticks": "",
            "zerolinecolor": "white"
           },
           "yaxis": {
            "backgroundcolor": "#E5ECF6",
            "gridcolor": "white",
            "gridwidth": 2,
            "linecolor": "white",
            "showbackground": true,
            "ticks": "",
            "zerolinecolor": "white"
           },
           "zaxis": {
            "backgroundcolor": "#E5ECF6",
            "gridcolor": "white",
            "gridwidth": 2,
            "linecolor": "white",
            "showbackground": true,
            "ticks": "",
            "zerolinecolor": "white"
           }
          },
          "shapedefaults": {
           "line": {
            "color": "#2a3f5f"
           }
          },
          "ternary": {
           "aaxis": {
            "gridcolor": "white",
            "linecolor": "white",
            "ticks": ""
           },
           "baxis": {
            "gridcolor": "white",
            "linecolor": "white",
            "ticks": ""
           },
           "bgcolor": "#E5ECF6",
           "caxis": {
            "gridcolor": "white",
            "linecolor": "white",
            "ticks": ""
           }
          },
          "title": {
           "x": 0.05
          },
          "xaxis": {
           "automargin": true,
           "gridcolor": "white",
           "linecolor": "white",
           "ticks": "",
           "title": {
            "standoff": 15
           },
           "zerolinecolor": "white",
           "zerolinewidth": 2
          },
          "yaxis": {
           "automargin": true,
           "gridcolor": "white",
           "linecolor": "white",
           "ticks": "",
           "title": {
            "standoff": 15
           },
           "zerolinecolor": "white",
           "zerolinewidth": 2
          }
         }
        },
        "width": 800,
        "xaxis": {
         "anchor": "y",
         "domain": [
          0,
          1
         ],
         "title": {
          "text": "x1"
         }
        },
        "yaxis": {
         "anchor": "x",
         "domain": [
          0,
          1
         ],
         "title": {
          "text": "x2"
         }
        }
       }
      }
     },
     "metadata": {},
     "output_type": "display_data"
    }
   ],
   "source": [
    "import plotly.express as px\n",
    "# cmap is red to blue\n",
    "# encoded_df \n",
    "Edf = pd.DataFrame(X_encoded[:, 0:2], columns=['x1', 'x2'])\n",
    "Edf['Pain_Cohort'] = Y[:,0]\n",
    "Edf['Eaton_Litter'] = Y[:,1]\n",
    "# make the pain cohort categorical\n",
    "Edf['Pain_Cohort'] = Edf['Pain_Cohort'].astype('category')\n",
    "# now make the pain 1 category * and 0 category o\n",
    "#Edf['Pain_Cohort'] = Edf['Pain_Cohort'].apply(lambda x: '*' if x == 1 else 'o')\n",
    "fig = px.scatter(Edf, x='x1', y='x2', color='Eaton_Litter', symbol='Pain_Cohort', hover_data=['Eaton_Litter'])\n",
    "# make the size of the pain cohort bigger\n",
    "# fig.update_traces(marker=dict(size=12,\n",
    "#                                 line=dict(width=2,\n",
    "#                                             color='DarkSlateGrey')),\n",
    "#                     selector=dict(mode='markers', symbol='*')) \n",
    "# # make the markers bigger with nicer backgrounds\n",
    "fig.update_traces(marker=dict(size=12,\n",
    "                                line=dict(width=2,\n",
    "                                            color='DarkSlateGrey')),\n",
    "                    selector=dict(mode='markers'))\n",
    "# we want to really emphasize the Pain Cohort == 1 group. lets make the marker size much larger\n",
    "fig.update_traces(marker=dict(size=209,\n",
    "                                line=dict(width=2,\n",
    "                                            color='DarkSlateGrey')),\n",
    "                    selector=dict(mode='markers', symbol='o'))\n",
    "# make the figure larger and have a square aspect ratio\n",
    "fig.update_layout(\n",
    "    autosize=False,\n",
    "    width=800,\n",
    "    height=800,\n",
    "    margin=dict(l=50, r=50, b=100, t=100, pad=4),\n",
    "    paper_bgcolor=\"LightSteelBlue\",\n",
    ")\n",
    "# add the X_prime_hat as red dots\n",
    "# color the using Y_prime\n",
    "from plotly.subplots import make_subplots\n",
    "import plotly.graph_objects as go\n",
    "fig.add_trace(\n",
    "    go.Scatter(\n",
    "        x=X_prime_hat[:,0],\n",
    "        y=X_prime_hat[:,1],\n",
    "        mode=\"markers\",\n",
    "        marker=dict(\n",
    "            color=Y_prime[:,0],\n",
    "            size=12,\n",
    "            line=dict(\n",
    "                color='Red',\n",
    "                width=2\n",
    "            )\n",
    "        ),\n",
    "        name=\"X_prime_hat\"\n",
    "    )\n",
    ")\n",
    "\n",
    "\n",
    "fig.show()\n",
    "# save as latent space.html\n",
    "fig.write_html(\"latent_space.html\")"
   ]
  },
  {
   "cell_type": "code",
   "execution_count": null,
   "metadata": {},
   "outputs": [
    {
     "data": {
      "text/plain": [
       "2252204"
      ]
     },
     "execution_count": 211,
     "metadata": {},
     "output_type": "execute_result"
    }
   ],
   "source": [
    "reg.estimator\n",
    "# get the number of learnable parameters\n",
    "sum(p.numel() for p in reg.estimator.parameters() if p.requires_grad)"
   ]
  },
  {
   "cell_type": "code",
   "execution_count": null,
   "metadata": {},
   "outputs": [],
   "source": [
    "# plot the predictions of X_prime\n",
    "pred  = reg.predict(X_prime)\n",
    "pred = pred.detach().numpy()"
   ]
  },
  {
   "cell_type": "code",
   "execution_count": null,
   "metadata": {},
   "outputs": [
    {
     "data": {
      "text/plain": [
       "[<matplotlib.lines.Line2D at 0x20b96ad31f0>]"
      ]
     },
     "execution_count": 213,
     "metadata": {},
     "output_type": "execute_result"
    },
    {
     "data": {
      "image/png": "[encoded data removed]",
      "text/plain": [
       "<Figure size 640x480 with 1 Axes>"
      ]
     },
     "metadata": {},
     "output_type": "display_data"
    }
   ],
   "source": [
    "from sklearn.linear_model import LinearRegression\n",
    "reg = LinearRegression()\n",
    "reg.fit(X_encoded, Y[:,1])\n",
    "reg.score(X_encoded, Y[:,1])\n",
    "# plot the parity\n",
    "plt.scatter(Y[:,1], reg.predict(X_encoded))\n",
    "# parity line\n",
    "plt.plot([Y[:,1].min(), Y[:,1].max()], [Y[:,1].min(), Y[:,1].max()], 'k--', lw=4)\n"
   ]
  },
  {
   "cell_type": "code",
   "execution_count": null,
   "metadata": {},
   "outputs": [
    {
     "data": {
      "text/plain": [
       "[<matplotlib.lines.Line2D at 0x1d38519ee90>,\n",
       " <matplotlib.lines.Line2D at 0x1d38519efb0>,\n",
       " <matplotlib.lines.Line2D at 0x1d38519f0a0>,\n",
       " <matplotlib.lines.Line2D at 0x1d38519f190>,\n",
       " <matplotlib.lines.Line2D at 0x1d38519f280>,\n",
       " <matplotlib.lines.Line2D at 0x1d38519f370>,\n",
       " <matplotlib.lines.Line2D at 0x1d38519f460>,\n",
       " <matplotlib.lines.Line2D at 0x1d38519f550>,\n",
       " <matplotlib.lines.Line2D at 0x1d38519f640>,\n",
       " <matplotlib.lines.Line2D at 0x1d38519f730>,\n",
       " <matplotlib.lines.Line2D at 0x1d38519f820>,\n",
       " <matplotlib.lines.Line2D at 0x1d38519f910>,\n",
       " <matplotlib.lines.Line2D at 0x1d38519fa00>,\n",
       " <matplotlib.lines.Line2D at 0x1d38519faf0>,\n",
       " <matplotlib.lines.Line2D at 0x1d38519fbe0>,\n",
       " <matplotlib.lines.Line2D at 0x1d38519fcd0>,\n",
       " <matplotlib.lines.Line2D at 0x1d38519fdc0>,\n",
       " <matplotlib.lines.Line2D at 0x1d38519feb0>,\n",
       " <matplotlib.lines.Line2D at 0x1d38519ffa0>,\n",
       " <matplotlib.lines.Line2D at 0x1d3851dc0d0>,\n",
       " <matplotlib.lines.Line2D at 0x1d3851dc1c0>,\n",
       " <matplotlib.lines.Line2D at 0x1d3851dc2b0>,\n",
       " <matplotlib.lines.Line2D at 0x1d3851dc3a0>,\n",
       " <matplotlib.lines.Line2D at 0x1d3851dc490>,\n",
       " <matplotlib.lines.Line2D at 0x1d3851dc580>,\n",
       " <matplotlib.lines.Line2D at 0x1d3851dc670>,\n",
       " <matplotlib.lines.Line2D at 0x1d3851dc760>,\n",
       " <matplotlib.lines.Line2D at 0x1d3851dc850>,\n",
       " <matplotlib.lines.Line2D at 0x1d3851dc940>,\n",
       " <matplotlib.lines.Line2D at 0x1d3851dca30>,\n",
       " <matplotlib.lines.Line2D at 0x1d3851dcb20>,\n",
       " <matplotlib.lines.Line2D at 0x1d3851dcc10>,\n",
       " <matplotlib.lines.Line2D at 0x1d3851dcd00>,\n",
       " <matplotlib.lines.Line2D at 0x1d3851dcdf0>,\n",
       " <matplotlib.lines.Line2D at 0x1d3851dcee0>,\n",
       " <matplotlib.lines.Line2D at 0x1d3851dcfd0>,\n",
       " <matplotlib.lines.Line2D at 0x1d3851dd0c0>,\n",
       " <matplotlib.lines.Line2D at 0x1d3851dd1b0>,\n",
       " <matplotlib.lines.Line2D at 0x1d3851dd2a0>,\n",
       " <matplotlib.lines.Line2D at 0x1d3851dd390>,\n",
       " <matplotlib.lines.Line2D at 0x1d3851dd480>,\n",
       " <matplotlib.lines.Line2D at 0x1d3851dd570>,\n",
       " <matplotlib.lines.Line2D at 0x1d3851dd660>,\n",
       " <matplotlib.lines.Line2D at 0x1d3851dd750>,\n",
       " <matplotlib.lines.Line2D at 0x1d3851dd840>,\n",
       " <matplotlib.lines.Line2D at 0x1d3851dd930>,\n",
       " <matplotlib.lines.Line2D at 0x1d3851dda20>,\n",
       " <matplotlib.lines.Line2D at 0x1d3851ddb10>,\n",
       " <matplotlib.lines.Line2D at 0x1d3851ddc00>,\n",
       " <matplotlib.lines.Line2D at 0x1d3851ddcf0>,\n",
       " <matplotlib.lines.Line2D at 0x1d3851ddde0>,\n",
       " <matplotlib.lines.Line2D at 0x1d3851dded0>,\n",
       " <matplotlib.lines.Line2D at 0x1d3851ddfc0>,\n",
       " <matplotlib.lines.Line2D at 0x1d3851de0b0>,\n",
       " <matplotlib.lines.Line2D at 0x1d3851de1a0>,\n",
       " <matplotlib.lines.Line2D at 0x1d3851de290>,\n",
       " <matplotlib.lines.Line2D at 0x1d3851de380>,\n",
       " <matplotlib.lines.Line2D at 0x1d3851de470>,\n",
       " <matplotlib.lines.Line2D at 0x1d3851de560>,\n",
       " <matplotlib.lines.Line2D at 0x1d3851de650>,\n",
       " <matplotlib.lines.Line2D at 0x1d3851de740>,\n",
       " <matplotlib.lines.Line2D at 0x1d3851de830>,\n",
       " <matplotlib.lines.Line2D at 0x1d3851de920>,\n",
       " <matplotlib.lines.Line2D at 0x1d3851dea10>,\n",
       " <matplotlib.lines.Line2D at 0x1d3851deb00>,\n",
       " <matplotlib.lines.Line2D at 0x1d3851debf0>,\n",
       " <matplotlib.lines.Line2D at 0x1d3851dece0>,\n",
       " <matplotlib.lines.Line2D at 0x1d3851dedd0>,\n",
       " <matplotlib.lines.Line2D at 0x1d3851deec0>,\n",
       " <matplotlib.lines.Line2D at 0x1d3851defb0>,\n",
       " <matplotlib.lines.Line2D at 0x1d3851df0a0>,\n",
       " <matplotlib.lines.Line2D at 0x1d3851df190>,\n",
       " <matplotlib.lines.Line2D at 0x1d3851df280>,\n",
       " <matplotlib.lines.Line2D at 0x1d3851df370>,\n",
       " <matplotlib.lines.Line2D at 0x1d3851df460>,\n",
       " <matplotlib.lines.Line2D at 0x1d3851df550>,\n",
       " <matplotlib.lines.Line2D at 0x1d3851df640>,\n",
       " <matplotlib.lines.Line2D at 0x1d3851df730>,\n",
       " <matplotlib.lines.Line2D at 0x1d3851df820>,\n",
       " <matplotlib.lines.Line2D at 0x1d3851df910>,\n",
       " <matplotlib.lines.Line2D at 0x1d3851dfa00>,\n",
       " <matplotlib.lines.Line2D at 0x1d3851dfaf0>,\n",
       " <matplotlib.lines.Line2D at 0x1d3851dfbe0>,\n",
       " <matplotlib.lines.Line2D at 0x1d3851dfcd0>,\n",
       " <matplotlib.lines.Line2D at 0x1d3851dfdc0>,\n",
       " <matplotlib.lines.Line2D at 0x1d3851dfeb0>,\n",
       " <matplotlib.lines.Line2D at 0x1d3851dffa0>,\n",
       " <matplotlib.lines.Line2D at 0x1d3852000d0>,\n",
       " <matplotlib.lines.Line2D at 0x1d3852001c0>,\n",
       " <matplotlib.lines.Line2D at 0x1d3852002b0>,\n",
       " <matplotlib.lines.Line2D at 0x1d3852003a0>,\n",
       " <matplotlib.lines.Line2D at 0x1d385200490>,\n",
       " <matplotlib.lines.Line2D at 0x1d385200580>,\n",
       " <matplotlib.lines.Line2D at 0x1d385200670>,\n",
       " <matplotlib.lines.Line2D at 0x1d385200760>,\n",
       " <matplotlib.lines.Line2D at 0x1d385200850>,\n",
       " <matplotlib.lines.Line2D at 0x1d385200940>,\n",
       " <matplotlib.lines.Line2D at 0x1d385200a30>,\n",
       " <matplotlib.lines.Line2D at 0x1d385200b20>,\n",
       " <matplotlib.lines.Line2D at 0x1d385200c10>,\n",
       " <matplotlib.lines.Line2D at 0x1d385200d00>,\n",
       " <matplotlib.lines.Line2D at 0x1d385200df0>,\n",
       " <matplotlib.lines.Line2D at 0x1d385200ee0>,\n",
       " <matplotlib.lines.Line2D at 0x1d385200fd0>,\n",
       " <matplotlib.lines.Line2D at 0x1d3852010c0>,\n",
       " <matplotlib.lines.Line2D at 0x1d3852011b0>,\n",
       " <matplotlib.lines.Line2D at 0x1d3852012a0>,\n",
       " <matplotlib.lines.Line2D at 0x1d385201390>,\n",
       " <matplotlib.lines.Line2D at 0x1d385201480>,\n",
       " <matplotlib.lines.Line2D at 0x1d385201570>,\n",
       " <matplotlib.lines.Line2D at 0x1d385201660>,\n",
       " <matplotlib.lines.Line2D at 0x1d385201750>,\n",
       " <matplotlib.lines.Line2D at 0x1d385201840>,\n",
       " <matplotlib.lines.Line2D at 0x1d385201930>,\n",
       " <matplotlib.lines.Line2D at 0x1d385201a20>,\n",
       " <matplotlib.lines.Line2D at 0x1d385201b10>,\n",
       " <matplotlib.lines.Line2D at 0x1d385201c00>,\n",
       " <matplotlib.lines.Line2D at 0x1d385201cf0>,\n",
       " <matplotlib.lines.Line2D at 0x1d385201de0>,\n",
       " <matplotlib.lines.Line2D at 0x1d385201ed0>,\n",
       " <matplotlib.lines.Line2D at 0x1d385201fc0>,\n",
       " <matplotlib.lines.Line2D at 0x1d3852020b0>,\n",
       " <matplotlib.lines.Line2D at 0x1d3852021a0>,\n",
       " <matplotlib.lines.Line2D at 0x1d385202290>,\n",
       " <matplotlib.lines.Line2D at 0x1d385202380>,\n",
       " <matplotlib.lines.Line2D at 0x1d385202470>,\n",
       " <matplotlib.lines.Line2D at 0x1d385202560>,\n",
       " <matplotlib.lines.Line2D at 0x1d385202650>,\n",
       " <matplotlib.lines.Line2D at 0x1d385202740>,\n",
       " <matplotlib.lines.Line2D at 0x1d385202830>,\n",
       " <matplotlib.lines.Line2D at 0x1d385202920>,\n",
       " <matplotlib.lines.Line2D at 0x1d385202a10>,\n",
       " <matplotlib.lines.Line2D at 0x1d385202b00>,\n",
       " <matplotlib.lines.Line2D at 0x1d385202bf0>,\n",
       " <matplotlib.lines.Line2D at 0x1d385202ce0>,\n",
       " <matplotlib.lines.Line2D at 0x1d385202dd0>,\n",
       " <matplotlib.lines.Line2D at 0x1d385202ec0>,\n",
       " <matplotlib.lines.Line2D at 0x1d385202fb0>,\n",
       " <matplotlib.lines.Line2D at 0x1d3852030a0>,\n",
       " <matplotlib.lines.Line2D at 0x1d385203190>,\n",
       " <matplotlib.lines.Line2D at 0x1d385203280>,\n",
       " <matplotlib.lines.Line2D at 0x1d385203370>,\n",
       " <matplotlib.lines.Line2D at 0x1d385203460>,\n",
       " <matplotlib.lines.Line2D at 0x1d385203550>,\n",
       " <matplotlib.lines.Line2D at 0x1d385203640>,\n",
       " <matplotlib.lines.Line2D at 0x1d385203730>,\n",
       " <matplotlib.lines.Line2D at 0x1d385203820>,\n",
       " <matplotlib.lines.Line2D at 0x1d385203910>,\n",
       " <matplotlib.lines.Line2D at 0x1d385203a00>,\n",
       " <matplotlib.lines.Line2D at 0x1d385203af0>,\n",
       " <matplotlib.lines.Line2D at 0x1d385203be0>,\n",
       " <matplotlib.lines.Line2D at 0x1d385203cd0>,\n",
       " <matplotlib.lines.Line2D at 0x1d385203dc0>,\n",
       " <matplotlib.lines.Line2D at 0x1d385203eb0>,\n",
       " <matplotlib.lines.Line2D at 0x1d385203fa0>,\n",
       " <matplotlib.lines.Line2D at 0x1d3852280d0>,\n",
       " <matplotlib.lines.Line2D at 0x1d3852281c0>,\n",
       " <matplotlib.lines.Line2D at 0x1d3852282b0>,\n",
       " <matplotlib.lines.Line2D at 0x1d3852283a0>,\n",
       " <matplotlib.lines.Line2D at 0x1d385228490>,\n",
       " <matplotlib.lines.Line2D at 0x1d385228580>,\n",
       " <matplotlib.lines.Line2D at 0x1d385228670>,\n",
       " <matplotlib.lines.Line2D at 0x1d385228760>,\n",
       " <matplotlib.lines.Line2D at 0x1d385228850>,\n",
       " <matplotlib.lines.Line2D at 0x1d385228940>,\n",
       " <matplotlib.lines.Line2D at 0x1d385228a30>,\n",
       " <matplotlib.lines.Line2D at 0x1d385228b20>,\n",
       " <matplotlib.lines.Line2D at 0x1d385228c10>,\n",
       " <matplotlib.lines.Line2D at 0x1d385228d00>,\n",
       " <matplotlib.lines.Line2D at 0x1d385228df0>,\n",
       " <matplotlib.lines.Line2D at 0x1d385228ee0>,\n",
       " <matplotlib.lines.Line2D at 0x1d385228fd0>,\n",
       " <matplotlib.lines.Line2D at 0x1d3852290c0>,\n",
       " <matplotlib.lines.Line2D at 0x1d3852291b0>,\n",
       " <matplotlib.lines.Line2D at 0x1d3852292a0>,\n",
       " <matplotlib.lines.Line2D at 0x1d385229390>,\n",
       " <matplotlib.lines.Line2D at 0x1d385229480>,\n",
       " <matplotlib.lines.Line2D at 0x1d385229570>,\n",
       " <matplotlib.lines.Line2D at 0x1d385229660>,\n",
       " <matplotlib.lines.Line2D at 0x1d385229750>,\n",
       " <matplotlib.lines.Line2D at 0x1d385229840>,\n",
       " <matplotlib.lines.Line2D at 0x1d385229930>,\n",
       " <matplotlib.lines.Line2D at 0x1d385229a20>,\n",
       " <matplotlib.lines.Line2D at 0x1d385229b10>,\n",
       " <matplotlib.lines.Line2D at 0x1d385229c00>,\n",
       " <matplotlib.lines.Line2D at 0x1d385229cf0>,\n",
       " <matplotlib.lines.Line2D at 0x1d385229de0>,\n",
       " <matplotlib.lines.Line2D at 0x1d385229ed0>,\n",
       " <matplotlib.lines.Line2D at 0x1d385229fc0>,\n",
       " <matplotlib.lines.Line2D at 0x1d38522a0b0>,\n",
       " <matplotlib.lines.Line2D at 0x1d38522a1a0>,\n",
       " <matplotlib.lines.Line2D at 0x1d38522a290>,\n",
       " <matplotlib.lines.Line2D at 0x1d38522a380>,\n",
       " <matplotlib.lines.Line2D at 0x1d38522a470>,\n",
       " <matplotlib.lines.Line2D at 0x1d38522a560>,\n",
       " <matplotlib.lines.Line2D at 0x1d38522a650>,\n",
       " <matplotlib.lines.Line2D at 0x1d38522a740>,\n",
       " <matplotlib.lines.Line2D at 0x1d38522a830>,\n",
       " <matplotlib.lines.Line2D at 0x1d38522a920>,\n",
       " <matplotlib.lines.Line2D at 0x1d38522aa10>,\n",
       " <matplotlib.lines.Line2D at 0x1d38522ab00>,\n",
       " <matplotlib.lines.Line2D at 0x1d38522abf0>,\n",
       " <matplotlib.lines.Line2D at 0x1d38522ace0>,\n",
       " <matplotlib.lines.Line2D at 0x1d38522add0>,\n",
       " <matplotlib.lines.Line2D at 0x1d38522aec0>,\n",
       " <matplotlib.lines.Line2D at 0x1d38522afb0>,\n",
       " <matplotlib.lines.Line2D at 0x1d38522b0a0>,\n",
       " <matplotlib.lines.Line2D at 0x1d38522b190>,\n",
       " <matplotlib.lines.Line2D at 0x1d38522b280>,\n",
       " <matplotlib.lines.Line2D at 0x1d38522b370>,\n",
       " <matplotlib.lines.Line2D at 0x1d38522b460>,\n",
       " <matplotlib.lines.Line2D at 0x1d38522b550>,\n",
       " <matplotlib.lines.Line2D at 0x1d38522b640>,\n",
       " <matplotlib.lines.Line2D at 0x1d38522b730>,\n",
       " <matplotlib.lines.Line2D at 0x1d38522b820>,\n",
       " <matplotlib.lines.Line2D at 0x1d38522b910>,\n",
       " <matplotlib.lines.Line2D at 0x1d38522ba00>,\n",
       " <matplotlib.lines.Line2D at 0x1d38522baf0>,\n",
       " <matplotlib.lines.Line2D at 0x1d38522bbe0>,\n",
       " <matplotlib.lines.Line2D at 0x1d38522bcd0>,\n",
       " <matplotlib.lines.Line2D at 0x1d38522bdc0>,\n",
       " <matplotlib.lines.Line2D at 0x1d38522beb0>,\n",
       " <matplotlib.lines.Line2D at 0x1d38522bfa0>,\n",
       " <matplotlib.lines.Line2D at 0x1d3852480d0>,\n",
       " <matplotlib.lines.Line2D at 0x1d3852481c0>,\n",
       " <matplotlib.lines.Line2D at 0x1d3852482b0>,\n",
       " <matplotlib.lines.Line2D at 0x1d3852483a0>,\n",
       " <matplotlib.lines.Line2D at 0x1d385248490>,\n",
       " <matplotlib.lines.Line2D at 0x1d385248580>,\n",
       " <matplotlib.lines.Line2D at 0x1d385248670>,\n",
       " <matplotlib.lines.Line2D at 0x1d385248760>,\n",
       " <matplotlib.lines.Line2D at 0x1d385248850>,\n",
       " <matplotlib.lines.Line2D at 0x1d385248940>,\n",
       " <matplotlib.lines.Line2D at 0x1d385248a30>,\n",
       " <matplotlib.lines.Line2D at 0x1d385248b20>,\n",
       " <matplotlib.lines.Line2D at 0x1d385248c10>,\n",
       " <matplotlib.lines.Line2D at 0x1d385248d00>,\n",
       " <matplotlib.lines.Line2D at 0x1d385248df0>,\n",
       " <matplotlib.lines.Line2D at 0x1d385248ee0>,\n",
       " <matplotlib.lines.Line2D at 0x1d385248fd0>,\n",
       " <matplotlib.lines.Line2D at 0x1d3852490c0>,\n",
       " <matplotlib.lines.Line2D at 0x1d3852491b0>,\n",
       " <matplotlib.lines.Line2D at 0x1d3852492a0>,\n",
       " <matplotlib.lines.Line2D at 0x1d385249390>,\n",
       " <matplotlib.lines.Line2D at 0x1d385249480>,\n",
       " <matplotlib.lines.Line2D at 0x1d385249570>,\n",
       " <matplotlib.lines.Line2D at 0x1d385249660>,\n",
       " <matplotlib.lines.Line2D at 0x1d385249750>,\n",
       " <matplotlib.lines.Line2D at 0x1d385249840>,\n",
       " <matplotlib.lines.Line2D at 0x1d385249930>,\n",
       " <matplotlib.lines.Line2D at 0x1d385249a20>,\n",
       " <matplotlib.lines.Line2D at 0x1d385249b10>,\n",
       " <matplotlib.lines.Line2D at 0x1d385249c00>,\n",
       " <matplotlib.lines.Line2D at 0x1d385249cf0>,\n",
       " <matplotlib.lines.Line2D at 0x1d385249de0>,\n",
       " <matplotlib.lines.Line2D at 0x1d385249ed0>,\n",
       " <matplotlib.lines.Line2D at 0x1d385249fc0>,\n",
       " <matplotlib.lines.Line2D at 0x1d38524a0b0>,\n",
       " <matplotlib.lines.Line2D at 0x1d38524a1a0>,\n",
       " <matplotlib.lines.Line2D at 0x1d38524a290>,\n",
       " <matplotlib.lines.Line2D at 0x1d38524a380>,\n",
       " <matplotlib.lines.Line2D at 0x1d38524a470>,\n",
       " <matplotlib.lines.Line2D at 0x1d38524a560>,\n",
       " <matplotlib.lines.Line2D at 0x1d38524a650>,\n",
       " <matplotlib.lines.Line2D at 0x1d38524a740>,\n",
       " <matplotlib.lines.Line2D at 0x1d38524a830>,\n",
       " <matplotlib.lines.Line2D at 0x1d38524a920>,\n",
       " <matplotlib.lines.Line2D at 0x1d38524aa10>,\n",
       " <matplotlib.lines.Line2D at 0x1d38524ab00>,\n",
       " <matplotlib.lines.Line2D at 0x1d38524abf0>,\n",
       " <matplotlib.lines.Line2D at 0x1d38524ace0>,\n",
       " <matplotlib.lines.Line2D at 0x1d38524add0>,\n",
       " <matplotlib.lines.Line2D at 0x1d38524aec0>,\n",
       " <matplotlib.lines.Line2D at 0x1d38524afb0>,\n",
       " <matplotlib.lines.Line2D at 0x1d38524b0a0>,\n",
       " <matplotlib.lines.Line2D at 0x1d38524b190>,\n",
       " <matplotlib.lines.Line2D at 0x1d38524b280>,\n",
       " <matplotlib.lines.Line2D at 0x1d38524b370>,\n",
       " <matplotlib.lines.Line2D at 0x1d38524b460>,\n",
       " <matplotlib.lines.Line2D at 0x1d38524b550>,\n",
       " <matplotlib.lines.Line2D at 0x1d38524b640>,\n",
       " <matplotlib.lines.Line2D at 0x1d38524b730>,\n",
       " <matplotlib.lines.Line2D at 0x1d38524b820>,\n",
       " <matplotlib.lines.Line2D at 0x1d38524b910>,\n",
       " <matplotlib.lines.Line2D at 0x1d38524ba00>,\n",
       " <matplotlib.lines.Line2D at 0x1d38524baf0>,\n",
       " <matplotlib.lines.Line2D at 0x1d38524bbe0>,\n",
       " <matplotlib.lines.Line2D at 0x1d38524bcd0>,\n",
       " <matplotlib.lines.Line2D at 0x1d38524bdc0>,\n",
       " <matplotlib.lines.Line2D at 0x1d38524beb0>,\n",
       " <matplotlib.lines.Line2D at 0x1d38524bfa0>,\n",
       " <matplotlib.lines.Line2D at 0x1d3852680d0>,\n",
       " <matplotlib.lines.Line2D at 0x1d3852681c0>,\n",
       " <matplotlib.lines.Line2D at 0x1d3852682b0>,\n",
       " <matplotlib.lines.Line2D at 0x1d3852683a0>,\n",
       " <matplotlib.lines.Line2D at 0x1d385268490>,\n",
       " <matplotlib.lines.Line2D at 0x1d385268580>,\n",
       " <matplotlib.lines.Line2D at 0x1d385268670>,\n",
       " <matplotlib.lines.Line2D at 0x1d385268760>,\n",
       " <matplotlib.lines.Line2D at 0x1d385268850>,\n",
       " <matplotlib.lines.Line2D at 0x1d385268940>,\n",
       " <matplotlib.lines.Line2D at 0x1d385268a30>,\n",
       " <matplotlib.lines.Line2D at 0x1d385268b20>,\n",
       " <matplotlib.lines.Line2D at 0x1d385268c10>,\n",
       " <matplotlib.lines.Line2D at 0x1d385268d00>,\n",
       " <matplotlib.lines.Line2D at 0x1d385268df0>,\n",
       " <matplotlib.lines.Line2D at 0x1d385268ee0>,\n",
       " <matplotlib.lines.Line2D at 0x1d385268fd0>,\n",
       " <matplotlib.lines.Line2D at 0x1d3852690c0>,\n",
       " <matplotlib.lines.Line2D at 0x1d3852691b0>,\n",
       " <matplotlib.lines.Line2D at 0x1d3852692a0>,\n",
       " <matplotlib.lines.Line2D at 0x1d385269390>,\n",
       " <matplotlib.lines.Line2D at 0x1d385269480>,\n",
       " <matplotlib.lines.Line2D at 0x1d385269570>,\n",
       " <matplotlib.lines.Line2D at 0x1d385269660>,\n",
       " <matplotlib.lines.Line2D at 0x1d385269750>,\n",
       " <matplotlib.lines.Line2D at 0x1d385269840>,\n",
       " <matplotlib.lines.Line2D at 0x1d385269930>,\n",
       " <matplotlib.lines.Line2D at 0x1d385269a20>,\n",
       " <matplotlib.lines.Line2D at 0x1d385269b10>,\n",
       " <matplotlib.lines.Line2D at 0x1d385269c00>,\n",
       " <matplotlib.lines.Line2D at 0x1d385269cf0>,\n",
       " <matplotlib.lines.Line2D at 0x1d385269de0>,\n",
       " <matplotlib.lines.Line2D at 0x1d385269ed0>,\n",
       " <matplotlib.lines.Line2D at 0x1d385269fc0>,\n",
       " <matplotlib.lines.Line2D at 0x1d38526a0b0>,\n",
       " <matplotlib.lines.Line2D at 0x1d38526a1a0>,\n",
       " <matplotlib.lines.Line2D at 0x1d38526a290>,\n",
       " <matplotlib.lines.Line2D at 0x1d38526a380>,\n",
       " <matplotlib.lines.Line2D at 0x1d38526a470>,\n",
       " <matplotlib.lines.Line2D at 0x1d38526a560>,\n",
       " <matplotlib.lines.Line2D at 0x1d38526a650>,\n",
       " <matplotlib.lines.Line2D at 0x1d38526a740>,\n",
       " <matplotlib.lines.Line2D at 0x1d38526a830>,\n",
       " <matplotlib.lines.Line2D at 0x1d38526a920>,\n",
       " <matplotlib.lines.Line2D at 0x1d38526aa10>,\n",
       " <matplotlib.lines.Line2D at 0x1d38526ab00>,\n",
       " <matplotlib.lines.Line2D at 0x1d38526abf0>,\n",
       " <matplotlib.lines.Line2D at 0x1d38526ace0>,\n",
       " <matplotlib.lines.Line2D at 0x1d38526add0>,\n",
       " <matplotlib.lines.Line2D at 0x1d38526aec0>,\n",
       " <matplotlib.lines.Line2D at 0x1d38526afb0>,\n",
       " <matplotlib.lines.Line2D at 0x1d38526b0a0>,\n",
       " <matplotlib.lines.Line2D at 0x1d38526b190>,\n",
       " <matplotlib.lines.Line2D at 0x1d38526b280>,\n",
       " <matplotlib.lines.Line2D at 0x1d38526b370>,\n",
       " <matplotlib.lines.Line2D at 0x1d38526b460>,\n",
       " <matplotlib.lines.Line2D at 0x1d38526b550>,\n",
       " <matplotlib.lines.Line2D at 0x1d38526b640>,\n",
       " <matplotlib.lines.Line2D at 0x1d38526b730>,\n",
       " <matplotlib.lines.Line2D at 0x1d38526b820>,\n",
       " <matplotlib.lines.Line2D at 0x1d38526b910>,\n",
       " <matplotlib.lines.Line2D at 0x1d38526ba00>,\n",
       " <matplotlib.lines.Line2D at 0x1d38526baf0>,\n",
       " <matplotlib.lines.Line2D at 0x1d38526bbe0>,\n",
       " <matplotlib.lines.Line2D at 0x1d38526bcd0>,\n",
       " <matplotlib.lines.Line2D at 0x1d38526bdc0>,\n",
       " <matplotlib.lines.Line2D at 0x1d38526beb0>,\n",
       " <matplotlib.lines.Line2D at 0x1d38526bfa0>,\n",
       " <matplotlib.lines.Line2D at 0x1d38528c0d0>,\n",
       " <matplotlib.lines.Line2D at 0x1d38528c1c0>,\n",
       " <matplotlib.lines.Line2D at 0x1d38528c2b0>,\n",
       " <matplotlib.lines.Line2D at 0x1d38528c3a0>,\n",
       " <matplotlib.lines.Line2D at 0x1d38528c490>,\n",
       " <matplotlib.lines.Line2D at 0x1d38528c580>,\n",
       " <matplotlib.lines.Line2D at 0x1d38528c670>,\n",
       " <matplotlib.lines.Line2D at 0x1d38528c760>,\n",
       " <matplotlib.lines.Line2D at 0x1d38528c850>,\n",
       " <matplotlib.lines.Line2D at 0x1d38528c940>,\n",
       " <matplotlib.lines.Line2D at 0x1d38528ca30>,\n",
       " <matplotlib.lines.Line2D at 0x1d38528cb20>,\n",
       " <matplotlib.lines.Line2D at 0x1d38528cc10>,\n",
       " <matplotlib.lines.Line2D at 0x1d38528cd00>,\n",
       " <matplotlib.lines.Line2D at 0x1d38528cdf0>,\n",
       " <matplotlib.lines.Line2D at 0x1d38528cee0>,\n",
       " <matplotlib.lines.Line2D at 0x1d38528cfd0>,\n",
       " <matplotlib.lines.Line2D at 0x1d38528d0c0>,\n",
       " <matplotlib.lines.Line2D at 0x1d38528d1b0>,\n",
       " <matplotlib.lines.Line2D at 0x1d38528d2a0>,\n",
       " <matplotlib.lines.Line2D at 0x1d38528d390>,\n",
       " <matplotlib.lines.Line2D at 0x1d38528d480>,\n",
       " <matplotlib.lines.Line2D at 0x1d38528d570>,\n",
       " <matplotlib.lines.Line2D at 0x1d38528d660>,\n",
       " <matplotlib.lines.Line2D at 0x1d38528d750>,\n",
       " <matplotlib.lines.Line2D at 0x1d38528d840>,\n",
       " <matplotlib.lines.Line2D at 0x1d38528d930>,\n",
       " <matplotlib.lines.Line2D at 0x1d38528da20>,\n",
       " <matplotlib.lines.Line2D at 0x1d38528db10>,\n",
       " <matplotlib.lines.Line2D at 0x1d38528dc00>,\n",
       " <matplotlib.lines.Line2D at 0x1d38528dcf0>,\n",
       " <matplotlib.lines.Line2D at 0x1d38528dde0>,\n",
       " <matplotlib.lines.Line2D at 0x1d38528ded0>,\n",
       " <matplotlib.lines.Line2D at 0x1d38528dfc0>,\n",
       " <matplotlib.lines.Line2D at 0x1d38528e0b0>,\n",
       " <matplotlib.lines.Line2D at 0x1d38528e1a0>,\n",
       " <matplotlib.lines.Line2D at 0x1d38528e290>,\n",
       " <matplotlib.lines.Line2D at 0x1d38528e380>,\n",
       " <matplotlib.lines.Line2D at 0x1d38528e470>,\n",
       " <matplotlib.lines.Line2D at 0x1d38528e560>,\n",
       " <matplotlib.lines.Line2D at 0x1d38528e650>,\n",
       " <matplotlib.lines.Line2D at 0x1d38528e740>,\n",
       " <matplotlib.lines.Line2D at 0x1d38528e830>,\n",
       " <matplotlib.lines.Line2D at 0x1d38528e920>,\n",
       " <matplotlib.lines.Line2D at 0x1d38528ea10>,\n",
       " <matplotlib.lines.Line2D at 0x1d38528eb00>,\n",
       " <matplotlib.lines.Line2D at 0x1d38528ebf0>,\n",
       " <matplotlib.lines.Line2D at 0x1d38528ece0>,\n",
       " <matplotlib.lines.Line2D at 0x1d38528edd0>,\n",
       " <matplotlib.lines.Line2D at 0x1d38528eec0>,\n",
       " <matplotlib.lines.Line2D at 0x1d38528efb0>,\n",
       " <matplotlib.lines.Line2D at 0x1d38528f0a0>,\n",
       " <matplotlib.lines.Line2D at 0x1d38528f190>,\n",
       " <matplotlib.lines.Line2D at 0x1d38528f280>,\n",
       " <matplotlib.lines.Line2D at 0x1d38528f370>,\n",
       " <matplotlib.lines.Line2D at 0x1d38528f460>,\n",
       " <matplotlib.lines.Line2D at 0x1d38528f550>,\n",
       " <matplotlib.lines.Line2D at 0x1d38528f640>,\n",
       " <matplotlib.lines.Line2D at 0x1d38528f730>,\n",
       " <matplotlib.lines.Line2D at 0x1d38528f820>,\n",
       " <matplotlib.lines.Line2D at 0x1d38528f910>,\n",
       " <matplotlib.lines.Line2D at 0x1d38528fa00>,\n",
       " <matplotlib.lines.Line2D at 0x1d38528faf0>,\n",
       " <matplotlib.lines.Line2D at 0x1d38528fbe0>,\n",
       " <matplotlib.lines.Line2D at 0x1d38528fcd0>,\n",
       " <matplotlib.lines.Line2D at 0x1d38528fdc0>,\n",
       " <matplotlib.lines.Line2D at 0x1d38528feb0>,\n",
       " <matplotlib.lines.Line2D at 0x1d38528ffa0>,\n",
       " <matplotlib.lines.Line2D at 0x1d3852ac0d0>,\n",
       " <matplotlib.lines.Line2D at 0x1d3852ac1c0>,\n",
       " <matplotlib.lines.Line2D at 0x1d3852ac2b0>,\n",
       " <matplotlib.lines.Line2D at 0x1d3852ac3a0>,\n",
       " <matplotlib.lines.Line2D at 0x1d3852ac490>,\n",
       " <matplotlib.lines.Line2D at 0x1d3852ac580>,\n",
       " <matplotlib.lines.Line2D at 0x1d3852ac670>,\n",
       " <matplotlib.lines.Line2D at 0x1d3852ac760>,\n",
       " <matplotlib.lines.Line2D at 0x1d3852ac850>,\n",
       " <matplotlib.lines.Line2D at 0x1d3852ac940>,\n",
       " <matplotlib.lines.Line2D at 0x1d3852aca30>,\n",
       " <matplotlib.lines.Line2D at 0x1d3852acb20>,\n",
       " <matplotlib.lines.Line2D at 0x1d3852acc10>,\n",
       " <matplotlib.lines.Line2D at 0x1d3852acd00>,\n",
       " <matplotlib.lines.Line2D at 0x1d3852acdf0>,\n",
       " <matplotlib.lines.Line2D at 0x1d3852acee0>,\n",
       " <matplotlib.lines.Line2D at 0x1d3852acfd0>,\n",
       " <matplotlib.lines.Line2D at 0x1d3852ad0c0>,\n",
       " <matplotlib.lines.Line2D at 0x1d3852ad1b0>,\n",
       " <matplotlib.lines.Line2D at 0x1d3852ad2a0>,\n",
       " <matplotlib.lines.Line2D at 0x1d3852ad390>,\n",
       " <matplotlib.lines.Line2D at 0x1d3852ad480>,\n",
       " <matplotlib.lines.Line2D at 0x1d3852ad570>,\n",
       " <matplotlib.lines.Line2D at 0x1d3852ad660>,\n",
       " <matplotlib.lines.Line2D at 0x1d3852ad750>,\n",
       " <matplotlib.lines.Line2D at 0x1d3852ad840>,\n",
       " <matplotlib.lines.Line2D at 0x1d3852ad930>,\n",
       " <matplotlib.lines.Line2D at 0x1d3852ada20>,\n",
       " <matplotlib.lines.Line2D at 0x1d3852adb10>,\n",
       " <matplotlib.lines.Line2D at 0x1d3852adc00>,\n",
       " <matplotlib.lines.Line2D at 0x1d3852adcf0>,\n",
       " <matplotlib.lines.Line2D at 0x1d3852adde0>,\n",
       " <matplotlib.lines.Line2D at 0x1d3852aded0>,\n",
       " <matplotlib.lines.Line2D at 0x1d3852adfc0>,\n",
       " <matplotlib.lines.Line2D at 0x1d3852ae0b0>,\n",
       " <matplotlib.lines.Line2D at 0x1d3852ae1a0>,\n",
       " <matplotlib.lines.Line2D at 0x1d3852ae290>,\n",
       " <matplotlib.lines.Line2D at 0x1d3852ae380>,\n",
       " <matplotlib.lines.Line2D at 0x1d3852ae470>,\n",
       " <matplotlib.lines.Line2D at 0x1d3852ae560>,\n",
       " <matplotlib.lines.Line2D at 0x1d3852ae650>,\n",
       " <matplotlib.lines.Line2D at 0x1d3852ae740>,\n",
       " <matplotlib.lines.Line2D at 0x1d3852ae830>,\n",
       " <matplotlib.lines.Line2D at 0x1d3852ae920>,\n",
       " <matplotlib.lines.Line2D at 0x1d3852aea10>,\n",
       " <matplotlib.lines.Line2D at 0x1d3852aeb00>,\n",
       " <matplotlib.lines.Line2D at 0x1d3852aebf0>,\n",
       " <matplotlib.lines.Line2D at 0x1d3852aece0>,\n",
       " <matplotlib.lines.Line2D at 0x1d3852aedd0>,\n",
       " <matplotlib.lines.Line2D at 0x1d3852aeec0>,\n",
       " <matplotlib.lines.Line2D at 0x1d3852aefb0>,\n",
       " <matplotlib.lines.Line2D at 0x1d3852af0a0>,\n",
       " <matplotlib.lines.Line2D at 0x1d3852af190>,\n",
       " <matplotlib.lines.Line2D at 0x1d3852af280>,\n",
       " <matplotlib.lines.Line2D at 0x1d3852af370>,\n",
       " <matplotlib.lines.Line2D at 0x1d3852af460>,\n",
       " <matplotlib.lines.Line2D at 0x1d3852af550>,\n",
       " <matplotlib.lines.Line2D at 0x1d3852af640>,\n",
       " <matplotlib.lines.Line2D at 0x1d3852af730>,\n",
       " <matplotlib.lines.Line2D at 0x1d3852af820>,\n",
       " <matplotlib.lines.Line2D at 0x1d3852af910>,\n",
       " <matplotlib.lines.Line2D at 0x1d3852afa00>,\n",
       " <matplotlib.lines.Line2D at 0x1d3852afaf0>,\n",
       " <matplotlib.lines.Line2D at 0x1d3852afbe0>,\n",
       " <matplotlib.lines.Line2D at 0x1d3852afcd0>,\n",
       " <matplotlib.lines.Line2D at 0x1d3852afdc0>,\n",
       " <matplotlib.lines.Line2D at 0x1d3852afeb0>,\n",
       " <matplotlib.lines.Line2D at 0x1d3852affa0>,\n",
       " <matplotlib.lines.Line2D at 0x1d3852cc0d0>,\n",
       " <matplotlib.lines.Line2D at 0x1d3852cc1c0>,\n",
       " <matplotlib.lines.Line2D at 0x1d3852cc2b0>,\n",
       " <matplotlib.lines.Line2D at 0x1d3852cc3a0>,\n",
       " <matplotlib.lines.Line2D at 0x1d3852cc490>,\n",
       " <matplotlib.lines.Line2D at 0x1d3852cc580>,\n",
       " <matplotlib.lines.Line2D at 0x1d3852cc670>,\n",
       " <matplotlib.lines.Line2D at 0x1d3852cc760>,\n",
       " <matplotlib.lines.Line2D at 0x1d3852cc850>,\n",
       " <matplotlib.lines.Line2D at 0x1d3852cc940>,\n",
       " <matplotlib.lines.Line2D at 0x1d3852cca30>,\n",
       " <matplotlib.lines.Line2D at 0x1d3852ccb20>,\n",
       " <matplotlib.lines.Line2D at 0x1d3852ccc10>,\n",
       " <matplotlib.lines.Line2D at 0x1d3852ccd00>,\n",
       " <matplotlib.lines.Line2D at 0x1d3852ccdf0>,\n",
       " <matplotlib.lines.Line2D at 0x1d3852ccee0>,\n",
       " <matplotlib.lines.Line2D at 0x1d3852ccfd0>,\n",
       " <matplotlib.lines.Line2D at 0x1d3852cd0c0>,\n",
       " <matplotlib.lines.Line2D at 0x1d3852cd1b0>,\n",
       " <matplotlib.lines.Line2D at 0x1d3852cd2a0>,\n",
       " <matplotlib.lines.Line2D at 0x1d3852cd390>,\n",
       " <matplotlib.lines.Line2D at 0x1d3852cd480>,\n",
       " <matplotlib.lines.Line2D at 0x1d3852cd570>,\n",
       " <matplotlib.lines.Line2D at 0x1d3852cd660>,\n",
       " <matplotlib.lines.Line2D at 0x1d3852cd750>,\n",
       " <matplotlib.lines.Line2D at 0x1d3852cd840>,\n",
       " <matplotlib.lines.Line2D at 0x1d3852cd930>,\n",
       " <matplotlib.lines.Line2D at 0x1d3852cda20>,\n",
       " <matplotlib.lines.Line2D at 0x1d3852cdb10>,\n",
       " <matplotlib.lines.Line2D at 0x1d3852cdc00>,\n",
       " <matplotlib.lines.Line2D at 0x1d3852cdcf0>,\n",
       " <matplotlib.lines.Line2D at 0x1d3852cdde0>,\n",
       " <matplotlib.lines.Line2D at 0x1d3852cded0>,\n",
       " <matplotlib.lines.Line2D at 0x1d3852cdfc0>,\n",
       " <matplotlib.lines.Line2D at 0x1d3852ce0b0>,\n",
       " <matplotlib.lines.Line2D at 0x1d3852ce1a0>,\n",
       " <matplotlib.lines.Line2D at 0x1d3852ce290>,\n",
       " <matplotlib.lines.Line2D at 0x1d3852ce380>,\n",
       " <matplotlib.lines.Line2D at 0x1d3852ce470>,\n",
       " <matplotlib.lines.Line2D at 0x1d3852ce560>,\n",
       " <matplotlib.lines.Line2D at 0x1d3852ce650>,\n",
       " <matplotlib.lines.Line2D at 0x1d3852ce740>,\n",
       " <matplotlib.lines.Line2D at 0x1d3852ce830>,\n",
       " <matplotlib.lines.Line2D at 0x1d3852ce920>,\n",
       " <matplotlib.lines.Line2D at 0x1d3852cea10>,\n",
       " <matplotlib.lines.Line2D at 0x1d3852ceb00>,\n",
       " <matplotlib.lines.Line2D at 0x1d3852cebf0>,\n",
       " <matplotlib.lines.Line2D at 0x1d3852cece0>,\n",
       " <matplotlib.lines.Line2D at 0x1d3852cedd0>,\n",
       " <matplotlib.lines.Line2D at 0x1d3852ceec0>,\n",
       " <matplotlib.lines.Line2D at 0x1d3852cefb0>,\n",
       " <matplotlib.lines.Line2D at 0x1d3852cf0a0>,\n",
       " <matplotlib.lines.Line2D at 0x1d3852cf190>,\n",
       " <matplotlib.lines.Line2D at 0x1d3852cf280>,\n",
       " <matplotlib.lines.Line2D at 0x1d3852cf370>,\n",
       " <matplotlib.lines.Line2D at 0x1d3852cf460>,\n",
       " <matplotlib.lines.Line2D at 0x1d3852cf550>,\n",
       " <matplotlib.lines.Line2D at 0x1d3852cf640>,\n",
       " <matplotlib.lines.Line2D at 0x1d3852cf730>,\n",
       " <matplotlib.lines.Line2D at 0x1d3852cf820>,\n",
       " <matplotlib.lines.Line2D at 0x1d3852cf910>,\n",
       " <matplotlib.lines.Line2D at 0x1d3852cfa00>,\n",
       " <matplotlib.lines.Line2D at 0x1d3852cfaf0>,\n",
       " <matplotlib.lines.Line2D at 0x1d3852cfbe0>,\n",
       " <matplotlib.lines.Line2D at 0x1d3852cfcd0>,\n",
       " <matplotlib.lines.Line2D at 0x1d3852cfdc0>,\n",
       " <matplotlib.lines.Line2D at 0x1d3852cfeb0>,\n",
       " <matplotlib.lines.Line2D at 0x1d3852cffa0>,\n",
       " <matplotlib.lines.Line2D at 0x1d3852f00d0>,\n",
       " <matplotlib.lines.Line2D at 0x1d3852f01c0>,\n",
       " <matplotlib.lines.Line2D at 0x1d3852f02b0>,\n",
       " <matplotlib.lines.Line2D at 0x1d3852f03a0>,\n",
       " <matplotlib.lines.Line2D at 0x1d3852f0490>,\n",
       " <matplotlib.lines.Line2D at 0x1d3852f0580>,\n",
       " <matplotlib.lines.Line2D at 0x1d3852f0670>,\n",
       " <matplotlib.lines.Line2D at 0x1d3852f0760>,\n",
       " <matplotlib.lines.Line2D at 0x1d3852f0850>,\n",
       " <matplotlib.lines.Line2D at 0x1d3852f0940>,\n",
       " <matplotlib.lines.Line2D at 0x1d3852f0a30>,\n",
       " <matplotlib.lines.Line2D at 0x1d3852f0b20>,\n",
       " <matplotlib.lines.Line2D at 0x1d3852f0c10>,\n",
       " <matplotlib.lines.Line2D at 0x1d3852f0d00>,\n",
       " <matplotlib.lines.Line2D at 0x1d3852f0df0>,\n",
       " <matplotlib.lines.Line2D at 0x1d3852f0ee0>,\n",
       " <matplotlib.lines.Line2D at 0x1d3852f0fd0>,\n",
       " <matplotlib.lines.Line2D at 0x1d3852f10c0>,\n",
       " <matplotlib.lines.Line2D at 0x1d3852f11b0>,\n",
       " <matplotlib.lines.Line2D at 0x1d3852f12a0>,\n",
       " <matplotlib.lines.Line2D at 0x1d3852f1390>,\n",
       " <matplotlib.lines.Line2D at 0x1d3852f1480>,\n",
       " <matplotlib.lines.Line2D at 0x1d3852f1570>,\n",
       " <matplotlib.lines.Line2D at 0x1d3852f1660>,\n",
       " <matplotlib.lines.Line2D at 0x1d3852f1750>,\n",
       " <matplotlib.lines.Line2D at 0x1d3852f1840>,\n",
       " <matplotlib.lines.Line2D at 0x1d3852f1930>,\n",
       " <matplotlib.lines.Line2D at 0x1d3852f1a20>,\n",
       " <matplotlib.lines.Line2D at 0x1d3852f1b10>,\n",
       " <matplotlib.lines.Line2D at 0x1d3852f1c00>,\n",
       " <matplotlib.lines.Line2D at 0x1d3852f1cf0>,\n",
       " <matplotlib.lines.Line2D at 0x1d3852f1de0>,\n",
       " <matplotlib.lines.Line2D at 0x1d3852f1ed0>,\n",
       " <matplotlib.lines.Line2D at 0x1d3852f1fc0>,\n",
       " <matplotlib.lines.Line2D at 0x1d3852f20b0>,\n",
       " <matplotlib.lines.Line2D at 0x1d3852f21a0>,\n",
       " <matplotlib.lines.Line2D at 0x1d3852f2290>,\n",
       " <matplotlib.lines.Line2D at 0x1d3852f2380>,\n",
       " <matplotlib.lines.Line2D at 0x1d3852f2470>,\n",
       " <matplotlib.lines.Line2D at 0x1d3852f2560>,\n",
       " <matplotlib.lines.Line2D at 0x1d3852f2650>,\n",
       " <matplotlib.lines.Line2D at 0x1d3852f2740>,\n",
       " <matplotlib.lines.Line2D at 0x1d3852f2830>,\n",
       " <matplotlib.lines.Line2D at 0x1d3852f2920>,\n",
       " <matplotlib.lines.Line2D at 0x1d3852f2a10>,\n",
       " <matplotlib.lines.Line2D at 0x1d3852f2b00>,\n",
       " <matplotlib.lines.Line2D at 0x1d3852f2bf0>,\n",
       " <matplotlib.lines.Line2D at 0x1d3852f2ce0>,\n",
       " <matplotlib.lines.Line2D at 0x1d3852f2dd0>,\n",
       " <matplotlib.lines.Line2D at 0x1d3852f2ec0>,\n",
       " <matplotlib.lines.Line2D at 0x1d3852f2fb0>,\n",
       " <matplotlib.lines.Line2D at 0x1d3852f30a0>,\n",
       " <matplotlib.lines.Line2D at 0x1d3852f3190>,\n",
       " <matplotlib.lines.Line2D at 0x1d3852f3280>,\n",
       " <matplotlib.lines.Line2D at 0x1d3852f3370>,\n",
       " <matplotlib.lines.Line2D at 0x1d3852f3460>,\n",
       " <matplotlib.lines.Line2D at 0x1d3852f3550>,\n",
       " <matplotlib.lines.Line2D at 0x1d3852f3640>,\n",
       " <matplotlib.lines.Line2D at 0x1d3852f3730>,\n",
       " <matplotlib.lines.Line2D at 0x1d3852f3820>,\n",
       " <matplotlib.lines.Line2D at 0x1d3852f3910>,\n",
       " <matplotlib.lines.Line2D at 0x1d3852f3a00>,\n",
       " <matplotlib.lines.Line2D at 0x1d3852f3af0>,\n",
       " <matplotlib.lines.Line2D at 0x1d3852f3be0>,\n",
       " <matplotlib.lines.Line2D at 0x1d3852f3cd0>,\n",
       " <matplotlib.lines.Line2D at 0x1d3852f3dc0>,\n",
       " <matplotlib.lines.Line2D at 0x1d3852f3eb0>,\n",
       " <matplotlib.lines.Line2D at 0x1d3852f3fa0>,\n",
       " <matplotlib.lines.Line2D at 0x1d3853180d0>,\n",
       " <matplotlib.lines.Line2D at 0x1d3853181c0>,\n",
       " <matplotlib.lines.Line2D at 0x1d3853182b0>,\n",
       " <matplotlib.lines.Line2D at 0x1d3853183a0>,\n",
       " <matplotlib.lines.Line2D at 0x1d385318490>,\n",
       " <matplotlib.lines.Line2D at 0x1d385318580>,\n",
       " <matplotlib.lines.Line2D at 0x1d385318670>,\n",
       " <matplotlib.lines.Line2D at 0x1d385318760>,\n",
       " <matplotlib.lines.Line2D at 0x1d385318850>,\n",
       " <matplotlib.lines.Line2D at 0x1d385318940>,\n",
       " <matplotlib.lines.Line2D at 0x1d385318a30>,\n",
       " <matplotlib.lines.Line2D at 0x1d385318b20>,\n",
       " <matplotlib.lines.Line2D at 0x1d385318c10>,\n",
       " <matplotlib.lines.Line2D at 0x1d385318d00>,\n",
       " <matplotlib.lines.Line2D at 0x1d385318df0>,\n",
       " <matplotlib.lines.Line2D at 0x1d385318ee0>,\n",
       " <matplotlib.lines.Line2D at 0x1d385318fd0>,\n",
       " <matplotlib.lines.Line2D at 0x1d3853190c0>,\n",
       " <matplotlib.lines.Line2D at 0x1d3853191b0>,\n",
       " <matplotlib.lines.Line2D at 0x1d3853192a0>,\n",
       " <matplotlib.lines.Line2D at 0x1d385319390>,\n",
       " <matplotlib.lines.Line2D at 0x1d385319480>,\n",
       " <matplotlib.lines.Line2D at 0x1d385319570>,\n",
       " <matplotlib.lines.Line2D at 0x1d385319660>,\n",
       " <matplotlib.lines.Line2D at 0x1d385319750>,\n",
       " <matplotlib.lines.Line2D at 0x1d385319840>,\n",
       " <matplotlib.lines.Line2D at 0x1d385319930>,\n",
       " <matplotlib.lines.Line2D at 0x1d385319a20>,\n",
       " <matplotlib.lines.Line2D at 0x1d385319b10>,\n",
       " <matplotlib.lines.Line2D at 0x1d385319c00>,\n",
       " <matplotlib.lines.Line2D at 0x1d385319cf0>,\n",
       " <matplotlib.lines.Line2D at 0x1d385319de0>,\n",
       " <matplotlib.lines.Line2D at 0x1d385319ed0>,\n",
       " <matplotlib.lines.Line2D at 0x1d385319fc0>,\n",
       " <matplotlib.lines.Line2D at 0x1d38531a0b0>,\n",
       " <matplotlib.lines.Line2D at 0x1d38531a1a0>,\n",
       " <matplotlib.lines.Line2D at 0x1d38531a290>,\n",
       " <matplotlib.lines.Line2D at 0x1d38531a380>,\n",
       " <matplotlib.lines.Line2D at 0x1d38531a470>,\n",
       " <matplotlib.lines.Line2D at 0x1d38531a560>,\n",
       " <matplotlib.lines.Line2D at 0x1d38531a650>,\n",
       " <matplotlib.lines.Line2D at 0x1d38531a740>,\n",
       " <matplotlib.lines.Line2D at 0x1d38531a830>,\n",
       " <matplotlib.lines.Line2D at 0x1d38531a920>,\n",
       " <matplotlib.lines.Line2D at 0x1d38531aa10>,\n",
       " <matplotlib.lines.Line2D at 0x1d38531ab00>,\n",
       " <matplotlib.lines.Line2D at 0x1d38531abf0>,\n",
       " <matplotlib.lines.Line2D at 0x1d38531ace0>,\n",
       " <matplotlib.lines.Line2D at 0x1d38531add0>,\n",
       " <matplotlib.lines.Line2D at 0x1d38531aec0>,\n",
       " <matplotlib.lines.Line2D at 0x1d38531afb0>,\n",
       " <matplotlib.lines.Line2D at 0x1d38531b0a0>,\n",
       " <matplotlib.lines.Line2D at 0x1d38531b190>,\n",
       " <matplotlib.lines.Line2D at 0x1d38531b280>,\n",
       " <matplotlib.lines.Line2D at 0x1d38531b370>,\n",
       " <matplotlib.lines.Line2D at 0x1d38531b460>,\n",
       " <matplotlib.lines.Line2D at 0x1d38531b550>,\n",
       " <matplotlib.lines.Line2D at 0x1d38531b640>,\n",
       " <matplotlib.lines.Line2D at 0x1d38531b730>,\n",
       " <matplotlib.lines.Line2D at 0x1d38531b820>,\n",
       " <matplotlib.lines.Line2D at 0x1d38531b910>,\n",
       " <matplotlib.lines.Line2D at 0x1d38531ba00>,\n",
       " <matplotlib.lines.Line2D at 0x1d38531baf0>,\n",
       " <matplotlib.lines.Line2D at 0x1d38531bbe0>,\n",
       " <matplotlib.lines.Line2D at 0x1d38531bcd0>,\n",
       " <matplotlib.lines.Line2D at 0x1d38531bdc0>,\n",
       " <matplotlib.lines.Line2D at 0x1d38531beb0>,\n",
       " <matplotlib.lines.Line2D at 0x1d38531bfa0>,\n",
       " <matplotlib.lines.Line2D at 0x1d3853340d0>,\n",
       " <matplotlib.lines.Line2D at 0x1d3853341c0>,\n",
       " <matplotlib.lines.Line2D at 0x1d3853342b0>,\n",
       " <matplotlib.lines.Line2D at 0x1d3853343a0>,\n",
       " <matplotlib.lines.Line2D at 0x1d385334490>,\n",
       " <matplotlib.lines.Line2D at 0x1d385334580>,\n",
       " <matplotlib.lines.Line2D at 0x1d385334670>,\n",
       " <matplotlib.lines.Line2D at 0x1d385334760>,\n",
       " <matplotlib.lines.Line2D at 0x1d385334850>,\n",
       " <matplotlib.lines.Line2D at 0x1d385334940>,\n",
       " <matplotlib.lines.Line2D at 0x1d385334a30>,\n",
       " <matplotlib.lines.Line2D at 0x1d385334b20>,\n",
       " <matplotlib.lines.Line2D at 0x1d385334c10>,\n",
       " <matplotlib.lines.Line2D at 0x1d385334d00>,\n",
       " <matplotlib.lines.Line2D at 0x1d385334df0>,\n",
       " <matplotlib.lines.Line2D at 0x1d385334ee0>,\n",
       " <matplotlib.lines.Line2D at 0x1d385334fd0>,\n",
       " <matplotlib.lines.Line2D at 0x1d3853350c0>,\n",
       " <matplotlib.lines.Line2D at 0x1d3853351b0>,\n",
       " <matplotlib.lines.Line2D at 0x1d3853352a0>,\n",
       " <matplotlib.lines.Line2D at 0x1d385335390>,\n",
       " <matplotlib.lines.Line2D at 0x1d385335480>,\n",
       " <matplotlib.lines.Line2D at 0x1d385335570>,\n",
       " <matplotlib.lines.Line2D at 0x1d385335660>,\n",
       " <matplotlib.lines.Line2D at 0x1d385335750>,\n",
       " <matplotlib.lines.Line2D at 0x1d385335840>,\n",
       " <matplotlib.lines.Line2D at 0x1d385335930>,\n",
       " <matplotlib.lines.Line2D at 0x1d385335a20>,\n",
       " <matplotlib.lines.Line2D at 0x1d385335b10>,\n",
       " <matplotlib.lines.Line2D at 0x1d385335c00>,\n",
       " <matplotlib.lines.Line2D at 0x1d385335cf0>,\n",
       " <matplotlib.lines.Line2D at 0x1d385335de0>,\n",
       " <matplotlib.lines.Line2D at 0x1d385335ed0>,\n",
       " <matplotlib.lines.Line2D at 0x1d385335fc0>,\n",
       " <matplotlib.lines.Line2D at 0x1d3853360b0>,\n",
       " <matplotlib.lines.Line2D at 0x1d3853361a0>,\n",
       " <matplotlib.lines.Line2D at 0x1d385336290>,\n",
       " <matplotlib.lines.Line2D at 0x1d385336380>,\n",
       " <matplotlib.lines.Line2D at 0x1d385336470>,\n",
       " <matplotlib.lines.Line2D at 0x1d385336560>,\n",
       " <matplotlib.lines.Line2D at 0x1d385336650>,\n",
       " <matplotlib.lines.Line2D at 0x1d385336740>,\n",
       " <matplotlib.lines.Line2D at 0x1d385336830>,\n",
       " <matplotlib.lines.Line2D at 0x1d385336920>,\n",
       " <matplotlib.lines.Line2D at 0x1d385336a10>,\n",
       " <matplotlib.lines.Line2D at 0x1d385336b00>,\n",
       " <matplotlib.lines.Line2D at 0x1d385336bf0>,\n",
       " <matplotlib.lines.Line2D at 0x1d385336ce0>,\n",
       " <matplotlib.lines.Line2D at 0x1d385336dd0>,\n",
       " <matplotlib.lines.Line2D at 0x1d385336ec0>,\n",
       " <matplotlib.lines.Line2D at 0x1d385336fb0>,\n",
       " <matplotlib.lines.Line2D at 0x1d3853370a0>,\n",
       " <matplotlib.lines.Line2D at 0x1d385337190>,\n",
       " <matplotlib.lines.Line2D at 0x1d385337280>,\n",
       " <matplotlib.lines.Line2D at 0x1d385337370>,\n",
       " <matplotlib.lines.Line2D at 0x1d385337460>,\n",
       " <matplotlib.lines.Line2D at 0x1d385337550>,\n",
       " <matplotlib.lines.Line2D at 0x1d385337640>,\n",
       " <matplotlib.lines.Line2D at 0x1d385337730>,\n",
       " <matplotlib.lines.Line2D at 0x1d385337820>,\n",
       " <matplotlib.lines.Line2D at 0x1d385337910>,\n",
       " <matplotlib.lines.Line2D at 0x1d385337a00>,\n",
       " <matplotlib.lines.Line2D at 0x1d385337af0>,\n",
       " <matplotlib.lines.Line2D at 0x1d385337be0>,\n",
       " <matplotlib.lines.Line2D at 0x1d385337cd0>,\n",
       " <matplotlib.lines.Line2D at 0x1d385337dc0>,\n",
       " <matplotlib.lines.Line2D at 0x1d385337eb0>,\n",
       " <matplotlib.lines.Line2D at 0x1d385337fa0>,\n",
       " <matplotlib.lines.Line2D at 0x1d3853540d0>,\n",
       " <matplotlib.lines.Line2D at 0x1d3853541c0>,\n",
       " <matplotlib.lines.Line2D at 0x1d3853542b0>,\n",
       " <matplotlib.lines.Line2D at 0x1d3853543a0>,\n",
       " <matplotlib.lines.Line2D at 0x1d385354490>,\n",
       " <matplotlib.lines.Line2D at 0x1d385354580>,\n",
       " <matplotlib.lines.Line2D at 0x1d385354670>,\n",
       " <matplotlib.lines.Line2D at 0x1d385354760>,\n",
       " <matplotlib.lines.Line2D at 0x1d385354850>,\n",
       " <matplotlib.lines.Line2D at 0x1d385354940>,\n",
       " <matplotlib.lines.Line2D at 0x1d385354a30>,\n",
       " <matplotlib.lines.Line2D at 0x1d385354b20>,\n",
       " <matplotlib.lines.Line2D at 0x1d385354c10>,\n",
       " <matplotlib.lines.Line2D at 0x1d385354d00>,\n",
       " <matplotlib.lines.Line2D at 0x1d385354df0>,\n",
       " <matplotlib.lines.Line2D at 0x1d385354ee0>,\n",
       " <matplotlib.lines.Line2D at 0x1d385354fd0>,\n",
       " <matplotlib.lines.Line2D at 0x1d3853550c0>,\n",
       " <matplotlib.lines.Line2D at 0x1d3853551b0>,\n",
       " <matplotlib.lines.Line2D at 0x1d3853552a0>,\n",
       " <matplotlib.lines.Line2D at 0x1d385355390>,\n",
       " <matplotlib.lines.Line2D at 0x1d385355480>,\n",
       " <matplotlib.lines.Line2D at 0x1d385355570>,\n",
       " <matplotlib.lines.Line2D at 0x1d385355660>,\n",
       " <matplotlib.lines.Line2D at 0x1d385355750>,\n",
       " <matplotlib.lines.Line2D at 0x1d385355840>,\n",
       " <matplotlib.lines.Line2D at 0x1d385355930>,\n",
       " <matplotlib.lines.Line2D at 0x1d385355a20>,\n",
       " <matplotlib.lines.Line2D at 0x1d385355b10>,\n",
       " <matplotlib.lines.Line2D at 0x1d385355c00>,\n",
       " <matplotlib.lines.Line2D at 0x1d385355cf0>,\n",
       " <matplotlib.lines.Line2D at 0x1d385355de0>,\n",
       " <matplotlib.lines.Line2D at 0x1d385355ed0>,\n",
       " <matplotlib.lines.Line2D at 0x1d385355fc0>,\n",
       " <matplotlib.lines.Line2D at 0x1d3853560b0>,\n",
       " <matplotlib.lines.Line2D at 0x1d3853561a0>,\n",
       " <matplotlib.lines.Line2D at 0x1d385356290>,\n",
       " <matplotlib.lines.Line2D at 0x1d385356380>,\n",
       " <matplotlib.lines.Line2D at 0x1d385356470>,\n",
       " <matplotlib.lines.Line2D at 0x1d385356560>,\n",
       " <matplotlib.lines.Line2D at 0x1d385356650>,\n",
       " <matplotlib.lines.Line2D at 0x1d385356740>,\n",
       " <matplotlib.lines.Line2D at 0x1d385356830>,\n",
       " <matplotlib.lines.Line2D at 0x1d385356920>,\n",
       " <matplotlib.lines.Line2D at 0x1d385356a10>,\n",
       " <matplotlib.lines.Line2D at 0x1d385356b00>,\n",
       " <matplotlib.lines.Line2D at 0x1d385356bf0>,\n",
       " <matplotlib.lines.Line2D at 0x1d385356ce0>,\n",
       " <matplotlib.lines.Line2D at 0x1d385356dd0>,\n",
       " <matplotlib.lines.Line2D at 0x1d385356ec0>,\n",
       " <matplotlib.lines.Line2D at 0x1d385356fb0>,\n",
       " <matplotlib.lines.Line2D at 0x1d3853570a0>,\n",
       " <matplotlib.lines.Line2D at 0x1d385357190>,\n",
       " <matplotlib.lines.Line2D at 0x1d385357280>,\n",
       " <matplotlib.lines.Line2D at 0x1d385357370>,\n",
       " <matplotlib.lines.Line2D at 0x1d385357460>,\n",
       " <matplotlib.lines.Line2D at 0x1d385357550>,\n",
       " <matplotlib.lines.Line2D at 0x1d385357640>,\n",
       " <matplotlib.lines.Line2D at 0x1d385357730>,\n",
       " <matplotlib.lines.Line2D at 0x1d385357820>,\n",
       " <matplotlib.lines.Line2D at 0x1d385357910>,\n",
       " <matplotlib.lines.Line2D at 0x1d385357a00>,\n",
       " <matplotlib.lines.Line2D at 0x1d385357af0>,\n",
       " <matplotlib.lines.Line2D at 0x1d385357be0>,\n",
       " <matplotlib.lines.Line2D at 0x1d385357cd0>,\n",
       " <matplotlib.lines.Line2D at 0x1d385357dc0>,\n",
       " <matplotlib.lines.Line2D at 0x1d385357eb0>,\n",
       " <matplotlib.lines.Line2D at 0x1d385357fa0>,\n",
       " <matplotlib.lines.Line2D at 0x1d38537c0d0>,\n",
       " <matplotlib.lines.Line2D at 0x1d38537c1c0>,\n",
       " <matplotlib.lines.Line2D at 0x1d38537c2b0>,\n",
       " <matplotlib.lines.Line2D at 0x1d38537c3a0>,\n",
       " <matplotlib.lines.Line2D at 0x1d38537c490>,\n",
       " <matplotlib.lines.Line2D at 0x1d38537c580>,\n",
       " <matplotlib.lines.Line2D at 0x1d38537c670>,\n",
       " <matplotlib.lines.Line2D at 0x1d38537c760>,\n",
       " <matplotlib.lines.Line2D at 0x1d38537c850>,\n",
       " <matplotlib.lines.Line2D at 0x1d38537c940>,\n",
       " <matplotlib.lines.Line2D at 0x1d38537ca30>,\n",
       " <matplotlib.lines.Line2D at 0x1d38537cb20>,\n",
       " <matplotlib.lines.Line2D at 0x1d38537cc10>,\n",
       " <matplotlib.lines.Line2D at 0x1d38537cd00>,\n",
       " <matplotlib.lines.Line2D at 0x1d38537cdf0>,\n",
       " <matplotlib.lines.Line2D at 0x1d38537cee0>,\n",
       " <matplotlib.lines.Line2D at 0x1d38537cfd0>,\n",
       " <matplotlib.lines.Line2D at 0x1d38537d0c0>,\n",
       " <matplotlib.lines.Line2D at 0x1d38537d1b0>,\n",
       " <matplotlib.lines.Line2D at 0x1d38537d2a0>,\n",
       " <matplotlib.lines.Line2D at 0x1d38537d390>,\n",
       " <matplotlib.lines.Line2D at 0x1d38537d480>,\n",
       " <matplotlib.lines.Line2D at 0x1d38537d570>,\n",
       " <matplotlib.lines.Line2D at 0x1d38537d660>,\n",
       " <matplotlib.lines.Line2D at 0x1d38537d750>,\n",
       " <matplotlib.lines.Line2D at 0x1d38537d840>,\n",
       " <matplotlib.lines.Line2D at 0x1d38537d930>,\n",
       " <matplotlib.lines.Line2D at 0x1d38537da20>,\n",
       " <matplotlib.lines.Line2D at 0x1d38537db10>,\n",
       " <matplotlib.lines.Line2D at 0x1d38537dc00>,\n",
       " <matplotlib.lines.Line2D at 0x1d38537dcf0>,\n",
       " <matplotlib.lines.Line2D at 0x1d38537dde0>,\n",
       " <matplotlib.lines.Line2D at 0x1d38537ded0>,\n",
       " <matplotlib.lines.Line2D at 0x1d38537dfc0>,\n",
       " <matplotlib.lines.Line2D at 0x1d38537e0b0>,\n",
       " <matplotlib.lines.Line2D at 0x1d38537e1a0>,\n",
       " <matplotlib.lines.Line2D at 0x1d38537e290>,\n",
       " <matplotlib.lines.Line2D at 0x1d38537e380>,\n",
       " <matplotlib.lines.Line2D at 0x1d38537e470>,\n",
       " <matplotlib.lines.Line2D at 0x1d38537e560>,\n",
       " <matplotlib.lines.Line2D at 0x1d38537e650>,\n",
       " <matplotlib.lines.Line2D at 0x1d38537e740>,\n",
       " <matplotlib.lines.Line2D at 0x1d38537e830>,\n",
       " <matplotlib.lines.Line2D at 0x1d38537e920>,\n",
       " <matplotlib.lines.Line2D at 0x1d38537ea10>,\n",
       " <matplotlib.lines.Line2D at 0x1d38537eb00>,\n",
       " <matplotlib.lines.Line2D at 0x1d38537ebf0>,\n",
       " <matplotlib.lines.Line2D at 0x1d38537ece0>,\n",
       " <matplotlib.lines.Line2D at 0x1d38537edd0>,\n",
       " <matplotlib.lines.Line2D at 0x1d38537eec0>,\n",
       " <matplotlib.lines.Line2D at 0x1d38537efb0>,\n",
       " <matplotlib.lines.Line2D at 0x1d38537f0a0>,\n",
       " <matplotlib.lines.Line2D at 0x1d38537f190>,\n",
       " <matplotlib.lines.Line2D at 0x1d38537f280>,\n",
       " <matplotlib.lines.Line2D at 0x1d38537f370>,\n",
       " <matplotlib.lines.Line2D at 0x1d38537f460>,\n",
       " <matplotlib.lines.Line2D at 0x1d38537f550>,\n",
       " <matplotlib.lines.Line2D at 0x1d38537f640>,\n",
       " <matplotlib.lines.Line2D at 0x1d38537f730>,\n",
       " <matplotlib.lines.Line2D at 0x1d38537f820>,\n",
       " <matplotlib.lines.Line2D at 0x1d38537f910>,\n",
       " <matplotlib.lines.Line2D at 0x1d38537fa00>,\n",
       " <matplotlib.lines.Line2D at 0x1d38537faf0>,\n",
       " <matplotlib.lines.Line2D at 0x1d38537fbe0>,\n",
       " <matplotlib.lines.Line2D at 0x1d38537fcd0>,\n",
       " <matplotlib.lines.Line2D at 0x1d38537fdc0>,\n",
       " <matplotlib.lines.Line2D at 0x1d38537feb0>,\n",
       " <matplotlib.lines.Line2D at 0x1d38537ffa0>,\n",
       " <matplotlib.lines.Line2D at 0x1d3853980d0>,\n",
       " <matplotlib.lines.Line2D at 0x1d3853981c0>,\n",
       " <matplotlib.lines.Line2D at 0x1d3853982b0>,\n",
       " <matplotlib.lines.Line2D at 0x1d3853983a0>,\n",
       " <matplotlib.lines.Line2D at 0x1d385398490>,\n",
       " <matplotlib.lines.Line2D at 0x1d385398580>,\n",
       " <matplotlib.lines.Line2D at 0x1d385398670>,\n",
       " <matplotlib.lines.Line2D at 0x1d385398760>,\n",
       " <matplotlib.lines.Line2D at 0x1d385398850>,\n",
       " <matplotlib.lines.Line2D at 0x1d385398940>,\n",
       " <matplotlib.lines.Line2D at 0x1d385398a30>,\n",
       " <matplotlib.lines.Line2D at 0x1d385398b20>,\n",
       " <matplotlib.lines.Line2D at 0x1d385398c10>,\n",
       " <matplotlib.lines.Line2D at 0x1d385398d00>,\n",
       " <matplotlib.lines.Line2D at 0x1d385398df0>,\n",
       " <matplotlib.lines.Line2D at 0x1d385398ee0>,\n",
       " <matplotlib.lines.Line2D at 0x1d385398fd0>,\n",
       " <matplotlib.lines.Line2D at 0x1d3853990c0>,\n",
       " <matplotlib.lines.Line2D at 0x1d3853991b0>,\n",
       " <matplotlib.lines.Line2D at 0x1d3853992a0>,\n",
       " <matplotlib.lines.Line2D at 0x1d385399390>,\n",
       " <matplotlib.lines.Line2D at 0x1d385399480>,\n",
       " <matplotlib.lines.Line2D at 0x1d385399570>,\n",
       " <matplotlib.lines.Line2D at 0x1d385399660>,\n",
       " <matplotlib.lines.Line2D at 0x1d385399750>,\n",
       " <matplotlib.lines.Line2D at 0x1d385399840>,\n",
       " <matplotlib.lines.Line2D at 0x1d385399930>,\n",
       " <matplotlib.lines.Line2D at 0x1d385399a20>,\n",
       " <matplotlib.lines.Line2D at 0x1d385399b10>,\n",
       " <matplotlib.lines.Line2D at 0x1d385399c00>,\n",
       " <matplotlib.lines.Line2D at 0x1d385399cf0>,\n",
       " <matplotlib.lines.Line2D at 0x1d385399de0>,\n",
       " <matplotlib.lines.Line2D at 0x1d385399ed0>,\n",
       " <matplotlib.lines.Line2D at 0x1d385399fc0>,\n",
       " <matplotlib.lines.Line2D at 0x1d38539a0b0>,\n",
       " <matplotlib.lines.Line2D at 0x1d38539a1a0>,\n",
       " <matplotlib.lines.Line2D at 0x1d38539a290>,\n",
       " <matplotlib.lines.Line2D at 0x1d38539a380>,\n",
       " <matplotlib.lines.Line2D at 0x1d38539a470>,\n",
       " <matplotlib.lines.Line2D at 0x1d38539a560>,\n",
       " <matplotlib.lines.Line2D at 0x1d38539a650>,\n",
       " <matplotlib.lines.Line2D at 0x1d38539a740>,\n",
       " <matplotlib.lines.Line2D at 0x1d38539a830>,\n",
       " <matplotlib.lines.Line2D at 0x1d38539a920>,\n",
       " <matplotlib.lines.Line2D at 0x1d38539aa10>,\n",
       " <matplotlib.lines.Line2D at 0x1d38539ab00>,\n",
       " <matplotlib.lines.Line2D at 0x1d38539abf0>,\n",
       " <matplotlib.lines.Line2D at 0x1d38539ace0>,\n",
       " <matplotlib.lines.Line2D at 0x1d38539add0>,\n",
       " <matplotlib.lines.Line2D at 0x1d38539aec0>,\n",
       " <matplotlib.lines.Line2D at 0x1d38539afb0>,\n",
       " <matplotlib.lines.Line2D at 0x1d38539b0a0>,\n",
       " <matplotlib.lines.Line2D at 0x1d38539b190>,\n",
       " <matplotlib.lines.Line2D at 0x1d38539b280>,\n",
       " <matplotlib.lines.Line2D at 0x1d38539b370>,\n",
       " <matplotlib.lines.Line2D at 0x1d38539b460>,\n",
       " <matplotlib.lines.Line2D at 0x1d38539b550>,\n",
       " <matplotlib.lines.Line2D at 0x1d38539b640>,\n",
       " <matplotlib.lines.Line2D at 0x1d38539b730>,\n",
       " <matplotlib.lines.Line2D at 0x1d38539b820>,\n",
       " <matplotlib.lines.Line2D at 0x1d38539b910>,\n",
       " <matplotlib.lines.Line2D at 0x1d38539ba00>,\n",
       " <matplotlib.lines.Line2D at 0x1d38539baf0>,\n",
       " <matplotlib.lines.Line2D at 0x1d38539bbe0>,\n",
       " <matplotlib.lines.Line2D at 0x1d38539bcd0>,\n",
       " <matplotlib.lines.Line2D at 0x1d38539bdc0>,\n",
       " <matplotlib.lines.Line2D at 0x1d38539beb0>,\n",
       " <matplotlib.lines.Line2D at 0x1d38539bfa0>,\n",
       " <matplotlib.lines.Line2D at 0x1d3853bc0d0>,\n",
       " <matplotlib.lines.Line2D at 0x1d3853bc1c0>,\n",
       " <matplotlib.lines.Line2D at 0x1d3853bc2b0>,\n",
       " <matplotlib.lines.Line2D at 0x1d3853bc3a0>,\n",
       " <matplotlib.lines.Line2D at 0x1d3853bc490>,\n",
       " <matplotlib.lines.Line2D at 0x1d3853bc580>,\n",
       " <matplotlib.lines.Line2D at 0x1d3853bc670>,\n",
       " <matplotlib.lines.Line2D at 0x1d3853bc760>,\n",
       " <matplotlib.lines.Line2D at 0x1d3853bc850>,\n",
       " <matplotlib.lines.Line2D at 0x1d3853bc940>,\n",
       " <matplotlib.lines.Line2D at 0x1d3853bca30>,\n",
       " <matplotlib.lines.Line2D at 0x1d3853bcb20>,\n",
       " <matplotlib.lines.Line2D at 0x1d3853bcc10>,\n",
       " <matplotlib.lines.Line2D at 0x1d3853bcd00>,\n",
       " <matplotlib.lines.Line2D at 0x1d3853bcdf0>,\n",
       " <matplotlib.lines.Line2D at 0x1d3853bcee0>,\n",
       " <matplotlib.lines.Line2D at 0x1d3853bcfd0>,\n",
       " <matplotlib.lines.Line2D at 0x1d3853bd0c0>,\n",
       " <matplotlib.lines.Line2D at 0x1d3853bd1b0>,\n",
       " <matplotlib.lines.Line2D at 0x1d3853bd2a0>,\n",
       " <matplotlib.lines.Line2D at 0x1d3853bd390>,\n",
       " <matplotlib.lines.Line2D at 0x1d3853bd480>,\n",
       " <matplotlib.lines.Line2D at 0x1d3853bd570>,\n",
       " <matplotlib.lines.Line2D at 0x1d3853bd660>,\n",
       " <matplotlib.lines.Line2D at 0x1d3853bd750>,\n",
       " <matplotlib.lines.Line2D at 0x1d3853bd840>,\n",
       " <matplotlib.lines.Line2D at 0x1d3853bd930>,\n",
       " <matplotlib.lines.Line2D at 0x1d3853bda20>,\n",
       " <matplotlib.lines.Line2D at 0x1d3853bdb10>,\n",
       " ...]"
      ]
     },
     "execution_count": 19,
     "metadata": {},
     "output_type": "execute_result"
    },
    {
     "name": "stdout",
     "output_type": "stream",
     "text": [
      "Error in callback <function _draw_all_if_interactive at 0x000001D3BE369990> (for post_execute):\n"
     ]
    },
    {
     "ename": "KeyboardInterrupt",
     "evalue": "",
     "output_type": "error",
     "traceback": [
      "\u001b[1;31m---------------------------------------------------------------------------\u001b[0m",
      "\u001b[1;31mKeyboardInterrupt\u001b[0m                         Traceback (most recent call last)",
      "File \u001b[1;32mc:\\users\\efons\\anaconda3\\envs\\venv\\lib\\site-packages\\matplotlib-3.6.2-py3.10-win-amd64.egg\\matplotlib\\pyplot.py:119\u001b[0m, in \u001b[0;36m_draw_all_if_interactive\u001b[1;34m()\u001b[0m\n\u001b[0;32m    117\u001b[0m \u001b[39mdef\u001b[39;00m \u001b[39m_draw_all_if_interactive\u001b[39m():\n\u001b[0;32m    118\u001b[0m     \u001b[39mif\u001b[39;00m matplotlib\u001b[39m.\u001b[39mis_interactive():\n\u001b[1;32m--> 119\u001b[0m         draw_all()\n",
      "File \u001b[1;32mc:\\users\\efons\\anaconda3\\envs\\venv\\lib\\site-packages\\matplotlib-3.6.2-py3.10-win-amd64.egg\\matplotlib\\_pylab_helpers.py:132\u001b[0m, in \u001b[0;36mGcf.draw_all\u001b[1;34m(cls, force)\u001b[0m\n\u001b[0;32m    130\u001b[0m \u001b[39mfor\u001b[39;00m manager \u001b[39min\u001b[39;00m \u001b[39mcls\u001b[39m\u001b[39m.\u001b[39mget_all_fig_managers():\n\u001b[0;32m    131\u001b[0m     \u001b[39mif\u001b[39;00m force \u001b[39mor\u001b[39;00m manager\u001b[39m.\u001b[39mcanvas\u001b[39m.\u001b[39mfigure\u001b[39m.\u001b[39mstale:\n\u001b[1;32m--> 132\u001b[0m         manager\u001b[39m.\u001b[39;49mcanvas\u001b[39m.\u001b[39;49mdraw_idle()\n",
      "File \u001b[1;32mc:\\users\\efons\\anaconda3\\envs\\venv\\lib\\site-packages\\matplotlib-3.6.2-py3.10-win-amd64.egg\\matplotlib\\backend_bases.py:2054\u001b[0m, in \u001b[0;36mFigureCanvasBase.draw_idle\u001b[1;34m(self, *args, **kwargs)\u001b[0m\n\u001b[0;32m   2052\u001b[0m \u001b[39mif\u001b[39;00m \u001b[39mnot\u001b[39;00m \u001b[39mself\u001b[39m\u001b[39m.\u001b[39m_is_idle_drawing:\n\u001b[0;32m   2053\u001b[0m     \u001b[39mwith\u001b[39;00m \u001b[39mself\u001b[39m\u001b[39m.\u001b[39m_idle_draw_cntx():\n\u001b[1;32m-> 2054\u001b[0m         \u001b[39mself\u001b[39m\u001b[39m.\u001b[39mdraw(\u001b[39m*\u001b[39margs, \u001b[39m*\u001b[39m\u001b[39m*\u001b[39mkwargs)\n",
      "File \u001b[1;32mc:\\users\\efons\\anaconda3\\envs\\venv\\lib\\site-packages\\matplotlib-3.6.2-py3.10-win-amd64.egg\\matplotlib\\backends\\backend_agg.py:405\u001b[0m, in \u001b[0;36mFigureCanvasAgg.draw\u001b[1;34m(self)\u001b[0m\n\u001b[0;32m    401\u001b[0m \u001b[39m# Acquire a lock on the shared font cache.\u001b[39;00m\n\u001b[0;32m    402\u001b[0m \u001b[39mwith\u001b[39;00m RendererAgg\u001b[39m.\u001b[39mlock, \\\n\u001b[0;32m    403\u001b[0m      (\u001b[39mself\u001b[39m\u001b[39m.\u001b[39mtoolbar\u001b[39m.\u001b[39m_wait_cursor_for_draw_cm() \u001b[39mif\u001b[39;00m \u001b[39mself\u001b[39m\u001b[39m.\u001b[39mtoolbar\n\u001b[0;32m    404\u001b[0m       \u001b[39melse\u001b[39;00m nullcontext()):\n\u001b[1;32m--> 405\u001b[0m     \u001b[39mself\u001b[39;49m\u001b[39m.\u001b[39;49mfigure\u001b[39m.\u001b[39;49mdraw(\u001b[39mself\u001b[39;49m\u001b[39m.\u001b[39;49mrenderer)\n\u001b[0;32m    406\u001b[0m     \u001b[39m# A GUI class may be need to update a window using this draw, so\u001b[39;00m\n\u001b[0;32m    407\u001b[0m     \u001b[39m# don't forget to call the superclass.\u001b[39;00m\n\u001b[0;32m    408\u001b[0m     \u001b[39msuper\u001b[39m()\u001b[39m.\u001b[39mdraw()\n",
      "File \u001b[1;32mc:\\users\\efons\\anaconda3\\envs\\venv\\lib\\site-packages\\matplotlib-3.6.2-py3.10-win-amd64.egg\\matplotlib\\artist.py:74\u001b[0m, in \u001b[0;36m_finalize_rasterization.<locals>.draw_wrapper\u001b[1;34m(artist, renderer, *args, **kwargs)\u001b[0m\n\u001b[0;32m     72\u001b[0m \u001b[39m@wraps\u001b[39m(draw)\n\u001b[0;32m     73\u001b[0m \u001b[39mdef\u001b[39;00m \u001b[39mdraw_wrapper\u001b[39m(artist, renderer, \u001b[39m*\u001b[39margs, \u001b[39m*\u001b[39m\u001b[39m*\u001b[39mkwargs):\n\u001b[1;32m---> 74\u001b[0m     result \u001b[39m=\u001b[39m draw(artist, renderer, \u001b[39m*\u001b[39margs, \u001b[39m*\u001b[39m\u001b[39m*\u001b[39mkwargs)\n\u001b[0;32m     75\u001b[0m     \u001b[39mif\u001b[39;00m renderer\u001b[39m.\u001b[39m_rasterizing:\n\u001b[0;32m     76\u001b[0m         renderer\u001b[39m.\u001b[39mstop_rasterizing()\n",
      "File \u001b[1;32mc:\\users\\efons\\anaconda3\\envs\\venv\\lib\\site-packages\\matplotlib-3.6.2-py3.10-win-amd64.egg\\matplotlib\\artist.py:51\u001b[0m, in \u001b[0;36mallow_rasterization.<locals>.draw_wrapper\u001b[1;34m(artist, renderer)\u001b[0m\n\u001b[0;32m     48\u001b[0m     \u001b[39mif\u001b[39;00m artist\u001b[39m.\u001b[39mget_agg_filter() \u001b[39mis\u001b[39;00m \u001b[39mnot\u001b[39;00m \u001b[39mNone\u001b[39;00m:\n\u001b[0;32m     49\u001b[0m         renderer\u001b[39m.\u001b[39mstart_filter()\n\u001b[1;32m---> 51\u001b[0m     \u001b[39mreturn\u001b[39;00m draw(artist, renderer)\n\u001b[0;32m     52\u001b[0m \u001b[39mfinally\u001b[39;00m:\n\u001b[0;32m     53\u001b[0m     \u001b[39mif\u001b[39;00m artist\u001b[39m.\u001b[39mget_agg_filter() \u001b[39mis\u001b[39;00m \u001b[39mnot\u001b[39;00m \u001b[39mNone\u001b[39;00m:\n",
      "File \u001b[1;32mc:\\users\\efons\\anaconda3\\envs\\venv\\lib\\site-packages\\matplotlib-3.6.2-py3.10-win-amd64.egg\\matplotlib\\figure.py:3071\u001b[0m, in \u001b[0;36mFigure.draw\u001b[1;34m(self, renderer)\u001b[0m\n\u001b[0;32m   3068\u001b[0m         \u001b[39m# ValueError can occur when resizing a window.\u001b[39;00m\n\u001b[0;32m   3070\u001b[0m \u001b[39mself\u001b[39m\u001b[39m.\u001b[39mpatch\u001b[39m.\u001b[39mdraw(renderer)\n\u001b[1;32m-> 3071\u001b[0m mimage\u001b[39m.\u001b[39;49m_draw_list_compositing_images(\n\u001b[0;32m   3072\u001b[0m     renderer, \u001b[39mself\u001b[39;49m, artists, \u001b[39mself\u001b[39;49m\u001b[39m.\u001b[39;49msuppressComposite)\n\u001b[0;32m   3074\u001b[0m \u001b[39mfor\u001b[39;00m sfig \u001b[39min\u001b[39;00m \u001b[39mself\u001b[39m\u001b[39m.\u001b[39msubfigs:\n\u001b[0;32m   3075\u001b[0m     sfig\u001b[39m.\u001b[39mdraw(renderer)\n",
      "File \u001b[1;32mc:\\users\\efons\\anaconda3\\envs\\venv\\lib\\site-packages\\matplotlib-3.6.2-py3.10-win-amd64.egg\\matplotlib\\image.py:131\u001b[0m, in \u001b[0;36m_draw_list_compositing_images\u001b[1;34m(renderer, parent, artists, suppress_composite)\u001b[0m\n\u001b[0;32m    129\u001b[0m \u001b[39mif\u001b[39;00m not_composite \u001b[39mor\u001b[39;00m \u001b[39mnot\u001b[39;00m has_images:\n\u001b[0;32m    130\u001b[0m     \u001b[39mfor\u001b[39;00m a \u001b[39min\u001b[39;00m artists:\n\u001b[1;32m--> 131\u001b[0m         a\u001b[39m.\u001b[39;49mdraw(renderer)\n\u001b[0;32m    132\u001b[0m \u001b[39melse\u001b[39;00m:\n\u001b[0;32m    133\u001b[0m     \u001b[39m# Composite any adjacent images together\u001b[39;00m\n\u001b[0;32m    134\u001b[0m     image_group \u001b[39m=\u001b[39m []\n",
      "File \u001b[1;32mc:\\users\\efons\\anaconda3\\envs\\venv\\lib\\site-packages\\matplotlib-3.6.2-py3.10-win-amd64.egg\\matplotlib\\artist.py:51\u001b[0m, in \u001b[0;36mallow_rasterization.<locals>.draw_wrapper\u001b[1;34m(artist, renderer)\u001b[0m\n\u001b[0;32m     48\u001b[0m     \u001b[39mif\u001b[39;00m artist\u001b[39m.\u001b[39mget_agg_filter() \u001b[39mis\u001b[39;00m \u001b[39mnot\u001b[39;00m \u001b[39mNone\u001b[39;00m:\n\u001b[0;32m     49\u001b[0m         renderer\u001b[39m.\u001b[39mstart_filter()\n\u001b[1;32m---> 51\u001b[0m     \u001b[39mreturn\u001b[39;00m draw(artist, renderer)\n\u001b[0;32m     52\u001b[0m \u001b[39mfinally\u001b[39;00m:\n\u001b[0;32m     53\u001b[0m     \u001b[39mif\u001b[39;00m artist\u001b[39m.\u001b[39mget_agg_filter() \u001b[39mis\u001b[39;00m \u001b[39mnot\u001b[39;00m \u001b[39mNone\u001b[39;00m:\n",
      "File \u001b[1;32mc:\\users\\efons\\anaconda3\\envs\\venv\\lib\\site-packages\\matplotlib-3.6.2-py3.10-win-amd64.egg\\matplotlib\\axes\\_base.py:3107\u001b[0m, in \u001b[0;36m_AxesBase.draw\u001b[1;34m(self, renderer)\u001b[0m\n\u001b[0;32m   3104\u001b[0m         a\u001b[39m.\u001b[39mdraw(renderer)\n\u001b[0;32m   3105\u001b[0m     renderer\u001b[39m.\u001b[39mstop_rasterizing()\n\u001b[1;32m-> 3107\u001b[0m mimage\u001b[39m.\u001b[39;49m_draw_list_compositing_images(\n\u001b[0;32m   3108\u001b[0m     renderer, \u001b[39mself\u001b[39;49m, artists, \u001b[39mself\u001b[39;49m\u001b[39m.\u001b[39;49mfigure\u001b[39m.\u001b[39;49msuppressComposite)\n\u001b[0;32m   3110\u001b[0m renderer\u001b[39m.\u001b[39mclose_group(\u001b[39m'\u001b[39m\u001b[39maxes\u001b[39m\u001b[39m'\u001b[39m)\n\u001b[0;32m   3111\u001b[0m \u001b[39mself\u001b[39m\u001b[39m.\u001b[39mstale \u001b[39m=\u001b[39m \u001b[39mFalse\u001b[39;00m\n",
      "File \u001b[1;32mc:\\users\\efons\\anaconda3\\envs\\venv\\lib\\site-packages\\matplotlib-3.6.2-py3.10-win-amd64.egg\\matplotlib\\image.py:131\u001b[0m, in \u001b[0;36m_draw_list_compositing_images\u001b[1;34m(renderer, parent, artists, suppress_composite)\u001b[0m\n\u001b[0;32m    129\u001b[0m \u001b[39mif\u001b[39;00m not_composite \u001b[39mor\u001b[39;00m \u001b[39mnot\u001b[39;00m has_images:\n\u001b[0;32m    130\u001b[0m     \u001b[39mfor\u001b[39;00m a \u001b[39min\u001b[39;00m artists:\n\u001b[1;32m--> 131\u001b[0m         a\u001b[39m.\u001b[39;49mdraw(renderer)\n\u001b[0;32m    132\u001b[0m \u001b[39melse\u001b[39;00m:\n\u001b[0;32m    133\u001b[0m     \u001b[39m# Composite any adjacent images together\u001b[39;00m\n\u001b[0;32m    134\u001b[0m     image_group \u001b[39m=\u001b[39m []\n",
      "File \u001b[1;32mc:\\users\\efons\\anaconda3\\envs\\venv\\lib\\site-packages\\matplotlib-3.6.2-py3.10-win-amd64.egg\\matplotlib\\artist.py:51\u001b[0m, in \u001b[0;36mallow_rasterization.<locals>.draw_wrapper\u001b[1;34m(artist, renderer)\u001b[0m\n\u001b[0;32m     48\u001b[0m     \u001b[39mif\u001b[39;00m artist\u001b[39m.\u001b[39mget_agg_filter() \u001b[39mis\u001b[39;00m \u001b[39mnot\u001b[39;00m \u001b[39mNone\u001b[39;00m:\n\u001b[0;32m     49\u001b[0m         renderer\u001b[39m.\u001b[39mstart_filter()\n\u001b[1;32m---> 51\u001b[0m     \u001b[39mreturn\u001b[39;00m draw(artist, renderer)\n\u001b[0;32m     52\u001b[0m \u001b[39mfinally\u001b[39;00m:\n\u001b[0;32m     53\u001b[0m     \u001b[39mif\u001b[39;00m artist\u001b[39m.\u001b[39mget_agg_filter() \u001b[39mis\u001b[39;00m \u001b[39mnot\u001b[39;00m \u001b[39mNone\u001b[39;00m:\n",
      "File \u001b[1;32mc:\\users\\efons\\anaconda3\\envs\\venv\\lib\\site-packages\\matplotlib-3.6.2-py3.10-win-amd64.egg\\matplotlib\\lines.py:800\u001b[0m, in \u001b[0;36mLine2D.draw\u001b[1;34m(self, renderer)\u001b[0m\n\u001b[0;32m    797\u001b[0m         gc\u001b[39m.\u001b[39mset_foreground(lc_rgba, isRGBA\u001b[39m=\u001b[39m\u001b[39mTrue\u001b[39;00m)\n\u001b[0;32m    799\u001b[0m         gc\u001b[39m.\u001b[39mset_dashes(\u001b[39m*\u001b[39m\u001b[39mself\u001b[39m\u001b[39m.\u001b[39m_dash_pattern)\n\u001b[1;32m--> 800\u001b[0m         renderer\u001b[39m.\u001b[39;49mdraw_path(gc, tpath, affine\u001b[39m.\u001b[39;49mfrozen())\n\u001b[0;32m    801\u001b[0m         gc\u001b[39m.\u001b[39mrestore()\n\u001b[0;32m    803\u001b[0m \u001b[39mif\u001b[39;00m \u001b[39mself\u001b[39m\u001b[39m.\u001b[39m_marker \u001b[39mand\u001b[39;00m \u001b[39mself\u001b[39m\u001b[39m.\u001b[39m_markersize \u001b[39m>\u001b[39m \u001b[39m0\u001b[39m:\n",
      "File \u001b[1;32mc:\\users\\efons\\anaconda3\\envs\\venv\\lib\\site-packages\\matplotlib-3.6.2-py3.10-win-amd64.egg\\matplotlib\\backends\\backend_agg.py:146\u001b[0m, in \u001b[0;36mRendererAgg.draw_path\u001b[1;34m(self, gc, path, transform, rgbFace)\u001b[0m\n\u001b[0;32m    144\u001b[0m \u001b[39melse\u001b[39;00m:\n\u001b[0;32m    145\u001b[0m     \u001b[39mtry\u001b[39;00m:\n\u001b[1;32m--> 146\u001b[0m         \u001b[39mself\u001b[39;49m\u001b[39m.\u001b[39;49m_renderer\u001b[39m.\u001b[39;49mdraw_path(gc, path, transform, rgbFace)\n\u001b[0;32m    147\u001b[0m     \u001b[39mexcept\u001b[39;00m \u001b[39mOverflowError\u001b[39;00m:\n\u001b[0;32m    148\u001b[0m         cant_chunk \u001b[39m=\u001b[39m \u001b[39m'\u001b[39m\u001b[39m'\u001b[39m\n",
      "File \u001b[1;32mc:\\users\\efons\\anaconda3\\envs\\venv\\lib\\site-packages\\matplotlib-3.6.2-py3.10-win-amd64.egg\\matplotlib\\transforms.py:251\u001b[0m, in \u001b[0;36mBboxBase.__array__\u001b[1;34m(self, *args, **kwargs)\u001b[0m\n\u001b[0;32m    250\u001b[0m \u001b[39mdef\u001b[39;00m \u001b[39m__array__\u001b[39m(\u001b[39mself\u001b[39m, \u001b[39m*\u001b[39margs, \u001b[39m*\u001b[39m\u001b[39m*\u001b[39mkwargs):\n\u001b[1;32m--> 251\u001b[0m     \u001b[39mreturn\u001b[39;00m \u001b[39mself\u001b[39;49m\u001b[39m.\u001b[39;49mget_points()\n",
      "File \u001b[1;32mc:\\users\\efons\\anaconda3\\envs\\venv\\lib\\site-packages\\matplotlib-3.6.2-py3.10-win-amd64.egg\\matplotlib\\transforms.py:1116\u001b[0m, in \u001b[0;36mTransformedBbox.get_points\u001b[1;34m(self)\u001b[0m\n\u001b[0;32m   1112\u001b[0m p \u001b[39m=\u001b[39m \u001b[39mself\u001b[39m\u001b[39m.\u001b[39m_bbox\u001b[39m.\u001b[39mget_points()\n\u001b[0;32m   1113\u001b[0m \u001b[39m# Transform all four points, then make a new bounding box\u001b[39;00m\n\u001b[0;32m   1114\u001b[0m \u001b[39m# from the result, taking care to make the orientation the\u001b[39;00m\n\u001b[0;32m   1115\u001b[0m \u001b[39m# same.\u001b[39;00m\n\u001b[1;32m-> 1116\u001b[0m points \u001b[39m=\u001b[39m \u001b[39mself\u001b[39;49m\u001b[39m.\u001b[39;49m_transform\u001b[39m.\u001b[39;49mtransform(\n\u001b[0;32m   1117\u001b[0m     [[p[\u001b[39m0\u001b[39;49m, \u001b[39m0\u001b[39;49m], p[\u001b[39m0\u001b[39;49m, \u001b[39m1\u001b[39;49m]],\n\u001b[0;32m   1118\u001b[0m      [p[\u001b[39m1\u001b[39;49m, \u001b[39m0\u001b[39;49m], p[\u001b[39m0\u001b[39;49m, \u001b[39m1\u001b[39;49m]],\n\u001b[0;32m   1119\u001b[0m      [p[\u001b[39m0\u001b[39;49m, \u001b[39m0\u001b[39;49m], p[\u001b[39m1\u001b[39;49m, \u001b[39m1\u001b[39;49m]],\n\u001b[0;32m   1120\u001b[0m      [p[\u001b[39m1\u001b[39;49m, \u001b[39m0\u001b[39;49m], p[\u001b[39m1\u001b[39;49m, \u001b[39m1\u001b[39;49m]]])\n\u001b[0;32m   1121\u001b[0m points \u001b[39m=\u001b[39m np\u001b[39m.\u001b[39mma\u001b[39m.\u001b[39mfilled(points, \u001b[39m0.0\u001b[39m)\n\u001b[0;32m   1123\u001b[0m xs \u001b[39m=\u001b[39m \u001b[39mmin\u001b[39m(points[:, \u001b[39m0\u001b[39m]), \u001b[39mmax\u001b[39m(points[:, \u001b[39m0\u001b[39m])\n",
      "File \u001b[1;32mc:\\users\\efons\\anaconda3\\envs\\venv\\lib\\site-packages\\matplotlib-3.6.2-py3.10-win-amd64.egg\\matplotlib\\transforms.py:1490\u001b[0m, in \u001b[0;36mTransform.transform\u001b[1;34m(self, values)\u001b[0m\n\u001b[0;32m   1487\u001b[0m values \u001b[39m=\u001b[39m values\u001b[39m.\u001b[39mreshape((\u001b[39m-\u001b[39m\u001b[39m1\u001b[39m, \u001b[39mself\u001b[39m\u001b[39m.\u001b[39minput_dims))\n\u001b[0;32m   1489\u001b[0m \u001b[39m# Transform the values\u001b[39;00m\n\u001b[1;32m-> 1490\u001b[0m res \u001b[39m=\u001b[39m \u001b[39mself\u001b[39;49m\u001b[39m.\u001b[39;49mtransform_affine(\u001b[39mself\u001b[39;49m\u001b[39m.\u001b[39;49mtransform_non_affine(values))\n\u001b[0;32m   1492\u001b[0m \u001b[39m# Convert the result back to the shape of the input values.\u001b[39;00m\n\u001b[0;32m   1493\u001b[0m \u001b[39mif\u001b[39;00m ndim \u001b[39m==\u001b[39m \u001b[39m0\u001b[39m:\n",
      "File \u001b[1;32mc:\\users\\efons\\anaconda3\\envs\\venv\\lib\\site-packages\\matplotlib-3.6.2-py3.10-win-amd64.egg\\matplotlib\\transforms.py:2420\u001b[0m, in \u001b[0;36mCompositeGenericTransform.transform_affine\u001b[1;34m(self, points)\u001b[0m\n\u001b[0;32m   2418\u001b[0m \u001b[39mdef\u001b[39;00m \u001b[39mtransform_affine\u001b[39m(\u001b[39mself\u001b[39m, points):\n\u001b[0;32m   2419\u001b[0m     \u001b[39m# docstring inherited\u001b[39;00m\n\u001b[1;32m-> 2420\u001b[0m     \u001b[39mreturn\u001b[39;00m \u001b[39mself\u001b[39;49m\u001b[39m.\u001b[39;49mget_affine()\u001b[39m.\u001b[39mtransform(points)\n",
      "File \u001b[1;32mc:\\users\\efons\\anaconda3\\envs\\venv\\lib\\site-packages\\matplotlib-3.6.2-py3.10-win-amd64.egg\\matplotlib\\transforms.py:2446\u001b[0m, in \u001b[0;36mCompositeGenericTransform.get_affine\u001b[1;34m(self)\u001b[0m\n\u001b[0;32m   2444\u001b[0m     \u001b[39mreturn\u001b[39;00m \u001b[39mself\u001b[39m\u001b[39m.\u001b[39m_b\u001b[39m.\u001b[39mget_affine()\n\u001b[0;32m   2445\u001b[0m \u001b[39melse\u001b[39;00m:\n\u001b[1;32m-> 2446\u001b[0m     \u001b[39mreturn\u001b[39;00m Affine2D(np\u001b[39m.\u001b[39;49mdot(\u001b[39mself\u001b[39;49m\u001b[39m.\u001b[39;49m_b\u001b[39m.\u001b[39;49mget_affine()\u001b[39m.\u001b[39;49mget_matrix(),\n\u001b[0;32m   2447\u001b[0m                            \u001b[39mself\u001b[39;49m\u001b[39m.\u001b[39;49m_a\u001b[39m.\u001b[39;49mget_affine()\u001b[39m.\u001b[39;49mget_matrix()))\n",
      "File \u001b[1;32m<__array_function__ internals>:180\u001b[0m, in \u001b[0;36mdot\u001b[1;34m(*args, **kwargs)\u001b[0m\n",
      "\u001b[1;31mKeyboardInterrupt\u001b[0m: "
     ]
    }
   ],
   "source": [
    "pred = reg.estimator(X)[0].detach().numpy()\n",
    "plt.plot(pred[0:10])\n",
    "plt.plot(X[0:10], alpha=0.2)"
   ]
  },
  {
   "cell_type": "code",
   "execution_count": null,
   "metadata": {},
   "outputs": [
    {
     "ename": "KeyboardInterrupt",
     "evalue": "",
     "output_type": "error",
     "traceback": [
      "\u001b[1;31m---------------------------------------------------------------------------\u001b[0m",
      "\u001b[1;31mKeyboardInterrupt\u001b[0m                         Traceback (most recent call last)",
      "Cell \u001b[1;32mIn[231], line 1\u001b[0m\n\u001b[1;32m----> 1\u001b[0m plt\u001b[39m.\u001b[39;49mscatter(X\u001b[39m.\u001b[39;49mreshape(\u001b[39m-\u001b[39;49m\u001b[39m1\u001b[39;49m, \u001b[39m1\u001b[39;49m), pred\u001b[39m.\u001b[39;49mreshape(\u001b[39m-\u001b[39;49m\u001b[39m1\u001b[39;49m, \u001b[39m1\u001b[39;49m), edgecolors\u001b[39m=\u001b[39;49m\u001b[39m'\u001b[39;49m\u001b[39mk\u001b[39;49m\u001b[39m'\u001b[39;49m, alpha\u001b[39m=\u001b[39;49m\u001b[39m0.2\u001b[39;49m)\n\u001b[0;32m      2\u001b[0m \u001b[39mfrom\u001b[39;00m \u001b[39msklearn\u001b[39;00m\u001b[39m.\u001b[39;00m\u001b[39mmetrics\u001b[39;00m \u001b[39mimport\u001b[39;00m r2_score\n\u001b[0;32m      3\u001b[0m r2_score(X\u001b[39m.\u001b[39mreshape(\u001b[39m-\u001b[39m\u001b[39m1\u001b[39m, \u001b[39m1\u001b[39m), pred\u001b[39m.\u001b[39mreshape(\u001b[39m-\u001b[39m\u001b[39m1\u001b[39m, \u001b[39m1\u001b[39m))\n",
      "File \u001b[1;32mc:\\users\\efons\\anaconda3\\envs\\venv\\lib\\site-packages\\matplotlib-3.6.2-py3.10-win-amd64.egg\\matplotlib\\pyplot.py:2790\u001b[0m, in \u001b[0;36mscatter\u001b[1;34m(x, y, s, c, marker, cmap, norm, vmin, vmax, alpha, linewidths, edgecolors, plotnonfinite, data, **kwargs)\u001b[0m\n\u001b[0;32m   2785\u001b[0m \u001b[39m@_copy_docstring_and_deprecators\u001b[39m(Axes\u001b[39m.\u001b[39mscatter)\n\u001b[0;32m   2786\u001b[0m \u001b[39mdef\u001b[39;00m \u001b[39mscatter\u001b[39m(\n\u001b[0;32m   2787\u001b[0m         x, y, s\u001b[39m=\u001b[39m\u001b[39mNone\u001b[39;00m, c\u001b[39m=\u001b[39m\u001b[39mNone\u001b[39;00m, marker\u001b[39m=\u001b[39m\u001b[39mNone\u001b[39;00m, cmap\u001b[39m=\u001b[39m\u001b[39mNone\u001b[39;00m, norm\u001b[39m=\u001b[39m\u001b[39mNone\u001b[39;00m,\n\u001b[0;32m   2788\u001b[0m         vmin\u001b[39m=\u001b[39m\u001b[39mNone\u001b[39;00m, vmax\u001b[39m=\u001b[39m\u001b[39mNone\u001b[39;00m, alpha\u001b[39m=\u001b[39m\u001b[39mNone\u001b[39;00m, linewidths\u001b[39m=\u001b[39m\u001b[39mNone\u001b[39;00m, \u001b[39m*\u001b[39m,\n\u001b[0;32m   2789\u001b[0m         edgecolors\u001b[39m=\u001b[39m\u001b[39mNone\u001b[39;00m, plotnonfinite\u001b[39m=\u001b[39m\u001b[39mFalse\u001b[39;00m, data\u001b[39m=\u001b[39m\u001b[39mNone\u001b[39;00m, \u001b[39m*\u001b[39m\u001b[39m*\u001b[39mkwargs):\n\u001b[1;32m-> 2790\u001b[0m     __ret \u001b[39m=\u001b[39m gca()\u001b[39m.\u001b[39mscatter(\n\u001b[0;32m   2791\u001b[0m         x, y, s\u001b[39m=\u001b[39ms, c\u001b[39m=\u001b[39mc, marker\u001b[39m=\u001b[39mmarker, cmap\u001b[39m=\u001b[39mcmap, norm\u001b[39m=\u001b[39mnorm,\n\u001b[0;32m   2792\u001b[0m         vmin\u001b[39m=\u001b[39mvmin, vmax\u001b[39m=\u001b[39mvmax, alpha\u001b[39m=\u001b[39malpha, linewidths\u001b[39m=\u001b[39mlinewidths,\n\u001b[0;32m   2793\u001b[0m         edgecolors\u001b[39m=\u001b[39medgecolors, plotnonfinite\u001b[39m=\u001b[39mplotnonfinite,\n\u001b[0;32m   2794\u001b[0m         \u001b[39m*\u001b[39m\u001b[39m*\u001b[39m({\u001b[39m\"\u001b[39m\u001b[39mdata\u001b[39m\u001b[39m\"\u001b[39m: data} \u001b[39mif\u001b[39;00m data \u001b[39mis\u001b[39;00m \u001b[39mnot\u001b[39;00m \u001b[39mNone\u001b[39;00m \u001b[39melse\u001b[39;00m {}), \u001b[39m*\u001b[39m\u001b[39m*\u001b[39mkwargs)\n\u001b[0;32m   2795\u001b[0m     sci(__ret)\n\u001b[0;32m   2796\u001b[0m     \u001b[39mreturn\u001b[39;00m __ret\n",
      "File \u001b[1;32mc:\\users\\efons\\anaconda3\\envs\\venv\\lib\\site-packages\\matplotlib-3.6.2-py3.10-win-amd64.egg\\matplotlib\\__init__.py:1423\u001b[0m, in \u001b[0;36m_preprocess_data.<locals>.inner\u001b[1;34m(ax, data, *args, **kwargs)\u001b[0m\n\u001b[0;32m   1420\u001b[0m \u001b[39m@functools\u001b[39m\u001b[39m.\u001b[39mwraps(func)\n\u001b[0;32m   1421\u001b[0m \u001b[39mdef\u001b[39;00m \u001b[39minner\u001b[39m(ax, \u001b[39m*\u001b[39margs, data\u001b[39m=\u001b[39m\u001b[39mNone\u001b[39;00m, \u001b[39m*\u001b[39m\u001b[39m*\u001b[39mkwargs):\n\u001b[0;32m   1422\u001b[0m     \u001b[39mif\u001b[39;00m data \u001b[39mis\u001b[39;00m \u001b[39mNone\u001b[39;00m:\n\u001b[1;32m-> 1423\u001b[0m         \u001b[39mreturn\u001b[39;00m func(ax, \u001b[39m*\u001b[39m\u001b[39mmap\u001b[39m(sanitize_sequence, args), \u001b[39m*\u001b[39m\u001b[39m*\u001b[39mkwargs)\n\u001b[0;32m   1425\u001b[0m     bound \u001b[39m=\u001b[39m new_sig\u001b[39m.\u001b[39mbind(ax, \u001b[39m*\u001b[39margs, \u001b[39m*\u001b[39m\u001b[39m*\u001b[39mkwargs)\n\u001b[0;32m   1426\u001b[0m     auto_label \u001b[39m=\u001b[39m (bound\u001b[39m.\u001b[39marguments\u001b[39m.\u001b[39mget(label_namer)\n\u001b[0;32m   1427\u001b[0m                   \u001b[39mor\u001b[39;00m bound\u001b[39m.\u001b[39mkwargs\u001b[39m.\u001b[39mget(label_namer))\n",
      "File \u001b[1;32mc:\\users\\efons\\anaconda3\\envs\\venv\\lib\\site-packages\\matplotlib-3.6.2-py3.10-win-amd64.egg\\matplotlib\\axes\\_axes.py:4514\u001b[0m, in \u001b[0;36mAxes.scatter\u001b[1;34m(self, x, y, s, c, marker, cmap, norm, vmin, vmax, alpha, linewidths, edgecolors, plotnonfinite, **kwargs)\u001b[0m\n\u001b[0;32m   4404\u001b[0m \u001b[39m\"\"\"\u001b[39;00m\n\u001b[0;32m   4405\u001b[0m \u001b[39mA scatter plot of *y* vs. *x* with varying marker size and/or color.\u001b[39;00m\n\u001b[0;32m   4406\u001b[0m \n\u001b[1;32m   (...)\u001b[0m\n\u001b[0;32m   4511\u001b[0m \n\u001b[0;32m   4512\u001b[0m \u001b[39m\"\"\"\u001b[39;00m\n\u001b[0;32m   4513\u001b[0m \u001b[39m# Process **kwargs to handle aliases, conflicts with explicit kwargs:\u001b[39;00m\n\u001b[1;32m-> 4514\u001b[0m x, y \u001b[39m=\u001b[39m \u001b[39mself\u001b[39;49m\u001b[39m.\u001b[39;49m_process_unit_info([(\u001b[39m\"\u001b[39;49m\u001b[39mx\u001b[39;49m\u001b[39m\"\u001b[39;49m, x), (\u001b[39m\"\u001b[39;49m\u001b[39my\u001b[39;49m\u001b[39m\"\u001b[39;49m, y)], kwargs)\n\u001b[0;32m   4515\u001b[0m \u001b[39m# np.ma.ravel yields an ndarray, not a masked array,\u001b[39;00m\n\u001b[0;32m   4516\u001b[0m \u001b[39m# unless its argument is a masked array.\u001b[39;00m\n\u001b[0;32m   4517\u001b[0m x \u001b[39m=\u001b[39m np\u001b[39m.\u001b[39mma\u001b[39m.\u001b[39mravel(x)\n",
      "File \u001b[1;32mc:\\users\\efons\\anaconda3\\envs\\venv\\lib\\site-packages\\matplotlib-3.6.2-py3.10-win-amd64.egg\\matplotlib\\axes\\_base.py:2603\u001b[0m, in \u001b[0;36m_AxesBase._process_unit_info\u001b[1;34m(self, datasets, kwargs, convert)\u001b[0m\n\u001b[0;32m   2601\u001b[0m             \u001b[39mif\u001b[39;00m dataset_axis_name \u001b[39m==\u001b[39m axis_name \u001b[39mand\u001b[39;00m data \u001b[39mis\u001b[39;00m \u001b[39mnot\u001b[39;00m \u001b[39mNone\u001b[39;00m:\n\u001b[0;32m   2602\u001b[0m                 axis\u001b[39m.\u001b[39mupdate_units(data)\n\u001b[1;32m-> 2603\u001b[0m \u001b[39mreturn\u001b[39;00m [axis_map[axis_name]\u001b[39m.\u001b[39mconvert_units(data)\n\u001b[0;32m   2604\u001b[0m         \u001b[39mif\u001b[39;00m convert \u001b[39mand\u001b[39;00m data \u001b[39mis\u001b[39;00m \u001b[39mnot\u001b[39;00m \u001b[39mNone\u001b[39;00m \u001b[39melse\u001b[39;00m data\n\u001b[0;32m   2605\u001b[0m         \u001b[39mfor\u001b[39;00m axis_name, data \u001b[39min\u001b[39;00m datasets]\n",
      "File \u001b[1;32mc:\\users\\efons\\anaconda3\\envs\\venv\\lib\\site-packages\\matplotlib-3.6.2-py3.10-win-amd64.egg\\matplotlib\\axes\\_base.py:2603\u001b[0m, in \u001b[0;36m<listcomp>\u001b[1;34m(.0)\u001b[0m\n\u001b[0;32m   2601\u001b[0m             \u001b[39mif\u001b[39;00m dataset_axis_name \u001b[39m==\u001b[39m axis_name \u001b[39mand\u001b[39;00m data \u001b[39mis\u001b[39;00m \u001b[39mnot\u001b[39;00m \u001b[39mNone\u001b[39;00m:\n\u001b[0;32m   2602\u001b[0m                 axis\u001b[39m.\u001b[39mupdate_units(data)\n\u001b[1;32m-> 2603\u001b[0m \u001b[39mreturn\u001b[39;00m [axis_map[axis_name]\u001b[39m.\u001b[39;49mconvert_units(data)\n\u001b[0;32m   2604\u001b[0m         \u001b[39mif\u001b[39;00m convert \u001b[39mand\u001b[39;00m data \u001b[39mis\u001b[39;00m \u001b[39mnot\u001b[39;00m \u001b[39mNone\u001b[39;00m \u001b[39melse\u001b[39;00m data\n\u001b[0;32m   2605\u001b[0m         \u001b[39mfor\u001b[39;00m axis_name, data \u001b[39min\u001b[39;00m datasets]\n",
      "File \u001b[1;32mc:\\users\\efons\\anaconda3\\envs\\venv\\lib\\site-packages\\matplotlib-3.6.2-py3.10-win-amd64.egg\\matplotlib\\axis.py:1656\u001b[0m, in \u001b[0;36mAxis.convert_units\u001b[1;34m(self, x)\u001b[0m\n\u001b[0;32m   1654\u001b[0m \u001b[39mdef\u001b[39;00m \u001b[39mconvert_units\u001b[39m(\u001b[39mself\u001b[39m, x):\n\u001b[0;32m   1655\u001b[0m     \u001b[39m# If x is natively supported by Matplotlib, doesn't need converting\u001b[39;00m\n\u001b[1;32m-> 1656\u001b[0m     \u001b[39mif\u001b[39;00m munits\u001b[39m.\u001b[39;49m_is_natively_supported(x):\n\u001b[0;32m   1657\u001b[0m         \u001b[39mreturn\u001b[39;00m x\n\u001b[0;32m   1659\u001b[0m     \u001b[39mif\u001b[39;00m \u001b[39mself\u001b[39m\u001b[39m.\u001b[39mconverter \u001b[39mis\u001b[39;00m \u001b[39mNone\u001b[39;00m:\n",
      "File \u001b[1;32mc:\\users\\efons\\anaconda3\\envs\\venv\\lib\\site-packages\\matplotlib-3.6.2-py3.10-win-amd64.egg\\matplotlib\\units.py:62\u001b[0m, in \u001b[0;36m_is_natively_supported\u001b[1;34m(x)\u001b[0m\n\u001b[0;32m     57\u001b[0m \u001b[39m\"\"\"\u001b[39;00m\n\u001b[0;32m     58\u001b[0m \u001b[39mReturn whether *x* is of a type that Matplotlib natively supports or an\u001b[39;00m\n\u001b[0;32m     59\u001b[0m \u001b[39marray of objects of such types.\u001b[39;00m\n\u001b[0;32m     60\u001b[0m \u001b[39m\"\"\"\u001b[39;00m\n\u001b[0;32m     61\u001b[0m \u001b[39m# Matplotlib natively supports all number types except Decimal.\u001b[39;00m\n\u001b[1;32m---> 62\u001b[0m \u001b[39mif\u001b[39;00m np\u001b[39m.\u001b[39;49miterable(x):\n\u001b[0;32m     63\u001b[0m     \u001b[39m# Assume lists are homogeneous as other functions in unit system.\u001b[39;00m\n\u001b[0;32m     64\u001b[0m     \u001b[39mfor\u001b[39;00m thisx \u001b[39min\u001b[39;00m x:\n\u001b[0;32m     65\u001b[0m         \u001b[39mif\u001b[39;00m thisx \u001b[39mis\u001b[39;00m ma\u001b[39m.\u001b[39mmasked:\n",
      "File \u001b[1;32mc:\\Users\\efons\\anaconda3\\envs\\venv\\lib\\site-packages\\numpy\\lib\\function_base.py:385\u001b[0m, in \u001b[0;36miterable\u001b[1;34m(y)\u001b[0m\n\u001b[0;32m    348\u001b[0m \u001b[39m\"\"\"\u001b[39;00m\n\u001b[0;32m    349\u001b[0m \u001b[39mCheck whether or not an object can be iterated over.\u001b[39;00m\n\u001b[0;32m    350\u001b[0m \n\u001b[1;32m   (...)\u001b[0m\n\u001b[0;32m    382\u001b[0m \n\u001b[0;32m    383\u001b[0m \u001b[39m\"\"\"\u001b[39;00m\n\u001b[0;32m    384\u001b[0m \u001b[39mtry\u001b[39;00m:\n\u001b[1;32m--> 385\u001b[0m     \u001b[39miter\u001b[39;49m(y)\n\u001b[0;32m    386\u001b[0m \u001b[39mexcept\u001b[39;00m \u001b[39mTypeError\u001b[39;00m:\n\u001b[0;32m    387\u001b[0m     \u001b[39mreturn\u001b[39;00m \u001b[39mFalse\u001b[39;00m\n",
      "File \u001b[1;32mc:\\Users\\efons\\anaconda3\\envs\\venv\\lib\\site-packages\\torch\\_tensor.py:925\u001b[0m, in \u001b[0;36mTensor.__iter__\u001b[1;34m(self)\u001b[0m\n\u001b[0;32m    916\u001b[0m \u001b[39mif\u001b[39;00m torch\u001b[39m.\u001b[39m_C\u001b[39m.\u001b[39m_get_tracing_state():\n\u001b[0;32m    917\u001b[0m     warnings\u001b[39m.\u001b[39mwarn(\n\u001b[0;32m    918\u001b[0m         \u001b[39m\"\u001b[39m\u001b[39mIterating over a tensor might cause the trace to be incorrect. \u001b[39m\u001b[39m\"\u001b[39m\n\u001b[0;32m    919\u001b[0m         \u001b[39m\"\u001b[39m\u001b[39mPassing a tensor of different shape won\u001b[39m\u001b[39m'\u001b[39m\u001b[39mt change the number of \u001b[39m\u001b[39m\"\u001b[39m\n\u001b[1;32m   (...)\u001b[0m\n\u001b[0;32m    923\u001b[0m         stacklevel\u001b[39m=\u001b[39m\u001b[39m2\u001b[39m,\n\u001b[0;32m    924\u001b[0m     )\n\u001b[1;32m--> 925\u001b[0m \u001b[39mreturn\u001b[39;00m \u001b[39miter\u001b[39m(\u001b[39mself\u001b[39;49m\u001b[39m.\u001b[39;49munbind(\u001b[39m0\u001b[39;49m))\n",
      "\u001b[1;31mKeyboardInterrupt\u001b[0m: "
     ]
    },
    {
     "data": {
      "image/png": "[encoded data removed]",
      "text/plain": [
       "<Figure size 640x480 with 1 Axes>"
      ]
     },
     "metadata": {},
     "output_type": "display_data"
    }
   ],
   "source": [
    "plt.scatter(X.reshape(-1, 1), pred.reshape(-1, 1), edgecolors='k', alpha=0.2)\n",
    "from sklearn.metrics import r2_score\n",
    "r2_score(X.reshape(-1, 1), pred.reshape(-1, 1))"
   ]
  },
  {
   "cell_type": "code",
   "execution_count": null,
   "metadata": {},
   "outputs": [],
   "source": []
  }
 ],
 "metadata": {
  "kernelspec": {
   "display_name": "venv",
   "language": "python",
   "name": "python3"
  },
  "language_info": {
   "codemirror_mode": {
    "name": "ipython",
    "version": 3
   },
   "file_extension": ".py",
   "mimetype": "text/x-python",
   "name": "python",
   "nbconvert_exporter": "python",
   "pygments_lexer": "ipython3",
   "version": "3.10.10"
  },
  "orig_nbformat": 4
 },
 "nbformat": 4,
 "nbformat_minor": 2
}
