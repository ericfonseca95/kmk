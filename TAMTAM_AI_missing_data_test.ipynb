{
 "cells": [
  {
   "cell_type": "code",
   "execution_count": 1,
   "metadata": {},
   "outputs": [],
   "source": [
    "import kmodels as kmk\n",
    "import pandas as pd \n",
    "import numpy as np\n",
    "import matplotlib.pyplot as plt\n",
    "import torch\n",
    "from sklearn.preprocessing import MinMaxScaler\n",
    "from sklearn.metrics import mean_squared_error, mean_absolute_error, r2_score\n",
    "# get torch pretty mokey patch\n",
    "import lovely_tensors as lt\n",
    "lt.monkey_patch()"
   ]
  },
  {
   "cell_type": "code",
   "execution_count": 2,
   "metadata": {},
   "outputs": [],
   "source": [
    "def to_torch(X):\n",
    "    if isinstance(X, np.ndarray):\n",
    "        X = torch.from_numpy(X.astype(np.float32))\n",
    "    elif isinstance(X, pd.DataFrame):\n",
    "        X = X.values\n",
    "        X = torch.from_numpy(X.astype(np.float32))\n",
    "    return X\n",
    "\n",
    "# for each subject make a large array of copipes of the x data where each muscle is deleted systematically and then the data is appeneded together\n",
    "# this will be the input data\n"
   ]
  },
  {
   "cell_type": "code",
   "execution_count": 3,
   "metadata": {},
   "outputs": [],
   "source": [
    "\n",
    "def get_cols_names():\n",
    "    x_cols = ['FPL', 'APL', 'EPL', 'EPB', 'DIO', 'ADP', 'OPP', 'FPB', 'Fx', 'Fy', 'Fz']\n",
    "    y_cols = ['Pain_Cohort', 'Eaton_Litter']\n",
    "    return x_cols, y_cols\n",
    "\n",
    "def get_muscle_names():\n",
    "    return ['FPL', 'APL', 'EPL', 'EPB', 'DIO', 'ADP', 'OPP', 'FPB']\n",
    "\n",
    "# write a function that will take in a dataframe and return a list of muscles that are active (that have non-zero values)\n",
    "def get_active_muscles(df):\n",
    "    muscles = get_muscle_names()\n",
    "    active_muscles = []\n",
    "    for muscle in muscles:\n",
    "        if df[muscle].sum() != 0:\n",
    "            active_muscles.append(muscle)\n",
    "    return active_muscles\n",
    "\n",
    "# write a function that will take in a dataframe and return a list of muscles that are inactive (that have zero values)\n",
    "def get_inactive_muscles(df):\n",
    "    muscles = get_muscle_names()\n",
    "    inactive_muscles = []\n",
    "    for muscle in muscles:\n",
    "        if df[muscle].sum() == 0:\n",
    "            inactive_muscles.append(muscle)\n",
    "    return inactive_muscles\n",
    "\n",
    "# write a function that will take in the entire dataset and split it up by subject and event\n",
    "def split_by_subject(df):\n",
    "    grouped_df = df.groupby(['Subject','Event'])\n",
    "    # return a list of dataframes for each subject and event\n",
    "    return [grouped_df.get_group(x) for x in grouped_df.groups]\n",
    "\n",
    "# lets write an augmentation function that will take in a dataframe and augment it by zeroing out one muscle at a time\n",
    "def dataframe_to_augmented_dfs(df):\n",
    "    # get the active and inactive muscles\n",
    "    active_muscles = get_active_muscles(df)\n",
    "    inactive_muscles = get_inactive_muscles(df)\n",
    "    # make a copy of the dataframe\n",
    "    dfs = []\n",
    "    df_copy = df.copy()\n",
    "    if len(active_muscles) > 8:\n",
    "        # for each active muscle, make a copy of the dataframe and zero out that muscle\n",
    "        for muscle in active_muscles:\n",
    "            df_copy[muscle] = 0\n",
    "            dfs.append(df_copy.copy())\n",
    "            df_copy = df.copy()\n",
    "        # return the augmented dataframe\n",
    "        return dfs\n",
    "    else:\n",
    "        return [df]\n",
    "    \n",
    "\n",
    "# lets write a function that takes the original dataframe and outputs the augmented dataframe\n",
    "def augment_df(df):\n",
    "    # split the dataframe by subject and event\n",
    "    dfs = split_by_subject(df)\n",
    "    # for each dataframe, augment it and append it to a list\n",
    "    augmented_dfs = []\n",
    "    for df in dfs:\n",
    "        augmented_dfs.extend(dataframe_to_augmented_dfs(df))\n",
    "    # return the list of augmented dataframes\n",
    "    return augmented_dfs\n",
    "\n",
    "# lets write a function that will take in a list of dataframes and return a list of the x and y data\n",
    "def get_x_y_data(df):\n",
    "    x_cols, y_cols = get_cols_names()\n",
    "    x_data = []\n",
    "    y_data = []\n",
    "    x_og = []\n",
    "    dfs = augment_df(df)\n",
    "    for loop_df in dfs:\n",
    "        loop_df = loop_df.sort_values(by=['Event','Frame'])\n",
    "        x_data.append(loop_df[x_cols].values)\n",
    "        y_data.append(loop_df[y_cols].values)\n",
    "    return np.row_stack(x_data), np.row_stack(y_data)\n",
    "\n",
    "# get the data of the un-augmented dataframe\n",
    "def get_data(df):\n",
    "    x_cols, y_cols = get_cols_names()\n",
    "    groups = df.groupby(['Subject', 'Event'])\n",
    "    X = []\n",
    "    Y = []\n",
    "    for name, group in groups:\n",
    "        group = group.sort_values(by=['Event','Frame'])\n",
    "        X.append(group[x_cols].values.reshape(1, -1))\n",
    "        Y.append(group[y_cols].values[0,:])\n",
    "    X = np.row_stack(X)\n",
    "    Y = np.row_stack(Y)\n",
    "    return X, Y\n",
    "\n",
    "# create a function that will create x_og, which is the original x data with the missing data but corressponding to the un-augmented data. For each muscle the augmentor\n",
    "# will make a copy of the dataframe and zero out that muscle. Take this into account to copy the data the appropriate number of times\n",
    "def get_x_og(df):\n",
    "    x_cols, y_cols = get_cols_names()\n",
    "    muscles = get_muscle_names()\n",
    "    groups = df.groupby(['Subject', 'Event'])\n",
    "    X = []\n",
    "    Y = []\n",
    "    for name, group in groups:\n",
    "        used_muscles = get_active_muscles(group)\n",
    "        for muscle in used_muscles:\n",
    "            group = group.sort_values(by=['Event','Frame'])\n",
    "            X.append(group[x_cols].values.reshape(1, -1))\n",
    "            Y.append(group[y_cols].values[0,:])\n",
    "    X = np.row_stack(X)\n",
    "    Y = np.row_stack(Y)\n",
    "    return X, Y\n",
    "\n"
   ]
  },
  {
   "cell_type": "code",
   "execution_count": 37,
   "metadata": {},
   "outputs": [
    {
     "data": {
      "text/plain": [
       "Index(['Fx', 'Fy', 'Fz', 'FPL', 'APL', 'EPL', 'EPB', 'DIO', 'ADP', 'OPP',\n",
       "       'FPB', 'Subject', 'Event', 'Frame', 'Pain_Cohort', 'Eaton_Litter'],\n",
       "      dtype='object')"
      ]
     },
     "execution_count": 37,
     "metadata": {},
     "output_type": "execute_result"
    }
   ],
   "source": [
    "by_event = True # this makes it so you can switch back and forth between the format we talk about. 3 events per observation or 1 event per observation\n",
    "nframes = 1000\n",
    "n_events = 3\n",
    "n_muscles = 11\n",
    "df.columns"
   ]
  },
  {
   "cell_type": "code",
   "execution_count": 38,
   "metadata": {},
   "outputs": [
    {
     "data": {
      "text/plain": [
       "(array(['EH61', 'KK56', 'EK32', 'LN24', 'OP55'], dtype=object),\n",
       " array(['AO31', 'FA66', 'TS54', 'UP48', 'KE58', 'ZZ72', 'YF74', 'TO66',\n",
       "        'JX58', 'DZ62', 'BX36', 'BX24', 'EO97', 'OU92', 'NA46'],\n",
       "       dtype=object))"
      ]
     },
     "execution_count": 38,
     "metadata": {},
     "output_type": "execute_result"
    }
   ],
   "source": [
    "df = pd.read_pickle('./data/ML_Data.pkl')\n",
    "subject_dfs =  split_by_subject(df)\n",
    "# find which subjects have at least n working muscles\n",
    "n = 7\n",
    "working_subjects = []\n",
    "for subject_df in subject_dfs:\n",
    "    if len(get_active_muscles(subject_df)) >= n:\n",
    "        working_subjects.append(subject_df['Subject'].values[0])\n",
    "leave_out_df = df[~df['Subject'].isin(working_subjects)]\n",
    "df = df[df['Subject'].isin(working_subjects)]\n",
    "df['Subject'].unique(), leave_out_df['Subject'].unique()"
   ]
  },
  {
   "cell_type": "code",
   "execution_count": 68,
   "metadata": {},
   "outputs": [],
   "source": [
    "# get the data from the leaveout df\n",
    "leaveout_x, leaveout_y = get_x_y_data(leave_out_df)\n",
    "leaveout_x = to_torch(leaveout_x).float().reshape(-1, nframes, 11)\n",
    "if by_event:\n",
    "    leaveout_x = leaveout_x.reshape(-1, nframes*n_muscles)\n",
    "else:\n",
    "    \n",
    "    leaveout_x = leaveout_x.reshape(-1,  nframes*n_muscles*n_events)"
   ]
  },
  {
   "cell_type": "code",
   "execution_count": 69,
   "metadata": {},
   "outputs": [
    {
     "data": {
      "text/plain": [
       "((15, 1000, 11), (15, 2), (108, 1000, 11))"
      ]
     },
     "execution_count": 69,
     "metadata": {},
     "output_type": "execute_result"
    }
   ],
   "source": [
    "\n",
    "# test get_x_y_data\n",
    "x, y = get_x_y_data(df)\n",
    "x_og, y_og = get_x_og(df)\n",
    "x = x.reshape(-1, nframes, 11)\n",
    "x_og = x_og.reshape(-1, nframes, 11)\n",
    "y = y.reshape(-1, 2)\n",
    "y = y[::nframes,:]\n",
    "x.shape, y.shape, x_og.shape"
   ]
  },
  {
   "cell_type": "code",
   "execution_count": 70,
   "metadata": {},
   "outputs": [
    {
     "data": {
      "text/plain": [
       "((15, 1000, 11), (15, 2))"
      ]
     },
     "execution_count": 70,
     "metadata": {},
     "output_type": "execute_result"
    }
   ],
   "source": [
    "# lets get the datafrom the original dataframe\n",
    "x_cols = ['Fx', 'Fy', 'Fz', 'FPL', 'APL', 'EPL', 'EPB', 'DIO', 'ADP', 'OPP','FPB']\n",
    "y_cols = ['Pain_Cohort', 'Eaton_Litter']\n",
    "x_data = df[x_cols].values\n",
    "y_data = df[y_cols].values\n",
    "x_data = x_data.reshape(-1, nframes, 11)\n",
    "y_data = y_data\n",
    "# get only the 1000'th frame of y_data\n",
    "y_data = y_data[::nframes,:]\n",
    "x_data.shape, y_data.shape"
   ]
  },
  {
   "cell_type": "code",
   "execution_count": 71,
   "metadata": {},
   "outputs": [
    {
     "data": {
      "text/plain": [
       "(15, 11000)"
      ]
     },
     "execution_count": 71,
     "metadata": {},
     "output_type": "execute_result"
    }
   ],
   "source": [
    "# convert the x dimensions depending if we want to group by trajectories or 3 trajectories\n",
    "if by_event:\n",
    "    x = x.reshape(-1, nframes*11)\n",
    "    x_data = x_data.reshape(-1, nframes*11)\n",
    "    x_og = x_og.reshape(-1, nframes*11)\n",
    "else:\n",
    "    x = x.reshape(-1, nframes*11*3)\n",
    "    x_data = x_data.reshape(-1, nframes*11*3)\n",
    "    x_og = x_og.reshape(-1, nframes*11*3)\n",
    "\n",
    "x.shape"
   ]
  },
  {
   "cell_type": "code",
   "execution_count": 72,
   "metadata": {},
   "outputs": [
    {
     "data": {
      "text/plain": [
       "[<matplotlib.lines.Line2D at 0x1f0d7176560>]"
      ]
     },
     "execution_count": 72,
     "metadata": {},
     "output_type": "execute_result"
    },
    {
     "data": {
      "image/png": "[encoded data removed]",
      "text/plain": [
       "<Figure size 640x480 with 1 Axes>"
      ]
     },
     "metadata": {},
     "output_type": "display_data"
    }
   ],
   "source": [
    "plt.plot(x[0,:])"
   ]
  },
  {
   "cell_type": "code",
   "execution_count": 73,
   "metadata": {},
   "outputs": [],
   "source": [
    "scaler = MinMaxScaler()\n",
    "x = scaler.fit_transform(x)\n",
    "x_data = scaler.transform(x_data)\n",
    "x_og = scaler.transform(x_og)\n",
    "leaveout_x = scaler.transform(leaveout_x)"
   ]
  },
  {
   "cell_type": "code",
   "execution_count": null,
   "metadata": {},
   "outputs": [
    {
     "data": {
      "text/plain": [
       "(array([3., 0., 0., 3., 0., 0., 6., 0., 0., 3.]),\n",
       " array([1. , 1.3, 1.6, 1.9, 2.2, 2.5, 2.8, 3.1, 3.4, 3.7, 4. ]),\n",
       " <BarContainer object of 10 artists>)"
      ]
     },
     "execution_count": 24,
     "metadata": {},
     "output_type": "execute_result"
    },
    {
     "data": {
      "image/png": "[encoded data removed]",
      "text/plain": [
       "<Figure size 640x480 with 1 Axes>"
      ]
     },
     "metadata": {},
     "output_type": "display_data"
    }
   ],
   "source": [
    "plt.hist(y[:,0])\n",
    "plt.hist(y[:,1])"
   ]
  },
  {
   "cell_type": "code",
   "execution_count": 52,
   "metadata": {},
   "outputs": [
    {
     "data": {
      "text/plain": [
       "((15, 11000), (15, 2))"
      ]
     },
     "execution_count": 52,
     "metadata": {},
     "output_type": "execute_result"
    }
   ],
   "source": [
    "# plot the latent space of the un-augmented data\n",
    "X_prime, Y_prime = get_data(df)\n",
    "if by_event:\n",
    "    X_prime = X_prime.reshape(-1, nframes*11)\n",
    "else:\n",
    "    X_prime = X_prime.reshape(-1, nframes*11*3)\n",
    "\n",
    "X_prime = scaler.transform(X_prime)\n",
    "X_prime.shape, Y_prime.shape"
   ]
  },
  {
   "cell_type": "code",
   "execution_count": 53,
   "metadata": {},
   "outputs": [
    {
     "data": {
      "text/plain": [
       "(torch.Size([30, 11000]), torch.Size([30, 2]), torch.Size([123, 11000]))"
      ]
     },
     "execution_count": 53,
     "metadata": {},
     "output_type": "execute_result"
    },
    {
     "data": {
      "image/png": "[encoded data removed]",
      "text/plain": [
       "<Figure size 640x480 with 1 Axes>"
      ]
     },
     "metadata": {},
     "output_type": "display_data"
    }
   ],
   "source": [
    "X = to_torch(x)\n",
    "X_og = to_torch(x_og)\n",
    "Y = to_torch(y)\n",
    "plt.hist(Y[:,0])\n",
    "X_prime = to_torch(X_prime)\n",
    "Y_prime = to_torch(Y_prime)\n",
    "\n",
    "X = torch.cat((X, X_prime), dim=0)\n",
    "Y = torch.cat((Y, Y_prime), dim=0)\n",
    "plt.hist(Y[:,0])\n",
    "X_og = torch.cat((X_og, X_prime), dim=0)\n",
    "X.shape, Y.shape, X_og.shape"
   ]
  },
  {
   "cell_type": "code",
   "execution_count": 54,
   "metadata": {},
   "outputs": [
    {
     "data": {
      "text/plain": [
       "(array([6., 0., 0., 0., 0., 0., 0., 0., 0., 9.]),\n",
       " array([0. , 0.1, 0.2, 0.3, 0.4, 0.5, 0.6, 0.7, 0.8, 0.9, 1. ]),\n",
       " <BarContainer object of 10 artists>)"
      ]
     },
     "execution_count": 54,
     "metadata": {},
     "output_type": "execute_result"
    },
    {
     "data": {
      "image/png": "[encoded data removed]",
      "text/plain": [
       "<Figure size 640x480 with 1 Axes>"
      ]
     },
     "metadata": {},
     "output_type": "display_data"
    }
   ],
   "source": [
    "plt.hist(y[:,0])"
   ]
  },
  {
   "cell_type": "code",
   "execution_count": 55,
   "metadata": {},
   "outputs": [
    {
     "data": {
      "text/plain": [
       "(torch.Size([24, 11000]),\n",
       " torch.Size([6, 11000]),\n",
       " torch.Size([24, 2]),\n",
       " torch.Size([6, 2]),\n",
       " torch.Size([24, 11000]),\n",
       " torch.Size([6, 11000]))"
      ]
     },
     "execution_count": 55,
     "metadata": {},
     "output_type": "execute_result"
    }
   ],
   "source": [
    "# train test split\n",
    "indicies = np.arange(X.shape[0])\n",
    "np.random.shuffle(indicies)\n",
    "train_indicies = indicies[:int(0.8*X.shape[0])]\n",
    "test_indicies = indicies[int(0.8*X.shape[0]):]\n",
    "X_train = X[train_indicies,:]\n",
    "X_test = X[test_indicies,:]\n",
    "Y_train = Y[train_indicies,:]\n",
    "Y_test = Y[test_indicies,:]\n",
    "X_og_train = X_og[train_indicies,:]\n",
    "X_og_test = X_og[test_indicies,:]\n",
    "\n",
    "X_train.shape, X_test.shape, Y_train.shape, Y_test.shape, X_og_train.shape, X_og_test.shape\n",
    "# why are my Y's all being turned into 1's!?\n",
    "\n"
   ]
  },
  {
   "cell_type": "code",
   "execution_count": 56,
   "metadata": {},
   "outputs": [
    {
     "data": {
      "image/png": "[encoded data removed]",
      "image/svg+xml": [
       "<?xml version=\"1.0\" encoding=\"utf-8\" standalone=\"no\"?>\n",
       "<!DOCTYPE svg PUBLIC \"-//W3C//DTD SVG 1.1//EN\"\n",
       "  \"http://www.w3.org/Graphics/SVG/1.1/DTD/svg11.dtd\">\n",
       "<svg xmlns:xlink=\"http://www.w3.org/1999/xlink\" width=\"872.39952pt\" height=\"152.406273pt\" viewBox=\"0 0 872.39952 152.406273\" xmlns=\"http://www.w3.org/2000/svg\" version=\"1.1\">\n",
       " <metadata>\n",
       "  <rdf:RDF xmlns:dc=\"http://purl.org/dc/elements/1.1/\" xmlns:cc=\"http://creativecommons.org/ns#\" xmlns:rdf=\"http://www.w3.org/1999/02/22-rdf-syntax-ns#\">\n",
       "   <cc:Work>\n",
       "    <dc:type rdf:resource=\"http://purl.org/dc/dcmitype/StillImage\"/>\n",
       "    <dc:format>image/svg+xml</dc:format>\n",
       "    <dc:creator>\n",
       "     <cc:Agent>\n",
       "      <dc:title>Matplotlib, https://matplotlib.org/</dc:title>\n",
       "     </cc:Agent>\n",
       "    </dc:creator>\n",
       "   </cc:Work>\n",
       "  </rdf:RDF>\n",
       " </metadata>\n",
       " <defs>\n",
       "  <style type=\"text/css\">*{stroke-linejoin: round; stroke-linecap: butt}</style>\n",
       " </defs>\n",
       " <g id=\"figure_1\">\n",
       "  <g id=\"patch_1\">\n",
       "   <path d=\"M 0 152.406273 \n",
       "L 872.39952 152.406273 \n",
       "L 872.39952 0 \n",
       "L 0 0 \n",
       "z\n",
       "\" style=\"fill: #ffffff\"/>\n",
       "  </g>\n",
       "  <g id=\"axes_1\">\n",
       "   <g id=\"patch_2\">\n",
       "    <path d=\"M 10.7 128.528148 \n",
       "L 865.19952 128.528148 \n",
       "L 865.19952 20.214138 \n",
       "L 10.7 20.214138 \n",
       "z\n",
       "\" style=\"fill: #ffffff\"/>\n",
       "   </g>\n",
       "   <g id=\"matplotlib.axis_1\">\n",
       "    <g id=\"xtick_1\">\n",
       "     <g id=\"line2d_1\">\n",
       "      <defs>\n",
       "       <path id=\"m8f1de1206a\" d=\"M 0 0 \n",
       "L 0 3.5 \n",
       "\" style=\"stroke: #000000; stroke-width: 0.8\"/>\n",
       "      </defs>\n",
       "      <g>\n",
       "       <use xlink:href=\"#m8f1de1206a\" x=\"27.126365\" y=\"128.528148\" style=\"stroke: #000000; stroke-width: 0.8\"/>\n",
       "      </g>\n",
       "     </g>\n",
       "     <g id=\"text_1\">\n",
       "      <!-- −1.00 -->\n",
       "      <g transform=\"translate(11.803709 143.126585) scale(0.1 -0.1)\">\n",
       "       <defs>\n",
       "        <path id=\"DejaVuSans-2212\" d=\"M 678 2272 \n",
       "L 4684 2272 \n",
       "L 4684 1741 \n",
       "L 678 1741 \n",
       "L 678 2272 \n",
       "z\n",
       "\" transform=\"scale(0.015625)\"/>\n",
       "        <path id=\"DejaVuSans-31\" d=\"M 794 531 \n",
       "L 1825 531 \n",
       "L 1825 4091 \n",
       "L 703 3866 \n",
       "L 703 4441 \n",
       "L 1819 4666 \n",
       "L 2450 4666 \n",
       "L 2450 531 \n",
       "L 3481 531 \n",
       "L 3481 0 \n",
       "L 794 0 \n",
       "L 794 531 \n",
       "z\n",
       "\" transform=\"scale(0.015625)\"/>\n",
       "        <path id=\"DejaVuSans-2e\" d=\"M 684 794 \n",
       "L 1344 794 \n",
       "L 1344 0 \n",
       "L 684 0 \n",
       "L 684 794 \n",
       "z\n",
       "\" transform=\"scale(0.015625)\"/>\n",
       "        <path id=\"DejaVuSans-30\" d=\"M 2034 4250 \n",
       "Q 1547 4250 1301 3770 \n",
       "Q 1056 3291 1056 2328 \n",
       "Q 1056 1369 1301 889 \n",
       "Q 1547 409 2034 409 \n",
       "Q 2525 409 2770 889 \n",
       "Q 3016 1369 3016 2328 \n",
       "Q 3016 3291 2770 3770 \n",
       "Q 2525 4250 2034 4250 \n",
       "z\n",
       "M 2034 4750 \n",
       "Q 2819 4750 3233 4129 \n",
       "Q 3647 3509 3647 2328 \n",
       "Q 3647 1150 3233 529 \n",
       "Q 2819 -91 2034 -91 \n",
       "Q 1250 -91 836 529 \n",
       "Q 422 1150 422 2328 \n",
       "Q 422 3509 836 4129 \n",
       "Q 1250 4750 2034 4750 \n",
       "z\n",
       "\" transform=\"scale(0.015625)\"/>\n",
       "       </defs>\n",
       "       <use xlink:href=\"#DejaVuSans-2212\"/>\n",
       "       <use xlink:href=\"#DejaVuSans-31\" x=\"83.789062\"/>\n",
       "       <use xlink:href=\"#DejaVuSans-2e\" x=\"147.412109\"/>\n",
       "       <use xlink:href=\"#DejaVuSans-30\" x=\"179.199219\"/>\n",
       "       <use xlink:href=\"#DejaVuSans-30\" x=\"242.822266\"/>\n",
       "      </g>\n",
       "     </g>\n",
       "    </g>\n",
       "    <g id=\"xtick_2\">\n",
       "     <g id=\"line2d_2\">\n",
       "      <g>\n",
       "       <use xlink:href=\"#m8f1de1206a\" x=\"129.791148\" y=\"128.528148\" style=\"stroke: #000000; stroke-width: 0.8\"/>\n",
       "      </g>\n",
       "     </g>\n",
       "     <g id=\"text_2\">\n",
       "      <!-- −0.75 -->\n",
       "      <g transform=\"translate(114.468492 143.126585) scale(0.1 -0.1)\">\n",
       "       <defs>\n",
       "        <path id=\"DejaVuSans-37\" d=\"M 525 4666 \n",
       "L 3525 4666 \n",
       "L 3525 4397 \n",
       "L 1831 0 \n",
       "L 1172 0 \n",
       "L 2766 4134 \n",
       "L 525 4134 \n",
       "L 525 4666 \n",
       "z\n",
       "\" transform=\"scale(0.015625)\"/>\n",
       "        <path id=\"DejaVuSans-35\" d=\"M 691 4666 \n",
       "L 3169 4666 \n",
       "L 3169 4134 \n",
       "L 1269 4134 \n",
       "L 1269 2991 \n",
       "Q 1406 3038 1543 3061 \n",
       "Q 1681 3084 1819 3084 \n",
       "Q 2600 3084 3056 2656 \n",
       "Q 3513 2228 3513 1497 \n",
       "Q 3513 744 3044 326 \n",
       "Q 2575 -91 1722 -91 \n",
       "Q 1428 -91 1123 -41 \n",
       "Q 819 9 494 109 \n",
       "L 494 744 \n",
       "Q 775 591 1075 516 \n",
       "Q 1375 441 1709 441 \n",
       "Q 2250 441 2565 725 \n",
       "Q 2881 1009 2881 1497 \n",
       "Q 2881 1984 2565 2268 \n",
       "Q 2250 2553 1709 2553 \n",
       "Q 1456 2553 1204 2497 \n",
       "Q 953 2441 691 2322 \n",
       "L 691 4666 \n",
       "z\n",
       "\" transform=\"scale(0.015625)\"/>\n",
       "       </defs>\n",
       "       <use xlink:href=\"#DejaVuSans-2212\"/>\n",
       "       <use xlink:href=\"#DejaVuSans-30\" x=\"83.789062\"/>\n",
       "       <use xlink:href=\"#DejaVuSans-2e\" x=\"147.412109\"/>\n",
       "       <use xlink:href=\"#DejaVuSans-37\" x=\"179.199219\"/>\n",
       "       <use xlink:href=\"#DejaVuSans-35\" x=\"242.822266\"/>\n",
       "      </g>\n",
       "     </g>\n",
       "    </g>\n",
       "    <g id=\"xtick_3\">\n",
       "     <g id=\"line2d_3\">\n",
       "      <g>\n",
       "       <use xlink:href=\"#m8f1de1206a\" x=\"232.455931\" y=\"128.528148\" style=\"stroke: #000000; stroke-width: 0.8\"/>\n",
       "      </g>\n",
       "     </g>\n",
       "     <g id=\"text_3\">\n",
       "      <!-- −0.50 -->\n",
       "      <g transform=\"translate(217.133275 143.126585) scale(0.1 -0.1)\">\n",
       "       <use xlink:href=\"#DejaVuSans-2212\"/>\n",
       "       <use xlink:href=\"#DejaVuSans-30\" x=\"83.789062\"/>\n",
       "       <use xlink:href=\"#DejaVuSans-2e\" x=\"147.412109\"/>\n",
       "       <use xlink:href=\"#DejaVuSans-35\" x=\"179.199219\"/>\n",
       "       <use xlink:href=\"#DejaVuSans-30\" x=\"242.822266\"/>\n",
       "      </g>\n",
       "     </g>\n",
       "    </g>\n",
       "    <g id=\"xtick_4\">\n",
       "     <g id=\"line2d_4\">\n",
       "      <g>\n",
       "       <use xlink:href=\"#m8f1de1206a\" x=\"335.120714\" y=\"128.528148\" style=\"stroke: #000000; stroke-width: 0.8\"/>\n",
       "      </g>\n",
       "     </g>\n",
       "     <g id=\"text_4\">\n",
       "      <!-- −0.25 -->\n",
       "      <g transform=\"translate(319.798057 143.126585) scale(0.1 -0.1)\">\n",
       "       <defs>\n",
       "        <path id=\"DejaVuSans-32\" d=\"M 1228 531 \n",
       "L 3431 531 \n",
       "L 3431 0 \n",
       "L 469 0 \n",
       "L 469 531 \n",
       "Q 828 903 1448 1529 \n",
       "Q 2069 2156 2228 2338 \n",
       "Q 2531 2678 2651 2914 \n",
       "Q 2772 3150 2772 3378 \n",
       "Q 2772 3750 2511 3984 \n",
       "Q 2250 4219 1831 4219 \n",
       "Q 1534 4219 1204 4116 \n",
       "Q 875 4013 500 3803 \n",
       "L 500 4441 \n",
       "Q 881 4594 1212 4672 \n",
       "Q 1544 4750 1819 4750 \n",
       "Q 2544 4750 2975 4387 \n",
       "Q 3406 4025 3406 3419 \n",
       "Q 3406 3131 3298 2873 \n",
       "Q 3191 2616 2906 2266 \n",
       "Q 2828 2175 2409 1742 \n",
       "Q 1991 1309 1228 531 \n",
       "z\n",
       "\" transform=\"scale(0.015625)\"/>\n",
       "       </defs>\n",
       "       <use xlink:href=\"#DejaVuSans-2212\"/>\n",
       "       <use xlink:href=\"#DejaVuSans-30\" x=\"83.789062\"/>\n",
       "       <use xlink:href=\"#DejaVuSans-2e\" x=\"147.412109\"/>\n",
       "       <use xlink:href=\"#DejaVuSans-32\" x=\"179.199219\"/>\n",
       "       <use xlink:href=\"#DejaVuSans-35\" x=\"242.822266\"/>\n",
       "      </g>\n",
       "     </g>\n",
       "    </g>\n",
       "    <g id=\"xtick_5\">\n",
       "     <g id=\"line2d_5\">\n",
       "      <g>\n",
       "       <use xlink:href=\"#m8f1de1206a\" x=\"437.785496\" y=\"128.528148\" style=\"stroke: #000000; stroke-width: 0.8\"/>\n",
       "      </g>\n",
       "     </g>\n",
       "     <g id=\"text_5\">\n",
       "      <!-- 0.00 -->\n",
       "      <g transform=\"translate(426.652684 143.126585) scale(0.1 -0.1)\">\n",
       "       <use xlink:href=\"#DejaVuSans-30\"/>\n",
       "       <use xlink:href=\"#DejaVuSans-2e\" x=\"63.623047\"/>\n",
       "       <use xlink:href=\"#DejaVuSans-30\" x=\"95.410156\"/>\n",
       "       <use xlink:href=\"#DejaVuSans-30\" x=\"159.033203\"/>\n",
       "      </g>\n",
       "     </g>\n",
       "    </g>\n",
       "    <g id=\"xtick_6\">\n",
       "     <g id=\"line2d_6\">\n",
       "      <g>\n",
       "       <use xlink:href=\"#m8f1de1206a\" x=\"540.450279\" y=\"128.528148\" style=\"stroke: #000000; stroke-width: 0.8\"/>\n",
       "      </g>\n",
       "     </g>\n",
       "     <g id=\"text_6\">\n",
       "      <!-- 0.25 -->\n",
       "      <g transform=\"translate(529.317467 143.126585) scale(0.1 -0.1)\">\n",
       "       <use xlink:href=\"#DejaVuSans-30\"/>\n",
       "       <use xlink:href=\"#DejaVuSans-2e\" x=\"63.623047\"/>\n",
       "       <use xlink:href=\"#DejaVuSans-32\" x=\"95.410156\"/>\n",
       "       <use xlink:href=\"#DejaVuSans-35\" x=\"159.033203\"/>\n",
       "      </g>\n",
       "     </g>\n",
       "    </g>\n",
       "    <g id=\"xtick_7\">\n",
       "     <g id=\"line2d_7\">\n",
       "      <g>\n",
       "       <use xlink:href=\"#m8f1de1206a\" x=\"643.115062\" y=\"128.528148\" style=\"stroke: #000000; stroke-width: 0.8\"/>\n",
       "      </g>\n",
       "     </g>\n",
       "     <g id=\"text_7\">\n",
       "      <!-- 0.50 -->\n",
       "      <g transform=\"translate(631.982249 143.126585) scale(0.1 -0.1)\">\n",
       "       <use xlink:href=\"#DejaVuSans-30\"/>\n",
       "       <use xlink:href=\"#DejaVuSans-2e\" x=\"63.623047\"/>\n",
       "       <use xlink:href=\"#DejaVuSans-35\" x=\"95.410156\"/>\n",
       "       <use xlink:href=\"#DejaVuSans-30\" x=\"159.033203\"/>\n",
       "      </g>\n",
       "     </g>\n",
       "    </g>\n",
       "    <g id=\"xtick_8\">\n",
       "     <g id=\"line2d_8\">\n",
       "      <g>\n",
       "       <use xlink:href=\"#m8f1de1206a\" x=\"745.779845\" y=\"128.528148\" style=\"stroke: #000000; stroke-width: 0.8\"/>\n",
       "      </g>\n",
       "     </g>\n",
       "     <g id=\"text_8\">\n",
       "      <!-- 0.75 -->\n",
       "      <g transform=\"translate(734.647032 143.126585) scale(0.1 -0.1)\">\n",
       "       <use xlink:href=\"#DejaVuSans-30\"/>\n",
       "       <use xlink:href=\"#DejaVuSans-2e\" x=\"63.623047\"/>\n",
       "       <use xlink:href=\"#DejaVuSans-37\" x=\"95.410156\"/>\n",
       "       <use xlink:href=\"#DejaVuSans-35\" x=\"159.033203\"/>\n",
       "      </g>\n",
       "     </g>\n",
       "    </g>\n",
       "    <g id=\"xtick_9\">\n",
       "     <g id=\"line2d_9\">\n",
       "      <g>\n",
       "       <use xlink:href=\"#m8f1de1206a\" x=\"848.444627\" y=\"128.528148\" style=\"stroke: #000000; stroke-width: 0.8\"/>\n",
       "      </g>\n",
       "     </g>\n",
       "     <g id=\"text_9\">\n",
       "      <!-- 1.00 -->\n",
       "      <g transform=\"translate(837.311815 143.126585) scale(0.1 -0.1)\">\n",
       "       <use xlink:href=\"#DejaVuSans-31\"/>\n",
       "       <use xlink:href=\"#DejaVuSans-2e\" x=\"63.623047\"/>\n",
       "       <use xlink:href=\"#DejaVuSans-30\" x=\"95.410156\"/>\n",
       "       <use xlink:href=\"#DejaVuSans-30\" x=\"159.033203\"/>\n",
       "      </g>\n",
       "     </g>\n",
       "    </g>\n",
       "   </g>\n",
       "   <g id=\"matplotlib.axis_2\"/>\n",
       "   <g id=\"line2d_10\">\n",
       "    <path d=\"M 491.361993 128.528148 \n",
       "L 491.361993 20.214138 \n",
       "\" clip-path=\"url(#pe38d55bcb6)\" style=\"fill: none; stroke: #000000; stroke-width: 1.5; stroke-linecap: square\"/>\n",
       "   </g>\n",
       "   <g id=\"line2d_11\">\n",
       "    <path d=\"M 694.447453 128.528148 \n",
       "L 694.447453 20.214138 \n",
       "\" clip-path=\"url(#pe38d55bcb6)\" style=\"fill: none; stroke: #000000; stroke-width: 1.5; stroke-linecap: square\"/>\n",
       "   </g>\n",
       "   <g id=\"line2d_12\">\n",
       "    <path d=\"M 437.785496 128.528148 \n",
       "L 437.785496 20.214138 \n",
       "\" clip-path=\"url(#pe38d55bcb6)\" style=\"fill: none; stroke: #ff0000; stroke-width: 1.5; stroke-linecap: square\"/>\n",
       "   </g>\n",
       "   <g id=\"line2d_13\">\n",
       "    <path d=\"M 848.444627 128.528148 \n",
       "L 848.444627 20.214138 \n",
       "\" clip-path=\"url(#pe38d55bcb6)\" style=\"fill: none; stroke: #ff0000; stroke-width: 1.5; stroke-linecap: square\"/>\n",
       "   </g>\n",
       "   <g id=\"patch_3\">\n",
       "    <path d=\"M 10.7 128.528148 \n",
       "L 10.7 20.214138 \n",
       "\" style=\"fill: none; stroke: #000000; stroke-width: 0.8; stroke-linejoin: miter; stroke-linecap: square\"/>\n",
       "   </g>\n",
       "   <g id=\"patch_4\">\n",
       "    <path d=\"M 865.19952 128.528148 \n",
       "L 865.19952 20.214138 \n",
       "\" style=\"fill: none; stroke: #000000; stroke-width: 0.8; stroke-linejoin: miter; stroke-linecap: square\"/>\n",
       "   </g>\n",
       "   <g id=\"patch_5\">\n",
       "    <path d=\"M 10.7 128.528148 \n",
       "L 865.19952 128.528148 \n",
       "\" style=\"fill: none; stroke: #000000; stroke-width: 0.8; stroke-linejoin: miter; stroke-linecap: square\"/>\n",
       "   </g>\n",
       "   <g id=\"patch_6\">\n",
       "    <path d=\"M 10.7 20.214138 \n",
       "L 865.19952 20.214138 \n",
       "\" style=\"fill: none; stroke: #000000; stroke-width: 0.8; stroke-linejoin: miter; stroke-linecap: square\"/>\n",
       "   </g>\n",
       "   <g id=\"text_10\">\n",
       "    <g id=\"patch_7\">\n",
       "     <path d=\"M 436.785496 92.759424 \n",
       "L 436.785496 55.982862 \n",
       "Q 436.785496 55.982862 436.785496 55.982862 \n",
       "L 427.107371 55.982862 \n",
       "Q 427.107371 55.982862 427.107371 55.982862 \n",
       "L 427.107371 92.759424 \n",
       "Q 427.107371 92.759424 427.107371 92.759424 \n",
       "L 436.785496 92.759424 \n",
       "Q 436.785496 92.759424 436.785496 92.759424 \n",
       "z\n",
       "\" style=\"fill: #ffffff\"/>\n",
       "    </g>\n",
       "    <!-- min=0. -->\n",
       "    <g transform=\"translate(434.705809 92.759424) rotate(-90) scale(0.1 -0.1)\">\n",
       "     <defs>\n",
       "      <path id=\"DejaVuSans-6d\" d=\"M 3328 2828 \n",
       "Q 3544 3216 3844 3400 \n",
       "Q 4144 3584 4550 3584 \n",
       "Q 5097 3584 5394 3201 \n",
       "Q 5691 2819 5691 2113 \n",
       "L 5691 0 \n",
       "L 5113 0 \n",
       "L 5113 2094 \n",
       "Q 5113 2597 4934 2840 \n",
       "Q 4756 3084 4391 3084 \n",
       "Q 3944 3084 3684 2787 \n",
       "Q 3425 2491 3425 1978 \n",
       "L 3425 0 \n",
       "L 2847 0 \n",
       "L 2847 2094 \n",
       "Q 2847 2600 2669 2842 \n",
       "Q 2491 3084 2119 3084 \n",
       "Q 1678 3084 1418 2786 \n",
       "Q 1159 2488 1159 1978 \n",
       "L 1159 0 \n",
       "L 581 0 \n",
       "L 581 3500 \n",
       "L 1159 3500 \n",
       "L 1159 2956 \n",
       "Q 1356 3278 1631 3431 \n",
       "Q 1906 3584 2284 3584 \n",
       "Q 2666 3584 2933 3390 \n",
       "Q 3200 3197 3328 2828 \n",
       "z\n",
       "\" transform=\"scale(0.015625)\"/>\n",
       "      <path id=\"DejaVuSans-69\" d=\"M 603 3500 \n",
       "L 1178 3500 \n",
       "L 1178 0 \n",
       "L 603 0 \n",
       "L 603 3500 \n",
       "z\n",
       "M 603 4863 \n",
       "L 1178 4863 \n",
       "L 1178 4134 \n",
       "L 603 4134 \n",
       "L 603 4863 \n",
       "z\n",
       "\" transform=\"scale(0.015625)\"/>\n",
       "      <path id=\"DejaVuSans-6e\" d=\"M 3513 2113 \n",
       "L 3513 0 \n",
       "L 2938 0 \n",
       "L 2938 2094 \n",
       "Q 2938 2591 2744 2837 \n",
       "Q 2550 3084 2163 3084 \n",
       "Q 1697 3084 1428 2787 \n",
       "Q 1159 2491 1159 1978 \n",
       "L 1159 0 \n",
       "L 581 0 \n",
       "L 581 3500 \n",
       "L 1159 3500 \n",
       "L 1159 2956 \n",
       "Q 1366 3272 1645 3428 \n",
       "Q 1925 3584 2291 3584 \n",
       "Q 2894 3584 3203 3211 \n",
       "Q 3513 2838 3513 2113 \n",
       "z\n",
       "\" transform=\"scale(0.015625)\"/>\n",
       "      <path id=\"DejaVuSans-3d\" d=\"M 678 2906 \n",
       "L 4684 2906 \n",
       "L 4684 2381 \n",
       "L 678 2381 \n",
       "L 678 2906 \n",
       "z\n",
       "M 678 1631 \n",
       "L 4684 1631 \n",
       "L 4684 1100 \n",
       "L 678 1100 \n",
       "L 678 1631 \n",
       "z\n",
       "\" transform=\"scale(0.015625)\"/>\n",
       "     </defs>\n",
       "     <use xlink:href=\"#DejaVuSans-6d\"/>\n",
       "     <use xlink:href=\"#DejaVuSans-69\" x=\"97.412109\"/>\n",
       "     <use xlink:href=\"#DejaVuSans-6e\" x=\"125.195312\"/>\n",
       "     <use xlink:href=\"#DejaVuSans-3d\" x=\"188.574219\"/>\n",
       "     <use xlink:href=\"#DejaVuSans-30\" x=\"272.363281\"/>\n",
       "     <use xlink:href=\"#DejaVuSans-2e\" x=\"335.986328\"/>\n",
       "    </g>\n",
       "   </g>\n",
       "   <g id=\"text_11\">\n",
       "    <g id=\"patch_8\">\n",
       "     <path d=\"M 860.122752 103.768799 \n",
       "L 860.122752 44.973487 \n",
       "Q 860.122752 44.973487 860.122752 44.973487 \n",
       "L 850.444627 44.973487 \n",
       "Q 850.444627 44.973487 850.444627 44.973487 \n",
       "L 850.444627 103.768799 \n",
       "Q 850.444627 103.768799 850.444627 103.768799 \n",
       "L 860.122752 103.768799 \n",
       "Q 860.122752 103.768799 860.122752 103.768799 \n",
       "z\n",
       "\" style=\"fill: #ffffff\"/>\n",
       "    </g>\n",
       "    <!-- max=1.000 -->\n",
       "    <g transform=\"translate(858.043065 103.768799) rotate(-90) scale(0.1 -0.1)\">\n",
       "     <defs>\n",
       "      <path id=\"DejaVuSans-61\" d=\"M 2194 1759 \n",
       "Q 1497 1759 1228 1600 \n",
       "Q 959 1441 959 1056 \n",
       "Q 959 750 1161 570 \n",
       "Q 1363 391 1709 391 \n",
       "Q 2188 391 2477 730 \n",
       "Q 2766 1069 2766 1631 \n",
       "L 2766 1759 \n",
       "L 2194 1759 \n",
       "z\n",
       "M 3341 1997 \n",
       "L 3341 0 \n",
       "L 2766 0 \n",
       "L 2766 531 \n",
       "Q 2569 213 2275 61 \n",
       "Q 1981 -91 1556 -91 \n",
       "Q 1019 -91 701 211 \n",
       "Q 384 513 384 1019 \n",
       "Q 384 1609 779 1909 \n",
       "Q 1175 2209 1959 2209 \n",
       "L 2766 2209 \n",
       "L 2766 2266 \n",
       "Q 2766 2663 2505 2880 \n",
       "Q 2244 3097 1772 3097 \n",
       "Q 1472 3097 1187 3025 \n",
       "Q 903 2953 641 2809 \n",
       "L 641 3341 \n",
       "Q 956 3463 1253 3523 \n",
       "Q 1550 3584 1831 3584 \n",
       "Q 2591 3584 2966 3190 \n",
       "Q 3341 2797 3341 1997 \n",
       "z\n",
       "\" transform=\"scale(0.015625)\"/>\n",
       "      <path id=\"DejaVuSans-78\" d=\"M 3513 3500 \n",
       "L 2247 1797 \n",
       "L 3578 0 \n",
       "L 2900 0 \n",
       "L 1881 1375 \n",
       "L 863 0 \n",
       "L 184 0 \n",
       "L 1544 1831 \n",
       "L 300 3500 \n",
       "L 978 3500 \n",
       "L 1906 2253 \n",
       "L 2834 3500 \n",
       "L 3513 3500 \n",
       "z\n",
       "\" transform=\"scale(0.015625)\"/>\n",
       "     </defs>\n",
       "     <use xlink:href=\"#DejaVuSans-6d\"/>\n",
       "     <use xlink:href=\"#DejaVuSans-61\" x=\"97.412109\"/>\n",
       "     <use xlink:href=\"#DejaVuSans-78\" x=\"158.691406\"/>\n",
       "     <use xlink:href=\"#DejaVuSans-3d\" x=\"217.871094\"/>\n",
       "     <use xlink:href=\"#DejaVuSans-31\" x=\"301.660156\"/>\n",
       "     <use xlink:href=\"#DejaVuSans-2e\" x=\"365.283203\"/>\n",
       "     <use xlink:href=\"#DejaVuSans-30\" x=\"397.070312\"/>\n",
       "     <use xlink:href=\"#DejaVuSans-30\" x=\"460.693359\"/>\n",
       "     <use xlink:href=\"#DejaVuSans-30\" x=\"524.316406\"/>\n",
       "    </g>\n",
       "   </g>\n",
       "   <g id=\"text_12\">\n",
       "    <!-- tensor[24] x∈[0., 1.000] μ=0.625 σ=0.495 -->\n",
       "    <g transform=\"translate(10.7 14.798437) scale(0.1 -0.1)\">\n",
       "     <defs>\n",
       "      <path id=\"DejaVuSans-74\" d=\"M 1172 4494 \n",
       "L 1172 3500 \n",
       "L 2356 3500 \n",
       "L 2356 3053 \n",
       "L 1172 3053 \n",
       "L 1172 1153 \n",
       "Q 1172 725 1289 603 \n",
       "Q 1406 481 1766 481 \n",
       "L 2356 481 \n",
       "L 2356 0 \n",
       "L 1766 0 \n",
       "Q 1100 0 847 248 \n",
       "Q 594 497 594 1153 \n",
       "L 594 3053 \n",
       "L 172 3053 \n",
       "L 172 3500 \n",
       "L 594 3500 \n",
       "L 594 4494 \n",
       "L 1172 4494 \n",
       "z\n",
       "\" transform=\"scale(0.015625)\"/>\n",
       "      <path id=\"DejaVuSans-65\" d=\"M 3597 1894 \n",
       "L 3597 1613 \n",
       "L 953 1613 \n",
       "Q 991 1019 1311 708 \n",
       "Q 1631 397 2203 397 \n",
       "Q 2534 397 2845 478 \n",
       "Q 3156 559 3463 722 \n",
       "L 3463 178 \n",
       "Q 3153 47 2828 -22 \n",
       "Q 2503 -91 2169 -91 \n",
       "Q 1331 -91 842 396 \n",
       "Q 353 884 353 1716 \n",
       "Q 353 2575 817 3079 \n",
       "Q 1281 3584 2069 3584 \n",
       "Q 2775 3584 3186 3129 \n",
       "Q 3597 2675 3597 1894 \n",
       "z\n",
       "M 3022 2063 \n",
       "Q 3016 2534 2758 2815 \n",
       "Q 2500 3097 2075 3097 \n",
       "Q 1594 3097 1305 2825 \n",
       "Q 1016 2553 972 2059 \n",
       "L 3022 2063 \n",
       "z\n",
       "\" transform=\"scale(0.015625)\"/>\n",
       "      <path id=\"DejaVuSans-73\" d=\"M 2834 3397 \n",
       "L 2834 2853 \n",
       "Q 2591 2978 2328 3040 \n",
       "Q 2066 3103 1784 3103 \n",
       "Q 1356 3103 1142 2972 \n",
       "Q 928 2841 928 2578 \n",
       "Q 928 2378 1081 2264 \n",
       "Q 1234 2150 1697 2047 \n",
       "L 1894 2003 \n",
       "Q 2506 1872 2764 1633 \n",
       "Q 3022 1394 3022 966 \n",
       "Q 3022 478 2636 193 \n",
       "Q 2250 -91 1575 -91 \n",
       "Q 1294 -91 989 -36 \n",
       "Q 684 19 347 128 \n",
       "L 347 722 \n",
       "Q 666 556 975 473 \n",
       "Q 1284 391 1588 391 \n",
       "Q 1994 391 2212 530 \n",
       "Q 2431 669 2431 922 \n",
       "Q 2431 1156 2273 1281 \n",
       "Q 2116 1406 1581 1522 \n",
       "L 1381 1569 \n",
       "Q 847 1681 609 1914 \n",
       "Q 372 2147 372 2553 \n",
       "Q 372 3047 722 3315 \n",
       "Q 1072 3584 1716 3584 \n",
       "Q 2034 3584 2315 3537 \n",
       "Q 2597 3491 2834 3397 \n",
       "z\n",
       "\" transform=\"scale(0.015625)\"/>\n",
       "      <path id=\"DejaVuSans-6f\" d=\"M 1959 3097 \n",
       "Q 1497 3097 1228 2736 \n",
       "Q 959 2375 959 1747 \n",
       "Q 959 1119 1226 758 \n",
       "Q 1494 397 1959 397 \n",
       "Q 2419 397 2687 759 \n",
       "Q 2956 1122 2956 1747 \n",
       "Q 2956 2369 2687 2733 \n",
       "Q 2419 3097 1959 3097 \n",
       "z\n",
       "M 1959 3584 \n",
       "Q 2709 3584 3137 3096 \n",
       "Q 3566 2609 3566 1747 \n",
       "Q 3566 888 3137 398 \n",
       "Q 2709 -91 1959 -91 \n",
       "Q 1206 -91 779 398 \n",
       "Q 353 888 353 1747 \n",
       "Q 353 2609 779 3096 \n",
       "Q 1206 3584 1959 3584 \n",
       "z\n",
       "\" transform=\"scale(0.015625)\"/>\n",
       "      <path id=\"DejaVuSans-72\" d=\"M 2631 2963 \n",
       "Q 2534 3019 2420 3045 \n",
       "Q 2306 3072 2169 3072 \n",
       "Q 1681 3072 1420 2755 \n",
       "Q 1159 2438 1159 1844 \n",
       "L 1159 0 \n",
       "L 581 0 \n",
       "L 581 3500 \n",
       "L 1159 3500 \n",
       "L 1159 2956 \n",
       "Q 1341 3275 1631 3429 \n",
       "Q 1922 3584 2338 3584 \n",
       "Q 2397 3584 2469 3576 \n",
       "Q 2541 3569 2628 3553 \n",
       "L 2631 2963 \n",
       "z\n",
       "\" transform=\"scale(0.015625)\"/>\n",
       "      <path id=\"DejaVuSans-5b\" d=\"M 550 4863 \n",
       "L 1875 4863 \n",
       "L 1875 4416 \n",
       "L 1125 4416 \n",
       "L 1125 -397 \n",
       "L 1875 -397 \n",
       "L 1875 -844 \n",
       "L 550 -844 \n",
       "L 550 4863 \n",
       "z\n",
       "\" transform=\"scale(0.015625)\"/>\n",
       "      <path id=\"DejaVuSans-34\" d=\"M 2419 4116 \n",
       "L 825 1625 \n",
       "L 2419 1625 \n",
       "L 2419 4116 \n",
       "z\n",
       "M 2253 4666 \n",
       "L 3047 4666 \n",
       "L 3047 1625 \n",
       "L 3713 1625 \n",
       "L 3713 1100 \n",
       "L 3047 1100 \n",
       "L 3047 0 \n",
       "L 2419 0 \n",
       "L 2419 1100 \n",
       "L 313 1100 \n",
       "L 313 1709 \n",
       "L 2253 4666 \n",
       "z\n",
       "\" transform=\"scale(0.015625)\"/>\n",
       "      <path id=\"DejaVuSans-5d\" d=\"M 1947 4863 \n",
       "L 1947 -844 \n",
       "L 622 -844 \n",
       "L 622 -397 \n",
       "L 1369 -397 \n",
       "L 1369 4416 \n",
       "L 622 4416 \n",
       "L 622 4863 \n",
       "L 1947 4863 \n",
       "z\n",
       "\" transform=\"scale(0.015625)\"/>\n",
       "      <path id=\"DejaVuSans-20\" transform=\"scale(0.015625)\"/>\n",
       "      <path id=\"DejaVuSans-2208\" d=\"M 1072 1959 \n",
       "Q 1094 1728 1291 1353 \n",
       "Q 1522 919 1959 675 \n",
       "Q 2388 438 2850 434 \n",
       "L 5028 434 \n",
       "L 5028 -63 \n",
       "L 2850 -63 \n",
       "Q 2250 -63 1695 246 \n",
       "Q 1141 556 844 1106 \n",
       "Q 547 1656 547 2241 \n",
       "Q 547 2819 844 3369 \n",
       "Q 1141 3919 1695 4231 \n",
       "Q 2250 4544 2850 4544 \n",
       "L 5028 4544 \n",
       "L 5028 4047 \n",
       "L 2850 4047 \n",
       "Q 2388 4044 1959 3803 \n",
       "Q 1525 3556 1291 3125 \n",
       "Q 1091 2750 1063 2459 \n",
       "L 5028 2459 \n",
       "L 5028 1959 \n",
       "L 1072 1959 \n",
       "z\n",
       "\" transform=\"scale(0.015625)\"/>\n",
       "      <path id=\"DejaVuSans-2c\" d=\"M 750 794 \n",
       "L 1409 794 \n",
       "L 1409 256 \n",
       "L 897 -744 \n",
       "L 494 -744 \n",
       "L 750 256 \n",
       "L 750 794 \n",
       "z\n",
       "\" transform=\"scale(0.015625)\"/>\n",
       "      <path id=\"DejaVuSans-3bc\" d=\"M 544 -1331 \n",
       "L 544 3500 \n",
       "L 1119 3500 \n",
       "L 1119 1325 \n",
       "Q 1119 872 1334 640 \n",
       "Q 1550 409 1972 409 \n",
       "Q 2434 409 2667 671 \n",
       "Q 2900 934 2900 1459 \n",
       "L 2900 3500 \n",
       "L 3475 3500 \n",
       "L 3475 806 \n",
       "Q 3475 619 3529 530 \n",
       "Q 3584 441 3700 441 \n",
       "Q 3728 441 3778 458 \n",
       "Q 3828 475 3916 513 \n",
       "L 3916 50 \n",
       "Q 3788 -22 3673 -56 \n",
       "Q 3559 -91 3450 -91 \n",
       "Q 3234 -91 3106 31 \n",
       "Q 2978 153 2931 403 \n",
       "Q 2775 156 2548 32 \n",
       "Q 2322 -91 2016 -91 \n",
       "Q 1697 -91 1473 31 \n",
       "Q 1250 153 1119 397 \n",
       "L 1119 -1331 \n",
       "L 544 -1331 \n",
       "z\n",
       "\" transform=\"scale(0.015625)\"/>\n",
       "      <path id=\"DejaVuSans-36\" d=\"M 2113 2584 \n",
       "Q 1688 2584 1439 2293 \n",
       "Q 1191 2003 1191 1497 \n",
       "Q 1191 994 1439 701 \n",
       "Q 1688 409 2113 409 \n",
       "Q 2538 409 2786 701 \n",
       "Q 3034 994 3034 1497 \n",
       "Q 3034 2003 2786 2293 \n",
       "Q 2538 2584 2113 2584 \n",
       "z\n",
       "M 3366 4563 \n",
       "L 3366 3988 \n",
       "Q 3128 4100 2886 4159 \n",
       "Q 2644 4219 2406 4219 \n",
       "Q 1781 4219 1451 3797 \n",
       "Q 1122 3375 1075 2522 \n",
       "Q 1259 2794 1537 2939 \n",
       "Q 1816 3084 2150 3084 \n",
       "Q 2853 3084 3261 2657 \n",
       "Q 3669 2231 3669 1497 \n",
       "Q 3669 778 3244 343 \n",
       "Q 2819 -91 2113 -91 \n",
       "Q 1303 -91 875 529 \n",
       "Q 447 1150 447 2328 \n",
       "Q 447 3434 972 4092 \n",
       "Q 1497 4750 2381 4750 \n",
       "Q 2619 4750 2861 4703 \n",
       "Q 3103 4656 3366 4563 \n",
       "z\n",
       "\" transform=\"scale(0.015625)\"/>\n",
       "      <path id=\"DejaVuSans-3c3\" d=\"M 1959 3044 \n",
       "Q 1484 3044 1228 2700 \n",
       "Q 959 2341 959 1747 \n",
       "Q 959 1119 1226 758 \n",
       "Q 1494 397 1959 397 \n",
       "Q 2419 397 2687 759 \n",
       "Q 2956 1122 2956 1747 \n",
       "Q 2956 2319 2688 2700 \n",
       "Q 2441 3044 1959 3044 \n",
       "z\n",
       "M 1959 3500 \n",
       "L 3869 3500 \n",
       "L 3869 2925 \n",
       "L 3225 2925 \n",
       "Q 3566 2438 3566 1747 \n",
       "Q 3566 888 3138 400 \n",
       "Q 2709 -91 1959 -91 \n",
       "Q 1206 -91 781 400 \n",
       "Q 353 888 353 1747 \n",
       "Q 353 2613 781 3097 \n",
       "Q 1134 3500 1959 3500 \n",
       "z\n",
       "\" transform=\"scale(0.015625)\"/>\n",
       "      <path id=\"DejaVuSans-39\" d=\"M 703 97 \n",
       "L 703 672 \n",
       "Q 941 559 1184 500 \n",
       "Q 1428 441 1663 441 \n",
       "Q 2288 441 2617 861 \n",
       "Q 2947 1281 2994 2138 \n",
       "Q 2813 1869 2534 1725 \n",
       "Q 2256 1581 1919 1581 \n",
       "Q 1219 1581 811 2004 \n",
       "Q 403 2428 403 3163 \n",
       "Q 403 3881 828 4315 \n",
       "Q 1253 4750 1959 4750 \n",
       "Q 2769 4750 3195 4129 \n",
       "Q 3622 3509 3622 2328 \n",
       "Q 3622 1225 3098 567 \n",
       "Q 2575 -91 1691 -91 \n",
       "Q 1453 -91 1209 -44 \n",
       "Q 966 3 703 97 \n",
       "z\n",
       "M 1959 2075 \n",
       "Q 2384 2075 2632 2365 \n",
       "Q 2881 2656 2881 3163 \n",
       "Q 2881 3666 2632 3958 \n",
       "Q 2384 4250 1959 4250 \n",
       "Q 1534 4250 1286 3958 \n",
       "Q 1038 3666 1038 3163 \n",
       "Q 1038 2656 1286 2365 \n",
       "Q 1534 2075 1959 2075 \n",
       "z\n",
       "\" transform=\"scale(0.015625)\"/>\n",
       "     </defs>\n",
       "     <use xlink:href=\"#DejaVuSans-74\"/>\n",
       "     <use xlink:href=\"#DejaVuSans-65\" x=\"39.208984\"/>\n",
       "     <use xlink:href=\"#DejaVuSans-6e\" x=\"100.732422\"/>\n",
       "     <use xlink:href=\"#DejaVuSans-73\" x=\"164.111328\"/>\n",
       "     <use xlink:href=\"#DejaVuSans-6f\" x=\"216.210938\"/>\n",
       "     <use xlink:href=\"#DejaVuSans-72\" x=\"277.392578\"/>\n",
       "     <use xlink:href=\"#DejaVuSans-5b\" x=\"318.505859\"/>\n",
       "     <use xlink:href=\"#DejaVuSans-32\" x=\"357.519531\"/>\n",
       "     <use xlink:href=\"#DejaVuSans-34\" x=\"421.142578\"/>\n",
       "     <use xlink:href=\"#DejaVuSans-5d\" x=\"484.765625\"/>\n",
       "     <use xlink:href=\"#DejaVuSans-20\" x=\"523.779297\"/>\n",
       "     <use xlink:href=\"#DejaVuSans-78\" x=\"555.566406\"/>\n",
       "     <use xlink:href=\"#DejaVuSans-2208\" x=\"614.746094\"/>\n",
       "     <use xlink:href=\"#DejaVuSans-5b\" x=\"701.855469\"/>\n",
       "     <use xlink:href=\"#DejaVuSans-30\" x=\"740.869141\"/>\n",
       "     <use xlink:href=\"#DejaVuSans-2e\" x=\"804.492188\"/>\n",
       "     <use xlink:href=\"#DejaVuSans-2c\" x=\"836.279297\"/>\n",
       "     <use xlink:href=\"#DejaVuSans-20\" x=\"868.066406\"/>\n",
       "     <use xlink:href=\"#DejaVuSans-31\" x=\"899.853516\"/>\n",
       "     <use xlink:href=\"#DejaVuSans-2e\" x=\"963.476562\"/>\n",
       "     <use xlink:href=\"#DejaVuSans-30\" x=\"995.263672\"/>\n",
       "     <use xlink:href=\"#DejaVuSans-30\" x=\"1058.886719\"/>\n",
       "     <use xlink:href=\"#DejaVuSans-30\" x=\"1122.509766\"/>\n",
       "     <use xlink:href=\"#DejaVuSans-5d\" x=\"1186.132812\"/>\n",
       "     <use xlink:href=\"#DejaVuSans-20\" x=\"1225.146484\"/>\n",
       "     <use xlink:href=\"#DejaVuSans-3bc\" x=\"1256.933594\"/>\n",
       "     <use xlink:href=\"#DejaVuSans-3d\" x=\"1320.556641\"/>\n",
       "     <use xlink:href=\"#DejaVuSans-30\" x=\"1404.345703\"/>\n",
       "     <use xlink:href=\"#DejaVuSans-2e\" x=\"1467.96875\"/>\n",
       "     <use xlink:href=\"#DejaVuSans-36\" x=\"1499.755859\"/>\n",
       "     <use xlink:href=\"#DejaVuSans-32\" x=\"1563.378906\"/>\n",
       "     <use xlink:href=\"#DejaVuSans-35\" x=\"1627.001953\"/>\n",
       "     <use xlink:href=\"#DejaVuSans-20\" x=\"1690.625\"/>\n",
       "     <use xlink:href=\"#DejaVuSans-3c3\" x=\"1722.412109\"/>\n",
       "     <use xlink:href=\"#DejaVuSans-3d\" x=\"1785.791016\"/>\n",
       "     <use xlink:href=\"#DejaVuSans-30\" x=\"1869.580078\"/>\n",
       "     <use xlink:href=\"#DejaVuSans-2e\" x=\"1933.203125\"/>\n",
       "     <use xlink:href=\"#DejaVuSans-34\" x=\"1964.990234\"/>\n",
       "     <use xlink:href=\"#DejaVuSans-39\" x=\"2028.613281\"/>\n",
       "     <use xlink:href=\"#DejaVuSans-35\" x=\"2092.236328\"/>\n",
       "    </g>\n",
       "   </g>\n",
       "   <g id=\"patch_9\">\n",
       "    <path d=\"M 437.785496 128.528148 \n",
       "L 478.85141 128.528148 \n",
       "L 478.85141 80.917583 \n",
       "L 437.785496 80.917583 \n",
       "z\n",
       "\" clip-path=\"url(#pe38d55bcb6)\" style=\"fill: #00bfff\"/>\n",
       "   </g>\n",
       "   <g id=\"patch_10\">\n",
       "    <path d=\"M 478.85141 128.528148 \n",
       "L 519.917324 128.528148 \n",
       "L 519.917324 128.528148 \n",
       "L 478.85141 128.528148 \n",
       "z\n",
       "\" clip-path=\"url(#pe38d55bcb6)\" style=\"fill: #00bfff\"/>\n",
       "   </g>\n",
       "   <g id=\"patch_11\">\n",
       "    <path d=\"M 519.917324 128.528148 \n",
       "L 560.983241 128.528148 \n",
       "L 560.983241 128.528148 \n",
       "L 519.917324 128.528148 \n",
       "z\n",
       "\" clip-path=\"url(#pe38d55bcb6)\" style=\"fill: #00bfff\"/>\n",
       "   </g>\n",
       "   <g id=\"patch_12\">\n",
       "    <path d=\"M 560.983241 128.528148 \n",
       "L 602.049151 128.528148 \n",
       "L 602.049151 128.528148 \n",
       "L 560.983241 128.528148 \n",
       "z\n",
       "\" clip-path=\"url(#pe38d55bcb6)\" style=\"fill: #00bfff\"/>\n",
       "   </g>\n",
       "   <g id=\"patch_13\">\n",
       "    <path d=\"M 602.049151 128.528148 \n",
       "L 643.115062 128.528148 \n",
       "L 643.115062 128.528148 \n",
       "L 602.049151 128.528148 \n",
       "z\n",
       "\" clip-path=\"url(#pe38d55bcb6)\" style=\"fill: #00bfff\"/>\n",
       "   </g>\n",
       "   <g id=\"patch_14\">\n",
       "    <path d=\"M 643.115062 128.528148 \n",
       "L 684.180985 128.528148 \n",
       "L 684.180985 128.528148 \n",
       "L 643.115062 128.528148 \n",
       "z\n",
       "\" clip-path=\"url(#pe38d55bcb6)\" style=\"fill: #00bfff\"/>\n",
       "   </g>\n",
       "   <g id=\"patch_15\">\n",
       "    <path d=\"M 684.180985 128.528148 \n",
       "L 725.246883 128.528148 \n",
       "L 725.246883 128.528148 \n",
       "L 684.180985 128.528148 \n",
       "z\n",
       "\" clip-path=\"url(#pe38d55bcb6)\" style=\"fill: #00bfff\"/>\n",
       "   </g>\n",
       "   <g id=\"patch_16\">\n",
       "    <path d=\"M 725.246883 128.528148 \n",
       "L 766.312806 128.528148 \n",
       "L 766.312806 128.528148 \n",
       "L 725.246883 128.528148 \n",
       "z\n",
       "\" clip-path=\"url(#pe38d55bcb6)\" style=\"fill: #00bfff\"/>\n",
       "   </g>\n",
       "   <g id=\"patch_17\">\n",
       "    <path d=\"M 766.312806 128.528148 \n",
       "L 807.378705 128.528148 \n",
       "L 807.378705 128.528148 \n",
       "L 766.312806 128.528148 \n",
       "z\n",
       "\" clip-path=\"url(#pe38d55bcb6)\" style=\"fill: #00bfff\"/>\n",
       "   </g>\n",
       "   <g id=\"patch_18\">\n",
       "    <path d=\"M 807.378705 128.528148 \n",
       "L 848.444627 128.528148 \n",
       "L 848.444627 49.177225 \n",
       "L 807.378705 49.177225 \n",
       "z\n",
       "\" clip-path=\"url(#pe38d55bcb6)\" style=\"fill: #00bfff\"/>\n",
       "   </g>\n",
       "   <g id=\"line2d_14\">\n",
       "    <path d=\"M 10.7 128.492752 \n",
       "L 19.331308 128.487344 \n",
       "L 27.962617 128.481194 \n",
       "L 36.593925 128.474215 \n",
       "L 45.225233 128.46631 \n",
       "L 53.856541 128.457375 \n",
       "L 62.48785 128.447295 \n",
       "L 71.119158 128.435946 \n",
       "L 79.750466 128.423193 \n",
       "L 88.381775 128.408893 \n",
       "L 97.013083 128.392888 \n",
       "L 105.644391 128.375013 \n",
       "L 114.275699 128.355088 \n",
       "L 122.907008 128.332923 \n",
       "L 131.538316 128.308317 \n",
       "L 140.169624 128.281056 \n",
       "L 148.800933 128.250917 \n",
       "L 157.432241 128.217662 \n",
       "L 166.063549 128.181045 \n",
       "L 174.694857 128.140811 \n",
       "L 183.326166 128.096693 \n",
       "L 191.957474 128.048417 \n",
       "L 200.588782 127.995702 \n",
       "L 209.220091 127.938261 \n",
       "L 217.851399 127.875802 \n",
       "L 226.482707 127.808033 \n",
       "L 235.114015 127.734657 \n",
       "L 243.745324 127.655383 \n",
       "L 252.376632 127.569922 \n",
       "L 261.00794 127.477991 \n",
       "L 269.639248 127.379317 \n",
       "L 278.270557 127.273639 \n",
       "L 286.901865 127.160713 \n",
       "L 295.533173 127.040312 \n",
       "L 304.164482 126.912231 \n",
       "L 312.79579 126.776291 \n",
       "L 321.427098 126.632343 \n",
       "L 330.058406 126.480269 \n",
       "L 338.689715 126.319989 \n",
       "L 347.321023 126.151461 \n",
       "L 355.952331 125.974688 \n",
       "L 364.58364 125.789717 \n",
       "L 373.214948 125.596648 \n",
       "L 381.846256 125.395629 \n",
       "L 390.477564 125.186868 \n",
       "L 399.108873 124.970625 \n",
       "L 407.740181 124.747224 \n",
       "L 416.371489 124.517045 \n",
       "L 425.002798 124.280533 \n",
       "L 433.634106 124.038193 \n",
       "L 442.265414 123.790592 \n",
       "L 450.896722 123.538358 \n",
       "L 459.528031 123.282179 \n",
       "L 468.159339 123.022801 \n",
       "L 476.790647 122.761026 \n",
       "L 485.421956 122.497706 \n",
       "L 494.053264 122.233743 \n",
       "L 502.684572 121.970083 \n",
       "L 511.31588 121.70771 \n",
       "L 519.947189 121.44764 \n",
       "L 528.578497 121.19092 \n",
       "L 537.209805 120.938613 \n",
       "L 545.841114 120.691798 \n",
       "L 554.472422 120.451558 \n",
       "L 563.10373 120.218976 \n",
       "L 571.735038 119.995124 \n",
       "L 580.366347 119.781055 \n",
       "L 588.997655 119.577798 \n",
       "L 597.628963 119.386345 \n",
       "L 606.260272 119.207649 \n",
       "L 614.89158 119.042609 \n",
       "L 623.522888 118.892068 \n",
       "L 632.154196 118.756804 \n",
       "L 640.785505 118.637523 \n",
       "L 649.416813 118.534853 \n",
       "L 658.048121 118.44934 \n",
       "L 666.679429 118.38144 \n",
       "L 675.310738 118.331517 \n",
       "L 683.942046 118.299841 \n",
       "L 692.573354 118.286583 \n",
       "L 701.204663 118.291815 \n",
       "L 709.835971 118.315508 \n",
       "L 718.467279 118.357534 \n",
       "L 727.098587 118.417667 \n",
       "L 735.729896 118.495582 \n",
       "L 744.361204 118.590863 \n",
       "L 752.992512 118.703003 \n",
       "L 761.623821 118.831409 \n",
       "L 770.255129 118.975407 \n",
       "L 778.886437 119.134251 \n",
       "L 787.517745 119.307124 \n",
       "L 796.149054 119.493151 \n",
       "L 804.780362 119.691402 \n",
       "L 813.41167 119.9009 \n",
       "L 822.042979 120.120632 \n",
       "L 830.674287 120.349554 \n",
       "L 839.305595 120.586601 \n",
       "L 847.936903 120.830694 \n",
       "L 856.568212 121.080749 \n",
       "L 865.19952 121.335685 \n",
       "\" clip-path=\"url(#pe38d55bcb6)\" style=\"fill: none; stroke: #1f77b4; stroke-width: 1.5; stroke-linecap: square\"/>\n",
       "   </g>\n",
       "   <g id=\"text_13\">\n",
       "    <g id=\"patch_19\">\n",
       "     <path d=\"M 486.389337 38.307963 \n",
       "L 496.33465 38.307963 \n",
       "Q 499.33465 38.307963 499.33465 35.307963 \n",
       "L 499.33465 25.629838 \n",
       "Q 499.33465 22.629838 496.33465 22.629838 \n",
       "L 486.389337 22.629838 \n",
       "Q 483.389337 22.629838 483.389337 25.629838 \n",
       "L 483.389337 35.307963 \n",
       "Q 483.389337 38.307963 486.389337 38.307963 \n",
       "z\n",
       "\" style=\"fill: #ffffff\"/>\n",
       "    </g>\n",
       "    <!-- -σ -->\n",
       "    <g transform=\"translate(486.389337 33.228276) scale(0.1 -0.1)\">\n",
       "     <defs>\n",
       "      <path id=\"DejaVuSans-2d\" d=\"M 313 2009 \n",
       "L 1997 2009 \n",
       "L 1997 1497 \n",
       "L 313 1497 \n",
       "L 313 2009 \n",
       "z\n",
       "\" transform=\"scale(0.015625)\"/>\n",
       "     </defs>\n",
       "     <use xlink:href=\"#DejaVuSans-2d\"/>\n",
       "     <use xlink:href=\"#DejaVuSans-3c3\" x=\"36.083984\"/>\n",
       "    </g>\n",
       "   </g>\n",
       "   <g id=\"text_14\">\n",
       "    <g id=\"patch_20\">\n",
       "     <path d=\"M 690.768547 38.307963 \n",
       "L 698.12636 38.307963 \n",
       "Q 701.12636 38.307963 701.12636 35.307963 \n",
       "L 701.12636 25.629838 \n",
       "Q 701.12636 22.629838 698.12636 22.629838 \n",
       "L 690.768547 22.629838 \n",
       "Q 687.768547 22.629838 687.768547 25.629838 \n",
       "L 687.768547 35.307963 \n",
       "Q 687.768547 38.307963 690.768547 38.307963 \n",
       "z\n",
       "\" style=\"fill: #ffffff\"/>\n",
       "    </g>\n",
       "    <!-- μ -->\n",
       "    <g transform=\"translate(690.768547 33.217338) scale(0.1 -0.1)\">\n",
       "     <defs>\n",
       "      <path id=\"DejaVuSans-Bold-3bc\" d=\"M 544 -1338 \n",
       "L 544 3500 \n",
       "L 1672 3500 \n",
       "L 1672 1466 \n",
       "Q 1672 1103 1828 926 \n",
       "Q 1984 750 2303 750 \n",
       "Q 2625 750 2781 926 \n",
       "Q 2938 1103 2938 1466 \n",
       "L 2938 3500 \n",
       "L 4063 3500 \n",
       "L 4063 1159 \n",
       "Q 4063 938 4114 850 \n",
       "Q 4166 763 4288 763 \n",
       "Q 4344 763 4395 778 \n",
       "Q 4447 794 4506 831 \n",
       "L 4506 50 \n",
       "Q 4341 -22 4195 -56 \n",
       "Q 4050 -91 3909 -91 \n",
       "Q 3631 -91 3454 26 \n",
       "Q 3278 144 3169 403 \n",
       "Q 3022 156 2811 32 \n",
       "Q 2600 -91 2322 -91 \n",
       "Q 2091 -91 1928 -17 \n",
       "Q 1766 56 1672 206 \n",
       "L 1672 -1338 \n",
       "L 544 -1338 \n",
       "z\n",
       "\" transform=\"scale(0.015625)\"/>\n",
       "     </defs>\n",
       "     <use xlink:href=\"#DejaVuSans-Bold-3bc\"/>\n",
       "    </g>\n",
       "   </g>\n",
       "  </g>\n",
       " </g>\n",
       " <defs>\n",
       "  <clipPath id=\"pe38d55bcb6\">\n",
       "   <rect x=\"10.7\" y=\"20.214138\" width=\"854.49952\" height=\"108.31401\"/>\n",
       "  </clipPath>\n",
       " </defs>\n",
       "</svg>\n"
      ],
      "text/plain": [
       "<lovely_tensors.repr_plt.PlotProxy at 0x1f02d32bf10>"
      ]
     },
     "execution_count": 56,
     "metadata": {},
     "output_type": "execute_result"
    }
   ],
   "source": [
    "Y_train[:,0].plt"
   ]
  },
  {
   "cell_type": "code",
   "execution_count": 59,
   "metadata": {},
   "outputs": [],
   "source": [
    "config = {\n",
    "    'estimator_type': 'VAE',\n",
    "    'n_inputs': X.shape[1],\n",
    "    'n_outputs': X.shape[1],\n",
    "    'input_dim': X.shape[1],\n",
    "    'is_VAE': True,\n",
    "    'batch_size':512, \n",
    "    'epochs':1001, \n",
    "    'verbose':1,\n",
    "    'latent_dim': 2,\n",
    "    'lr_init':5e-3,\n",
    "    'reg_factor':0,\n",
    "    'n_layers':3,\n",
    "    'hidden_dim':int(X.shape[1]/100),\n",
    "    'beta':0,\n",
    "    'device':'cuda', # makes it run on GPU\n",
    "}"
   ]
  },
  {
   "cell_type": "code",
   "execution_count": 60,
   "metadata": {},
   "outputs": [
    {
     "data": {
      "text/plain": [
       "VAE(\n",
       "  (fc1): Linear(in_features=11000, out_features=110, bias=True)\n",
       "  (encoder_layers): ModuleList(\n",
       "    (0): Linear(in_features=110, out_features=110, bias=True)\n",
       "    (1): Linear(in_features=110, out_features=110, bias=True)\n",
       "    (2): Linear(in_features=110, out_features=110, bias=True)\n",
       "  )\n",
       "  (out1): Linear(in_features=110, out_features=2, bias=True)\n",
       "  (out2): Linear(in_features=110, out_features=2, bias=True)\n",
       "  (encoder): Sequential(\n",
       "    (0): Linear(in_features=11000, out_features=110, bias=True)\n",
       "    (1): ModuleList(\n",
       "      (0): Linear(in_features=110, out_features=110, bias=True)\n",
       "      (1): Linear(in_features=110, out_features=110, bias=True)\n",
       "      (2): Linear(in_features=110, out_features=110, bias=True)\n",
       "    )\n",
       "    (2): Linear(in_features=110, out_features=2, bias=True)\n",
       "    (3): Linear(in_features=110, out_features=2, bias=True)\n",
       "  )\n",
       "  (fc3): Linear(in_features=2, out_features=110, bias=True)\n",
       "  (decoder_layers): ModuleList(\n",
       "    (0): Linear(in_features=110, out_features=110, bias=True)\n",
       "    (1): Linear(in_features=110, out_features=110, bias=True)\n",
       "    (2): Linear(in_features=110, out_features=110, bias=True)\n",
       "  )\n",
       "  (out3): Linear(in_features=110, out_features=11000, bias=True)\n",
       "  (decoder): Sequential(\n",
       "    (0): Linear(in_features=2, out_features=110, bias=True)\n",
       "    (1): ModuleList(\n",
       "      (0): Linear(in_features=110, out_features=110, bias=True)\n",
       "      (1): Linear(in_features=110, out_features=110, bias=True)\n",
       "      (2): Linear(in_features=110, out_features=110, bias=True)\n",
       "    )\n",
       "    (2): Linear(in_features=110, out_features=11000, bias=True)\n",
       "  )\n",
       "  (dropout): Dropout(p=0.2, inplace=False)\n",
       ")"
      ]
     },
     "execution_count": 60,
     "metadata": {},
     "output_type": "execute_result"
    }
   ],
   "source": [
    "reg = kmk.Trainer(**config)\n",
    "reg.estimator\n"
   ]
  },
  {
   "cell_type": "code",
   "execution_count": 61,
   "metadata": {},
   "outputs": [
    {
     "name": "stdout",
     "output_type": "stream",
     "text": [
      "====> Epoch: 0 Average loss: 79218.335937500 Time: 0.18\n",
      "Loss components: {'VAE_loss': tensor cuda:0 7.922e+04}\n",
      "====> Epoch: 1 Average loss: 85152.132812500 Time: 0.17\n",
      "Loss components: {'VAE_loss': tensor cuda:0 8.515e+04}\n",
      "====> Epoch: 2 Average loss: 73503.914062500 Time: 0.18\n",
      "Loss components: {'VAE_loss': tensor cuda:0 7.350e+04}\n",
      "====> Epoch: 3 Average loss: 63942.265625000 Time: 0.18\n",
      "Loss components: {'VAE_loss': tensor cuda:0 6.394e+04}\n",
      "====> Epoch: 4 Average loss: 65004.781250000 Time: 0.17\n",
      "Loss components: {'VAE_loss': tensor cuda:0 6.500e+04}\n",
      "====> Epoch: 5 Average loss: 41352.335937500 Time: 0.18\n",
      "Loss components: {'VAE_loss': tensor cuda:0 4.135e+04}\n",
      "====> Epoch: 6 Average loss: 38021.804687500 Time: 0.17\n",
      "Loss components: {'VAE_loss': tensor cuda:0 3.802e+04}\n",
      "====> Epoch: 7 Average loss: 32359.015625000 Time: 0.19\n",
      "Loss components: {'VAE_loss': tensor cuda:0 3.236e+04}\n",
      "====> Epoch: 8 Average loss: 27077.169921875 Time: 0.17\n",
      "Loss components: {'VAE_loss': tensor cuda:0 2.708e+04}\n",
      "====> Epoch: 9 Average loss: 22460.570312500 Time: 0.17\n",
      "Loss components: {'VAE_loss': tensor cuda:0 2.246e+04}\n",
      "====> Epoch: 10 Average loss: 24511.392578125 Time: 0.16\n",
      "Loss components: {'VAE_loss': tensor cuda:0 2.451e+04}\n",
      "====> Epoch: 11 Average loss: 26926.396484375 Time: 0.17\n",
      "Loss components: {'VAE_loss': tensor cuda:0 2.693e+04}\n",
      "====> Epoch: 12 Average loss: 24003.195312500 Time: 0.17\n",
      "Loss components: {'VAE_loss': tensor cuda:0 2.400e+04}\n",
      "====> Epoch: 13 Average loss: 22020.000000000 Time: 0.17\n",
      "Loss components: {'VAE_loss': tensor cuda:0 2.202e+04}\n",
      "====> Epoch: 14 Average loss: 20539.498046875 Time: 0.16\n",
      "Loss components: {'VAE_loss': tensor cuda:0 2.054e+04}\n",
      "====> Epoch: 15 Average loss: 19804.167968750 Time: 0.17\n",
      "Loss components: {'VAE_loss': tensor cuda:0 1.980e+04}\n",
      "====> Epoch: 16 Average loss: 20263.671875000 Time: 0.16\n",
      "Loss components: {'VAE_loss': tensor cuda:0 2.026e+04}\n",
      "====> Epoch: 17 Average loss: 18506.451171875 Time: 0.17\n",
      "Loss components: {'VAE_loss': tensor cuda:0 1.851e+04}\n",
      "====> Epoch: 18 Average loss: 18275.115234375 Time: 0.16\n",
      "Loss components: {'VAE_loss': tensor cuda:0 1.828e+04}\n",
      "====> Epoch: 19 Average loss: 17270.214843750 Time: 0.17\n",
      "Loss components: {'VAE_loss': tensor cuda:0 1.727e+04}\n",
      "====> Epoch: 20 Average loss: 16834.830078125 Time: 0.16\n",
      "Loss components: {'VAE_loss': tensor cuda:0 1.683e+04}\n",
      "====> Epoch: 21 Average loss: 16752.425781250 Time: 0.18\n",
      "Loss components: {'VAE_loss': tensor cuda:0 1.675e+04}\n",
      "====> Epoch: 22 Average loss: 16071.441406250 Time: 0.19\n",
      "Loss components: {'VAE_loss': tensor cuda:0 1.607e+04}\n",
      "====> Epoch: 23 Average loss: 15449.434570312 Time: 0.18\n",
      "Loss components: {'VAE_loss': tensor cuda:0 1.545e+04}\n",
      "====> Epoch: 24 Average loss: 15196.105468750 Time: 0.17\n",
      "Loss components: {'VAE_loss': tensor cuda:0 1.520e+04}\n",
      "====> Epoch: 25 Average loss: 14652.644531250 Time: 0.16\n",
      "Loss components: {'VAE_loss': tensor cuda:0 1.465e+04}\n",
      "====> Epoch: 26 Average loss: 14415.536132812 Time: 0.17\n",
      "Loss components: {'VAE_loss': tensor cuda:0 1.442e+04}\n",
      "====> Epoch: 27 Average loss: 14024.726562500 Time: 0.17\n",
      "Loss components: {'VAE_loss': tensor cuda:0 1.402e+04}\n",
      "====> Epoch: 28 Average loss: 13966.333984375 Time: 0.17\n",
      "Loss components: {'VAE_loss': tensor cuda:0 1.397e+04}\n",
      "====> Epoch: 29 Average loss: 13581.203125000 Time: 0.16\n",
      "Loss components: {'VAE_loss': tensor cuda:0 1.358e+04}\n",
      "====> Epoch: 30 Average loss: 13248.013671875 Time: 0.16\n",
      "Loss components: {'VAE_loss': tensor cuda:0 1.325e+04}\n",
      "====> Epoch: 31 Average loss: 13034.163085938 Time: 0.16\n",
      "Loss components: {'VAE_loss': tensor cuda:0 1.303e+04}\n",
      "====> Epoch: 32 Average loss: 12704.389648438 Time: 0.16\n",
      "Loss components: {'VAE_loss': tensor cuda:0 1.270e+04}\n",
      "====> Epoch: 33 Average loss: 12370.997070312 Time: 0.16\n",
      "Loss components: {'VAE_loss': tensor cuda:0 1.237e+04}\n",
      "====> Epoch: 34 Average loss: 12273.035156250 Time: 0.19\n",
      "Loss components: {'VAE_loss': tensor cuda:0 1.227e+04}\n",
      "====> Epoch: 35 Average loss: 12036.987304688 Time: 0.18\n",
      "Loss components: {'VAE_loss': tensor cuda:0 1.204e+04}\n",
      "====> Epoch: 36 Average loss: 11847.173828125 Time: 0.18\n",
      "Loss components: {'VAE_loss': tensor cuda:0 1.185e+04}\n",
      "====> Epoch: 37 Average loss: 11733.078125000 Time: 0.17\n",
      "Loss components: {'VAE_loss': tensor cuda:0 1.173e+04}\n",
      "====> Epoch: 38 Average loss: 11583.114257812 Time: 0.17\n",
      "Loss components: {'VAE_loss': tensor cuda:0 1.158e+04}\n",
      "====> Epoch: 39 Average loss: 11325.811523438 Time: 0.17\n",
      "Loss components: {'VAE_loss': tensor cuda:0 1.133e+04}\n",
      "====> Epoch: 40 Average loss: 11175.824218750 Time: 0.17\n",
      "Loss components: {'VAE_loss': tensor cuda:0 1.118e+04}\n",
      "====> Epoch: 41 Average loss: 11048.958984375 Time: 0.17\n",
      "Loss components: {'VAE_loss': tensor cuda:0 1.105e+04}\n",
      "====> Epoch: 42 Average loss: 10878.733398438 Time: 0.16\n",
      "Loss components: {'VAE_loss': tensor cuda:0 1.088e+04}\n",
      "====> Epoch: 43 Average loss: 10759.416992188 Time: 0.16\n",
      "Loss components: {'VAE_loss': tensor cuda:0 1.076e+04}\n",
      "====> Epoch: 44 Average loss: 10584.159179688 Time: 0.16\n",
      "Loss components: {'VAE_loss': tensor cuda:0 1.058e+04}\n",
      "====> Epoch: 45 Average loss: 10313.454101562 Time: 0.17\n",
      "Loss components: {'VAE_loss': tensor cuda:0 1.031e+04}\n",
      "====> Epoch: 46 Average loss: 10114.998046875 Time: 0.16\n",
      "Loss components: {'VAE_loss': tensor cuda:0 1.011e+04}\n",
      "====> Epoch: 47 Average loss: 9964.142578125 Time: 0.16\n",
      "Loss components: {'VAE_loss': tensor cuda:0 9.964e+03}\n",
      "====> Epoch: 48 Average loss: 9674.694335938 Time: 0.16\n",
      "Loss components: {'VAE_loss': tensor cuda:0 9.675e+03}\n",
      "====> Epoch: 49 Average loss: 9313.230468750 Time: 0.16\n",
      "Loss components: {'VAE_loss': tensor cuda:0 9.313e+03}\n",
      "====> Epoch: 50 Average loss: 8899.911132812 Time: 0.16\n",
      "Loss components: {'VAE_loss': tensor cuda:0 8.900e+03}\n",
      "====> Epoch: 51 Average loss: 8365.470703125 Time: 0.16\n",
      "Loss components: {'VAE_loss': tensor cuda:0 8.365e+03}\n",
      "====> Epoch: 52 Average loss: 7777.236816406 Time: 0.17\n",
      "Loss components: {'VAE_loss': tensor cuda:0 7.777e+03}\n",
      "====> Epoch: 53 Average loss: 7186.299316406 Time: 0.16\n",
      "Loss components: {'VAE_loss': tensor cuda:0 7.186e+03}\n",
      "====> Epoch: 54 Average loss: 6841.704101562 Time: 0.16\n",
      "Loss components: {'VAE_loss': tensor cuda:0 6.842e+03}\n",
      "====> Epoch: 55 Average loss: 6306.285644531 Time: 0.16\n",
      "Loss components: {'VAE_loss': tensor cuda:0 6.306e+03}\n",
      "====> Epoch: 56 Average loss: 5973.588378906 Time: 0.16\n",
      "Loss components: {'VAE_loss': tensor cuda:0 5.974e+03}\n",
      "====> Epoch: 57 Average loss: 5621.097656250 Time: 0.16\n",
      "Loss components: {'VAE_loss': tensor cuda:0 5.621e+03}\n",
      "====> Epoch: 58 Average loss: 5420.500000000 Time: 0.16\n",
      "Loss components: {'VAE_loss': tensor cuda:0 5.420e+03}\n",
      "====> Epoch: 59 Average loss: 5121.987304688 Time: 0.16\n",
      "Loss components: {'VAE_loss': tensor cuda:0 5.122e+03}\n",
      "====> Epoch: 60 Average loss: 4858.415039062 Time: 0.16\n",
      "Loss components: {'VAE_loss': tensor cuda:0 4.858e+03}\n",
      "====> Epoch: 61 Average loss: 4578.500000000 Time: 0.16\n",
      "Loss components: {'VAE_loss': tensor cuda:0 4.578e+03}\n",
      "====> Epoch: 62 Average loss: 4277.035156250 Time: 0.16\n",
      "Loss components: {'VAE_loss': tensor cuda:0 4.277e+03}\n",
      "====> Epoch: 63 Average loss: 3650.870361328 Time: 0.16\n",
      "Loss components: {'VAE_loss': tensor cuda:0 3.651e+03}\n",
      "====> Epoch: 64 Average loss: 3263.635253906 Time: 0.16\n",
      "Loss components: {'VAE_loss': tensor cuda:0 3.264e+03}\n",
      "====> Epoch: 65 Average loss: 2715.440917969 Time: 0.16\n",
      "Loss components: {'VAE_loss': tensor cuda:0 2.715e+03}\n",
      "====> Epoch: 66 Average loss: 2399.769287109 Time: 0.16\n",
      "Loss components: {'VAE_loss': tensor cuda:0 2.400e+03}\n",
      "====> Epoch: 67 Average loss: 2162.888183594 Time: 0.16\n",
      "Loss components: {'VAE_loss': tensor cuda:0 2.163e+03}\n",
      "====> Epoch: 68 Average loss: 1879.821777344 Time: 0.16\n",
      "Loss components: {'VAE_loss': tensor cuda:0 1.880e+03}\n",
      "====> Epoch: 69 Average loss: 1630.108764648 Time: 0.16\n",
      "Loss components: {'VAE_loss': tensor cuda:0 1.630e+03}\n",
      "====> Epoch: 70 Average loss: 1420.052978516 Time: 0.16\n",
      "Loss components: {'VAE_loss': tensor cuda:0 1.420e+03}\n",
      "====> Epoch: 71 Average loss: 1296.851806641 Time: 0.16\n",
      "Loss components: {'VAE_loss': tensor cuda:0 1.297e+03}\n",
      "====> Epoch: 72 Average loss: 1141.791137695 Time: 0.16\n",
      "Loss components: {'VAE_loss': tensor cuda:0 1.142e+03}\n",
      "====> Epoch: 73 Average loss: 1036.567382812 Time: 0.16\n",
      "Loss components: {'VAE_loss': tensor cuda:0 1.037e+03}\n",
      "====> Epoch: 74 Average loss: 1002.662292480 Time: 0.16\n",
      "Loss components: {'VAE_loss': tensor cuda:0 1.003e+03}\n",
      "====> Epoch: 75 Average loss: 926.550598145 Time: 0.16\n",
      "Loss components: {'VAE_loss': tensor cuda:0 926.551}\n",
      "====> Epoch: 76 Average loss: 933.718017578 Time: 0.16\n",
      "Loss components: {'VAE_loss': tensor cuda:0 933.718}\n",
      "====> Epoch: 77 Average loss: 871.303649902 Time: 0.16\n",
      "Loss components: {'VAE_loss': tensor cuda:0 871.304}\n",
      "====> Epoch: 78 Average loss: 887.662780762 Time: 0.16\n",
      "Loss components: {'VAE_loss': tensor cuda:0 887.663}\n",
      "====> Epoch: 79 Average loss: 847.171264648 Time: 0.16\n",
      "Loss components: {'VAE_loss': tensor cuda:0 847.171}\n",
      "====> Epoch: 80 Average loss: 803.753051758 Time: 0.16\n",
      "Loss components: {'VAE_loss': tensor cuda:0 803.753}\n",
      "====> Epoch: 81 Average loss: 802.935363770 Time: 0.17\n",
      "Loss components: {'VAE_loss': tensor cuda:0 802.935}\n",
      "====> Epoch: 82 Average loss: 721.536621094 Time: 0.16\n",
      "Loss components: {'VAE_loss': tensor cuda:0 721.537}\n",
      "====> Epoch: 83 Average loss: 711.399658203 Time: 0.16\n",
      "Loss components: {'VAE_loss': tensor cuda:0 711.400}\n",
      "====> Epoch: 84 Average loss: 644.143615723 Time: 0.17\n",
      "Loss components: {'VAE_loss': tensor cuda:0 644.144}\n",
      "====> Epoch: 85 Average loss: 632.356384277 Time: 0.16\n",
      "Loss components: {'VAE_loss': tensor cuda:0 632.356}\n",
      "====> Epoch: 86 Average loss: 598.518371582 Time: 0.16\n",
      "Loss components: {'VAE_loss': tensor cuda:0 598.518}\n",
      "====> Epoch: 87 Average loss: 557.401245117 Time: 0.17\n",
      "Loss components: {'VAE_loss': tensor cuda:0 557.401}\n",
      "====> Epoch: 88 Average loss: 633.518249512 Time: 0.17\n",
      "Loss components: {'VAE_loss': tensor cuda:0 633.518}\n",
      "====> Epoch: 89 Average loss: 445.448638916 Time: 0.17\n",
      "Loss components: {'VAE_loss': tensor cuda:0 445.449}\n",
      "====> Epoch: 90 Average loss: 598.532836914 Time: 0.17\n",
      "Loss components: {'VAE_loss': tensor cuda:0 598.533}\n",
      "====> Epoch: 91 Average loss: 407.321960449 Time: 0.17\n",
      "Loss components: {'VAE_loss': tensor cuda:0 407.322}\n",
      "====> Epoch: 92 Average loss: 514.807739258 Time: 0.18\n",
      "Loss components: {'VAE_loss': tensor cuda:0 514.808}\n",
      "====> Epoch: 93 Average loss: 320.101806641 Time: 0.17\n",
      "Loss components: {'VAE_loss': tensor cuda:0 320.102}\n",
      "====> Epoch: 94 Average loss: 400.415405273 Time: 0.16\n",
      "Loss components: {'VAE_loss': tensor cuda:0 400.415}\n",
      "====> Epoch: 95 Average loss: 307.245941162 Time: 0.16\n",
      "Loss components: {'VAE_loss': tensor cuda:0 307.246}\n",
      "====> Epoch: 96 Average loss: 323.753326416 Time: 0.16\n",
      "Loss components: {'VAE_loss': tensor cuda:0 323.753}\n",
      "====> Epoch: 97 Average loss: 208.149765015 Time: 0.17\n",
      "Loss components: {'VAE_loss': tensor cuda:0 208.150}\n",
      "====> Epoch: 98 Average loss: 236.551147461 Time: 0.16\n",
      "Loss components: {'VAE_loss': tensor cuda:0 236.551}\n",
      "====> Epoch: 99 Average loss: 231.464599609 Time: 0.16\n",
      "Loss components: {'VAE_loss': tensor cuda:0 231.465}\n",
      "====> Epoch: 100 Average loss: 141.804962158 Time: 0.17\n",
      "Loss components: {'VAE_loss': tensor cuda:0 141.805}\n",
      "====> Epoch: 101 Average loss: 155.040359497 Time: 0.16\n",
      "Loss components: {'VAE_loss': tensor cuda:0 155.040}\n",
      "====> Epoch: 102 Average loss: 151.934722900 Time: 0.16\n",
      "Loss components: {'VAE_loss': tensor cuda:0 151.935}\n",
      "====> Epoch: 103 Average loss: 131.697723389 Time: 0.16\n",
      "Loss components: {'VAE_loss': tensor cuda:0 131.698}\n",
      "====> Epoch: 104 Average loss: 173.519836426 Time: 0.16\n",
      "Loss components: {'VAE_loss': tensor cuda:0 173.520}\n",
      "====> Epoch: 105 Average loss: 214.100021362 Time: 0.17\n",
      "Loss components: {'VAE_loss': tensor cuda:0 214.100}\n",
      "====> Epoch: 106 Average loss: 83.513008118 Time: 0.16\n",
      "Loss components: {'VAE_loss': tensor cuda:0 83.513}\n",
      "====> Epoch: 107 Average loss: 142.424942017 Time: 0.16\n",
      "Loss components: {'VAE_loss': tensor cuda:0 142.425}\n",
      "====> Epoch: 108 Average loss: 90.668319702 Time: 0.16\n",
      "Loss components: {'VAE_loss': tensor cuda:0 90.668}\n",
      "====> Epoch: 109 Average loss: 81.383010864 Time: 0.17\n",
      "Loss components: {'VAE_loss': tensor cuda:0 81.383}\n",
      "====> Epoch: 110 Average loss: 132.944458008 Time: 0.16\n",
      "Loss components: {'VAE_loss': tensor cuda:0 132.944}\n",
      "====> Epoch: 111 Average loss: 69.681716919 Time: 0.16\n",
      "Loss components: {'VAE_loss': tensor cuda:0 69.682}\n",
      "====> Epoch: 112 Average loss: 104.241157532 Time: 0.16\n",
      "Loss components: {'VAE_loss': tensor cuda:0 104.241}\n",
      "====> Epoch: 113 Average loss: 68.085678101 Time: 0.16\n",
      "Loss components: {'VAE_loss': tensor cuda:0 68.086}\n",
      "====> Epoch: 114 Average loss: 93.979690552 Time: 0.16\n",
      "Loss components: {'VAE_loss': tensor cuda:0 93.980}\n",
      "====> Epoch: 115 Average loss: 113.127593994 Time: 0.16\n",
      "Loss components: {'VAE_loss': tensor cuda:0 113.128}\n",
      "====> Epoch: 116 Average loss: 61.501502991 Time: 0.16\n",
      "Loss components: {'VAE_loss': tensor cuda:0 61.502}\n",
      "====> Epoch: 117 Average loss: 75.438354492 Time: 0.16\n",
      "Loss components: {'VAE_loss': tensor cuda:0 75.438}\n",
      "====> Epoch: 118 Average loss: 72.492317200 Time: 0.16\n",
      "Loss components: {'VAE_loss': tensor cuda:0 72.492}\n",
      "====> Epoch: 119 Average loss: 61.806282043 Time: 0.16\n",
      "Loss components: {'VAE_loss': tensor cuda:0 61.806}\n",
      "====> Epoch: 120 Average loss: 53.470142365 Time: 0.16\n",
      "Loss components: {'VAE_loss': tensor cuda:0 53.470}\n",
      "====> Epoch: 121 Average loss: 70.412086487 Time: 0.16\n",
      "Loss components: {'VAE_loss': tensor cuda:0 70.412}\n",
      "====> Epoch: 122 Average loss: 69.387573242 Time: 0.16\n",
      "Loss components: {'VAE_loss': tensor cuda:0 69.388}\n",
      "====> Epoch: 123 Average loss: 72.838577271 Time: 0.16\n",
      "Loss components: {'VAE_loss': tensor cuda:0 72.839}\n",
      "====> Epoch: 124 Average loss: 57.561676025 Time: 0.16\n",
      "Loss components: {'VAE_loss': tensor cuda:0 57.562}\n",
      "====> Epoch: 125 Average loss: 86.994522095 Time: 0.16\n",
      "Loss components: {'VAE_loss': tensor cuda:0 86.995}\n",
      "====> Epoch: 126 Average loss: 44.604976654 Time: 0.16\n",
      "Loss components: {'VAE_loss': tensor cuda:0 44.605}\n",
      "====> Epoch: 127 Average loss: 55.707595825 Time: 0.17\n",
      "Loss components: {'VAE_loss': tensor cuda:0 55.708}\n",
      "====> Epoch: 128 Average loss: 62.036437988 Time: 0.16\n",
      "Loss components: {'VAE_loss': tensor cuda:0 62.036}\n",
      "====> Epoch: 129 Average loss: 38.787612915 Time: 0.17\n",
      "Loss components: {'VAE_loss': tensor cuda:0 38.788}\n",
      "====> Epoch: 130 Average loss: 124.889503479 Time: 0.16\n",
      "Loss components: {'VAE_loss': tensor cuda:0 124.890}\n",
      "====> Epoch: 131 Average loss: 78.805358887 Time: 0.16\n",
      "Loss components: {'VAE_loss': tensor cuda:0 78.805}\n",
      "====> Epoch: 132 Average loss: 75.736160278 Time: 0.16\n",
      "Loss components: {'VAE_loss': tensor cuda:0 75.736}\n",
      "====> Epoch: 133 Average loss: 50.139015198 Time: 0.16\n",
      "Loss components: {'VAE_loss': tensor cuda:0 50.139}\n",
      "====> Epoch: 134 Average loss: 164.406433105 Time: 0.16\n",
      "Loss components: {'VAE_loss': tensor cuda:0 164.406}\n",
      "====> Epoch: 135 Average loss: 134.767578125 Time: 0.16\n",
      "Loss components: {'VAE_loss': tensor cuda:0 134.768}\n",
      "====> Epoch: 136 Average loss: 133.798828125 Time: 0.16\n",
      "Loss components: {'VAE_loss': tensor cuda:0 133.799}\n",
      "====> Epoch: 137 Average loss: 72.999549866 Time: 0.16\n",
      "Loss components: {'VAE_loss': tensor cuda:0 73.000}\n",
      "====> Epoch: 138 Average loss: 151.782089233 Time: 0.16\n",
      "Loss components: {'VAE_loss': tensor cuda:0 151.782}\n",
      "====> Epoch: 139 Average loss: 49.067855835 Time: 0.16\n",
      "Loss components: {'VAE_loss': tensor cuda:0 49.068}\n",
      "====> Epoch: 140 Average loss: 101.380310059 Time: 0.16\n",
      "Loss components: {'VAE_loss': tensor cuda:0 101.380}\n",
      "====> Epoch: 141 Average loss: 54.664497375 Time: 0.17\n",
      "Loss components: {'VAE_loss': tensor cuda:0 54.664}\n",
      "====> Epoch: 142 Average loss: 136.543563843 Time: 0.16\n",
      "Loss components: {'VAE_loss': tensor cuda:0 136.544}\n",
      "====> Epoch: 143 Average loss: 43.254459381 Time: 0.16\n",
      "Loss components: {'VAE_loss': tensor cuda:0 43.254}\n",
      "====> Epoch: 144 Average loss: 110.964767456 Time: 0.16\n",
      "Loss components: {'VAE_loss': tensor cuda:0 110.965}\n",
      "====> Epoch: 145 Average loss: 49.522766113 Time: 0.16\n",
      "Loss components: {'VAE_loss': tensor cuda:0 49.523}\n",
      "====> Epoch: 146 Average loss: 56.403038025 Time: 0.16\n",
      "Loss components: {'VAE_loss': tensor cuda:0 56.403}\n",
      "====> Epoch: 147 Average loss: 53.598464966 Time: 0.17\n",
      "Loss components: {'VAE_loss': tensor cuda:0 53.598}\n",
      "====> Epoch: 148 Average loss: 32.357154846 Time: 0.17\n",
      "Loss components: {'VAE_loss': tensor cuda:0 32.357}\n",
      "====> Epoch: 149 Average loss: 44.740882874 Time: 0.17\n",
      "Loss components: {'VAE_loss': tensor cuda:0 44.741}\n",
      "====> Epoch: 150 Average loss: 36.567512512 Time: 0.16\n",
      "Loss components: {'VAE_loss': tensor cuda:0 36.568}\n",
      "====> Epoch: 151 Average loss: 41.069766998 Time: 0.16\n",
      "Loss components: {'VAE_loss': tensor cuda:0 41.070}\n",
      "====> Epoch: 152 Average loss: 33.359397888 Time: 0.16\n",
      "Loss components: {'VAE_loss': tensor cuda:0 33.359}\n",
      "====> Epoch: 153 Average loss: 42.974533081 Time: 0.16\n",
      "Loss components: {'VAE_loss': tensor cuda:0 42.975}\n",
      "====> Epoch: 154 Average loss: 29.478805542 Time: 0.16\n",
      "Loss components: {'VAE_loss': tensor cuda:0 29.479}\n",
      "====> Epoch: 155 Average loss: 55.707675934 Time: 0.16\n",
      "Loss components: {'VAE_loss': tensor cuda:0 55.708}\n",
      "====> Epoch: 156 Average loss: 37.201889038 Time: 0.16\n",
      "Loss components: {'VAE_loss': tensor cuda:0 37.202}\n",
      "====> Epoch: 157 Average loss: 44.597084045 Time: 0.16\n",
      "Loss components: {'VAE_loss': tensor cuda:0 44.597}\n",
      "====> Epoch: 158 Average loss: 39.698875427 Time: 0.16\n",
      "Loss components: {'VAE_loss': tensor cuda:0 39.699}\n",
      "====> Epoch: 159 Average loss: 48.364757538 Time: 0.17\n",
      "Loss components: {'VAE_loss': tensor cuda:0 48.365}\n",
      "====> Epoch: 160 Average loss: 38.697372437 Time: 0.16\n",
      "Loss components: {'VAE_loss': tensor cuda:0 38.697}\n",
      "====> Epoch: 161 Average loss: 45.693710327 Time: 0.16\n",
      "Loss components: {'VAE_loss': tensor cuda:0 45.694}\n",
      "====> Epoch: 162 Average loss: 54.356140137 Time: 0.16\n",
      "Loss components: {'VAE_loss': tensor cuda:0 54.356}\n",
      "====> Epoch: 163 Average loss: 53.348220825 Time: 0.16\n",
      "Loss components: {'VAE_loss': tensor cuda:0 53.348}\n",
      "====> Epoch: 164 Average loss: 36.198497772 Time: 0.16\n",
      "Loss components: {'VAE_loss': tensor cuda:0 36.198}\n",
      "====> Epoch: 165 Average loss: 58.121780396 Time: 0.17\n",
      "Loss components: {'VAE_loss': tensor cuda:0 58.122}\n",
      "====> Epoch: 166 Average loss: 29.715805054 Time: 0.16\n",
      "Loss components: {'VAE_loss': tensor cuda:0 29.716}\n",
      "====> Epoch: 167 Average loss: 49.868438721 Time: 0.16\n",
      "Loss components: {'VAE_loss': tensor cuda:0 49.868}\n",
      "====> Epoch: 168 Average loss: 35.390197754 Time: 0.16\n",
      "Loss components: {'VAE_loss': tensor cuda:0 35.390}\n",
      "====> Epoch: 169 Average loss: 32.991931915 Time: 0.16\n",
      "Loss components: {'VAE_loss': tensor cuda:0 32.992}\n",
      "====> Epoch: 170 Average loss: 31.613258362 Time: 0.16\n",
      "Loss components: {'VAE_loss': tensor cuda:0 31.613}\n",
      "====> Epoch: 171 Average loss: 28.604408264 Time: 0.17\n",
      "Loss components: {'VAE_loss': tensor cuda:0 28.604}\n",
      "====> Epoch: 172 Average loss: 26.721654892 Time: 0.16\n",
      "Loss components: {'VAE_loss': tensor cuda:0 26.722}\n",
      "====> Epoch: 173 Average loss: 33.324462891 Time: 0.16\n",
      "Loss components: {'VAE_loss': tensor cuda:0 33.324}\n",
      "====> Epoch: 174 Average loss: 37.262584686 Time: 0.16\n",
      "Loss components: {'VAE_loss': tensor cuda:0 37.263}\n",
      "====> Epoch: 175 Average loss: 33.500221252 Time: 0.17\n",
      "Loss components: {'VAE_loss': tensor cuda:0 33.500}\n",
      "====> Epoch: 176 Average loss: 29.139999390 Time: 0.16\n",
      "Loss components: {'VAE_loss': tensor cuda:0 29.140}\n",
      "====> Epoch: 177 Average loss: 29.012145996 Time: 0.16\n",
      "Loss components: {'VAE_loss': tensor cuda:0 29.012}\n",
      "====> Epoch: 178 Average loss: 29.948066711 Time: 0.16\n",
      "Loss components: {'VAE_loss': tensor cuda:0 29.948}\n",
      "====> Epoch: 179 Average loss: 31.395305634 Time: 0.16\n",
      "Loss components: {'VAE_loss': tensor cuda:0 31.395}\n",
      "====> Epoch: 180 Average loss: 23.777315140 Time: 0.16\n",
      "Loss components: {'VAE_loss': tensor cuda:0 23.777}\n",
      "====> Epoch: 181 Average loss: 26.652338028 Time: 0.16\n",
      "Loss components: {'VAE_loss': tensor cuda:0 26.652}\n",
      "====> Epoch: 182 Average loss: 24.001350403 Time: 0.16\n",
      "Loss components: {'VAE_loss': tensor cuda:0 24.001}\n",
      "====> Epoch: 183 Average loss: 28.166069031 Time: 0.16\n",
      "Loss components: {'VAE_loss': tensor cuda:0 28.166}\n",
      "====> Epoch: 184 Average loss: 26.375333786 Time: 0.17\n",
      "Loss components: {'VAE_loss': tensor cuda:0 26.375}\n",
      "====> Epoch: 185 Average loss: 29.138149261 Time: 0.16\n",
      "Loss components: {'VAE_loss': tensor cuda:0 29.138}\n",
      "====> Epoch: 186 Average loss: 30.720907211 Time: 0.16\n",
      "Loss components: {'VAE_loss': tensor cuda:0 30.721}\n",
      "====> Epoch: 187 Average loss: 41.652496338 Time: 0.16\n",
      "Loss components: {'VAE_loss': tensor cuda:0 41.652}\n",
      "====> Epoch: 188 Average loss: 34.394348145 Time: 0.16\n",
      "Loss components: {'VAE_loss': tensor cuda:0 34.394}\n",
      "====> Epoch: 189 Average loss: 49.941932678 Time: 0.16\n",
      "Loss components: {'VAE_loss': tensor cuda:0 49.942}\n",
      "====> Epoch: 190 Average loss: 39.826946259 Time: 0.16\n",
      "Loss components: {'VAE_loss': tensor cuda:0 39.827}\n",
      "====> Epoch: 191 Average loss: 87.813796997 Time: 0.16\n",
      "Loss components: {'VAE_loss': tensor cuda:0 87.814}\n",
      "====> Epoch: 192 Average loss: 36.409259796 Time: 0.16\n",
      "Loss components: {'VAE_loss': tensor cuda:0 36.409}\n",
      "====> Epoch: 193 Average loss: 44.941162109 Time: 0.16\n",
      "Loss components: {'VAE_loss': tensor cuda:0 44.941}\n",
      "====> Epoch: 194 Average loss: 45.671657562 Time: 0.17\n",
      "Loss components: {'VAE_loss': tensor cuda:0 45.672}\n",
      "====> Epoch: 195 Average loss: 45.328353882 Time: 0.16\n",
      "Loss components: {'VAE_loss': tensor cuda:0 45.328}\n",
      "====> Epoch: 196 Average loss: 44.627990723 Time: 0.16\n",
      "Loss components: {'VAE_loss': tensor cuda:0 44.628}\n",
      "====> Epoch: 197 Average loss: 27.015808105 Time: 0.16\n",
      "Loss components: {'VAE_loss': tensor cuda:0 27.016}\n",
      "====> Epoch: 198 Average loss: 49.304931641 Time: 0.16\n",
      "Loss components: {'VAE_loss': tensor cuda:0 49.305}\n",
      "====> Epoch: 199 Average loss: 27.066074371 Time: 0.16\n",
      "Loss components: {'VAE_loss': tensor cuda:0 27.066}\n",
      "====> Epoch: 200 Average loss: 57.459861755 Time: 0.16\n",
      "Loss components: {'VAE_loss': tensor cuda:0 57.460}\n",
      "====> Epoch: 201 Average loss: 22.211111069 Time: 0.16\n",
      "Loss components: {'VAE_loss': tensor cuda:0 22.211}\n",
      "====> Epoch: 202 Average loss: 45.433006287 Time: 0.17\n",
      "Loss components: {'VAE_loss': tensor cuda:0 45.433}\n",
      "====> Epoch: 203 Average loss: 24.160013199 Time: 0.16\n",
      "Loss components: {'VAE_loss': tensor cuda:0 24.160}\n",
      "====> Epoch: 204 Average loss: 22.539793015 Time: 0.16\n",
      "Loss components: {'VAE_loss': tensor cuda:0 22.540}\n",
      "====> Epoch: 205 Average loss: 22.301521301 Time: 0.16\n",
      "Loss components: {'VAE_loss': tensor cuda:0 22.302}\n",
      "====> Epoch: 206 Average loss: 23.247602463 Time: 0.16\n",
      "Loss components: {'VAE_loss': tensor cuda:0 23.248}\n",
      "====> Epoch: 207 Average loss: 21.428775787 Time: 0.16\n",
      "Loss components: {'VAE_loss': tensor cuda:0 21.429}\n",
      "====> Epoch: 208 Average loss: 25.989448547 Time: 0.16\n",
      "Loss components: {'VAE_loss': tensor cuda:0 25.989}\n",
      "====> Epoch: 209 Average loss: 29.361225128 Time: 0.16\n",
      "Loss components: {'VAE_loss': tensor cuda:0 29.361}\n",
      "====> Epoch: 210 Average loss: 20.674219131 Time: 0.16\n",
      "Loss components: {'VAE_loss': tensor cuda:0 20.674}\n",
      "====> Epoch: 211 Average loss: 24.979356766 Time: 0.16\n",
      "Loss components: {'VAE_loss': tensor cuda:0 24.979}\n",
      "====> Epoch: 212 Average loss: 21.161808014 Time: 0.16\n",
      "Loss components: {'VAE_loss': tensor cuda:0 21.162}\n",
      "====> Epoch: 213 Average loss: 24.509048462 Time: 0.16\n",
      "Loss components: {'VAE_loss': tensor cuda:0 24.509}\n",
      "====> Epoch: 214 Average loss: 23.416862488 Time: 0.16\n",
      "Loss components: {'VAE_loss': tensor cuda:0 23.417}\n",
      "====> Epoch: 215 Average loss: 23.728355408 Time: 0.16\n",
      "Loss components: {'VAE_loss': tensor cuda:0 23.728}\n",
      "====> Epoch: 216 Average loss: 20.687202454 Time: 0.16\n",
      "Loss components: {'VAE_loss': tensor cuda:0 20.687}\n",
      "====> Epoch: 217 Average loss: 19.321636200 Time: 0.17\n",
      "Loss components: {'VAE_loss': tensor cuda:0 19.322}\n",
      "====> Epoch: 218 Average loss: 28.350959778 Time: 0.16\n",
      "Loss components: {'VAE_loss': tensor cuda:0 28.351}\n",
      "====> Epoch: 219 Average loss: 21.727548599 Time: 0.17\n",
      "Loss components: {'VAE_loss': tensor cuda:0 21.728}\n",
      "====> Epoch: 220 Average loss: 29.702398300 Time: 0.17\n",
      "Loss components: {'VAE_loss': tensor cuda:0 29.702}\n",
      "====> Epoch: 221 Average loss: 28.894344330 Time: 0.17\n",
      "Loss components: {'VAE_loss': tensor cuda:0 28.894}\n",
      "====> Epoch: 222 Average loss: 33.748878479 Time: 0.16\n",
      "Loss components: {'VAE_loss': tensor cuda:0 33.749}\n",
      "====> Epoch: 223 Average loss: 21.944681168 Time: 0.16\n",
      "Loss components: {'VAE_loss': tensor cuda:0 21.945}\n",
      "====> Epoch: 224 Average loss: 36.454948425 Time: 0.16\n",
      "Loss components: {'VAE_loss': tensor cuda:0 36.455}\n",
      "====> Epoch: 225 Average loss: 21.045387268 Time: 0.17\n",
      "Loss components: {'VAE_loss': tensor cuda:0 21.045}\n",
      "====> Epoch: 226 Average loss: 35.021949768 Time: 0.16\n",
      "Loss components: {'VAE_loss': tensor cuda:0 35.022}\n",
      "====> Epoch: 227 Average loss: 19.044700623 Time: 0.16\n",
      "Loss components: {'VAE_loss': tensor cuda:0 19.045}\n",
      "====> Epoch: 228 Average loss: 31.114326477 Time: 0.16\n",
      "Loss components: {'VAE_loss': tensor cuda:0 31.114}\n",
      "====> Epoch: 229 Average loss: 27.780874252 Time: 0.16\n",
      "Loss components: {'VAE_loss': tensor cuda:0 27.781}\n",
      "====> Epoch: 230 Average loss: 39.130249023 Time: 0.16\n",
      "Loss components: {'VAE_loss': tensor cuda:0 39.130}\n",
      "====> Epoch: 231 Average loss: 35.325103760 Time: 0.16\n",
      "Loss components: {'VAE_loss': tensor cuda:0 35.325}\n",
      "====> Epoch: 232 Average loss: 26.438854218 Time: 0.16\n",
      "Loss components: {'VAE_loss': tensor cuda:0 26.439}\n",
      "====> Epoch: 233 Average loss: 45.984649658 Time: 0.16\n",
      "Loss components: {'VAE_loss': tensor cuda:0 45.985}\n",
      "====> Epoch: 234 Average loss: 25.424493790 Time: 0.16\n",
      "Loss components: {'VAE_loss': tensor cuda:0 25.424}\n",
      "====> Epoch: 235 Average loss: 43.511932373 Time: 0.16\n",
      "Loss components: {'VAE_loss': tensor cuda:0 43.512}\n",
      "====> Epoch: 236 Average loss: 16.626333237 Time: 0.16\n",
      "Loss components: {'VAE_loss': tensor cuda:0 16.626}\n",
      "====> Epoch: 237 Average loss: 35.080520630 Time: 0.16\n",
      "Loss components: {'VAE_loss': tensor cuda:0 35.081}\n",
      "====> Epoch: 238 Average loss: 20.896026611 Time: 0.16\n",
      "Loss components: {'VAE_loss': tensor cuda:0 20.896}\n",
      "====> Epoch: 239 Average loss: 20.391231537 Time: 0.16\n",
      "Loss components: {'VAE_loss': tensor cuda:0 20.391}\n",
      "====> Epoch: 240 Average loss: 21.084890366 Time: 0.16\n",
      "Loss components: {'VAE_loss': tensor cuda:0 21.085}\n",
      "====> Epoch: 241 Average loss: 20.171756744 Time: 0.16\n",
      "Loss components: {'VAE_loss': tensor cuda:0 20.172}\n",
      "====> Epoch: 242 Average loss: 20.556152344 Time: 0.16\n",
      "Loss components: {'VAE_loss': tensor cuda:0 20.556}\n",
      "====> Epoch: 243 Average loss: 21.619155884 Time: 0.16\n",
      "Loss components: {'VAE_loss': tensor cuda:0 21.619}\n",
      "====> Epoch: 244 Average loss: 17.679922104 Time: 0.16\n",
      "Loss components: {'VAE_loss': tensor cuda:0 17.680}\n",
      "====> Epoch: 245 Average loss: 17.862140656 Time: 0.16\n",
      "Loss components: {'VAE_loss': tensor cuda:0 17.862}\n",
      "====> Epoch: 246 Average loss: 21.884431839 Time: 0.16\n",
      "Loss components: {'VAE_loss': tensor cuda:0 21.884}\n",
      "====> Epoch: 247 Average loss: 26.961483002 Time: 0.16\n",
      "Loss components: {'VAE_loss': tensor cuda:0 26.961}\n",
      "====> Epoch: 248 Average loss: 24.374439240 Time: 0.16\n",
      "Loss components: {'VAE_loss': tensor cuda:0 24.374}\n",
      "====> Epoch: 249 Average loss: 23.927459717 Time: 0.17\n",
      "Loss components: {'VAE_loss': tensor cuda:0 23.927}\n",
      "====> Epoch: 250 Average loss: 20.566013336 Time: 0.16\n",
      "Loss components: {'VAE_loss': tensor cuda:0 20.566}\n",
      "====> Epoch: 251 Average loss: 37.604541779 Time: 0.16\n",
      "Loss components: {'VAE_loss': tensor cuda:0 37.605}\n",
      "====> Epoch: 252 Average loss: 21.228691101 Time: 0.16\n",
      "Loss components: {'VAE_loss': tensor cuda:0 21.229}\n",
      "====> Epoch: 253 Average loss: 24.352283478 Time: 0.16\n",
      "Loss components: {'VAE_loss': tensor cuda:0 24.352}\n",
      "====> Epoch: 254 Average loss: 24.203924179 Time: 0.16\n",
      "Loss components: {'VAE_loss': tensor cuda:0 24.204}\n",
      "====> Epoch: 255 Average loss: 16.419273376 Time: 0.16\n",
      "Loss components: {'VAE_loss': tensor cuda:0 16.419}\n",
      "====> Epoch: 256 Average loss: 20.223089218 Time: 0.16\n",
      "Loss components: {'VAE_loss': tensor cuda:0 20.223}\n",
      "====> Epoch: 257 Average loss: 21.637794495 Time: 0.16\n",
      "Loss components: {'VAE_loss': tensor cuda:0 21.638}\n",
      "====> Epoch: 258 Average loss: 22.591543198 Time: 0.16\n",
      "Loss components: {'VAE_loss': tensor cuda:0 22.592}\n",
      "====> Epoch: 259 Average loss: 22.017841339 Time: 0.16\n",
      "Loss components: {'VAE_loss': tensor cuda:0 22.018}\n",
      "====> Epoch: 260 Average loss: 14.496580124 Time: 0.16\n",
      "Loss components: {'VAE_loss': tensor cuda:0 14.497}\n",
      "====> Epoch: 261 Average loss: 19.638774872 Time: 0.17\n",
      "Loss components: {'VAE_loss': tensor cuda:0 19.639}\n",
      "====> Epoch: 262 Average loss: 21.032680511 Time: 0.16\n",
      "Loss components: {'VAE_loss': tensor cuda:0 21.033}\n",
      "====> Epoch: 263 Average loss: 30.491733551 Time: 0.16\n",
      "Loss components: {'VAE_loss': tensor cuda:0 30.492}\n",
      "====> Epoch: 264 Average loss: 18.671127319 Time: 0.16\n",
      "Loss components: {'VAE_loss': tensor cuda:0 18.671}\n",
      "====> Epoch: 265 Average loss: 29.133872986 Time: 0.16\n",
      "Loss components: {'VAE_loss': tensor cuda:0 29.134}\n",
      "====> Epoch: 266 Average loss: 24.794471741 Time: 0.16\n",
      "Loss components: {'VAE_loss': tensor cuda:0 24.794}\n",
      "====> Epoch: 267 Average loss: 21.222255707 Time: 0.17\n",
      "Loss components: {'VAE_loss': tensor cuda:0 21.222}\n",
      "====> Epoch: 268 Average loss: 26.149726868 Time: 0.16\n",
      "Loss components: {'VAE_loss': tensor cuda:0 26.150}\n",
      "====> Epoch: 269 Average loss: 17.179985046 Time: 0.16\n",
      "Loss components: {'VAE_loss': tensor cuda:0 17.180}\n",
      "====> Epoch: 270 Average loss: 21.329545975 Time: 0.16\n",
      "Loss components: {'VAE_loss': tensor cuda:0 21.330}\n",
      "====> Epoch: 271 Average loss: 28.702728271 Time: 0.16\n",
      "Loss components: {'VAE_loss': tensor cuda:0 28.703}\n",
      "====> Epoch: 272 Average loss: 20.213768005 Time: 0.16\n",
      "Loss components: {'VAE_loss': tensor cuda:0 20.214}\n",
      "====> Epoch: 273 Average loss: 29.038640976 Time: 0.17\n",
      "Loss components: {'VAE_loss': tensor cuda:0 29.039}\n",
      "====> Epoch: 274 Average loss: 59.283851624 Time: 0.16\n",
      "Loss components: {'VAE_loss': tensor cuda:0 59.284}\n",
      "====> Epoch: 275 Average loss: 44.511363983 Time: 0.17\n",
      "Loss components: {'VAE_loss': tensor cuda:0 44.511}\n",
      "====> Epoch: 276 Average loss: 45.246162415 Time: 0.16\n",
      "Loss components: {'VAE_loss': tensor cuda:0 45.246}\n",
      "====> Epoch: 277 Average loss: 37.304973602 Time: 0.17\n",
      "Loss components: {'VAE_loss': tensor cuda:0 37.305}\n",
      "====> Epoch: 278 Average loss: 61.629264832 Time: 0.16\n",
      "Loss components: {'VAE_loss': tensor cuda:0 61.629}\n",
      "====> Epoch: 279 Average loss: 20.852739334 Time: 0.17\n",
      "Loss components: {'VAE_loss': tensor cuda:0 20.853}\n",
      "====> Epoch: 280 Average loss: 49.205413818 Time: 0.16\n",
      "Loss components: {'VAE_loss': tensor cuda:0 49.205}\n",
      "====> Epoch: 281 Average loss: 85.835220337 Time: 0.17\n",
      "Loss components: {'VAE_loss': tensor cuda:0 85.835}\n",
      "====> Epoch: 282 Average loss: 39.146354675 Time: 0.16\n",
      "Loss components: {'VAE_loss': tensor cuda:0 39.146}\n",
      "====> Epoch: 283 Average loss: 16.498344421 Time: 0.16\n",
      "Loss components: {'VAE_loss': tensor cuda:0 16.498}\n",
      "====> Epoch: 284 Average loss: 37.762664795 Time: 0.16\n",
      "Loss components: {'VAE_loss': tensor cuda:0 37.763}\n",
      "====> Epoch: 285 Average loss: 21.591468811 Time: 0.16\n",
      "Loss components: {'VAE_loss': tensor cuda:0 21.591}\n",
      "====> Epoch: 286 Average loss: 25.236091614 Time: 0.16\n",
      "Loss components: {'VAE_loss': tensor cuda:0 25.236}\n",
      "====> Epoch: 287 Average loss: 43.968315125 Time: 0.17\n",
      "Loss components: {'VAE_loss': tensor cuda:0 43.968}\n",
      "====> Epoch: 288 Average loss: 26.438251495 Time: 0.17\n",
      "Loss components: {'VAE_loss': tensor cuda:0 26.438}\n",
      "====> Epoch: 289 Average loss: 24.228935242 Time: 0.18\n",
      "Loss components: {'VAE_loss': tensor cuda:0 24.229}\n",
      "====> Epoch: 290 Average loss: 19.469936371 Time: 0.18\n",
      "Loss components: {'VAE_loss': tensor cuda:0 19.470}\n",
      "====> Epoch: 291 Average loss: 16.299976349 Time: 0.17\n",
      "Loss components: {'VAE_loss': tensor cuda:0 16.300}\n",
      "====> Epoch: 292 Average loss: 16.071514130 Time: 0.18\n",
      "Loss components: {'VAE_loss': tensor cuda:0 16.072}\n",
      "====> Epoch: 293 Average loss: 17.659919739 Time: 0.18\n",
      "Loss components: {'VAE_loss': tensor cuda:0 17.660}\n",
      "====> Epoch: 294 Average loss: 19.779745102 Time: 0.17\n",
      "Loss components: {'VAE_loss': tensor cuda:0 19.780}\n",
      "====> Epoch: 295 Average loss: 21.660821915 Time: 0.18\n",
      "Loss components: {'VAE_loss': tensor cuda:0 21.661}\n",
      "====> Epoch: 296 Average loss: 25.456394196 Time: 0.18\n",
      "Loss components: {'VAE_loss': tensor cuda:0 25.456}\n",
      "====> Epoch: 297 Average loss: 24.652784348 Time: 0.18\n",
      "Loss components: {'VAE_loss': tensor cuda:0 24.653}\n",
      "====> Epoch: 298 Average loss: 16.132194519 Time: 0.18\n",
      "Loss components: {'VAE_loss': tensor cuda:0 16.132}\n",
      "====> Epoch: 299 Average loss: 21.500503540 Time: 0.18\n",
      "Loss components: {'VAE_loss': tensor cuda:0 21.501}\n",
      "====> Epoch: 300 Average loss: 16.204563141 Time: 0.17\n",
      "Loss components: {'VAE_loss': tensor cuda:0 16.205}\n",
      "====> Epoch: 301 Average loss: 35.507308960 Time: 0.17\n",
      "Loss components: {'VAE_loss': tensor cuda:0 35.507}\n",
      "====> Epoch: 302 Average loss: 39.368171692 Time: 0.18\n",
      "Loss components: {'VAE_loss': tensor cuda:0 39.368}\n",
      "====> Epoch: 303 Average loss: 21.984855652 Time: 0.18\n",
      "Loss components: {'VAE_loss': tensor cuda:0 21.985}\n",
      "====> Epoch: 304 Average loss: 22.214359283 Time: 0.18\n",
      "Loss components: {'VAE_loss': tensor cuda:0 22.214}\n",
      "====> Epoch: 305 Average loss: 22.274274826 Time: 0.18\n",
      "Loss components: {'VAE_loss': tensor cuda:0 22.274}\n",
      "====> Epoch: 306 Average loss: 27.371479034 Time: 0.17\n",
      "Loss components: {'VAE_loss': tensor cuda:0 27.371}\n",
      "====> Epoch: 307 Average loss: 19.037403107 Time: 0.17\n",
      "Loss components: {'VAE_loss': tensor cuda:0 19.037}\n",
      "====> Epoch: 308 Average loss: 17.549827576 Time: 0.16\n",
      "Loss components: {'VAE_loss': tensor cuda:0 17.550}\n",
      "====> Epoch: 309 Average loss: 38.780094147 Time: 0.16\n",
      "Loss components: {'VAE_loss': tensor cuda:0 38.780}\n",
      "====> Epoch: 310 Average loss: 20.034950256 Time: 0.16\n",
      "Loss components: {'VAE_loss': tensor cuda:0 20.035}\n",
      "====> Epoch: 311 Average loss: 40.411869049 Time: 0.16\n",
      "Loss components: {'VAE_loss': tensor cuda:0 40.412}\n",
      "====> Epoch: 312 Average loss: 19.565944672 Time: 0.17\n",
      "Loss components: {'VAE_loss': tensor cuda:0 19.566}\n",
      "====> Epoch: 313 Average loss: 21.287683487 Time: 0.17\n",
      "Loss components: {'VAE_loss': tensor cuda:0 21.288}\n",
      "====> Epoch: 314 Average loss: 19.100797653 Time: 0.16\n",
      "Loss components: {'VAE_loss': tensor cuda:0 19.101}\n",
      "====> Epoch: 315 Average loss: 20.675498962 Time: 0.16\n",
      "Loss components: {'VAE_loss': tensor cuda:0 20.675}\n",
      "====> Epoch: 316 Average loss: 26.231752396 Time: 0.16\n",
      "Loss components: {'VAE_loss': tensor cuda:0 26.232}\n",
      "====> Epoch: 317 Average loss: 47.943519592 Time: 0.16\n",
      "Loss components: {'VAE_loss': tensor cuda:0 47.944}\n",
      "====> Epoch: 318 Average loss: 20.959846497 Time: 0.16\n",
      "Loss components: {'VAE_loss': tensor cuda:0 20.960}\n",
      "====> Epoch: 319 Average loss: 20.950023651 Time: 0.16\n",
      "Loss components: {'VAE_loss': tensor cuda:0 20.950}\n",
      "====> Epoch: 320 Average loss: 27.704486847 Time: 0.16\n",
      "Loss components: {'VAE_loss': tensor cuda:0 27.704}\n",
      "====> Epoch: 321 Average loss: 21.446510315 Time: 0.16\n",
      "Loss components: {'VAE_loss': tensor cuda:0 21.447}\n",
      "====> Epoch: 322 Average loss: 26.044879913 Time: 0.16\n",
      "Loss components: {'VAE_loss': tensor cuda:0 26.045}\n",
      "====> Epoch: 323 Average loss: 21.643228531 Time: 0.16\n",
      "Loss components: {'VAE_loss': tensor cuda:0 21.643}\n",
      "====> Epoch: 324 Average loss: 34.474163055 Time: 0.16\n",
      "Loss components: {'VAE_loss': tensor cuda:0 34.474}\n",
      "====> Epoch: 325 Average loss: 18.550800323 Time: 0.17\n",
      "Loss components: {'VAE_loss': tensor cuda:0 18.551}\n",
      "====> Epoch: 326 Average loss: 56.770729065 Time: 0.16\n",
      "Loss components: {'VAE_loss': tensor cuda:0 56.771}\n",
      "====> Epoch: 327 Average loss: 22.969448090 Time: 0.16\n",
      "Loss components: {'VAE_loss': tensor cuda:0 22.969}\n",
      "====> Epoch: 328 Average loss: 22.278751373 Time: 0.16\n",
      "Loss components: {'VAE_loss': tensor cuda:0 22.279}\n",
      "====> Epoch: 329 Average loss: 43.242424011 Time: 0.16\n",
      "Loss components: {'VAE_loss': tensor cuda:0 43.242}\n",
      "====> Epoch: 330 Average loss: 42.611026764 Time: 0.16\n",
      "Loss components: {'VAE_loss': tensor cuda:0 42.611}\n",
      "====> Epoch: 331 Average loss: 13.662712097 Time: 0.16\n",
      "Loss components: {'VAE_loss': tensor cuda:0 13.663}\n",
      "====> Epoch: 332 Average loss: 19.340774536 Time: 0.16\n",
      "Loss components: {'VAE_loss': tensor cuda:0 19.341}\n",
      "====> Epoch: 333 Average loss: 17.577156067 Time: 0.16\n",
      "Loss components: {'VAE_loss': tensor cuda:0 17.577}\n",
      "====> Epoch: 334 Average loss: 36.142356873 Time: 0.17\n",
      "Loss components: {'VAE_loss': tensor cuda:0 36.142}\n",
      "====> Epoch: 335 Average loss: 45.901908875 Time: 0.16\n",
      "Loss components: {'VAE_loss': tensor cuda:0 45.902}\n",
      "====> Epoch: 336 Average loss: 24.770225525 Time: 0.16\n",
      "Loss components: {'VAE_loss': tensor cuda:0 24.770}\n",
      "====> Epoch: 337 Average loss: 63.892425537 Time: 0.16\n",
      "Loss components: {'VAE_loss': tensor cuda:0 63.892}\n",
      "====> Epoch: 338 Average loss: 40.650337219 Time: 0.16\n",
      "Loss components: {'VAE_loss': tensor cuda:0 40.650}\n",
      "====> Epoch: 339 Average loss: 25.491695404 Time: 0.16\n",
      "Loss components: {'VAE_loss': tensor cuda:0 25.492}\n",
      "====> Epoch: 340 Average loss: 35.356929779 Time: 0.16\n",
      "Loss components: {'VAE_loss': tensor cuda:0 35.357}\n",
      "====> Epoch: 341 Average loss: 26.022041321 Time: 0.16\n",
      "Loss components: {'VAE_loss': tensor cuda:0 26.022}\n",
      "====> Epoch: 342 Average loss: 20.210142136 Time: 0.16\n",
      "Loss components: {'VAE_loss': tensor cuda:0 20.210}\n",
      "====> Epoch: 343 Average loss: 38.729286194 Time: 0.17\n",
      "Loss components: {'VAE_loss': tensor cuda:0 38.729}\n",
      "====> Epoch: 344 Average loss: 29.722473145 Time: 0.16\n",
      "Loss components: {'VAE_loss': tensor cuda:0 29.722}\n",
      "====> Epoch: 345 Average loss: 29.189125061 Time: 0.16\n",
      "Loss components: {'VAE_loss': tensor cuda:0 29.189}\n",
      "====> Epoch: 346 Average loss: 28.758876801 Time: 0.16\n",
      "Loss components: {'VAE_loss': tensor cuda:0 28.759}\n",
      "====> Epoch: 347 Average loss: 35.066513062 Time: 0.16\n",
      "Loss components: {'VAE_loss': tensor cuda:0 35.067}\n",
      "====> Epoch: 348 Average loss: 32.650581360 Time: 0.16\n",
      "Loss components: {'VAE_loss': tensor cuda:0 32.651}\n",
      "====> Epoch: 349 Average loss: 42.298187256 Time: 0.16\n",
      "Loss components: {'VAE_loss': tensor cuda:0 42.298}\n",
      "====> Epoch: 350 Average loss: 15.480474472 Time: 0.16\n",
      "Loss components: {'VAE_loss': tensor cuda:0 15.480}\n",
      "====> Epoch: 351 Average loss: 32.745658875 Time: 0.16\n",
      "Loss components: {'VAE_loss': tensor cuda:0 32.746}\n",
      "====> Epoch: 352 Average loss: 27.234954834 Time: 0.16\n",
      "Loss components: {'VAE_loss': tensor cuda:0 27.235}\n",
      "====> Epoch: 353 Average loss: 27.007818222 Time: 0.16\n",
      "Loss components: {'VAE_loss': tensor cuda:0 27.008}\n",
      "====> Epoch: 354 Average loss: 22.558914185 Time: 0.16\n",
      "Loss components: {'VAE_loss': tensor cuda:0 22.559}\n",
      "====> Epoch: 355 Average loss: 25.260631561 Time: 0.16\n",
      "Loss components: {'VAE_loss': tensor cuda:0 25.261}\n",
      "====> Epoch: 356 Average loss: 17.216228485 Time: 0.16\n",
      "Loss components: {'VAE_loss': tensor cuda:0 17.216}\n",
      "====> Epoch: 357 Average loss: 13.702552795 Time: 0.16\n",
      "Loss components: {'VAE_loss': tensor cuda:0 13.703}\n",
      "====> Epoch: 358 Average loss: 32.195877075 Time: 0.16\n",
      "Loss components: {'VAE_loss': tensor cuda:0 32.196}\n",
      "====> Epoch: 359 Average loss: 19.043907166 Time: 0.17\n",
      "Loss components: {'VAE_loss': tensor cuda:0 19.044}\n",
      "====> Epoch: 360 Average loss: 27.614860535 Time: 0.16\n",
      "Loss components: {'VAE_loss': tensor cuda:0 27.615}\n",
      "====> Epoch: 361 Average loss: 14.148359299 Time: 0.17\n",
      "Loss components: {'VAE_loss': tensor cuda:0 14.148}\n",
      "====> Epoch: 362 Average loss: 19.217361450 Time: 0.16\n",
      "Loss components: {'VAE_loss': tensor cuda:0 19.217}\n",
      "====> Epoch: 363 Average loss: 18.121959686 Time: 0.16\n",
      "Loss components: {'VAE_loss': tensor cuda:0 18.122}\n",
      "====> Epoch: 364 Average loss: 19.003095627 Time: 0.16\n",
      "Loss components: {'VAE_loss': tensor cuda:0 19.003}\n",
      "====> Epoch: 365 Average loss: 17.047401428 Time: 0.16\n",
      "Loss components: {'VAE_loss': tensor cuda:0 17.047}\n",
      "====> Epoch: 366 Average loss: 22.250902176 Time: 0.16\n",
      "Loss components: {'VAE_loss': tensor cuda:0 22.251}\n",
      "====> Epoch: 367 Average loss: 24.796508789 Time: 0.16\n",
      "Loss components: {'VAE_loss': tensor cuda:0 24.797}\n",
      "====> Epoch: 368 Average loss: 17.301799774 Time: 0.16\n",
      "Loss components: {'VAE_loss': tensor cuda:0 17.302}\n",
      "====> Epoch: 369 Average loss: 15.734100342 Time: 0.17\n",
      "Loss components: {'VAE_loss': tensor cuda:0 15.734}\n",
      "====> Epoch: 370 Average loss: 15.500611305 Time: 0.16\n",
      "Loss components: {'VAE_loss': tensor cuda:0 15.501}\n",
      "====> Epoch: 371 Average loss: 23.947458267 Time: 0.16\n",
      "Loss components: {'VAE_loss': tensor cuda:0 23.947}\n",
      "====> Epoch: 372 Average loss: 19.708969116 Time: 0.16\n",
      "Loss components: {'VAE_loss': tensor cuda:0 19.709}\n",
      "====> Epoch: 373 Average loss: 17.210926056 Time: 0.16\n",
      "Loss components: {'VAE_loss': tensor cuda:0 17.211}\n",
      "====> Epoch: 374 Average loss: 17.471183777 Time: 0.16\n",
      "Loss components: {'VAE_loss': tensor cuda:0 17.471}\n",
      "====> Epoch: 375 Average loss: 19.212562561 Time: 0.16\n",
      "Loss components: {'VAE_loss': tensor cuda:0 19.213}\n",
      "====> Epoch: 376 Average loss: 29.245620728 Time: 0.16\n",
      "Loss components: {'VAE_loss': tensor cuda:0 29.246}\n",
      "====> Epoch: 377 Average loss: 16.492559433 Time: 0.16\n",
      "Loss components: {'VAE_loss': tensor cuda:0 16.493}\n",
      "====> Epoch: 378 Average loss: 16.441108704 Time: 0.16\n",
      "Loss components: {'VAE_loss': tensor cuda:0 16.441}\n",
      "====> Epoch: 379 Average loss: 22.089710236 Time: 0.16\n",
      "Loss components: {'VAE_loss': tensor cuda:0 22.090}\n",
      "====> Epoch: 380 Average loss: 13.700233459 Time: 0.16\n",
      "Loss components: {'VAE_loss': tensor cuda:0 13.700}\n",
      "====> Epoch: 381 Average loss: 18.661388397 Time: 0.16\n",
      "Loss components: {'VAE_loss': tensor cuda:0 18.661}\n",
      "====> Epoch: 382 Average loss: 15.621721268 Time: 0.16\n",
      "Loss components: {'VAE_loss': tensor cuda:0 15.622}\n",
      "====> Epoch: 383 Average loss: 18.773036957 Time: 0.16\n",
      "Loss components: {'VAE_loss': tensor cuda:0 18.773}\n",
      "====> Epoch: 384 Average loss: 31.442810059 Time: 0.16\n",
      "Loss components: {'VAE_loss': tensor cuda:0 31.443}\n",
      "====> Epoch: 385 Average loss: 16.080352783 Time: 0.16\n",
      "Loss components: {'VAE_loss': tensor cuda:0 16.080}\n",
      "====> Epoch: 386 Average loss: 17.355159760 Time: 0.16\n",
      "Loss components: {'VAE_loss': tensor cuda:0 17.355}\n",
      "====> Epoch: 387 Average loss: 22.544101715 Time: 0.16\n",
      "Loss components: {'VAE_loss': tensor cuda:0 22.544}\n",
      "====> Epoch: 388 Average loss: 14.960409164 Time: 0.16\n",
      "Loss components: {'VAE_loss': tensor cuda:0 14.960}\n",
      "====> Epoch: 389 Average loss: 22.243722916 Time: 0.17\n",
      "Loss components: {'VAE_loss': tensor cuda:0 22.244}\n",
      "====> Epoch: 390 Average loss: 30.711753845 Time: 0.16\n",
      "Loss components: {'VAE_loss': tensor cuda:0 30.712}\n",
      "====> Epoch: 391 Average loss: 13.605920792 Time: 0.16\n",
      "Loss components: {'VAE_loss': tensor cuda:0 13.606}\n",
      "====> Epoch: 392 Average loss: 35.490379333 Time: 0.16\n",
      "Loss components: {'VAE_loss': tensor cuda:0 35.490}\n",
      "====> Epoch: 393 Average loss: 29.729684830 Time: 0.16\n",
      "Loss components: {'VAE_loss': tensor cuda:0 29.730}\n",
      "====> Epoch: 394 Average loss: 53.953128815 Time: 0.16\n",
      "Loss components: {'VAE_loss': tensor cuda:0 53.953}\n",
      "====> Epoch: 395 Average loss: 22.535999298 Time: 0.16\n",
      "Loss components: {'VAE_loss': tensor cuda:0 22.536}\n",
      "====> Epoch: 396 Average loss: 46.155864716 Time: 0.16\n",
      "Loss components: {'VAE_loss': tensor cuda:0 46.156}\n",
      "====> Epoch: 397 Average loss: 24.095329285 Time: 0.16\n",
      "Loss components: {'VAE_loss': tensor cuda:0 24.095}\n",
      "====> Epoch: 398 Average loss: 47.445732117 Time: 0.16\n",
      "Loss components: {'VAE_loss': tensor cuda:0 47.446}\n",
      "====> Epoch: 399 Average loss: 19.401393890 Time: 0.16\n",
      "Loss components: {'VAE_loss': tensor cuda:0 19.401}\n",
      "====> Epoch: 400 Average loss: 54.451026917 Time: 0.17\n",
      "Loss components: {'VAE_loss': tensor cuda:0 54.451}\n",
      "====> Epoch: 401 Average loss: 22.522510529 Time: 0.16\n",
      "Loss components: {'VAE_loss': tensor cuda:0 22.523}\n",
      "====> Epoch: 402 Average loss: 34.120285034 Time: 0.16\n",
      "Loss components: {'VAE_loss': tensor cuda:0 34.120}\n",
      "====> Epoch: 403 Average loss: 34.853164673 Time: 0.16\n",
      "Loss components: {'VAE_loss': tensor cuda:0 34.853}\n",
      "====> Epoch: 404 Average loss: 29.051507950 Time: 0.16\n",
      "Loss components: {'VAE_loss': tensor cuda:0 29.052}\n",
      "====> Epoch: 405 Average loss: 26.540519714 Time: 0.16\n",
      "Loss components: {'VAE_loss': tensor cuda:0 26.541}\n",
      "====> Epoch: 406 Average loss: 17.634632111 Time: 0.16\n",
      "Loss components: {'VAE_loss': tensor cuda:0 17.635}\n",
      "====> Epoch: 407 Average loss: 26.636463165 Time: 0.16\n",
      "Loss components: {'VAE_loss': tensor cuda:0 26.636}\n",
      "====> Epoch: 408 Average loss: 13.257189751 Time: 0.16\n",
      "Loss components: {'VAE_loss': tensor cuda:0 13.257}\n",
      "====> Epoch: 409 Average loss: 21.228446960 Time: 0.16\n",
      "Loss components: {'VAE_loss': tensor cuda:0 21.228}\n",
      "====> Epoch: 410 Average loss: 16.043853760 Time: 0.16\n",
      "Loss components: {'VAE_loss': tensor cuda:0 16.044}\n",
      "====> Epoch: 411 Average loss: 24.076585770 Time: 0.16\n",
      "Loss components: {'VAE_loss': tensor cuda:0 24.077}\n",
      "====> Epoch: 412 Average loss: 25.745946884 Time: 0.16\n",
      "Loss components: {'VAE_loss': tensor cuda:0 25.746}\n",
      "====> Epoch: 413 Average loss: 14.212219238 Time: 0.16\n",
      "Loss components: {'VAE_loss': tensor cuda:0 14.212}\n",
      "====> Epoch: 414 Average loss: 25.873212814 Time: 0.16\n",
      "Loss components: {'VAE_loss': tensor cuda:0 25.873}\n",
      "====> Epoch: 415 Average loss: 12.710281372 Time: 0.16\n",
      "Loss components: {'VAE_loss': tensor cuda:0 12.710}\n",
      "====> Epoch: 416 Average loss: 25.721122742 Time: 0.16\n",
      "Loss components: {'VAE_loss': tensor cuda:0 25.721}\n",
      "====> Epoch: 417 Average loss: 13.967869759 Time: 0.16\n",
      "Loss components: {'VAE_loss': tensor cuda:0 13.968}\n",
      "====> Epoch: 418 Average loss: 26.696344376 Time: 0.16\n",
      "Loss components: {'VAE_loss': tensor cuda:0 26.696}\n",
      "====> Epoch: 419 Average loss: 17.356899261 Time: 0.16\n",
      "Loss components: {'VAE_loss': tensor cuda:0 17.357}\n",
      "====> Epoch: 420 Average loss: 17.891754150 Time: 0.16\n",
      "Loss components: {'VAE_loss': tensor cuda:0 17.892}\n",
      "====> Epoch: 421 Average loss: 15.748224258 Time: 0.16\n",
      "Loss components: {'VAE_loss': tensor cuda:0 15.748}\n",
      "====> Epoch: 422 Average loss: 18.321308136 Time: 0.16\n",
      "Loss components: {'VAE_loss': tensor cuda:0 18.321}\n",
      "====> Epoch: 423 Average loss: 17.130634308 Time: 0.16\n",
      "Loss components: {'VAE_loss': tensor cuda:0 17.131}\n",
      "====> Epoch: 424 Average loss: 15.618792534 Time: 0.16\n",
      "Loss components: {'VAE_loss': tensor cuda:0 15.619}\n",
      "====> Epoch: 425 Average loss: 19.266792297 Time: 0.16\n",
      "Loss components: {'VAE_loss': tensor cuda:0 19.267}\n",
      "====> Epoch: 426 Average loss: 18.482595444 Time: 0.16\n",
      "Loss components: {'VAE_loss': tensor cuda:0 18.483}\n",
      "====> Epoch: 427 Average loss: 35.589340210 Time: 0.16\n",
      "Loss components: {'VAE_loss': tensor cuda:0 35.589}\n",
      "====> Epoch: 428 Average loss: 45.144748688 Time: 0.16\n",
      "Loss components: {'VAE_loss': tensor cuda:0 45.145}\n",
      "====> Epoch: 429 Average loss: 19.930423737 Time: 0.16\n",
      "Loss components: {'VAE_loss': tensor cuda:0 19.930}\n",
      "====> Epoch: 430 Average loss: 16.500480652 Time: 0.16\n",
      "Loss components: {'VAE_loss': tensor cuda:0 16.500}\n",
      "====> Epoch: 431 Average loss: 19.913497925 Time: 0.16\n",
      "Loss components: {'VAE_loss': tensor cuda:0 19.913}\n",
      "====> Epoch: 432 Average loss: 14.819211960 Time: 0.16\n",
      "Loss components: {'VAE_loss': tensor cuda:0 14.819}\n",
      "====> Epoch: 433 Average loss: 15.805989265 Time: 0.16\n",
      "Loss components: {'VAE_loss': tensor cuda:0 15.806}\n",
      "====> Epoch: 434 Average loss: 15.449213982 Time: 0.16\n",
      "Loss components: {'VAE_loss': tensor cuda:0 15.449}\n",
      "====> Epoch: 435 Average loss: 12.940320969 Time: 0.16\n",
      "Loss components: {'VAE_loss': tensor cuda:0 12.940}\n",
      "====> Epoch: 436 Average loss: 26.268028259 Time: 0.16\n",
      "Loss components: {'VAE_loss': tensor cuda:0 26.268}\n",
      "====> Epoch: 437 Average loss: 30.682441711 Time: 0.16\n",
      "Loss components: {'VAE_loss': tensor cuda:0 30.682}\n",
      "====> Epoch: 438 Average loss: 21.215147018 Time: 0.16\n",
      "Loss components: {'VAE_loss': tensor cuda:0 21.215}\n",
      "====> Epoch: 439 Average loss: 20.641839981 Time: 0.16\n",
      "Loss components: {'VAE_loss': tensor cuda:0 20.642}\n",
      "====> Epoch: 440 Average loss: 38.265571594 Time: 0.17\n",
      "Loss components: {'VAE_loss': tensor cuda:0 38.266}\n",
      "====> Epoch: 441 Average loss: 14.924602509 Time: 0.18\n",
      "Loss components: {'VAE_loss': tensor cuda:0 14.925}\n",
      "====> Epoch: 442 Average loss: 32.855476379 Time: 0.17\n",
      "Loss components: {'VAE_loss': tensor cuda:0 32.855}\n",
      "====> Epoch: 443 Average loss: 37.423587799 Time: 0.19\n",
      "Loss components: {'VAE_loss': tensor cuda:0 37.424}\n",
      "====> Epoch: 444 Average loss: 15.250278473 Time: 0.18\n",
      "Loss components: {'VAE_loss': tensor cuda:0 15.250}\n",
      "====> Epoch: 445 Average loss: 34.882011414 Time: 0.17\n",
      "Loss components: {'VAE_loss': tensor cuda:0 34.882}\n"
     ]
    },
    {
     "ename": "KeyboardInterrupt",
     "evalue": "",
     "output_type": "error",
     "traceback": [
      "\u001b[1;31m---------------------------------------------------------------------------\u001b[0m",
      "\u001b[1;31mKeyboardInterrupt\u001b[0m                         Traceback (most recent call last)",
      "Cell \u001b[1;32mIn[61], line 1\u001b[0m\n\u001b[1;32m----> 1\u001b[0m reg\u001b[39m.\u001b[39;49mfit(X_train, X_og_train)\n",
      "File \u001b[1;32mc:\\Users\\efons\\Desktop\\kalyn_lstm\\kmk\\kmodels\\utils.py:547\u001b[0m, in \u001b[0;36mTrainer.fit\u001b[1;34m(self, x, y)\u001b[0m\n\u001b[0;32m    545\u001b[0m \u001b[39mself\u001b[39m\u001b[39m.\u001b[39mestimator \u001b[39m=\u001b[39m \u001b[39mself\u001b[39m\u001b[39m.\u001b[39mestimator\u001b[39m.\u001b[39mto(\u001b[39mself\u001b[39m\u001b[39m.\u001b[39mdevice)\n\u001b[0;32m    546\u001b[0m \u001b[39mself\u001b[39m\u001b[39m.\u001b[39mdataloader \u001b[39m=\u001b[39m DataLoader(TensorDataset(x, y), batch_size\u001b[39m=\u001b[39m\u001b[39mself\u001b[39m\u001b[39m.\u001b[39mbatch_size, shuffle\u001b[39m=\u001b[39m\u001b[39mTrue\u001b[39;00m)\n\u001b[1;32m--> 547\u001b[0m \u001b[39mself\u001b[39;49m\u001b[39m.\u001b[39;49mtrain()\n\u001b[0;32m    548\u001b[0m \u001b[39mreturn\u001b[39;00m \u001b[39mself\u001b[39m\n",
      "File \u001b[1;32mc:\\Users\\efons\\Desktop\\kalyn_lstm\\kmk\\kmodels\\utils.py:650\u001b[0m, in \u001b[0;36mTrainer.train\u001b[1;34m(self)\u001b[0m\n\u001b[0;32m    648\u001b[0m \u001b[39mself\u001b[39m\u001b[39m.\u001b[39moptimizer \u001b[39m=\u001b[39m torch\u001b[39m.\u001b[39moptim\u001b[39m.\u001b[39mAdam(\u001b[39mself\u001b[39m\u001b[39m.\u001b[39mestimator\u001b[39m.\u001b[39mparameters(), lr\u001b[39m=\u001b[39m\u001b[39mself\u001b[39m\u001b[39m.\u001b[39mlr_init)\n\u001b[0;32m    649\u001b[0m \u001b[39mfor\u001b[39;00m epoch \u001b[39min\u001b[39;00m \u001b[39mrange\u001b[39m(\u001b[39mself\u001b[39m\u001b[39m.\u001b[39mepochs):\n\u001b[1;32m--> 650\u001b[0m     train_loss \u001b[39m=\u001b[39m \u001b[39mself\u001b[39;49m\u001b[39m.\u001b[39;49mtrain_epoch(epoch)\n\u001b[0;32m    651\u001b[0m     \u001b[39mself\u001b[39m\u001b[39m.\u001b[39mlosses \u001b[39m=\u001b[39m torch\u001b[39m.\u001b[39mcat((\u001b[39mself\u001b[39m\u001b[39m.\u001b[39mlosses, torch\u001b[39m.\u001b[39mtensor([train_loss])\u001b[39m.\u001b[39mto(\u001b[39mself\u001b[39m\u001b[39m.\u001b[39mdevice)))\n\u001b[0;32m    652\u001b[0m \u001b[39mreturn\u001b[39;00m \u001b[39mself\u001b[39m\n",
      "File \u001b[1;32mc:\\Users\\efons\\Desktop\\kalyn_lstm\\kmk\\kmodels\\utils.py:670\u001b[0m, in \u001b[0;36mTrainer.train_epoch\u001b[1;34m(self, epoch)\u001b[0m\n\u001b[0;32m    668\u001b[0m     \u001b[39mself\u001b[39m\u001b[39m.\u001b[39moptimizer\u001b[39m.\u001b[39mstep()\n\u001b[0;32m    669\u001b[0m     torch\u001b[39m.\u001b[39mcuda\u001b[39m.\u001b[39mempty_cache()\n\u001b[1;32m--> 670\u001b[0m     gc\u001b[39m.\u001b[39mcollect()\n\u001b[0;32m    671\u001b[0m end \u001b[39m=\u001b[39m time\u001b[39m.\u001b[39mtime()\n\u001b[0;32m    673\u001b[0m \u001b[39mif\u001b[39;00m \u001b[39mself\u001b[39m\u001b[39m.\u001b[39mverbose \u001b[39m!=\u001b[39m \u001b[39m0\u001b[39m \u001b[39mand\u001b[39;00m epoch \u001b[39m%\u001b[39m \u001b[39mself\u001b[39m\u001b[39m.\u001b[39mverbose \u001b[39m==\u001b[39m \u001b[39m0\u001b[39m:\n",
      "\u001b[1;31mKeyboardInterrupt\u001b[0m: "
     ]
    }
   ],
   "source": [
    "reg.fit(X_train, X_og_train)"
   ]
  },
  {
   "cell_type": "code",
   "execution_count": 62,
   "metadata": {},
   "outputs": [
    {
     "data": {
      "text/plain": [
       "[<matplotlib.lines.Line2D at 0x1f0ca04be50>]"
      ]
     },
     "execution_count": 62,
     "metadata": {},
     "output_type": "execute_result"
    },
    {
     "data": {
      "image/png": "[encoded data removed]",
      "text/plain": [
       "<Figure size 640x480 with 1 Axes>"
      ]
     },
     "metadata": {},
     "output_type": "display_data"
    }
   ],
   "source": [
    "# plot the recon error\n",
    "X_hat = reg.predict(X.to('cuda'))\n",
    "plt.plot(X_hat[0].detach().cpu().numpy())\n",
    "plt.plot(X[0].detach().cpu().numpy(), alpha=0.5)\n"
   ]
  },
  {
   "cell_type": "code",
   "execution_count": 63,
   "metadata": {},
   "outputs": [
    {
     "data": {
      "text/plain": [
       "(array([3., 0., 0., 0., 0., 0., 0., 0., 0., 3.]),\n",
       " array([0.        , 0.1       , 0.2       , 0.30000001, 0.40000001,\n",
       "        0.5       , 0.60000002, 0.69999999, 0.80000001, 0.89999998,\n",
       "        1.        ]),\n",
       " <BarContainer object of 10 artists>)"
      ]
     },
     "execution_count": 63,
     "metadata": {},
     "output_type": "execute_result"
    },
    {
     "data": {
      "image/png": "[encoded data removed]",
      "text/plain": [
       "<Figure size 640x480 with 1 Axes>"
      ]
     },
     "metadata": {},
     "output_type": "display_data"
    }
   ],
   "source": [
    "plt.hist(Y_test[:,0])"
   ]
  },
  {
   "cell_type": "code",
   "execution_count": 64,
   "metadata": {},
   "outputs": [
    {
     "data": {
      "application/vnd.plotly.v1+json": {
       "config": {
        "plotlyServerURL": "https://plot.ly"
       },
       "data": [
        {
         "hovertemplate": "variable=0<br>index=%{x}<br>value=%{y}<extra></extra>",
         "legendgroup": "0",
         "line": {
          "color": "#636efa",
          "dash": "solid"
         },
         "marker": {
          "symbol": "circle"
         },
         "mode": "lines",
         "name": "0",
         "orientation": "v",
         "showlegend": true,
         "type": "scatter",
         "x": [
          0,
          1,
          2,
          3,
          4,
          5,
          6,
          7,
          8,
          9,
          10,
          11,
          12,
          13,
          14,
          15,
          16,
          17,
          18,
          19,
          20,
          21,
          22,
          23,
          24,
          25,
          26,
          27,
          28,
          29,
          30,
          31,
          32,
          33,
          34,
          35,
          36,
          37,
          38,
          39,
          40,
          41,
          42,
          43,
          44,
          45,
          46,
          47,
          48,
          49,
          50,
          51,
          52,
          53,
          54,
          55,
          56,
          57,
          58,
          59,
          60,
          61,
          62,
          63,
          64,
          65,
          66,
          67,
          68,
          69,
          70,
          71,
          72,
          73,
          74,
          75,
          76,
          77,
          78,
          79,
          80,
          81,
          82,
          83,
          84,
          85,
          86,
          87,
          88,
          89,
          90,
          91,
          92,
          93,
          94,
          95,
          96,
          97,
          98,
          99,
          100,
          101,
          102,
          103,
          104,
          105,
          106,
          107,
          108,
          109,
          110,
          111,
          112,
          113,
          114,
          115,
          116,
          117,
          118,
          119,
          120,
          121,
          122,
          123,
          124,
          125,
          126,
          127,
          128,
          129,
          130,
          131,
          132,
          133,
          134,
          135,
          136,
          137,
          138,
          139,
          140,
          141,
          142,
          143,
          144,
          145,
          146,
          147,
          148,
          149,
          150,
          151,
          152,
          153,
          154,
          155,
          156,
          157,
          158,
          159,
          160,
          161,
          162,
          163,
          164,
          165,
          166,
          167,
          168,
          169,
          170,
          171,
          172,
          173,
          174,
          175,
          176,
          177,
          178,
          179,
          180,
          181,
          182,
          183,
          184,
          185,
          186,
          187,
          188,
          189,
          190,
          191,
          192,
          193,
          194,
          195,
          196,
          197,
          198,
          199,
          200,
          201,
          202,
          203,
          204,
          205,
          206,
          207,
          208,
          209,
          210,
          211,
          212,
          213,
          214,
          215,
          216,
          217,
          218,
          219,
          220,
          221,
          222,
          223,
          224,
          225,
          226,
          227,
          228,
          229,
          230,
          231,
          232,
          233,
          234,
          235,
          236,
          237,
          238,
          239,
          240,
          241,
          242,
          243,
          244,
          245,
          246,
          247,
          248,
          249,
          250,
          251,
          252,
          253,
          254,
          255,
          256,
          257,
          258,
          259,
          260,
          261,
          262,
          263,
          264,
          265,
          266,
          267,
          268,
          269,
          270,
          271,
          272,
          273,
          274,
          275,
          276,
          277,
          278,
          279,
          280,
          281,
          282,
          283,
          284,
          285,
          286,
          287,
          288,
          289,
          290,
          291,
          292,
          293,
          294,
          295,
          296,
          297,
          298,
          299,
          300,
          301,
          302,
          303,
          304,
          305,
          306,
          307,
          308,
          309,
          310,
          311,
          312,
          313,
          314,
          315,
          316,
          317,
          318,
          319,
          320,
          321,
          322,
          323,
          324,
          325,
          326,
          327,
          328,
          329,
          330,
          331,
          332,
          333,
          334,
          335,
          336,
          337,
          338,
          339,
          340,
          341,
          342,
          343,
          344,
          345,
          346,
          347,
          348,
          349,
          350,
          351,
          352,
          353,
          354,
          355,
          356,
          357,
          358,
          359,
          360,
          361,
          362,
          363,
          364,
          365,
          366,
          367,
          368,
          369,
          370,
          371,
          372,
          373,
          374,
          375,
          376,
          377,
          378,
          379,
          380,
          381,
          382,
          383,
          384,
          385,
          386,
          387,
          388,
          389,
          390,
          391,
          392,
          393,
          394,
          395,
          396,
          397,
          398,
          399,
          400,
          401,
          402,
          403,
          404,
          405,
          406,
          407,
          408,
          409,
          410,
          411,
          412,
          413,
          414,
          415,
          416,
          417,
          418,
          419,
          420,
          421,
          422,
          423,
          424,
          425,
          426,
          427,
          428,
          429,
          430,
          431,
          432,
          433,
          434,
          435,
          436,
          437,
          438,
          439,
          440,
          441,
          442,
          443,
          444,
          445
         ],
         "xaxis": "x",
         "y": [
          79218.3359375,
          85152.1328125,
          73503.9140625,
          63942.265625,
          65004.78125,
          41352.3359375,
          38021.8046875,
          32359.015625,
          27077.169921875,
          22460.5703125,
          24511.392578125,
          26926.396484375,
          24003.1953125,
          22020,
          20539.498046875,
          19804.16796875,
          20263.671875,
          18506.451171875,
          18275.115234375,
          17270.21484375,
          16834.830078125,
          16752.42578125,
          16071.44140625,
          15449.4345703125,
          15196.10546875,
          14652.64453125,
          14415.5361328125,
          14024.7265625,
          13966.333984375,
          13581.203125,
          13248.013671875,
          13034.1630859375,
          12704.3896484375,
          12370.9970703125,
          12273.03515625,
          12036.9873046875,
          11847.173828125,
          11733.078125,
          11583.1142578125,
          11325.8115234375,
          11175.82421875,
          11048.958984375,
          10878.7333984375,
          10759.4169921875,
          10584.1591796875,
          10313.4541015625,
          10114.998046875,
          9964.142578125,
          9674.6943359375,
          9313.23046875,
          8899.9111328125,
          8365.470703125,
          7777.23681640625,
          7186.29931640625,
          6841.7041015625,
          6306.28564453125,
          5973.58837890625,
          5621.09765625,
          5420.5,
          5121.9873046875,
          4858.4150390625,
          4578.5,
          4277.03515625,
          3650.870361328125,
          3263.63525390625,
          2715.44091796875,
          2399.769287109375,
          2162.88818359375,
          1879.82177734375,
          1630.1087646484375,
          1420.052978515625,
          1296.851806640625,
          1141.7911376953125,
          1036.5673828125,
          1002.6622924804688,
          926.5505981445312,
          933.718017578125,
          871.3036499023438,
          887.6627807617188,
          847.1712646484375,
          803.7530517578125,
          802.9353637695312,
          721.53662109375,
          711.399658203125,
          644.1436157226562,
          632.3563842773438,
          598.5183715820312,
          557.4012451171875,
          633.5182495117188,
          445.4486389160156,
          598.5328369140625,
          407.32196044921875,
          514.8077392578125,
          320.101806640625,
          400.4154052734375,
          307.2459411621094,
          323.7533264160156,
          208.14976501464844,
          236.5511474609375,
          231.464599609375,
          141.80496215820312,
          155.0403594970703,
          151.93472290039062,
          131.69772338867188,
          173.51983642578125,
          214.1000213623047,
          83.51300811767578,
          142.42494201660156,
          90.66831970214844,
          81.38301086425781,
          132.9444580078125,
          69.68171691894531,
          104.24115753173828,
          68.08567810058594,
          93.97969055175781,
          113.12759399414062,
          61.501502990722656,
          75.4383544921875,
          72.49231719970703,
          61.80628204345703,
          53.47014236450195,
          70.4120864868164,
          69.3875732421875,
          72.83857727050781,
          57.561676025390625,
          86.99452209472656,
          44.604976654052734,
          55.70759582519531,
          62.03643798828125,
          38.78761291503906,
          124.8895034790039,
          78.80535888671875,
          75.73616027832031,
          50.139015197753906,
          164.40643310546875,
          134.767578125,
          133.798828125,
          72.99954986572266,
          151.78208923339844,
          49.06785583496094,
          101.38031005859375,
          54.66449737548828,
          136.54356384277344,
          43.254459381103516,
          110.96476745605469,
          49.52276611328125,
          56.403038024902344,
          53.59846496582031,
          32.357154846191406,
          44.740882873535156,
          36.56751251220703,
          41.069766998291016,
          33.359397888183594,
          42.97453308105469,
          29.478805541992188,
          55.70767593383789,
          37.20188903808594,
          44.597084045410156,
          39.698875427246094,
          48.3647575378418,
          38.69737243652344,
          45.69371032714844,
          54.35614013671875,
          53.34822082519531,
          36.1984977722168,
          58.12178039550781,
          29.715805053710938,
          49.868438720703125,
          35.39019775390625,
          32.9919319152832,
          31.613258361816406,
          28.604408264160156,
          26.721654891967773,
          33.324462890625,
          37.2625846862793,
          33.500221252441406,
          29.139999389648438,
          29.01214599609375,
          29.94806671142578,
          31.395305633544922,
          23.777315139770508,
          26.6523380279541,
          24.00135040283203,
          28.16606903076172,
          26.375333786010742,
          29.13814926147461,
          30.72090721130371,
          41.652496337890625,
          34.39434814453125,
          49.941932678222656,
          39.82694625854492,
          87.81379699707031,
          36.40925979614258,
          44.941162109375,
          45.67165756225586,
          45.32835388183594,
          44.62799072265625,
          27.01580810546875,
          49.304931640625,
          27.06607437133789,
          57.459861755371094,
          22.211111068725586,
          45.433006286621094,
          24.16001319885254,
          22.539793014526367,
          22.30152130126953,
          23.247602462768555,
          21.428775787353516,
          25.98944854736328,
          29.361225128173828,
          20.674219131469727,
          24.97935676574707,
          21.161808013916016,
          24.509048461914062,
          23.41686248779297,
          23.728355407714844,
          20.68720245361328,
          19.321636199951172,
          28.35095977783203,
          21.727548599243164,
          29.7023983001709,
          28.894344329833984,
          33.748878479003906,
          21.94468116760254,
          36.45494842529297,
          21.045387268066406,
          35.021949768066406,
          19.044700622558594,
          31.11432647705078,
          27.780874252319336,
          39.1302490234375,
          35.325103759765625,
          26.438854217529297,
          45.984649658203125,
          25.42449378967285,
          43.511932373046875,
          16.626333236694336,
          35.08052062988281,
          20.896026611328125,
          20.391231536865234,
          21.084890365600586,
          20.171756744384766,
          20.55615234375,
          21.619155883789062,
          17.679922103881836,
          17.862140655517578,
          21.884431838989258,
          26.961483001708984,
          24.374439239501953,
          23.927459716796875,
          20.56601333618164,
          37.60454177856445,
          21.22869110107422,
          24.352283477783203,
          24.20392417907715,
          16.419273376464844,
          20.22308921813965,
          21.637794494628906,
          22.591543197631836,
          22.017841339111328,
          14.496580123901367,
          19.638774871826172,
          21.03268051147461,
          30.49173355102539,
          18.671127319335938,
          29.133872985839844,
          24.794471740722656,
          21.22225570678711,
          26.14972686767578,
          17.17998504638672,
          21.329545974731445,
          28.702728271484375,
          20.213768005371094,
          29.03864097595215,
          59.283851623535156,
          44.5113639831543,
          45.24616241455078,
          37.30497360229492,
          61.62926483154297,
          20.852739334106445,
          49.205413818359375,
          85.83522033691406,
          39.14635467529297,
          16.49834442138672,
          37.762664794921875,
          21.591468811035156,
          25.23609161376953,
          43.96831512451172,
          26.438251495361328,
          24.22893524169922,
          19.46993637084961,
          16.299976348876953,
          16.071514129638672,
          17.65991973876953,
          19.77974510192871,
          21.66082191467285,
          25.45639419555664,
          24.65278434753418,
          16.13219451904297,
          21.500503540039062,
          16.20456314086914,
          35.50730895996094,
          39.36817169189453,
          21.98485565185547,
          22.214359283447266,
          22.274274826049805,
          27.371479034423828,
          19.037403106689453,
          17.549827575683594,
          38.780094146728516,
          20.034950256347656,
          40.411869049072266,
          19.56594467163086,
          21.287683486938477,
          19.100797653198242,
          20.675498962402344,
          26.231752395629883,
          47.943519592285156,
          20.95984649658203,
          20.950023651123047,
          27.704486846923828,
          21.446510314941406,
          26.044879913330078,
          21.64322853088379,
          34.47416305541992,
          18.550800323486328,
          56.770729064941406,
          22.96944808959961,
          22.278751373291016,
          43.24242401123047,
          42.611026763916016,
          13.662712097167969,
          19.340774536132812,
          17.57715606689453,
          36.142356872558594,
          45.90190887451172,
          24.770225524902344,
          63.892425537109375,
          40.65033721923828,
          25.491695404052734,
          35.356929779052734,
          26.02204132080078,
          20.210142135620117,
          38.729286193847656,
          29.72247314453125,
          29.189125061035156,
          28.75887680053711,
          35.06651306152344,
          32.65058135986328,
          42.298187255859375,
          15.480474472045898,
          32.74565887451172,
          27.234954833984375,
          27.0078182220459,
          22.558914184570312,
          25.260631561279297,
          17.216228485107422,
          13.702552795410156,
          32.19587707519531,
          19.043907165527344,
          27.61486053466797,
          14.148359298706055,
          19.217361450195312,
          18.121959686279297,
          19.003095626831055,
          17.047401428222656,
          22.25090217590332,
          24.7965087890625,
          17.301799774169922,
          15.734100341796875,
          15.500611305236816,
          23.947458267211914,
          19.708969116210938,
          17.210926055908203,
          17.47118377685547,
          19.212562561035156,
          29.245620727539062,
          16.4925594329834,
          16.44110870361328,
          22.089710235595703,
          13.700233459472656,
          18.661388397216797,
          15.621721267700195,
          18.77303695678711,
          31.44281005859375,
          16.080352783203125,
          17.355159759521484,
          22.54410171508789,
          14.960409164428711,
          22.243722915649414,
          30.711753845214844,
          13.605920791625977,
          35.490379333496094,
          29.729684829711914,
          53.953128814697266,
          22.535999298095703,
          46.15586471557617,
          24.09532928466797,
          47.44573211669922,
          19.40139389038086,
          54.451026916503906,
          22.522510528564453,
          34.12028503417969,
          34.85316467285156,
          29.0515079498291,
          26.54051971435547,
          17.634632110595703,
          26.636463165283203,
          13.257189750671387,
          21.22844696044922,
          16.043853759765625,
          24.07658576965332,
          25.745946884155273,
          14.21221923828125,
          25.873212814331055,
          12.710281372070312,
          25.72112274169922,
          13.967869758605957,
          26.69634437561035,
          17.35689926147461,
          17.891754150390625,
          15.748224258422852,
          18.321308135986328,
          17.130634307861328,
          15.618792533874512,
          19.26679229736328,
          18.482595443725586,
          35.58934020996094,
          45.14474868774414,
          19.930423736572266,
          16.50048065185547,
          19.913497924804688,
          14.819211959838867,
          15.805989265441895,
          15.449213981628418,
          12.94032096862793,
          26.268028259277344,
          30.68244171142578,
          21.215147018432617,
          20.6418399810791,
          38.26557159423828,
          14.924602508544922,
          32.85547637939453,
          37.423587799072266,
          15.25027847290039,
          34.88201141357422
         ],
         "yaxis": "y"
        }
       ],
       "layout": {
        "legend": {
         "title": {
          "text": "variable"
         },
         "tracegroupgap": 0
        },
        "template": {
         "data": {
          "bar": [
           {
            "error_x": {
             "color": "#2a3f5f"
            },
            "error_y": {
             "color": "#2a3f5f"
            },
            "marker": {
             "line": {
              "color": "#E5ECF6",
              "width": 0.5
             },
             "pattern": {
              "fillmode": "overlay",
              "size": 10,
              "solidity": 0.2
             }
            },
            "type": "bar"
           }
          ],
          "barpolar": [
           {
            "marker": {
             "line": {
              "color": "#E5ECF6",
              "width": 0.5
             },
             "pattern": {
              "fillmode": "overlay",
              "size": 10,
              "solidity": 0.2
             }
            },
            "type": "barpolar"
           }
          ],
          "carpet": [
           {
            "aaxis": {
             "endlinecolor": "#2a3f5f",
             "gridcolor": "white",
             "linecolor": "white",
             "minorgridcolor": "white",
             "startlinecolor": "#2a3f5f"
            },
            "baxis": {
             "endlinecolor": "#2a3f5f",
             "gridcolor": "white",
             "linecolor": "white",
             "minorgridcolor": "white",
             "startlinecolor": "#2a3f5f"
            },
            "type": "carpet"
           }
          ],
          "choropleth": [
           {
            "colorbar": {
             "outlinewidth": 0,
             "ticks": ""
            },
            "type": "choropleth"
           }
          ],
          "contour": [
           {
            "colorbar": {
             "outlinewidth": 0,
             "ticks": ""
            },
            "colorscale": [
             [
              0,
              "#0d0887"
             ],
             [
              0.1111111111111111,
              "#46039f"
             ],
             [
              0.2222222222222222,
              "#7201a8"
             ],
             [
              0.3333333333333333,
              "#9c179e"
             ],
             [
              0.4444444444444444,
              "#bd3786"
             ],
             [
              0.5555555555555556,
              "#d8576b"
             ],
             [
              0.6666666666666666,
              "#ed7953"
             ],
             [
              0.7777777777777778,
              "#fb9f3a"
             ],
             [
              0.8888888888888888,
              "#fdca26"
             ],
             [
              1,
              "#f0f921"
             ]
            ],
            "type": "contour"
           }
          ],
          "contourcarpet": [
           {
            "colorbar": {
             "outlinewidth": 0,
             "ticks": ""
            },
            "type": "contourcarpet"
           }
          ],
          "heatmap": [
           {
            "colorbar": {
             "outlinewidth": 0,
             "ticks": ""
            },
            "colorscale": [
             [
              0,
              "#0d0887"
             ],
             [
              0.1111111111111111,
              "#46039f"
             ],
             [
              0.2222222222222222,
              "#7201a8"
             ],
             [
              0.3333333333333333,
              "#9c179e"
             ],
             [
              0.4444444444444444,
              "#bd3786"
             ],
             [
              0.5555555555555556,
              "#d8576b"
             ],
             [
              0.6666666666666666,
              "#ed7953"
             ],
             [
              0.7777777777777778,
              "#fb9f3a"
             ],
             [
              0.8888888888888888,
              "#fdca26"
             ],
             [
              1,
              "#f0f921"
             ]
            ],
            "type": "heatmap"
           }
          ],
          "heatmapgl": [
           {
            "colorbar": {
             "outlinewidth": 0,
             "ticks": ""
            },
            "colorscale": [
             [
              0,
              "#0d0887"
             ],
             [
              0.1111111111111111,
              "#46039f"
             ],
             [
              0.2222222222222222,
              "#7201a8"
             ],
             [
              0.3333333333333333,
              "#9c179e"
             ],
             [
              0.4444444444444444,
              "#bd3786"
             ],
             [
              0.5555555555555556,
              "#d8576b"
             ],
             [
              0.6666666666666666,
              "#ed7953"
             ],
             [
              0.7777777777777778,
              "#fb9f3a"
             ],
             [
              0.8888888888888888,
              "#fdca26"
             ],
             [
              1,
              "#f0f921"
             ]
            ],
            "type": "heatmapgl"
           }
          ],
          "histogram": [
           {
            "marker": {
             "pattern": {
              "fillmode": "overlay",
              "size": 10,
              "solidity": 0.2
             }
            },
            "type": "histogram"
           }
          ],
          "histogram2d": [
           {
            "colorbar": {
             "outlinewidth": 0,
             "ticks": ""
            },
            "colorscale": [
             [
              0,
              "#0d0887"
             ],
             [
              0.1111111111111111,
              "#46039f"
             ],
             [
              0.2222222222222222,
              "#7201a8"
             ],
             [
              0.3333333333333333,
              "#9c179e"
             ],
             [
              0.4444444444444444,
              "#bd3786"
             ],
             [
              0.5555555555555556,
              "#d8576b"
             ],
             [
              0.6666666666666666,
              "#ed7953"
             ],
             [
              0.7777777777777778,
              "#fb9f3a"
             ],
             [
              0.8888888888888888,
              "#fdca26"
             ],
             [
              1,
              "#f0f921"
             ]
            ],
            "type": "histogram2d"
           }
          ],
          "histogram2dcontour": [
           {
            "colorbar": {
             "outlinewidth": 0,
             "ticks": ""
            },
            "colorscale": [
             [
              0,
              "#0d0887"
             ],
             [
              0.1111111111111111,
              "#46039f"
             ],
             [
              0.2222222222222222,
              "#7201a8"
             ],
             [
              0.3333333333333333,
              "#9c179e"
             ],
             [
              0.4444444444444444,
              "#bd3786"
             ],
             [
              0.5555555555555556,
              "#d8576b"
             ],
             [
              0.6666666666666666,
              "#ed7953"
             ],
             [
              0.7777777777777778,
              "#fb9f3a"
             ],
             [
              0.8888888888888888,
              "#fdca26"
             ],
             [
              1,
              "#f0f921"
             ]
            ],
            "type": "histogram2dcontour"
           }
          ],
          "mesh3d": [
           {
            "colorbar": {
             "outlinewidth": 0,
             "ticks": ""
            },
            "type": "mesh3d"
           }
          ],
          "parcoords": [
           {
            "line": {
             "colorbar": {
              "outlinewidth": 0,
              "ticks": ""
             }
            },
            "type": "parcoords"
           }
          ],
          "pie": [
           {
            "automargin": true,
            "type": "pie"
           }
          ],
          "scatter": [
           {
            "fillpattern": {
             "fillmode": "overlay",
             "size": 10,
             "solidity": 0.2
            },
            "type": "scatter"
           }
          ],
          "scatter3d": [
           {
            "line": {
             "colorbar": {
              "outlinewidth": 0,
              "ticks": ""
             }
            },
            "marker": {
             "colorbar": {
              "outlinewidth": 0,
              "ticks": ""
             }
            },
            "type": "scatter3d"
           }
          ],
          "scattercarpet": [
           {
            "marker": {
             "colorbar": {
              "outlinewidth": 0,
              "ticks": ""
             }
            },
            "type": "scattercarpet"
           }
          ],
          "scattergeo": [
           {
            "marker": {
             "colorbar": {
              "outlinewidth": 0,
              "ticks": ""
             }
            },
            "type": "scattergeo"
           }
          ],
          "scattergl": [
           {
            "marker": {
             "colorbar": {
              "outlinewidth": 0,
              "ticks": ""
             }
            },
            "type": "scattergl"
           }
          ],
          "scattermapbox": [
           {
            "marker": {
             "colorbar": {
              "outlinewidth": 0,
              "ticks": ""
             }
            },
            "type": "scattermapbox"
           }
          ],
          "scatterpolar": [
           {
            "marker": {
             "colorbar": {
              "outlinewidth": 0,
              "ticks": ""
             }
            },
            "type": "scatterpolar"
           }
          ],
          "scatterpolargl": [
           {
            "marker": {
             "colorbar": {
              "outlinewidth": 0,
              "ticks": ""
             }
            },
            "type": "scatterpolargl"
           }
          ],
          "scatterternary": [
           {
            "marker": {
             "colorbar": {
              "outlinewidth": 0,
              "ticks": ""
             }
            },
            "type": "scatterternary"
           }
          ],
          "surface": [
           {
            "colorbar": {
             "outlinewidth": 0,
             "ticks": ""
            },
            "colorscale": [
             [
              0,
              "#0d0887"
             ],
             [
              0.1111111111111111,
              "#46039f"
             ],
             [
              0.2222222222222222,
              "#7201a8"
             ],
             [
              0.3333333333333333,
              "#9c179e"
             ],
             [
              0.4444444444444444,
              "#bd3786"
             ],
             [
              0.5555555555555556,
              "#d8576b"
             ],
             [
              0.6666666666666666,
              "#ed7953"
             ],
             [
              0.7777777777777778,
              "#fb9f3a"
             ],
             [
              0.8888888888888888,
              "#fdca26"
             ],
             [
              1,
              "#f0f921"
             ]
            ],
            "type": "surface"
           }
          ],
          "table": [
           {
            "cells": {
             "fill": {
              "color": "#EBF0F8"
             },
             "line": {
              "color": "white"
             }
            },
            "header": {
             "fill": {
              "color": "#C8D4E3"
             },
             "line": {
              "color": "white"
             }
            },
            "type": "table"
           }
          ]
         },
         "layout": {
          "annotationdefaults": {
           "arrowcolor": "#2a3f5f",
           "arrowhead": 0,
           "arrowwidth": 1
          },
          "autotypenumbers": "strict",
          "coloraxis": {
           "colorbar": {
            "outlinewidth": 0,
            "ticks": ""
           }
          },
          "colorscale": {
           "diverging": [
            [
             0,
             "#8e0152"
            ],
            [
             0.1,
             "#c51b7d"
            ],
            [
             0.2,
             "#de77ae"
            ],
            [
             0.3,
             "#f1b6da"
            ],
            [
             0.4,
             "#fde0ef"
            ],
            [
             0.5,
             "#f7f7f7"
            ],
            [
             0.6,
             "#e6f5d0"
            ],
            [
             0.7,
             "#b8e186"
            ],
            [
             0.8,
             "#7fbc41"
            ],
            [
             0.9,
             "#4d9221"
            ],
            [
             1,
             "#276419"
            ]
           ],
           "sequential": [
            [
             0,
             "#0d0887"
            ],
            [
             0.1111111111111111,
             "#46039f"
            ],
            [
             0.2222222222222222,
             "#7201a8"
            ],
            [
             0.3333333333333333,
             "#9c179e"
            ],
            [
             0.4444444444444444,
             "#bd3786"
            ],
            [
             0.5555555555555556,
             "#d8576b"
            ],
            [
             0.6666666666666666,
             "#ed7953"
            ],
            [
             0.7777777777777778,
             "#fb9f3a"
            ],
            [
             0.8888888888888888,
             "#fdca26"
            ],
            [
             1,
             "#f0f921"
            ]
           ],
           "sequentialminus": [
            [
             0,
             "#0d0887"
            ],
            [
             0.1111111111111111,
             "#46039f"
            ],
            [
             0.2222222222222222,
             "#7201a8"
            ],
            [
             0.3333333333333333,
             "#9c179e"
            ],
            [
             0.4444444444444444,
             "#bd3786"
            ],
            [
             0.5555555555555556,
             "#d8576b"
            ],
            [
             0.6666666666666666,
             "#ed7953"
            ],
            [
             0.7777777777777778,
             "#fb9f3a"
            ],
            [
             0.8888888888888888,
             "#fdca26"
            ],
            [
             1,
             "#f0f921"
            ]
           ]
          },
          "colorway": [
           "#636efa",
           "#EF553B",
           "#00cc96",
           "#ab63fa",
           "#FFA15A",
           "#19d3f3",
           "#FF6692",
           "#B6E880",
           "#FF97FF",
           "#FECB52"
          ],
          "font": {
           "color": "#2a3f5f"
          },
          "geo": {
           "bgcolor": "white",
           "lakecolor": "white",
           "landcolor": "#E5ECF6",
           "showlakes": true,
           "showland": true,
           "subunitcolor": "white"
          },
          "hoverlabel": {
           "align": "left"
          },
          "hovermode": "closest",
          "mapbox": {
           "style": "light"
          },
          "paper_bgcolor": "white",
          "plot_bgcolor": "#E5ECF6",
          "polar": {
           "angularaxis": {
            "gridcolor": "white",
            "linecolor": "white",
            "ticks": ""
           },
           "bgcolor": "#E5ECF6",
           "radialaxis": {
            "gridcolor": "white",
            "linecolor": "white",
            "ticks": ""
           }
          },
          "scene": {
           "xaxis": {
            "backgroundcolor": "#E5ECF6",
            "gridcolor": "white",
            "gridwidth": 2,
            "linecolor": "white",
            "showbackground": true,
            "ticks": "",
            "zerolinecolor": "white"
           },
           "yaxis": {
            "backgroundcolor": "#E5ECF6",
            "gridcolor": "white",
            "gridwidth": 2,
            "linecolor": "white",
            "showbackground": true,
            "ticks": "",
            "zerolinecolor": "white"
           },
           "zaxis": {
            "backgroundcolor": "#E5ECF6",
            "gridcolor": "white",
            "gridwidth": 2,
            "linecolor": "white",
            "showbackground": true,
            "ticks": "",
            "zerolinecolor": "white"
           }
          },
          "shapedefaults": {
           "line": {
            "color": "#2a3f5f"
           }
          },
          "ternary": {
           "aaxis": {
            "gridcolor": "white",
            "linecolor": "white",
            "ticks": ""
           },
           "baxis": {
            "gridcolor": "white",
            "linecolor": "white",
            "ticks": ""
           },
           "bgcolor": "#E5ECF6",
           "caxis": {
            "gridcolor": "white",
            "linecolor": "white",
            "ticks": ""
           }
          },
          "title": {
           "x": 0.05
          },
          "xaxis": {
           "automargin": true,
           "gridcolor": "white",
           "linecolor": "white",
           "ticks": "",
           "title": {
            "standoff": 15
           },
           "zerolinecolor": "white",
           "zerolinewidth": 2
          },
          "yaxis": {
           "automargin": true,
           "gridcolor": "white",
           "linecolor": "white",
           "ticks": "",
           "title": {
            "standoff": 15
           },
           "zerolinecolor": "white",
           "zerolinewidth": 2
          }
         }
        },
        "title": {
         "text": "Losses"
        },
        "xaxis": {
         "anchor": "y",
         "domain": [
          0,
          1
         ],
         "title": {
          "text": "index"
         }
        },
        "yaxis": {
         "anchor": "x",
         "domain": [
          0,
          1
         ],
         "title": {
          "text": "value"
         }
        }
       }
      }
     },
     "metadata": {},
     "output_type": "display_data"
    }
   ],
   "source": [
    "# plot the losses\n",
    "import plotly.express as px\n",
    "px.line(reg.losses.detach().cpu(), title='Losses')"
   ]
  },
  {
   "cell_type": "code",
   "execution_count": 75,
   "metadata": {},
   "outputs": [
    {
     "data": {
      "text/plain": [
       "((45, 11000), torch.Size([15, 11000]), torch.Size([30, 2]))"
      ]
     },
     "execution_count": 75,
     "metadata": {},
     "output_type": "execute_result"
    }
   ],
   "source": [
    "# pass the data through the model\n",
    "X_prime_hat = reg.predict(X_prime.to('cuda'))\n",
    "X_prime_hat = X_prime_hat.detach().cpu().numpy()\n",
    "X_prime_hat.shape, X_prime.shape, Y.shape"
   ]
  },
  {
   "cell_type": "code",
   "execution_count": 76,
   "metadata": {},
   "outputs": [
    {
     "data": {
      "text/plain": [
       "<matplotlib.collections.PathCollection at 0x1f0d718a800>"
      ]
     },
     "execution_count": 76,
     "metadata": {},
     "output_type": "execute_result"
    },
    {
     "data": {
      "image/png": "[encoded data removed]",
      "text/plain": [
       "<Figure size 640x480 with 1 Axes>"
      ]
     },
     "metadata": {},
     "output_type": "display_data"
    }
   ],
   "source": [
    "# get the encoded latent space and plot\n",
    "X_encoded = reg.estimator.encode(X_test.to(reg.device))[0].detach().cpu().numpy()\n",
    "plt.scatter(X_encoded[:,0], X_encoded[:,1], c=Y_test[:,0], marker='*')\n",
    "# plot X_prime_hat as red dots\n",
    "plt.scatter(X_prime_hat[:,0], X_prime_hat[:,1], marker='o', alpha=0.5)"
   ]
  },
  {
   "cell_type": "code",
   "execution_count": 78,
   "metadata": {},
   "outputs": [
    {
     "data": {
      "application/vnd.plotly.v1+json": {
       "config": {
        "plotlyServerURL": "https://plot.ly"
       },
       "data": [
        {
         "customdata": [
          [
           1
          ],
          [
           4
          ],
          [
           1
          ]
         ],
         "hovertemplate": "Pain_Cohort=0.0<br>x1=%{x}<br>x2=%{y}<br>Eaton_Litter=%{marker.color}<extra></extra>",
         "legendgroup": "0.0",
         "marker": {
          "color": [
           1,
           4,
           1
          ],
          "coloraxis": "coloraxis",
          "line": {
           "color": "DarkSlateGrey",
           "width": 2
          },
          "size": 12,
          "symbol": "circle"
         },
         "mode": "markers",
         "name": "0.0",
         "orientation": "v",
         "showlegend": true,
         "type": "scatter",
         "x": [
          4.842008113861084,
          4.561249256134033,
          -0.36498376727104187
         ],
         "xaxis": "x",
         "y": [
          1.87262761592865,
          1.3916372060775757,
          -4.951213359832764
         ],
         "yaxis": "y"
        },
        {
         "customdata": [
          [
           3
          ],
          [
           3
          ],
          [
           3
          ]
         ],
         "hovertemplate": "Pain_Cohort=1.0<br>x1=%{x}<br>x2=%{y}<br>Eaton_Litter=%{marker.color}<extra></extra>",
         "legendgroup": "1.0",
         "marker": {
          "color": [
           3,
           3,
           3
          ],
          "coloraxis": "coloraxis",
          "line": {
           "color": "DarkSlateGrey",
           "width": 2
          },
          "size": 12,
          "symbol": "diamond"
         },
         "mode": "markers",
         "name": "1.0",
         "orientation": "v",
         "showlegend": true,
         "type": "scatter",
         "x": [
          4.871619701385498,
          -0.12356947362422943,
          -0.23340658843517303
         ],
         "xaxis": "x",
         "y": [
          0.007462535053491592,
          -2.222337007522583,
          -5.746620178222656
         ],
         "yaxis": "y"
        },
        {
         "marker": {
          "color": [
           1,
           1,
           1,
           1,
           1,
           1,
           0,
           0,
           0,
           1,
           1,
           1,
           0,
           0,
           0
          ],
          "line": {
           "color": "Red",
           "width": 2
          },
          "size": 12
         },
         "mode": "markers",
         "name": "X_prime_hat",
         "type": "scatter",
         "x": [
          0.020540159195661545,
          0.01991088315844536,
          0.018666952848434448,
          0.016458790749311447,
          0.016676228493452072,
          0.01771967113018036,
          0.002629738301038742,
          0.004437960684299469,
          0.004740171134471893,
          0.013916950672864914,
          0.018512800335884094,
          0.013754691928625107,
          0.008649978786706924,
          0.00007275864481925964,
          0.017799612134695053,
          0.007006656378507614,
          0.019402388483285904,
          0.019166041165590286,
          0.013013429939746857,
          0.011281028389930725,
          0.010383810847997665,
          0.01843728870153427,
          0.007899213582277298,
          0.021083470433950424,
          0.011727359145879745,
          0.011832509189844131,
          0.009372681379318237,
          0.008388690650463104,
          0.007510580122470856,
          0.009244848042726517,
          0.012354709208011627,
          0.013136167079210281,
          0.011421583592891693,
          0.02091873809695244,
          0.015780843794345856,
          0.00981266051530838,
          0.005856987088918686,
          0.010167669504880905,
          -0.008150357753038406,
          0.02494906261563301,
          0.03377067670226097,
          0.016288258135318756,
          0.015135359019041061,
          0.011051654815673828,
          0.009788673371076584
         ],
         "y": [
          0.03479349985718727,
          0.018442843109369278,
          0.030250996351242065,
          0.01747831329703331,
          0.02380869910120964,
          0.022273875772953033,
          -0.0014213621616363525,
          0.0022998973727226257,
          -0.007078312337398529,
          -0.0031548812985420227,
          0.010216835886240005,
          -0.003703586757183075,
          0.0023734867572784424,
          -0.0516793355345726,
          0.01235760748386383,
          -0.0023111850023269653,
          0.008748341351747513,
          -0.004704855382442474,
          0.010954536497592926,
          -0.011807717382907867,
          -0.017477013170719147,
          0.005624055862426758,
          0.002480536699295044,
          0.00921628251671791,
          -0.012355335056781769,
          0.01627359166741371,
          0.011775221675634384,
          0.008647184818983078,
          0.006212934851646423,
          0.009682491421699524,
          -0.016011297702789307,
          -0.010246731340885162,
          0.0019079223275184631,
          0.01028447225689888,
          0.005988478660583496,
          0.014266084879636765,
          -0.03292018175125122,
          -0.017039626836776733,
          -0.06995377689599991,
          0.0286724753677845,
          0.059519145637750626,
          0.0035740211606025696,
          -0.00029994547367095947,
          0.010958030819892883,
          0.009387772530317307
         ]
        },
        {
         "marker": {
          "color": "black",
          "line": {
           "color": "black",
           "width": 2
          },
          "size": 12
         },
         "mode": "markers",
         "type": "scatter",
         "x": [
          2.8837716579437256,
          3.7019035816192627,
          3.0498569011688232,
          4.003814697265625,
          3.3589797019958496,
          3.550675392150879,
          5.536577224731445,
          5.254342079162598,
          5.135759353637695,
          2.9028236865997314,
          3.5929787158966064,
          4.145304203033447,
          5.4793009757995605,
          5.51459264755249,
          4.57286262512207,
          6.726189613342285,
          4.059540271759033,
          4.96441125869751,
          4.775289058685303,
          5.297720432281494,
          6.506261348724365,
          4.089656352996826,
          4.363028526306152,
          4.168290138244629,
          3.503399133682251,
          4.027659893035889,
          4.341403007507324,
          4.045076847076416,
          4.956634998321533,
          4.53574275970459,
          7.362541198730469,
          6.482017517089844,
          5.749863147735596,
          3.8801462650299072,
          4.057424068450928,
          3.763043165206909,
          7.034733772277832,
          6.369792938232422,
          7.704054832458496,
          2.9302940368652344,
          2.3610787391662598,
          3.2662875652313232,
          4.822800159454346,
          4.54498291015625,
          3.8562023639678955
         ],
         "y": [
          1.69815194606781,
          1.8377467393875122,
          1.9031327962875366,
          -0.8452627062797546,
          -0.14542034268379211,
          -0.328326016664505,
          0.3750612437725067,
          0.2093956023454666,
          1.249636173248291,
          -2.749061346054077,
          -2.1649177074432373,
          -2.7286555767059326,
          -0.8726175427436829,
          -4.9261345863342285,
          -1.3510693311691284,
          -0.8931692242622375,
          1.6669896841049194,
          2.0355122089385986,
          -1.0805093050003052,
          -2.699042797088623,
          -3.0485527515411377,
          1.6512290239334106,
          0.986407458782196,
          1.6129441261291504,
          -3.1463682651519775,
          -0.14943882822990417,
          -0.044990744441747665,
          0.48298048973083496,
          -0.16150625050067902,
          -0.10291032493114471,
          -3.5476343631744385,
          -2.487159490585327,
          -1.334779143333435,
          1.68660569190979,
          1.4517987966537476,
          0.25649070739746094,
          -3.8604204654693604,
          -3.425855875015259,
          -5.916348457336426,
          -0.882439136505127,
          1.2835428714752197,
          -2.563112497329712,
          -2.145901918411255,
          -0.4743867516517639,
          0.5946590304374695
         ]
        }
       ],
       "layout": {
        "autosize": false,
        "coloraxis": {
         "colorbar": {
          "title": {
           "text": "Eaton_Litter"
          }
         },
         "colorscale": [
          [
           0,
           "#0d0887"
          ],
          [
           0.1111111111111111,
           "#46039f"
          ],
          [
           0.2222222222222222,
           "#7201a8"
          ],
          [
           0.3333333333333333,
           "#9c179e"
          ],
          [
           0.4444444444444444,
           "#bd3786"
          ],
          [
           0.5555555555555556,
           "#d8576b"
          ],
          [
           0.6666666666666666,
           "#ed7953"
          ],
          [
           0.7777777777777778,
           "#fb9f3a"
          ],
          [
           0.8888888888888888,
           "#fdca26"
          ],
          [
           1,
           "#f0f921"
          ]
         ]
        },
        "height": 800,
        "legend": {
         "title": {
          "text": "Pain_Cohort"
         },
         "tracegroupgap": 0
        },
        "margin": {
         "b": 100,
         "l": 50,
         "pad": 4,
         "r": 50,
         "t": 100
        },
        "paper_bgcolor": "LightSteelBlue",
        "template": {
         "data": {
          "bar": [
           {
            "error_x": {
             "color": "#2a3f5f"
            },
            "error_y": {
             "color": "#2a3f5f"
            },
            "marker": {
             "line": {
              "color": "#E5ECF6",
              "width": 0.5
             },
             "pattern": {
              "fillmode": "overlay",
              "size": 10,
              "solidity": 0.2
             }
            },
            "type": "bar"
           }
          ],
          "barpolar": [
           {
            "marker": {
             "line": {
              "color": "#E5ECF6",
              "width": 0.5
             },
             "pattern": {
              "fillmode": "overlay",
              "size": 10,
              "solidity": 0.2
             }
            },
            "type": "barpolar"
           }
          ],
          "carpet": [
           {
            "aaxis": {
             "endlinecolor": "#2a3f5f",
             "gridcolor": "white",
             "linecolor": "white",
             "minorgridcolor": "white",
             "startlinecolor": "#2a3f5f"
            },
            "baxis": {
             "endlinecolor": "#2a3f5f",
             "gridcolor": "white",
             "linecolor": "white",
             "minorgridcolor": "white",
             "startlinecolor": "#2a3f5f"
            },
            "type": "carpet"
           }
          ],
          "choropleth": [
           {
            "colorbar": {
             "outlinewidth": 0,
             "ticks": ""
            },
            "type": "choropleth"
           }
          ],
          "contour": [
           {
            "colorbar": {
             "outlinewidth": 0,
             "ticks": ""
            },
            "colorscale": [
             [
              0,
              "#0d0887"
             ],
             [
              0.1111111111111111,
              "#46039f"
             ],
             [
              0.2222222222222222,
              "#7201a8"
             ],
             [
              0.3333333333333333,
              "#9c179e"
             ],
             [
              0.4444444444444444,
              "#bd3786"
             ],
             [
              0.5555555555555556,
              "#d8576b"
             ],
             [
              0.6666666666666666,
              "#ed7953"
             ],
             [
              0.7777777777777778,
              "#fb9f3a"
             ],
             [
              0.8888888888888888,
              "#fdca26"
             ],
             [
              1,
              "#f0f921"
             ]
            ],
            "type": "contour"
           }
          ],
          "contourcarpet": [
           {
            "colorbar": {
             "outlinewidth": 0,
             "ticks": ""
            },
            "type": "contourcarpet"
           }
          ],
          "heatmap": [
           {
            "colorbar": {
             "outlinewidth": 0,
             "ticks": ""
            },
            "colorscale": [
             [
              0,
              "#0d0887"
             ],
             [
              0.1111111111111111,
              "#46039f"
             ],
             [
              0.2222222222222222,
              "#7201a8"
             ],
             [
              0.3333333333333333,
              "#9c179e"
             ],
             [
              0.4444444444444444,
              "#bd3786"
             ],
             [
              0.5555555555555556,
              "#d8576b"
             ],
             [
              0.6666666666666666,
              "#ed7953"
             ],
             [
              0.7777777777777778,
              "#fb9f3a"
             ],
             [
              0.8888888888888888,
              "#fdca26"
             ],
             [
              1,
              "#f0f921"
             ]
            ],
            "type": "heatmap"
           }
          ],
          "heatmapgl": [
           {
            "colorbar": {
             "outlinewidth": 0,
             "ticks": ""
            },
            "colorscale": [
             [
              0,
              "#0d0887"
             ],
             [
              0.1111111111111111,
              "#46039f"
             ],
             [
              0.2222222222222222,
              "#7201a8"
             ],
             [
              0.3333333333333333,
              "#9c179e"
             ],
             [
              0.4444444444444444,
              "#bd3786"
             ],
             [
              0.5555555555555556,
              "#d8576b"
             ],
             [
              0.6666666666666666,
              "#ed7953"
             ],
             [
              0.7777777777777778,
              "#fb9f3a"
             ],
             [
              0.8888888888888888,
              "#fdca26"
             ],
             [
              1,
              "#f0f921"
             ]
            ],
            "type": "heatmapgl"
           }
          ],
          "histogram": [
           {
            "marker": {
             "pattern": {
              "fillmode": "overlay",
              "size": 10,
              "solidity": 0.2
             }
            },
            "type": "histogram"
           }
          ],
          "histogram2d": [
           {
            "colorbar": {
             "outlinewidth": 0,
             "ticks": ""
            },
            "colorscale": [
             [
              0,
              "#0d0887"
             ],
             [
              0.1111111111111111,
              "#46039f"
             ],
             [
              0.2222222222222222,
              "#7201a8"
             ],
             [
              0.3333333333333333,
              "#9c179e"
             ],
             [
              0.4444444444444444,
              "#bd3786"
             ],
             [
              0.5555555555555556,
              "#d8576b"
             ],
             [
              0.6666666666666666,
              "#ed7953"
             ],
             [
              0.7777777777777778,
              "#fb9f3a"
             ],
             [
              0.8888888888888888,
              "#fdca26"
             ],
             [
              1,
              "#f0f921"
             ]
            ],
            "type": "histogram2d"
           }
          ],
          "histogram2dcontour": [
           {
            "colorbar": {
             "outlinewidth": 0,
             "ticks": ""
            },
            "colorscale": [
             [
              0,
              "#0d0887"
             ],
             [
              0.1111111111111111,
              "#46039f"
             ],
             [
              0.2222222222222222,
              "#7201a8"
             ],
             [
              0.3333333333333333,
              "#9c179e"
             ],
             [
              0.4444444444444444,
              "#bd3786"
             ],
             [
              0.5555555555555556,
              "#d8576b"
             ],
             [
              0.6666666666666666,
              "#ed7953"
             ],
             [
              0.7777777777777778,
              "#fb9f3a"
             ],
             [
              0.8888888888888888,
              "#fdca26"
             ],
             [
              1,
              "#f0f921"
             ]
            ],
            "type": "histogram2dcontour"
           }
          ],
          "mesh3d": [
           {
            "colorbar": {
             "outlinewidth": 0,
             "ticks": ""
            },
            "type": "mesh3d"
           }
          ],
          "parcoords": [
           {
            "line": {
             "colorbar": {
              "outlinewidth": 0,
              "ticks": ""
             }
            },
            "type": "parcoords"
           }
          ],
          "pie": [
           {
            "automargin": true,
            "type": "pie"
           }
          ],
          "scatter": [
           {
            "fillpattern": {
             "fillmode": "overlay",
             "size": 10,
             "solidity": 0.2
            },
            "type": "scatter"
           }
          ],
          "scatter3d": [
           {
            "line": {
             "colorbar": {
              "outlinewidth": 0,
              "ticks": ""
             }
            },
            "marker": {
             "colorbar": {
              "outlinewidth": 0,
              "ticks": ""
             }
            },
            "type": "scatter3d"
           }
          ],
          "scattercarpet": [
           {
            "marker": {
             "colorbar": {
              "outlinewidth": 0,
              "ticks": ""
             }
            },
            "type": "scattercarpet"
           }
          ],
          "scattergeo": [
           {
            "marker": {
             "colorbar": {
              "outlinewidth": 0,
              "ticks": ""
             }
            },
            "type": "scattergeo"
           }
          ],
          "scattergl": [
           {
            "marker": {
             "colorbar": {
              "outlinewidth": 0,
              "ticks": ""
             }
            },
            "type": "scattergl"
           }
          ],
          "scattermapbox": [
           {
            "marker": {
             "colorbar": {
              "outlinewidth": 0,
              "ticks": ""
             }
            },
            "type": "scattermapbox"
           }
          ],
          "scatterpolar": [
           {
            "marker": {
             "colorbar": {
              "outlinewidth": 0,
              "ticks": ""
             }
            },
            "type": "scatterpolar"
           }
          ],
          "scatterpolargl": [
           {
            "marker": {
             "colorbar": {
              "outlinewidth": 0,
              "ticks": ""
             }
            },
            "type": "scatterpolargl"
           }
          ],
          "scatterternary": [
           {
            "marker": {
             "colorbar": {
              "outlinewidth": 0,
              "ticks": ""
             }
            },
            "type": "scatterternary"
           }
          ],
          "surface": [
           {
            "colorbar": {
             "outlinewidth": 0,
             "ticks": ""
            },
            "colorscale": [
             [
              0,
              "#0d0887"
             ],
             [
              0.1111111111111111,
              "#46039f"
             ],
             [
              0.2222222222222222,
              "#7201a8"
             ],
             [
              0.3333333333333333,
              "#9c179e"
             ],
             [
              0.4444444444444444,
              "#bd3786"
             ],
             [
              0.5555555555555556,
              "#d8576b"
             ],
             [
              0.6666666666666666,
              "#ed7953"
             ],
             [
              0.7777777777777778,
              "#fb9f3a"
             ],
             [
              0.8888888888888888,
              "#fdca26"
             ],
             [
              1,
              "#f0f921"
             ]
            ],
            "type": "surface"
           }
          ],
          "table": [
           {
            "cells": {
             "fill": {
              "color": "#EBF0F8"
             },
             "line": {
              "color": "white"
             }
            },
            "header": {
             "fill": {
              "color": "#C8D4E3"
             },
             "line": {
              "color": "white"
             }
            },
            "type": "table"
           }
          ]
         },
         "layout": {
          "annotationdefaults": {
           "arrowcolor": "#2a3f5f",
           "arrowhead": 0,
           "arrowwidth": 1
          },
          "autotypenumbers": "strict",
          "coloraxis": {
           "colorbar": {
            "outlinewidth": 0,
            "ticks": ""
           }
          },
          "colorscale": {
           "diverging": [
            [
             0,
             "#8e0152"
            ],
            [
             0.1,
             "#c51b7d"
            ],
            [
             0.2,
             "#de77ae"
            ],
            [
             0.3,
             "#f1b6da"
            ],
            [
             0.4,
             "#fde0ef"
            ],
            [
             0.5,
             "#f7f7f7"
            ],
            [
             0.6,
             "#e6f5d0"
            ],
            [
             0.7,
             "#b8e186"
            ],
            [
             0.8,
             "#7fbc41"
            ],
            [
             0.9,
             "#4d9221"
            ],
            [
             1,
             "#276419"
            ]
           ],
           "sequential": [
            [
             0,
             "#0d0887"
            ],
            [
             0.1111111111111111,
             "#46039f"
            ],
            [
             0.2222222222222222,
             "#7201a8"
            ],
            [
             0.3333333333333333,
             "#9c179e"
            ],
            [
             0.4444444444444444,
             "#bd3786"
            ],
            [
             0.5555555555555556,
             "#d8576b"
            ],
            [
             0.6666666666666666,
             "#ed7953"
            ],
            [
             0.7777777777777778,
             "#fb9f3a"
            ],
            [
             0.8888888888888888,
             "#fdca26"
            ],
            [
             1,
             "#f0f921"
            ]
           ],
           "sequentialminus": [
            [
             0,
             "#0d0887"
            ],
            [
             0.1111111111111111,
             "#46039f"
            ],
            [
             0.2222222222222222,
             "#7201a8"
            ],
            [
             0.3333333333333333,
             "#9c179e"
            ],
            [
             0.4444444444444444,
             "#bd3786"
            ],
            [
             0.5555555555555556,
             "#d8576b"
            ],
            [
             0.6666666666666666,
             "#ed7953"
            ],
            [
             0.7777777777777778,
             "#fb9f3a"
            ],
            [
             0.8888888888888888,
             "#fdca26"
            ],
            [
             1,
             "#f0f921"
            ]
           ]
          },
          "colorway": [
           "#636efa",
           "#EF553B",
           "#00cc96",
           "#ab63fa",
           "#FFA15A",
           "#19d3f3",
           "#FF6692",
           "#B6E880",
           "#FF97FF",
           "#FECB52"
          ],
          "font": {
           "color": "#2a3f5f"
          },
          "geo": {
           "bgcolor": "white",
           "lakecolor": "white",
           "landcolor": "#E5ECF6",
           "showlakes": true,
           "showland": true,
           "subunitcolor": "white"
          },
          "hoverlabel": {
           "align": "left"
          },
          "hovermode": "closest",
          "mapbox": {
           "style": "light"
          },
          "paper_bgcolor": "white",
          "plot_bgcolor": "#E5ECF6",
          "polar": {
           "angularaxis": {
            "gridcolor": "white",
            "linecolor": "white",
            "ticks": ""
           },
           "bgcolor": "#E5ECF6",
           "radialaxis": {
            "gridcolor": "white",
            "linecolor": "white",
            "ticks": ""
           }
          },
          "scene": {
           "xaxis": {
            "backgroundcolor": "#E5ECF6",
            "gridcolor": "white",
            "gridwidth": 2,
            "linecolor": "white",
            "showbackground": true,
            "ticks": "",
            "zerolinecolor": "white"
           },
           "yaxis": {
            "backgroundcolor": "#E5ECF6",
            "gridcolor": "white",
            "gridwidth": 2,
            "linecolor": "white",
            "showbackground": true,
            "ticks": "",
            "zerolinecolor": "white"
           },
           "zaxis": {
            "backgroundcolor": "#E5ECF6",
            "gridcolor": "white",
            "gridwidth": 2,
            "linecolor": "white",
            "showbackground": true,
            "ticks": "",
            "zerolinecolor": "white"
           }
          },
          "shapedefaults": {
           "line": {
            "color": "#2a3f5f"
           }
          },
          "ternary": {
           "aaxis": {
            "gridcolor": "white",
            "linecolor": "white",
            "ticks": ""
           },
           "baxis": {
            "gridcolor": "white",
            "linecolor": "white",
            "ticks": ""
           },
           "bgcolor": "#E5ECF6",
           "caxis": {
            "gridcolor": "white",
            "linecolor": "white",
            "ticks": ""
           }
          },
          "title": {
           "x": 0.05
          },
          "xaxis": {
           "automargin": true,
           "gridcolor": "white",
           "linecolor": "white",
           "ticks": "",
           "title": {
            "standoff": 15
           },
           "zerolinecolor": "white",
           "zerolinewidth": 2
          },
          "yaxis": {
           "automargin": true,
           "gridcolor": "white",
           "linecolor": "white",
           "ticks": "",
           "title": {
            "standoff": 15
           },
           "zerolinecolor": "white",
           "zerolinewidth": 2
          }
         }
        },
        "width": 800,
        "xaxis": {
         "anchor": "y",
         "domain": [
          0,
          1
         ],
         "title": {
          "text": "x1"
         }
        },
        "yaxis": {
         "anchor": "x",
         "domain": [
          0,
          1
         ],
         "title": {
          "text": "x2"
         }
        }
       }
      }
     },
     "metadata": {},
     "output_type": "display_data"
    }
   ],
   "source": [
    "import plotly.express as px\n",
    "# cmap is red to blue\n",
    "# encoded_df \n",
    "Edf = pd.DataFrame(X_encoded[:, 0:2], columns=['x1', 'x2'])\n",
    "Edf['Pain_Cohort'] = Y_test[:,0]\n",
    "Edf['Eaton_Litter'] = Y_test[:,1]\n",
    "# make the pain cohort categorical\n",
    "Edf['Pain_Cohort'] = Edf['Pain_Cohort'].astype('category')\n",
    "# now make the pain 1 category * and 0 category o\n",
    "#Edf['Pain_Cohort'] = Edf['Pain_Cohort'].apply(lambda x: '*' if x == 1 else 'o')\n",
    "fig = px.scatter(Edf, x='x1', y='x2', color='Eaton_Litter', symbol='Pain_Cohort', hover_data=['Eaton_Litter'])\n",
    "# make the size of the pain cohort bigger\n",
    "# fig.update_traces(marker=dict(size=12,\n",
    "#                                 line=dict(width=2,\n",
    "#                                             color='DarkSlateGrey')),\n",
    "#                     selector=dict(mode='markers', symbol='*')) \n",
    "# # make the markers bigger with nicer backgrounds\n",
    "fig.update_traces(marker=dict(size=12,\n",
    "                                line=dict(width=2,\n",
    "                                            color='DarkSlateGrey')),\n",
    "                    selector=dict(mode='markers'))\n",
    "# we want to really emphasize the Pain Cohort == 1 group. lets make the marker size much larger\n",
    "fig.update_traces(marker=dict(size=209,\n",
    "                                line=dict(width=2,\n",
    "                                            color='DarkSlateGrey')),\n",
    "                    selector=dict(mode='markers', symbol='o'))\n",
    "# make the figure larger and have a square aspect ratio\n",
    "fig.update_layout(\n",
    "    autosize=False,\n",
    "    width=800,\n",
    "    height=800,\n",
    "    margin=dict(l=50, r=50, b=100, t=100, pad=4),\n",
    "    paper_bgcolor=\"LightSteelBlue\",\n",
    ")\n",
    "# add the X_prime_hat as red dots\n",
    "# color the using Y_prime\n",
    "from plotly.subplots import make_subplots\n",
    "import plotly.graph_objects as go\n",
    "fig.add_trace(\n",
    "    go.Scatter(\n",
    "        x=X_prime_hat[:,0],\n",
    "        y=X_prime_hat[:,1],\n",
    "        mode=\"markers\",\n",
    "        marker=dict(\n",
    "            color=Y_prime[:,0],\n",
    "            size=12,\n",
    "            line=dict(\n",
    "                color='Red',\n",
    "                width=2\n",
    "            )\n",
    "        ),\n",
    "        name=\"X_prime_hat\"\n",
    "    )\n",
    ")\n",
    "# add leaveout_x to the plot\n",
    "leaveout_encoded = reg.estimator.encode(to_torch(leaveout_x).to(reg.device))[0].detach().cpu().numpy()\n",
    "fig.add_trace(\n",
    "    go.Scatter(\n",
    "        x=leaveout_encoded[:,0],\n",
    "        y=leaveout_encoded[:,1],\n",
    "        mode=\"markers\",\n",
    "        marker=dict(\n",
    "            color='black',\n",
    "            size=12,\n",
    "            line=dict(\n",
    "                color='black',\n",
    "\n",
    "                width=2, \n",
    "            )\n",
    "        )\n",
    "    )\n",
    ")\n",
    "\n",
    "\n",
    "fig.show()\n",
    "# save as latent space.html\n",
    "fig.write_html(\"latent_space.html\")"
   ]
  },
  {
   "cell_type": "code",
   "execution_count": 79,
   "metadata": {},
   "outputs": [
    {
     "data": {
      "text/plain": [
       "2505144"
      ]
     },
     "execution_count": 79,
     "metadata": {},
     "output_type": "execute_result"
    }
   ],
   "source": [
    "reg.estimator\n",
    "# get the number of learnable parameters\n",
    "sum(p.numel() for p in reg.estimator.parameters() if p.requires_grad)"
   ]
  },
  {
   "cell_type": "code",
   "execution_count": 80,
   "metadata": {},
   "outputs": [
    {
     "ename": "ValueError",
     "evalue": "Found input variables with inconsistent numbers of samples: [15, 45]",
     "output_type": "error",
     "traceback": [
      "\u001b[1;31m---------------------------------------------------------------------------\u001b[0m",
      "\u001b[1;31mValueError\u001b[0m                                Traceback (most recent call last)",
      "Cell \u001b[1;32mIn[80], line 3\u001b[0m\n\u001b[0;32m      1\u001b[0m \u001b[39mfrom\u001b[39;00m \u001b[39msklearn\u001b[39;00m\u001b[39m.\u001b[39;00m\u001b[39mmetrics\u001b[39;00m \u001b[39mimport\u001b[39;00m mean_squared_error, mean_absolute_error, r2_score\n\u001b[1;32m----> 3\u001b[0m r2 \u001b[39m=\u001b[39m r2_score(X_prime, X_prime_hat)\n\u001b[0;32m      4\u001b[0m mse \u001b[39m=\u001b[39m mean_squared_error(X_prime, X_prime_hat)\n\u001b[0;32m      5\u001b[0m mae \u001b[39m=\u001b[39m mean_absolute_error(X_prime, X_prime_hat)\n",
      "File \u001b[1;32mc:\\Users\\efons\\anaconda3\\envs\\venv\\lib\\site-packages\\sklearn\\metrics\\_regression.py:911\u001b[0m, in \u001b[0;36mr2_score\u001b[1;34m(y_true, y_pred, sample_weight, multioutput, force_finite)\u001b[0m\n\u001b[0;32m    784\u001b[0m \u001b[39mdef\u001b[39;00m \u001b[39mr2_score\u001b[39m(\n\u001b[0;32m    785\u001b[0m     y_true,\n\u001b[0;32m    786\u001b[0m     y_pred,\n\u001b[1;32m   (...)\u001b[0m\n\u001b[0;32m    790\u001b[0m     force_finite\u001b[39m=\u001b[39m\u001b[39mTrue\u001b[39;00m,\n\u001b[0;32m    791\u001b[0m ):\n\u001b[0;32m    792\u001b[0m     \u001b[39m\"\"\":math:`R^2` (coefficient of determination) regression score function.\u001b[39;00m\n\u001b[0;32m    793\u001b[0m \n\u001b[0;32m    794\u001b[0m \u001b[39m    Best possible score is 1.0 and it can be negative (because the\u001b[39;00m\n\u001b[1;32m   (...)\u001b[0m\n\u001b[0;32m    909\u001b[0m \u001b[39m    -inf\u001b[39;00m\n\u001b[0;32m    910\u001b[0m \u001b[39m    \"\"\"\u001b[39;00m\n\u001b[1;32m--> 911\u001b[0m     y_type, y_true, y_pred, multioutput \u001b[39m=\u001b[39m _check_reg_targets(\n\u001b[0;32m    912\u001b[0m         y_true, y_pred, multioutput\n\u001b[0;32m    913\u001b[0m     )\n\u001b[0;32m    914\u001b[0m     check_consistent_length(y_true, y_pred, sample_weight)\n\u001b[0;32m    916\u001b[0m     \u001b[39mif\u001b[39;00m _num_samples(y_pred) \u001b[39m<\u001b[39m \u001b[39m2\u001b[39m:\n",
      "File \u001b[1;32mc:\\Users\\efons\\anaconda3\\envs\\venv\\lib\\site-packages\\sklearn\\metrics\\_regression.py:100\u001b[0m, in \u001b[0;36m_check_reg_targets\u001b[1;34m(y_true, y_pred, multioutput, dtype)\u001b[0m\n\u001b[0;32m     66\u001b[0m \u001b[39mdef\u001b[39;00m \u001b[39m_check_reg_targets\u001b[39m(y_true, y_pred, multioutput, dtype\u001b[39m=\u001b[39m\u001b[39m\"\u001b[39m\u001b[39mnumeric\u001b[39m\u001b[39m\"\u001b[39m):\n\u001b[0;32m     67\u001b[0m     \u001b[39m\"\"\"Check that y_true and y_pred belong to the same regression task.\u001b[39;00m\n\u001b[0;32m     68\u001b[0m \n\u001b[0;32m     69\u001b[0m \u001b[39m    Parameters\u001b[39;00m\n\u001b[1;32m   (...)\u001b[0m\n\u001b[0;32m     98\u001b[0m \u001b[39m        correct keyword.\u001b[39;00m\n\u001b[0;32m     99\u001b[0m \u001b[39m    \"\"\"\u001b[39;00m\n\u001b[1;32m--> 100\u001b[0m     check_consistent_length(y_true, y_pred)\n\u001b[0;32m    101\u001b[0m     y_true \u001b[39m=\u001b[39m check_array(y_true, ensure_2d\u001b[39m=\u001b[39m\u001b[39mFalse\u001b[39;00m, dtype\u001b[39m=\u001b[39mdtype)\n\u001b[0;32m    102\u001b[0m     y_pred \u001b[39m=\u001b[39m check_array(y_pred, ensure_2d\u001b[39m=\u001b[39m\u001b[39mFalse\u001b[39;00m, dtype\u001b[39m=\u001b[39mdtype)\n",
      "File \u001b[1;32mc:\\Users\\efons\\anaconda3\\envs\\venv\\lib\\site-packages\\sklearn\\utils\\validation.py:397\u001b[0m, in \u001b[0;36mcheck_consistent_length\u001b[1;34m(*arrays)\u001b[0m\n\u001b[0;32m    395\u001b[0m uniques \u001b[39m=\u001b[39m np\u001b[39m.\u001b[39munique(lengths)\n\u001b[0;32m    396\u001b[0m \u001b[39mif\u001b[39;00m \u001b[39mlen\u001b[39m(uniques) \u001b[39m>\u001b[39m \u001b[39m1\u001b[39m:\n\u001b[1;32m--> 397\u001b[0m     \u001b[39mraise\u001b[39;00m \u001b[39mValueError\u001b[39;00m(\n\u001b[0;32m    398\u001b[0m         \u001b[39m\"\u001b[39m\u001b[39mFound input variables with inconsistent numbers of samples: \u001b[39m\u001b[39m%r\u001b[39;00m\u001b[39m\"\u001b[39m\n\u001b[0;32m    399\u001b[0m         \u001b[39m%\u001b[39m [\u001b[39mint\u001b[39m(l) \u001b[39mfor\u001b[39;00m l \u001b[39min\u001b[39;00m lengths]\n\u001b[0;32m    400\u001b[0m     )\n",
      "\u001b[1;31mValueError\u001b[0m: Found input variables with inconsistent numbers of samples: [15, 45]"
     ]
    }
   ],
   "source": [
    "from sklearn.metrics import mean_squared_error, mean_absolute_error, r2_score\n",
    "\n",
    "r2 = r2_score(X_prime, X_prime_hat)\n",
    "mse = mean_squared_error(X_prime, X_prime_hat)\n",
    "mae = mean_absolute_error(X_prime, X_prime_hat)\n",
    "print(f'r2: {r2}, mse: {mse}, mae: {mae}')\n"
   ]
  },
  {
   "cell_type": "code",
   "execution_count": null,
   "metadata": {},
   "outputs": [],
   "source": [
    "# plot the predictions of X_prime\n",
    "pred  = reg.predict(X_prime.to(reg.device))\n",
    "pred = pred.detach().cpu().numpy()"
   ]
  },
  {
   "cell_type": "code",
   "execution_count": 81,
   "metadata": {},
   "outputs": [
    {
     "data": {
      "text/plain": [
       "[<matplotlib.lines.Line2D at 0x1f0d7905a20>]"
      ]
     },
     "execution_count": 81,
     "metadata": {},
     "output_type": "execute_result"
    },
    {
     "data": {
      "image/png": "[encoded data removed]",
      "text/plain": [
       "<Figure size 640x480 with 1 Axes>"
      ]
     },
     "metadata": {},
     "output_type": "display_data"
    }
   ],
   "source": [
    "from sklearn.linear_model import LinearRegression\n",
    "lin_reg = LinearRegression()\n",
    "lin_reg.fit(X_encoded, Y_test[:,1])\n",
    "lin_reg.score(X_encoded, Y_test[:,1])\n",
    "# plot the parity\n",
    "plt.scatter(Y_test[:,1], lin_reg.predict(X_encoded))\n",
    "# parity line\n",
    "plt.plot([Y_test[:,1].min(), Y_test[:,1].max()], [Y[:,1].min(), Y_test[:,1].max()], 'k--', lw=4)\n"
   ]
  },
  {
   "cell_type": "code",
   "execution_count": 82,
   "metadata": {},
   "outputs": [
    {
     "ename": "ValueError",
     "evalue": "x and y must be the same size",
     "output_type": "error",
     "traceback": [
      "\u001b[1;31m---------------------------------------------------------------------------\u001b[0m",
      "\u001b[1;31mValueError\u001b[0m                                Traceback (most recent call last)",
      "Cell \u001b[1;32mIn[82], line 3\u001b[0m\n\u001b[0;32m      1\u001b[0m \u001b[39m# plot the parity of the predictions\u001b[39;00m\n\u001b[0;32m      2\u001b[0m pred \u001b[39m=\u001b[39m reg\u001b[39m.\u001b[39mpredict(X\u001b[39m.\u001b[39mto(reg\u001b[39m.\u001b[39mdevice))\u001b[39m.\u001b[39mdetach()\u001b[39m.\u001b[39mcpu()\u001b[39m.\u001b[39mnumpy()\n\u001b[1;32m----> 3\u001b[0m plt\u001b[39m.\u001b[39;49mscatter(X_og[:,\u001b[39m0\u001b[39;49m], pred[:,\u001b[39m0\u001b[39;49m])\n",
      "File \u001b[1;32mc:\\users\\efons\\anaconda3\\envs\\venv\\lib\\site-packages\\matplotlib-3.6.2-py3.10-win-amd64.egg\\matplotlib\\pyplot.py:2790\u001b[0m, in \u001b[0;36mscatter\u001b[1;34m(x, y, s, c, marker, cmap, norm, vmin, vmax, alpha, linewidths, edgecolors, plotnonfinite, data, **kwargs)\u001b[0m\n\u001b[0;32m   2785\u001b[0m \u001b[39m@_copy_docstring_and_deprecators\u001b[39m(Axes\u001b[39m.\u001b[39mscatter)\n\u001b[0;32m   2786\u001b[0m \u001b[39mdef\u001b[39;00m \u001b[39mscatter\u001b[39m(\n\u001b[0;32m   2787\u001b[0m         x, y, s\u001b[39m=\u001b[39m\u001b[39mNone\u001b[39;00m, c\u001b[39m=\u001b[39m\u001b[39mNone\u001b[39;00m, marker\u001b[39m=\u001b[39m\u001b[39mNone\u001b[39;00m, cmap\u001b[39m=\u001b[39m\u001b[39mNone\u001b[39;00m, norm\u001b[39m=\u001b[39m\u001b[39mNone\u001b[39;00m,\n\u001b[0;32m   2788\u001b[0m         vmin\u001b[39m=\u001b[39m\u001b[39mNone\u001b[39;00m, vmax\u001b[39m=\u001b[39m\u001b[39mNone\u001b[39;00m, alpha\u001b[39m=\u001b[39m\u001b[39mNone\u001b[39;00m, linewidths\u001b[39m=\u001b[39m\u001b[39mNone\u001b[39;00m, \u001b[39m*\u001b[39m,\n\u001b[0;32m   2789\u001b[0m         edgecolors\u001b[39m=\u001b[39m\u001b[39mNone\u001b[39;00m, plotnonfinite\u001b[39m=\u001b[39m\u001b[39mFalse\u001b[39;00m, data\u001b[39m=\u001b[39m\u001b[39mNone\u001b[39;00m, \u001b[39m*\u001b[39m\u001b[39m*\u001b[39mkwargs):\n\u001b[1;32m-> 2790\u001b[0m     __ret \u001b[39m=\u001b[39m gca()\u001b[39m.\u001b[39mscatter(\n\u001b[0;32m   2791\u001b[0m         x, y, s\u001b[39m=\u001b[39ms, c\u001b[39m=\u001b[39mc, marker\u001b[39m=\u001b[39mmarker, cmap\u001b[39m=\u001b[39mcmap, norm\u001b[39m=\u001b[39mnorm,\n\u001b[0;32m   2792\u001b[0m         vmin\u001b[39m=\u001b[39mvmin, vmax\u001b[39m=\u001b[39mvmax, alpha\u001b[39m=\u001b[39malpha, linewidths\u001b[39m=\u001b[39mlinewidths,\n\u001b[0;32m   2793\u001b[0m         edgecolors\u001b[39m=\u001b[39medgecolors, plotnonfinite\u001b[39m=\u001b[39mplotnonfinite,\n\u001b[0;32m   2794\u001b[0m         \u001b[39m*\u001b[39m\u001b[39m*\u001b[39m({\u001b[39m\"\u001b[39m\u001b[39mdata\u001b[39m\u001b[39m\"\u001b[39m: data} \u001b[39mif\u001b[39;00m data \u001b[39mis\u001b[39;00m \u001b[39mnot\u001b[39;00m \u001b[39mNone\u001b[39;00m \u001b[39melse\u001b[39;00m {}), \u001b[39m*\u001b[39m\u001b[39m*\u001b[39mkwargs)\n\u001b[0;32m   2795\u001b[0m     sci(__ret)\n\u001b[0;32m   2796\u001b[0m     \u001b[39mreturn\u001b[39;00m __ret\n",
      "File \u001b[1;32mc:\\users\\efons\\anaconda3\\envs\\venv\\lib\\site-packages\\matplotlib-3.6.2-py3.10-win-amd64.egg\\matplotlib\\__init__.py:1423\u001b[0m, in \u001b[0;36m_preprocess_data.<locals>.inner\u001b[1;34m(ax, data, *args, **kwargs)\u001b[0m\n\u001b[0;32m   1420\u001b[0m \u001b[39m@functools\u001b[39m\u001b[39m.\u001b[39mwraps(func)\n\u001b[0;32m   1421\u001b[0m \u001b[39mdef\u001b[39;00m \u001b[39minner\u001b[39m(ax, \u001b[39m*\u001b[39margs, data\u001b[39m=\u001b[39m\u001b[39mNone\u001b[39;00m, \u001b[39m*\u001b[39m\u001b[39m*\u001b[39mkwargs):\n\u001b[0;32m   1422\u001b[0m     \u001b[39mif\u001b[39;00m data \u001b[39mis\u001b[39;00m \u001b[39mNone\u001b[39;00m:\n\u001b[1;32m-> 1423\u001b[0m         \u001b[39mreturn\u001b[39;00m func(ax, \u001b[39m*\u001b[39m\u001b[39mmap\u001b[39m(sanitize_sequence, args), \u001b[39m*\u001b[39m\u001b[39m*\u001b[39mkwargs)\n\u001b[0;32m   1425\u001b[0m     bound \u001b[39m=\u001b[39m new_sig\u001b[39m.\u001b[39mbind(ax, \u001b[39m*\u001b[39margs, \u001b[39m*\u001b[39m\u001b[39m*\u001b[39mkwargs)\n\u001b[0;32m   1426\u001b[0m     auto_label \u001b[39m=\u001b[39m (bound\u001b[39m.\u001b[39marguments\u001b[39m.\u001b[39mget(label_namer)\n\u001b[0;32m   1427\u001b[0m                   \u001b[39mor\u001b[39;00m bound\u001b[39m.\u001b[39mkwargs\u001b[39m.\u001b[39mget(label_namer))\n",
      "File \u001b[1;32mc:\\users\\efons\\anaconda3\\envs\\venv\\lib\\site-packages\\matplotlib-3.6.2-py3.10-win-amd64.egg\\matplotlib\\axes\\_axes.py:4520\u001b[0m, in \u001b[0;36mAxes.scatter\u001b[1;34m(self, x, y, s, c, marker, cmap, norm, vmin, vmax, alpha, linewidths, edgecolors, plotnonfinite, **kwargs)\u001b[0m\n\u001b[0;32m   4518\u001b[0m y \u001b[39m=\u001b[39m np\u001b[39m.\u001b[39mma\u001b[39m.\u001b[39mravel(y)\n\u001b[0;32m   4519\u001b[0m \u001b[39mif\u001b[39;00m x\u001b[39m.\u001b[39msize \u001b[39m!=\u001b[39m y\u001b[39m.\u001b[39msize:\n\u001b[1;32m-> 4520\u001b[0m     \u001b[39mraise\u001b[39;00m \u001b[39mValueError\u001b[39;00m(\u001b[39m\"\u001b[39m\u001b[39mx and y must be the same size\u001b[39m\u001b[39m\"\u001b[39m)\n\u001b[0;32m   4522\u001b[0m \u001b[39mif\u001b[39;00m s \u001b[39mis\u001b[39;00m \u001b[39mNone\u001b[39;00m:\n\u001b[0;32m   4523\u001b[0m     s \u001b[39m=\u001b[39m (\u001b[39m20\u001b[39m \u001b[39mif\u001b[39;00m mpl\u001b[39m.\u001b[39mrcParams[\u001b[39m'\u001b[39m\u001b[39m_internal.classic_mode\u001b[39m\u001b[39m'\u001b[39m] \u001b[39melse\u001b[39;00m\n\u001b[0;32m   4524\u001b[0m          mpl\u001b[39m.\u001b[39mrcParams[\u001b[39m'\u001b[39m\u001b[39mlines.markersize\u001b[39m\u001b[39m'\u001b[39m] \u001b[39m*\u001b[39m\u001b[39m*\u001b[39m \u001b[39m2.0\u001b[39m)\n",
      "\u001b[1;31mValueError\u001b[0m: x and y must be the same size"
     ]
    },
    {
     "data": {
      "image/png": "[encoded data removed]",
      "text/plain": [
       "<Figure size 640x480 with 1 Axes>"
      ]
     },
     "metadata": {},
     "output_type": "display_data"
    }
   ],
   "source": [
    "# plot the parity of the predictions\n",
    "pred = reg.predict(X.to(reg.device)).detach().cpu().numpy()\n",
    "plt.scatter(X_og[:,0], pred[:,0])"
   ]
  },
  {
   "cell_type": "code",
   "execution_count": null,
   "metadata": {},
   "outputs": [],
   "source": []
  }
 ],
 "metadata": {
  "kernelspec": {
   "display_name": "venv",
   "language": "python",
   "name": "python3"
  },
  "language_info": {
   "codemirror_mode": {
    "name": "ipython",
    "version": 3
   },
   "file_extension": ".py",
   "mimetype": "text/x-python",
   "name": "python",
   "nbconvert_exporter": "python",
   "pygments_lexer": "ipython3",
   "version": "3.10.10"
  },
  "orig_nbformat": 4
 },
 "nbformat": 4,
 "nbformat_minor": 2
}
