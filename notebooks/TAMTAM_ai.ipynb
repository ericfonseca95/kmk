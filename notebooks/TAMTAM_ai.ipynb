{
 "cells": [
  {
   "cell_type": "code",
   "execution_count": 1,
   "metadata": {},
   "outputs": [],
   "source": [
    "import kmodels as kmk\n",
    "import pandas as pd \n",
    "import numpy as np\n",
    "import matplotlib.pyplot as plt\n",
    "import torch"
   ]
  },
  {
   "cell_type": "code",
   "execution_count": 2,
   "metadata": {},
   "outputs": [
    {
     "data": {
      "text/html": [
       "<div>\n",
       "<style scoped>\n",
       "    .dataframe tbody tr th:only-of-type {\n",
       "        vertical-align: middle;\n",
       "    }\n",
       "\n",
       "    .dataframe tbody tr th {\n",
       "        vertical-align: top;\n",
       "    }\n",
       "\n",
       "    .dataframe thead th {\n",
       "        text-align: right;\n",
       "    }\n",
       "</style>\n",
       "<table border=\"1\" class=\"dataframe\">\n",
       "  <thead>\n",
       "    <tr style=\"text-align: right;\">\n",
       "      <th></th>\n",
       "      <th>Fx</th>\n",
       "      <th>Fy</th>\n",
       "      <th>Fz</th>\n",
       "      <th>FPL</th>\n",
       "      <th>APL</th>\n",
       "      <th>EPL</th>\n",
       "      <th>EPB</th>\n",
       "      <th>DIO</th>\n",
       "      <th>ADP</th>\n",
       "      <th>OPP</th>\n",
       "      <th>FPB</th>\n",
       "      <th>Subject</th>\n",
       "      <th>Event</th>\n",
       "      <th>Frame</th>\n",
       "      <th>Pain_Cohort</th>\n",
       "      <th>Eaton_Litter</th>\n",
       "    </tr>\n",
       "  </thead>\n",
       "  <tbody>\n",
       "    <tr>\n",
       "      <th>0</th>\n",
       "      <td>0.346711</td>\n",
       "      <td>0.283910</td>\n",
       "      <td>-2.086856</td>\n",
       "      <td>0.302559</td>\n",
       "      <td>0.115935</td>\n",
       "      <td>0.087088</td>\n",
       "      <td>0.048929</td>\n",
       "      <td>0.001397</td>\n",
       "      <td>0.053171</td>\n",
       "      <td>0.027892</td>\n",
       "      <td>0.321829</td>\n",
       "      <td>AO31</td>\n",
       "      <td>1</td>\n",
       "      <td>0</td>\n",
       "      <td>1</td>\n",
       "      <td>3</td>\n",
       "    </tr>\n",
       "    <tr>\n",
       "      <th>1</th>\n",
       "      <td>0.334350</td>\n",
       "      <td>0.272250</td>\n",
       "      <td>-2.087275</td>\n",
       "      <td>0.302559</td>\n",
       "      <td>0.115935</td>\n",
       "      <td>0.087088</td>\n",
       "      <td>0.048992</td>\n",
       "      <td>0.001556</td>\n",
       "      <td>0.053171</td>\n",
       "      <td>0.028178</td>\n",
       "      <td>0.322389</td>\n",
       "      <td>AO31</td>\n",
       "      <td>1</td>\n",
       "      <td>1</td>\n",
       "      <td>1</td>\n",
       "      <td>3</td>\n",
       "    </tr>\n",
       "    <tr>\n",
       "      <th>2</th>\n",
       "      <td>0.367885</td>\n",
       "      <td>0.285303</td>\n",
       "      <td>-2.111033</td>\n",
       "      <td>0.302559</td>\n",
       "      <td>0.115935</td>\n",
       "      <td>0.087088</td>\n",
       "      <td>0.049063</td>\n",
       "      <td>0.001717</td>\n",
       "      <td>0.053171</td>\n",
       "      <td>0.028445</td>\n",
       "      <td>0.322978</td>\n",
       "      <td>AO31</td>\n",
       "      <td>1</td>\n",
       "      <td>2</td>\n",
       "      <td>1</td>\n",
       "      <td>3</td>\n",
       "    </tr>\n",
       "    <tr>\n",
       "      <th>3</th>\n",
       "      <td>0.371264</td>\n",
       "      <td>0.277671</td>\n",
       "      <td>-2.151635</td>\n",
       "      <td>0.302559</td>\n",
       "      <td>0.115935</td>\n",
       "      <td>0.087088</td>\n",
       "      <td>0.049127</td>\n",
       "      <td>0.001879</td>\n",
       "      <td>0.053171</td>\n",
       "      <td>0.028732</td>\n",
       "      <td>0.323635</td>\n",
       "      <td>AO31</td>\n",
       "      <td>1</td>\n",
       "      <td>3</td>\n",
       "      <td>1</td>\n",
       "      <td>3</td>\n",
       "    </tr>\n",
       "    <tr>\n",
       "      <th>4</th>\n",
       "      <td>0.370315</td>\n",
       "      <td>0.278336</td>\n",
       "      <td>-2.163308</td>\n",
       "      <td>0.302559</td>\n",
       "      <td>0.115935</td>\n",
       "      <td>0.087088</td>\n",
       "      <td>0.049192</td>\n",
       "      <td>0.002044</td>\n",
       "      <td>0.053171</td>\n",
       "      <td>0.029015</td>\n",
       "      <td>0.324294</td>\n",
       "      <td>AO31</td>\n",
       "      <td>1</td>\n",
       "      <td>4</td>\n",
       "      <td>1</td>\n",
       "      <td>3</td>\n",
       "    </tr>\n",
       "    <tr>\n",
       "      <th>...</th>\n",
       "      <td>...</td>\n",
       "      <td>...</td>\n",
       "      <td>...</td>\n",
       "      <td>...</td>\n",
       "      <td>...</td>\n",
       "      <td>...</td>\n",
       "      <td>...</td>\n",
       "      <td>...</td>\n",
       "      <td>...</td>\n",
       "      <td>...</td>\n",
       "      <td>...</td>\n",
       "      <td>...</td>\n",
       "      <td>...</td>\n",
       "      <td>...</td>\n",
       "      <td>...</td>\n",
       "      <td>...</td>\n",
       "    </tr>\n",
       "    <tr>\n",
       "      <th>995</th>\n",
       "      <td>-0.257240</td>\n",
       "      <td>-0.064174</td>\n",
       "      <td>-0.951621</td>\n",
       "      <td>0.025482</td>\n",
       "      <td>0.194398</td>\n",
       "      <td>0.000022</td>\n",
       "      <td>0.221204</td>\n",
       "      <td>0.001004</td>\n",
       "      <td>0.001260</td>\n",
       "      <td>0.000000</td>\n",
       "      <td>0.000258</td>\n",
       "      <td>KE58</td>\n",
       "      <td>3</td>\n",
       "      <td>995</td>\n",
       "      <td>0</td>\n",
       "      <td>1</td>\n",
       "    </tr>\n",
       "    <tr>\n",
       "      <th>996</th>\n",
       "      <td>-0.248619</td>\n",
       "      <td>-0.076683</td>\n",
       "      <td>-0.936236</td>\n",
       "      <td>0.024978</td>\n",
       "      <td>0.192990</td>\n",
       "      <td>0.000023</td>\n",
       "      <td>0.221275</td>\n",
       "      <td>0.000989</td>\n",
       "      <td>0.001250</td>\n",
       "      <td>0.000000</td>\n",
       "      <td>0.000254</td>\n",
       "      <td>KE58</td>\n",
       "      <td>3</td>\n",
       "      <td>996</td>\n",
       "      <td>0</td>\n",
       "      <td>1</td>\n",
       "    </tr>\n",
       "    <tr>\n",
       "      <th>997</th>\n",
       "      <td>-0.258259</td>\n",
       "      <td>-0.062577</td>\n",
       "      <td>-0.935968</td>\n",
       "      <td>0.024459</td>\n",
       "      <td>0.191562</td>\n",
       "      <td>0.000023</td>\n",
       "      <td>0.221357</td>\n",
       "      <td>0.000973</td>\n",
       "      <td>0.001241</td>\n",
       "      <td>0.000000</td>\n",
       "      <td>0.000249</td>\n",
       "      <td>KE58</td>\n",
       "      <td>3</td>\n",
       "      <td>997</td>\n",
       "      <td>0</td>\n",
       "      <td>1</td>\n",
       "    </tr>\n",
       "    <tr>\n",
       "      <th>998</th>\n",
       "      <td>-0.259474</td>\n",
       "      <td>-0.098302</td>\n",
       "      <td>-0.986170</td>\n",
       "      <td>0.023970</td>\n",
       "      <td>0.190115</td>\n",
       "      <td>0.000023</td>\n",
       "      <td>0.221450</td>\n",
       "      <td>0.000959</td>\n",
       "      <td>0.001238</td>\n",
       "      <td>0.000000</td>\n",
       "      <td>0.000244</td>\n",
       "      <td>KE58</td>\n",
       "      <td>3</td>\n",
       "      <td>998</td>\n",
       "      <td>0</td>\n",
       "      <td>1</td>\n",
       "    </tr>\n",
       "    <tr>\n",
       "      <th>999</th>\n",
       "      <td>-0.252572</td>\n",
       "      <td>-0.082341</td>\n",
       "      <td>-0.963742</td>\n",
       "      <td>0.023494</td>\n",
       "      <td>0.188653</td>\n",
       "      <td>0.000023</td>\n",
       "      <td>0.221546</td>\n",
       "      <td>0.000958</td>\n",
       "      <td>0.001238</td>\n",
       "      <td>0.000007</td>\n",
       "      <td>0.000238</td>\n",
       "      <td>KE58</td>\n",
       "      <td>3</td>\n",
       "      <td>999</td>\n",
       "      <td>0</td>\n",
       "      <td>1</td>\n",
       "    </tr>\n",
       "  </tbody>\n",
       "</table>\n",
       "<p>30000 rows × 16 columns</p>\n",
       "</div>"
      ],
      "text/plain": [
       "           Fx        Fy        Fz       FPL       APL       EPL       EPB  \\\n",
       "0    0.346711  0.283910 -2.086856  0.302559  0.115935  0.087088  0.048929   \n",
       "1    0.334350  0.272250 -2.087275  0.302559  0.115935  0.087088  0.048992   \n",
       "2    0.367885  0.285303 -2.111033  0.302559  0.115935  0.087088  0.049063   \n",
       "3    0.371264  0.277671 -2.151635  0.302559  0.115935  0.087088  0.049127   \n",
       "4    0.370315  0.278336 -2.163308  0.302559  0.115935  0.087088  0.049192   \n",
       "..        ...       ...       ...       ...       ...       ...       ...   \n",
       "995 -0.257240 -0.064174 -0.951621  0.025482  0.194398  0.000022  0.221204   \n",
       "996 -0.248619 -0.076683 -0.936236  0.024978  0.192990  0.000023  0.221275   \n",
       "997 -0.258259 -0.062577 -0.935968  0.024459  0.191562  0.000023  0.221357   \n",
       "998 -0.259474 -0.098302 -0.986170  0.023970  0.190115  0.000023  0.221450   \n",
       "999 -0.252572 -0.082341 -0.963742  0.023494  0.188653  0.000023  0.221546   \n",
       "\n",
       "          DIO       ADP       OPP       FPB Subject Event  Frame  Pain_Cohort  \\\n",
       "0    0.001397  0.053171  0.027892  0.321829    AO31     1      0            1   \n",
       "1    0.001556  0.053171  0.028178  0.322389    AO31     1      1            1   \n",
       "2    0.001717  0.053171  0.028445  0.322978    AO31     1      2            1   \n",
       "3    0.001879  0.053171  0.028732  0.323635    AO31     1      3            1   \n",
       "4    0.002044  0.053171  0.029015  0.324294    AO31     1      4            1   \n",
       "..        ...       ...       ...       ...     ...   ...    ...          ...   \n",
       "995  0.001004  0.001260  0.000000  0.000258    KE58     3    995            0   \n",
       "996  0.000989  0.001250  0.000000  0.000254    KE58     3    996            0   \n",
       "997  0.000973  0.001241  0.000000  0.000249    KE58     3    997            0   \n",
       "998  0.000959  0.001238  0.000000  0.000244    KE58     3    998            0   \n",
       "999  0.000958  0.001238  0.000007  0.000238    KE58     3    999            0   \n",
       "\n",
       "     Eaton_Litter  \n",
       "0               3  \n",
       "1               3  \n",
       "2               3  \n",
       "3               3  \n",
       "4               3  \n",
       "..            ...  \n",
       "995             1  \n",
       "996             1  \n",
       "997             1  \n",
       "998             1  \n",
       "999             1  \n",
       "\n",
       "[30000 rows x 16 columns]"
      ]
     },
     "execution_count": 2,
     "metadata": {},
     "output_type": "execute_result"
    }
   ],
   "source": [
    "df = pd.read_pickle('../data/FormattedData_wPainAndOA.pkl')\n",
    "df"
   ]
  },
  {
   "cell_type": "code",
   "execution_count": 10,
   "metadata": {},
   "outputs": [
    {
     "data": {
      "text/plain": [
       "((30000, 12), (30000, 1))"
      ]
     },
     "execution_count": 10,
     "metadata": {},
     "output_type": "execute_result"
    }
   ],
   "source": [
    "# get all numerical columns\n",
    "y_cols = ['Pain_Cohort']\n",
    "Y = df[y_cols].to_numpy()\n",
    "X = df.to_numpy()[:,0:11]\n",
    "time = df['Frame'].to_numpy()\n",
    "X = np.hstack((X, time.reshape(-1,1)))\n",
    "X.shape, Y.shape"
   ]
  },
  {
   "cell_type": "code",
   "execution_count": 46,
   "metadata": {},
   "outputs": [
    {
     "data": {
      "text/plain": [
       "((10, 33000), (10, 2))"
      ]
     },
     "execution_count": 46,
     "metadata": {},
     "output_type": "execute_result"
    }
   ],
   "source": [
    "def get_data_by_subject(df):\n",
    "    X = []\n",
    "    Y = []\n",
    "    y_cols = ['Pain_Cohort','Eaton_Litter']\n",
    "    subjects = df['Subject'].unique()\n",
    "    for i in subjects:\n",
    "        X.append(df[df['Subject'] == i].to_numpy()[:,0:11].reshape(1, -1))\n",
    "        pain_mean = df[df['Subject'] == i]['Pain_Cohort'].mean()\n",
    "        Eaton_mean = df[df['Subject'] == i]['Eaton_Litter'].mean()\n",
    "        Y.append(np.array([pain_mean, Eaton_mean]).reshape(1, -1))\n",
    "    return np.vstack(X), np.vstack(Y)\n",
    "X, Y = get_data_by_subject(df)\n",
    "X.shape, Y.shape"
   ]
  },
  {
   "cell_type": "code",
   "execution_count": 62,
   "metadata": {},
   "outputs": [
    {
     "data": {
      "text/plain": [
       "[<matplotlib.lines.Line2D at 0x1a760739330>]"
      ]
     },
     "execution_count": 62,
     "metadata": {},
     "output_type": "execute_result"
    },
    {
     "data": {
      "image/png": "[encoded data removed]",
      "text/plain": [
       "<Figure size 640x480 with 1 Axes>"
      ]
     },
     "metadata": {},
     "output_type": "display_data"
    }
   ],
   "source": [
    "plt.plot(X[0])"
   ]
  },
  {
   "cell_type": "code",
   "execution_count": 65,
   "metadata": {},
   "outputs": [
    {
     "data": {
      "text/plain": [
       "(array([2., 0., 0., 2., 0., 0., 4., 0., 0., 2.]),\n",
       " array([1.        , 1.29999995, 1.60000002, 1.89999998, 2.20000005,\n",
       "        2.5       , 2.79999995, 3.0999999 , 3.4000001 , 3.70000005,\n",
       "        4.        ]),\n",
       " <BarContainer object of 10 artists>)"
      ]
     },
     "execution_count": 65,
     "metadata": {},
     "output_type": "execute_result"
    },
    {
     "data": {
      "image/png": "[encoded data removed]",
      "text/plain": [
       "<Figure size 640x480 with 1 Axes>"
      ]
     },
     "metadata": {},
     "output_type": "display_data"
    }
   ],
   "source": [
    "plt.hist(Y[:,0])\n",
    "plt.hist(Y[:,1])"
   ]
  },
  {
   "cell_type": "code",
   "execution_count": 49,
   "metadata": {},
   "outputs": [],
   "source": [
    "config = {\n",
    "    'estimator_type': 'VAE',\n",
    "    'input_dim': X.shape[1],\n",
    "    'is_VAE': True,\n",
    "    'batch_size':1000, \n",
    "    'epochs':1001, \n",
    "    'verbose':10,\n",
    "    'latent_dim': 2,\n",
    "    'lr_init':5e-4,\n",
    "    'n_layers':10,\n",
    "}\n",
    "reg = kmk.Trainer(**config)"
   ]
  },
  {
   "cell_type": "code",
   "execution_count": 51,
   "metadata": {},
   "outputs": [
    {
     "name": "stdout",
     "output_type": "stream",
     "text": [
      "====> Epoch: 0 Average loss: 36445216.000000000 Time: 0.30\n",
      "Loss components: {}\n",
      "====> Epoch: 10 Average loss: 36409704.000000000 Time: 0.26\n",
      "Loss components: {}\n",
      "====> Epoch: 20 Average loss: 36331760.000000000 Time: 0.24\n",
      "Loss components: {}\n",
      "====> Epoch: 30 Average loss: 35135592.000000000 Time: 0.25\n",
      "Loss components: {}\n",
      "====> Epoch: 40 Average loss: 34086488.000000000 Time: 0.24\n",
      "Loss components: {}\n",
      "====> Epoch: 50 Average loss: 34568896.000000000 Time: 0.25\n",
      "Loss components: {}\n",
      "====> Epoch: 60 Average loss: 28814338.000000000 Time: 0.28\n",
      "Loss components: {}\n",
      "====> Epoch: 70 Average loss: 22544082.000000000 Time: 0.26\n",
      "Loss components: {}\n",
      "====> Epoch: 80 Average loss: 16208507.000000000 Time: 0.24\n",
      "Loss components: {}\n",
      "====> Epoch: 90 Average loss: 8087736.000000000 Time: 0.27\n",
      "Loss components: {}\n",
      "====> Epoch: 100 Average loss: 4231598.500000000 Time: 0.30\n",
      "Loss components: {}\n",
      "====> Epoch: 110 Average loss: 3053599.750000000 Time: 0.25\n",
      "Loss components: {}\n",
      "====> Epoch: 120 Average loss: 2940654.000000000 Time: 0.26\n",
      "Loss components: {}\n",
      "====> Epoch: 130 Average loss: 2535839.250000000 Time: 0.24\n",
      "Loss components: {}\n",
      "====> Epoch: 140 Average loss: 2379347.000000000 Time: 0.29\n",
      "Loss components: {}\n",
      "====> Epoch: 150 Average loss: 2242654.500000000 Time: 0.24\n",
      "Loss components: {}\n",
      "====> Epoch: 160 Average loss: 2200780.250000000 Time: 0.24\n",
      "Loss components: {}\n",
      "====> Epoch: 170 Average loss: 2231707.500000000 Time: 0.26\n",
      "Loss components: {}\n",
      "====> Epoch: 180 Average loss: 2206119.500000000 Time: 0.30\n",
      "Loss components: {}\n",
      "====> Epoch: 190 Average loss: 2250465.250000000 Time: 0.27\n",
      "Loss components: {}\n",
      "====> Epoch: 200 Average loss: 2246738.500000000 Time: 0.26\n",
      "Loss components: {}\n",
      "====> Epoch: 210 Average loss: 2208349.250000000 Time: 0.25\n",
      "Loss components: {}\n",
      "====> Epoch: 220 Average loss: 2261439.000000000 Time: 0.25\n",
      "Loss components: {}\n",
      "====> Epoch: 230 Average loss: 2199251.000000000 Time: 0.23\n",
      "Loss components: {}\n",
      "====> Epoch: 240 Average loss: 2207155.750000000 Time: 0.24\n",
      "Loss components: {}\n",
      "====> Epoch: 250 Average loss: 2203212.000000000 Time: 0.26\n",
      "Loss components: {}\n",
      "====> Epoch: 260 Average loss: 2211658.000000000 Time: 0.23\n",
      "Loss components: {}\n",
      "====> Epoch: 270 Average loss: 2218383.750000000 Time: 0.25\n",
      "Loss components: {}\n",
      "====> Epoch: 280 Average loss: 2179489.500000000 Time: 0.25\n",
      "Loss components: {}\n",
      "====> Epoch: 290 Average loss: 2192792.250000000 Time: 0.24\n",
      "Loss components: {}\n",
      "====> Epoch: 300 Average loss: 2208562.000000000 Time: 0.26\n",
      "Loss components: {}\n",
      "====> Epoch: 310 Average loss: 2182999.500000000 Time: 0.26\n",
      "Loss components: {}\n",
      "====> Epoch: 320 Average loss: 2171430.250000000 Time: 0.25\n",
      "Loss components: {}\n",
      "====> Epoch: 330 Average loss: 2171290.000000000 Time: 0.26\n",
      "Loss components: {}\n",
      "====> Epoch: 340 Average loss: 2176846.500000000 Time: 0.24\n",
      "Loss components: {}\n",
      "====> Epoch: 350 Average loss: 2180762.250000000 Time: 0.24\n",
      "Loss components: {}\n",
      "====> Epoch: 360 Average loss: 2178396.250000000 Time: 0.24\n",
      "Loss components: {}\n",
      "====> Epoch: 370 Average loss: 2183583.000000000 Time: 0.25\n",
      "Loss components: {}\n",
      "====> Epoch: 380 Average loss: 2179171.250000000 Time: 0.26\n",
      "Loss components: {}\n",
      "====> Epoch: 390 Average loss: 2169965.750000000 Time: 0.24\n",
      "Loss components: {}\n",
      "====> Epoch: 400 Average loss: 2169747.250000000 Time: 0.23\n",
      "Loss components: {}\n",
      "====> Epoch: 410 Average loss: 2183034.750000000 Time: 0.24\n",
      "Loss components: {}\n",
      "====> Epoch: 420 Average loss: 2174016.250000000 Time: 0.24\n",
      "Loss components: {}\n",
      "====> Epoch: 430 Average loss: 2167298.500000000 Time: 0.27\n",
      "Loss components: {}\n",
      "====> Epoch: 440 Average loss: 2174189.000000000 Time: 0.24\n",
      "Loss components: {}\n"
     ]
    },
    {
     "ename": "KeyboardInterrupt",
     "evalue": "",
     "output_type": "error",
     "traceback": [
      "\u001b[1;31m---------------------------------------------------------------------------\u001b[0m",
      "\u001b[1;31mKeyboardInterrupt\u001b[0m                         Traceback (most recent call last)",
      "Cell \u001b[1;32mIn[51], line 10\u001b[0m\n\u001b[0;32m      8\u001b[0m X \u001b[39m=\u001b[39m to_torch(X)\n\u001b[0;32m      9\u001b[0m Y \u001b[39m=\u001b[39m to_torch(Y)\n\u001b[1;32m---> 10\u001b[0m reg\u001b[39m.\u001b[39;49mfit(X, X)\n",
      "File \u001b[1;32mc:\\Users\\efons\\anaconda3\\envs\\venv\\lib\\site-packages\\kmodels\\utils.py:539\u001b[0m, in \u001b[0;36mTrainer.fit\u001b[1;34m(self, x, y)\u001b[0m\n\u001b[0;32m    537\u001b[0m \u001b[39mself\u001b[39m\u001b[39m.\u001b[39mestimator \u001b[39m=\u001b[39m \u001b[39mself\u001b[39m\u001b[39m.\u001b[39mestimator\u001b[39m.\u001b[39mto(\u001b[39mself\u001b[39m\u001b[39m.\u001b[39mdevice)\n\u001b[0;32m    538\u001b[0m \u001b[39mself\u001b[39m\u001b[39m.\u001b[39mdataloader \u001b[39m=\u001b[39m DataLoader(TensorDataset(x, y), batch_size\u001b[39m=\u001b[39m\u001b[39mself\u001b[39m\u001b[39m.\u001b[39mbatch_size, shuffle\u001b[39m=\u001b[39m\u001b[39mTrue\u001b[39;00m)\n\u001b[1;32m--> 539\u001b[0m \u001b[39mself\u001b[39;49m\u001b[39m.\u001b[39;49mtrain()\n\u001b[0;32m    540\u001b[0m \u001b[39mreturn\u001b[39;00m \u001b[39mself\u001b[39m\n",
      "File \u001b[1;32mc:\\Users\\efons\\anaconda3\\envs\\venv\\lib\\site-packages\\kmodels\\utils.py:660\u001b[0m, in \u001b[0;36mTrainer.train\u001b[1;34m(self)\u001b[0m\n\u001b[0;32m    658\u001b[0m \u001b[39mself\u001b[39m\u001b[39m.\u001b[39moptimizer \u001b[39m=\u001b[39m torch\u001b[39m.\u001b[39moptim\u001b[39m.\u001b[39mAdam(\u001b[39mself\u001b[39m\u001b[39m.\u001b[39mestimator\u001b[39m.\u001b[39mparameters(), lr\u001b[39m=\u001b[39m\u001b[39mself\u001b[39m\u001b[39m.\u001b[39mlr_init)\n\u001b[0;32m    659\u001b[0m \u001b[39mfor\u001b[39;00m epoch \u001b[39min\u001b[39;00m \u001b[39mrange\u001b[39m(\u001b[39mself\u001b[39m\u001b[39m.\u001b[39mepochs):\n\u001b[1;32m--> 660\u001b[0m     train_loss \u001b[39m=\u001b[39m \u001b[39mself\u001b[39;49m\u001b[39m.\u001b[39;49mtrain_epoch(epoch)\n\u001b[0;32m    661\u001b[0m     \u001b[39mself\u001b[39m\u001b[39m.\u001b[39mlosses \u001b[39m=\u001b[39m torch\u001b[39m.\u001b[39mcat((\u001b[39mself\u001b[39m\u001b[39m.\u001b[39mlosses, torch\u001b[39m.\u001b[39mtensor([train_loss])\u001b[39m.\u001b[39mto(\u001b[39mself\u001b[39m\u001b[39m.\u001b[39mdevice)))\n\u001b[0;32m    662\u001b[0m \u001b[39mreturn\u001b[39;00m \u001b[39mself\u001b[39m\n",
      "File \u001b[1;32mc:\\Users\\efons\\anaconda3\\envs\\venv\\lib\\site-packages\\kmodels\\utils.py:677\u001b[0m, in \u001b[0;36mTrainer.train_epoch\u001b[1;34m(self, epoch)\u001b[0m\n\u001b[0;32m    675\u001b[0m loss \u001b[39m=\u001b[39m evaluate_loss(\u001b[39mself\u001b[39m, data, y\u001b[39m=\u001b[39my)\n\u001b[0;32m    676\u001b[0m \u001b[39mself\u001b[39m\u001b[39m.\u001b[39mtrain_loss \u001b[39m=\u001b[39m loss\u001b[39m.\u001b[39mitem()\n\u001b[1;32m--> 677\u001b[0m loss\u001b[39m.\u001b[39;49mbackward()\n\u001b[0;32m    678\u001b[0m \u001b[39mself\u001b[39m\u001b[39m.\u001b[39moptimizer\u001b[39m.\u001b[39mstep()\n\u001b[0;32m    679\u001b[0m torch\u001b[39m.\u001b[39mcuda\u001b[39m.\u001b[39mempty_cache()\n",
      "File \u001b[1;32mc:\\Users\\efons\\anaconda3\\envs\\venv\\lib\\site-packages\\torch\\_tensor.py:487\u001b[0m, in \u001b[0;36mTensor.backward\u001b[1;34m(self, gradient, retain_graph, create_graph, inputs)\u001b[0m\n\u001b[0;32m    477\u001b[0m \u001b[39mif\u001b[39;00m has_torch_function_unary(\u001b[39mself\u001b[39m):\n\u001b[0;32m    478\u001b[0m     \u001b[39mreturn\u001b[39;00m handle_torch_function(\n\u001b[0;32m    479\u001b[0m         Tensor\u001b[39m.\u001b[39mbackward,\n\u001b[0;32m    480\u001b[0m         (\u001b[39mself\u001b[39m,),\n\u001b[1;32m   (...)\u001b[0m\n\u001b[0;32m    485\u001b[0m         inputs\u001b[39m=\u001b[39minputs,\n\u001b[0;32m    486\u001b[0m     )\n\u001b[1;32m--> 487\u001b[0m torch\u001b[39m.\u001b[39;49mautograd\u001b[39m.\u001b[39;49mbackward(\n\u001b[0;32m    488\u001b[0m     \u001b[39mself\u001b[39;49m, gradient, retain_graph, create_graph, inputs\u001b[39m=\u001b[39;49minputs\n\u001b[0;32m    489\u001b[0m )\n",
      "File \u001b[1;32mc:\\Users\\efons\\anaconda3\\envs\\venv\\lib\\site-packages\\torch\\autograd\\__init__.py:197\u001b[0m, in \u001b[0;36mbackward\u001b[1;34m(tensors, grad_tensors, retain_graph, create_graph, grad_variables, inputs)\u001b[0m\n\u001b[0;32m    192\u001b[0m     retain_graph \u001b[39m=\u001b[39m create_graph\n\u001b[0;32m    194\u001b[0m \u001b[39m# The reason we repeat same the comment below is that\u001b[39;00m\n\u001b[0;32m    195\u001b[0m \u001b[39m# some Python versions print out the first line of a multi-line function\u001b[39;00m\n\u001b[0;32m    196\u001b[0m \u001b[39m# calls in the traceback and some print out the last line\u001b[39;00m\n\u001b[1;32m--> 197\u001b[0m Variable\u001b[39m.\u001b[39;49m_execution_engine\u001b[39m.\u001b[39;49mrun_backward(  \u001b[39m# Calls into the C++ engine to run the backward pass\u001b[39;49;00m\n\u001b[0;32m    198\u001b[0m     tensors, grad_tensors_, retain_graph, create_graph, inputs,\n\u001b[0;32m    199\u001b[0m     allow_unreachable\u001b[39m=\u001b[39;49m\u001b[39mTrue\u001b[39;49;00m, accumulate_grad\u001b[39m=\u001b[39;49m\u001b[39mTrue\u001b[39;49;00m)\n",
      "\u001b[1;31mKeyboardInterrupt\u001b[0m: "
     ]
    }
   ],
   "source": [
    "def to_torch(X):\n",
    "    if isinstance(X, np.ndarray):\n",
    "        X = torch.from_numpy(X.astype(np.float32))\n",
    "    elif isinstance(X, pd.DataFrame):\n",
    "        X = X.values\n",
    "        X = torch.from_numpy(X.astype(np.float32))\n",
    "    return X\n",
    "X = to_torch(X)\n",
    "Y = to_torch(Y)\n",
    "reg.fit(X, X)"
   ]
  },
  {
   "cell_type": "code",
   "execution_count": 52,
   "metadata": {},
   "outputs": [
    {
     "data": {
      "text/plain": [
       "[<matplotlib.lines.Line2D at 0x1a75ec39660>]"
      ]
     },
     "execution_count": 52,
     "metadata": {},
     "output_type": "execute_result"
    },
    {
     "data": {
      "image/png": "[encoded data removed]",
      "text/plain": [
       "<Figure size 640x480 with 1 Axes>"
      ]
     },
     "metadata": {},
     "output_type": "display_data"
    }
   ],
   "source": [
    "plt.plot(reg.losses)"
   ]
  },
  {
   "cell_type": "code",
   "execution_count": 53,
   "metadata": {},
   "outputs": [
    {
     "data": {
      "text/plain": [
       "<matplotlib.collections.PathCollection at 0x1a7606a03d0>"
      ]
     },
     "execution_count": 53,
     "metadata": {},
     "output_type": "execute_result"
    },
    {
     "data": {
      "image/png": "[encoded data removed]",
      "text/plain": [
       "<Figure size 640x480 with 1 Axes>"
      ]
     },
     "metadata": {},
     "output_type": "display_data"
    }
   ],
   "source": [
    "# get the encoded latent space and plot\n",
    "X_encoded = reg.estimator.encode(X)[0].detach().numpy()\n",
    "plt.scatter(X_encoded[:,0], X_encoded[:,1], c=Y[:,0], marker='*')"
   ]
  },
  {
   "cell_type": "code",
   "execution_count": 67,
   "metadata": {},
   "outputs": [
    {
     "data": {
      "application/vnd.plotly.v1+json": {
       "config": {
        "plotlyServerURL": "https://plot.ly"
       },
       "data": [
        {
         "hovertemplate": "Pain_Cohort=*<br>x1=%{x}<br>x2=%{y}<extra></extra>",
         "legendgroup": "*",
         "marker": {
          "color": "#636efa",
          "line": {
           "color": "DarkSlateGrey",
           "width": 2
          },
          "size": 12,
          "symbol": "circle"
         },
         "mode": "markers",
         "name": "*",
         "orientation": "v",
         "showlegend": true,
         "type": "scatter",
         "x": [
          -0.8555136919021606,
          -1.2690743207931519,
          -0.4432608485221863,
          -0.2705649137496948,
          -0.6451491117477417
         ],
         "xaxis": "x",
         "y": [
          15.468921661376953,
          22.867507934570312,
          8.100714683532715,
          5.011324405670166,
          11.710745811462402
         ],
         "yaxis": "y"
        },
        {
         "hovertemplate": "Pain_Cohort=o<br>x1=%{x}<br>x2=%{y}<extra></extra>",
         "legendgroup": "o",
         "marker": {
          "color": "#EF553B",
          "line": {
           "color": "DarkSlateGrey",
           "width": 2
          },
          "size": 12,
          "symbol": "diamond"
         },
         "mode": "markers",
         "name": "o",
         "orientation": "v",
         "showlegend": true,
         "type": "scatter",
         "x": [
          -0.9410015940666199,
          -1.1685340404510498,
          -0.9683690071105957,
          -1.259124517440796,
          -0.26100027561187744
         ],
         "xaxis": "x",
         "y": [
          17.003202438354492,
          21.070167541503906,
          17.48947525024414,
          22.68689727783203,
          4.841970443725586
         ],
         "yaxis": "y"
        }
       ],
       "layout": {
        "legend": {
         "title": {
          "text": "Pain_Cohort"
         },
         "tracegroupgap": 0
        },
        "margin": {
         "t": 60
        },
        "template": {
         "data": {
          "bar": [
           {
            "error_x": {
             "color": "#2a3f5f"
            },
            "error_y": {
             "color": "#2a3f5f"
            },
            "marker": {
             "line": {
              "color": "#E5ECF6",
              "width": 0.5
             },
             "pattern": {
              "fillmode": "overlay",
              "size": 10,
              "solidity": 0.2
             }
            },
            "type": "bar"
           }
          ],
          "barpolar": [
           {
            "marker": {
             "line": {
              "color": "#E5ECF6",
              "width": 0.5
             },
             "pattern": {
              "fillmode": "overlay",
              "size": 10,
              "solidity": 0.2
             }
            },
            "type": "barpolar"
           }
          ],
          "carpet": [
           {
            "aaxis": {
             "endlinecolor": "#2a3f5f",
             "gridcolor": "white",
             "linecolor": "white",
             "minorgridcolor": "white",
             "startlinecolor": "#2a3f5f"
            },
            "baxis": {
             "endlinecolor": "#2a3f5f",
             "gridcolor": "white",
             "linecolor": "white",
             "minorgridcolor": "white",
             "startlinecolor": "#2a3f5f"
            },
            "type": "carpet"
           }
          ],
          "choropleth": [
           {
            "colorbar": {
             "outlinewidth": 0,
             "ticks": ""
            },
            "type": "choropleth"
           }
          ],
          "contour": [
           {
            "colorbar": {
             "outlinewidth": 0,
             "ticks": ""
            },
            "colorscale": [
             [
              0,
              "#0d0887"
             ],
             [
              0.1111111111111111,
              "#46039f"
             ],
             [
              0.2222222222222222,
              "#7201a8"
             ],
             [
              0.3333333333333333,
              "#9c179e"
             ],
             [
              0.4444444444444444,
              "#bd3786"
             ],
             [
              0.5555555555555556,
              "#d8576b"
             ],
             [
              0.6666666666666666,
              "#ed7953"
             ],
             [
              0.7777777777777778,
              "#fb9f3a"
             ],
             [
              0.8888888888888888,
              "#fdca26"
             ],
             [
              1,
              "#f0f921"
             ]
            ],
            "type": "contour"
           }
          ],
          "contourcarpet": [
           {
            "colorbar": {
             "outlinewidth": 0,
             "ticks": ""
            },
            "type": "contourcarpet"
           }
          ],
          "heatmap": [
           {
            "colorbar": {
             "outlinewidth": 0,
             "ticks": ""
            },
            "colorscale": [
             [
              0,
              "#0d0887"
             ],
             [
              0.1111111111111111,
              "#46039f"
             ],
             [
              0.2222222222222222,
              "#7201a8"
             ],
             [
              0.3333333333333333,
              "#9c179e"
             ],
             [
              0.4444444444444444,
              "#bd3786"
             ],
             [
              0.5555555555555556,
              "#d8576b"
             ],
             [
              0.6666666666666666,
              "#ed7953"
             ],
             [
              0.7777777777777778,
              "#fb9f3a"
             ],
             [
              0.8888888888888888,
              "#fdca26"
             ],
             [
              1,
              "#f0f921"
             ]
            ],
            "type": "heatmap"
           }
          ],
          "heatmapgl": [
           {
            "colorbar": {
             "outlinewidth": 0,
             "ticks": ""
            },
            "colorscale": [
             [
              0,
              "#0d0887"
             ],
             [
              0.1111111111111111,
              "#46039f"
             ],
             [
              0.2222222222222222,
              "#7201a8"
             ],
             [
              0.3333333333333333,
              "#9c179e"
             ],
             [
              0.4444444444444444,
              "#bd3786"
             ],
             [
              0.5555555555555556,
              "#d8576b"
             ],
             [
              0.6666666666666666,
              "#ed7953"
             ],
             [
              0.7777777777777778,
              "#fb9f3a"
             ],
             [
              0.8888888888888888,
              "#fdca26"
             ],
             [
              1,
              "#f0f921"
             ]
            ],
            "type": "heatmapgl"
           }
          ],
          "histogram": [
           {
            "marker": {
             "pattern": {
              "fillmode": "overlay",
              "size": 10,
              "solidity": 0.2
             }
            },
            "type": "histogram"
           }
          ],
          "histogram2d": [
           {
            "colorbar": {
             "outlinewidth": 0,
             "ticks": ""
            },
            "colorscale": [
             [
              0,
              "#0d0887"
             ],
             [
              0.1111111111111111,
              "#46039f"
             ],
             [
              0.2222222222222222,
              "#7201a8"
             ],
             [
              0.3333333333333333,
              "#9c179e"
             ],
             [
              0.4444444444444444,
              "#bd3786"
             ],
             [
              0.5555555555555556,
              "#d8576b"
             ],
             [
              0.6666666666666666,
              "#ed7953"
             ],
             [
              0.7777777777777778,
              "#fb9f3a"
             ],
             [
              0.8888888888888888,
              "#fdca26"
             ],
             [
              1,
              "#f0f921"
             ]
            ],
            "type": "histogram2d"
           }
          ],
          "histogram2dcontour": [
           {
            "colorbar": {
             "outlinewidth": 0,
             "ticks": ""
            },
            "colorscale": [
             [
              0,
              "#0d0887"
             ],
             [
              0.1111111111111111,
              "#46039f"
             ],
             [
              0.2222222222222222,
              "#7201a8"
             ],
             [
              0.3333333333333333,
              "#9c179e"
             ],
             [
              0.4444444444444444,
              "#bd3786"
             ],
             [
              0.5555555555555556,
              "#d8576b"
             ],
             [
              0.6666666666666666,
              "#ed7953"
             ],
             [
              0.7777777777777778,
              "#fb9f3a"
             ],
             [
              0.8888888888888888,
              "#fdca26"
             ],
             [
              1,
              "#f0f921"
             ]
            ],
            "type": "histogram2dcontour"
           }
          ],
          "mesh3d": [
           {
            "colorbar": {
             "outlinewidth": 0,
             "ticks": ""
            },
            "type": "mesh3d"
           }
          ],
          "parcoords": [
           {
            "line": {
             "colorbar": {
              "outlinewidth": 0,
              "ticks": ""
             }
            },
            "type": "parcoords"
           }
          ],
          "pie": [
           {
            "automargin": true,
            "type": "pie"
           }
          ],
          "scatter": [
           {
            "fillpattern": {
             "fillmode": "overlay",
             "size": 10,
             "solidity": 0.2
            },
            "type": "scatter"
           }
          ],
          "scatter3d": [
           {
            "line": {
             "colorbar": {
              "outlinewidth": 0,
              "ticks": ""
             }
            },
            "marker": {
             "colorbar": {
              "outlinewidth": 0,
              "ticks": ""
             }
            },
            "type": "scatter3d"
           }
          ],
          "scattercarpet": [
           {
            "marker": {
             "colorbar": {
              "outlinewidth": 0,
              "ticks": ""
             }
            },
            "type": "scattercarpet"
           }
          ],
          "scattergeo": [
           {
            "marker": {
             "colorbar": {
              "outlinewidth": 0,
              "ticks": ""
             }
            },
            "type": "scattergeo"
           }
          ],
          "scattergl": [
           {
            "marker": {
             "colorbar": {
              "outlinewidth": 0,
              "ticks": ""
             }
            },
            "type": "scattergl"
           }
          ],
          "scattermapbox": [
           {
            "marker": {
             "colorbar": {
              "outlinewidth": 0,
              "ticks": ""
             }
            },
            "type": "scattermapbox"
           }
          ],
          "scatterpolar": [
           {
            "marker": {
             "colorbar": {
              "outlinewidth": 0,
              "ticks": ""
             }
            },
            "type": "scatterpolar"
           }
          ],
          "scatterpolargl": [
           {
            "marker": {
             "colorbar": {
              "outlinewidth": 0,
              "ticks": ""
             }
            },
            "type": "scatterpolargl"
           }
          ],
          "scatterternary": [
           {
            "marker": {
             "colorbar": {
              "outlinewidth": 0,
              "ticks": ""
             }
            },
            "type": "scatterternary"
           }
          ],
          "surface": [
           {
            "colorbar": {
             "outlinewidth": 0,
             "ticks": ""
            },
            "colorscale": [
             [
              0,
              "#0d0887"
             ],
             [
              0.1111111111111111,
              "#46039f"
             ],
             [
              0.2222222222222222,
              "#7201a8"
             ],
             [
              0.3333333333333333,
              "#9c179e"
             ],
             [
              0.4444444444444444,
              "#bd3786"
             ],
             [
              0.5555555555555556,
              "#d8576b"
             ],
             [
              0.6666666666666666,
              "#ed7953"
             ],
             [
              0.7777777777777778,
              "#fb9f3a"
             ],
             [
              0.8888888888888888,
              "#fdca26"
             ],
             [
              1,
              "#f0f921"
             ]
            ],
            "type": "surface"
           }
          ],
          "table": [
           {
            "cells": {
             "fill": {
              "color": "#EBF0F8"
             },
             "line": {
              "color": "white"
             }
            },
            "header": {
             "fill": {
              "color": "#C8D4E3"
             },
             "line": {
              "color": "white"
             }
            },
            "type": "table"
           }
          ]
         },
         "layout": {
          "annotationdefaults": {
           "arrowcolor": "#2a3f5f",
           "arrowhead": 0,
           "arrowwidth": 1
          },
          "autotypenumbers": "strict",
          "coloraxis": {
           "colorbar": {
            "outlinewidth": 0,
            "ticks": ""
           }
          },
          "colorscale": {
           "diverging": [
            [
             0,
             "#8e0152"
            ],
            [
             0.1,
             "#c51b7d"
            ],
            [
             0.2,
             "#de77ae"
            ],
            [
             0.3,
             "#f1b6da"
            ],
            [
             0.4,
             "#fde0ef"
            ],
            [
             0.5,
             "#f7f7f7"
            ],
            [
             0.6,
             "#e6f5d0"
            ],
            [
             0.7,
             "#b8e186"
            ],
            [
             0.8,
             "#7fbc41"
            ],
            [
             0.9,
             "#4d9221"
            ],
            [
             1,
             "#276419"
            ]
           ],
           "sequential": [
            [
             0,
             "#0d0887"
            ],
            [
             0.1111111111111111,
             "#46039f"
            ],
            [
             0.2222222222222222,
             "#7201a8"
            ],
            [
             0.3333333333333333,
             "#9c179e"
            ],
            [
             0.4444444444444444,
             "#bd3786"
            ],
            [
             0.5555555555555556,
             "#d8576b"
            ],
            [
             0.6666666666666666,
             "#ed7953"
            ],
            [
             0.7777777777777778,
             "#fb9f3a"
            ],
            [
             0.8888888888888888,
             "#fdca26"
            ],
            [
             1,
             "#f0f921"
            ]
           ],
           "sequentialminus": [
            [
             0,
             "#0d0887"
            ],
            [
             0.1111111111111111,
             "#46039f"
            ],
            [
             0.2222222222222222,
             "#7201a8"
            ],
            [
             0.3333333333333333,
             "#9c179e"
            ],
            [
             0.4444444444444444,
             "#bd3786"
            ],
            [
             0.5555555555555556,
             "#d8576b"
            ],
            [
             0.6666666666666666,
             "#ed7953"
            ],
            [
             0.7777777777777778,
             "#fb9f3a"
            ],
            [
             0.8888888888888888,
             "#fdca26"
            ],
            [
             1,
             "#f0f921"
            ]
           ]
          },
          "colorway": [
           "#636efa",
           "#EF553B",
           "#00cc96",
           "#ab63fa",
           "#FFA15A",
           "#19d3f3",
           "#FF6692",
           "#B6E880",
           "#FF97FF",
           "#FECB52"
          ],
          "font": {
           "color": "#2a3f5f"
          },
          "geo": {
           "bgcolor": "white",
           "lakecolor": "white",
           "landcolor": "#E5ECF6",
           "showlakes": true,
           "showland": true,
           "subunitcolor": "white"
          },
          "hoverlabel": {
           "align": "left"
          },
          "hovermode": "closest",
          "mapbox": {
           "style": "light"
          },
          "paper_bgcolor": "white",
          "plot_bgcolor": "#E5ECF6",
          "polar": {
           "angularaxis": {
            "gridcolor": "white",
            "linecolor": "white",
            "ticks": ""
           },
           "bgcolor": "#E5ECF6",
           "radialaxis": {
            "gridcolor": "white",
            "linecolor": "white",
            "ticks": ""
           }
          },
          "scene": {
           "xaxis": {
            "backgroundcolor": "#E5ECF6",
            "gridcolor": "white",
            "gridwidth": 2,
            "linecolor": "white",
            "showbackground": true,
            "ticks": "",
            "zerolinecolor": "white"
           },
           "yaxis": {
            "backgroundcolor": "#E5ECF6",
            "gridcolor": "white",
            "gridwidth": 2,
            "linecolor": "white",
            "showbackground": true,
            "ticks": "",
            "zerolinecolor": "white"
           },
           "zaxis": {
            "backgroundcolor": "#E5ECF6",
            "gridcolor": "white",
            "gridwidth": 2,
            "linecolor": "white",
            "showbackground": true,
            "ticks": "",
            "zerolinecolor": "white"
           }
          },
          "shapedefaults": {
           "line": {
            "color": "#2a3f5f"
           }
          },
          "ternary": {
           "aaxis": {
            "gridcolor": "white",
            "linecolor": "white",
            "ticks": ""
           },
           "baxis": {
            "gridcolor": "white",
            "linecolor": "white",
            "ticks": ""
           },
           "bgcolor": "#E5ECF6",
           "caxis": {
            "gridcolor": "white",
            "linecolor": "white",
            "ticks": ""
           }
          },
          "title": {
           "x": 0.05
          },
          "xaxis": {
           "automargin": true,
           "gridcolor": "white",
           "linecolor": "white",
           "ticks": "",
           "title": {
            "standoff": 15
           },
           "zerolinecolor": "white",
           "zerolinewidth": 2
          },
          "yaxis": {
           "automargin": true,
           "gridcolor": "white",
           "linecolor": "white",
           "ticks": "",
           "title": {
            "standoff": 15
           },
           "zerolinecolor": "white",
           "zerolinewidth": 2
          }
         }
        },
        "xaxis": {
         "anchor": "y",
         "domain": [
          0,
          1
         ],
         "title": {
          "text": "x1"
         }
        },
        "yaxis": {
         "anchor": "x",
         "domain": [
          0,
          1
         ],
         "title": {
          "text": "x2"
         }
        }
       }
      }
     },
     "metadata": {},
     "output_type": "display_data"
    }
   ],
   "source": [
    "import plotly.express as px\n",
    "# cmap is red to blue\n",
    "# encoded_df \n",
    "Edf = pd.DataFrame(X_encoded, columns=['x1', 'x2'])\n",
    "Edf['Pain_Cohort'] = Y[:,0]\n",
    "Edf['Eaton_Litter'] = Y[:,1]\n",
    "# make the pain cohort categorical\n",
    "Edf['Pain_Cohort'] = Edf['Pain_Cohort'].astype('category')\n",
    "# now make the pain 1 category * and 0 category o\n",
    "Edf['Pain_Cohort'] = Edf['Pain_Cohort'].apply(lambda x: '*' if x == 1 else 'o')\n",
    "fig = px.scatter(Edf, x='x1', y='x2', color='Pain_Cohort', symbol='Pain_Cohort')\n",
    "# make the markers bigger with nicer backgrounds\n",
    "fig.update_traces(marker=dict(size=12,\n",
    "                                line=dict(width=2,\n",
    "                                            color='DarkSlateGrey')),\n",
    "                    selector=dict(mode='markers'))\n",
    "fig.show()"
   ]
  },
  {
   "cell_type": "code",
   "execution_count": null,
   "metadata": {},
   "outputs": [],
   "source": []
  }
 ],
 "metadata": {
  "kernelspec": {
   "display_name": "venv",
   "language": "python",
   "name": "python3"
  },
  "language_info": {
   "codemirror_mode": {
    "name": "ipython",
    "version": 3
   },
   "file_extension": ".py",
   "mimetype": "text/x-python",
   "name": "python",
   "nbconvert_exporter": "python",
   "pygments_lexer": "ipython3",
   "version": "3.10.10"
  },
  "orig_nbformat": 4
 },
 "nbformat": 4,
 "nbformat_minor": 2
}
