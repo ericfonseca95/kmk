{
 "cells": [
  {
   "cell_type": "code",
   "execution_count": 1,
   "metadata": {},
   "outputs": [],
   "source": [
    "import kmodels as kmk\n",
    "import torch \n",
    "import numpy as np\n",
    "import plotly.express as px\n",
    "from sklearn.preprocessing import StandardScaler, MinMaxScaler\n",
    "import matplotlib.pyplot as plt\n"
   ]
  },
  {
   "cell_type": "code",
   "execution_count": 14,
   "metadata": {},
   "outputs": [
    {
     "name": "stdout",
     "output_type": "stream",
     "text": [
      "(1000, 1) (3,) (1000, 1)\n"
     ]
    },
    {
     "data": {
      "application/vnd.plotly.v1+json": {
       "config": {
        "plotlyServerURL": "https://plot.ly"
       },
       "data": [
        {
         "coloraxis": "coloraxis",
         "hovertemplate": "x: %{x}<br>y: %{y}<br>color: %{z}<extra></extra>",
         "name": "0",
         "type": "heatmap",
         "xaxis": "x",
         "yaxis": "y",
         "z": [
          [
           0,
           -1.0650689601898193,
           0.9919220209121704,
           0.39153552055358887
          ],
          [
           1,
           0.10813771188259125,
           -1.6001017093658447,
           -0.6301230788230896
          ],
          [
           1,
           0.23336416482925415,
           -1.473420262336731,
           0.4087398648262024
          ],
          [
           1,
           0.3419784903526306,
           0.4441128671169281,
           -0.996069073677063
          ],
          [
           1,
           0.7085594534873962,
           -0.948694109916687,
           0.11381764709949493
          ],
          [
           0,
           0.04012739658355713,
           -1.5315015316009521,
           0.6467753052711487
          ],
          [
           1,
           -1.017993688583374,
           -0.33945232629776,
           1.3212532997131348
          ],
          [
           1,
           0.9492708444595337,
           1.579184889793396,
           -0.006982648279517889
          ],
          [
           1,
           1.5637294054031372,
           0.29168152809143066,
           0.9078761339187622
          ],
          [
           0,
           1.2139968872070312,
           0.01123020052909851,
           1.3932700157165527
          ],
          [
           0,
           -0.6362095475196838,
           0.6173836588859558,
           -1.2318906784057617
          ],
          [
           0,
           0.49272188544273376,
           -0.17616097629070282,
           1.5194112062454224
          ],
          [
           0,
           0.29230955243110657,
           -0.15857775509357452,
           -0.3253944516181946
          ],
          [
           0,
           1.0049599409103394,
           -0.6281945109367371,
           -1.6657936573028564
          ],
          [
           1,
           -1.492049217224121,
           -3.1294498443603516,
           -1.0445029735565186
          ],
          [
           1,
           -1.1452875137329102,
           1.246898889541626,
           0.9394581913948059
          ],
          [
           0,
           -0.3023167550563812,
           -1.528692364692688,
           0.1449710577726364
          ],
          [
           0,
           0.9786248207092285,
           0.4620944857597351,
           0.6485788226127625
          ],
          [
           0,
           0.5364303588867188,
           0.05515001341700554,
           -0.29381611943244934
          ],
          [
           0,
           0.9444635510444641,
           -0.825710117816925,
           0.8310086727142334
          ],
          [
           0,
           0.19138969480991364,
           0.337320476770401,
           0.5357829928398132
          ],
          [
           0,
           0.47500523924827576,
           0.11615051329135895,
           -0.7007222175598145
          ],
          [
           1,
           -0.8987691402435303,
           -0.263772189617157,
           0.9195698499679565
          ],
          [
           0,
           1.469670057296753,
           0.5680133700370789,
           -1.284243106842041
          ],
          [
           1,
           0.7591536641120911,
           -0.3959740102291107,
           -0.5871104598045349
          ],
          [
           0,
           0.3558831810951233,
           1.0784094333648682,
           -0.1348039209842682
          ],
          [
           1,
           -0.9771067500114441,
           1.0738691091537476,
           -1.4031721353530884
          ],
          [
           1,
           0.5516446232795715,
           0.7146276831626892,
           1.6675063371658325
          ],
          [
           1,
           0.9467499852180481,
           0.07741200923919678,
           -0.5930697917938232
          ],
          [
           1,
           0.3311554193496704,
           1.1908013820648193,
           -0.5280449986457825
          ],
          [
           0,
           -0.1855214685201645,
           0.046300746500492096,
           0.4811018109321594
          ],
          [
           0,
           -0.1103152185678482,
           0.04192893207073212,
           -0.20783942937850952
          ],
          [
           1,
           0.8285646438598633,
           0.8009560704231262,
           -1.122361421585083
          ],
          [
           1,
           -0.3293180763721466,
           2.7687900066375732,
           1.218719720840454
          ],
          [
           1,
           -2.060075044631958,
           -1.5770891904830933,
           -0.24541036784648895
          ],
          [
           0,
           -2.5328938961029053,
           -0.6842091083526611,
           0.5392484664916992
          ],
          [
           0,
           -0.3614741265773773,
           0.7685440182685852,
           0.08534256368875504
          ],
          [
           1,
           0.004653682000935078,
           -1.2052850723266602,
           -1.0887402296066284
          ],
          [
           0,
           1.3398371934890747,
           -1.201666235923767,
           -0.24639607965946198
          ],
          [
           1,
           0.07419983297586441,
           -0.4403245449066162,
           -0.3277219533920288
          ],
          [
           0,
           0.5931161046028137,
           0.23610937595367432,
           -0.20061789453029633
          ],
          [
           0,
           0.16906976699829102,
           0.10505260527133942,
           -0.045953214168548584
          ],
          [
           0,
           -2.228705644607544,
           -0.9803667068481445,
           -0.25431516766548157
          ],
          [
           1,
           1.370246171951294,
           0.5672623515129089,
           -0.9862844347953796
          ],
          [
           1,
           -0.5413485765457153,
           -0.5372073650360107,
           -1.6733683347702026
          ],
          [
           0,
           -0.46142125129699707,
           1.3240619897842407,
           1.0225210189819336
          ],
          [
           1,
           -0.6187913417816162,
           -0.38819026947021484,
           -2.321946382522583
          ],
          [
           1,
           1.9868687391281128,
           -0.4376976788043976,
           0.2265043556690216
          ],
          [
           0,
           -0.8794773817062378,
           0.21454623341560364,
           -0.019445328041911125
          ],
          [
           0,
           1.1038795709609985,
           0.40178775787353516,
           -0.6072750687599182
          ],
          [
           0,
           -1.6441200971603394,
           -0.9058232307434082,
           -0.5926852226257324
          ],
          [
           0,
           1.1455870866775513,
           -0.163975328207016,
           -0.3132248520851135
          ],
          [
           0,
           -1.7094800472259521,
           0.667278528213501,
           -1.3587716817855835
          ],
          [
           1,
           -0.6754385828971863,
           0.47317227721214294,
           0.8024369478225708
          ],
          [
           1,
           1.4179553985595703,
           0.12971529364585876,
           0.47543177008628845
          ],
          [
           0,
           -0.520089864730835,
           2.1470208168029785,
           0.5194944739341736
          ],
          [
           0,
           -0.5480684041976929,
           1.4173780679702759,
           -0.31449365615844727
          ],
          [
           1,
           0.5758416056632996,
           -0.5366971492767334,
           -0.5937972664833069
          ],
          [
           1,
           -0.436824768781662,
           -1.7632224559783936,
           -0.7251979112625122
          ],
          [
           1,
           -1.7430474758148193,
           -0.5183987617492676,
           -2.407771110534668
          ],
          [
           0,
           0.7615675330162048,
           -0.41659241914749146,
           -0.16252686083316803
          ],
          [
           1,
           1.0601750612258911,
           -0.42786645889282227,
           0.17151637375354767
          ],
          [
           1,
           0.28011733293533325,
           1.870957374572754,
           0.24754947423934937
          ],
          [
           1,
           -0.4064776599407196,
           0.2822144031524658,
           0.13866563141345978
          ],
          [
           1,
           1.2562410831451416,
           1.6543773412704468,
           -0.6715009808540344
          ],
          [
           1,
           -0.6183307766914368,
           -0.8474342823028564,
           0.7161391973495483
          ],
          [
           1,
           1.9403074979782104,
           1.311345100402832,
           0.011792482808232307
          ],
          [
           0,
           1.3597512245178223,
           -0.7575286030769348,
           0.4447844922542572
          ],
          [
           1,
           0.5075384974479675,
           -0.6667694449424744,
           0.038046691566705704
          ],
          [
           1,
           -0.3860291540622711,
           -0.8779658079147339,
           0.6861359477043152
          ],
          [
           1,
           0.6955770254135132,
           -0.7166717052459717,
           0.573125958442688
          ],
          [
           0,
           -1.5155696868896484,
           -1.0764544010162354,
           -1.1974397897720337
          ],
          [
           0,
           -0.23069533705711365,
           0.2761390805244446,
           -1.652700424194336
          ],
          [
           1,
           1.0864776372909546,
           -1.4961553812026978,
           -0.6371490359306335
          ],
          [
           0,
           0.6507442593574524,
           0.12062542140483856,
           -2.4684486389160156
          ],
          [
           1,
           0.28741613030433655,
           0.7424913644790649,
           -0.9268598556518555
          ],
          [
           1,
           0.42094630002975464,
           -0.5793158411979675,
           -2.0103766918182373
          ],
          [
           1,
           -0.16992129385471344,
           1.9231351613998413,
           -0.4958465099334717
          ],
          [
           0,
           -0.6741929650306702,
           0.48139894008636475,
           -0.32063543796539307
          ],
          [
           1,
           0.6591326594352722,
           -0.8109649419784546,
           1.7612109184265137
          ],
          [
           1,
           -0.6499550342559814,
           0.45371001958847046,
           0.2961741089820862
          ],
          [
           0,
           0.0706329494714737,
           0.2584570348262787,
           1.8089407682418823
          ],
          [
           1,
           -0.6482045650482178,
           -0.5192742943763733,
           1.4270778894424438
          ],
          [
           1,
           -1.3896080255508423,
           -0.6685882210731506,
           0.1283617913722992
          ],
          [
           1,
           -0.6296355724334717,
           1.068373203277588,
           -0.2544005513191223
          ],
          [
           0,
           -0.8344231843948364,
           0.3536545932292938,
           -1.5407077074050903
          ],
          [
           0,
           -0.31960564851760864,
           0.8338967561721802,
           0.10453961044549942
          ],
          [
           1,
           -0.25144529342651367,
           1.0226832628250122,
           -1.3187843561172485
          ],
          [
           1,
           -0.637020468711853,
           -0.6353820562362671,
           0.4304259419441223
          ],
          [
           1,
           0.9249400496482849,
           -1.0880182981491089,
           -0.5025006532669067
          ],
          [
           1,
           -0.9449613690376282,
           0.28077709674835205,
           -0.6641462445259094
          ],
          [
           0,
           1.226186990737915,
           0.79841548204422,
           -1.198081374168396
          ],
          [
           0,
           -0.3502776026725769,
           1.2325670719146729,
           -1.1609470844268799
          ],
          [
           1,
           0.4183254837989807,
           0.25559166073799133,
           -1.771982192993164
          ],
          [
           1,
           -0.7705138325691223,
           0.39102810621261597,
           -0.5566202402114868
          ],
          [
           1,
           1.166085958480835,
           0.04366022348403931,
           0.4355616271495819
          ],
          [
           0,
           1.1138155460357666,
           -0.4521290361881256,
           -0.8711370229721069
          ],
          [
           0,
           1.1644806861877441,
           0.7755311727523804,
           -0.5372238755226135
          ],
          [
           1,
           0.3298236131668091,
           0.25616660714149475,
           -0.5010571479797363
          ],
          [
           1,
           -0.34404370188713074,
           0.8506442904472351,
           -1.1506574153900146
          ]
         ]
        }
       ],
       "layout": {
        "coloraxis": {
         "colorscale": [
          [
           0,
           "#0d0887"
          ],
          [
           0.1111111111111111,
           "#46039f"
          ],
          [
           0.2222222222222222,
           "#7201a8"
          ],
          [
           0.3333333333333333,
           "#9c179e"
          ],
          [
           0.4444444444444444,
           "#bd3786"
          ],
          [
           0.5555555555555556,
           "#d8576b"
          ],
          [
           0.6666666666666666,
           "#ed7953"
          ],
          [
           0.7777777777777778,
           "#fb9f3a"
          ],
          [
           0.8888888888888888,
           "#fdca26"
          ],
          [
           1,
           "#f0f921"
          ]
         ]
        },
        "height": 500,
        "margin": {
         "t": 60
        },
        "template": {
         "data": {
          "bar": [
           {
            "error_x": {
             "color": "#2a3f5f"
            },
            "error_y": {
             "color": "#2a3f5f"
            },
            "marker": {
             "line": {
              "color": "#E5ECF6",
              "width": 0.5
             },
             "pattern": {
              "fillmode": "overlay",
              "size": 10,
              "solidity": 0.2
             }
            },
            "type": "bar"
           }
          ],
          "barpolar": [
           {
            "marker": {
             "line": {
              "color": "#E5ECF6",
              "width": 0.5
             },
             "pattern": {
              "fillmode": "overlay",
              "size": 10,
              "solidity": 0.2
             }
            },
            "type": "barpolar"
           }
          ],
          "carpet": [
           {
            "aaxis": {
             "endlinecolor": "#2a3f5f",
             "gridcolor": "white",
             "linecolor": "white",
             "minorgridcolor": "white",
             "startlinecolor": "#2a3f5f"
            },
            "baxis": {
             "endlinecolor": "#2a3f5f",
             "gridcolor": "white",
             "linecolor": "white",
             "minorgridcolor": "white",
             "startlinecolor": "#2a3f5f"
            },
            "type": "carpet"
           }
          ],
          "choropleth": [
           {
            "colorbar": {
             "outlinewidth": 0,
             "ticks": ""
            },
            "type": "choropleth"
           }
          ],
          "contour": [
           {
            "colorbar": {
             "outlinewidth": 0,
             "ticks": ""
            },
            "colorscale": [
             [
              0,
              "#0d0887"
             ],
             [
              0.1111111111111111,
              "#46039f"
             ],
             [
              0.2222222222222222,
              "#7201a8"
             ],
             [
              0.3333333333333333,
              "#9c179e"
             ],
             [
              0.4444444444444444,
              "#bd3786"
             ],
             [
              0.5555555555555556,
              "#d8576b"
             ],
             [
              0.6666666666666666,
              "#ed7953"
             ],
             [
              0.7777777777777778,
              "#fb9f3a"
             ],
             [
              0.8888888888888888,
              "#fdca26"
             ],
             [
              1,
              "#f0f921"
             ]
            ],
            "type": "contour"
           }
          ],
          "contourcarpet": [
           {
            "colorbar": {
             "outlinewidth": 0,
             "ticks": ""
            },
            "type": "contourcarpet"
           }
          ],
          "heatmap": [
           {
            "colorbar": {
             "outlinewidth": 0,
             "ticks": ""
            },
            "colorscale": [
             [
              0,
              "#0d0887"
             ],
             [
              0.1111111111111111,
              "#46039f"
             ],
             [
              0.2222222222222222,
              "#7201a8"
             ],
             [
              0.3333333333333333,
              "#9c179e"
             ],
             [
              0.4444444444444444,
              "#bd3786"
             ],
             [
              0.5555555555555556,
              "#d8576b"
             ],
             [
              0.6666666666666666,
              "#ed7953"
             ],
             [
              0.7777777777777778,
              "#fb9f3a"
             ],
             [
              0.8888888888888888,
              "#fdca26"
             ],
             [
              1,
              "#f0f921"
             ]
            ],
            "type": "heatmap"
           }
          ],
          "heatmapgl": [
           {
            "colorbar": {
             "outlinewidth": 0,
             "ticks": ""
            },
            "colorscale": [
             [
              0,
              "#0d0887"
             ],
             [
              0.1111111111111111,
              "#46039f"
             ],
             [
              0.2222222222222222,
              "#7201a8"
             ],
             [
              0.3333333333333333,
              "#9c179e"
             ],
             [
              0.4444444444444444,
              "#bd3786"
             ],
             [
              0.5555555555555556,
              "#d8576b"
             ],
             [
              0.6666666666666666,
              "#ed7953"
             ],
             [
              0.7777777777777778,
              "#fb9f3a"
             ],
             [
              0.8888888888888888,
              "#fdca26"
             ],
             [
              1,
              "#f0f921"
             ]
            ],
            "type": "heatmapgl"
           }
          ],
          "histogram": [
           {
            "marker": {
             "pattern": {
              "fillmode": "overlay",
              "size": 10,
              "solidity": 0.2
             }
            },
            "type": "histogram"
           }
          ],
          "histogram2d": [
           {
            "colorbar": {
             "outlinewidth": 0,
             "ticks": ""
            },
            "colorscale": [
             [
              0,
              "#0d0887"
             ],
             [
              0.1111111111111111,
              "#46039f"
             ],
             [
              0.2222222222222222,
              "#7201a8"
             ],
             [
              0.3333333333333333,
              "#9c179e"
             ],
             [
              0.4444444444444444,
              "#bd3786"
             ],
             [
              0.5555555555555556,
              "#d8576b"
             ],
             [
              0.6666666666666666,
              "#ed7953"
             ],
             [
              0.7777777777777778,
              "#fb9f3a"
             ],
             [
              0.8888888888888888,
              "#fdca26"
             ],
             [
              1,
              "#f0f921"
             ]
            ],
            "type": "histogram2d"
           }
          ],
          "histogram2dcontour": [
           {
            "colorbar": {
             "outlinewidth": 0,
             "ticks": ""
            },
            "colorscale": [
             [
              0,
              "#0d0887"
             ],
             [
              0.1111111111111111,
              "#46039f"
             ],
             [
              0.2222222222222222,
              "#7201a8"
             ],
             [
              0.3333333333333333,
              "#9c179e"
             ],
             [
              0.4444444444444444,
              "#bd3786"
             ],
             [
              0.5555555555555556,
              "#d8576b"
             ],
             [
              0.6666666666666666,
              "#ed7953"
             ],
             [
              0.7777777777777778,
              "#fb9f3a"
             ],
             [
              0.8888888888888888,
              "#fdca26"
             ],
             [
              1,
              "#f0f921"
             ]
            ],
            "type": "histogram2dcontour"
           }
          ],
          "mesh3d": [
           {
            "colorbar": {
             "outlinewidth": 0,
             "ticks": ""
            },
            "type": "mesh3d"
           }
          ],
          "parcoords": [
           {
            "line": {
             "colorbar": {
              "outlinewidth": 0,
              "ticks": ""
             }
            },
            "type": "parcoords"
           }
          ],
          "pie": [
           {
            "automargin": true,
            "type": "pie"
           }
          ],
          "scatter": [
           {
            "fillpattern": {
             "fillmode": "overlay",
             "size": 10,
             "solidity": 0.2
            },
            "type": "scatter"
           }
          ],
          "scatter3d": [
           {
            "line": {
             "colorbar": {
              "outlinewidth": 0,
              "ticks": ""
             }
            },
            "marker": {
             "colorbar": {
              "outlinewidth": 0,
              "ticks": ""
             }
            },
            "type": "scatter3d"
           }
          ],
          "scattercarpet": [
           {
            "marker": {
             "colorbar": {
              "outlinewidth": 0,
              "ticks": ""
             }
            },
            "type": "scattercarpet"
           }
          ],
          "scattergeo": [
           {
            "marker": {
             "colorbar": {
              "outlinewidth": 0,
              "ticks": ""
             }
            },
            "type": "scattergeo"
           }
          ],
          "scattergl": [
           {
            "marker": {
             "colorbar": {
              "outlinewidth": 0,
              "ticks": ""
             }
            },
            "type": "scattergl"
           }
          ],
          "scattermapbox": [
           {
            "marker": {
             "colorbar": {
              "outlinewidth": 0,
              "ticks": ""
             }
            },
            "type": "scattermapbox"
           }
          ],
          "scatterpolar": [
           {
            "marker": {
             "colorbar": {
              "outlinewidth": 0,
              "ticks": ""
             }
            },
            "type": "scatterpolar"
           }
          ],
          "scatterpolargl": [
           {
            "marker": {
             "colorbar": {
              "outlinewidth": 0,
              "ticks": ""
             }
            },
            "type": "scatterpolargl"
           }
          ],
          "scatterternary": [
           {
            "marker": {
             "colorbar": {
              "outlinewidth": 0,
              "ticks": ""
             }
            },
            "type": "scatterternary"
           }
          ],
          "surface": [
           {
            "colorbar": {
             "outlinewidth": 0,
             "ticks": ""
            },
            "colorscale": [
             [
              0,
              "#0d0887"
             ],
             [
              0.1111111111111111,
              "#46039f"
             ],
             [
              0.2222222222222222,
              "#7201a8"
             ],
             [
              0.3333333333333333,
              "#9c179e"
             ],
             [
              0.4444444444444444,
              "#bd3786"
             ],
             [
              0.5555555555555556,
              "#d8576b"
             ],
             [
              0.6666666666666666,
              "#ed7953"
             ],
             [
              0.7777777777777778,
              "#fb9f3a"
             ],
             [
              0.8888888888888888,
              "#fdca26"
             ],
             [
              1,
              "#f0f921"
             ]
            ],
            "type": "surface"
           }
          ],
          "table": [
           {
            "cells": {
             "fill": {
              "color": "#EBF0F8"
             },
             "line": {
              "color": "white"
             }
            },
            "header": {
             "fill": {
              "color": "#C8D4E3"
             },
             "line": {
              "color": "white"
             }
            },
            "type": "table"
           }
          ]
         },
         "layout": {
          "annotationdefaults": {
           "arrowcolor": "#2a3f5f",
           "arrowhead": 0,
           "arrowwidth": 1
          },
          "autotypenumbers": "strict",
          "coloraxis": {
           "colorbar": {
            "outlinewidth": 0,
            "ticks": ""
           }
          },
          "colorscale": {
           "diverging": [
            [
             0,
             "#8e0152"
            ],
            [
             0.1,
             "#c51b7d"
            ],
            [
             0.2,
             "#de77ae"
            ],
            [
             0.3,
             "#f1b6da"
            ],
            [
             0.4,
             "#fde0ef"
            ],
            [
             0.5,
             "#f7f7f7"
            ],
            [
             0.6,
             "#e6f5d0"
            ],
            [
             0.7,
             "#b8e186"
            ],
            [
             0.8,
             "#7fbc41"
            ],
            [
             0.9,
             "#4d9221"
            ],
            [
             1,
             "#276419"
            ]
           ],
           "sequential": [
            [
             0,
             "#0d0887"
            ],
            [
             0.1111111111111111,
             "#46039f"
            ],
            [
             0.2222222222222222,
             "#7201a8"
            ],
            [
             0.3333333333333333,
             "#9c179e"
            ],
            [
             0.4444444444444444,
             "#bd3786"
            ],
            [
             0.5555555555555556,
             "#d8576b"
            ],
            [
             0.6666666666666666,
             "#ed7953"
            ],
            [
             0.7777777777777778,
             "#fb9f3a"
            ],
            [
             0.8888888888888888,
             "#fdca26"
            ],
            [
             1,
             "#f0f921"
            ]
           ],
           "sequentialminus": [
            [
             0,
             "#0d0887"
            ],
            [
             0.1111111111111111,
             "#46039f"
            ],
            [
             0.2222222222222222,
             "#7201a8"
            ],
            [
             0.3333333333333333,
             "#9c179e"
            ],
            [
             0.4444444444444444,
             "#bd3786"
            ],
            [
             0.5555555555555556,
             "#d8576b"
            ],
            [
             0.6666666666666666,
             "#ed7953"
            ],
            [
             0.7777777777777778,
             "#fb9f3a"
            ],
            [
             0.8888888888888888,
             "#fdca26"
            ],
            [
             1,
             "#f0f921"
            ]
           ]
          },
          "colorway": [
           "#636efa",
           "#EF553B",
           "#00cc96",
           "#ab63fa",
           "#FFA15A",
           "#19d3f3",
           "#FF6692",
           "#B6E880",
           "#FF97FF",
           "#FECB52"
          ],
          "font": {
           "color": "#2a3f5f"
          },
          "geo": {
           "bgcolor": "white",
           "lakecolor": "white",
           "landcolor": "#E5ECF6",
           "showlakes": true,
           "showland": true,
           "subunitcolor": "white"
          },
          "hoverlabel": {
           "align": "left"
          },
          "hovermode": "closest",
          "mapbox": {
           "style": "light"
          },
          "paper_bgcolor": "white",
          "plot_bgcolor": "#E5ECF6",
          "polar": {
           "angularaxis": {
            "gridcolor": "white",
            "linecolor": "white",
            "ticks": ""
           },
           "bgcolor": "#E5ECF6",
           "radialaxis": {
            "gridcolor": "white",
            "linecolor": "white",
            "ticks": ""
           }
          },
          "scene": {
           "xaxis": {
            "backgroundcolor": "#E5ECF6",
            "gridcolor": "white",
            "gridwidth": 2,
            "linecolor": "white",
            "showbackground": true,
            "ticks": "",
            "zerolinecolor": "white"
           },
           "yaxis": {
            "backgroundcolor": "#E5ECF6",
            "gridcolor": "white",
            "gridwidth": 2,
            "linecolor": "white",
            "showbackground": true,
            "ticks": "",
            "zerolinecolor": "white"
           },
           "zaxis": {
            "backgroundcolor": "#E5ECF6",
            "gridcolor": "white",
            "gridwidth": 2,
            "linecolor": "white",
            "showbackground": true,
            "ticks": "",
            "zerolinecolor": "white"
           }
          },
          "shapedefaults": {
           "line": {
            "color": "#2a3f5f"
           }
          },
          "ternary": {
           "aaxis": {
            "gridcolor": "white",
            "linecolor": "white",
            "ticks": ""
           },
           "baxis": {
            "gridcolor": "white",
            "linecolor": "white",
            "ticks": ""
           },
           "bgcolor": "#E5ECF6",
           "caxis": {
            "gridcolor": "white",
            "linecolor": "white",
            "ticks": ""
           }
          },
          "title": {
           "x": 0.05
          },
          "xaxis": {
           "automargin": true,
           "gridcolor": "white",
           "linecolor": "white",
           "ticks": "",
           "title": {
            "standoff": 15
           },
           "zerolinecolor": "white",
           "zerolinewidth": 2
          },
          "yaxis": {
           "automargin": true,
           "gridcolor": "white",
           "linecolor": "white",
           "ticks": "",
           "title": {
            "standoff": 15
           },
           "zerolinecolor": "white",
           "zerolinewidth": 2
          }
         }
        },
        "width": 500,
        "xaxis": {
         "anchor": "y",
         "constrain": "domain",
         "domain": [
          0,
          1
         ],
         "scaleanchor": "y"
        },
        "yaxis": {
         "anchor": "x",
         "autorange": "reversed",
         "constrain": "domain",
         "domain": [
          0,
          1
         ]
        }
       }
      }
     },
     "metadata": {},
     "output_type": "display_data"
    }
   ],
   "source": [
    "# lets generate an array of n observations with 50 features being random binary numbers and 50 features being random floats\n",
    "n = 1000\n",
    "plot_points = 100\n",
    "# set binary_dim to zero if you have no binary features\n",
    "binary_dim = 1\n",
    "n_features = 4\n",
    "x = np.random.randint(2, size=(n, binary_dim))\n",
    "x = np.concatenate((x, np.random.normal(size=(n, n_features-binary_dim))), axis=1)\n",
    "# lets make up a correlated but complicated y variable. make sure y is 1 feature\n",
    "# y = np.convolve(x[:, binary_dim:], np.random.normal(size=binary_dim), mode='same') * np.mean(x[:, :binary_dim ]) + np.random.normal(size=binary_dim)\n",
    "#y = y.reshape(-1, 1)\n",
    "# assign random weights to the binary features\n",
    "# make the weights a distribution of only two values\n",
    "weights = np.random.randint(2, size=(n_features-binary_dim))\n",
    "\n",
    "y = np.trapz(x[:, :binary_dim], axis=1).reshape(-1, 1) \n",
    "print(x[:, :binary_dim].shape, weights.shape, y.shape)\n",
    "y2 = np.sum(x[:, :binary_dim] * weights, axis=1).reshape(-1, 1)\n",
    "y = y.reshape(-1, 1)\n",
    "\n",
    "# scale the features\n",
    "# use minmax scaler on binary dim and standard scaler on float dim\n",
    "x_bin = MinMaxScaler().fit_transform(x[:, :binary_dim])\n",
    "x_float = StandardScaler().fit_transform(x[:, binary_dim:])\n",
    "x = np.concatenate((x_bin, x_float), axis=1)\n",
    "#x = np.concatenate((x, y), axis=1)\n",
    "x = torch.tensor(x, dtype=torch.float32)\n",
    "# plot as a 10x10 image \n",
    "px.imshow(x[:100].numpy(), width=500, height=500)\n"
   ]
  },
  {
   "cell_type": "code",
   "execution_count": 15,
   "metadata": {},
   "outputs": [
    {
     "data": {
      "text/plain": [
       "Text(0.5, 1.0, 'Histogram of features')"
      ]
     },
     "execution_count": 15,
     "metadata": {},
     "output_type": "execute_result"
    },
    {
     "data": {
      "image/png": "[encoded data removed]",
      "text/plain": [
       "<Figure size 1000x500 with 1 Axes>"
      ]
     },
     "metadata": {},
     "output_type": "display_data"
    }
   ],
   "source": [
    "# plot the histograms of all the features\n",
    "fig, ax = plt.subplots(1, 1, figsize=(10, 5))\n",
    "# make the bars larger\n",
    "ax.hist(x[:, :binary_dim].numpy().flatten(), bins=100, alpha=0.5, label='binary', width=0.5)\n",
    "ax.hist(x[:, binary_dim:].numpy().flatten(), bins=100, alpha=0.5, label='float')\n",
    "plt.title('Histogram of features')\n"
   ]
  },
  {
   "cell_type": "code",
   "execution_count": 16,
   "metadata": {},
   "outputs": [],
   "source": [
    "#params = {'hidden_dim':[50, 100, 200], 'latent_dim':[2, 5, 10], 'n_layers':[5, 10, 20], 'beta':[1, 10, 100], 'gamma':[1, 10, 100]}\n",
    "from sklearn.metrics import mean_absolute_error, mean_squared_error, r2_score\n",
    "# lets wrap the Training class and the model into a function that will be compatible with sklearn's GridSearchCV\n",
    "class VSECA(kmk.Training):\n",
    "    def __init__(self, batch_size=100, epochs=1000, lr_init=1e-3, binary_dim=10, hidden_dim = 100, beta=1, \n",
    "                 gamma=1, input_dim=100, latent_dim=2, n_layers=5, metric=r2_score, y=None, device='cuda', scheduler=True,\n",
    "                 reg_factor=1):\n",
    "        \n",
    "        kwargs = locals()\n",
    "        # super the kmk.Training class for VSECA\n",
    "        self.batch_size = batch_size\n",
    "        self.lr_init = lr_init\n",
    "        self.binary_dim = binary_dim\n",
    "        self.hidden_dim = hidden_dim\n",
    "        self.beta = beta\n",
    "        self.gamma = gamma\n",
    "        self.latent_dim = latent_dim\n",
    "        self.n_layers = n_layers\n",
    "        self.input_dim = input_dim\n",
    "        self.metric = metric\n",
    "        self.y = y\n",
    "        \n",
    "        if y is not None:\n",
    "            self.y = torch.tensor(y, dtype=torch.float32).to(device)\n",
    "\n",
    "        for key in kwargs:\n",
    "            setattr(self, key, kwargs[key])\n",
    "\n",
    "        param_vars = ['epochs','batch_size', 'lr_init', 'binary_dim', 'hidden_dim', 'beta', 'gamma', 'latent_dim', 'n_layers', 'input_dim', 'reg_factor']\n",
    "\n",
    "        self.params = {}\n",
    "        for att in param_vars:\n",
    "            self.params[att] = getattr(self, att)\n",
    "\n",
    "        self.model_params = {'hidden_dim':hidden_dim, 'latent_dim':latent_dim, 'n_layers':n_layers, 'input_dim':input_dim, 'formula_dim':binary_dim}\n",
    "        self.training_params = {}\n",
    "\n",
    "        for param in self.params:\n",
    "            if param in self.model_params.keys():\n",
    "                self.model_params[param] = self.params[param]\n",
    "            else:\n",
    "                self.training_params[param] = self.params[param]\n",
    "\n",
    "        self.model = kmk.VAE(**self.model_params).to(self.device)\n",
    "        self.Training = kmk.Training(self.model, x, y, vae_loss=True, **self.training_params, scheduler=scheduler)\n",
    "\n",
    "        self._get_losses = self.Training._get_losses\n",
    "        \n",
    "    def fit(self, x, y):\n",
    "        self.model_params['input_dim'] = x.shape[1]\n",
    "        self.model = kmk.VAE(**self.model_params).to(self.device)\n",
    "        super(VSECA, self).__init__(self.model, x, y, vae_loss=True, **self.training_params)\n",
    "        if type(x) == np.ndarray:\n",
    "            x = torch.tensor(x, dtype=torch.float32).to(self.device)\n",
    "        if type(y) == np.ndarray:\n",
    "            y = torch.tensor(y, dtype=torch.float32).to(self.device)\n",
    "        self.Training = kmk.Training(self.model, x, y, vae_loss=True, **self.training_params)\n",
    "        self.Training.train()\n",
    "        return self\n",
    "    \n",
    "    def predict(self, x):\n",
    "        return self.model(x)[0].detach().cpu()\n",
    "    \n",
    "    def score(self, x, y):\n",
    "        # mae of x and y\n",
    "        # make sure x and y are torch tensors\n",
    "        if type(x) == np.ndarray:\n",
    "            x = torch.tensor(x, dtype=torch.float32).to(self.device)\n",
    "        else:\n",
    "            x = x.to(self.device)\n",
    "        pred = self.model(x)[0].detach().cpu().numpy()\n",
    "        if type(y) == np.ndarray:\n",
    "            pass\n",
    "        else:\n",
    "            y.detach().cpu().numpy()\n",
    "        return self.metric(y, pred)\n",
    "    \n",
    "    def get_params(self, deep=True):\n",
    "        return self.params\n",
    "    \n",
    "    def set_params(self, **params):\n",
    "        self.params.update(params)\n",
    "        # update the attributes\n",
    "        for param in self.params:\n",
    "            setattr(self, param, self.params[param])\n",
    "        # update the model and trainer\n",
    "        for param in params:\n",
    "            if param in self.model_params.keys():\n",
    "                self.model_params[param] = params[param]\n",
    "            if param not in self.model_params.keys():\n",
    "                self.training_params[param] = params[param]\n",
    "        self.model = kmk.VAE(**self.model_params)\n",
    "        self.Training = kmk.Training(self.model, x, y, vae_loss=True, **self.training_params)\n",
    "        return self\n",
    "\n",
    "    "
   ]
  },
  {
   "cell_type": "code",
   "execution_count": 17,
   "metadata": {},
   "outputs": [
    {
     "name": "stdout",
     "output_type": "stream",
     "text": [
      "====> Epoch: 0 Average loss: 0.000135013 Time: 0.14\n",
      "Loss components:  {'vae_loss': 0.00022466123}\n",
      "====> Epoch: 10 Average loss: 0.000000030 Time: 0.10\n",
      "Loss components:  {'vae_loss': 2.461672e-07}\n",
      "====> Epoch: 20 Average loss: 0.000000014 Time: 0.09\n",
      "Loss components:  {'vae_loss': 1.4528632e-07}\n",
      "====> Epoch: 30 Average loss: 0.000000009 Time: 0.09\n",
      "Loss components:  {'vae_loss': 8.955598e-08}\n",
      "====> Epoch: 40 Average loss: 0.000000007 Time: 0.10\n",
      "Loss components:  {'vae_loss': 6.3329935e-08}\n",
      "====> Epoch: 50 Average loss: 0.000000005 Time: 0.11\n",
      "Loss components:  {'vae_loss': 5.0961972e-08}\n",
      "====> Epoch: 60 Average loss: 0.000000005 Time: 0.09\n",
      "Loss components:  {'vae_loss': 4.440546e-08}\n",
      "====> Epoch: 70 Average loss: 0.000000004 Time: 0.08\n",
      "Loss components:  {'vae_loss': 3.963709e-08}\n",
      "====> Epoch: 80 Average loss: 0.000000003 Time: 0.10\n",
      "Loss components:  {'vae_loss': 3.710389e-08}\n",
      "====> Epoch: 90 Average loss: 0.000000003 Time: 0.09\n",
      "Loss components:  {'vae_loss': 2.6524066e-08}\n",
      "====> Epoch: 100 Average loss: 0.000000003 Time: 0.09\n",
      "Loss components:  {'vae_loss': 2.9057265e-08}\n",
      "====> Epoch: 110 Average loss: 0.000000003 Time: 0.10\n",
      "Loss components:  {'vae_loss': 2.4437904e-08}\n",
      "====> Epoch: 120 Average loss: 0.000000002 Time: 0.10\n",
      "Loss components:  {'vae_loss': 2.026558e-08}\n",
      "====> Epoch: 130 Average loss: 0.000000002 Time: 0.09\n",
      "Loss components:  {'vae_loss': 1.8328429e-08}\n",
      "====> Epoch: 140 Average loss: 0.000000002 Time: 0.09\n",
      "Loss components:  {'vae_loss': 1.9222497e-08}\n",
      "====> Epoch: 150 Average loss: 0.000000002 Time: 0.09\n",
      "Loss components:  {'vae_loss': 1.8328429e-08}\n",
      "====> Epoch: 160 Average loss: 0.000000002 Time: 0.09\n",
      "Loss components:  {'vae_loss': 1.8626451e-08}\n",
      "====> Epoch: 170 Average loss: 0.000000002 Time: 0.09\n",
      "Loss components:  {'vae_loss': 1.4156103e-08}\n"
     ]
    },
    {
     "ename": "KeyboardInterrupt",
     "evalue": "",
     "output_type": "error",
     "traceback": [
      "\u001b[1;31m---------------------------------------------------------------------------\u001b[0m",
      "\u001b[1;31mKeyboardInterrupt\u001b[0m                         Traceback (most recent call last)",
      "Cell \u001b[1;32mIn[17], line 4\u001b[0m\n\u001b[0;32m      1\u001b[0m v \u001b[39m=\u001b[39m VSECA(lr_init\u001b[39m=\u001b[39m\u001b[39m5e-4\u001b[39m, epochs\u001b[39m=\u001b[39m\u001b[39m10001\u001b[39m, hidden_dim\u001b[39m=\u001b[39m\u001b[39m100\u001b[39m, n_layers\u001b[39m=\u001b[39m\u001b[39m5\u001b[39m, batch_size\u001b[39m=\u001b[39m\u001b[39m100\u001b[39m, \n\u001b[0;32m      2\u001b[0m           latent_dim\u001b[39m=\u001b[39m\u001b[39m2\u001b[39m, y\u001b[39m=\u001b[39my, device\u001b[39m=\u001b[39m\u001b[39m'\u001b[39m\u001b[39mcuda\u001b[39m\u001b[39m'\u001b[39m, reg_factor\u001b[39m=\u001b[39m\u001b[39m0\u001b[39m, beta\u001b[39m=\u001b[39m\u001b[39m0\u001b[39m, gamma\u001b[39m=\u001b[39m\u001b[39m0\u001b[39m,\n\u001b[0;32m      3\u001b[0m           scheduler\u001b[39m=\u001b[39m\u001b[39mTrue\u001b[39;00m)\n\u001b[1;32m----> 4\u001b[0m v\u001b[39m.\u001b[39;49mfit(x, x)\n",
      "Cell \u001b[1;32mIn[16], line 58\u001b[0m, in \u001b[0;36mVSECA.fit\u001b[1;34m(self, x, y)\u001b[0m\n\u001b[0;32m     56\u001b[0m     y \u001b[39m=\u001b[39m torch\u001b[39m.\u001b[39mtensor(y, dtype\u001b[39m=\u001b[39mtorch\u001b[39m.\u001b[39mfloat32)\u001b[39m.\u001b[39mto(\u001b[39mself\u001b[39m\u001b[39m.\u001b[39mdevice)\n\u001b[0;32m     57\u001b[0m \u001b[39mself\u001b[39m\u001b[39m.\u001b[39mTraining \u001b[39m=\u001b[39m kmk\u001b[39m.\u001b[39mTraining(\u001b[39mself\u001b[39m\u001b[39m.\u001b[39mmodel, x, y, vae_loss\u001b[39m=\u001b[39m\u001b[39mTrue\u001b[39;00m, \u001b[39m*\u001b[39m\u001b[39m*\u001b[39m\u001b[39mself\u001b[39m\u001b[39m.\u001b[39mtraining_params)\n\u001b[1;32m---> 58\u001b[0m \u001b[39mself\u001b[39;49m\u001b[39m.\u001b[39;49mTraining\u001b[39m.\u001b[39;49mtrain()\n\u001b[0;32m     59\u001b[0m \u001b[39mreturn\u001b[39;00m \u001b[39mself\u001b[39m\n",
      "File \u001b[1;32mc:\\Users\\efons\\anaconda3\\envs\\venv\\lib\\site-packages\\kmodels\\utils.py:400\u001b[0m, in \u001b[0;36mTraining.train\u001b[1;34m(self)\u001b[0m\n\u001b[0;32m    398\u001b[0m \u001b[39mself\u001b[39m\u001b[39m.\u001b[39mlosses \u001b[39m=\u001b[39m []\n\u001b[0;32m    399\u001b[0m \u001b[39mfor\u001b[39;00m epoch \u001b[39min\u001b[39;00m \u001b[39mrange\u001b[39m(\u001b[39mself\u001b[39m\u001b[39m.\u001b[39mepochs):\n\u001b[1;32m--> 400\u001b[0m     train_loss \u001b[39m=\u001b[39m \u001b[39mself\u001b[39;49m\u001b[39m.\u001b[39;49mtrain_epoch(epoch)\n\u001b[0;32m    401\u001b[0m     \u001b[39mself\u001b[39m\u001b[39m.\u001b[39mlosses\u001b[39m.\u001b[39mappend(train_loss)\n",
      "File \u001b[1;32mc:\\Users\\efons\\anaconda3\\envs\\venv\\lib\\site-packages\\kmodels\\utils.py:411\u001b[0m, in \u001b[0;36mTraining.train_epoch\u001b[1;34m(self, epoch)\u001b[0m\n\u001b[0;32m    409\u001b[0m \u001b[39mif\u001b[39;00m batch_idx[\u001b[39m-\u001b[39m\u001b[39m1\u001b[39m] \u001b[39m>\u001b[39m \u001b[39mself\u001b[39m\u001b[39m.\u001b[39mX_sample\u001b[39m.\u001b[39mshape[\u001b[39m0\u001b[39m]:\n\u001b[0;32m    410\u001b[0m     batch_idx \u001b[39m=\u001b[39m np\u001b[39m.\u001b[39marange(batch_idx[\u001b[39m0\u001b[39m], \u001b[39mself\u001b[39m\u001b[39m.\u001b[39mX_sample\u001b[39m.\u001b[39mshape[\u001b[39m0\u001b[39m])\n\u001b[1;32m--> 411\u001b[0m recon_batch, mu, logvar \u001b[39m=\u001b[39m \u001b[39mself\u001b[39;49m\u001b[39m.\u001b[39;49mmodel(data)\n\u001b[0;32m    412\u001b[0m loss \u001b[39m=\u001b[39m \u001b[39mself\u001b[39m\u001b[39m.\u001b[39mvae_loss(recon_batch, data, mu, logvar)\n\u001b[0;32m    413\u001b[0m loss \u001b[39m+\u001b[39m\u001b[39m=\u001b[39m \u001b[39mself\u001b[39m\u001b[39m.\u001b[39mcompute_additional_losses(recon_batch, data, batch_idx)\n",
      "File \u001b[1;32mc:\\Users\\efons\\anaconda3\\envs\\venv\\lib\\site-packages\\torch\\nn\\modules\\module.py:1190\u001b[0m, in \u001b[0;36mModule._call_impl\u001b[1;34m(self, *input, **kwargs)\u001b[0m\n\u001b[0;32m   1186\u001b[0m \u001b[39m# If we don't have any hooks, we want to skip the rest of the logic in\u001b[39;00m\n\u001b[0;32m   1187\u001b[0m \u001b[39m# this function, and just call forward.\u001b[39;00m\n\u001b[0;32m   1188\u001b[0m \u001b[39mif\u001b[39;00m \u001b[39mnot\u001b[39;00m (\u001b[39mself\u001b[39m\u001b[39m.\u001b[39m_backward_hooks \u001b[39mor\u001b[39;00m \u001b[39mself\u001b[39m\u001b[39m.\u001b[39m_forward_hooks \u001b[39mor\u001b[39;00m \u001b[39mself\u001b[39m\u001b[39m.\u001b[39m_forward_pre_hooks \u001b[39mor\u001b[39;00m _global_backward_hooks\n\u001b[0;32m   1189\u001b[0m         \u001b[39mor\u001b[39;00m _global_forward_hooks \u001b[39mor\u001b[39;00m _global_forward_pre_hooks):\n\u001b[1;32m-> 1190\u001b[0m     \u001b[39mreturn\u001b[39;00m forward_call(\u001b[39m*\u001b[39m\u001b[39minput\u001b[39m, \u001b[39m*\u001b[39m\u001b[39m*\u001b[39mkwargs)\n\u001b[0;32m   1191\u001b[0m \u001b[39m# Do not call functions when jit is used\u001b[39;00m\n\u001b[0;32m   1192\u001b[0m full_backward_hooks, non_full_backward_hooks \u001b[39m=\u001b[39m [], []\n",
      "File \u001b[1;32mc:\\Users\\efons\\anaconda3\\envs\\venv\\lib\\site-packages\\kmodels\\kmodels.py:191\u001b[0m, in \u001b[0;36mVAE.forward\u001b[1;34m(self, x)\u001b[0m\n\u001b[0;32m    190\u001b[0m \u001b[39mdef\u001b[39;00m \u001b[39mforward\u001b[39m(\u001b[39mself\u001b[39m, x):\n\u001b[1;32m--> 191\u001b[0m     mu, logvar \u001b[39m=\u001b[39m \u001b[39mself\u001b[39;49m\u001b[39m.\u001b[39;49mencode(x\u001b[39m.\u001b[39;49mview(\u001b[39m-\u001b[39;49m\u001b[39m1\u001b[39;49m, \u001b[39mself\u001b[39;49m\u001b[39m.\u001b[39;49minput_dim))\n\u001b[0;32m    192\u001b[0m     z \u001b[39m=\u001b[39m \u001b[39mself\u001b[39m\u001b[39m.\u001b[39mreparameterize(mu, logvar)\n\u001b[0;32m    193\u001b[0m     \u001b[39mreturn\u001b[39;00m \u001b[39mself\u001b[39m\u001b[39m.\u001b[39mdecode(z), mu, logvar\n",
      "File \u001b[1;32mc:\\Users\\efons\\anaconda3\\envs\\venv\\lib\\site-packages\\kmodels\\kmodels.py:171\u001b[0m, in \u001b[0;36mVAE.encode\u001b[1;34m(self, x)\u001b[0m\n\u001b[0;32m    170\u001b[0m \u001b[39mdef\u001b[39;00m \u001b[39mencode\u001b[39m(\u001b[39mself\u001b[39m, x):\n\u001b[1;32m--> 171\u001b[0m     x \u001b[39m=\u001b[39m F\u001b[39m.\u001b[39mrelu(\u001b[39mself\u001b[39;49m\u001b[39m.\u001b[39;49mfc1(x))\n\u001b[0;32m    172\u001b[0m     \u001b[39mfor\u001b[39;00m layer \u001b[39min\u001b[39;00m \u001b[39mself\u001b[39m\u001b[39m.\u001b[39mencoder_layers:\n\u001b[0;32m    173\u001b[0m         x \u001b[39m=\u001b[39m F\u001b[39m.\u001b[39mrelu(layer(x))\n",
      "File \u001b[1;32mc:\\Users\\efons\\anaconda3\\envs\\venv\\lib\\site-packages\\torch\\nn\\modules\\module.py:1190\u001b[0m, in \u001b[0;36mModule._call_impl\u001b[1;34m(self, *input, **kwargs)\u001b[0m\n\u001b[0;32m   1186\u001b[0m \u001b[39m# If we don't have any hooks, we want to skip the rest of the logic in\u001b[39;00m\n\u001b[0;32m   1187\u001b[0m \u001b[39m# this function, and just call forward.\u001b[39;00m\n\u001b[0;32m   1188\u001b[0m \u001b[39mif\u001b[39;00m \u001b[39mnot\u001b[39;00m (\u001b[39mself\u001b[39m\u001b[39m.\u001b[39m_backward_hooks \u001b[39mor\u001b[39;00m \u001b[39mself\u001b[39m\u001b[39m.\u001b[39m_forward_hooks \u001b[39mor\u001b[39;00m \u001b[39mself\u001b[39m\u001b[39m.\u001b[39m_forward_pre_hooks \u001b[39mor\u001b[39;00m _global_backward_hooks\n\u001b[0;32m   1189\u001b[0m         \u001b[39mor\u001b[39;00m _global_forward_hooks \u001b[39mor\u001b[39;00m _global_forward_pre_hooks):\n\u001b[1;32m-> 1190\u001b[0m     \u001b[39mreturn\u001b[39;00m forward_call(\u001b[39m*\u001b[39m\u001b[39minput\u001b[39m, \u001b[39m*\u001b[39m\u001b[39m*\u001b[39mkwargs)\n\u001b[0;32m   1191\u001b[0m \u001b[39m# Do not call functions when jit is used\u001b[39;00m\n\u001b[0;32m   1192\u001b[0m full_backward_hooks, non_full_backward_hooks \u001b[39m=\u001b[39m [], []\n",
      "File \u001b[1;32mc:\\Users\\efons\\anaconda3\\envs\\venv\\lib\\site-packages\\torch\\nn\\modules\\linear.py:114\u001b[0m, in \u001b[0;36mLinear.forward\u001b[1;34m(self, input)\u001b[0m\n\u001b[0;32m    113\u001b[0m \u001b[39mdef\u001b[39;00m \u001b[39mforward\u001b[39m(\u001b[39mself\u001b[39m, \u001b[39minput\u001b[39m: Tensor) \u001b[39m-\u001b[39m\u001b[39m>\u001b[39m Tensor:\n\u001b[1;32m--> 114\u001b[0m     \u001b[39mreturn\u001b[39;00m F\u001b[39m.\u001b[39;49mlinear(\u001b[39minput\u001b[39;49m, \u001b[39mself\u001b[39;49m\u001b[39m.\u001b[39;49mweight, \u001b[39mself\u001b[39;49m\u001b[39m.\u001b[39;49mbias)\n",
      "\u001b[1;31mKeyboardInterrupt\u001b[0m: "
     ]
    }
   ],
   "source": [
    "v = VSECA(lr_init=5e-4, epochs=10001, hidden_dim=100, n_layers=5, batch_size=100, \n",
    "          latent_dim=2, y=y, device='cuda', reg_factor=0, beta=0, gamma=0,\n",
    "          scheduler=True)\n",
    "v.fit(x, x)"
   ]
  },
  {
   "cell_type": "code",
   "execution_count": 18,
   "metadata": {},
   "outputs": [
    {
     "data": {
      "text/plain": [
       "(-0.12084625826365902,\n",
       " Adam (\n",
       " Parameter Group 0\n",
       "     amsgrad: False\n",
       "     betas: (0.9, 0.999)\n",
       "     capturable: False\n",
       "     differentiable: False\n",
       "     eps: 1e-08\n",
       "     foreach: None\n",
       "     fused: False\n",
       "     lr: 0.0005\n",
       "     maximize: False\n",
       "     weight_decay: 0\n",
       " ))"
      ]
     },
     "execution_count": 18,
     "metadata": {},
     "output_type": "execute_result"
    },
    {
     "data": {
      "image/png": "[encoded data removed]",
      "text/plain": [
       "<Figure size 640x480 with 1 Axes>"
      ]
     },
     "metadata": {},
     "output_type": "display_data"
    }
   ],
   "source": [
    "# plot the loss curves\n",
    "plt.plot(v.Training.losses, label='loss')\n",
    "v.score(x, x), v.Training.optimizer"
   ]
  },
  {
   "cell_type": "code",
   "execution_count": 19,
   "metadata": {},
   "outputs": [
    {
     "data": {
      "text/plain": [
       "<matplotlib.collections.PathCollection at 0x27bed97c250>"
      ]
     },
     "execution_count": 19,
     "metadata": {},
     "output_type": "execute_result"
    },
    {
     "data": {
      "image/png": "[encoded data removed]",
      "text/plain": [
       "<Figure size 640x480 with 1 Axes>"
      ]
     },
     "metadata": {},
     "output_type": "display_data"
    }
   ],
   "source": [
    "# parity plot\n",
    "plt.scatter(x[0:plot_points], v.predict(x[0:plot_points]), alpha=0.1, edgecolor='k')"
   ]
  },
  {
   "cell_type": "code",
   "execution_count": 20,
   "metadata": {},
   "outputs": [
    {
     "data": {
      "text/plain": [
       "<matplotlib.collections.PathCollection at 0x27bed9c74f0>"
      ]
     },
     "execution_count": 20,
     "metadata": {},
     "output_type": "execute_result"
    },
    {
     "data": {
      "image/png": "[encoded data removed]",
      "text/plain": [
       "<Figure size 640x480 with 1 Axes>"
      ]
     },
     "metadata": {},
     "output_type": "display_data"
    }
   ],
   "source": [
    "from sklearn.linear_model import LinearRegression\n",
    "reg = LinearRegression()\n",
    "z = v.model.encode(x)[0].detach().cpu().numpy()\n",
    "reg.fit(z, y)\n",
    "pred = reg.predict(z)\n",
    "pred.shape,y.shape\n",
    "plt.scatter(y, pred, alpha=0.1, edgecolor='k')"
   ]
  },
  {
   "cell_type": "code",
   "execution_count": 21,
   "metadata": {},
   "outputs": [
    {
     "data": {
      "text/plain": [
       "<matplotlib.collections.PathCollection at 0x27beda41960>"
      ]
     },
     "execution_count": 21,
     "metadata": {},
     "output_type": "execute_result"
    },
    {
     "data": {
      "image/png": "[encoded data removed]",
      "text/plain": [
       "<Figure size 640x480 with 1 Axes>"
      ]
     },
     "metadata": {},
     "output_type": "display_data"
    }
   ],
   "source": [
    "# latent space\n",
    "plt.scatter(v.model.encode(x[0:plot_points])[0][:,0].detach().cpu().numpy(), v.model.encode(x[0:plot_points])[0][:,1].detach().cpu().numpy(), alpha=0.1, edgecolor='k')"
   ]
  },
  {
   "cell_type": "code",
   "execution_count": 22,
   "metadata": {},
   "outputs": [
    {
     "data": {
      "application/vnd.plotly.v1+json": {
       "config": {
        "plotlyServerURL": "https://plot.ly"
       },
       "data": [
        {
         "coloraxis": "coloraxis",
         "hovertemplate": "x: %{x}<br>y: %{y}<br>color: %{z}<extra></extra>",
         "name": "0",
         "type": "heatmap",
         "xaxis": "x",
         "yaxis": "y",
         "z": [
          [
           0.24267536401748657,
           0.27790239453315735,
           0.24260631203651428,
           0.23681597411632538
          ],
          [
           0.24096336960792542,
           0.27791059017181396,
           0.24371269345283508,
           0.23741334676742554
          ],
          [
           0.2415156364440918,
           0.2765020728111267,
           0.24491149187088013,
           0.23707090318202972
          ],
          [
           0.24157044291496277,
           0.276904821395874,
           0.24430705606937408,
           0.23721759021282196
          ],
          [
           0.24152438342571259,
           0.27637365460395813,
           0.24508270621299744,
           0.23701925575733185
          ],
          [
           0.24140994250774384,
           0.277989000082016,
           0.2438068389892578,
           0.23679421842098236
          ],
          [
           0.2419271618127823,
           0.2775994837284088,
           0.24344366788864136,
           0.23702967166900635
          ],
          [
           0.24144966900348663,
           0.27644169330596924,
           0.24499008059501648,
           0.23711846768856049
          ],
          [
           0.24140514433383942,
           0.2774057984352112,
           0.24401725828647614,
           0.23717175424098969
          ],
          [
           0.24138353765010834,
           0.2768019735813141,
           0.24459876120090485,
           0.23721568286418915
          ],
          [
           0.2414596974849701,
           0.2765704393386841,
           0.24481667578220367,
           0.23715321719646454
          ],
          [
           0.241935133934021,
           0.2772790491580963,
           0.24386490881443024,
           0.23692086338996887
          ],
          [
           0.2414788156747818,
           0.2764463722705841,
           0.2449820190668106,
           0.2370927482843399
          ],
          [
           0.24097473919391632,
           0.27779802680015564,
           0.24384191632270813,
           0.2373853176832199
          ],
          [
           0.24119029939174652,
           0.2773060202598572,
           0.24427804350852966,
           0.23722568154335022
          ],
          [
           0.24147936701774597,
           0.27704495191574097,
           0.24436672031879425,
           0.2371089607477188
          ],
          [
           0.2416396141052246,
           0.2761533856391907,
           0.24535726010799408,
           0.23684966564178467
          ],
          [
           0.2414315789937973,
           0.2766789495944977,
           0.24467696249485016,
           0.23721250891685486
          ],
          [
           0.24207386374473572,
           0.2779867351055145,
           0.24300386011600494,
           0.23693551123142242
          ],
          [
           0.24153004586696625,
           0.2763724625110626,
           0.24506451189517975,
           0.2370329648256302
          ],
          [
           0.2422625720500946,
           0.277405709028244,
           0.24353477358818054,
           0.23679693043231964
          ],
          [
           0.24145929515361786,
           0.2768325209617615,
           0.24445965886116028,
           0.23724845051765442
          ],
          [
           0.2420756071805954,
           0.27801069617271423,
           0.24298876523971558,
           0.2369249314069748
          ],
          [
           0.241158127784729,
           0.27741849422454834,
           0.24416089057922363,
           0.23726250231266022
          ],
          [
           0.24091193079948425,
           0.27732786536216736,
           0.2441389560699463,
           0.2376212775707245
          ],
          [
           0.2413627654314041,
           0.2765280306339264,
           0.2451690137386322,
           0.23694023489952087
          ],
          [
           0.24110716581344604,
           0.2783605754375458,
           0.24322190880775452,
           0.23731034994125366
          ],
          [
           0.24093268811702728,
           0.278691828250885,
           0.24308757483959198,
           0.23728787899017334
          ],
          [
           0.24107849597930908,
           0.27741342782974243,
           0.2442162185907364,
           0.23729191720485687
          ],
          [
           0.24112384021282196,
           0.27714574337005615,
           0.2444317787885666,
           0.2372986376285553
          ],
          [
           0.2420741319656372,
           0.27776288986206055,
           0.2431916445493698,
           0.23697127401828766
          ],
          [
           0.24147291481494904,
           0.2767077386379242,
           0.244638592004776,
           0.23718073964118958
          ],
          [
           0.2410215586423874,
           0.2779860496520996,
           0.2435930371284485,
           0.2373993843793869
          ],
          [
           0.24099795520305634,
           0.27828076481819153,
           0.24335642158985138,
           0.23736490309238434
          ],
          [
           0.24148716032505035,
           0.2765667736530304,
           0.2448597401380539,
           0.23708628118038177
          ],
          [
           0.24189119040966034,
           0.2778170704841614,
           0.24329224228858948,
           0.2369995266199112
          ],
          [
           0.24090030789375305,
           0.2774050235748291,
           0.24410535395145416,
           0.23758931457996368
          ],
          [
           0.2420158088207245,
           0.27771157026290894,
           0.2432800829410553,
           0.2369925081729889
          ],
          [
           0.24221453070640564,
           0.2779582142829895,
           0.24292398989200592,
           0.23690329492092133
          ],
          [
           0.24164104461669922,
           0.27730199694633484,
           0.24397455155849457,
           0.23708243668079376
          ],
          [
           0.24139457941055298,
           0.2767302691936493,
           0.24464067816734314,
           0.23723454773426056
          ],
          [
           0.24146994948387146,
           0.27706292271614075,
           0.24435344338417053,
           0.23711372911930084
          ],
          [
           0.24170909821987152,
           0.27789944410324097,
           0.2435908019542694,
           0.2368006557226181
          ],
          [
           0.24105291068553925,
           0.2779931128025055,
           0.24358850717544556,
           0.2373654991388321
          ],
          [
           0.24141906201839447,
           0.2766571044921875,
           0.24475054442882538,
           0.23717325925827026
          ],
          [
           0.2412637621164322,
           0.27832144498825073,
           0.2432490885257721,
           0.23716574907302856
          ],
          [
           0.24104884266853333,
           0.27668312191963196,
           0.24455872178077698,
           0.23770923912525177
          ],
          [
           0.2414458841085434,
           0.27647197246551514,
           0.2448858767747879,
           0.23719628155231476
          ],
          [
           0.2417541742324829,
           0.27741092443466187,
           0.24378140270709991,
           0.2370534986257553
          ],
          [
           0.24243809282779694,
           0.27748796343803406,
           0.24333041906356812,
           0.2367435097694397
          ],
          [
           0.2411765456199646,
           0.2781701385974884,
           0.24341808259487152,
           0.2372352033853531
          ],
          [
           0.24181535840034485,
           0.27727437019348145,
           0.24390751123428345,
           0.23700274527072906
          ],
          [
           0.2413661777973175,
           0.27767741680145264,
           0.24381984770298004,
           0.23713655769824982
          ],
          [
           0.24194902181625366,
           0.27760690450668335,
           0.2434254288673401,
           0.23701858520507812
          ],
          [
           0.2425331026315689,
           0.27753791213035583,
           0.24320591986179352,
           0.23672308027744293
          ],
          [
           0.24111059308052063,
           0.2773018479347229,
           0.24435138702392578,
           0.2372361421585083
          ],
          [
           0.24148960411548615,
           0.2771953344345093,
           0.24432975053787231,
           0.23698532581329346
          ],
          [
           0.24130772054195404,
           0.2777554988861084,
           0.24402201175689697,
           0.2369147539138794
          ],
          [
           0.24148574471473694,
           0.27671942114830017,
           0.2446584552526474,
           0.2371363490819931
          ],
          [
           0.24120277166366577,
           0.27652597427368164,
           0.24489673972129822,
           0.2373744398355484
          ],
          [
           0.2414800077676773,
           0.27666154503822327,
           0.24474072456359863,
           0.237117737531662
          ],
          [
           0.2411162555217743,
           0.2785080075263977,
           0.24306876957416534,
           0.23730702698230743
          ],
          [
           0.2409711480140686,
           0.2778785526752472,
           0.24374786019325256,
           0.23740245401859283
          ],
          [
           0.2414502054452896,
           0.27674388885498047,
           0.2445450872182846,
           0.2372608333826065
          ],
          [
           0.24194380640983582,
           0.27710604667663574,
           0.24396350979804993,
           0.23698663711547852
          ],
          [
           0.24092349410057068,
           0.277888685464859,
           0.24375668168067932,
           0.23743107914924622
          ],
          [
           0.24227285385131836,
           0.2781275808811188,
           0.2428615689277649,
           0.23673796653747559
          ],
          [
           0.24195367097854614,
           0.27756255865097046,
           0.2436501681804657,
           0.23683364689350128
          ],
          [
           0.2413668930530548,
           0.2769053876399994,
           0.24462401866912842,
           0.2371036857366562
          ],
          [
           0.24180753529071808,
           0.2772558331489563,
           0.24394333362579346,
           0.23699332773685455
          ],
          [
           0.24145841598510742,
           0.27669721841812134,
           0.24461613595485687,
           0.23722821474075317
          ],
          [
           0.24131953716278076,
           0.276902973651886,
           0.2446211725473404,
           0.23715633153915405
          ],
          [
           0.2414359301328659,
           0.2767685055732727,
           0.2446673959493637,
           0.23712822794914246
          ],
          [
           0.24152429401874542,
           0.2764497697353363,
           0.2449544072151184,
           0.23707152903079987
          ],
          [
           0.24171070754528046,
           0.2768283188343048,
           0.24426954984664917,
           0.23719145357608795
          ],
          [
           0.24160991609096527,
           0.27684399485588074,
           0.24431806802749634,
           0.2372279167175293
          ],
          [
           0.2414260059595108,
           0.2767651081085205,
           0.24470369517803192,
           0.23710526525974274
          ],
          [
           0.24149897694587708,
           0.2766924202442169,
           0.24454833567142487,
           0.23726023733615875
          ],
          [
           0.2408391684293747,
           0.2776887118816376,
           0.24396318197250366,
           0.23750901222229004
          ],
          [
           0.24106591939926147,
           0.2781558632850647,
           0.24340805411338806,
           0.23737019300460815
          ],
          [
           0.24092212319374084,
           0.2771657705307007,
           0.24422331154346466,
           0.23768875002861023
          ],
          [
           0.241298109292984,
           0.2764686644077301,
           0.2448895275592804,
           0.2373436838388443
          ],
          [
           0.24141927063465118,
           0.27673688530921936,
           0.24459552764892578,
           0.23724830150604248
          ],
          [
           0.24145838618278503,
           0.2767487168312073,
           0.24452829360961914,
           0.23726458847522736
          ],
          [
           0.24291551113128662,
           0.2779342532157898,
           0.24239355325698853,
           0.23675669729709625
          ],
          [
           0.24146388471126556,
           0.2766810953617096,
           0.24472646415233612,
           0.23712851107120514
          ],
          [
           0.24112984538078308,
           0.27768683433532715,
           0.24386318027973175,
           0.23732009530067444
          ],
          [
           0.24202744662761688,
           0.27721667289733887,
           0.24381473660469055,
           0.23694105446338654
          ],
          [
           0.24143728613853455,
           0.27663031220436096,
           0.24479547142982483,
           0.23713698983192444
          ],
          [
           0.24185439944267273,
           0.2769875228404999,
           0.24409468472003937,
           0.23706340789794922
          ],
          [
           0.24163955450057983,
           0.2773023843765259,
           0.2439740002155304,
           0.2370840609073639
          ],
          [
           0.24167171120643616,
           0.27733007073402405,
           0.2439010888338089,
           0.2370970994234085
          ],
          [
           0.2410220503807068,
           0.2773362696170807,
           0.24424442648887634,
           0.2373972237110138
          ],
          [
           0.24150431156158447,
           0.2765072286128998,
           0.24486231803894043,
           0.23712614178657532
          ],
          [
           0.24105015397071838,
           0.2770903706550598,
           0.2443573772907257,
           0.23750217258930206
          ],
          [
           0.24130655825138092,
           0.27735435962677,
           0.24412189424037933,
           0.23721720278263092
          ],
          [
           0.24146056175231934,
           0.2766995429992676,
           0.2446012943983078,
           0.2372385859489441
          ],
          [
           0.24146732687950134,
           0.2767259478569031,
           0.2446184754371643,
           0.23718824982643127
          ],
          [
           0.24194926023483276,
           0.27713608741760254,
           0.24392595887184143,
           0.23698873817920685
          ],
          [
           0.24216464161872864,
           0.27792710065841675,
           0.24298031628131866,
           0.23692797124385834
          ]
         ]
        }
       ],
       "layout": {
        "coloraxis": {
         "colorscale": [
          [
           0,
           "#0d0887"
          ],
          [
           0.1111111111111111,
           "#46039f"
          ],
          [
           0.2222222222222222,
           "#7201a8"
          ],
          [
           0.3333333333333333,
           "#9c179e"
          ],
          [
           0.4444444444444444,
           "#bd3786"
          ],
          [
           0.5555555555555556,
           "#d8576b"
          ],
          [
           0.6666666666666666,
           "#ed7953"
          ],
          [
           0.7777777777777778,
           "#fb9f3a"
          ],
          [
           0.8888888888888888,
           "#fdca26"
          ],
          [
           1,
           "#f0f921"
          ]
         ]
        },
        "height": 500,
        "margin": {
         "t": 60
        },
        "template": {
         "data": {
          "bar": [
           {
            "error_x": {
             "color": "#2a3f5f"
            },
            "error_y": {
             "color": "#2a3f5f"
            },
            "marker": {
             "line": {
              "color": "#E5ECF6",
              "width": 0.5
             },
             "pattern": {
              "fillmode": "overlay",
              "size": 10,
              "solidity": 0.2
             }
            },
            "type": "bar"
           }
          ],
          "barpolar": [
           {
            "marker": {
             "line": {
              "color": "#E5ECF6",
              "width": 0.5
             },
             "pattern": {
              "fillmode": "overlay",
              "size": 10,
              "solidity": 0.2
             }
            },
            "type": "barpolar"
           }
          ],
          "carpet": [
           {
            "aaxis": {
             "endlinecolor": "#2a3f5f",
             "gridcolor": "white",
             "linecolor": "white",
             "minorgridcolor": "white",
             "startlinecolor": "#2a3f5f"
            },
            "baxis": {
             "endlinecolor": "#2a3f5f",
             "gridcolor": "white",
             "linecolor": "white",
             "minorgridcolor": "white",
             "startlinecolor": "#2a3f5f"
            },
            "type": "carpet"
           }
          ],
          "choropleth": [
           {
            "colorbar": {
             "outlinewidth": 0,
             "ticks": ""
            },
            "type": "choropleth"
           }
          ],
          "contour": [
           {
            "colorbar": {
             "outlinewidth": 0,
             "ticks": ""
            },
            "colorscale": [
             [
              0,
              "#0d0887"
             ],
             [
              0.1111111111111111,
              "#46039f"
             ],
             [
              0.2222222222222222,
              "#7201a8"
             ],
             [
              0.3333333333333333,
              "#9c179e"
             ],
             [
              0.4444444444444444,
              "#bd3786"
             ],
             [
              0.5555555555555556,
              "#d8576b"
             ],
             [
              0.6666666666666666,
              "#ed7953"
             ],
             [
              0.7777777777777778,
              "#fb9f3a"
             ],
             [
              0.8888888888888888,
              "#fdca26"
             ],
             [
              1,
              "#f0f921"
             ]
            ],
            "type": "contour"
           }
          ],
          "contourcarpet": [
           {
            "colorbar": {
             "outlinewidth": 0,
             "ticks": ""
            },
            "type": "contourcarpet"
           }
          ],
          "heatmap": [
           {
            "colorbar": {
             "outlinewidth": 0,
             "ticks": ""
            },
            "colorscale": [
             [
              0,
              "#0d0887"
             ],
             [
              0.1111111111111111,
              "#46039f"
             ],
             [
              0.2222222222222222,
              "#7201a8"
             ],
             [
              0.3333333333333333,
              "#9c179e"
             ],
             [
              0.4444444444444444,
              "#bd3786"
             ],
             [
              0.5555555555555556,
              "#d8576b"
             ],
             [
              0.6666666666666666,
              "#ed7953"
             ],
             [
              0.7777777777777778,
              "#fb9f3a"
             ],
             [
              0.8888888888888888,
              "#fdca26"
             ],
             [
              1,
              "#f0f921"
             ]
            ],
            "type": "heatmap"
           }
          ],
          "heatmapgl": [
           {
            "colorbar": {
             "outlinewidth": 0,
             "ticks": ""
            },
            "colorscale": [
             [
              0,
              "#0d0887"
             ],
             [
              0.1111111111111111,
              "#46039f"
             ],
             [
              0.2222222222222222,
              "#7201a8"
             ],
             [
              0.3333333333333333,
              "#9c179e"
             ],
             [
              0.4444444444444444,
              "#bd3786"
             ],
             [
              0.5555555555555556,
              "#d8576b"
             ],
             [
              0.6666666666666666,
              "#ed7953"
             ],
             [
              0.7777777777777778,
              "#fb9f3a"
             ],
             [
              0.8888888888888888,
              "#fdca26"
             ],
             [
              1,
              "#f0f921"
             ]
            ],
            "type": "heatmapgl"
           }
          ],
          "histogram": [
           {
            "marker": {
             "pattern": {
              "fillmode": "overlay",
              "size": 10,
              "solidity": 0.2
             }
            },
            "type": "histogram"
           }
          ],
          "histogram2d": [
           {
            "colorbar": {
             "outlinewidth": 0,
             "ticks": ""
            },
            "colorscale": [
             [
              0,
              "#0d0887"
             ],
             [
              0.1111111111111111,
              "#46039f"
             ],
             [
              0.2222222222222222,
              "#7201a8"
             ],
             [
              0.3333333333333333,
              "#9c179e"
             ],
             [
              0.4444444444444444,
              "#bd3786"
             ],
             [
              0.5555555555555556,
              "#d8576b"
             ],
             [
              0.6666666666666666,
              "#ed7953"
             ],
             [
              0.7777777777777778,
              "#fb9f3a"
             ],
             [
              0.8888888888888888,
              "#fdca26"
             ],
             [
              1,
              "#f0f921"
             ]
            ],
            "type": "histogram2d"
           }
          ],
          "histogram2dcontour": [
           {
            "colorbar": {
             "outlinewidth": 0,
             "ticks": ""
            },
            "colorscale": [
             [
              0,
              "#0d0887"
             ],
             [
              0.1111111111111111,
              "#46039f"
             ],
             [
              0.2222222222222222,
              "#7201a8"
             ],
             [
              0.3333333333333333,
              "#9c179e"
             ],
             [
              0.4444444444444444,
              "#bd3786"
             ],
             [
              0.5555555555555556,
              "#d8576b"
             ],
             [
              0.6666666666666666,
              "#ed7953"
             ],
             [
              0.7777777777777778,
              "#fb9f3a"
             ],
             [
              0.8888888888888888,
              "#fdca26"
             ],
             [
              1,
              "#f0f921"
             ]
            ],
            "type": "histogram2dcontour"
           }
          ],
          "mesh3d": [
           {
            "colorbar": {
             "outlinewidth": 0,
             "ticks": ""
            },
            "type": "mesh3d"
           }
          ],
          "parcoords": [
           {
            "line": {
             "colorbar": {
              "outlinewidth": 0,
              "ticks": ""
             }
            },
            "type": "parcoords"
           }
          ],
          "pie": [
           {
            "automargin": true,
            "type": "pie"
           }
          ],
          "scatter": [
           {
            "fillpattern": {
             "fillmode": "overlay",
             "size": 10,
             "solidity": 0.2
            },
            "type": "scatter"
           }
          ],
          "scatter3d": [
           {
            "line": {
             "colorbar": {
              "outlinewidth": 0,
              "ticks": ""
             }
            },
            "marker": {
             "colorbar": {
              "outlinewidth": 0,
              "ticks": ""
             }
            },
            "type": "scatter3d"
           }
          ],
          "scattercarpet": [
           {
            "marker": {
             "colorbar": {
              "outlinewidth": 0,
              "ticks": ""
             }
            },
            "type": "scattercarpet"
           }
          ],
          "scattergeo": [
           {
            "marker": {
             "colorbar": {
              "outlinewidth": 0,
              "ticks": ""
             }
            },
            "type": "scattergeo"
           }
          ],
          "scattergl": [
           {
            "marker": {
             "colorbar": {
              "outlinewidth": 0,
              "ticks": ""
             }
            },
            "type": "scattergl"
           }
          ],
          "scattermapbox": [
           {
            "marker": {
             "colorbar": {
              "outlinewidth": 0,
              "ticks": ""
             }
            },
            "type": "scattermapbox"
           }
          ],
          "scatterpolar": [
           {
            "marker": {
             "colorbar": {
              "outlinewidth": 0,
              "ticks": ""
             }
            },
            "type": "scatterpolar"
           }
          ],
          "scatterpolargl": [
           {
            "marker": {
             "colorbar": {
              "outlinewidth": 0,
              "ticks": ""
             }
            },
            "type": "scatterpolargl"
           }
          ],
          "scatterternary": [
           {
            "marker": {
             "colorbar": {
              "outlinewidth": 0,
              "ticks": ""
             }
            },
            "type": "scatterternary"
           }
          ],
          "surface": [
           {
            "colorbar": {
             "outlinewidth": 0,
             "ticks": ""
            },
            "colorscale": [
             [
              0,
              "#0d0887"
             ],
             [
              0.1111111111111111,
              "#46039f"
             ],
             [
              0.2222222222222222,
              "#7201a8"
             ],
             [
              0.3333333333333333,
              "#9c179e"
             ],
             [
              0.4444444444444444,
              "#bd3786"
             ],
             [
              0.5555555555555556,
              "#d8576b"
             ],
             [
              0.6666666666666666,
              "#ed7953"
             ],
             [
              0.7777777777777778,
              "#fb9f3a"
             ],
             [
              0.8888888888888888,
              "#fdca26"
             ],
             [
              1,
              "#f0f921"
             ]
            ],
            "type": "surface"
           }
          ],
          "table": [
           {
            "cells": {
             "fill": {
              "color": "#EBF0F8"
             },
             "line": {
              "color": "white"
             }
            },
            "header": {
             "fill": {
              "color": "#C8D4E3"
             },
             "line": {
              "color": "white"
             }
            },
            "type": "table"
           }
          ]
         },
         "layout": {
          "annotationdefaults": {
           "arrowcolor": "#2a3f5f",
           "arrowhead": 0,
           "arrowwidth": 1
          },
          "autotypenumbers": "strict",
          "coloraxis": {
           "colorbar": {
            "outlinewidth": 0,
            "ticks": ""
           }
          },
          "colorscale": {
           "diverging": [
            [
             0,
             "#8e0152"
            ],
            [
             0.1,
             "#c51b7d"
            ],
            [
             0.2,
             "#de77ae"
            ],
            [
             0.3,
             "#f1b6da"
            ],
            [
             0.4,
             "#fde0ef"
            ],
            [
             0.5,
             "#f7f7f7"
            ],
            [
             0.6,
             "#e6f5d0"
            ],
            [
             0.7,
             "#b8e186"
            ],
            [
             0.8,
             "#7fbc41"
            ],
            [
             0.9,
             "#4d9221"
            ],
            [
             1,
             "#276419"
            ]
           ],
           "sequential": [
            [
             0,
             "#0d0887"
            ],
            [
             0.1111111111111111,
             "#46039f"
            ],
            [
             0.2222222222222222,
             "#7201a8"
            ],
            [
             0.3333333333333333,
             "#9c179e"
            ],
            [
             0.4444444444444444,
             "#bd3786"
            ],
            [
             0.5555555555555556,
             "#d8576b"
            ],
            [
             0.6666666666666666,
             "#ed7953"
            ],
            [
             0.7777777777777778,
             "#fb9f3a"
            ],
            [
             0.8888888888888888,
             "#fdca26"
            ],
            [
             1,
             "#f0f921"
            ]
           ],
           "sequentialminus": [
            [
             0,
             "#0d0887"
            ],
            [
             0.1111111111111111,
             "#46039f"
            ],
            [
             0.2222222222222222,
             "#7201a8"
            ],
            [
             0.3333333333333333,
             "#9c179e"
            ],
            [
             0.4444444444444444,
             "#bd3786"
            ],
            [
             0.5555555555555556,
             "#d8576b"
            ],
            [
             0.6666666666666666,
             "#ed7953"
            ],
            [
             0.7777777777777778,
             "#fb9f3a"
            ],
            [
             0.8888888888888888,
             "#fdca26"
            ],
            [
             1,
             "#f0f921"
            ]
           ]
          },
          "colorway": [
           "#636efa",
           "#EF553B",
           "#00cc96",
           "#ab63fa",
           "#FFA15A",
           "#19d3f3",
           "#FF6692",
           "#B6E880",
           "#FF97FF",
           "#FECB52"
          ],
          "font": {
           "color": "#2a3f5f"
          },
          "geo": {
           "bgcolor": "white",
           "lakecolor": "white",
           "landcolor": "#E5ECF6",
           "showlakes": true,
           "showland": true,
           "subunitcolor": "white"
          },
          "hoverlabel": {
           "align": "left"
          },
          "hovermode": "closest",
          "mapbox": {
           "style": "light"
          },
          "paper_bgcolor": "white",
          "plot_bgcolor": "#E5ECF6",
          "polar": {
           "angularaxis": {
            "gridcolor": "white",
            "linecolor": "white",
            "ticks": ""
           },
           "bgcolor": "#E5ECF6",
           "radialaxis": {
            "gridcolor": "white",
            "linecolor": "white",
            "ticks": ""
           }
          },
          "scene": {
           "xaxis": {
            "backgroundcolor": "#E5ECF6",
            "gridcolor": "white",
            "gridwidth": 2,
            "linecolor": "white",
            "showbackground": true,
            "ticks": "",
            "zerolinecolor": "white"
           },
           "yaxis": {
            "backgroundcolor": "#E5ECF6",
            "gridcolor": "white",
            "gridwidth": 2,
            "linecolor": "white",
            "showbackground": true,
            "ticks": "",
            "zerolinecolor": "white"
           },
           "zaxis": {
            "backgroundcolor": "#E5ECF6",
            "gridcolor": "white",
            "gridwidth": 2,
            "linecolor": "white",
            "showbackground": true,
            "ticks": "",
            "zerolinecolor": "white"
           }
          },
          "shapedefaults": {
           "line": {
            "color": "#2a3f5f"
           }
          },
          "ternary": {
           "aaxis": {
            "gridcolor": "white",
            "linecolor": "white",
            "ticks": ""
           },
           "baxis": {
            "gridcolor": "white",
            "linecolor": "white",
            "ticks": ""
           },
           "bgcolor": "#E5ECF6",
           "caxis": {
            "gridcolor": "white",
            "linecolor": "white",
            "ticks": ""
           }
          },
          "title": {
           "x": 0.05
          },
          "xaxis": {
           "automargin": true,
           "gridcolor": "white",
           "linecolor": "white",
           "ticks": "",
           "title": {
            "standoff": 15
           },
           "zerolinecolor": "white",
           "zerolinewidth": 2
          },
          "yaxis": {
           "automargin": true,
           "gridcolor": "white",
           "linecolor": "white",
           "ticks": "",
           "title": {
            "standoff": 15
           },
           "zerolinecolor": "white",
           "zerolinewidth": 2
          }
         }
        },
        "width": 500,
        "xaxis": {
         "anchor": "y",
         "constrain": "domain",
         "domain": [
          0,
          1
         ],
         "scaleanchor": "y"
        },
        "yaxis": {
         "anchor": "x",
         "autorange": "reversed",
         "constrain": "domain",
         "domain": [
          0,
          1
         ]
        }
       }
      }
     },
     "metadata": {},
     "output_type": "display_data"
    }
   ],
   "source": [
    "recon_x, mu, logvar = v.model(x)\n",
    "recon_x = recon_x.detach().cpu().numpy()\n",
    "# plot as a 10x10 image \n",
    "px.imshow(recon_x[:100], width=500, height=500)"
   ]
  },
  {
   "cell_type": "code",
   "execution_count": 23,
   "metadata": {},
   "outputs": [
    {
     "name": "stdout",
     "output_type": "stream",
     "text": [
      "Fitting 5 folds for each of 10 candidates, totalling 50 fits\n"
     ]
    },
    {
     "name": "stderr",
     "output_type": "stream",
     "text": [
      "c:\\Users\\efons\\anaconda3\\envs\\venv\\lib\\site-packages\\kmodels\\utils.py:324: UserWarning:\n",
      "\n",
      "Using a target size (torch.Size([800, 4])) that is different to the input size (torch.Size([100, 4])). This will likely lead to incorrect results due to broadcasting. Please ensure they have the same size.\n",
      "\n",
      "c:\\Users\\efons\\anaconda3\\envs\\venv\\lib\\site-packages\\kmodels\\utils.py:324: UserWarning:\n",
      "\n",
      "Using a target size (torch.Size([800, 4])) that is different to the input size (torch.Size([100, 4])). This will likely lead to incorrect results due to broadcasting. Please ensure they have the same size.\n",
      "\n",
      "c:\\Users\\efons\\anaconda3\\envs\\venv\\lib\\site-packages\\kmodels\\utils.py:324: UserWarning:\n",
      "\n",
      "Using a target size (torch.Size([800, 4])) that is different to the input size (torch.Size([100, 4])). This will likely lead to incorrect results due to broadcasting. Please ensure they have the same size.\n",
      "\n",
      "c:\\Users\\efons\\anaconda3\\envs\\venv\\lib\\site-packages\\kmodels\\utils.py:324: UserWarning:\n",
      "\n",
      "Using a target size (torch.Size([800, 4])) that is different to the input size (torch.Size([100, 4])). This will likely lead to incorrect results due to broadcasting. Please ensure they have the same size.\n",
      "\n",
      "c:\\Users\\efons\\anaconda3\\envs\\venv\\lib\\site-packages\\kmodels\\utils.py:324: UserWarning:\n",
      "\n",
      "Using a target size (torch.Size([800, 4])) that is different to the input size (torch.Size([100, 4])). This will likely lead to incorrect results due to broadcasting. Please ensure they have the same size.\n",
      "\n",
      "c:\\Users\\efons\\anaconda3\\envs\\venv\\lib\\site-packages\\kmodels\\utils.py:324: UserWarning:\n",
      "\n",
      "Using a target size (torch.Size([800, 4])) that is different to the input size (torch.Size([100, 4])). This will likely lead to incorrect results due to broadcasting. Please ensure they have the same size.\n",
      "\n",
      "c:\\Users\\efons\\anaconda3\\envs\\venv\\lib\\site-packages\\kmodels\\utils.py:324: UserWarning:\n",
      "\n",
      "Using a target size (torch.Size([800, 4])) that is different to the input size (torch.Size([100, 4])). This will likely lead to incorrect results due to broadcasting. Please ensure they have the same size.\n",
      "\n",
      "c:\\Users\\efons\\anaconda3\\envs\\venv\\lib\\site-packages\\kmodels\\utils.py:324: UserWarning:\n",
      "\n",
      "Using a target size (torch.Size([800, 4])) that is different to the input size (torch.Size([100, 4])). This will likely lead to incorrect results due to broadcasting. Please ensure they have the same size.\n",
      "\n",
      "c:\\Users\\efons\\anaconda3\\envs\\venv\\lib\\site-packages\\kmodels\\utils.py:324: UserWarning:\n",
      "\n",
      "Using a target size (torch.Size([800, 4])) that is different to the input size (torch.Size([100, 4])). This will likely lead to incorrect results due to broadcasting. Please ensure they have the same size.\n",
      "\n",
      "c:\\Users\\efons\\anaconda3\\envs\\venv\\lib\\site-packages\\kmodels\\utils.py:324: UserWarning:\n",
      "\n",
      "Using a target size (torch.Size([800, 4])) that is different to the input size (torch.Size([100, 4])). This will likely lead to incorrect results due to broadcasting. Please ensure they have the same size.\n",
      "\n",
      "c:\\Users\\efons\\anaconda3\\envs\\venv\\lib\\site-packages\\kmodels\\utils.py:324: UserWarning:\n",
      "\n",
      "Using a target size (torch.Size([800, 4])) that is different to the input size (torch.Size([100, 4])). This will likely lead to incorrect results due to broadcasting. Please ensure they have the same size.\n",
      "\n",
      "c:\\Users\\efons\\anaconda3\\envs\\venv\\lib\\site-packages\\kmodels\\utils.py:324: UserWarning:\n",
      "\n",
      "Using a target size (torch.Size([800, 4])) that is different to the input size (torch.Size([100, 4])). This will likely lead to incorrect results due to broadcasting. Please ensure they have the same size.\n",
      "\n",
      "c:\\Users\\efons\\anaconda3\\envs\\venv\\lib\\site-packages\\kmodels\\utils.py:324: UserWarning:\n",
      "\n",
      "Using a target size (torch.Size([800, 4])) that is different to the input size (torch.Size([100, 4])). This will likely lead to incorrect results due to broadcasting. Please ensure they have the same size.\n",
      "\n",
      "c:\\Users\\efons\\anaconda3\\envs\\venv\\lib\\site-packages\\kmodels\\utils.py:324: UserWarning:\n",
      "\n",
      "Using a target size (torch.Size([800, 4])) that is different to the input size (torch.Size([100, 4])). This will likely lead to incorrect results due to broadcasting. Please ensure they have the same size.\n",
      "\n",
      "c:\\Users\\efons\\anaconda3\\envs\\venv\\lib\\site-packages\\kmodels\\utils.py:324: UserWarning:\n",
      "\n",
      "Using a target size (torch.Size([800, 4])) that is different to the input size (torch.Size([100, 4])). This will likely lead to incorrect results due to broadcasting. Please ensure they have the same size.\n",
      "\n",
      "c:\\Users\\efons\\anaconda3\\envs\\venv\\lib\\site-packages\\kmodels\\utils.py:324: UserWarning:\n",
      "\n",
      "Using a target size (torch.Size([800, 4])) that is different to the input size (torch.Size([100, 4])). This will likely lead to incorrect results due to broadcasting. Please ensure they have the same size.\n",
      "\n",
      "c:\\Users\\efons\\anaconda3\\envs\\venv\\lib\\site-packages\\kmodels\\utils.py:324: UserWarning:\n",
      "\n",
      "Using a target size (torch.Size([800, 4])) that is different to the input size (torch.Size([100, 4])). This will likely lead to incorrect results due to broadcasting. Please ensure they have the same size.\n",
      "\n",
      "c:\\Users\\efons\\anaconda3\\envs\\venv\\lib\\site-packages\\kmodels\\utils.py:324: UserWarning:\n",
      "\n",
      "Using a target size (torch.Size([800, 4])) that is different to the input size (torch.Size([100, 4])). This will likely lead to incorrect results due to broadcasting. Please ensure they have the same size.\n",
      "\n",
      "c:\\Users\\efons\\anaconda3\\envs\\venv\\lib\\site-packages\\kmodels\\utils.py:324: UserWarning:\n",
      "\n",
      "Using a target size (torch.Size([800, 4])) that is different to the input size (torch.Size([100, 4])). This will likely lead to incorrect results due to broadcasting. Please ensure they have the same size.\n",
      "\n",
      "c:\\Users\\efons\\anaconda3\\envs\\venv\\lib\\site-packages\\kmodels\\utils.py:324: UserWarning:\n",
      "\n",
      "Using a target size (torch.Size([800, 4])) that is different to the input size (torch.Size([100, 4])). This will likely lead to incorrect results due to broadcasting. Please ensure they have the same size.\n",
      "\n",
      "c:\\Users\\efons\\anaconda3\\envs\\venv\\lib\\site-packages\\kmodels\\utils.py:324: UserWarning:\n",
      "\n",
      "Using a target size (torch.Size([800, 4])) that is different to the input size (torch.Size([100, 4])). This will likely lead to incorrect results due to broadcasting. Please ensure they have the same size.\n",
      "\n",
      "c:\\Users\\efons\\anaconda3\\envs\\venv\\lib\\site-packages\\kmodels\\utils.py:324: UserWarning:\n",
      "\n",
      "Using a target size (torch.Size([800, 4])) that is different to the input size (torch.Size([100, 4])). This will likely lead to incorrect results due to broadcasting. Please ensure they have the same size.\n",
      "\n",
      "c:\\Users\\efons\\anaconda3\\envs\\venv\\lib\\site-packages\\kmodels\\utils.py:324: UserWarning:\n",
      "\n",
      "Using a target size (torch.Size([800, 4])) that is different to the input size (torch.Size([100, 4])). This will likely lead to incorrect results due to broadcasting. Please ensure they have the same size.\n",
      "\n",
      "c:\\Users\\efons\\anaconda3\\envs\\venv\\lib\\site-packages\\kmodels\\utils.py:324: UserWarning:\n",
      "\n",
      "Using a target size (torch.Size([800, 4])) that is different to the input size (torch.Size([100, 4])). This will likely lead to incorrect results due to broadcasting. Please ensure they have the same size.\n",
      "\n",
      "c:\\Users\\efons\\anaconda3\\envs\\venv\\lib\\site-packages\\kmodels\\utils.py:324: UserWarning:\n",
      "\n",
      "Using a target size (torch.Size([800, 4])) that is different to the input size (torch.Size([100, 4])). This will likely lead to incorrect results due to broadcasting. Please ensure they have the same size.\n",
      "\n",
      "c:\\Users\\efons\\anaconda3\\envs\\venv\\lib\\site-packages\\kmodels\\utils.py:324: UserWarning:\n",
      "\n",
      "Using a target size (torch.Size([800, 4])) that is different to the input size (torch.Size([100, 4])). This will likely lead to incorrect results due to broadcasting. Please ensure they have the same size.\n",
      "\n",
      "c:\\Users\\efons\\anaconda3\\envs\\venv\\lib\\site-packages\\kmodels\\utils.py:324: UserWarning:\n",
      "\n",
      "Using a target size (torch.Size([800, 4])) that is different to the input size (torch.Size([100, 4])). This will likely lead to incorrect results due to broadcasting. Please ensure they have the same size.\n",
      "\n",
      "c:\\Users\\efons\\anaconda3\\envs\\venv\\lib\\site-packages\\kmodels\\utils.py:324: UserWarning:\n",
      "\n",
      "Using a target size (torch.Size([800, 4])) that is different to the input size (torch.Size([100, 4])). This will likely lead to incorrect results due to broadcasting. Please ensure they have the same size.\n",
      "\n",
      "c:\\Users\\efons\\anaconda3\\envs\\venv\\lib\\site-packages\\kmodels\\utils.py:324: UserWarning:\n",
      "\n",
      "Using a target size (torch.Size([800, 4])) that is different to the input size (torch.Size([100, 4])). This will likely lead to incorrect results due to broadcasting. Please ensure they have the same size.\n",
      "\n",
      "c:\\Users\\efons\\anaconda3\\envs\\venv\\lib\\site-packages\\kmodels\\utils.py:324: UserWarning:\n",
      "\n",
      "Using a target size (torch.Size([800, 4])) that is different to the input size (torch.Size([100, 4])). This will likely lead to incorrect results due to broadcasting. Please ensure they have the same size.\n",
      "\n",
      "c:\\Users\\efons\\anaconda3\\envs\\venv\\lib\\site-packages\\kmodels\\utils.py:324: UserWarning:\n",
      "\n",
      "Using a target size (torch.Size([800, 4])) that is different to the input size (torch.Size([100, 4])). This will likely lead to incorrect results due to broadcasting. Please ensure they have the same size.\n",
      "\n",
      "c:\\Users\\efons\\anaconda3\\envs\\venv\\lib\\site-packages\\kmodels\\utils.py:324: UserWarning:\n",
      "\n",
      "Using a target size (torch.Size([800, 4])) that is different to the input size (torch.Size([100, 4])). This will likely lead to incorrect results due to broadcasting. Please ensure they have the same size.\n",
      "\n",
      "c:\\Users\\efons\\anaconda3\\envs\\venv\\lib\\site-packages\\kmodels\\utils.py:324: UserWarning:\n",
      "\n",
      "Using a target size (torch.Size([800, 4])) that is different to the input size (torch.Size([100, 4])). This will likely lead to incorrect results due to broadcasting. Please ensure they have the same size.\n",
      "\n",
      "c:\\Users\\efons\\anaconda3\\envs\\venv\\lib\\site-packages\\kmodels\\utils.py:324: UserWarning:\n",
      "\n",
      "Using a target size (torch.Size([800, 4])) that is different to the input size (torch.Size([100, 4])). This will likely lead to incorrect results due to broadcasting. Please ensure they have the same size.\n",
      "\n",
      "c:\\Users\\efons\\anaconda3\\envs\\venv\\lib\\site-packages\\kmodels\\utils.py:324: UserWarning:\n",
      "\n",
      "Using a target size (torch.Size([800, 4])) that is different to the input size (torch.Size([100, 4])). This will likely lead to incorrect results due to broadcasting. Please ensure they have the same size.\n",
      "\n",
      "c:\\Users\\efons\\anaconda3\\envs\\venv\\lib\\site-packages\\kmodels\\utils.py:324: UserWarning:\n",
      "\n",
      "Using a target size (torch.Size([800, 4])) that is different to the input size (torch.Size([100, 4])). This will likely lead to incorrect results due to broadcasting. Please ensure they have the same size.\n",
      "\n",
      "c:\\Users\\efons\\anaconda3\\envs\\venv\\lib\\site-packages\\kmodels\\utils.py:324: UserWarning:\n",
      "\n",
      "Using a target size (torch.Size([800, 4])) that is different to the input size (torch.Size([100, 4])). This will likely lead to incorrect results due to broadcasting. Please ensure they have the same size.\n",
      "\n",
      "c:\\Users\\efons\\anaconda3\\envs\\venv\\lib\\site-packages\\kmodels\\utils.py:324: UserWarning:\n",
      "\n",
      "Using a target size (torch.Size([800, 4])) that is different to the input size (torch.Size([100, 4])). This will likely lead to incorrect results due to broadcasting. Please ensure they have the same size.\n",
      "\n",
      "c:\\Users\\efons\\anaconda3\\envs\\venv\\lib\\site-packages\\kmodels\\utils.py:324: UserWarning:\n",
      "\n",
      "Using a target size (torch.Size([800, 4])) that is different to the input size (torch.Size([100, 4])). This will likely lead to incorrect results due to broadcasting. Please ensure they have the same size.\n",
      "\n",
      "c:\\Users\\efons\\anaconda3\\envs\\venv\\lib\\site-packages\\kmodels\\utils.py:324: UserWarning:\n",
      "\n",
      "Using a target size (torch.Size([800, 4])) that is different to the input size (torch.Size([100, 4])). This will likely lead to incorrect results due to broadcasting. Please ensure they have the same size.\n",
      "\n",
      "c:\\Users\\efons\\anaconda3\\envs\\venv\\lib\\site-packages\\kmodels\\utils.py:324: UserWarning:\n",
      "\n",
      "Using a target size (torch.Size([800, 4])) that is different to the input size (torch.Size([100, 4])). This will likely lead to incorrect results due to broadcasting. Please ensure they have the same size.\n",
      "\n",
      "c:\\Users\\efons\\anaconda3\\envs\\venv\\lib\\site-packages\\kmodels\\utils.py:324: UserWarning:\n",
      "\n",
      "Using a target size (torch.Size([800, 4])) that is different to the input size (torch.Size([100, 4])). This will likely lead to incorrect results due to broadcasting. Please ensure they have the same size.\n",
      "\n",
      "c:\\Users\\efons\\anaconda3\\envs\\venv\\lib\\site-packages\\kmodels\\utils.py:324: UserWarning:\n",
      "\n",
      "Using a target size (torch.Size([800, 4])) that is different to the input size (torch.Size([100, 4])). This will likely lead to incorrect results due to broadcasting. Please ensure they have the same size.\n",
      "\n",
      "c:\\Users\\efons\\anaconda3\\envs\\venv\\lib\\site-packages\\kmodels\\utils.py:324: UserWarning:\n",
      "\n",
      "Using a target size (torch.Size([800, 4])) that is different to the input size (torch.Size([100, 4])). This will likely lead to incorrect results due to broadcasting. Please ensure they have the same size.\n",
      "\n",
      "c:\\Users\\efons\\anaconda3\\envs\\venv\\lib\\site-packages\\kmodels\\utils.py:324: UserWarning:\n",
      "\n",
      "Using a target size (torch.Size([800, 4])) that is different to the input size (torch.Size([100, 4])). This will likely lead to incorrect results due to broadcasting. Please ensure they have the same size.\n",
      "\n",
      "c:\\Users\\efons\\anaconda3\\envs\\venv\\lib\\site-packages\\kmodels\\utils.py:324: UserWarning:\n",
      "\n",
      "Using a target size (torch.Size([800, 4])) that is different to the input size (torch.Size([100, 4])). This will likely lead to incorrect results due to broadcasting. Please ensure they have the same size.\n",
      "\n",
      "c:\\Users\\efons\\anaconda3\\envs\\venv\\lib\\site-packages\\kmodels\\utils.py:324: UserWarning:\n",
      "\n",
      "Using a target size (torch.Size([800, 4])) that is different to the input size (torch.Size([100, 4])). This will likely lead to incorrect results due to broadcasting. Please ensure they have the same size.\n",
      "\n",
      "c:\\Users\\efons\\anaconda3\\envs\\venv\\lib\\site-packages\\kmodels\\utils.py:324: UserWarning:\n",
      "\n",
      "Using a target size (torch.Size([800, 4])) that is different to the input size (torch.Size([100, 4])). This will likely lead to incorrect results due to broadcasting. Please ensure they have the same size.\n",
      "\n",
      "c:\\Users\\efons\\anaconda3\\envs\\venv\\lib\\site-packages\\kmodels\\utils.py:324: UserWarning:\n",
      "\n",
      "Using a target size (torch.Size([800, 4])) that is different to the input size (torch.Size([100, 4])). This will likely lead to incorrect results due to broadcasting. Please ensure they have the same size.\n",
      "\n",
      "c:\\Users\\efons\\anaconda3\\envs\\venv\\lib\\site-packages\\kmodels\\utils.py:324: UserWarning:\n",
      "\n",
      "Using a target size (torch.Size([800, 4])) that is different to the input size (torch.Size([100, 4])). This will likely lead to incorrect results due to broadcasting. Please ensure they have the same size.\n",
      "\n"
     ]
    },
    {
     "ename": "ValueError",
     "evalue": "\nAll the 50 fits failed.\nIt is very likely that your model is misconfigured.\nYou can try to debug the error by setting error_score='raise'.\n\nBelow are more details about the failures:\n--------------------------------------------------------------------------------\n50 fits failed with the following error:\nTraceback (most recent call last):\n  File \"c:\\Users\\efons\\anaconda3\\envs\\venv\\lib\\site-packages\\sklearn\\model_selection\\_validation.py\", line 686, in _fit_and_score\n    estimator.fit(X_train, y_train, **fit_params)\n  File \"C:\\Users\\efons\\AppData\\Local\\Temp\\ipykernel_19572\\3087644749.py\", line 58, in fit\n    self.Training.train()\n  File \"c:\\Users\\efons\\anaconda3\\envs\\venv\\lib\\site-packages\\kmodels\\utils.py\", line 400, in train\n    train_loss = self.train_epoch(epoch)\n  File \"c:\\Users\\efons\\anaconda3\\envs\\venv\\lib\\site-packages\\kmodels\\utils.py\", line 413, in train_epoch\n    loss += self.compute_additional_losses(recon_batch, data, batch_idx)\n  File \"c:\\Users\\efons\\anaconda3\\envs\\venv\\lib\\site-packages\\kmodels\\utils.py\", line 447, in compute_additional_losses\n    regression_loss = self.regression_loss(z, self.y, batch_idx)\n  File \"c:\\Users\\efons\\anaconda3\\envs\\venv\\lib\\site-packages\\kmodels\\utils.py\", line 324, in __call__\n    self.reg_loss.append(F.mse_loss(torch.from_numpy(y_pred), y))\n  File \"c:\\Users\\efons\\anaconda3\\envs\\venv\\lib\\site-packages\\torch\\nn\\functional.py\", line 3291, in mse_loss\n    expanded_input, expanded_target = torch.broadcast_tensors(input, target)\n  File \"c:\\Users\\efons\\anaconda3\\envs\\venv\\lib\\site-packages\\torch\\functional.py\", line 74, in broadcast_tensors\n    return _VF.broadcast_tensors(tensors)  # type: ignore[attr-defined]\nRuntimeError: The size of tensor a (100) must match the size of tensor b (800) at non-singleton dimension 0\n",
     "output_type": "error",
     "traceback": [
      "\u001b[1;31m---------------------------------------------------------------------------\u001b[0m",
      "\u001b[1;31mValueError\u001b[0m                                Traceback (most recent call last)",
      "Cell \u001b[1;32mIn[23], line 5\u001b[0m\n\u001b[0;32m      3\u001b[0m params \u001b[39m=\u001b[39m {\u001b[39m'\u001b[39m\u001b[39mhidden_dim\u001b[39m\u001b[39m'\u001b[39m:[\u001b[39m50\u001b[39m, \u001b[39m100\u001b[39m, \u001b[39m200\u001b[39m], \u001b[39m'\u001b[39m\u001b[39mlr_init\u001b[39m\u001b[39m'\u001b[39m:[\u001b[39m1e-3\u001b[39m, \u001b[39m1e-4\u001b[39m, \u001b[39m1e-5\u001b[39m], \u001b[39m'\u001b[39m\u001b[39mn_layers\u001b[39m\u001b[39m'\u001b[39m:[\u001b[39m5\u001b[39m, \u001b[39m10\u001b[39m, \u001b[39m20\u001b[39m], \u001b[39m'\u001b[39m\u001b[39mbeta\u001b[39m\u001b[39m'\u001b[39m:[\u001b[39m1\u001b[39m, \u001b[39m10\u001b[39m, \u001b[39m100\u001b[39m], \u001b[39m'\u001b[39m\u001b[39mgamma\u001b[39m\u001b[39m'\u001b[39m:[\u001b[39m1\u001b[39m, \u001b[39m10\u001b[39m, \u001b[39m100\u001b[39m]}\n\u001b[0;32m      4\u001b[0m rand_cv \u001b[39m=\u001b[39m RandomizedSearchCV(VSECA(epochs\u001b[39m=\u001b[39m\u001b[39m101\u001b[39m, device\u001b[39m=\u001b[39m\u001b[39m'\u001b[39m\u001b[39mcuda\u001b[39m\u001b[39m'\u001b[39m), params, n_iter\u001b[39m=\u001b[39m\u001b[39m10\u001b[39m, cv\u001b[39m=\u001b[39m\u001b[39m5\u001b[39m, verbose\u001b[39m=\u001b[39m\u001b[39m1\u001b[39m, n_jobs\u001b[39m=\u001b[39m\u001b[39m1\u001b[39m)\n\u001b[1;32m----> 5\u001b[0m rand_cv\u001b[39m.\u001b[39;49mfit(x, x)\n",
      "File \u001b[1;32mc:\\Users\\efons\\anaconda3\\envs\\venv\\lib\\site-packages\\sklearn\\model_selection\\_search.py:874\u001b[0m, in \u001b[0;36mBaseSearchCV.fit\u001b[1;34m(self, X, y, groups, **fit_params)\u001b[0m\n\u001b[0;32m    868\u001b[0m     results \u001b[39m=\u001b[39m \u001b[39mself\u001b[39m\u001b[39m.\u001b[39m_format_results(\n\u001b[0;32m    869\u001b[0m         all_candidate_params, n_splits, all_out, all_more_results\n\u001b[0;32m    870\u001b[0m     )\n\u001b[0;32m    872\u001b[0m     \u001b[39mreturn\u001b[39;00m results\n\u001b[1;32m--> 874\u001b[0m \u001b[39mself\u001b[39;49m\u001b[39m.\u001b[39;49m_run_search(evaluate_candidates)\n\u001b[0;32m    876\u001b[0m \u001b[39m# multimetric is determined here because in the case of a callable\u001b[39;00m\n\u001b[0;32m    877\u001b[0m \u001b[39m# self.scoring the return type is only known after calling\u001b[39;00m\n\u001b[0;32m    878\u001b[0m first_test_score \u001b[39m=\u001b[39m all_out[\u001b[39m0\u001b[39m][\u001b[39m\"\u001b[39m\u001b[39mtest_scores\u001b[39m\u001b[39m\"\u001b[39m]\n",
      "File \u001b[1;32mc:\\Users\\efons\\anaconda3\\envs\\venv\\lib\\site-packages\\sklearn\\model_selection\\_search.py:1768\u001b[0m, in \u001b[0;36mRandomizedSearchCV._run_search\u001b[1;34m(self, evaluate_candidates)\u001b[0m\n\u001b[0;32m   1766\u001b[0m \u001b[39mdef\u001b[39;00m \u001b[39m_run_search\u001b[39m(\u001b[39mself\u001b[39m, evaluate_candidates):\n\u001b[0;32m   1767\u001b[0m     \u001b[39m\"\"\"Search n_iter candidates from param_distributions\"\"\"\u001b[39;00m\n\u001b[1;32m-> 1768\u001b[0m     evaluate_candidates(\n\u001b[0;32m   1769\u001b[0m         ParameterSampler(\n\u001b[0;32m   1770\u001b[0m             \u001b[39mself\u001b[39;49m\u001b[39m.\u001b[39;49mparam_distributions, \u001b[39mself\u001b[39;49m\u001b[39m.\u001b[39;49mn_iter, random_state\u001b[39m=\u001b[39;49m\u001b[39mself\u001b[39;49m\u001b[39m.\u001b[39;49mrandom_state\n\u001b[0;32m   1771\u001b[0m         )\n\u001b[0;32m   1772\u001b[0m     )\n",
      "File \u001b[1;32mc:\\Users\\efons\\anaconda3\\envs\\venv\\lib\\site-packages\\sklearn\\model_selection\\_search.py:851\u001b[0m, in \u001b[0;36mBaseSearchCV.fit.<locals>.evaluate_candidates\u001b[1;34m(candidate_params, cv, more_results)\u001b[0m\n\u001b[0;32m    844\u001b[0m \u001b[39melif\u001b[39;00m \u001b[39mlen\u001b[39m(out) \u001b[39m!=\u001b[39m n_candidates \u001b[39m*\u001b[39m n_splits:\n\u001b[0;32m    845\u001b[0m     \u001b[39mraise\u001b[39;00m \u001b[39mValueError\u001b[39;00m(\n\u001b[0;32m    846\u001b[0m         \u001b[39m\"\u001b[39m\u001b[39mcv.split and cv.get_n_splits returned \u001b[39m\u001b[39m\"\u001b[39m\n\u001b[0;32m    847\u001b[0m         \u001b[39m\"\u001b[39m\u001b[39minconsistent results. Expected \u001b[39m\u001b[39m{}\u001b[39;00m\u001b[39m \u001b[39m\u001b[39m\"\u001b[39m\n\u001b[0;32m    848\u001b[0m         \u001b[39m\"\u001b[39m\u001b[39msplits, got \u001b[39m\u001b[39m{}\u001b[39;00m\u001b[39m\"\u001b[39m\u001b[39m.\u001b[39mformat(n_splits, \u001b[39mlen\u001b[39m(out) \u001b[39m/\u001b[39m\u001b[39m/\u001b[39m n_candidates)\n\u001b[0;32m    849\u001b[0m     )\n\u001b[1;32m--> 851\u001b[0m _warn_or_raise_about_fit_failures(out, \u001b[39mself\u001b[39;49m\u001b[39m.\u001b[39;49merror_score)\n\u001b[0;32m    853\u001b[0m \u001b[39m# For callable self.scoring, the return type is only know after\u001b[39;00m\n\u001b[0;32m    854\u001b[0m \u001b[39m# calling. If the return type is a dictionary, the error scores\u001b[39;00m\n\u001b[0;32m    855\u001b[0m \u001b[39m# can now be inserted with the correct key. The type checking\u001b[39;00m\n\u001b[0;32m    856\u001b[0m \u001b[39m# of out will be done in `_insert_error_scores`.\u001b[39;00m\n\u001b[0;32m    857\u001b[0m \u001b[39mif\u001b[39;00m callable(\u001b[39mself\u001b[39m\u001b[39m.\u001b[39mscoring):\n",
      "File \u001b[1;32mc:\\Users\\efons\\anaconda3\\envs\\venv\\lib\\site-packages\\sklearn\\model_selection\\_validation.py:367\u001b[0m, in \u001b[0;36m_warn_or_raise_about_fit_failures\u001b[1;34m(results, error_score)\u001b[0m\n\u001b[0;32m    360\u001b[0m \u001b[39mif\u001b[39;00m num_failed_fits \u001b[39m==\u001b[39m num_fits:\n\u001b[0;32m    361\u001b[0m     all_fits_failed_message \u001b[39m=\u001b[39m (\n\u001b[0;32m    362\u001b[0m         \u001b[39mf\u001b[39m\u001b[39m\"\u001b[39m\u001b[39m\\n\u001b[39;00m\u001b[39mAll the \u001b[39m\u001b[39m{\u001b[39;00mnum_fits\u001b[39m}\u001b[39;00m\u001b[39m fits failed.\u001b[39m\u001b[39m\\n\u001b[39;00m\u001b[39m\"\u001b[39m\n\u001b[0;32m    363\u001b[0m         \u001b[39m\"\u001b[39m\u001b[39mIt is very likely that your model is misconfigured.\u001b[39m\u001b[39m\\n\u001b[39;00m\u001b[39m\"\u001b[39m\n\u001b[0;32m    364\u001b[0m         \u001b[39m\"\u001b[39m\u001b[39mYou can try to debug the error by setting error_score=\u001b[39m\u001b[39m'\u001b[39m\u001b[39mraise\u001b[39m\u001b[39m'\u001b[39m\u001b[39m.\u001b[39m\u001b[39m\\n\u001b[39;00m\u001b[39m\\n\u001b[39;00m\u001b[39m\"\u001b[39m\n\u001b[0;32m    365\u001b[0m         \u001b[39mf\u001b[39m\u001b[39m\"\u001b[39m\u001b[39mBelow are more details about the failures:\u001b[39m\u001b[39m\\n\u001b[39;00m\u001b[39m{\u001b[39;00mfit_errors_summary\u001b[39m}\u001b[39;00m\u001b[39m\"\u001b[39m\n\u001b[0;32m    366\u001b[0m     )\n\u001b[1;32m--> 367\u001b[0m     \u001b[39mraise\u001b[39;00m \u001b[39mValueError\u001b[39;00m(all_fits_failed_message)\n\u001b[0;32m    369\u001b[0m \u001b[39melse\u001b[39;00m:\n\u001b[0;32m    370\u001b[0m     some_fits_failed_message \u001b[39m=\u001b[39m (\n\u001b[0;32m    371\u001b[0m         \u001b[39mf\u001b[39m\u001b[39m\"\u001b[39m\u001b[39m\\n\u001b[39;00m\u001b[39m{\u001b[39;00mnum_failed_fits\u001b[39m}\u001b[39;00m\u001b[39m fits failed out of a total of \u001b[39m\u001b[39m{\u001b[39;00mnum_fits\u001b[39m}\u001b[39;00m\u001b[39m.\u001b[39m\u001b[39m\\n\u001b[39;00m\u001b[39m\"\u001b[39m\n\u001b[0;32m    372\u001b[0m         \u001b[39m\"\u001b[39m\u001b[39mThe score on these train-test partitions for these parameters\u001b[39m\u001b[39m\"\u001b[39m\n\u001b[1;32m   (...)\u001b[0m\n\u001b[0;32m    376\u001b[0m         \u001b[39mf\u001b[39m\u001b[39m\"\u001b[39m\u001b[39mBelow are more details about the failures:\u001b[39m\u001b[39m\\n\u001b[39;00m\u001b[39m{\u001b[39;00mfit_errors_summary\u001b[39m}\u001b[39;00m\u001b[39m\"\u001b[39m\n\u001b[0;32m    377\u001b[0m     )\n",
      "\u001b[1;31mValueError\u001b[0m: \nAll the 50 fits failed.\nIt is very likely that your model is misconfigured.\nYou can try to debug the error by setting error_score='raise'.\n\nBelow are more details about the failures:\n--------------------------------------------------------------------------------\n50 fits failed with the following error:\nTraceback (most recent call last):\n  File \"c:\\Users\\efons\\anaconda3\\envs\\venv\\lib\\site-packages\\sklearn\\model_selection\\_validation.py\", line 686, in _fit_and_score\n    estimator.fit(X_train, y_train, **fit_params)\n  File \"C:\\Users\\efons\\AppData\\Local\\Temp\\ipykernel_19572\\3087644749.py\", line 58, in fit\n    self.Training.train()\n  File \"c:\\Users\\efons\\anaconda3\\envs\\venv\\lib\\site-packages\\kmodels\\utils.py\", line 400, in train\n    train_loss = self.train_epoch(epoch)\n  File \"c:\\Users\\efons\\anaconda3\\envs\\venv\\lib\\site-packages\\kmodels\\utils.py\", line 413, in train_epoch\n    loss += self.compute_additional_losses(recon_batch, data, batch_idx)\n  File \"c:\\Users\\efons\\anaconda3\\envs\\venv\\lib\\site-packages\\kmodels\\utils.py\", line 447, in compute_additional_losses\n    regression_loss = self.regression_loss(z, self.y, batch_idx)\n  File \"c:\\Users\\efons\\anaconda3\\envs\\venv\\lib\\site-packages\\kmodels\\utils.py\", line 324, in __call__\n    self.reg_loss.append(F.mse_loss(torch.from_numpy(y_pred), y))\n  File \"c:\\Users\\efons\\anaconda3\\envs\\venv\\lib\\site-packages\\torch\\nn\\functional.py\", line 3291, in mse_loss\n    expanded_input, expanded_target = torch.broadcast_tensors(input, target)\n  File \"c:\\Users\\efons\\anaconda3\\envs\\venv\\lib\\site-packages\\torch\\functional.py\", line 74, in broadcast_tensors\n    return _VF.broadcast_tensors(tensors)  # type: ignore[attr-defined]\nRuntimeError: The size of tensor a (100) must match the size of tensor b (800) at non-singleton dimension 0\n"
     ]
    }
   ],
   "source": [
    "# random search cv\n",
    "from sklearn.model_selection import RandomizedSearchCV\n",
    "params = {'hidden_dim':[50, 100, 200], 'lr_init':[1e-3, 1e-4, 1e-5], 'n_layers':[5, 10, 20], 'beta':[1, 10, 100], 'gamma':[1, 10, 100]}\n",
    "rand_cv = RandomizedSearchCV(VSECA(epochs=101, device='cuda'), params, n_iter=10, cv=5, verbose=1, n_jobs=1)\n",
    "rand_cv.fit(x, x)"
   ]
  },
  {
   "cell_type": "code",
   "execution_count": null,
   "metadata": {},
   "outputs": [
    {
     "data": {
      "text/plain": [
       "[<matplotlib.lines.Line2D at 0x1d9e52a3880>]"
      ]
     },
     "execution_count": 39,
     "metadata": {},
     "output_type": "execute_result"
    },
    {
     "data": {
      "image/png": "[encoded data removed]",
      "text/plain": [
       "<Figure size 640x480 with 1 Axes>"
      ]
     },
     "metadata": {},
     "output_type": "display_data"
    }
   ],
   "source": [
    "plt.plot(rand_cv.best_estimator_.Training.losses, label='loss')"
   ]
  },
  {
   "cell_type": "code",
   "execution_count": null,
   "metadata": {},
   "outputs": [],
   "source": []
  }
 ],
 "metadata": {
  "kernelspec": {
   "display_name": "venv",
   "language": "python",
   "name": "python3"
  },
  "language_info": {
   "codemirror_mode": {
    "name": "ipython",
    "version": 3
   },
   "file_extension": ".py",
   "mimetype": "text/x-python",
   "name": "python",
   "nbconvert_exporter": "python",
   "pygments_lexer": "ipython3",
   "version": "3.10.10"
  },
  "orig_nbformat": 4
 },
 "nbformat": 4,
 "nbformat_minor": 2
}
