{
 "cells": [
  {
   "cell_type": "code",
   "execution_count": 1,
   "metadata": {},
   "outputs": [],
   "source": [
    "import kmodels as kmk\n",
    "import torch \n",
    "import numpy as np\n",
    "import plotly.express as px\n",
    "from sklearn.preprocessing import StandardScaler, MinMaxScaler\n",
    "import matplotlib.pyplot as plt\n"
   ]
  },
  {
   "cell_type": "code",
   "execution_count": 2,
   "metadata": {},
   "outputs": [
    {
     "name": "stdout",
     "output_type": "stream",
     "text": [
      "(10000, 1) (3,) (10000, 1)\n"
     ]
    },
    {
     "data": {
      "application/vnd.plotly.v1+json": {
       "config": {
        "plotlyServerURL": "https://plot.ly"
       },
       "data": [
        {
         "coloraxis": "coloraxis",
         "hovertemplate": "x: %{x}<br>y: %{y}<br>color: %{z}<extra></extra>",
         "name": "0",
         "type": "heatmap",
         "xaxis": "x",
         "yaxis": "y",
         "z": [
          [
           1,
           -0.5274176001548767,
           -3.05334734916687,
           -1.652814269065857
          ],
          [
           0,
           0.5642059445381165,
           0.3329491913318634,
           -0.26274481415748596
          ],
          [
           1,
           0.3345036804676056,
           0.7404215931892395,
           0.799872875213623
          ],
          [
           0,
           0.9394381046295166,
           1.5889142751693726,
           1.476042628288269
          ],
          [
           1,
           1.162623643875122,
           0.08785884082317352,
           -2.9790825843811035
          ],
          [
           1,
           -0.5642566084861755,
           1.5069433450698853,
           0.18341779708862305
          ],
          [
           0,
           -0.49442097544670105,
           -0.30726638436317444,
           -1.0449581146240234
          ],
          [
           1,
           0.9327322244644165,
           0.1653922200202942,
           1.6560512781143188
          ],
          [
           1,
           1.1199945211410522,
           1.1781209707260132,
           -0.7974981069564819
          ],
          [
           0,
           0.019059423357248306,
           -0.49185627698898315,
           -1.2401844263076782
          ],
          [
           0,
           0.18213379383087158,
           -2.1547861099243164,
           -0.028292333707213402
          ],
          [
           0,
           -1.05720853805542,
           1.4383649826049805,
           -1.5978976488113403
          ],
          [
           1,
           0.4783056378364563,
           -0.10863278806209564,
           0.07387014478445053
          ],
          [
           1,
           -1.1579656600952148,
           -0.07983174175024033,
           2.0087945461273193
          ],
          [
           0,
           -0.8172345757484436,
           -0.5762657523155212,
           1.1195847988128662
          ],
          [
           1,
           -1.2057344913482666,
           -2.211743116378784,
           -1.587969183921814
          ],
          [
           0,
           -0.464863657951355,
           -0.6439595818519592,
           0.4479171931743622
          ],
          [
           1,
           0.7809724807739258,
           -0.16007472574710846,
           -0.2273268699645996
          ],
          [
           0,
           -1.3193145990371704,
           1.1352512836456299,
           1.08644437789917
          ],
          [
           1,
           -0.7347311973571777,
           1.103527307510376,
           0.44687095284461975
          ],
          [
           0,
           -2.4757378101348877,
           0.6727895736694336,
           -0.008193823508918285
          ],
          [
           1,
           -1.410017490386963,
           -0.9501850605010986,
           -0.5046550631523132
          ],
          [
           1,
           -0.5604108572006226,
           -0.2515094578266144,
           1.0070066452026367
          ],
          [
           1,
           0.4049481153488159,
           -0.2746512293815613,
           -0.43325626850128174
          ],
          [
           1,
           -0.5132123231887817,
           0.5132302641868591,
           1.8816231489181519
          ],
          [
           1,
           -1.0473079681396484,
           -0.2432403862476349,
           -0.06952345371246338
          ],
          [
           1,
           0.36099398136138916,
           0.23402699828147888,
           0.8163496255874634
          ],
          [
           0,
           1.243786334991455,
           0.10196910798549652,
           -0.8247048854827881
          ],
          [
           1,
           -0.8753332495689392,
           0.4351476728916168,
           -0.8766989707946777
          ],
          [
           0,
           0.956030011177063,
           -1.6201224327087402,
           -1.1121795177459717
          ],
          [
           1,
           1.2140183448791504,
           0.9192903637886047,
           0.7942540049552917
          ],
          [
           1,
           0.17868344485759735,
           -0.17932502925395966,
           -0.7023308873176575
          ],
          [
           0,
           -1.666692852973938,
           -0.13753578066825867,
           0.43858450651168823
          ],
          [
           1,
           0.6759480834007263,
           -0.9336352348327637,
           0.2918248474597931
          ],
          [
           1,
           -1.4569580554962158,
           1.4381310939788818,
           1.3946073055267334
          ],
          [
           1,
           -0.932811439037323,
           -1.9164435863494873,
           0.4941704571247101
          ],
          [
           1,
           1.908448338508606,
           -0.9784073233604431,
           -1.941123366355896
          ],
          [
           0,
           0.047178950160741806,
           -0.7935325503349304,
           0.7654396891593933
          ],
          [
           0,
           0.12197492271661758,
           0.6571907997131348,
           2.1658616065979004
          ],
          [
           0,
           -0.1499459445476532,
           0.056097473949193954,
           -0.5211760997772217
          ],
          [
           0,
           -0.0007450699340552092,
           -0.46436771750450134,
           0.2804744243621826
          ],
          [
           1,
           -2.296412944793701,
           -2.1356964111328125,
           -0.061072882264852524
          ],
          [
           1,
           0.8604585528373718,
           1.894705891609192,
           2.0010287761688232
          ],
          [
           0,
           -2.0366153717041016,
           0.46389657258987427,
           0.6467466950416565
          ],
          [
           0,
           -0.0608367845416069,
           -0.41707494854927063,
           0.05374801158905029
          ],
          [
           1,
           -0.20775280892848969,
           -0.7853338122367859,
           -0.4034530222415924
          ],
          [
           0,
           0.04271498695015907,
           1.3012807369232178,
           1.8194655179977417
          ],
          [
           1,
           0.524090051651001,
           1.7188400030136108,
           0.14677676558494568
          ],
          [
           0,
           0.13145609200000763,
           -0.7258748412132263,
           0.1586211621761322
          ],
          [
           0,
           0.8654233813285828,
           -0.020614348351955414,
           -1.6779580116271973
          ],
          [
           1,
           -0.272914320230484,
           -2.3828094005584717,
           -1.517469048500061
          ],
          [
           1,
           1.6159166097640991,
           1.455743432044983,
           -1.148965835571289
          ],
          [
           1,
           0.05364328995347023,
           0.44933512806892395,
           0.630815327167511
          ],
          [
           0,
           -1.2070069313049316,
           0.5613957047462463,
           -1.9655028581619263
          ],
          [
           1,
           -1.9350272417068481,
           -0.3400166928768158,
           -0.9147161841392517
          ],
          [
           1,
           -1.4524476528167725,
           1.7092276811599731,
           1.496873378753662
          ],
          [
           1,
           0.28191739320755005,
           -0.19958214461803436,
           0.2201269268989563
          ],
          [
           1,
           0.30918437242507935,
           -1.0222195386886597,
           0.11307127773761749
          ],
          [
           1,
           1.3450323343276978,
           -0.1163894534111023,
           0.8156858086585999
          ],
          [
           0,
           -1.196696400642395,
           1.8921728134155273,
           -0.09879710525274277
          ],
          [
           1,
           0.965684175491333,
           0.3147987723350525,
           0.9098693132400513
          ],
          [
           1,
           -1.715736746788025,
           0.8630912899971008,
           0.47869786620140076
          ],
          [
           1,
           0.8164382576942444,
           0.6126443147659302,
           -0.13852249085903168
          ],
          [
           0,
           1.3937748670578003,
           0.14635629951953888,
           -0.18082314729690552
          ],
          [
           0,
           0.8503862619400024,
           0.24782809615135193,
           0.8097752332687378
          ],
          [
           1,
           -0.5762462019920349,
           0.38237231969833374,
           1.5524476766586304
          ],
          [
           1,
           -0.3324440121650696,
           -0.5754922032356262,
           1.4563367366790771
          ],
          [
           1,
           2.3055710792541504,
           -2.107011318206787,
           -1.04983651638031
          ],
          [
           0,
           0.4241500198841095,
           -0.14277960360050201,
           -1.0620959997177124
          ],
          [
           0,
           1.4751380681991577,
           -0.7852731347084045,
           1.4517184495925903
          ],
          [
           0,
           -0.03738569840788841,
           -0.5787301063537598,
           -0.41998612880706787
          ],
          [
           0,
           0.19350136816501617,
           0.30021122097969055,
           0.7970760464668274
          ],
          [
           0,
           -0.06848598271608353,
           0.21703216433525085,
           -0.741653561592102
          ],
          [
           1,
           -2.2104132175445557,
           0.5745487213134766,
           -1.3149524927139282
          ],
          [
           1,
           1.5840578079223633,
           0.24571120738983154,
           0.07270530611276627
          ],
          [
           0,
           0.9929018616676331,
           -0.13878875970840454,
           -0.4614993929862976
          ],
          [
           1,
           2.225752592086792,
           -1.4533555507659912,
           0.41908857226371765
          ],
          [
           1,
           -0.25303584337234497,
           0.44668149948120117,
           1.447050929069519
          ],
          [
           1,
           -0.6471065282821655,
           -0.552678108215332,
           -2.063936233520508
          ],
          [
           1,
           1.2780969142913818,
           1.3106549978256226,
           -1.6104482412338257
          ],
          [
           0,
           -1.6783989667892456,
           0.4902649521827698,
           -0.47338929772377014
          ],
          [
           1,
           1.4771403074264526,
           -0.97306889295578,
           -0.9824857115745544
          ],
          [
           1,
           0.3557990491390228,
           1.7997925281524658,
           -0.8306534886360168
          ],
          [
           0,
           -0.5311568379402161,
           0.6132009029388428,
           -1.0812164545059204
          ],
          [
           1,
           -0.4229240417480469,
           -0.17851054668426514,
           -0.08885572105646133
          ],
          [
           1,
           -0.4210509955883026,
           2.2989954948425293,
           -0.7082059383392334
          ],
          [
           1,
           0.599725067615509,
           -0.3008229732513428,
           -0.5336663722991943
          ],
          [
           1,
           -0.004326289985328913,
           -0.6989516019821167,
           -1.05544912815094
          ],
          [
           0,
           -0.7679933905601501,
           -0.10347497463226318,
           -0.37198930978775024
          ],
          [
           0,
           -0.11454366147518158,
           -0.1471083015203476,
           -1.497557282447815
          ],
          [
           1,
           0.02217024937272072,
           0.5808549523353577,
           -1.4805970191955566
          ],
          [
           1,
           0.6294645667076111,
           0.939428448677063,
           -1.0455427169799805
          ],
          [
           0,
           0.2327200472354889,
           1.0260870456695557,
           -0.6392203569412231
          ],
          [
           1,
           0.509261965751648,
           -0.3428264260292053,
           -0.8096792697906494
          ],
          [
           1,
           -0.26387184858322144,
           0.8203011751174927,
           -1.1412492990493774
          ],
          [
           0,
           -0.2769847512245178,
           -0.08563391864299774,
           0.12832655012607574
          ],
          [
           1,
           -0.16979728639125824,
           0.7708650231361389,
           -1.0567818880081177
          ],
          [
           0,
           -0.9594554305076599,
           0.4113542139530182,
           1.257599949836731
          ],
          [
           1,
           -0.17364153265953064,
           -0.8762683868408203,
           1.922532558441162
          ],
          [
           0,
           -0.6227813959121704,
           -0.9709279537200928,
           -0.14340049028396606
          ]
         ]
        }
       ],
       "layout": {
        "coloraxis": {
         "colorscale": [
          [
           0,
           "#0d0887"
          ],
          [
           0.1111111111111111,
           "#46039f"
          ],
          [
           0.2222222222222222,
           "#7201a8"
          ],
          [
           0.3333333333333333,
           "#9c179e"
          ],
          [
           0.4444444444444444,
           "#bd3786"
          ],
          [
           0.5555555555555556,
           "#d8576b"
          ],
          [
           0.6666666666666666,
           "#ed7953"
          ],
          [
           0.7777777777777778,
           "#fb9f3a"
          ],
          [
           0.8888888888888888,
           "#fdca26"
          ],
          [
           1,
           "#f0f921"
          ]
         ]
        },
        "height": 500,
        "margin": {
         "t": 60
        },
        "template": {
         "data": {
          "bar": [
           {
            "error_x": {
             "color": "#2a3f5f"
            },
            "error_y": {
             "color": "#2a3f5f"
            },
            "marker": {
             "line": {
              "color": "#E5ECF6",
              "width": 0.5
             },
             "pattern": {
              "fillmode": "overlay",
              "size": 10,
              "solidity": 0.2
             }
            },
            "type": "bar"
           }
          ],
          "barpolar": [
           {
            "marker": {
             "line": {
              "color": "#E5ECF6",
              "width": 0.5
             },
             "pattern": {
              "fillmode": "overlay",
              "size": 10,
              "solidity": 0.2
             }
            },
            "type": "barpolar"
           }
          ],
          "carpet": [
           {
            "aaxis": {
             "endlinecolor": "#2a3f5f",
             "gridcolor": "white",
             "linecolor": "white",
             "minorgridcolor": "white",
             "startlinecolor": "#2a3f5f"
            },
            "baxis": {
             "endlinecolor": "#2a3f5f",
             "gridcolor": "white",
             "linecolor": "white",
             "minorgridcolor": "white",
             "startlinecolor": "#2a3f5f"
            },
            "type": "carpet"
           }
          ],
          "choropleth": [
           {
            "colorbar": {
             "outlinewidth": 0,
             "ticks": ""
            },
            "type": "choropleth"
           }
          ],
          "contour": [
           {
            "colorbar": {
             "outlinewidth": 0,
             "ticks": ""
            },
            "colorscale": [
             [
              0,
              "#0d0887"
             ],
             [
              0.1111111111111111,
              "#46039f"
             ],
             [
              0.2222222222222222,
              "#7201a8"
             ],
             [
              0.3333333333333333,
              "#9c179e"
             ],
             [
              0.4444444444444444,
              "#bd3786"
             ],
             [
              0.5555555555555556,
              "#d8576b"
             ],
             [
              0.6666666666666666,
              "#ed7953"
             ],
             [
              0.7777777777777778,
              "#fb9f3a"
             ],
             [
              0.8888888888888888,
              "#fdca26"
             ],
             [
              1,
              "#f0f921"
             ]
            ],
            "type": "contour"
           }
          ],
          "contourcarpet": [
           {
            "colorbar": {
             "outlinewidth": 0,
             "ticks": ""
            },
            "type": "contourcarpet"
           }
          ],
          "heatmap": [
           {
            "colorbar": {
             "outlinewidth": 0,
             "ticks": ""
            },
            "colorscale": [
             [
              0,
              "#0d0887"
             ],
             [
              0.1111111111111111,
              "#46039f"
             ],
             [
              0.2222222222222222,
              "#7201a8"
             ],
             [
              0.3333333333333333,
              "#9c179e"
             ],
             [
              0.4444444444444444,
              "#bd3786"
             ],
             [
              0.5555555555555556,
              "#d8576b"
             ],
             [
              0.6666666666666666,
              "#ed7953"
             ],
             [
              0.7777777777777778,
              "#fb9f3a"
             ],
             [
              0.8888888888888888,
              "#fdca26"
             ],
             [
              1,
              "#f0f921"
             ]
            ],
            "type": "heatmap"
           }
          ],
          "heatmapgl": [
           {
            "colorbar": {
             "outlinewidth": 0,
             "ticks": ""
            },
            "colorscale": [
             [
              0,
              "#0d0887"
             ],
             [
              0.1111111111111111,
              "#46039f"
             ],
             [
              0.2222222222222222,
              "#7201a8"
             ],
             [
              0.3333333333333333,
              "#9c179e"
             ],
             [
              0.4444444444444444,
              "#bd3786"
             ],
             [
              0.5555555555555556,
              "#d8576b"
             ],
             [
              0.6666666666666666,
              "#ed7953"
             ],
             [
              0.7777777777777778,
              "#fb9f3a"
             ],
             [
              0.8888888888888888,
              "#fdca26"
             ],
             [
              1,
              "#f0f921"
             ]
            ],
            "type": "heatmapgl"
           }
          ],
          "histogram": [
           {
            "marker": {
             "pattern": {
              "fillmode": "overlay",
              "size": 10,
              "solidity": 0.2
             }
            },
            "type": "histogram"
           }
          ],
          "histogram2d": [
           {
            "colorbar": {
             "outlinewidth": 0,
             "ticks": ""
            },
            "colorscale": [
             [
              0,
              "#0d0887"
             ],
             [
              0.1111111111111111,
              "#46039f"
             ],
             [
              0.2222222222222222,
              "#7201a8"
             ],
             [
              0.3333333333333333,
              "#9c179e"
             ],
             [
              0.4444444444444444,
              "#bd3786"
             ],
             [
              0.5555555555555556,
              "#d8576b"
             ],
             [
              0.6666666666666666,
              "#ed7953"
             ],
             [
              0.7777777777777778,
              "#fb9f3a"
             ],
             [
              0.8888888888888888,
              "#fdca26"
             ],
             [
              1,
              "#f0f921"
             ]
            ],
            "type": "histogram2d"
           }
          ],
          "histogram2dcontour": [
           {
            "colorbar": {
             "outlinewidth": 0,
             "ticks": ""
            },
            "colorscale": [
             [
              0,
              "#0d0887"
             ],
             [
              0.1111111111111111,
              "#46039f"
             ],
             [
              0.2222222222222222,
              "#7201a8"
             ],
             [
              0.3333333333333333,
              "#9c179e"
             ],
             [
              0.4444444444444444,
              "#bd3786"
             ],
             [
              0.5555555555555556,
              "#d8576b"
             ],
             [
              0.6666666666666666,
              "#ed7953"
             ],
             [
              0.7777777777777778,
              "#fb9f3a"
             ],
             [
              0.8888888888888888,
              "#fdca26"
             ],
             [
              1,
              "#f0f921"
             ]
            ],
            "type": "histogram2dcontour"
           }
          ],
          "mesh3d": [
           {
            "colorbar": {
             "outlinewidth": 0,
             "ticks": ""
            },
            "type": "mesh3d"
           }
          ],
          "parcoords": [
           {
            "line": {
             "colorbar": {
              "outlinewidth": 0,
              "ticks": ""
             }
            },
            "type": "parcoords"
           }
          ],
          "pie": [
           {
            "automargin": true,
            "type": "pie"
           }
          ],
          "scatter": [
           {
            "fillpattern": {
             "fillmode": "overlay",
             "size": 10,
             "solidity": 0.2
            },
            "type": "scatter"
           }
          ],
          "scatter3d": [
           {
            "line": {
             "colorbar": {
              "outlinewidth": 0,
              "ticks": ""
             }
            },
            "marker": {
             "colorbar": {
              "outlinewidth": 0,
              "ticks": ""
             }
            },
            "type": "scatter3d"
           }
          ],
          "scattercarpet": [
           {
            "marker": {
             "colorbar": {
              "outlinewidth": 0,
              "ticks": ""
             }
            },
            "type": "scattercarpet"
           }
          ],
          "scattergeo": [
           {
            "marker": {
             "colorbar": {
              "outlinewidth": 0,
              "ticks": ""
             }
            },
            "type": "scattergeo"
           }
          ],
          "scattergl": [
           {
            "marker": {
             "colorbar": {
              "outlinewidth": 0,
              "ticks": ""
             }
            },
            "type": "scattergl"
           }
          ],
          "scattermapbox": [
           {
            "marker": {
             "colorbar": {
              "outlinewidth": 0,
              "ticks": ""
             }
            },
            "type": "scattermapbox"
           }
          ],
          "scatterpolar": [
           {
            "marker": {
             "colorbar": {
              "outlinewidth": 0,
              "ticks": ""
             }
            },
            "type": "scatterpolar"
           }
          ],
          "scatterpolargl": [
           {
            "marker": {
             "colorbar": {
              "outlinewidth": 0,
              "ticks": ""
             }
            },
            "type": "scatterpolargl"
           }
          ],
          "scatterternary": [
           {
            "marker": {
             "colorbar": {
              "outlinewidth": 0,
              "ticks": ""
             }
            },
            "type": "scatterternary"
           }
          ],
          "surface": [
           {
            "colorbar": {
             "outlinewidth": 0,
             "ticks": ""
            },
            "colorscale": [
             [
              0,
              "#0d0887"
             ],
             [
              0.1111111111111111,
              "#46039f"
             ],
             [
              0.2222222222222222,
              "#7201a8"
             ],
             [
              0.3333333333333333,
              "#9c179e"
             ],
             [
              0.4444444444444444,
              "#bd3786"
             ],
             [
              0.5555555555555556,
              "#d8576b"
             ],
             [
              0.6666666666666666,
              "#ed7953"
             ],
             [
              0.7777777777777778,
              "#fb9f3a"
             ],
             [
              0.8888888888888888,
              "#fdca26"
             ],
             [
              1,
              "#f0f921"
             ]
            ],
            "type": "surface"
           }
          ],
          "table": [
           {
            "cells": {
             "fill": {
              "color": "#EBF0F8"
             },
             "line": {
              "color": "white"
             }
            },
            "header": {
             "fill": {
              "color": "#C8D4E3"
             },
             "line": {
              "color": "white"
             }
            },
            "type": "table"
           }
          ]
         },
         "layout": {
          "annotationdefaults": {
           "arrowcolor": "#2a3f5f",
           "arrowhead": 0,
           "arrowwidth": 1
          },
          "autotypenumbers": "strict",
          "coloraxis": {
           "colorbar": {
            "outlinewidth": 0,
            "ticks": ""
           }
          },
          "colorscale": {
           "diverging": [
            [
             0,
             "#8e0152"
            ],
            [
             0.1,
             "#c51b7d"
            ],
            [
             0.2,
             "#de77ae"
            ],
            [
             0.3,
             "#f1b6da"
            ],
            [
             0.4,
             "#fde0ef"
            ],
            [
             0.5,
             "#f7f7f7"
            ],
            [
             0.6,
             "#e6f5d0"
            ],
            [
             0.7,
             "#b8e186"
            ],
            [
             0.8,
             "#7fbc41"
            ],
            [
             0.9,
             "#4d9221"
            ],
            [
             1,
             "#276419"
            ]
           ],
           "sequential": [
            [
             0,
             "#0d0887"
            ],
            [
             0.1111111111111111,
             "#46039f"
            ],
            [
             0.2222222222222222,
             "#7201a8"
            ],
            [
             0.3333333333333333,
             "#9c179e"
            ],
            [
             0.4444444444444444,
             "#bd3786"
            ],
            [
             0.5555555555555556,
             "#d8576b"
            ],
            [
             0.6666666666666666,
             "#ed7953"
            ],
            [
             0.7777777777777778,
             "#fb9f3a"
            ],
            [
             0.8888888888888888,
             "#fdca26"
            ],
            [
             1,
             "#f0f921"
            ]
           ],
           "sequentialminus": [
            [
             0,
             "#0d0887"
            ],
            [
             0.1111111111111111,
             "#46039f"
            ],
            [
             0.2222222222222222,
             "#7201a8"
            ],
            [
             0.3333333333333333,
             "#9c179e"
            ],
            [
             0.4444444444444444,
             "#bd3786"
            ],
            [
             0.5555555555555556,
             "#d8576b"
            ],
            [
             0.6666666666666666,
             "#ed7953"
            ],
            [
             0.7777777777777778,
             "#fb9f3a"
            ],
            [
             0.8888888888888888,
             "#fdca26"
            ],
            [
             1,
             "#f0f921"
            ]
           ]
          },
          "colorway": [
           "#636efa",
           "#EF553B",
           "#00cc96",
           "#ab63fa",
           "#FFA15A",
           "#19d3f3",
           "#FF6692",
           "#B6E880",
           "#FF97FF",
           "#FECB52"
          ],
          "font": {
           "color": "#2a3f5f"
          },
          "geo": {
           "bgcolor": "white",
           "lakecolor": "white",
           "landcolor": "#E5ECF6",
           "showlakes": true,
           "showland": true,
           "subunitcolor": "white"
          },
          "hoverlabel": {
           "align": "left"
          },
          "hovermode": "closest",
          "mapbox": {
           "style": "light"
          },
          "paper_bgcolor": "white",
          "plot_bgcolor": "#E5ECF6",
          "polar": {
           "angularaxis": {
            "gridcolor": "white",
            "linecolor": "white",
            "ticks": ""
           },
           "bgcolor": "#E5ECF6",
           "radialaxis": {
            "gridcolor": "white",
            "linecolor": "white",
            "ticks": ""
           }
          },
          "scene": {
           "xaxis": {
            "backgroundcolor": "#E5ECF6",
            "gridcolor": "white",
            "gridwidth": 2,
            "linecolor": "white",
            "showbackground": true,
            "ticks": "",
            "zerolinecolor": "white"
           },
           "yaxis": {
            "backgroundcolor": "#E5ECF6",
            "gridcolor": "white",
            "gridwidth": 2,
            "linecolor": "white",
            "showbackground": true,
            "ticks": "",
            "zerolinecolor": "white"
           },
           "zaxis": {
            "backgroundcolor": "#E5ECF6",
            "gridcolor": "white",
            "gridwidth": 2,
            "linecolor": "white",
            "showbackground": true,
            "ticks": "",
            "zerolinecolor": "white"
           }
          },
          "shapedefaults": {
           "line": {
            "color": "#2a3f5f"
           }
          },
          "ternary": {
           "aaxis": {
            "gridcolor": "white",
            "linecolor": "white",
            "ticks": ""
           },
           "baxis": {
            "gridcolor": "white",
            "linecolor": "white",
            "ticks": ""
           },
           "bgcolor": "#E5ECF6",
           "caxis": {
            "gridcolor": "white",
            "linecolor": "white",
            "ticks": ""
           }
          },
          "title": {
           "x": 0.05
          },
          "xaxis": {
           "automargin": true,
           "gridcolor": "white",
           "linecolor": "white",
           "ticks": "",
           "title": {
            "standoff": 15
           },
           "zerolinecolor": "white",
           "zerolinewidth": 2
          },
          "yaxis": {
           "automargin": true,
           "gridcolor": "white",
           "linecolor": "white",
           "ticks": "",
           "title": {
            "standoff": 15
           },
           "zerolinecolor": "white",
           "zerolinewidth": 2
          }
         }
        },
        "width": 500,
        "xaxis": {
         "anchor": "y",
         "constrain": "domain",
         "domain": [
          0,
          1
         ],
         "scaleanchor": "y"
        },
        "yaxis": {
         "anchor": "x",
         "autorange": "reversed",
         "constrain": "domain",
         "domain": [
          0,
          1
         ]
        }
       }
      }
     },
     "metadata": {},
     "output_type": "display_data"
    }
   ],
   "source": [
    "# lets generate an array of n observations with 50 features being random binary numbers and 50 features being random floats\n",
    "n = 10000\n",
    "plot_points = 100\n",
    "# set binary_dim to zero if you have no binary features\n",
    "binary_dim = 1\n",
    "n_features = 4\n",
    "x = np.random.randint(2, size=(n, binary_dim))\n",
    "x = np.concatenate((x, np.random.normal(size=(n, n_features-binary_dim))), axis=1)\n",
    "# lets make up a correlated but complicated y variable. make sure y is 1 feature\n",
    "# y = np.convolve(x[:, binary_dim:], np.random.normal(size=binary_dim), mode='same') * np.mean(x[:, :binary_dim ]) + np.random.normal(size=binary_dim)\n",
    "#y = y.reshape(-1, 1)\n",
    "# assign random weights to the binary features\n",
    "# make the weights a distribution of only two values\n",
    "weights = np.random.randint(2, size=(n_features-binary_dim))\n",
    "\n",
    "y = np.trapz(x[:, :binary_dim], axis=1).reshape(-1, 1) \n",
    "print(x[:, :binary_dim].shape, weights.shape, y.shape)\n",
    "y2 = np.sum(x[:, :binary_dim] * weights, axis=1).reshape(-1, 1)\n",
    "y = y.reshape(-1, 1)\n",
    "\n",
    "# scale the features\n",
    "# use minmax scaler on binary dim and standard scaler on float dim\n",
    "x_bin = MinMaxScaler().fit_transform(x[:, :binary_dim])\n",
    "x_float = StandardScaler().fit_transform(x[:, binary_dim:])\n",
    "x = np.concatenate((x_bin, x_float), axis=1)\n",
    "#x = np.concatenate((x, y), axis=1)\n",
    "x = torch.tensor(x, dtype=torch.float32)\n",
    "# plot as a 10x10 image \n",
    "px.imshow(x[:100].numpy(), width=500, height=500)\n"
   ]
  },
  {
   "cell_type": "code",
   "execution_count": 3,
   "metadata": {},
   "outputs": [
    {
     "data": {
      "text/plain": [
       "Text(0.5, 1.0, 'Histogram of features')"
      ]
     },
     "execution_count": 3,
     "metadata": {},
     "output_type": "execute_result"
    },
    {
     "data": {
      "image/png": "[encoded data removed]",
      "text/plain": [
       "<Figure size 1000x500 with 1 Axes>"
      ]
     },
     "metadata": {},
     "output_type": "display_data"
    }
   ],
   "source": [
    "# plot the histograms of all the features\n",
    "fig, ax = plt.subplots(1, 1, figsize=(10, 5))\n",
    "# make the bars larger\n",
    "ax.hist(x[:, :binary_dim].numpy().flatten(), bins=100, alpha=0.5, label='binary', width=0.5)\n",
    "ax.hist(x[:, binary_dim:].numpy().flatten(), bins=100, alpha=0.5, label='float')\n",
    "plt.title('Histogram of features')\n"
   ]
  },
  {
   "cell_type": "code",
   "execution_count": 6,
   "metadata": {},
   "outputs": [],
   "source": [
    "#params = {'hidden_dim':[50, 100, 200], 'latent_dim':[2, 5, 10], 'n_layers':[5, 10, 20], 'beta':[1, 10, 100], 'gamma':[1, 10, 100]}\n",
    "from sklearn.metrics import mean_absolute_error, mean_squared_error, r2_score\n",
    "# lets wrap the Training class and the model into a function that will be compatible with sklearn's GridSearchCV\n",
    "class VSECA(kmk.Training):\n",
    "    def __init__(self, batch_size=100, epochs=1000, lr_init=1e-3, binary_dim=10, hidden_dim = 100, beta=1, \n",
    "                 gamma=1, input_dim=100, latent_dim=2, n_layers=5, metric=r2_score, y=None, device='cuda', scheduler=True,\n",
    "                 reg_factor=1):\n",
    "        \n",
    "        kwargs = locals()\n",
    "        # super the kmk.Training class for VSECA\n",
    "        self.batch_size = batch_size\n",
    "        self.lr_init = lr_init\n",
    "        self.binary_dim = binary_dim\n",
    "        self.hidden_dim = hidden_dim\n",
    "        self.beta = beta\n",
    "        self.gamma = gamma\n",
    "        self.latent_dim = latent_dim\n",
    "        self.n_layers = n_layers\n",
    "        self.input_dim = input_dim\n",
    "        self.metric = metric\n",
    "        self.y = y\n",
    "        \n",
    "        if y is not None:\n",
    "            self.y = torch.tensor(y, dtype=torch.float32).to(device)\n",
    "\n",
    "        for key in kwargs:\n",
    "            setattr(self, key, kwargs[key])\n",
    "\n",
    "        param_vars = ['epochs','batch_size', 'lr_init', 'binary_dim', 'hidden_dim', 'beta', 'gamma', 'latent_dim', 'n_layers', 'input_dim', 'reg_factor']\n",
    "\n",
    "        self.params = {}\n",
    "        for att in param_vars:\n",
    "            self.params[att] = getattr(self, att)\n",
    "\n",
    "        self.model_params = {'hidden_dim':hidden_dim, 'latent_dim':latent_dim, 'n_layers':n_layers, 'input_dim':input_dim, 'binary_dim':binary_dim}\n",
    "        self.training_params = {}\n",
    "\n",
    "        for param in self.params:\n",
    "            if param in self.model_params.keys():\n",
    "                self.model_params[param] = self.params[param]\n",
    "            else:\n",
    "                self.training_params[param] = self.params[param]\n",
    "\n",
    "        self.model = kmk.VAE(**self.model_params).to(self.device)\n",
    "        self.Training = kmk.Training(self.model, x, y, vae_loss=True, **self.training_params, scheduler=scheduler)\n",
    "\n",
    "        self._get_losses = self.Training._get_losses\n",
    "        \n",
    "    def fit(self, x, y):\n",
    "        self.model_params['input_dim'] = x.shape[1]\n",
    "        self.model = kmk.VAE(**self.model_params).to(self.device)\n",
    "        super(VSECA, self).__init__(self.model, x, y, vae_loss=True, **self.training_params)\n",
    "        if type(x) == np.ndarray:\n",
    "            x = torch.tensor(x, dtype=torch.float32).to(self.device)\n",
    "        if type(y) == np.ndarray:\n",
    "            y = torch.tensor(y, dtype=torch.float32).to(self.device)\n",
    "        self.Training = kmk.Training(self.model, x, y, vae_loss=True, **self.training_params)\n",
    "        self.Training.train()\n",
    "        return self\n",
    "    \n",
    "    def predict(self, x):\n",
    "        return self.model(x)[0].detach().cpu()\n",
    "    \n",
    "    def score(self, x, y):\n",
    "        # mae of x and y\n",
    "        # make sure x and y are torch tensors\n",
    "        if type(x) == np.ndarray:\n",
    "            x = torch.tensor(x, dtype=torch.float32).to(self.device)\n",
    "        else:\n",
    "            x = x.to(self.device)\n",
    "        pred = self.model(x)[0].detach().cpu().numpy()\n",
    "        if type(y) == np.ndarray:\n",
    "            pass\n",
    "        else:\n",
    "            y.detach().cpu().numpy()\n",
    "        return self.metric(y, pred)\n",
    "    \n",
    "    def get_params(self, deep=True):\n",
    "        return self.params\n",
    "    \n",
    "    def set_params(self, **params):\n",
    "        self.params.update(params)\n",
    "        # update the attributes\n",
    "        for param in self.params:\n",
    "            setattr(self, param, self.params[param])\n",
    "        # update the model and trainer\n",
    "        for param in params:\n",
    "            if param in self.model_params.keys():\n",
    "                self.model_params[param] = params[param]\n",
    "            if param not in self.model_params.keys():\n",
    "                self.training_params[param] = params[param]\n",
    "        self.model = kmk.VAE(**self.model_params)\n",
    "        self.Training = kmk.Training(self.model, x, y, vae_loss=True, **self.training_params)\n",
    "        return self\n",
    "\n",
    "    "
   ]
  },
  {
   "cell_type": "code",
   "execution_count": 13,
   "metadata": {},
   "outputs": [
    {
     "name": "stdout",
     "output_type": "stream",
     "text": [
      "====> Epoch: 0 Average loss: 361.007087708 Time: 0.66\n",
      "Loss components:  {'vae_loss': 315.74106}\n",
      "====> Epoch: 10 Average loss: 240.671369076 Time: 0.56\n",
      "Loss components:  {'vae_loss': 237.85417}\n",
      "====> Epoch: 20 Average loss: 215.343995452 Time: 0.55\n",
      "Loss components:  {'vae_loss': 237.46803}\n",
      "====> Epoch: 30 Average loss: 204.959802508 Time: 0.63\n",
      "Loss components:  {'vae_loss': 202.63348}\n",
      "====> Epoch: 40 Average loss: 197.226044178 Time: 0.68\n",
      "Loss components:  {'vae_loss': 174.63298}\n",
      "====> Epoch: 50 Average loss: 193.496937394 Time: 0.83\n",
      "Loss components:  {'vae_loss': 199.05336}\n"
     ]
    },
    {
     "ename": "KeyboardInterrupt",
     "evalue": "",
     "output_type": "error",
     "traceback": [
      "\u001b[1;31m---------------------------------------------------------------------------\u001b[0m",
      "\u001b[1;31mKeyboardInterrupt\u001b[0m                         Traceback (most recent call last)",
      "Cell \u001b[1;32mIn[13], line 4\u001b[0m\n\u001b[0;32m      1\u001b[0m v \u001b[39m=\u001b[39m VSECA(lr_init\u001b[39m=\u001b[39m\u001b[39m5e-4\u001b[39m, epochs\u001b[39m=\u001b[39m\u001b[39m10001\u001b[39m, hidden_dim\u001b[39m=\u001b[39m\u001b[39m10\u001b[39m, n_layers\u001b[39m=\u001b[39m\u001b[39m5\u001b[39m, batch_size\u001b[39m=\u001b[39m\u001b[39m100\u001b[39m, \n\u001b[0;32m      2\u001b[0m           latent_dim\u001b[39m=\u001b[39m\u001b[39m2\u001b[39m, y\u001b[39m=\u001b[39my, device\u001b[39m=\u001b[39m\u001b[39m'\u001b[39m\u001b[39mcuda\u001b[39m\u001b[39m'\u001b[39m, reg_factor\u001b[39m=\u001b[39m\u001b[39m0\u001b[39m, beta\u001b[39m=\u001b[39m\u001b[39m0\u001b[39m, gamma\u001b[39m=\u001b[39m\u001b[39m0\u001b[39m,\n\u001b[0;32m      3\u001b[0m           scheduler\u001b[39m=\u001b[39m\u001b[39mTrue\u001b[39;00m, binary_dim\u001b[39m=\u001b[39mbinary_dim, input_dim\u001b[39m=\u001b[39mx\u001b[39m.\u001b[39mshape[\u001b[39m1\u001b[39m])\n\u001b[1;32m----> 4\u001b[0m v\u001b[39m.\u001b[39;49mfit(x, x)\n",
      "Cell \u001b[1;32mIn[6], line 58\u001b[0m, in \u001b[0;36mVSECA.fit\u001b[1;34m(self, x, y)\u001b[0m\n\u001b[0;32m     56\u001b[0m     y \u001b[39m=\u001b[39m torch\u001b[39m.\u001b[39mtensor(y, dtype\u001b[39m=\u001b[39mtorch\u001b[39m.\u001b[39mfloat32)\u001b[39m.\u001b[39mto(\u001b[39mself\u001b[39m\u001b[39m.\u001b[39mdevice)\n\u001b[0;32m     57\u001b[0m \u001b[39mself\u001b[39m\u001b[39m.\u001b[39mTraining \u001b[39m=\u001b[39m kmk\u001b[39m.\u001b[39mTraining(\u001b[39mself\u001b[39m\u001b[39m.\u001b[39mmodel, x, y, vae_loss\u001b[39m=\u001b[39m\u001b[39mTrue\u001b[39;00m, \u001b[39m*\u001b[39m\u001b[39m*\u001b[39m\u001b[39mself\u001b[39m\u001b[39m.\u001b[39mtraining_params)\n\u001b[1;32m---> 58\u001b[0m \u001b[39mself\u001b[39;49m\u001b[39m.\u001b[39;49mTraining\u001b[39m.\u001b[39;49mtrain()\n\u001b[0;32m     59\u001b[0m \u001b[39mreturn\u001b[39;00m \u001b[39mself\u001b[39m\n",
      "File \u001b[1;32mc:\\Users\\efons\\anaconda3\\envs\\venv\\lib\\site-packages\\kmodels\\utils.py:400\u001b[0m, in \u001b[0;36mTraining.train\u001b[1;34m(self)\u001b[0m\n\u001b[0;32m    398\u001b[0m \u001b[39mself\u001b[39m\u001b[39m.\u001b[39mlosses \u001b[39m=\u001b[39m []\n\u001b[0;32m    399\u001b[0m \u001b[39mfor\u001b[39;00m epoch \u001b[39min\u001b[39;00m \u001b[39mrange\u001b[39m(\u001b[39mself\u001b[39m\u001b[39m.\u001b[39mepochs):\n\u001b[1;32m--> 400\u001b[0m     train_loss \u001b[39m=\u001b[39m \u001b[39mself\u001b[39;49m\u001b[39m.\u001b[39;49mtrain_epoch(epoch)\n\u001b[0;32m    401\u001b[0m     \u001b[39mself\u001b[39m\u001b[39m.\u001b[39mlosses\u001b[39m.\u001b[39mappend(train_loss)\n",
      "File \u001b[1;32mc:\\Users\\efons\\anaconda3\\envs\\venv\\lib\\site-packages\\kmodels\\utils.py:418\u001b[0m, in \u001b[0;36mTraining.train_epoch\u001b[1;34m(self, epoch)\u001b[0m\n\u001b[0;32m    416\u001b[0m     loss\u001b[39m.\u001b[39mbackward()\n\u001b[0;32m    417\u001b[0m     train_loss \u001b[39m+\u001b[39m\u001b[39m=\u001b[39m loss\u001b[39m.\u001b[39mitem()\n\u001b[1;32m--> 418\u001b[0m     \u001b[39mself\u001b[39;49m\u001b[39m.\u001b[39;49moptimizer\u001b[39m.\u001b[39;49mstep()\n\u001b[0;32m    419\u001b[0m \u001b[39mif\u001b[39;00m \u001b[39mself\u001b[39m\u001b[39m.\u001b[39mscheduler \u001b[39mis\u001b[39;00m \u001b[39mnot\u001b[39;00m \u001b[39mNone\u001b[39;00m:\n\u001b[0;32m    420\u001b[0m     \u001b[39mself\u001b[39m\u001b[39m.\u001b[39mscheduler\u001b[39m.\u001b[39mstep(epoch)\n",
      "File \u001b[1;32mc:\\Users\\efons\\anaconda3\\envs\\venv\\lib\\site-packages\\torch\\optim\\optimizer.py:140\u001b[0m, in \u001b[0;36mOptimizer._hook_for_profile.<locals>.profile_hook_step.<locals>.wrapper\u001b[1;34m(*args, **kwargs)\u001b[0m\n\u001b[0;32m    138\u001b[0m profile_name \u001b[39m=\u001b[39m \u001b[39m\"\u001b[39m\u001b[39mOptimizer.step#\u001b[39m\u001b[39m{}\u001b[39;00m\u001b[39m.step\u001b[39m\u001b[39m\"\u001b[39m\u001b[39m.\u001b[39mformat(obj\u001b[39m.\u001b[39m\u001b[39m__class__\u001b[39m\u001b[39m.\u001b[39m\u001b[39m__name__\u001b[39m)\n\u001b[0;32m    139\u001b[0m \u001b[39mwith\u001b[39;00m torch\u001b[39m.\u001b[39mautograd\u001b[39m.\u001b[39mprofiler\u001b[39m.\u001b[39mrecord_function(profile_name):\n\u001b[1;32m--> 140\u001b[0m     out \u001b[39m=\u001b[39m func(\u001b[39m*\u001b[39margs, \u001b[39m*\u001b[39m\u001b[39m*\u001b[39mkwargs)\n\u001b[0;32m    141\u001b[0m     obj\u001b[39m.\u001b[39m_optimizer_step_code()\n\u001b[0;32m    142\u001b[0m     \u001b[39mreturn\u001b[39;00m out\n",
      "File \u001b[1;32mc:\\Users\\efons\\anaconda3\\envs\\venv\\lib\\site-packages\\torch\\optim\\optimizer.py:23\u001b[0m, in \u001b[0;36m_use_grad_for_differentiable.<locals>._use_grad\u001b[1;34m(self, *args, **kwargs)\u001b[0m\n\u001b[0;32m     21\u001b[0m \u001b[39mtry\u001b[39;00m:\n\u001b[0;32m     22\u001b[0m     torch\u001b[39m.\u001b[39mset_grad_enabled(\u001b[39mself\u001b[39m\u001b[39m.\u001b[39mdefaults[\u001b[39m'\u001b[39m\u001b[39mdifferentiable\u001b[39m\u001b[39m'\u001b[39m])\n\u001b[1;32m---> 23\u001b[0m     ret \u001b[39m=\u001b[39m func(\u001b[39mself\u001b[39m, \u001b[39m*\u001b[39margs, \u001b[39m*\u001b[39m\u001b[39m*\u001b[39mkwargs)\n\u001b[0;32m     24\u001b[0m \u001b[39mfinally\u001b[39;00m:\n\u001b[0;32m     25\u001b[0m     torch\u001b[39m.\u001b[39mset_grad_enabled(prev_grad)\n",
      "File \u001b[1;32mc:\\Users\\efons\\anaconda3\\envs\\venv\\lib\\site-packages\\torch\\optim\\adam.py:234\u001b[0m, in \u001b[0;36mAdam.step\u001b[1;34m(self, closure, grad_scaler)\u001b[0m\n\u001b[0;32m    231\u001b[0m                 \u001b[39mraise\u001b[39;00m \u001b[39mRuntimeError\u001b[39;00m(\u001b[39m'\u001b[39m\u001b[39m`requires_grad` is not supported for `step` in differentiable mode\u001b[39m\u001b[39m'\u001b[39m)\n\u001b[0;32m    232\u001b[0m             state_steps\u001b[39m.\u001b[39mappend(state[\u001b[39m'\u001b[39m\u001b[39mstep\u001b[39m\u001b[39m'\u001b[39m])\n\u001b[1;32m--> 234\u001b[0m     adam(params_with_grad,\n\u001b[0;32m    235\u001b[0m          grads,\n\u001b[0;32m    236\u001b[0m          exp_avgs,\n\u001b[0;32m    237\u001b[0m          exp_avg_sqs,\n\u001b[0;32m    238\u001b[0m          max_exp_avg_sqs,\n\u001b[0;32m    239\u001b[0m          state_steps,\n\u001b[0;32m    240\u001b[0m          amsgrad\u001b[39m=\u001b[39;49mgroup[\u001b[39m'\u001b[39;49m\u001b[39mamsgrad\u001b[39;49m\u001b[39m'\u001b[39;49m],\n\u001b[0;32m    241\u001b[0m          beta1\u001b[39m=\u001b[39;49mbeta1,\n\u001b[0;32m    242\u001b[0m          beta2\u001b[39m=\u001b[39;49mbeta2,\n\u001b[0;32m    243\u001b[0m          lr\u001b[39m=\u001b[39;49mgroup[\u001b[39m'\u001b[39;49m\u001b[39mlr\u001b[39;49m\u001b[39m'\u001b[39;49m],\n\u001b[0;32m    244\u001b[0m          weight_decay\u001b[39m=\u001b[39;49mgroup[\u001b[39m'\u001b[39;49m\u001b[39mweight_decay\u001b[39;49m\u001b[39m'\u001b[39;49m],\n\u001b[0;32m    245\u001b[0m          eps\u001b[39m=\u001b[39;49mgroup[\u001b[39m'\u001b[39;49m\u001b[39meps\u001b[39;49m\u001b[39m'\u001b[39;49m],\n\u001b[0;32m    246\u001b[0m          maximize\u001b[39m=\u001b[39;49mgroup[\u001b[39m'\u001b[39;49m\u001b[39mmaximize\u001b[39;49m\u001b[39m'\u001b[39;49m],\n\u001b[0;32m    247\u001b[0m          foreach\u001b[39m=\u001b[39;49mgroup[\u001b[39m'\u001b[39;49m\u001b[39mforeach\u001b[39;49m\u001b[39m'\u001b[39;49m],\n\u001b[0;32m    248\u001b[0m          capturable\u001b[39m=\u001b[39;49mgroup[\u001b[39m'\u001b[39;49m\u001b[39mcapturable\u001b[39;49m\u001b[39m'\u001b[39;49m],\n\u001b[0;32m    249\u001b[0m          differentiable\u001b[39m=\u001b[39;49mgroup[\u001b[39m'\u001b[39;49m\u001b[39mdifferentiable\u001b[39;49m\u001b[39m'\u001b[39;49m],\n\u001b[0;32m    250\u001b[0m          fused\u001b[39m=\u001b[39;49mgroup[\u001b[39m'\u001b[39;49m\u001b[39mfused\u001b[39;49m\u001b[39m'\u001b[39;49m],\n\u001b[0;32m    251\u001b[0m          grad_scale\u001b[39m=\u001b[39;49mgrad_scale,\n\u001b[0;32m    252\u001b[0m          found_inf\u001b[39m=\u001b[39;49mfound_inf)\n\u001b[0;32m    254\u001b[0m \u001b[39mreturn\u001b[39;00m loss\n",
      "File \u001b[1;32mc:\\Users\\efons\\anaconda3\\envs\\venv\\lib\\site-packages\\torch\\optim\\adam.py:300\u001b[0m, in \u001b[0;36madam\u001b[1;34m(params, grads, exp_avgs, exp_avg_sqs, max_exp_avg_sqs, state_steps, foreach, capturable, differentiable, fused, grad_scale, found_inf, amsgrad, beta1, beta2, lr, weight_decay, eps, maximize)\u001b[0m\n\u001b[0;32m    297\u001b[0m \u001b[39melse\u001b[39;00m:\n\u001b[0;32m    298\u001b[0m     func \u001b[39m=\u001b[39m _single_tensor_adam\n\u001b[1;32m--> 300\u001b[0m func(params,\n\u001b[0;32m    301\u001b[0m      grads,\n\u001b[0;32m    302\u001b[0m      exp_avgs,\n\u001b[0;32m    303\u001b[0m      exp_avg_sqs,\n\u001b[0;32m    304\u001b[0m      max_exp_avg_sqs,\n\u001b[0;32m    305\u001b[0m      state_steps,\n\u001b[0;32m    306\u001b[0m      amsgrad\u001b[39m=\u001b[39;49mamsgrad,\n\u001b[0;32m    307\u001b[0m      beta1\u001b[39m=\u001b[39;49mbeta1,\n\u001b[0;32m    308\u001b[0m      beta2\u001b[39m=\u001b[39;49mbeta2,\n\u001b[0;32m    309\u001b[0m      lr\u001b[39m=\u001b[39;49mlr,\n\u001b[0;32m    310\u001b[0m      weight_decay\u001b[39m=\u001b[39;49mweight_decay,\n\u001b[0;32m    311\u001b[0m      eps\u001b[39m=\u001b[39;49meps,\n\u001b[0;32m    312\u001b[0m      maximize\u001b[39m=\u001b[39;49mmaximize,\n\u001b[0;32m    313\u001b[0m      capturable\u001b[39m=\u001b[39;49mcapturable,\n\u001b[0;32m    314\u001b[0m      differentiable\u001b[39m=\u001b[39;49mdifferentiable,\n\u001b[0;32m    315\u001b[0m      grad_scale\u001b[39m=\u001b[39;49mgrad_scale,\n\u001b[0;32m    316\u001b[0m      found_inf\u001b[39m=\u001b[39;49mfound_inf)\n",
      "File \u001b[1;32mc:\\Users\\efons\\anaconda3\\envs\\venv\\lib\\site-packages\\torch\\optim\\adam.py:363\u001b[0m, in \u001b[0;36m_single_tensor_adam\u001b[1;34m(params, grads, exp_avgs, exp_avg_sqs, max_exp_avg_sqs, state_steps, grad_scale, found_inf, amsgrad, beta1, beta2, lr, weight_decay, eps, maximize, capturable, differentiable)\u001b[0m\n\u001b[0;32m    360\u001b[0m     param \u001b[39m=\u001b[39m torch\u001b[39m.\u001b[39mview_as_real(param)\n\u001b[0;32m    362\u001b[0m \u001b[39m# Decay the first and second moment running average coefficient\u001b[39;00m\n\u001b[1;32m--> 363\u001b[0m exp_avg\u001b[39m.\u001b[39;49mmul_(beta1)\u001b[39m.\u001b[39;49madd_(grad, alpha\u001b[39m=\u001b[39;49m\u001b[39m1\u001b[39;49m \u001b[39m-\u001b[39;49m beta1)\n\u001b[0;32m    364\u001b[0m exp_avg_sq\u001b[39m.\u001b[39mmul_(beta2)\u001b[39m.\u001b[39maddcmul_(grad, grad\u001b[39m.\u001b[39mconj(), value\u001b[39m=\u001b[39m\u001b[39m1\u001b[39m \u001b[39m-\u001b[39m beta2)\n\u001b[0;32m    366\u001b[0m \u001b[39mif\u001b[39;00m capturable \u001b[39mor\u001b[39;00m differentiable:\n",
      "\u001b[1;31mKeyboardInterrupt\u001b[0m: "
     ]
    }
   ],
   "source": [
    "v = VSECA(lr_init=5e-4, epochs=10001, hidden_dim=10, n_layers=5, batch_size=100, \n",
    "          latent_dim=2, y=y, device='cuda', reg_factor=0, beta=0, gamma=0,\n",
    "          scheduler=True, binary_dim=binary_dim, input_dim=x.shape[1])\n",
    "v.fit(x, x)"
   ]
  },
  {
   "cell_type": "code",
   "execution_count": 14,
   "metadata": {},
   "outputs": [
    {
     "data": {
      "text/plain": [
       "(0.14448552430682332,\n",
       " Adam (\n",
       " Parameter Group 0\n",
       "     amsgrad: False\n",
       "     betas: (0.9, 0.999)\n",
       "     capturable: False\n",
       "     differentiable: False\n",
       "     eps: 1e-08\n",
       "     foreach: None\n",
       "     fused: False\n",
       "     lr: 0.0005\n",
       "     maximize: False\n",
       "     weight_decay: 0\n",
       " ))"
      ]
     },
     "execution_count": 14,
     "metadata": {},
     "output_type": "execute_result"
    },
    {
     "data": {
      "image/png": "[encoded data removed]",
      "text/plain": [
       "<Figure size 640x480 with 1 Axes>"
      ]
     },
     "metadata": {},
     "output_type": "display_data"
    }
   ],
   "source": [
    "# plot the loss curves\n",
    "plt.plot(v.Training.losses, label='loss')\n",
    "v.score(x, x), v.Training.optimizer"
   ]
  },
  {
   "cell_type": "code",
   "execution_count": 15,
   "metadata": {},
   "outputs": [
    {
     "data": {
      "text/plain": [
       "<matplotlib.collections.PathCollection at 0x1caff667ee0>"
      ]
     },
     "execution_count": 15,
     "metadata": {},
     "output_type": "execute_result"
    },
    {
     "data": {
      "image/png": "[encoded data removed]",
      "text/plain": [
       "<Figure size 640x480 with 1 Axes>"
      ]
     },
     "metadata": {},
     "output_type": "display_data"
    }
   ],
   "source": [
    "# parity plot\n",
    "plt.scatter(x[0:plot_points], v.predict(x[0:plot_points]), alpha=0.1, edgecolor='k')"
   ]
  },
  {
   "cell_type": "code",
   "execution_count": 16,
   "metadata": {},
   "outputs": [
    {
     "data": {
      "text/plain": [
       "<matplotlib.collections.PathCollection at 0x1caff6dead0>"
      ]
     },
     "execution_count": 16,
     "metadata": {},
     "output_type": "execute_result"
    },
    {
     "data": {
      "image/png": "[encoded data removed]",
      "text/plain": [
       "<Figure size 640x480 with 1 Axes>"
      ]
     },
     "metadata": {},
     "output_type": "display_data"
    }
   ],
   "source": [
    "from sklearn.linear_model import LinearRegression\n",
    "reg = LinearRegression()\n",
    "z = v.model.encode(x)[0].detach().cpu().numpy()\n",
    "reg.fit(z, y)\n",
    "pred = reg.predict(z)\n",
    "pred.shape,y.shape\n",
    "plt.scatter(y, pred, alpha=0.1, edgecolor='k')"
   ]
  },
  {
   "cell_type": "code",
   "execution_count": 17,
   "metadata": {},
   "outputs": [
    {
     "data": {
      "text/plain": [
       "<matplotlib.collections.PathCollection at 0x1caff89cf70>"
      ]
     },
     "execution_count": 17,
     "metadata": {},
     "output_type": "execute_result"
    },
    {
     "data": {
      "image/png": "[encoded data removed]",
      "text/plain": [
       "<Figure size 640x480 with 1 Axes>"
      ]
     },
     "metadata": {},
     "output_type": "display_data"
    }
   ],
   "source": [
    "# latent space\n",
    "plt.scatter(v.model.encode(x[0:plot_points])[0][:,0].detach().cpu().numpy(), v.model.encode(x[0:plot_points])[0][:,1].detach().cpu().numpy(), alpha=0.1, edgecolor='k')"
   ]
  },
  {
   "cell_type": "code",
   "execution_count": 22,
   "metadata": {},
   "outputs": [
    {
     "data": {
      "application/vnd.plotly.v1+json": {
       "config": {
        "plotlyServerURL": "https://plot.ly"
       },
       "data": [
        {
         "coloraxis": "coloraxis",
         "hovertemplate": "x: %{x}<br>y: %{y}<br>color: %{z}<extra></extra>",
         "name": "0",
         "type": "heatmap",
         "xaxis": "x",
         "yaxis": "y",
         "z": [
          [
           0,
           0.43847426772117615,
           2.642094612121582,
           0.4752925634384155
          ],
          [
           1,
           0.3645748198032379,
           0.5486099720001221,
           0.3000597357749939
          ],
          [
           0,
           0.3442094027996063,
           0.19058382511138916,
           0.25133347511291504
          ],
          [
           1,
           0.107421875,
           1.119951605796814,
           0.7814905643463135
          ],
          [
           0,
           0.7721971273422241,
           0.4201062321662903,
           0.24041295051574707
          ],
          [
           0,
           0.4792032241821289,
           0.24203336238861084,
           0.5800319314002991
          ],
          [
           1,
           0.3892554044723511,
           0.1068093478679657,
           0.07951998710632324
          ],
          [
           0,
           0.09784293174743652,
           0.2850683331489563,
           0.4993475675582886
          ],
          [
           0,
           1.194028377532959,
           0.05572974681854248,
           0.4285880923271179
          ],
          [
           1,
           0.07311150431632996,
           0.08639693260192871,
           0.05102741718292236
          ],
          [
           1,
           0.7665412425994873,
           1.516660451889038,
           0.14117571711540222
          ],
          [
           1,
           0.9202204942703247,
           0.024471521377563477,
           1.0644645690917969
          ],
          [
           0,
           0.4393102526664734,
           0.48244011402130127,
           0.7371038198471069
          ],
          [
           0,
           0.6171549558639526,
           0.6450729370117188,
           0.8650057315826416
          ],
          [
           1,
           0.09747248888015747,
           0.30861395597457886,
           0.14516031742095947
          ],
          [
           0,
           1.0576032400131226,
           1.7908904552459717,
           0.6029825806617737
          ],
          [
           1,
           0.2567209005355835,
           0.08916157484054565,
           0.05499956011772156
          ],
          [
           0,
           1.3474377393722534,
           0.45409464836120605,
           0.301412969827652
          ],
          [
           1,
           1.6309490203857422,
           0.3368319869041443,
           0.9256114959716797
          ],
          [
           0,
           0.7121038436889648,
           0.010225772857666016,
           0.7011086940765381
          ],
          [
           1,
           1.94398832321167,
           1.2681083679199219,
           0.00743535440415144
          ],
          [
           0,
           0.8578351736068726,
           0.3332720398902893,
           0.5477505922317505
          ],
          [
           0,
           0.26219698786735535,
           0.36771509051322937,
           0.24307739734649658
          ],
          [
           0,
           0.6326895952224731,
           0.15945059061050415,
           0.29228347539901733
          ],
          [
           0,
           0.6622717380523682,
           0.9643689393997192,
           0.5768318176269531
          ],
          [
           0,
           0.4391278028488159,
           0.4106580913066864,
           0.23388338088989258
          ],
          [
           0,
           0.5725206136703491,
           0.003952831029891968,
           0.10185426473617554
          ],
          [
           1,
           0.54163658618927,
           0.4087377190589905,
           1.4123640060424805
          ],
          [
           0,
           0.7427414655685425,
           0.8540300130844116,
           0.15805315971374512
          ],
          [
           1,
           0.9966433048248291,
           1.216712236404419,
           0.22256207466125488
          ],
          [
           0,
           0.3558626174926758,
           0.4703397750854492,
           0.07060253620147705
          ],
          [
           0,
           0.33927327394485474,
           0.24385376274585724,
           0.24169397354125977
          ],
          [
           1,
           0.6804827451705933,
           0.7809739112854004,
           0.5082336068153381
          ],
          [
           0,
           1.308488368988037,
           0.17069202661514282,
           0.8081353902816772
          ],
          [
           0,
           1.7579995393753052,
           0.6329068541526794,
           1.2447397708892822
          ],
          [
           0,
           0.051525890827178955,
           0.9990274906158447,
           0.45344242453575134
          ],
          [
           0,
           1.7860682010650635,
           0.602063000202179,
           0.07527744770050049
          ],
          [
           1,
           0.20744693279266357,
           0.23381519317626953,
           0.5444418787956238
          ],
          [
           1,
           0.17671287059783936,
           1.051221489906311,
           0.8780429363250732
          ],
          [
           1,
           0.09638255834579468,
           0.4933289587497711,
           0.14373737573623657
          ],
          [
           1,
           0.5275425910949707,
           0.1302284300327301,
           0.28880542516708374
          ],
          [
           0,
           1.3612635135650635,
           1.2404534816741943,
           1.029200792312622
          ],
          [
           0,
           0.03964167833328247,
           1.4169257879257202,
           1.3191087245941162
          ],
          [
           1,
           1.5339027643203735,
           1.171797513961792,
           0.5129091143608093
          ],
          [
           1,
           0.3643856346607208,
           0.1058870255947113,
           0.28509587049484253
          ],
          [
           0,
           0.2579660415649414,
           0.22680318355560303,
           0.2593298852443695
          ],
          [
           1,
           0.8999113440513611,
           1.0852751731872559,
           0.8863570094108582
          ],
          [
           0,
           0.481119841337204,
           0.689085841178894,
           0.30352815985679626
          ],
          [
           1,
           0.6768094897270203,
           0.11707144975662231,
           0.13013893365859985
          ],
          [
           1,
           0.8226354122161865,
           0.36931005120277405,
           0.0719761848449707
          ],
          [
           0,
           0.1900976300239563,
           1.9727158546447754,
           0.3197823762893677
          ],
          [
           0,
           1.7230275869369507,
           0.1392298936843872,
           0.7026589512825012
          ],
          [
           0,
           0.49718791246414185,
           0.1741415560245514,
           0.20839285850524902
          ],
          [
           1,
           1.3260974884033203,
           0.938678503036499,
           0.11093509197235107
          ],
          [
           0,
           1.4779284000396729,
           0.21097615361213684,
           0.7520508170127869
          ],
          [
           0,
           1.6397945880889893,
           0.805256187915802,
           1.4819738864898682
          ],
          [
           0,
           0.8198538422584534,
           0.4004160761833191,
           0.20751634240150452
          ],
          [
           0,
           0.8849553465843201,
           0.3934422731399536,
           0.018713131546974182
          ],
          [
           0,
           0.4103116989135742,
           0.3223482370376587,
           0.11961567401885986
          ],
          [
           1,
           0.9466899633407593,
           0.22205257415771484,
           0.6775333285331726
          ],
          [
           0,
           0.03752732276916504,
           0.06610333919525146,
           0.0973883867263794
          ],
          [
           0,
           1.2267653942108154,
           1.4268823862075806,
           0.5719343423843384
          ],
          [
           0,
           0.5214929580688477,
           0.19553369283676147,
           0.2827260494232178
          ],
          [
           1,
           0.7649755477905273,
           0.42578554153442383,
           0.6845434308052063
          ],
          [
           1,
           0.08408510684967041,
           0.07539793848991394,
           0.1481684446334839
          ],
          [
           0,
           0.6369671821594238,
           0.8644546270370483,
           0.2455235719680786
          ],
          [
           0,
           0.049482256174087524,
           0.03837865591049194,
           0.19696569442749023
          ],
          [
           0,
           2.4033026695251465,
           1.694242000579834,
           0.09896719455718994
          ],
          [
           1,
           0.4853121042251587,
           0.2641690969467163,
           0.20550835132598877
          ],
          [
           1,
           0.5419609546661377,
           0.8972184062004089,
           0.45346057415008545
          ],
          [
           1,
           0.24878087639808655,
           0.13492783904075623,
           0.12363427877426147
          ],
          [
           1,
           0.588891863822937,
           0.18439021706581116,
           0.14266753196716309
          ],
          [
           1,
           0.1623953878879547,
           0.6519126892089844,
           0.026711761951446533
          ],
          [
           0,
           2.090939998626709,
           0.9912185668945312,
           0.2374049425125122
          ],
          [
           0,
           0.6500177383422852,
           0.036139488220214844,
           0.8597415089607239
          ],
          [
           1,
           0.3716464638710022,
           0.7137187719345093,
           0.9585361480712891
          ],
          [
           0,
           1.3418570756912231,
           1.392725944519043,
           0.6981639862060547
          ],
          [
           0,
           0.6010726690292358,
           0.8215470314025879,
           0.16577470302581787
          ],
          [
           0,
           0.790742039680481,
           0.18001967668533325,
           0.12860822677612305
          ],
          [
           0,
           1.48724365234375,
           0.25839269161224365,
           0.9276432394981384
          ],
          [
           1,
           1.3958508968353271,
           0.9332797527313232,
           0.07710924744606018
          ],
          [
           0,
           1.5789374113082886,
           0.5595844984054565,
           0.15301424264907837
          ],
          [
           0,
           0.5937427878379822,
           0.16174578666687012,
           0.08352124691009521
          ],
          [
           1,
           0.38095954060554504,
           1.0351336002349854,
           0.10401171445846558
          ],
          [
           0,
           0.03339919447898865,
           0.319797545671463,
           0.21974393725395203
          ],
          [
           0,
           0.08258545398712158,
           0.40814208984375,
           0.27405911684036255
          ],
          [
           0,
           0.7983992099761963,
           0.12879112362861633,
           0.28610485792160034
          ],
          [
           0,
           0.08205010741949081,
           0.28811562061309814,
           0.1304229497909546
          ],
          [
           1,
           0.446973592042923,
           0.35040777921676636,
           0.08568418025970459
          ],
          [
           1,
           0.13856126368045807,
           0.24572362005710602,
           0.047560811042785645
          ],
          [
           0,
           0.06730344891548157,
           0.9853979349136353,
           0.16112852096557617
          ],
          [
           0,
           0.7790929079055786,
           0.48033463954925537,
           0.5022528767585754
          ],
          [
           1,
           0.3561626970767975,
           0.33008861541748047,
           0.15601521730422974
          ],
          [
           0,
           0.6263707876205444,
           0.07320520281791687,
           0.2759215831756592
          ],
          [
           0,
           0.25368207693099976,
           1.3908307552337646,
           1.11334228515625
          ],
          [
           1,
           0.061806172132492065,
           0.3770597577095032,
           0.5455170273780823
          ],
          [
           0,
           0.8250895738601685,
           0.2610012888908386,
           1.6158645153045654
          ],
          [
           1,
           0.9466252326965332,
           0.9207335710525513,
           0.05480372905731201
          ],
          [
           0,
           0.2437814474105835,
           0.39680808782577515,
           0.6138780117034912
          ],
          [
           1,
           0.0021026134490966797,
           0.30773109197616577,
           0.3347760736942291
          ]
         ]
        }
       ],
       "layout": {
        "coloraxis": {
         "colorscale": [
          [
           0,
           "#0d0887"
          ],
          [
           0.1111111111111111,
           "#46039f"
          ],
          [
           0.2222222222222222,
           "#7201a8"
          ],
          [
           0.3333333333333333,
           "#9c179e"
          ],
          [
           0.4444444444444444,
           "#bd3786"
          ],
          [
           0.5555555555555556,
           "#d8576b"
          ],
          [
           0.6666666666666666,
           "#ed7953"
          ],
          [
           0.7777777777777778,
           "#fb9f3a"
          ],
          [
           0.8888888888888888,
           "#fdca26"
          ],
          [
           1,
           "#f0f921"
          ]
         ]
        },
        "height": 500,
        "margin": {
         "t": 60
        },
        "template": {
         "data": {
          "bar": [
           {
            "error_x": {
             "color": "#2a3f5f"
            },
            "error_y": {
             "color": "#2a3f5f"
            },
            "marker": {
             "line": {
              "color": "#E5ECF6",
              "width": 0.5
             },
             "pattern": {
              "fillmode": "overlay",
              "size": 10,
              "solidity": 0.2
             }
            },
            "type": "bar"
           }
          ],
          "barpolar": [
           {
            "marker": {
             "line": {
              "color": "#E5ECF6",
              "width": 0.5
             },
             "pattern": {
              "fillmode": "overlay",
              "size": 10,
              "solidity": 0.2
             }
            },
            "type": "barpolar"
           }
          ],
          "carpet": [
           {
            "aaxis": {
             "endlinecolor": "#2a3f5f",
             "gridcolor": "white",
             "linecolor": "white",
             "minorgridcolor": "white",
             "startlinecolor": "#2a3f5f"
            },
            "baxis": {
             "endlinecolor": "#2a3f5f",
             "gridcolor": "white",
             "linecolor": "white",
             "minorgridcolor": "white",
             "startlinecolor": "#2a3f5f"
            },
            "type": "carpet"
           }
          ],
          "choropleth": [
           {
            "colorbar": {
             "outlinewidth": 0,
             "ticks": ""
            },
            "type": "choropleth"
           }
          ],
          "contour": [
           {
            "colorbar": {
             "outlinewidth": 0,
             "ticks": ""
            },
            "colorscale": [
             [
              0,
              "#0d0887"
             ],
             [
              0.1111111111111111,
              "#46039f"
             ],
             [
              0.2222222222222222,
              "#7201a8"
             ],
             [
              0.3333333333333333,
              "#9c179e"
             ],
             [
              0.4444444444444444,
              "#bd3786"
             ],
             [
              0.5555555555555556,
              "#d8576b"
             ],
             [
              0.6666666666666666,
              "#ed7953"
             ],
             [
              0.7777777777777778,
              "#fb9f3a"
             ],
             [
              0.8888888888888888,
              "#fdca26"
             ],
             [
              1,
              "#f0f921"
             ]
            ],
            "type": "contour"
           }
          ],
          "contourcarpet": [
           {
            "colorbar": {
             "outlinewidth": 0,
             "ticks": ""
            },
            "type": "contourcarpet"
           }
          ],
          "heatmap": [
           {
            "colorbar": {
             "outlinewidth": 0,
             "ticks": ""
            },
            "colorscale": [
             [
              0,
              "#0d0887"
             ],
             [
              0.1111111111111111,
              "#46039f"
             ],
             [
              0.2222222222222222,
              "#7201a8"
             ],
             [
              0.3333333333333333,
              "#9c179e"
             ],
             [
              0.4444444444444444,
              "#bd3786"
             ],
             [
              0.5555555555555556,
              "#d8576b"
             ],
             [
              0.6666666666666666,
              "#ed7953"
             ],
             [
              0.7777777777777778,
              "#fb9f3a"
             ],
             [
              0.8888888888888888,
              "#fdca26"
             ],
             [
              1,
              "#f0f921"
             ]
            ],
            "type": "heatmap"
           }
          ],
          "heatmapgl": [
           {
            "colorbar": {
             "outlinewidth": 0,
             "ticks": ""
            },
            "colorscale": [
             [
              0,
              "#0d0887"
             ],
             [
              0.1111111111111111,
              "#46039f"
             ],
             [
              0.2222222222222222,
              "#7201a8"
             ],
             [
              0.3333333333333333,
              "#9c179e"
             ],
             [
              0.4444444444444444,
              "#bd3786"
             ],
             [
              0.5555555555555556,
              "#d8576b"
             ],
             [
              0.6666666666666666,
              "#ed7953"
             ],
             [
              0.7777777777777778,
              "#fb9f3a"
             ],
             [
              0.8888888888888888,
              "#fdca26"
             ],
             [
              1,
              "#f0f921"
             ]
            ],
            "type": "heatmapgl"
           }
          ],
          "histogram": [
           {
            "marker": {
             "pattern": {
              "fillmode": "overlay",
              "size": 10,
              "solidity": 0.2
             }
            },
            "type": "histogram"
           }
          ],
          "histogram2d": [
           {
            "colorbar": {
             "outlinewidth": 0,
             "ticks": ""
            },
            "colorscale": [
             [
              0,
              "#0d0887"
             ],
             [
              0.1111111111111111,
              "#46039f"
             ],
             [
              0.2222222222222222,
              "#7201a8"
             ],
             [
              0.3333333333333333,
              "#9c179e"
             ],
             [
              0.4444444444444444,
              "#bd3786"
             ],
             [
              0.5555555555555556,
              "#d8576b"
             ],
             [
              0.6666666666666666,
              "#ed7953"
             ],
             [
              0.7777777777777778,
              "#fb9f3a"
             ],
             [
              0.8888888888888888,
              "#fdca26"
             ],
             [
              1,
              "#f0f921"
             ]
            ],
            "type": "histogram2d"
           }
          ],
          "histogram2dcontour": [
           {
            "colorbar": {
             "outlinewidth": 0,
             "ticks": ""
            },
            "colorscale": [
             [
              0,
              "#0d0887"
             ],
             [
              0.1111111111111111,
              "#46039f"
             ],
             [
              0.2222222222222222,
              "#7201a8"
             ],
             [
              0.3333333333333333,
              "#9c179e"
             ],
             [
              0.4444444444444444,
              "#bd3786"
             ],
             [
              0.5555555555555556,
              "#d8576b"
             ],
             [
              0.6666666666666666,
              "#ed7953"
             ],
             [
              0.7777777777777778,
              "#fb9f3a"
             ],
             [
              0.8888888888888888,
              "#fdca26"
             ],
             [
              1,
              "#f0f921"
             ]
            ],
            "type": "histogram2dcontour"
           }
          ],
          "mesh3d": [
           {
            "colorbar": {
             "outlinewidth": 0,
             "ticks": ""
            },
            "type": "mesh3d"
           }
          ],
          "parcoords": [
           {
            "line": {
             "colorbar": {
              "outlinewidth": 0,
              "ticks": ""
             }
            },
            "type": "parcoords"
           }
          ],
          "pie": [
           {
            "automargin": true,
            "type": "pie"
           }
          ],
          "scatter": [
           {
            "fillpattern": {
             "fillmode": "overlay",
             "size": 10,
             "solidity": 0.2
            },
            "type": "scatter"
           }
          ],
          "scatter3d": [
           {
            "line": {
             "colorbar": {
              "outlinewidth": 0,
              "ticks": ""
             }
            },
            "marker": {
             "colorbar": {
              "outlinewidth": 0,
              "ticks": ""
             }
            },
            "type": "scatter3d"
           }
          ],
          "scattercarpet": [
           {
            "marker": {
             "colorbar": {
              "outlinewidth": 0,
              "ticks": ""
             }
            },
            "type": "scattercarpet"
           }
          ],
          "scattergeo": [
           {
            "marker": {
             "colorbar": {
              "outlinewidth": 0,
              "ticks": ""
             }
            },
            "type": "scattergeo"
           }
          ],
          "scattergl": [
           {
            "marker": {
             "colorbar": {
              "outlinewidth": 0,
              "ticks": ""
             }
            },
            "type": "scattergl"
           }
          ],
          "scattermapbox": [
           {
            "marker": {
             "colorbar": {
              "outlinewidth": 0,
              "ticks": ""
             }
            },
            "type": "scattermapbox"
           }
          ],
          "scatterpolar": [
           {
            "marker": {
             "colorbar": {
              "outlinewidth": 0,
              "ticks": ""
             }
            },
            "type": "scatterpolar"
           }
          ],
          "scatterpolargl": [
           {
            "marker": {
             "colorbar": {
              "outlinewidth": 0,
              "ticks": ""
             }
            },
            "type": "scatterpolargl"
           }
          ],
          "scatterternary": [
           {
            "marker": {
             "colorbar": {
              "outlinewidth": 0,
              "ticks": ""
             }
            },
            "type": "scatterternary"
           }
          ],
          "surface": [
           {
            "colorbar": {
             "outlinewidth": 0,
             "ticks": ""
            },
            "colorscale": [
             [
              0,
              "#0d0887"
             ],
             [
              0.1111111111111111,
              "#46039f"
             ],
             [
              0.2222222222222222,
              "#7201a8"
             ],
             [
              0.3333333333333333,
              "#9c179e"
             ],
             [
              0.4444444444444444,
              "#bd3786"
             ],
             [
              0.5555555555555556,
              "#d8576b"
             ],
             [
              0.6666666666666666,
              "#ed7953"
             ],
             [
              0.7777777777777778,
              "#fb9f3a"
             ],
             [
              0.8888888888888888,
              "#fdca26"
             ],
             [
              1,
              "#f0f921"
             ]
            ],
            "type": "surface"
           }
          ],
          "table": [
           {
            "cells": {
             "fill": {
              "color": "#EBF0F8"
             },
             "line": {
              "color": "white"
             }
            },
            "header": {
             "fill": {
              "color": "#C8D4E3"
             },
             "line": {
              "color": "white"
             }
            },
            "type": "table"
           }
          ]
         },
         "layout": {
          "annotationdefaults": {
           "arrowcolor": "#2a3f5f",
           "arrowhead": 0,
           "arrowwidth": 1
          },
          "autotypenumbers": "strict",
          "coloraxis": {
           "colorbar": {
            "outlinewidth": 0,
            "ticks": ""
           }
          },
          "colorscale": {
           "diverging": [
            [
             0,
             "#8e0152"
            ],
            [
             0.1,
             "#c51b7d"
            ],
            [
             0.2,
             "#de77ae"
            ],
            [
             0.3,
             "#f1b6da"
            ],
            [
             0.4,
             "#fde0ef"
            ],
            [
             0.5,
             "#f7f7f7"
            ],
            [
             0.6,
             "#e6f5d0"
            ],
            [
             0.7,
             "#b8e186"
            ],
            [
             0.8,
             "#7fbc41"
            ],
            [
             0.9,
             "#4d9221"
            ],
            [
             1,
             "#276419"
            ]
           ],
           "sequential": [
            [
             0,
             "#0d0887"
            ],
            [
             0.1111111111111111,
             "#46039f"
            ],
            [
             0.2222222222222222,
             "#7201a8"
            ],
            [
             0.3333333333333333,
             "#9c179e"
            ],
            [
             0.4444444444444444,
             "#bd3786"
            ],
            [
             0.5555555555555556,
             "#d8576b"
            ],
            [
             0.6666666666666666,
             "#ed7953"
            ],
            [
             0.7777777777777778,
             "#fb9f3a"
            ],
            [
             0.8888888888888888,
             "#fdca26"
            ],
            [
             1,
             "#f0f921"
            ]
           ],
           "sequentialminus": [
            [
             0,
             "#0d0887"
            ],
            [
             0.1111111111111111,
             "#46039f"
            ],
            [
             0.2222222222222222,
             "#7201a8"
            ],
            [
             0.3333333333333333,
             "#9c179e"
            ],
            [
             0.4444444444444444,
             "#bd3786"
            ],
            [
             0.5555555555555556,
             "#d8576b"
            ],
            [
             0.6666666666666666,
             "#ed7953"
            ],
            [
             0.7777777777777778,
             "#fb9f3a"
            ],
            [
             0.8888888888888888,
             "#fdca26"
            ],
            [
             1,
             "#f0f921"
            ]
           ]
          },
          "colorway": [
           "#636efa",
           "#EF553B",
           "#00cc96",
           "#ab63fa",
           "#FFA15A",
           "#19d3f3",
           "#FF6692",
           "#B6E880",
           "#FF97FF",
           "#FECB52"
          ],
          "font": {
           "color": "#2a3f5f"
          },
          "geo": {
           "bgcolor": "white",
           "lakecolor": "white",
           "landcolor": "#E5ECF6",
           "showlakes": true,
           "showland": true,
           "subunitcolor": "white"
          },
          "hoverlabel": {
           "align": "left"
          },
          "hovermode": "closest",
          "mapbox": {
           "style": "light"
          },
          "paper_bgcolor": "white",
          "plot_bgcolor": "#E5ECF6",
          "polar": {
           "angularaxis": {
            "gridcolor": "white",
            "linecolor": "white",
            "ticks": ""
           },
           "bgcolor": "#E5ECF6",
           "radialaxis": {
            "gridcolor": "white",
            "linecolor": "white",
            "ticks": ""
           }
          },
          "scene": {
           "xaxis": {
            "backgroundcolor": "#E5ECF6",
            "gridcolor": "white",
            "gridwidth": 2,
            "linecolor": "white",
            "showbackground": true,
            "ticks": "",
            "zerolinecolor": "white"
           },
           "yaxis": {
            "backgroundcolor": "#E5ECF6",
            "gridcolor": "white",
            "gridwidth": 2,
            "linecolor": "white",
            "showbackground": true,
            "ticks": "",
            "zerolinecolor": "white"
           },
           "zaxis": {
            "backgroundcolor": "#E5ECF6",
            "gridcolor": "white",
            "gridwidth": 2,
            "linecolor": "white",
            "showbackground": true,
            "ticks": "",
            "zerolinecolor": "white"
           }
          },
          "shapedefaults": {
           "line": {
            "color": "#2a3f5f"
           }
          },
          "ternary": {
           "aaxis": {
            "gridcolor": "white",
            "linecolor": "white",
            "ticks": ""
           },
           "baxis": {
            "gridcolor": "white",
            "linecolor": "white",
            "ticks": ""
           },
           "bgcolor": "#E5ECF6",
           "caxis": {
            "gridcolor": "white",
            "linecolor": "white",
            "ticks": ""
           }
          },
          "title": {
           "x": 0.05
          },
          "xaxis": {
           "automargin": true,
           "gridcolor": "white",
           "linecolor": "white",
           "ticks": "",
           "title": {
            "standoff": 15
           },
           "zerolinecolor": "white",
           "zerolinewidth": 2
          },
          "yaxis": {
           "automargin": true,
           "gridcolor": "white",
           "linecolor": "white",
           "ticks": "",
           "title": {
            "standoff": 15
           },
           "zerolinecolor": "white",
           "zerolinewidth": 2
          }
         }
        },
        "width": 500,
        "xaxis": {
         "anchor": "y",
         "constrain": "domain",
         "domain": [
          0,
          1
         ],
         "scaleanchor": "y"
        },
        "yaxis": {
         "anchor": "x",
         "autorange": "reversed",
         "constrain": "domain",
         "domain": [
          0,
          1
         ]
        }
       }
      }
     },
     "metadata": {},
     "output_type": "display_data"
    }
   ],
   "source": [
    "recon_x, mu, logvar = v.model(x)\n",
    "recon_x = recon_x.detach().cpu().numpy()\n",
    "# plot as a 10x10 image \n",
    "px.imshow(np.abs(recon_x[:100]-x[:100].detach().cpu().numpy()), width=500, height=500)"
   ]
  },
  {
   "cell_type": "code",
   "execution_count": 23,
   "metadata": {},
   "outputs": [
    {
     "name": "stdout",
     "output_type": "stream",
     "text": [
      "Fitting 5 folds for each of 10 candidates, totalling 50 fits\n"
     ]
    },
    {
     "name": "stderr",
     "output_type": "stream",
     "text": [
      "c:\\Users\\efons\\anaconda3\\envs\\venv\\lib\\site-packages\\kmodels\\utils.py:324: UserWarning:\n",
      "\n",
      "Using a target size (torch.Size([800, 4])) that is different to the input size (torch.Size([100, 4])). This will likely lead to incorrect results due to broadcasting. Please ensure they have the same size.\n",
      "\n",
      "c:\\Users\\efons\\anaconda3\\envs\\venv\\lib\\site-packages\\kmodels\\utils.py:324: UserWarning:\n",
      "\n",
      "Using a target size (torch.Size([800, 4])) that is different to the input size (torch.Size([100, 4])). This will likely lead to incorrect results due to broadcasting. Please ensure they have the same size.\n",
      "\n",
      "c:\\Users\\efons\\anaconda3\\envs\\venv\\lib\\site-packages\\kmodels\\utils.py:324: UserWarning:\n",
      "\n",
      "Using a target size (torch.Size([800, 4])) that is different to the input size (torch.Size([100, 4])). This will likely lead to incorrect results due to broadcasting. Please ensure they have the same size.\n",
      "\n",
      "c:\\Users\\efons\\anaconda3\\envs\\venv\\lib\\site-packages\\kmodels\\utils.py:324: UserWarning:\n",
      "\n",
      "Using a target size (torch.Size([800, 4])) that is different to the input size (torch.Size([100, 4])). This will likely lead to incorrect results due to broadcasting. Please ensure they have the same size.\n",
      "\n",
      "c:\\Users\\efons\\anaconda3\\envs\\venv\\lib\\site-packages\\kmodels\\utils.py:324: UserWarning:\n",
      "\n",
      "Using a target size (torch.Size([800, 4])) that is different to the input size (torch.Size([100, 4])). This will likely lead to incorrect results due to broadcasting. Please ensure they have the same size.\n",
      "\n",
      "c:\\Users\\efons\\anaconda3\\envs\\venv\\lib\\site-packages\\kmodels\\utils.py:324: UserWarning:\n",
      "\n",
      "Using a target size (torch.Size([800, 4])) that is different to the input size (torch.Size([100, 4])). This will likely lead to incorrect results due to broadcasting. Please ensure they have the same size.\n",
      "\n",
      "c:\\Users\\efons\\anaconda3\\envs\\venv\\lib\\site-packages\\kmodels\\utils.py:324: UserWarning:\n",
      "\n",
      "Using a target size (torch.Size([800, 4])) that is different to the input size (torch.Size([100, 4])). This will likely lead to incorrect results due to broadcasting. Please ensure they have the same size.\n",
      "\n",
      "c:\\Users\\efons\\anaconda3\\envs\\venv\\lib\\site-packages\\kmodels\\utils.py:324: UserWarning:\n",
      "\n",
      "Using a target size (torch.Size([800, 4])) that is different to the input size (torch.Size([100, 4])). This will likely lead to incorrect results due to broadcasting. Please ensure they have the same size.\n",
      "\n",
      "c:\\Users\\efons\\anaconda3\\envs\\venv\\lib\\site-packages\\kmodels\\utils.py:324: UserWarning:\n",
      "\n",
      "Using a target size (torch.Size([800, 4])) that is different to the input size (torch.Size([100, 4])). This will likely lead to incorrect results due to broadcasting. Please ensure they have the same size.\n",
      "\n",
      "c:\\Users\\efons\\anaconda3\\envs\\venv\\lib\\site-packages\\kmodels\\utils.py:324: UserWarning:\n",
      "\n",
      "Using a target size (torch.Size([800, 4])) that is different to the input size (torch.Size([100, 4])). This will likely lead to incorrect results due to broadcasting. Please ensure they have the same size.\n",
      "\n",
      "c:\\Users\\efons\\anaconda3\\envs\\venv\\lib\\site-packages\\kmodels\\utils.py:324: UserWarning:\n",
      "\n",
      "Using a target size (torch.Size([800, 4])) that is different to the input size (torch.Size([100, 4])). This will likely lead to incorrect results due to broadcasting. Please ensure they have the same size.\n",
      "\n",
      "c:\\Users\\efons\\anaconda3\\envs\\venv\\lib\\site-packages\\kmodels\\utils.py:324: UserWarning:\n",
      "\n",
      "Using a target size (torch.Size([800, 4])) that is different to the input size (torch.Size([100, 4])). This will likely lead to incorrect results due to broadcasting. Please ensure they have the same size.\n",
      "\n",
      "c:\\Users\\efons\\anaconda3\\envs\\venv\\lib\\site-packages\\kmodels\\utils.py:324: UserWarning:\n",
      "\n",
      "Using a target size (torch.Size([800, 4])) that is different to the input size (torch.Size([100, 4])). This will likely lead to incorrect results due to broadcasting. Please ensure they have the same size.\n",
      "\n",
      "c:\\Users\\efons\\anaconda3\\envs\\venv\\lib\\site-packages\\kmodels\\utils.py:324: UserWarning:\n",
      "\n",
      "Using a target size (torch.Size([800, 4])) that is different to the input size (torch.Size([100, 4])). This will likely lead to incorrect results due to broadcasting. Please ensure they have the same size.\n",
      "\n",
      "c:\\Users\\efons\\anaconda3\\envs\\venv\\lib\\site-packages\\kmodels\\utils.py:324: UserWarning:\n",
      "\n",
      "Using a target size (torch.Size([800, 4])) that is different to the input size (torch.Size([100, 4])). This will likely lead to incorrect results due to broadcasting. Please ensure they have the same size.\n",
      "\n",
      "c:\\Users\\efons\\anaconda3\\envs\\venv\\lib\\site-packages\\kmodels\\utils.py:324: UserWarning:\n",
      "\n",
      "Using a target size (torch.Size([800, 4])) that is different to the input size (torch.Size([100, 4])). This will likely lead to incorrect results due to broadcasting. Please ensure they have the same size.\n",
      "\n",
      "c:\\Users\\efons\\anaconda3\\envs\\venv\\lib\\site-packages\\kmodels\\utils.py:324: UserWarning:\n",
      "\n",
      "Using a target size (torch.Size([800, 4])) that is different to the input size (torch.Size([100, 4])). This will likely lead to incorrect results due to broadcasting. Please ensure they have the same size.\n",
      "\n",
      "c:\\Users\\efons\\anaconda3\\envs\\venv\\lib\\site-packages\\kmodels\\utils.py:324: UserWarning:\n",
      "\n",
      "Using a target size (torch.Size([800, 4])) that is different to the input size (torch.Size([100, 4])). This will likely lead to incorrect results due to broadcasting. Please ensure they have the same size.\n",
      "\n",
      "c:\\Users\\efons\\anaconda3\\envs\\venv\\lib\\site-packages\\kmodels\\utils.py:324: UserWarning:\n",
      "\n",
      "Using a target size (torch.Size([800, 4])) that is different to the input size (torch.Size([100, 4])). This will likely lead to incorrect results due to broadcasting. Please ensure they have the same size.\n",
      "\n",
      "c:\\Users\\efons\\anaconda3\\envs\\venv\\lib\\site-packages\\kmodels\\utils.py:324: UserWarning:\n",
      "\n",
      "Using a target size (torch.Size([800, 4])) that is different to the input size (torch.Size([100, 4])). This will likely lead to incorrect results due to broadcasting. Please ensure they have the same size.\n",
      "\n",
      "c:\\Users\\efons\\anaconda3\\envs\\venv\\lib\\site-packages\\kmodels\\utils.py:324: UserWarning:\n",
      "\n",
      "Using a target size (torch.Size([800, 4])) that is different to the input size (torch.Size([100, 4])). This will likely lead to incorrect results due to broadcasting. Please ensure they have the same size.\n",
      "\n",
      "c:\\Users\\efons\\anaconda3\\envs\\venv\\lib\\site-packages\\kmodels\\utils.py:324: UserWarning:\n",
      "\n",
      "Using a target size (torch.Size([800, 4])) that is different to the input size (torch.Size([100, 4])). This will likely lead to incorrect results due to broadcasting. Please ensure they have the same size.\n",
      "\n",
      "c:\\Users\\efons\\anaconda3\\envs\\venv\\lib\\site-packages\\kmodels\\utils.py:324: UserWarning:\n",
      "\n",
      "Using a target size (torch.Size([800, 4])) that is different to the input size (torch.Size([100, 4])). This will likely lead to incorrect results due to broadcasting. Please ensure they have the same size.\n",
      "\n",
      "c:\\Users\\efons\\anaconda3\\envs\\venv\\lib\\site-packages\\kmodels\\utils.py:324: UserWarning:\n",
      "\n",
      "Using a target size (torch.Size([800, 4])) that is different to the input size (torch.Size([100, 4])). This will likely lead to incorrect results due to broadcasting. Please ensure they have the same size.\n",
      "\n",
      "c:\\Users\\efons\\anaconda3\\envs\\venv\\lib\\site-packages\\kmodels\\utils.py:324: UserWarning:\n",
      "\n",
      "Using a target size (torch.Size([800, 4])) that is different to the input size (torch.Size([100, 4])). This will likely lead to incorrect results due to broadcasting. Please ensure they have the same size.\n",
      "\n",
      "c:\\Users\\efons\\anaconda3\\envs\\venv\\lib\\site-packages\\kmodels\\utils.py:324: UserWarning:\n",
      "\n",
      "Using a target size (torch.Size([800, 4])) that is different to the input size (torch.Size([100, 4])). This will likely lead to incorrect results due to broadcasting. Please ensure they have the same size.\n",
      "\n",
      "c:\\Users\\efons\\anaconda3\\envs\\venv\\lib\\site-packages\\kmodels\\utils.py:324: UserWarning:\n",
      "\n",
      "Using a target size (torch.Size([800, 4])) that is different to the input size (torch.Size([100, 4])). This will likely lead to incorrect results due to broadcasting. Please ensure they have the same size.\n",
      "\n",
      "c:\\Users\\efons\\anaconda3\\envs\\venv\\lib\\site-packages\\kmodels\\utils.py:324: UserWarning:\n",
      "\n",
      "Using a target size (torch.Size([800, 4])) that is different to the input size (torch.Size([100, 4])). This will likely lead to incorrect results due to broadcasting. Please ensure they have the same size.\n",
      "\n",
      "c:\\Users\\efons\\anaconda3\\envs\\venv\\lib\\site-packages\\kmodels\\utils.py:324: UserWarning:\n",
      "\n",
      "Using a target size (torch.Size([800, 4])) that is different to the input size (torch.Size([100, 4])). This will likely lead to incorrect results due to broadcasting. Please ensure they have the same size.\n",
      "\n",
      "c:\\Users\\efons\\anaconda3\\envs\\venv\\lib\\site-packages\\kmodels\\utils.py:324: UserWarning:\n",
      "\n",
      "Using a target size (torch.Size([800, 4])) that is different to the input size (torch.Size([100, 4])). This will likely lead to incorrect results due to broadcasting. Please ensure they have the same size.\n",
      "\n",
      "c:\\Users\\efons\\anaconda3\\envs\\venv\\lib\\site-packages\\kmodels\\utils.py:324: UserWarning:\n",
      "\n",
      "Using a target size (torch.Size([800, 4])) that is different to the input size (torch.Size([100, 4])). This will likely lead to incorrect results due to broadcasting. Please ensure they have the same size.\n",
      "\n",
      "c:\\Users\\efons\\anaconda3\\envs\\venv\\lib\\site-packages\\kmodels\\utils.py:324: UserWarning:\n",
      "\n",
      "Using a target size (torch.Size([800, 4])) that is different to the input size (torch.Size([100, 4])). This will likely lead to incorrect results due to broadcasting. Please ensure they have the same size.\n",
      "\n",
      "c:\\Users\\efons\\anaconda3\\envs\\venv\\lib\\site-packages\\kmodels\\utils.py:324: UserWarning:\n",
      "\n",
      "Using a target size (torch.Size([800, 4])) that is different to the input size (torch.Size([100, 4])). This will likely lead to incorrect results due to broadcasting. Please ensure they have the same size.\n",
      "\n",
      "c:\\Users\\efons\\anaconda3\\envs\\venv\\lib\\site-packages\\kmodels\\utils.py:324: UserWarning:\n",
      "\n",
      "Using a target size (torch.Size([800, 4])) that is different to the input size (torch.Size([100, 4])). This will likely lead to incorrect results due to broadcasting. Please ensure they have the same size.\n",
      "\n",
      "c:\\Users\\efons\\anaconda3\\envs\\venv\\lib\\site-packages\\kmodels\\utils.py:324: UserWarning:\n",
      "\n",
      "Using a target size (torch.Size([800, 4])) that is different to the input size (torch.Size([100, 4])). This will likely lead to incorrect results due to broadcasting. Please ensure they have the same size.\n",
      "\n",
      "c:\\Users\\efons\\anaconda3\\envs\\venv\\lib\\site-packages\\kmodels\\utils.py:324: UserWarning:\n",
      "\n",
      "Using a target size (torch.Size([800, 4])) that is different to the input size (torch.Size([100, 4])). This will likely lead to incorrect results due to broadcasting. Please ensure they have the same size.\n",
      "\n",
      "c:\\Users\\efons\\anaconda3\\envs\\venv\\lib\\site-packages\\kmodels\\utils.py:324: UserWarning:\n",
      "\n",
      "Using a target size (torch.Size([800, 4])) that is different to the input size (torch.Size([100, 4])). This will likely lead to incorrect results due to broadcasting. Please ensure they have the same size.\n",
      "\n",
      "c:\\Users\\efons\\anaconda3\\envs\\venv\\lib\\site-packages\\kmodels\\utils.py:324: UserWarning:\n",
      "\n",
      "Using a target size (torch.Size([800, 4])) that is different to the input size (torch.Size([100, 4])). This will likely lead to incorrect results due to broadcasting. Please ensure they have the same size.\n",
      "\n",
      "c:\\Users\\efons\\anaconda3\\envs\\venv\\lib\\site-packages\\kmodels\\utils.py:324: UserWarning:\n",
      "\n",
      "Using a target size (torch.Size([800, 4])) that is different to the input size (torch.Size([100, 4])). This will likely lead to incorrect results due to broadcasting. Please ensure they have the same size.\n",
      "\n",
      "c:\\Users\\efons\\anaconda3\\envs\\venv\\lib\\site-packages\\kmodels\\utils.py:324: UserWarning:\n",
      "\n",
      "Using a target size (torch.Size([800, 4])) that is different to the input size (torch.Size([100, 4])). This will likely lead to incorrect results due to broadcasting. Please ensure they have the same size.\n",
      "\n",
      "c:\\Users\\efons\\anaconda3\\envs\\venv\\lib\\site-packages\\kmodels\\utils.py:324: UserWarning:\n",
      "\n",
      "Using a target size (torch.Size([800, 4])) that is different to the input size (torch.Size([100, 4])). This will likely lead to incorrect results due to broadcasting. Please ensure they have the same size.\n",
      "\n",
      "c:\\Users\\efons\\anaconda3\\envs\\venv\\lib\\site-packages\\kmodels\\utils.py:324: UserWarning:\n",
      "\n",
      "Using a target size (torch.Size([800, 4])) that is different to the input size (torch.Size([100, 4])). This will likely lead to incorrect results due to broadcasting. Please ensure they have the same size.\n",
      "\n",
      "c:\\Users\\efons\\anaconda3\\envs\\venv\\lib\\site-packages\\kmodels\\utils.py:324: UserWarning:\n",
      "\n",
      "Using a target size (torch.Size([800, 4])) that is different to the input size (torch.Size([100, 4])). This will likely lead to incorrect results due to broadcasting. Please ensure they have the same size.\n",
      "\n",
      "c:\\Users\\efons\\anaconda3\\envs\\venv\\lib\\site-packages\\kmodels\\utils.py:324: UserWarning:\n",
      "\n",
      "Using a target size (torch.Size([800, 4])) that is different to the input size (torch.Size([100, 4])). This will likely lead to incorrect results due to broadcasting. Please ensure they have the same size.\n",
      "\n",
      "c:\\Users\\efons\\anaconda3\\envs\\venv\\lib\\site-packages\\kmodels\\utils.py:324: UserWarning:\n",
      "\n",
      "Using a target size (torch.Size([800, 4])) that is different to the input size (torch.Size([100, 4])). This will likely lead to incorrect results due to broadcasting. Please ensure they have the same size.\n",
      "\n",
      "c:\\Users\\efons\\anaconda3\\envs\\venv\\lib\\site-packages\\kmodels\\utils.py:324: UserWarning:\n",
      "\n",
      "Using a target size (torch.Size([800, 4])) that is different to the input size (torch.Size([100, 4])). This will likely lead to incorrect results due to broadcasting. Please ensure they have the same size.\n",
      "\n",
      "c:\\Users\\efons\\anaconda3\\envs\\venv\\lib\\site-packages\\kmodels\\utils.py:324: UserWarning:\n",
      "\n",
      "Using a target size (torch.Size([800, 4])) that is different to the input size (torch.Size([100, 4])). This will likely lead to incorrect results due to broadcasting. Please ensure they have the same size.\n",
      "\n",
      "c:\\Users\\efons\\anaconda3\\envs\\venv\\lib\\site-packages\\kmodels\\utils.py:324: UserWarning:\n",
      "\n",
      "Using a target size (torch.Size([800, 4])) that is different to the input size (torch.Size([100, 4])). This will likely lead to incorrect results due to broadcasting. Please ensure they have the same size.\n",
      "\n",
      "c:\\Users\\efons\\anaconda3\\envs\\venv\\lib\\site-packages\\kmodels\\utils.py:324: UserWarning:\n",
      "\n",
      "Using a target size (torch.Size([800, 4])) that is different to the input size (torch.Size([100, 4])). This will likely lead to incorrect results due to broadcasting. Please ensure they have the same size.\n",
      "\n",
      "c:\\Users\\efons\\anaconda3\\envs\\venv\\lib\\site-packages\\kmodels\\utils.py:324: UserWarning:\n",
      "\n",
      "Using a target size (torch.Size([800, 4])) that is different to the input size (torch.Size([100, 4])). This will likely lead to incorrect results due to broadcasting. Please ensure they have the same size.\n",
      "\n"
     ]
    },
    {
     "ename": "ValueError",
     "evalue": "\nAll the 50 fits failed.\nIt is very likely that your model is misconfigured.\nYou can try to debug the error by setting error_score='raise'.\n\nBelow are more details about the failures:\n--------------------------------------------------------------------------------\n50 fits failed with the following error:\nTraceback (most recent call last):\n  File \"c:\\Users\\efons\\anaconda3\\envs\\venv\\lib\\site-packages\\sklearn\\model_selection\\_validation.py\", line 686, in _fit_and_score\n    estimator.fit(X_train, y_train, **fit_params)\n  File \"C:\\Users\\efons\\AppData\\Local\\Temp\\ipykernel_19572\\3087644749.py\", line 58, in fit\n    self.Training.train()\n  File \"c:\\Users\\efons\\anaconda3\\envs\\venv\\lib\\site-packages\\kmodels\\utils.py\", line 400, in train\n    train_loss = self.train_epoch(epoch)\n  File \"c:\\Users\\efons\\anaconda3\\envs\\venv\\lib\\site-packages\\kmodels\\utils.py\", line 413, in train_epoch\n    loss += self.compute_additional_losses(recon_batch, data, batch_idx)\n  File \"c:\\Users\\efons\\anaconda3\\envs\\venv\\lib\\site-packages\\kmodels\\utils.py\", line 447, in compute_additional_losses\n    regression_loss = self.regression_loss(z, self.y, batch_idx)\n  File \"c:\\Users\\efons\\anaconda3\\envs\\venv\\lib\\site-packages\\kmodels\\utils.py\", line 324, in __call__\n    self.reg_loss.append(F.mse_loss(torch.from_numpy(y_pred), y))\n  File \"c:\\Users\\efons\\anaconda3\\envs\\venv\\lib\\site-packages\\torch\\nn\\functional.py\", line 3291, in mse_loss\n    expanded_input, expanded_target = torch.broadcast_tensors(input, target)\n  File \"c:\\Users\\efons\\anaconda3\\envs\\venv\\lib\\site-packages\\torch\\functional.py\", line 74, in broadcast_tensors\n    return _VF.broadcast_tensors(tensors)  # type: ignore[attr-defined]\nRuntimeError: The size of tensor a (100) must match the size of tensor b (800) at non-singleton dimension 0\n",
     "output_type": "error",
     "traceback": [
      "\u001b[1;31m---------------------------------------------------------------------------\u001b[0m",
      "\u001b[1;31mValueError\u001b[0m                                Traceback (most recent call last)",
      "Cell \u001b[1;32mIn[23], line 5\u001b[0m\n\u001b[0;32m      3\u001b[0m params \u001b[39m=\u001b[39m {\u001b[39m'\u001b[39m\u001b[39mhidden_dim\u001b[39m\u001b[39m'\u001b[39m:[\u001b[39m50\u001b[39m, \u001b[39m100\u001b[39m, \u001b[39m200\u001b[39m], \u001b[39m'\u001b[39m\u001b[39mlr_init\u001b[39m\u001b[39m'\u001b[39m:[\u001b[39m1e-3\u001b[39m, \u001b[39m1e-4\u001b[39m, \u001b[39m1e-5\u001b[39m], \u001b[39m'\u001b[39m\u001b[39mn_layers\u001b[39m\u001b[39m'\u001b[39m:[\u001b[39m5\u001b[39m, \u001b[39m10\u001b[39m, \u001b[39m20\u001b[39m], \u001b[39m'\u001b[39m\u001b[39mbeta\u001b[39m\u001b[39m'\u001b[39m:[\u001b[39m1\u001b[39m, \u001b[39m10\u001b[39m, \u001b[39m100\u001b[39m], \u001b[39m'\u001b[39m\u001b[39mgamma\u001b[39m\u001b[39m'\u001b[39m:[\u001b[39m1\u001b[39m, \u001b[39m10\u001b[39m, \u001b[39m100\u001b[39m]}\n\u001b[0;32m      4\u001b[0m rand_cv \u001b[39m=\u001b[39m RandomizedSearchCV(VSECA(epochs\u001b[39m=\u001b[39m\u001b[39m101\u001b[39m, device\u001b[39m=\u001b[39m\u001b[39m'\u001b[39m\u001b[39mcuda\u001b[39m\u001b[39m'\u001b[39m), params, n_iter\u001b[39m=\u001b[39m\u001b[39m10\u001b[39m, cv\u001b[39m=\u001b[39m\u001b[39m5\u001b[39m, verbose\u001b[39m=\u001b[39m\u001b[39m1\u001b[39m, n_jobs\u001b[39m=\u001b[39m\u001b[39m1\u001b[39m)\n\u001b[1;32m----> 5\u001b[0m rand_cv\u001b[39m.\u001b[39;49mfit(x, x)\n",
      "File \u001b[1;32mc:\\Users\\efons\\anaconda3\\envs\\venv\\lib\\site-packages\\sklearn\\model_selection\\_search.py:874\u001b[0m, in \u001b[0;36mBaseSearchCV.fit\u001b[1;34m(self, X, y, groups, **fit_params)\u001b[0m\n\u001b[0;32m    868\u001b[0m     results \u001b[39m=\u001b[39m \u001b[39mself\u001b[39m\u001b[39m.\u001b[39m_format_results(\n\u001b[0;32m    869\u001b[0m         all_candidate_params, n_splits, all_out, all_more_results\n\u001b[0;32m    870\u001b[0m     )\n\u001b[0;32m    872\u001b[0m     \u001b[39mreturn\u001b[39;00m results\n\u001b[1;32m--> 874\u001b[0m \u001b[39mself\u001b[39;49m\u001b[39m.\u001b[39;49m_run_search(evaluate_candidates)\n\u001b[0;32m    876\u001b[0m \u001b[39m# multimetric is determined here because in the case of a callable\u001b[39;00m\n\u001b[0;32m    877\u001b[0m \u001b[39m# self.scoring the return type is only known after calling\u001b[39;00m\n\u001b[0;32m    878\u001b[0m first_test_score \u001b[39m=\u001b[39m all_out[\u001b[39m0\u001b[39m][\u001b[39m\"\u001b[39m\u001b[39mtest_scores\u001b[39m\u001b[39m\"\u001b[39m]\n",
      "File \u001b[1;32mc:\\Users\\efons\\anaconda3\\envs\\venv\\lib\\site-packages\\sklearn\\model_selection\\_search.py:1768\u001b[0m, in \u001b[0;36mRandomizedSearchCV._run_search\u001b[1;34m(self, evaluate_candidates)\u001b[0m\n\u001b[0;32m   1766\u001b[0m \u001b[39mdef\u001b[39;00m \u001b[39m_run_search\u001b[39m(\u001b[39mself\u001b[39m, evaluate_candidates):\n\u001b[0;32m   1767\u001b[0m     \u001b[39m\"\"\"Search n_iter candidates from param_distributions\"\"\"\u001b[39;00m\n\u001b[1;32m-> 1768\u001b[0m     evaluate_candidates(\n\u001b[0;32m   1769\u001b[0m         ParameterSampler(\n\u001b[0;32m   1770\u001b[0m             \u001b[39mself\u001b[39;49m\u001b[39m.\u001b[39;49mparam_distributions, \u001b[39mself\u001b[39;49m\u001b[39m.\u001b[39;49mn_iter, random_state\u001b[39m=\u001b[39;49m\u001b[39mself\u001b[39;49m\u001b[39m.\u001b[39;49mrandom_state\n\u001b[0;32m   1771\u001b[0m         )\n\u001b[0;32m   1772\u001b[0m     )\n",
      "File \u001b[1;32mc:\\Users\\efons\\anaconda3\\envs\\venv\\lib\\site-packages\\sklearn\\model_selection\\_search.py:851\u001b[0m, in \u001b[0;36mBaseSearchCV.fit.<locals>.evaluate_candidates\u001b[1;34m(candidate_params, cv, more_results)\u001b[0m\n\u001b[0;32m    844\u001b[0m \u001b[39melif\u001b[39;00m \u001b[39mlen\u001b[39m(out) \u001b[39m!=\u001b[39m n_candidates \u001b[39m*\u001b[39m n_splits:\n\u001b[0;32m    845\u001b[0m     \u001b[39mraise\u001b[39;00m \u001b[39mValueError\u001b[39;00m(\n\u001b[0;32m    846\u001b[0m         \u001b[39m\"\u001b[39m\u001b[39mcv.split and cv.get_n_splits returned \u001b[39m\u001b[39m\"\u001b[39m\n\u001b[0;32m    847\u001b[0m         \u001b[39m\"\u001b[39m\u001b[39minconsistent results. Expected \u001b[39m\u001b[39m{}\u001b[39;00m\u001b[39m \u001b[39m\u001b[39m\"\u001b[39m\n\u001b[0;32m    848\u001b[0m         \u001b[39m\"\u001b[39m\u001b[39msplits, got \u001b[39m\u001b[39m{}\u001b[39;00m\u001b[39m\"\u001b[39m\u001b[39m.\u001b[39mformat(n_splits, \u001b[39mlen\u001b[39m(out) \u001b[39m/\u001b[39m\u001b[39m/\u001b[39m n_candidates)\n\u001b[0;32m    849\u001b[0m     )\n\u001b[1;32m--> 851\u001b[0m _warn_or_raise_about_fit_failures(out, \u001b[39mself\u001b[39;49m\u001b[39m.\u001b[39;49merror_score)\n\u001b[0;32m    853\u001b[0m \u001b[39m# For callable self.scoring, the return type is only know after\u001b[39;00m\n\u001b[0;32m    854\u001b[0m \u001b[39m# calling. If the return type is a dictionary, the error scores\u001b[39;00m\n\u001b[0;32m    855\u001b[0m \u001b[39m# can now be inserted with the correct key. The type checking\u001b[39;00m\n\u001b[0;32m    856\u001b[0m \u001b[39m# of out will be done in `_insert_error_scores`.\u001b[39;00m\n\u001b[0;32m    857\u001b[0m \u001b[39mif\u001b[39;00m callable(\u001b[39mself\u001b[39m\u001b[39m.\u001b[39mscoring):\n",
      "File \u001b[1;32mc:\\Users\\efons\\anaconda3\\envs\\venv\\lib\\site-packages\\sklearn\\model_selection\\_validation.py:367\u001b[0m, in \u001b[0;36m_warn_or_raise_about_fit_failures\u001b[1;34m(results, error_score)\u001b[0m\n\u001b[0;32m    360\u001b[0m \u001b[39mif\u001b[39;00m num_failed_fits \u001b[39m==\u001b[39m num_fits:\n\u001b[0;32m    361\u001b[0m     all_fits_failed_message \u001b[39m=\u001b[39m (\n\u001b[0;32m    362\u001b[0m         \u001b[39mf\u001b[39m\u001b[39m\"\u001b[39m\u001b[39m\\n\u001b[39;00m\u001b[39mAll the \u001b[39m\u001b[39m{\u001b[39;00mnum_fits\u001b[39m}\u001b[39;00m\u001b[39m fits failed.\u001b[39m\u001b[39m\\n\u001b[39;00m\u001b[39m\"\u001b[39m\n\u001b[0;32m    363\u001b[0m         \u001b[39m\"\u001b[39m\u001b[39mIt is very likely that your model is misconfigured.\u001b[39m\u001b[39m\\n\u001b[39;00m\u001b[39m\"\u001b[39m\n\u001b[0;32m    364\u001b[0m         \u001b[39m\"\u001b[39m\u001b[39mYou can try to debug the error by setting error_score=\u001b[39m\u001b[39m'\u001b[39m\u001b[39mraise\u001b[39m\u001b[39m'\u001b[39m\u001b[39m.\u001b[39m\u001b[39m\\n\u001b[39;00m\u001b[39m\\n\u001b[39;00m\u001b[39m\"\u001b[39m\n\u001b[0;32m    365\u001b[0m         \u001b[39mf\u001b[39m\u001b[39m\"\u001b[39m\u001b[39mBelow are more details about the failures:\u001b[39m\u001b[39m\\n\u001b[39;00m\u001b[39m{\u001b[39;00mfit_errors_summary\u001b[39m}\u001b[39;00m\u001b[39m\"\u001b[39m\n\u001b[0;32m    366\u001b[0m     )\n\u001b[1;32m--> 367\u001b[0m     \u001b[39mraise\u001b[39;00m \u001b[39mValueError\u001b[39;00m(all_fits_failed_message)\n\u001b[0;32m    369\u001b[0m \u001b[39melse\u001b[39;00m:\n\u001b[0;32m    370\u001b[0m     some_fits_failed_message \u001b[39m=\u001b[39m (\n\u001b[0;32m    371\u001b[0m         \u001b[39mf\u001b[39m\u001b[39m\"\u001b[39m\u001b[39m\\n\u001b[39;00m\u001b[39m{\u001b[39;00mnum_failed_fits\u001b[39m}\u001b[39;00m\u001b[39m fits failed out of a total of \u001b[39m\u001b[39m{\u001b[39;00mnum_fits\u001b[39m}\u001b[39;00m\u001b[39m.\u001b[39m\u001b[39m\\n\u001b[39;00m\u001b[39m\"\u001b[39m\n\u001b[0;32m    372\u001b[0m         \u001b[39m\"\u001b[39m\u001b[39mThe score on these train-test partitions for these parameters\u001b[39m\u001b[39m\"\u001b[39m\n\u001b[1;32m   (...)\u001b[0m\n\u001b[0;32m    376\u001b[0m         \u001b[39mf\u001b[39m\u001b[39m\"\u001b[39m\u001b[39mBelow are more details about the failures:\u001b[39m\u001b[39m\\n\u001b[39;00m\u001b[39m{\u001b[39;00mfit_errors_summary\u001b[39m}\u001b[39;00m\u001b[39m\"\u001b[39m\n\u001b[0;32m    377\u001b[0m     )\n",
      "\u001b[1;31mValueError\u001b[0m: \nAll the 50 fits failed.\nIt is very likely that your model is misconfigured.\nYou can try to debug the error by setting error_score='raise'.\n\nBelow are more details about the failures:\n--------------------------------------------------------------------------------\n50 fits failed with the following error:\nTraceback (most recent call last):\n  File \"c:\\Users\\efons\\anaconda3\\envs\\venv\\lib\\site-packages\\sklearn\\model_selection\\_validation.py\", line 686, in _fit_and_score\n    estimator.fit(X_train, y_train, **fit_params)\n  File \"C:\\Users\\efons\\AppData\\Local\\Temp\\ipykernel_19572\\3087644749.py\", line 58, in fit\n    self.Training.train()\n  File \"c:\\Users\\efons\\anaconda3\\envs\\venv\\lib\\site-packages\\kmodels\\utils.py\", line 400, in train\n    train_loss = self.train_epoch(epoch)\n  File \"c:\\Users\\efons\\anaconda3\\envs\\venv\\lib\\site-packages\\kmodels\\utils.py\", line 413, in train_epoch\n    loss += self.compute_additional_losses(recon_batch, data, batch_idx)\n  File \"c:\\Users\\efons\\anaconda3\\envs\\venv\\lib\\site-packages\\kmodels\\utils.py\", line 447, in compute_additional_losses\n    regression_loss = self.regression_loss(z, self.y, batch_idx)\n  File \"c:\\Users\\efons\\anaconda3\\envs\\venv\\lib\\site-packages\\kmodels\\utils.py\", line 324, in __call__\n    self.reg_loss.append(F.mse_loss(torch.from_numpy(y_pred), y))\n  File \"c:\\Users\\efons\\anaconda3\\envs\\venv\\lib\\site-packages\\torch\\nn\\functional.py\", line 3291, in mse_loss\n    expanded_input, expanded_target = torch.broadcast_tensors(input, target)\n  File \"c:\\Users\\efons\\anaconda3\\envs\\venv\\lib\\site-packages\\torch\\functional.py\", line 74, in broadcast_tensors\n    return _VF.broadcast_tensors(tensors)  # type: ignore[attr-defined]\nRuntimeError: The size of tensor a (100) must match the size of tensor b (800) at non-singleton dimension 0\n"
     ]
    }
   ],
   "source": [
    "# random search cv\n",
    "from sklearn.model_selection import RandomizedSearchCV\n",
    "params = {'hidden_dim':[50, 100, 200], 'lr_init':[1e-3, 1e-4, 1e-5], 'n_layers':[5, 10, 20], 'beta':[1, 10, 100], 'gamma':[1, 10, 100]}\n",
    "rand_cv = RandomizedSearchCV(VSECA(epochs=101, device='cuda'), params, n_iter=10, cv=5, verbose=1, n_jobs=1)\n",
    "rand_cv.fit(x, x)"
   ]
  },
  {
   "cell_type": "code",
   "execution_count": null,
   "metadata": {},
   "outputs": [
    {
     "data": {
      "text/plain": [
       "[<matplotlib.lines.Line2D at 0x1d9e52a3880>]"
      ]
     },
     "execution_count": 39,
     "metadata": {},
     "output_type": "execute_result"
    },
    {
     "data": {
      "image/png": "[encoded data removed]",
      "text/plain": [
       "<Figure size 640x480 with 1 Axes>"
      ]
     },
     "metadata": {},
     "output_type": "display_data"
    }
   ],
   "source": [
    "plt.plot(rand_cv.best_estimator_.Training.losses, label='loss')"
   ]
  },
  {
   "cell_type": "code",
   "execution_count": null,
   "metadata": {},
   "outputs": [],
   "source": []
  }
 ],
 "metadata": {
  "kernelspec": {
   "display_name": "venv",
   "language": "python",
   "name": "python3"
  },
  "language_info": {
   "codemirror_mode": {
    "name": "ipython",
    "version": 3
   },
   "file_extension": ".py",
   "mimetype": "text/x-python",
   "name": "python",
   "nbconvert_exporter": "python",
   "pygments_lexer": "ipython3",
   "version": "3.10.10"
  },
  "orig_nbformat": 4
 },
 "nbformat": 4,
 "nbformat_minor": 2
}
