{
 "cells": [
  {
   "cell_type": "code",
   "execution_count": 1,
   "metadata": {},
   "outputs": [],
   "source": [
    "import kmodels as kmk\n",
    "from kmodels import models as models\n",
    "import torch \n",
    "import numpy as np\n",
    "import plotly.express as px\n",
    "from sklearn.preprocessing import StandardScaler, MinMaxScaler\n",
    "import matplotlib.pyplot as plt\n"
   ]
  },
  {
   "cell_type": "code",
   "execution_count": 2,
   "metadata": {},
   "outputs": [],
   "source": [
    "# Imports\n",
    "import matplotlib.pyplot as plt\n",
    "import pandas as pd\n",
    "import time\n",
    "import numpy as np\n",
    "import gc\n",
    "from sklearn.preprocessing import StandardScaler\n",
    "import torch\n",
    "import torch.nn as nn\n",
    "from torch.nn import functional as F\n",
    "# get ModuleList from torch.nn\n",
    "from torch.nn import ModuleList\n",
    "# create a cv function\n",
    "from sklearn.model_selection import KFold\n",
    "from sklearn.metrics import mean_squared_error, r2_score, mean_absolute_error\n",
    "# get base form sklearn\n",
    "from sklearn.base import BaseEstimator, RegressorMixin\n",
    "\n",
    "# train the VAE\n",
    "from torch.functional import F\n",
    "from torch import optim\n",
    "from sklearn.linear_model import LinearRegression\n",
    "import time\n",
    "import torch\n",
    "from torch.utils.data import TensorDataset, DataLoader\n",
    "import time\n",
    "\n",
    "# lets get the MultiLRstep from torch to schedule the learning rate\n",
    "from torch.optim.lr_scheduler import MultiStepLR\n",
    "from kmodels import models as models"
   ]
  },
  {
   "cell_type": "code",
   "execution_count": 3,
   "metadata": {},
   "outputs": [
    {
     "data": {
      "text/plain": [
       "((10000, 10),\n",
       " (10000,),\n",
       " array([[0.3703444 , 0.03194497, 0.04464446, ..., 0.20839104, 0.2835608 ,\n",
       "         0.32722404],\n",
       "        [0.73846014, 0.18894549, 0.76739661, ..., 0.83527527, 0.80291933,\n",
       "         0.82074393],\n",
       "        [0.27996948, 0.52045817, 0.11650488, ..., 0.38314375, 0.29490867,\n",
       "         0.09857218],\n",
       "        ...,\n",
       "        [0.68193509, 0.08467402, 0.45061293, ..., 0.64570699, 0.16630204,\n",
       "         0.06613507],\n",
       "        [0.39494365, 0.53887475, 0.47796942, ..., 0.56776654, 0.84674933,\n",
       "         0.9523617 ],\n",
       "        [0.64870357, 0.82101942, 0.36711494, ..., 0.29654563, 0.66901858,\n",
       "         0.06509903]]),\n",
       " array([], shape=(10000, 0), dtype=int32))"
      ]
     },
     "execution_count": 3,
     "metadata": {},
     "output_type": "execute_result"
    }
   ],
   "source": [
    "n = 10000\n",
    "n_features = 10\n",
    "binary_dim = 0\n",
    "float_dim = n_features - binary_dim\n",
    "x_bin = np.random.randint(2, size=(n, binary_dim))\n",
    "x_float = np.random.rand(n, float_dim)\n",
    "x = np.concatenate((x_bin, x_float), axis=1)\n",
    "y = np.sin(x[:,0]) + np.cos(x[:,1])\n",
    "# # y will be piecewise linear function of x using binary dim as a switch\n",
    "# y = np.zeros(n)\n",
    "# for i in range(n):\n",
    "#     if x_bin[i] == 0:\n",
    "#         y[i] = np.sum(x_float[i])\n",
    "#     else:\n",
    "#         y[i] = np.sum(x_float[i]**2)\n",
    "x.shape, y.shape, x, x_bin"
   ]
  },
  {
   "cell_type": "code",
   "execution_count": 4,
   "metadata": {},
   "outputs": [
    {
     "name": "stdout",
     "output_type": "stream",
     "text": [
      "float scaler:  (10000, 10)\n"
     ]
    },
    {
     "data": {
      "text/plain": [
       "(10000, 10)"
      ]
     },
     "execution_count": 4,
     "metadata": {},
     "output_type": "execute_result"
    }
   ],
   "source": [
    "def scale_data(x, binary_dim=0):\n",
    "    if binary_dim>0:\n",
    "        bin_scaler = MinMaxScaler()\n",
    "        float_scaler = StandardScaler()\n",
    "        x_bin = bin_scaler.fit_transform(x[:, :binary_dim])\n",
    "        x_float = float_scaler.fit_transform(x[:, binary_dim:])\n",
    "        print('binary scaler: ', x_bin.shape)\n",
    "        print('float scaler: ', x_float.shape)\n",
    "        x = np.concatenate((x_bin, x_float), axis=1)\n",
    "    else:\n",
    "        bin_scaler = None\n",
    "        float_scaler = StandardScaler()\n",
    "        x = float_scaler.fit_transform(x)\n",
    "        print('float scaler: ', x.shape)\n",
    "    return x, bin_scaler, float_scaler\n",
    "\n",
    "x, bin_scaler, float_scaler = scale_data(x, binary_dim=binary_dim)\n",
    "x.shape"
   ]
  },
  {
   "cell_type": "code",
   "execution_count": 5,
   "metadata": {},
   "outputs": [],
   "source": [
    "from torch.utils.data import TensorDataset\n",
    "x = torch.tensor(x, dtype=torch.float32)\n",
    "y = torch.tensor(y, dtype=torch.float32).reshape(-1, 1)\n",
    "dataset = TensorDataset(x, y)\n",
    "\n"
   ]
  },
  {
   "cell_type": "code",
   "execution_count": 6,
   "metadata": {},
   "outputs": [
    {
     "name": "stdout",
     "output_type": "stream",
     "text": [
      "CNN\n",
      "{'conv_layers': 1, 'batch_size': 1000, 'fc_size': 10, 'epochs': 101, 'verbose': 10, 'reg_factor': 0}\n"
     ]
    }
   ],
   "source": [
    "from sklearn.model_selection import GridSearchCV\n",
    "param_dist = {'fc_layers':[3, 5], 'lr_init':[0.01, 0.001], 'kernel_size':[3, 5]}\n",
    "reg = kmk.Trainer(**{'conv_layers':1, 'estimator_type':'CNN', 'batch_size':1000, 'fc_size':10,\n",
    "                     'epochs':101, 'fc_size':10, 'verbose':10,'reg_factor':0})\n",
    "grid_ = GridSearchCV(reg, param_dist, cv=2, verbose=1, n_jobs=1)"
   ]
  },
  {
   "cell_type": "code",
   "execution_count": 18,
   "metadata": {},
   "outputs": [
    {
     "name": "stdout",
     "output_type": "stream",
     "text": [
      "NN\n",
      "{'verbose': 5, 'layers': 3, 'layer_size': 10, 'batch_size': 100, 'lr_init': 0.001, 'device': 'cuda'}\n"
     ]
    },
    {
     "data": {
      "text/plain": [
       "{'verbose': 5,\n",
       " 'layers': 3,\n",
       " 'layer_size': 10,\n",
       " 'batch_size': 100,\n",
       " 'lr_init': 0.001,\n",
       " 'device': 'cuda',\n",
       " 'epochs': 100,\n",
       " 'metric': <function sklearn.metrics._regression.r2_score(y_true, y_pred, *, sample_weight=None, multioutput='uniform_average', force_finite=True)>,\n",
       " 'lr_gamma': 0.1,\n",
       " 'scheduler': kmodels.utils.LR_scheduler,\n",
       " 'is_VAE': False,\n",
       " 'n_inputs': 106,\n",
       " 'n_outputs': 1,\n",
       " 'binary_dim': 0,\n",
       " 'reg_factor': 0.0,\n",
       " 'beta': 0,\n",
       " 'gamma': 0,\n",
       " 'binary_dim_y': 0,\n",
       " 'estimator_type': 'NN',\n",
       " 'change_layers': 0}"
      ]
     },
     "execution_count": 18,
     "metadata": {},
     "output_type": "execute_result"
    }
   ],
   "source": [
    "#reg = grid_.best_estimator_\n",
    "reg = kmk.Trainer(**{ 'verbose':5,\n",
    "                 'estimator_type':'NN', \n",
    "                 'layers':3, \n",
    "                 'layer_size':10, \n",
    "                 'batch_size':100,\n",
    "                 'lr_init':0.001,\n",
    "                 'device':'cuda',\n",
    "})\n",
    "reg.config"
   ]
  },
  {
   "cell_type": "code",
   "execution_count": 19,
   "metadata": {},
   "outputs": [
    {
     "name": "stdout",
     "output_type": "stream",
     "text": [
      "torch.Size([10000, 10]) torch.Size([10000, 1])\n",
      "====> Epoch: 0 Average loss: 0.437539279 Time: 1.07\n",
      "Loss components: {}\n",
      "====> Epoch: 5 Average loss: 0.010765175 Time: 0.89\n",
      "Loss components: {}\n",
      "====> Epoch: 10 Average loss: 0.005681703 Time: 0.90\n",
      "Loss components: {}\n",
      "====> Epoch: 15 Average loss: 0.003121934 Time: 0.90\n",
      "Loss components: {}\n",
      "====> Epoch: 20 Average loss: 0.001711660 Time: 0.99\n",
      "Loss components: {}\n",
      "====> Epoch: 25 Average loss: 0.000586464 Time: 1.03\n",
      "Loss components: {}\n",
      "====> Epoch: 30 Average loss: 0.000260650 Time: 1.01\n",
      "Loss components: {}\n",
      "====> Epoch: 35 Average loss: 0.000263040 Time: 0.91\n",
      "Loss components: {}\n",
      "====> Epoch: 40 Average loss: 0.000128131 Time: 0.91\n",
      "Loss components: {}\n",
      "====> Epoch: 45 Average loss: 0.000127930 Time: 0.90\n",
      "Loss components: {}\n",
      "====> Epoch: 50 Average loss: 0.000094063 Time: 0.95\n",
      "Loss components: {}\n",
      "====> Epoch: 55 Average loss: 0.000086814 Time: 1.02\n",
      "Loss components: {}\n"
     ]
    },
    {
     "ename": "KeyboardInterrupt",
     "evalue": "",
     "output_type": "error",
     "traceback": [
      "\u001b[1;31m---------------------------------------------------------------------------\u001b[0m",
      "\u001b[1;31mKeyboardInterrupt\u001b[0m                         Traceback (most recent call last)",
      "Cell \u001b[1;32mIn[19], line 4\u001b[0m\n\u001b[0;32m      2\u001b[0m x \u001b[39m=\u001b[39m x\u001b[39m.\u001b[39mto(\u001b[39m'\u001b[39m\u001b[39mcuda\u001b[39m\u001b[39m'\u001b[39m)\n\u001b[0;32m      3\u001b[0m y \u001b[39m=\u001b[39m y\u001b[39m.\u001b[39mto(\u001b[39m'\u001b[39m\u001b[39mcuda\u001b[39m\u001b[39m'\u001b[39m)\n\u001b[1;32m----> 4\u001b[0m reg\u001b[39m.\u001b[39;49mfit(x,y\u001b[39m.\u001b[39;49mreshape(\u001b[39m-\u001b[39;49m\u001b[39m1\u001b[39;49m,\u001b[39m1\u001b[39;49m))\n",
      "File \u001b[1;32mc:\\Users\\efons\\anaconda3\\envs\\venv\\lib\\site-packages\\kmodels\\utils.py:516\u001b[0m, in \u001b[0;36mTrainer.fit\u001b[1;34m(self, x, y)\u001b[0m\n\u001b[0;32m    514\u001b[0m \u001b[39mself\u001b[39m\u001b[39m.\u001b[39mestimator \u001b[39m=\u001b[39m \u001b[39mself\u001b[39m\u001b[39m.\u001b[39mestimator\u001b[39m.\u001b[39mto(\u001b[39mself\u001b[39m\u001b[39m.\u001b[39mdevice)\n\u001b[0;32m    515\u001b[0m \u001b[39mself\u001b[39m\u001b[39m.\u001b[39mdataloader \u001b[39m=\u001b[39m DataLoader(TensorDataset(x, y), batch_size\u001b[39m=\u001b[39m\u001b[39mself\u001b[39m\u001b[39m.\u001b[39mbatch_size, shuffle\u001b[39m=\u001b[39m\u001b[39mTrue\u001b[39;00m)\n\u001b[1;32m--> 516\u001b[0m \u001b[39mself\u001b[39;49m\u001b[39m.\u001b[39;49mtrain()\n\u001b[0;32m    517\u001b[0m \u001b[39mreturn\u001b[39;00m \u001b[39mself\u001b[39m\n",
      "File \u001b[1;32mc:\\Users\\efons\\anaconda3\\envs\\venv\\lib\\site-packages\\kmodels\\utils.py:612\u001b[0m, in \u001b[0;36mTrainer.train\u001b[1;34m(self)\u001b[0m\n\u001b[0;32m    610\u001b[0m \u001b[39mself\u001b[39m\u001b[39m.\u001b[39moptimizer \u001b[39m=\u001b[39m torch\u001b[39m.\u001b[39moptim\u001b[39m.\u001b[39mAdam(\u001b[39mself\u001b[39m\u001b[39m.\u001b[39mestimator\u001b[39m.\u001b[39mparameters(), lr\u001b[39m=\u001b[39m\u001b[39mself\u001b[39m\u001b[39m.\u001b[39mlr_init)\n\u001b[0;32m    611\u001b[0m \u001b[39mfor\u001b[39;00m epoch \u001b[39min\u001b[39;00m \u001b[39mrange\u001b[39m(\u001b[39mself\u001b[39m\u001b[39m.\u001b[39mepochs):\n\u001b[1;32m--> 612\u001b[0m     train_loss \u001b[39m=\u001b[39m \u001b[39mself\u001b[39;49m\u001b[39m.\u001b[39;49mtrain_epoch(epoch)\n\u001b[0;32m    613\u001b[0m     \u001b[39mself\u001b[39m\u001b[39m.\u001b[39mlosses \u001b[39m=\u001b[39m torch\u001b[39m.\u001b[39mcat((\u001b[39mself\u001b[39m\u001b[39m.\u001b[39mlosses, torch\u001b[39m.\u001b[39mtensor([train_loss])\u001b[39m.\u001b[39mto(\u001b[39mself\u001b[39m\u001b[39m.\u001b[39mdevice)))\n\u001b[0;32m    614\u001b[0m \u001b[39mreturn\u001b[39;00m \u001b[39mself\u001b[39m\n",
      "File \u001b[1;32mc:\\Users\\efons\\anaconda3\\envs\\venv\\lib\\site-packages\\kmodels\\utils.py:618\u001b[0m, in \u001b[0;36mTrainer.train_epoch\u001b[1;34m(self, epoch)\u001b[0m\n\u001b[0;32m    616\u001b[0m \u001b[39mdef\u001b[39;00m \u001b[39mtrain_epoch\u001b[39m(\u001b[39mself\u001b[39m, epoch):\n\u001b[0;32m    617\u001b[0m     start \u001b[39m=\u001b[39m time\u001b[39m.\u001b[39mtime()\n\u001b[1;32m--> 618\u001b[0m     \u001b[39mfor\u001b[39;00m batch_idx, data \u001b[39min\u001b[39;00m \u001b[39menumerate\u001b[39m(\u001b[39mself\u001b[39m\u001b[39m.\u001b[39mdataloader):\n\u001b[0;32m    619\u001b[0m         y \u001b[39m=\u001b[39m data[\u001b[39m1\u001b[39m]\u001b[39m.\u001b[39mto(\u001b[39mself\u001b[39m\u001b[39m.\u001b[39mdevice)\n\u001b[0;32m    620\u001b[0m         data \u001b[39m=\u001b[39m data[\u001b[39m0\u001b[39m]\u001b[39m.\u001b[39mto(\u001b[39mself\u001b[39m\u001b[39m.\u001b[39mdevice)\n",
      "File \u001b[1;32mc:\\Users\\efons\\anaconda3\\envs\\venv\\lib\\site-packages\\torch\\utils\\data\\dataloader.py:628\u001b[0m, in \u001b[0;36m_BaseDataLoaderIter.__next__\u001b[1;34m(self)\u001b[0m\n\u001b[0;32m    625\u001b[0m \u001b[39mif\u001b[39;00m \u001b[39mself\u001b[39m\u001b[39m.\u001b[39m_sampler_iter \u001b[39mis\u001b[39;00m \u001b[39mNone\u001b[39;00m:\n\u001b[0;32m    626\u001b[0m     \u001b[39m# TODO(https://github.com/pytorch/pytorch/issues/76750)\u001b[39;00m\n\u001b[0;32m    627\u001b[0m     \u001b[39mself\u001b[39m\u001b[39m.\u001b[39m_reset()  \u001b[39m# type: ignore[call-arg]\u001b[39;00m\n\u001b[1;32m--> 628\u001b[0m data \u001b[39m=\u001b[39m \u001b[39mself\u001b[39;49m\u001b[39m.\u001b[39;49m_next_data()\n\u001b[0;32m    629\u001b[0m \u001b[39mself\u001b[39m\u001b[39m.\u001b[39m_num_yielded \u001b[39m+\u001b[39m\u001b[39m=\u001b[39m \u001b[39m1\u001b[39m\n\u001b[0;32m    630\u001b[0m \u001b[39mif\u001b[39;00m \u001b[39mself\u001b[39m\u001b[39m.\u001b[39m_dataset_kind \u001b[39m==\u001b[39m _DatasetKind\u001b[39m.\u001b[39mIterable \u001b[39mand\u001b[39;00m \\\n\u001b[0;32m    631\u001b[0m         \u001b[39mself\u001b[39m\u001b[39m.\u001b[39m_IterableDataset_len_called \u001b[39mis\u001b[39;00m \u001b[39mnot\u001b[39;00m \u001b[39mNone\u001b[39;00m \u001b[39mand\u001b[39;00m \\\n\u001b[0;32m    632\u001b[0m         \u001b[39mself\u001b[39m\u001b[39m.\u001b[39m_num_yielded \u001b[39m>\u001b[39m \u001b[39mself\u001b[39m\u001b[39m.\u001b[39m_IterableDataset_len_called:\n",
      "File \u001b[1;32mc:\\Users\\efons\\anaconda3\\envs\\venv\\lib\\site-packages\\torch\\utils\\data\\dataloader.py:671\u001b[0m, in \u001b[0;36m_SingleProcessDataLoaderIter._next_data\u001b[1;34m(self)\u001b[0m\n\u001b[0;32m    669\u001b[0m \u001b[39mdef\u001b[39;00m \u001b[39m_next_data\u001b[39m(\u001b[39mself\u001b[39m):\n\u001b[0;32m    670\u001b[0m     index \u001b[39m=\u001b[39m \u001b[39mself\u001b[39m\u001b[39m.\u001b[39m_next_index()  \u001b[39m# may raise StopIteration\u001b[39;00m\n\u001b[1;32m--> 671\u001b[0m     data \u001b[39m=\u001b[39m \u001b[39mself\u001b[39;49m\u001b[39m.\u001b[39;49m_dataset_fetcher\u001b[39m.\u001b[39;49mfetch(index)  \u001b[39m# may raise StopIteration\u001b[39;00m\n\u001b[0;32m    672\u001b[0m     \u001b[39mif\u001b[39;00m \u001b[39mself\u001b[39m\u001b[39m.\u001b[39m_pin_memory:\n\u001b[0;32m    673\u001b[0m         data \u001b[39m=\u001b[39m _utils\u001b[39m.\u001b[39mpin_memory\u001b[39m.\u001b[39mpin_memory(data, \u001b[39mself\u001b[39m\u001b[39m.\u001b[39m_pin_memory_device)\n",
      "File \u001b[1;32mc:\\Users\\efons\\anaconda3\\envs\\venv\\lib\\site-packages\\torch\\utils\\data\\_utils\\fetch.py:61\u001b[0m, in \u001b[0;36m_MapDatasetFetcher.fetch\u001b[1;34m(self, possibly_batched_index)\u001b[0m\n\u001b[0;32m     59\u001b[0m \u001b[39melse\u001b[39;00m:\n\u001b[0;32m     60\u001b[0m     data \u001b[39m=\u001b[39m \u001b[39mself\u001b[39m\u001b[39m.\u001b[39mdataset[possibly_batched_index]\n\u001b[1;32m---> 61\u001b[0m \u001b[39mreturn\u001b[39;00m \u001b[39mself\u001b[39;49m\u001b[39m.\u001b[39;49mcollate_fn(data)\n",
      "File \u001b[1;32mc:\\Users\\efons\\anaconda3\\envs\\venv\\lib\\site-packages\\torch\\utils\\data\\_utils\\collate.py:265\u001b[0m, in \u001b[0;36mdefault_collate\u001b[1;34m(batch)\u001b[0m\n\u001b[0;32m    204\u001b[0m \u001b[39mdef\u001b[39;00m \u001b[39mdefault_collate\u001b[39m(batch):\n\u001b[0;32m    205\u001b[0m     \u001b[39mr\u001b[39m\u001b[39m\"\"\"\u001b[39;00m\n\u001b[0;32m    206\u001b[0m \u001b[39m        Function that takes in a batch of data and puts the elements within the batch\u001b[39;00m\n\u001b[0;32m    207\u001b[0m \u001b[39m        into a tensor with an additional outer dimension - batch size. The exact output type can be\u001b[39;00m\n\u001b[1;32m   (...)\u001b[0m\n\u001b[0;32m    263\u001b[0m \u001b[39m            >>> default_collate(batch)  # Handle `CustomType` automatically\u001b[39;00m\n\u001b[0;32m    264\u001b[0m \u001b[39m    \"\"\"\u001b[39;00m\n\u001b[1;32m--> 265\u001b[0m     \u001b[39mreturn\u001b[39;00m collate(batch, collate_fn_map\u001b[39m=\u001b[39;49mdefault_collate_fn_map)\n",
      "File \u001b[1;32mc:\\Users\\efons\\anaconda3\\envs\\venv\\lib\\site-packages\\torch\\utils\\data\\_utils\\collate.py:143\u001b[0m, in \u001b[0;36mcollate\u001b[1;34m(batch, collate_fn_map)\u001b[0m\n\u001b[0;32m    140\u001b[0m transposed \u001b[39m=\u001b[39m \u001b[39mlist\u001b[39m(\u001b[39mzip\u001b[39m(\u001b[39m*\u001b[39mbatch))  \u001b[39m# It may be accessed twice, so we use a list.\u001b[39;00m\n\u001b[0;32m    142\u001b[0m \u001b[39mif\u001b[39;00m \u001b[39misinstance\u001b[39m(elem, \u001b[39mtuple\u001b[39m):\n\u001b[1;32m--> 143\u001b[0m     \u001b[39mreturn\u001b[39;00m [collate(samples, collate_fn_map\u001b[39m=\u001b[39mcollate_fn_map) \u001b[39mfor\u001b[39;00m samples \u001b[39min\u001b[39;00m transposed]  \u001b[39m# Backwards compatibility.\u001b[39;00m\n\u001b[0;32m    144\u001b[0m \u001b[39melse\u001b[39;00m:\n\u001b[0;32m    145\u001b[0m     \u001b[39mtry\u001b[39;00m:\n",
      "File \u001b[1;32mc:\\Users\\efons\\anaconda3\\envs\\venv\\lib\\site-packages\\torch\\utils\\data\\_utils\\collate.py:143\u001b[0m, in \u001b[0;36m<listcomp>\u001b[1;34m(.0)\u001b[0m\n\u001b[0;32m    140\u001b[0m transposed \u001b[39m=\u001b[39m \u001b[39mlist\u001b[39m(\u001b[39mzip\u001b[39m(\u001b[39m*\u001b[39mbatch))  \u001b[39m# It may be accessed twice, so we use a list.\u001b[39;00m\n\u001b[0;32m    142\u001b[0m \u001b[39mif\u001b[39;00m \u001b[39misinstance\u001b[39m(elem, \u001b[39mtuple\u001b[39m):\n\u001b[1;32m--> 143\u001b[0m     \u001b[39mreturn\u001b[39;00m [collate(samples, collate_fn_map\u001b[39m=\u001b[39;49mcollate_fn_map) \u001b[39mfor\u001b[39;00m samples \u001b[39min\u001b[39;00m transposed]  \u001b[39m# Backwards compatibility.\u001b[39;00m\n\u001b[0;32m    144\u001b[0m \u001b[39melse\u001b[39;00m:\n\u001b[0;32m    145\u001b[0m     \u001b[39mtry\u001b[39;00m:\n",
      "File \u001b[1;32mc:\\Users\\efons\\anaconda3\\envs\\venv\\lib\\site-packages\\torch\\utils\\data\\_utils\\collate.py:120\u001b[0m, in \u001b[0;36mcollate\u001b[1;34m(batch, collate_fn_map)\u001b[0m\n\u001b[0;32m    118\u001b[0m \u001b[39mif\u001b[39;00m collate_fn_map \u001b[39mis\u001b[39;00m \u001b[39mnot\u001b[39;00m \u001b[39mNone\u001b[39;00m:\n\u001b[0;32m    119\u001b[0m     \u001b[39mif\u001b[39;00m elem_type \u001b[39min\u001b[39;00m collate_fn_map:\n\u001b[1;32m--> 120\u001b[0m         \u001b[39mreturn\u001b[39;00m collate_fn_map[elem_type](batch, collate_fn_map\u001b[39m=\u001b[39;49mcollate_fn_map)\n\u001b[0;32m    122\u001b[0m     \u001b[39mfor\u001b[39;00m collate_type \u001b[39min\u001b[39;00m collate_fn_map:\n\u001b[0;32m    123\u001b[0m         \u001b[39mif\u001b[39;00m \u001b[39misinstance\u001b[39m(elem, collate_type):\n",
      "File \u001b[1;32mc:\\Users\\efons\\anaconda3\\envs\\venv\\lib\\site-packages\\torch\\utils\\data\\_utils\\collate.py:163\u001b[0m, in \u001b[0;36mcollate_tensor_fn\u001b[1;34m(batch, collate_fn_map)\u001b[0m\n\u001b[0;32m    161\u001b[0m     storage \u001b[39m=\u001b[39m elem\u001b[39m.\u001b[39mstorage()\u001b[39m.\u001b[39m_new_shared(numel, device\u001b[39m=\u001b[39melem\u001b[39m.\u001b[39mdevice)\n\u001b[0;32m    162\u001b[0m     out \u001b[39m=\u001b[39m elem\u001b[39m.\u001b[39mnew(storage)\u001b[39m.\u001b[39mresize_(\u001b[39mlen\u001b[39m(batch), \u001b[39m*\u001b[39m\u001b[39mlist\u001b[39m(elem\u001b[39m.\u001b[39msize()))\n\u001b[1;32m--> 163\u001b[0m \u001b[39mreturn\u001b[39;00m torch\u001b[39m.\u001b[39;49mstack(batch, \u001b[39m0\u001b[39;49m, out\u001b[39m=\u001b[39;49mout)\n",
      "\u001b[1;31mKeyboardInterrupt\u001b[0m: "
     ]
    }
   ],
   "source": [
    "print(x.shape, y.shape)\n",
    "x = x.to('cuda')\n",
    "y = y.to('cuda')\n",
    "reg.fit(x,y.reshape(-1,1))\n"
   ]
  },
  {
   "cell_type": "code",
   "execution_count": 21,
   "metadata": {},
   "outputs": [
    {
     "data": {
      "text/plain": [
       "[<matplotlib.lines.Line2D at 0x1f4c74e85b0>]"
      ]
     },
     "execution_count": 21,
     "metadata": {},
     "output_type": "execute_result"
    },
    {
     "data": {
      "image/png": "[encoded data removed]",
      "text/plain": [
       "<Figure size 640x480 with 1 Axes>"
      ]
     },
     "metadata": {},
     "output_type": "display_data"
    }
   ],
   "source": [
    "plt.plot(reg.losses.detach().cpu())"
   ]
  },
  {
   "cell_type": "code",
   "execution_count": 10,
   "metadata": {},
   "outputs": [
    {
     "name": "stdout",
     "output_type": "stream",
     "text": [
      "====> Epoch: 0 Average loss: 0.001248052 Time: 0.95\n",
      "Loss components: {}\n",
      "====> Epoch: 5 Average loss: 0.000228206 Time: 1.00\n",
      "Loss components: {}\n",
      "====> Epoch: 10 Average loss: 0.000065748 Time: 1.03\n",
      "Loss components: {}\n",
      "====> Epoch: 15 Average loss: 0.000054215 Time: 1.02\n",
      "Loss components: {}\n",
      "====> Epoch: 20 Average loss: 0.000035690 Time: 1.00\n",
      "Loss components: {}\n"
     ]
    },
    {
     "data": {
      "text/plain": [
       "<kmodels.utils.Trainer at 0x1f43b4faaa0>"
      ]
     },
     "execution_count": 10,
     "metadata": {},
     "output_type": "execute_result"
    }
   ],
   "source": [
    "reg.train()"
   ]
  },
  {
   "cell_type": "code",
   "execution_count": 22,
   "metadata": {},
   "outputs": [
    {
     "data": {
      "text/plain": [
       "(0.998820919619833,\n",
       " [NN(layer_size=10, n_inputs=10),\n",
       "  Linear(in_features=10, out_features=10, bias=True),\n",
       "  ModuleList(\n",
       "    (0): Linear(in_features=10, out_features=10, bias=True)\n",
       "    (1): Linear(in_features=10, out_features=10, bias=True)\n",
       "    (2): Linear(in_features=10, out_features=10, bias=True)\n",
       "  ),\n",
       "  Linear(in_features=10, out_features=10, bias=True),\n",
       "  Linear(in_features=10, out_features=10, bias=True),\n",
       "  Linear(in_features=10, out_features=10, bias=True),\n",
       "  Linear(in_features=10, out_features=1, bias=True)])"
      ]
     },
     "execution_count": 22,
     "metadata": {},
     "output_type": "execute_result"
    }
   ],
   "source": [
    "reg.score(x,y.reshape(-1,1)), [i for i in reg.estimator.modules()]"
   ]
  },
  {
   "cell_type": "code",
   "execution_count": 15,
   "metadata": {},
   "outputs": [
    {
     "data": {
      "text/plain": [
       "{'estimator_type': 'NN',\n",
       " 'n_inputs': 106,\n",
       " 'n_outputs': 1,\n",
       " 'layers': 3,\n",
       " 'layer_size': 10,\n",
       " 'change_layers': 0}"
      ]
     },
     "execution_count": 15,
     "metadata": {},
     "output_type": "execute_result"
    }
   ],
   "source": [
    "reg.estimator_params"
   ]
  },
  {
   "cell_type": "code",
   "execution_count": 23,
   "metadata": {},
   "outputs": [
    {
     "ename": "AttributeError",
     "evalue": "'GridSearchCV' object has no attribute 'cv_results_'",
     "output_type": "error",
     "traceback": [
      "\u001b[1;31m---------------------------------------------------------------------------\u001b[0m",
      "\u001b[1;31mAttributeError\u001b[0m                            Traceback (most recent call last)",
      "Cell \u001b[1;32mIn[23], line 3\u001b[0m\n\u001b[0;32m      1\u001b[0m \u001b[39m# plot the results of the grid search\u001b[39;00m\n\u001b[0;32m      2\u001b[0m \u001b[39mimport\u001b[39;00m \u001b[39mpandas\u001b[39;00m \u001b[39mas\u001b[39;00m \u001b[39mpd\u001b[39;00m\n\u001b[1;32m----> 3\u001b[0m df \u001b[39m=\u001b[39m pd\u001b[39m.\u001b[39mDataFrame(grid_\u001b[39m.\u001b[39;49mcv_results_)\n\u001b[0;32m      4\u001b[0m \u001b[39m# make a contour plot where color is the score and x and y are the parameters (lr_init and fc_layers)\u001b[39;00m\n\u001b[0;32m      5\u001b[0m fig \u001b[39m=\u001b[39m px\u001b[39m.\u001b[39mscatter_3d(df, x\u001b[39m=\u001b[39m\u001b[39m'\u001b[39m\u001b[39mparam_lr_init\u001b[39m\u001b[39m'\u001b[39m, y\u001b[39m=\u001b[39m\u001b[39m'\u001b[39m\u001b[39mparam_fc_layers\u001b[39m\u001b[39m'\u001b[39m, z\u001b[39m=\u001b[39m\u001b[39m'\u001b[39m\u001b[39mmean_test_score\u001b[39m\u001b[39m'\u001b[39m, color\u001b[39m=\u001b[39m\u001b[39m'\u001b[39m\u001b[39mmean_test_score\u001b[39m\u001b[39m'\u001b[39m)\n",
      "\u001b[1;31mAttributeError\u001b[0m: 'GridSearchCV' object has no attribute 'cv_results_'"
     ]
    }
   ],
   "source": [
    "# plot the results of the grid search\n",
    "import pandas as pd\n",
    "df = pd.DataFrame(grid_.cv_results_)\n",
    "# make a contour plot where color is the score and x and y are the parameters (lr_init and fc_layers)\n",
    "fig = px.scatter_3d(df, x='param_lr_init', y='param_fc_layers', z='mean_test_score', color='mean_test_score')\n",
    "fig.show()"
   ]
  },
  {
   "cell_type": "code",
   "execution_count": 24,
   "metadata": {},
   "outputs": [
    {
     "name": "stdout",
     "output_type": "stream",
     "text": [
      "tensor([[1.3771],\n",
      "        [1.6388],\n",
      "        [1.1531],\n",
      "        ...,\n",
      "        [1.6295],\n",
      "        [1.2496],\n",
      "        [1.2759]])\n",
      "torch.Size([10000, 1]) torch.Size([10000, 1])\n"
     ]
    },
    {
     "data": {
      "text/plain": [
       "<matplotlib.collections.PathCollection at 0x1f4b4184100>"
      ]
     },
     "execution_count": 24,
     "metadata": {},
     "output_type": "execute_result"
    },
    {
     "data": {
      "image/png": "[encoded data removed]",
      "text/plain": [
       "<Figure size 640x480 with 1 Axes>"
      ]
     },
     "metadata": {},
     "output_type": "display_data"
    }
   ],
   "source": [
    "#plt.plot(reg.losses)\n",
    "pred = reg.predict(x).reshape(-1, 1)\n",
    "print(pred)\n",
    "print(pred.shape, y.shape)\n",
    "plt.scatter(y.reshape(-1, 1).detach().cpu(), pred)"
   ]
  },
  {
   "cell_type": "code",
   "execution_count": 25,
   "metadata": {},
   "outputs": [
    {
     "ename": "TypeError",
     "evalue": "can't convert cuda:0 device type tensor to numpy. Use Tensor.cpu() to copy the tensor to host memory first.",
     "output_type": "error",
     "traceback": [
      "\u001b[1;31m---------------------------------------------------------------------------\u001b[0m",
      "\u001b[1;31mTypeError\u001b[0m                                 Traceback (most recent call last)",
      "Cell \u001b[1;32mIn[25], line 7\u001b[0m\n\u001b[0;32m      5\u001b[0m best_model \u001b[39m=\u001b[39m reg\n\u001b[0;32m      6\u001b[0m pred \u001b[39m=\u001b[39m best_model\u001b[39m.\u001b[39mpredict(x)\u001b[39m.\u001b[39mreshape(\u001b[39m-\u001b[39m\u001b[39m1\u001b[39m,\u001b[39m1\u001b[39m)\n\u001b[1;32m----> 7\u001b[0m plt\u001b[39m.\u001b[39mplot(pred\u001b[39m.\u001b[39mdetach()\u001b[39m.\u001b[39mnumpy(), y\u001b[39m.\u001b[39;49mdetach()\u001b[39m.\u001b[39;49mnumpy()\u001b[39m.\u001b[39mreshape(\u001b[39m-\u001b[39m\u001b[39m1\u001b[39m,\u001b[39m1\u001b[39m), \u001b[39m'\u001b[39m\u001b[39mo\u001b[39m\u001b[39m'\u001b[39m)\n",
      "\u001b[1;31mTypeError\u001b[0m: can't convert cuda:0 device type tensor to numpy. Use Tensor.cpu() to copy the tensor to host memory first."
     ]
    }
   ],
   "source": [
    "# best_model = reg\n",
    "# #plt.plot(best_model.losses)\n",
    "# print(grid_.best_params_)\n",
    "# print(grid_.best_score_)\n",
    "best_model = reg\n",
    "pred = best_model.predict(x).reshape(-1,1)\n",
    "plt.plot(pred.detach().numpy(), y.detach().numpy().reshape(-1,1), 'o')"
   ]
  },
  {
   "cell_type": "code",
   "execution_count": null,
   "metadata": {},
   "outputs": [
    {
     "ename": "AttributeError",
     "evalue": "module 'kmodels' has no attribute 'trainer'",
     "output_type": "error",
     "traceback": [
      "\u001b[1;31m---------------------------------------------------------------------------\u001b[0m",
      "\u001b[1;31mAttributeError\u001b[0m                            Traceback (most recent call last)",
      "Cell \u001b[1;32mIn[14], line 1\u001b[0m\n\u001b[1;32m----> 1\u001b[0m trainer \u001b[39m=\u001b[39m kmk\u001b[39m.\u001b[39;49mtrainer(\u001b[39m*\u001b[39m\u001b[39m*\u001b[39m{\u001b[39m'\u001b[39m\u001b[39mbinary_dim\u001b[39m\u001b[39m'\u001b[39m:\u001b[39m0\u001b[39m, \u001b[39m'\u001b[39m\u001b[39mbinary_dim_y\u001b[39m\u001b[39m'\u001b[39m:\u001b[39m0\u001b[39m, \u001b[39m'\u001b[39m\u001b[39mmodel_type\u001b[39m\u001b[39m'\u001b[39m:\u001b[39m'\u001b[39m\u001b[39mNN\u001b[39m\u001b[39m'\u001b[39m, \u001b[39m'\u001b[39m\u001b[39mepochs\u001b[39m\u001b[39m'\u001b[39m:\u001b[39m11\u001b[39m,\u001b[39m'\u001b[39m\u001b[39mlr_init\u001b[39m\u001b[39m'\u001b[39m:\u001b[39m1e-3\u001b[39m,\n\u001b[0;32m      2\u001b[0m                        \u001b[39m'\u001b[39m\u001b[39mbatch_size\u001b[39m\u001b[39m'\u001b[39m:\u001b[39m1000\u001b[39m,\u001b[39m'\u001b[39m\u001b[39mbeta\u001b[39m\u001b[39m'\u001b[39m:\u001b[39m0\u001b[39m, \u001b[39m'\u001b[39m\u001b[39mgamma\u001b[39m\u001b[39m'\u001b[39m:\u001b[39m0\u001b[39m, \u001b[39m'\u001b[39m\u001b[39mlayers\u001b[39m\u001b[39m'\u001b[39m:\u001b[39m5\u001b[39m, \u001b[39m'\u001b[39m\u001b[39mlayer_size\u001b[39m\u001b[39m'\u001b[39m:\u001b[39m100\u001b[39m})\n\u001b[0;32m      3\u001b[0m trainer\u001b[39m.\u001b[39mfit(x\u001b[39m.\u001b[39mreshape(\u001b[39m-\u001b[39m\u001b[39m1\u001b[39m, \u001b[39m1\u001b[39m), y\u001b[39m.\u001b[39mreshape(\u001b[39m-\u001b[39m\u001b[39m1\u001b[39m, \u001b[39m1\u001b[39m))\n",
      "\u001b[1;31mAttributeError\u001b[0m: module 'kmodels' has no attribute 'trainer'"
     ]
    }
   ],
   "source": [
    "trainer = kmk.trainer(**{'binary_dim':0, 'binary_dim_y':0, 'model_type':'NN', 'epochs':11,'lr_init':1e-3,\n",
    "                       'batch_size':1000,'beta':0, 'gamma':0, 'layers':5, 'layer_size':100})\n",
    "trainer.fit(x.reshape(-1, 1), y.reshape(-1, 1))"
   ]
  },
  {
   "cell_type": "code",
   "execution_count": null,
   "metadata": {},
   "outputs": [],
   "source": [
    "plt.plot(trainer.losses)"
   ]
  },
  {
   "cell_type": "code",
   "execution_count": null,
   "metadata": {},
   "outputs": [],
   "source": [
    "pred = trainer.predict(x.reshape(-1,1)).reshape(-1,1)\n",
    "plt.scatter(pred, y)"
   ]
  },
  {
   "cell_type": "code",
   "execution_count": null,
   "metadata": {},
   "outputs": [],
   "source": [
    "x"
   ]
  },
  {
   "cell_type": "code",
   "execution_count": null,
   "metadata": {},
   "outputs": [],
   "source": [
    "new_model = kmk.NN(n_inputs=x.shape[1], n_outputs=y.shape[1], layers=2, layer_size=50)\n",
    "reg = kmk.trainer({'n_inputs':x.shape[1], 'n_outputs':y.shape[1], 'layers':2, 'layer_size':50})\n",
    "params = reg.params\n",
    "reg.set_params(**params)"
   ]
  },
  {
   "cell_type": "code",
   "execution_count": null,
   "metadata": {},
   "outputs": [],
   "source": [
    "from ray import tune\n",
    "import ray\n",
    "import os\n",
    "\n",
    "def train_model(config: dict):\n",
    "    trainer = kmk.Trainer({'binary_dim':0, 'binary_dim_y':0, 'model_type':'NN', 'epochs':11,'lr_init':1e-3,\n",
    "                           'batch_size':1000,'beta':0, 'gamma':0, 'layers':5, 'layer_size':100})\n",
    "    trainer.set_params(**config)\n",
    "    trainer.fit(x.reshape(-1, 1), y.reshape(-1, 1))\n",
    "    return trainer\n"
   ]
  },
  {
   "cell_type": "code",
   "execution_count": null,
   "metadata": {},
   "outputs": [],
   "source": [
    "from ray.train.torch import TorchTrainer\n",
    "from ray.air import ScalingConfig\n",
    "# get the logging\n",
    "ray.init(num_cpus=1, log_to_driver=False)\n",
    "# For GPU Training, set `use_gpu` to True.\n",
    "# trainer = Trainer(backend=\"torch\", num_workers=2, use_gpu=True)\n",
    "scaling_config = ScalingConfig(train_model, num_workers=1)\n",
    "config = {}\n",
    "trainer = TorchTrainer(train_loop_per_worker=train_model, train_loop_config=config)\n",
    "trainer.fit()"
   ]
  },
  {
   "cell_type": "code",
   "execution_count": null,
   "metadata": {},
   "outputs": [],
   "source": [
    "import ray\n",
    "\n",
    "# Connect to the Ray cluster.\n",
    "ray.init()\n",
    "\n",
    "# Define a remote function to check the status of a worker.\n",
    "@ray.remote\n",
    "def check_worker_status(worker_id):\n",
    "    # Add your logic here to check the worker's status.\n",
    "    # For example:\n",
    "    # return True if the worker is healthy, otherwise False.\n",
    "    return True\n",
    "\n",
    "# Get a list of all workers in the cluster.\n",
    "all_workers = ray.nodes()\n",
    "\n",
    "# Check the status of each worker in parallel.\n",
    "worker_statuses = ray.get([check_worker_status.remote(worker[\"NodeID\"]) for worker in all_workers])\n",
    "\n",
    "# Print the status of each worker.\n",
    "for worker, status in zip(all_workers, worker_statuses):\n",
    "    print(f\"Worker {worker['NodeID']} is {'healthy' if status else 'unhealthy'}.\")\n"
   ]
  },
  {
   "cell_type": "code",
   "execution_count": null,
   "metadata": {},
   "outputs": [],
   "source": [
    "trainer = train_model({'epochs':51})\n",
    "plt.plot(trainer.losses)\n"
   ]
  },
  {
   "cell_type": "code",
   "execution_count": null,
   "metadata": {},
   "outputs": [],
   "source": [
    "pred = trainer.predict(trainer.x).reshape(-1,1)\n",
    "plt.scatter(pred, trainer.y)"
   ]
  },
  {
   "cell_type": "code",
   "execution_count": null,
   "metadata": {},
   "outputs": [],
   "source": [
    "model = kmk.NN(n_inputs=x.shape[1], n_outputs=y.shape[1], layers=2, layer_size=50, change_layers=0)\n",
    "model"
   ]
  },
  {
   "cell_type": "code",
   "execution_count": null,
   "metadata": {},
   "outputs": [],
   "source": [
    "tlnn = kmk.TLNN(model, x, change_layers=1)\n",
    "tlnn"
   ]
  },
  {
   "cell_type": "code",
   "execution_count": null,
   "metadata": {},
   "outputs": [],
   "source": [
    "model.__init__(**model.params)"
   ]
  }
 ],
 "metadata": {
  "kernelspec": {
   "display_name": "venv",
   "language": "python",
   "name": "python3"
  },
  "language_info": {
   "codemirror_mode": {
    "name": "ipython",
    "version": 3
   },
   "file_extension": ".py",
   "mimetype": "text/x-python",
   "name": "python",
   "nbconvert_exporter": "python",
   "pygments_lexer": "ipython3",
   "version": "3.10.10"
  },
  "orig_nbformat": 4
 },
 "nbformat": 4,
 "nbformat_minor": 2
}
