{
 "cells": [
  {
   "cell_type": "code",
   "execution_count": 1,
   "metadata": {},
   "outputs": [],
   "source": [
    "import kmodels as kmk\n",
    "import torch \n",
    "import numpy as np\n",
    "import plotly.express as px\n",
    "from sklearn.preprocessing import StandardScaler, MinMaxScaler\n",
    "import matplotlib.pyplot as plt\n"
   ]
  },
  {
   "cell_type": "code",
   "execution_count": 2,
   "metadata": {},
   "outputs": [
    {
     "data": {
      "text/plain": [
       "((1000, 10), (1000,))"
      ]
     },
     "execution_count": 2,
     "metadata": {},
     "output_type": "execute_result"
    }
   ],
   "source": [
    "n = 1000\n",
    "n_features = 10\n",
    "binary_dim = 0\n",
    "float_dim = n_features - binary_dim\n",
    "x_bin = np.random.randint(2, size=(n, binary_dim))\n",
    "x_float = np.random.rand(n, float_dim)\n",
    "x = np.concatenate((x_bin, x_float), axis=1)\n",
    "y = np.sin(x[:,0]) + np.cos(x[:,1])\n",
    "# # y will be piecewise linear function of x using binary dim as a switch\n",
    "# y = np.zeros(n)\n",
    "# for i in range(n):\n",
    "#     if x_bin[i] == 0:\n",
    "#         y[i] = np.sum(x_float[i])\n",
    "#     else:\n",
    "#         y[i] = np.sum(x_float[i]**2)\n",
    "x.shape, y.shape"
   ]
  },
  {
   "cell_type": "code",
   "execution_count": 3,
   "metadata": {},
   "outputs": [
    {
     "name": "stdout",
     "output_type": "stream",
     "text": [
      "float scaler:  (1000, 10)\n"
     ]
    },
    {
     "data": {
      "text/plain": [
       "(1000, 10)"
      ]
     },
     "execution_count": 3,
     "metadata": {},
     "output_type": "execute_result"
    }
   ],
   "source": [
    "def scale_data(x, binary_dim=0):\n",
    "    if binary_dim>0:\n",
    "        bin_scaler = MinMaxScaler()\n",
    "        float_scaler = StandardScaler()\n",
    "        x_bin = bin_scaler.fit_transform(x[:, :binary_dim])\n",
    "        x_float = float_scaler.fit_transform(x[:, binary_dim:])\n",
    "        print('binary scaler: ', x_bin.shape)\n",
    "        print('float scaler: ', x_float.shape)\n",
    "        x = np.concatenate((x_bin, x_float), axis=1)\n",
    "    else:\n",
    "        bin_scaler = None\n",
    "        float_scaler = StandardScaler()\n",
    "        x = float_scaler.fit_transform(x)\n",
    "        print('float scaler: ', x.shape)\n",
    "    return x, bin_scaler, float_scaler\n",
    "\n",
    "x, bin_scaler, float_scaler = scale_data(x, binary_dim=binary_dim)\n",
    "x.shape"
   ]
  },
  {
   "cell_type": "code",
   "execution_count": 4,
   "metadata": {},
   "outputs": [],
   "source": [
    "from torch.utils.data import TensorDataset\n",
    "x = torch.tensor(x, dtype=torch.float32)\n",
    "y = torch.tensor(y, dtype=torch.float32).reshape(-1, 1)\n",
    "dataset = TensorDataset(x, y)"
   ]
  },
  {
   "cell_type": "code",
   "execution_count": 5,
   "metadata": {},
   "outputs": [],
   "source": [
    "from sklearn.model_selection import GridSearchCV\n",
    "param_dist = {'fc_layers':[1, 3, 5], 'lr_init':[0.1, 0.01, 0.001]}\n",
    "grid_ = GridSearchCV(kmk.Trainer(**{'estimator_type':'CNN', 'kernel_size':3, 'epochs':101, 'fc_size':10}), param_dist, cv=2, verbose=1, n_jobs=1)"
   ]
  },
  {
   "cell_type": "code",
   "execution_count": 6,
   "metadata": {},
   "outputs": [
    {
     "data": {
      "text/html": [
       "<style>#sk-container-id-1 {color: black;background-color: white;}#sk-container-id-1 pre{padding: 0;}#sk-container-id-1 div.sk-toggleable {background-color: white;}#sk-container-id-1 label.sk-toggleable__label {cursor: pointer;display: block;width: 100%;margin-bottom: 0;padding: 0.3em;box-sizing: border-box;text-align: center;}#sk-container-id-1 label.sk-toggleable__label-arrow:before {content: \"▸\";float: left;margin-right: 0.25em;color: #696969;}#sk-container-id-1 label.sk-toggleable__label-arrow:hover:before {color: black;}#sk-container-id-1 div.sk-estimator:hover label.sk-toggleable__label-arrow:before {color: black;}#sk-container-id-1 div.sk-toggleable__content {max-height: 0;max-width: 0;overflow: hidden;text-align: left;background-color: #f0f8ff;}#sk-container-id-1 div.sk-toggleable__content pre {margin: 0.2em;color: black;border-radius: 0.25em;background-color: #f0f8ff;}#sk-container-id-1 input.sk-toggleable__control:checked~div.sk-toggleable__content {max-height: 200px;max-width: 100%;overflow: auto;}#sk-container-id-1 input.sk-toggleable__control:checked~label.sk-toggleable__label-arrow:before {content: \"▾\";}#sk-container-id-1 div.sk-estimator input.sk-toggleable__control:checked~label.sk-toggleable__label {background-color: #d4ebff;}#sk-container-id-1 div.sk-label input.sk-toggleable__control:checked~label.sk-toggleable__label {background-color: #d4ebff;}#sk-container-id-1 input.sk-hidden--visually {border: 0;clip: rect(1px 1px 1px 1px);clip: rect(1px, 1px, 1px, 1px);height: 1px;margin: -1px;overflow: hidden;padding: 0;position: absolute;width: 1px;}#sk-container-id-1 div.sk-estimator {font-family: monospace;background-color: #f0f8ff;border: 1px dotted black;border-radius: 0.25em;box-sizing: border-box;margin-bottom: 0.5em;}#sk-container-id-1 div.sk-estimator:hover {background-color: #d4ebff;}#sk-container-id-1 div.sk-parallel-item::after {content: \"\";width: 100%;border-bottom: 1px solid gray;flex-grow: 1;}#sk-container-id-1 div.sk-label:hover label.sk-toggleable__label {background-color: #d4ebff;}#sk-container-id-1 div.sk-serial::before {content: \"\";position: absolute;border-left: 1px solid gray;box-sizing: border-box;top: 0;bottom: 0;left: 50%;z-index: 0;}#sk-container-id-1 div.sk-serial {display: flex;flex-direction: column;align-items: center;background-color: white;padding-right: 0.2em;padding-left: 0.2em;position: relative;}#sk-container-id-1 div.sk-item {position: relative;z-index: 1;}#sk-container-id-1 div.sk-parallel {display: flex;align-items: stretch;justify-content: center;background-color: white;position: relative;}#sk-container-id-1 div.sk-item::before, #sk-container-id-1 div.sk-parallel-item::before {content: \"\";position: absolute;border-left: 1px solid gray;box-sizing: border-box;top: 0;bottom: 0;left: 50%;z-index: -1;}#sk-container-id-1 div.sk-parallel-item {display: flex;flex-direction: column;z-index: 1;position: relative;background-color: white;}#sk-container-id-1 div.sk-parallel-item:first-child::after {align-self: flex-end;width: 50%;}#sk-container-id-1 div.sk-parallel-item:last-child::after {align-self: flex-start;width: 50%;}#sk-container-id-1 div.sk-parallel-item:only-child::after {width: 0;}#sk-container-id-1 div.sk-dashed-wrapped {border: 1px dashed gray;margin: 0 0.4em 0.5em 0.4em;box-sizing: border-box;padding-bottom: 0.4em;background-color: white;}#sk-container-id-1 div.sk-label label {font-family: monospace;font-weight: bold;display: inline-block;line-height: 1.2em;}#sk-container-id-1 div.sk-label-container {text-align: center;}#sk-container-id-1 div.sk-container {/* jupyter's `normalize.less` sets `[hidden] { display: none; }` but bootstrap.min.css set `[hidden] { display: none !important; }` so we also need the `!important` here to be able to override the default hidden behavior on the sphinx rendered scikit-learn.org. See: https://github.com/scikit-learn/scikit-learn/issues/21755 */display: inline-block !important;position: relative;}#sk-container-id-1 div.sk-text-repr-fallback {display: none;}</style><div id=\"sk-container-id-1\" class=\"sk-top-container\"><div class=\"sk-text-repr-fallback\"><pre>GridSearchCV(cv=2,\n",
       "             estimator=Trainer(att=&#x27;fc_size&#x27;, epochs=101, estimator_type=&#x27;CNN&#x27;,\n",
       "                               fc_size=10, kernel_size=3, key=&#x27;estimator_type&#x27;,\n",
       "                               kwargs={&#x27;att&#x27;: &#x27;fc_size&#x27;, &#x27;epochs&#x27;: 101,\n",
       "                                       &#x27;estimator_type&#x27;: &#x27;CNN&#x27;, &#x27;fc_size&#x27;: 10,\n",
       "                                       &#x27;kernel_size&#x27;: 3,\n",
       "                                       &#x27;key&#x27;: &#x27;estimator_type&#x27;,\n",
       "                                       &#x27;kwargs&#x27;: &lt;Recursion on dict with id=2016574364416&gt;,\n",
       "                                       &#x27;self&#x27;: &lt;Recursion on Trainer with id=2016595047808&gt;,\n",
       "                                       &#x27;value&#x27;: 10},\n",
       "                               lr_init=0.001, value=10),\n",
       "             n_jobs=1,\n",
       "             param_grid={&#x27;fc_layers&#x27;: [1, 3, 5], &#x27;lr_init&#x27;: [0.1, 0.01, 0.001]},\n",
       "             verbose=1)</pre><b>In a Jupyter environment, please rerun this cell to show the HTML representation or trust the notebook. <br />On GitHub, the HTML representation is unable to render, please try loading this page with nbviewer.org.</b></div><div class=\"sk-container\" hidden><div class=\"sk-item sk-dashed-wrapped\"><div class=\"sk-label-container\"><div class=\"sk-label sk-toggleable\"><input class=\"sk-toggleable__control sk-hidden--visually\" id=\"sk-estimator-id-1\" type=\"checkbox\" ><label for=\"sk-estimator-id-1\" class=\"sk-toggleable__label sk-toggleable__label-arrow\">GridSearchCV</label><div class=\"sk-toggleable__content\"><pre>GridSearchCV(cv=2,\n",
       "             estimator=Trainer(att=&#x27;fc_size&#x27;, epochs=101, estimator_type=&#x27;CNN&#x27;,\n",
       "                               fc_size=10, kernel_size=3, key=&#x27;estimator_type&#x27;,\n",
       "                               kwargs={&#x27;att&#x27;: &#x27;fc_size&#x27;, &#x27;epochs&#x27;: 101,\n",
       "                                       &#x27;estimator_type&#x27;: &#x27;CNN&#x27;, &#x27;fc_size&#x27;: 10,\n",
       "                                       &#x27;kernel_size&#x27;: 3,\n",
       "                                       &#x27;key&#x27;: &#x27;estimator_type&#x27;,\n",
       "                                       &#x27;kwargs&#x27;: &lt;Recursion on dict with id=2016574364416&gt;,\n",
       "                                       &#x27;self&#x27;: &lt;Recursion on Trainer with id=2016595047808&gt;,\n",
       "                                       &#x27;value&#x27;: 10},\n",
       "                               lr_init=0.001, value=10),\n",
       "             n_jobs=1,\n",
       "             param_grid={&#x27;fc_layers&#x27;: [1, 3, 5], &#x27;lr_init&#x27;: [0.1, 0.01, 0.001]},\n",
       "             verbose=1)</pre></div></div></div><div class=\"sk-parallel\"><div class=\"sk-parallel-item\"><div class=\"sk-item\"><div class=\"sk-label-container\"><div class=\"sk-label sk-toggleable\"><input class=\"sk-toggleable__control sk-hidden--visually\" id=\"sk-estimator-id-2\" type=\"checkbox\" ><label for=\"sk-estimator-id-2\" class=\"sk-toggleable__label sk-toggleable__label-arrow\">estimator: Trainer</label><div class=\"sk-toggleable__content\"><pre>Trainer(att=&#x27;fc_size&#x27;, epochs=101, estimator_type=&#x27;CNN&#x27;, fc_size=10,\n",
       "        kernel_size=3, key=&#x27;estimator_type&#x27;,\n",
       "        kwargs={&#x27;att&#x27;: &#x27;fc_size&#x27;, &#x27;epochs&#x27;: 101, &#x27;estimator_type&#x27;: &#x27;CNN&#x27;,\n",
       "                &#x27;fc_size&#x27;: 10, &#x27;kernel_size&#x27;: 3, &#x27;key&#x27;: &#x27;estimator_type&#x27;,\n",
       "                &#x27;kwargs&#x27;: &lt;Recursion on dict with id=2016574364416&gt;,\n",
       "                &#x27;self&#x27;: &lt;Recursion on Trainer with id=2016595047808&gt;,\n",
       "                &#x27;value&#x27;: 10},\n",
       "        lr_init=0.001, value=10)</pre></div></div></div><div class=\"sk-serial\"><div class=\"sk-item\"><div class=\"sk-estimator sk-toggleable\"><input class=\"sk-toggleable__control sk-hidden--visually\" id=\"sk-estimator-id-3\" type=\"checkbox\" ><label for=\"sk-estimator-id-3\" class=\"sk-toggleable__label sk-toggleable__label-arrow\">Trainer</label><div class=\"sk-toggleable__content\"><pre>Trainer(att=&#x27;fc_size&#x27;, epochs=101, estimator_type=&#x27;CNN&#x27;, fc_size=10,\n",
       "        kernel_size=3, key=&#x27;estimator_type&#x27;,\n",
       "        kwargs={&#x27;att&#x27;: &#x27;fc_size&#x27;, &#x27;epochs&#x27;: 101, &#x27;estimator_type&#x27;: &#x27;CNN&#x27;,\n",
       "                &#x27;fc_size&#x27;: 10, &#x27;kernel_size&#x27;: 3, &#x27;key&#x27;: &#x27;estimator_type&#x27;,\n",
       "                &#x27;kwargs&#x27;: &lt;Recursion on dict with id=2016574364416&gt;,\n",
       "                &#x27;self&#x27;: &lt;Recursion on Trainer with id=2016595047808&gt;,\n",
       "                &#x27;value&#x27;: 10},\n",
       "        lr_init=0.001, value=10)</pre></div></div></div></div></div></div></div></div></div></div>"
      ],
      "text/plain": [
       "GridSearchCV(cv=2,\n",
       "             estimator=Trainer(att='fc_size', epochs=101, estimator_type='CNN',\n",
       "                               fc_size=10, kernel_size=3, key='estimator_type',\n",
       "                               kwargs={'att': 'fc_size', 'epochs': 101,\n",
       "                                       'estimator_type': 'CNN', 'fc_size': 10,\n",
       "                                       'kernel_size': 3,\n",
       "                                       'key': 'estimator_type',\n",
       "                                       'kwargs': <Recursion on dict with id=2016574364416>,\n",
       "                                       'self': <Recursion on Trainer with id=2016595047808>,\n",
       "                                       'value': 10},\n",
       "                               lr_init=0.001, value=10),\n",
       "             n_jobs=1,\n",
       "             param_grid={'fc_layers': [1, 3, 5], 'lr_init': [0.1, 0.01, 0.001]},\n",
       "             verbose=1)"
      ]
     },
     "execution_count": 6,
     "metadata": {},
     "output_type": "execute_result"
    }
   ],
   "source": [
    "grid_"
   ]
  },
  {
   "cell_type": "code",
   "execution_count": 7,
   "metadata": {},
   "outputs": [
    {
     "name": "stdout",
     "output_type": "stream",
     "text": [
      "Fitting 2 folds for each of 9 candidates, totalling 18 fits\n"
     ]
    },
    {
     "name": "stderr",
     "output_type": "stream",
     "text": [
      "c:\\Users\\efons\\anaconda3\\envs\\venv\\lib\\site-packages\\torch\\nn\\modules\\loss.py:536: UserWarning: Using a target size (torch.Size([100, 10])) that is different to the input size (torch.Size([100, 1])). This will likely lead to incorrect results due to broadcasting. Please ensure they have the same size.\n",
      "  return F.mse_loss(input, target, reduction=self.reduction)\n",
      "c:\\Users\\efons\\anaconda3\\envs\\venv\\lib\\site-packages\\torch\\nn\\modules\\loss.py:536: UserWarning: Using a target size (torch.Size([100, 10])) that is different to the input size (torch.Size([100, 1])). This will likely lead to incorrect results due to broadcasting. Please ensure they have the same size.\n",
      "  return F.mse_loss(input, target, reduction=self.reduction)\n",
      "c:\\Users\\efons\\anaconda3\\envs\\venv\\lib\\site-packages\\torch\\nn\\modules\\loss.py:536: UserWarning: Using a target size (torch.Size([100, 10])) that is different to the input size (torch.Size([100, 1])). This will likely lead to incorrect results due to broadcasting. Please ensure they have the same size.\n",
      "  return F.mse_loss(input, target, reduction=self.reduction)\n",
      "c:\\Users\\efons\\anaconda3\\envs\\venv\\lib\\site-packages\\torch\\nn\\modules\\loss.py:536: UserWarning: Using a target size (torch.Size([100, 10])) that is different to the input size (torch.Size([100, 1])). This will likely lead to incorrect results due to broadcasting. Please ensure they have the same size.\n",
      "  return F.mse_loss(input, target, reduction=self.reduction)\n",
      "c:\\Users\\efons\\anaconda3\\envs\\venv\\lib\\site-packages\\torch\\nn\\modules\\loss.py:536: UserWarning: Using a target size (torch.Size([100, 10])) that is different to the input size (torch.Size([100, 1])). This will likely lead to incorrect results due to broadcasting. Please ensure they have the same size.\n",
      "  return F.mse_loss(input, target, reduction=self.reduction)\n",
      "c:\\Users\\efons\\anaconda3\\envs\\venv\\lib\\site-packages\\torch\\nn\\modules\\loss.py:536: UserWarning: Using a target size (torch.Size([100, 10])) that is different to the input size (torch.Size([100, 1])). This will likely lead to incorrect results due to broadcasting. Please ensure they have the same size.\n",
      "  return F.mse_loss(input, target, reduction=self.reduction)\n",
      "c:\\Users\\efons\\anaconda3\\envs\\venv\\lib\\site-packages\\torch\\nn\\modules\\loss.py:536: UserWarning: Using a target size (torch.Size([100, 10])) that is different to the input size (torch.Size([100, 1])). This will likely lead to incorrect results due to broadcasting. Please ensure they have the same size.\n",
      "  return F.mse_loss(input, target, reduction=self.reduction)\n",
      "c:\\Users\\efons\\anaconda3\\envs\\venv\\lib\\site-packages\\torch\\nn\\modules\\loss.py:536: UserWarning: Using a target size (torch.Size([100, 10])) that is different to the input size (torch.Size([100, 1])). This will likely lead to incorrect results due to broadcasting. Please ensure they have the same size.\n",
      "  return F.mse_loss(input, target, reduction=self.reduction)\n",
      "c:\\Users\\efons\\anaconda3\\envs\\venv\\lib\\site-packages\\torch\\nn\\modules\\loss.py:536: UserWarning: Using a target size (torch.Size([100, 10])) that is different to the input size (torch.Size([100, 1])). This will likely lead to incorrect results due to broadcasting. Please ensure they have the same size.\n",
      "  return F.mse_loss(input, target, reduction=self.reduction)\n",
      "c:\\Users\\efons\\anaconda3\\envs\\venv\\lib\\site-packages\\torch\\nn\\modules\\loss.py:536: UserWarning: Using a target size (torch.Size([100, 10])) that is different to the input size (torch.Size([100, 1])). This will likely lead to incorrect results due to broadcasting. Please ensure they have the same size.\n",
      "  return F.mse_loss(input, target, reduction=self.reduction)\n",
      "c:\\Users\\efons\\anaconda3\\envs\\venv\\lib\\site-packages\\torch\\nn\\modules\\loss.py:536: UserWarning: Using a target size (torch.Size([100, 10])) that is different to the input size (torch.Size([100, 1])). This will likely lead to incorrect results due to broadcasting. Please ensure they have the same size.\n",
      "  return F.mse_loss(input, target, reduction=self.reduction)\n",
      "c:\\Users\\efons\\anaconda3\\envs\\venv\\lib\\site-packages\\torch\\nn\\modules\\loss.py:536: UserWarning: Using a target size (torch.Size([100, 10])) that is different to the input size (torch.Size([100, 1])). This will likely lead to incorrect results due to broadcasting. Please ensure they have the same size.\n",
      "  return F.mse_loss(input, target, reduction=self.reduction)\n",
      "c:\\Users\\efons\\anaconda3\\envs\\venv\\lib\\site-packages\\torch\\nn\\modules\\loss.py:536: UserWarning: Using a target size (torch.Size([100, 10])) that is different to the input size (torch.Size([100, 1])). This will likely lead to incorrect results due to broadcasting. Please ensure they have the same size.\n",
      "  return F.mse_loss(input, target, reduction=self.reduction)\n",
      "c:\\Users\\efons\\anaconda3\\envs\\venv\\lib\\site-packages\\torch\\nn\\modules\\loss.py:536: UserWarning: Using a target size (torch.Size([100, 10])) that is different to the input size (torch.Size([100, 1])). This will likely lead to incorrect results due to broadcasting. Please ensure they have the same size.\n",
      "  return F.mse_loss(input, target, reduction=self.reduction)\n",
      "c:\\Users\\efons\\anaconda3\\envs\\venv\\lib\\site-packages\\torch\\nn\\modules\\loss.py:536: UserWarning: Using a target size (torch.Size([100, 10])) that is different to the input size (torch.Size([100, 1])). This will likely lead to incorrect results due to broadcasting. Please ensure they have the same size.\n",
      "  return F.mse_loss(input, target, reduction=self.reduction)\n",
      "c:\\Users\\efons\\anaconda3\\envs\\venv\\lib\\site-packages\\torch\\nn\\modules\\loss.py:536: UserWarning: Using a target size (torch.Size([100, 10])) that is different to the input size (torch.Size([100, 1])). This will likely lead to incorrect results due to broadcasting. Please ensure they have the same size.\n",
      "  return F.mse_loss(input, target, reduction=self.reduction)\n",
      "c:\\Users\\efons\\anaconda3\\envs\\venv\\lib\\site-packages\\torch\\nn\\modules\\loss.py:536: UserWarning: Using a target size (torch.Size([100, 10])) that is different to the input size (torch.Size([100, 1])). This will likely lead to incorrect results due to broadcasting. Please ensure they have the same size.\n",
      "  return F.mse_loss(input, target, reduction=self.reduction)\n",
      "c:\\Users\\efons\\anaconda3\\envs\\venv\\lib\\site-packages\\torch\\nn\\modules\\loss.py:536: UserWarning: Using a target size (torch.Size([100, 10])) that is different to the input size (torch.Size([100, 1])). This will likely lead to incorrect results due to broadcasting. Please ensure they have the same size.\n",
      "  return F.mse_loss(input, target, reduction=self.reduction)\n",
      "c:\\Users\\efons\\anaconda3\\envs\\venv\\lib\\site-packages\\torch\\nn\\modules\\loss.py:536: UserWarning: Using a target size (torch.Size([100, 10])) that is different to the input size (torch.Size([100, 1])). This will likely lead to incorrect results due to broadcasting. Please ensure they have the same size.\n",
      "  return F.mse_loss(input, target, reduction=self.reduction)\n"
     ]
    },
    {
     "data": {
      "text/html": [
       "<style>#sk-container-id-2 {color: black;background-color: white;}#sk-container-id-2 pre{padding: 0;}#sk-container-id-2 div.sk-toggleable {background-color: white;}#sk-container-id-2 label.sk-toggleable__label {cursor: pointer;display: block;width: 100%;margin-bottom: 0;padding: 0.3em;box-sizing: border-box;text-align: center;}#sk-container-id-2 label.sk-toggleable__label-arrow:before {content: \"▸\";float: left;margin-right: 0.25em;color: #696969;}#sk-container-id-2 label.sk-toggleable__label-arrow:hover:before {color: black;}#sk-container-id-2 div.sk-estimator:hover label.sk-toggleable__label-arrow:before {color: black;}#sk-container-id-2 div.sk-toggleable__content {max-height: 0;max-width: 0;overflow: hidden;text-align: left;background-color: #f0f8ff;}#sk-container-id-2 div.sk-toggleable__content pre {margin: 0.2em;color: black;border-radius: 0.25em;background-color: #f0f8ff;}#sk-container-id-2 input.sk-toggleable__control:checked~div.sk-toggleable__content {max-height: 200px;max-width: 100%;overflow: auto;}#sk-container-id-2 input.sk-toggleable__control:checked~label.sk-toggleable__label-arrow:before {content: \"▾\";}#sk-container-id-2 div.sk-estimator input.sk-toggleable__control:checked~label.sk-toggleable__label {background-color: #d4ebff;}#sk-container-id-2 div.sk-label input.sk-toggleable__control:checked~label.sk-toggleable__label {background-color: #d4ebff;}#sk-container-id-2 input.sk-hidden--visually {border: 0;clip: rect(1px 1px 1px 1px);clip: rect(1px, 1px, 1px, 1px);height: 1px;margin: -1px;overflow: hidden;padding: 0;position: absolute;width: 1px;}#sk-container-id-2 div.sk-estimator {font-family: monospace;background-color: #f0f8ff;border: 1px dotted black;border-radius: 0.25em;box-sizing: border-box;margin-bottom: 0.5em;}#sk-container-id-2 div.sk-estimator:hover {background-color: #d4ebff;}#sk-container-id-2 div.sk-parallel-item::after {content: \"\";width: 100%;border-bottom: 1px solid gray;flex-grow: 1;}#sk-container-id-2 div.sk-label:hover label.sk-toggleable__label {background-color: #d4ebff;}#sk-container-id-2 div.sk-serial::before {content: \"\";position: absolute;border-left: 1px solid gray;box-sizing: border-box;top: 0;bottom: 0;left: 50%;z-index: 0;}#sk-container-id-2 div.sk-serial {display: flex;flex-direction: column;align-items: center;background-color: white;padding-right: 0.2em;padding-left: 0.2em;position: relative;}#sk-container-id-2 div.sk-item {position: relative;z-index: 1;}#sk-container-id-2 div.sk-parallel {display: flex;align-items: stretch;justify-content: center;background-color: white;position: relative;}#sk-container-id-2 div.sk-item::before, #sk-container-id-2 div.sk-parallel-item::before {content: \"\";position: absolute;border-left: 1px solid gray;box-sizing: border-box;top: 0;bottom: 0;left: 50%;z-index: -1;}#sk-container-id-2 div.sk-parallel-item {display: flex;flex-direction: column;z-index: 1;position: relative;background-color: white;}#sk-container-id-2 div.sk-parallel-item:first-child::after {align-self: flex-end;width: 50%;}#sk-container-id-2 div.sk-parallel-item:last-child::after {align-self: flex-start;width: 50%;}#sk-container-id-2 div.sk-parallel-item:only-child::after {width: 0;}#sk-container-id-2 div.sk-dashed-wrapped {border: 1px dashed gray;margin: 0 0.4em 0.5em 0.4em;box-sizing: border-box;padding-bottom: 0.4em;background-color: white;}#sk-container-id-2 div.sk-label label {font-family: monospace;font-weight: bold;display: inline-block;line-height: 1.2em;}#sk-container-id-2 div.sk-label-container {text-align: center;}#sk-container-id-2 div.sk-container {/* jupyter's `normalize.less` sets `[hidden] { display: none; }` but bootstrap.min.css set `[hidden] { display: none !important; }` so we also need the `!important` here to be able to override the default hidden behavior on the sphinx rendered scikit-learn.org. See: https://github.com/scikit-learn/scikit-learn/issues/21755 */display: inline-block !important;position: relative;}#sk-container-id-2 div.sk-text-repr-fallback {display: none;}</style><div id=\"sk-container-id-2\" class=\"sk-top-container\"><div class=\"sk-text-repr-fallback\"><pre>GridSearchCV(cv=2,\n",
       "             estimator=Trainer(att=&#x27;fc_size&#x27;, epochs=101, estimator_type=&#x27;CNN&#x27;,\n",
       "                               fc_size=10, kernel_size=3, key=&#x27;estimator_type&#x27;,\n",
       "                               kwargs={&#x27;att&#x27;: &#x27;fc_size&#x27;, &#x27;epochs&#x27;: 101,\n",
       "                                       &#x27;estimator_type&#x27;: &#x27;CNN&#x27;, &#x27;fc_size&#x27;: 10,\n",
       "                                       &#x27;kernel_size&#x27;: 3,\n",
       "                                       &#x27;key&#x27;: &#x27;estimator_type&#x27;,\n",
       "                                       &#x27;kwargs&#x27;: &lt;Recursion on dict with id=2016611982784&gt;,\n",
       "                                       &#x27;self&#x27;: Trainer(att=&#x27;fc_size&#x27;,\n",
       "                                                       epochs=101,\n",
       "                                                       estimator_type=&#x27;CNN&#x27;,\n",
       "                                                       fc_size=10,\n",
       "                                                       kernel_size=3,\n",
       "                                                       key=&#x27;estimator_type&#x27;,\n",
       "                                                       kwargs=&lt;Recursion on dict with id=2016611982784&gt;,\n",
       "                                                       lr_init=0.001,\n",
       "                                                       value=10),\n",
       "                                       &#x27;value&#x27;: 10},\n",
       "                               lr_init=0.001, value=10),\n",
       "             n_jobs=1,\n",
       "             param_grid={&#x27;fc_layers&#x27;: [1, 3, 5], &#x27;lr_init&#x27;: [0.1, 0.01, 0.001]},\n",
       "             verbose=1)</pre><b>In a Jupyter environment, please rerun this cell to show the HTML representation or trust the notebook. <br />On GitHub, the HTML representation is unable to render, please try loading this page with nbviewer.org.</b></div><div class=\"sk-container\" hidden><div class=\"sk-item sk-dashed-wrapped\"><div class=\"sk-label-container\"><div class=\"sk-label sk-toggleable\"><input class=\"sk-toggleable__control sk-hidden--visually\" id=\"sk-estimator-id-4\" type=\"checkbox\" ><label for=\"sk-estimator-id-4\" class=\"sk-toggleable__label sk-toggleable__label-arrow\">GridSearchCV</label><div class=\"sk-toggleable__content\"><pre>GridSearchCV(cv=2,\n",
       "             estimator=Trainer(att=&#x27;fc_size&#x27;, epochs=101, estimator_type=&#x27;CNN&#x27;,\n",
       "                               fc_size=10, kernel_size=3, key=&#x27;estimator_type&#x27;,\n",
       "                               kwargs={&#x27;att&#x27;: &#x27;fc_size&#x27;, &#x27;epochs&#x27;: 101,\n",
       "                                       &#x27;estimator_type&#x27;: &#x27;CNN&#x27;, &#x27;fc_size&#x27;: 10,\n",
       "                                       &#x27;kernel_size&#x27;: 3,\n",
       "                                       &#x27;key&#x27;: &#x27;estimator_type&#x27;,\n",
       "                                       &#x27;kwargs&#x27;: &lt;Recursion on dict with id=2016611982784&gt;,\n",
       "                                       &#x27;self&#x27;: Trainer(att=&#x27;fc_size&#x27;,\n",
       "                                                       epochs=101,\n",
       "                                                       estimator_type=&#x27;CNN&#x27;,\n",
       "                                                       fc_size=10,\n",
       "                                                       kernel_size=3,\n",
       "                                                       key=&#x27;estimator_type&#x27;,\n",
       "                                                       kwargs=&lt;Recursion on dict with id=2016611982784&gt;,\n",
       "                                                       lr_init=0.001,\n",
       "                                                       value=10),\n",
       "                                       &#x27;value&#x27;: 10},\n",
       "                               lr_init=0.001, value=10),\n",
       "             n_jobs=1,\n",
       "             param_grid={&#x27;fc_layers&#x27;: [1, 3, 5], &#x27;lr_init&#x27;: [0.1, 0.01, 0.001]},\n",
       "             verbose=1)</pre></div></div></div><div class=\"sk-parallel\"><div class=\"sk-parallel-item\"><div class=\"sk-item\"><div class=\"sk-label-container\"><div class=\"sk-label sk-toggleable\"><input class=\"sk-toggleable__control sk-hidden--visually\" id=\"sk-estimator-id-5\" type=\"checkbox\" ><label for=\"sk-estimator-id-5\" class=\"sk-toggleable__label sk-toggleable__label-arrow\">estimator: Trainer</label><div class=\"sk-toggleable__content\"><pre>Trainer(att=&#x27;fc_size&#x27;, epochs=101, estimator_type=&#x27;CNN&#x27;, fc_size=10,\n",
       "        kernel_size=3, key=&#x27;estimator_type&#x27;,\n",
       "        kwargs={&#x27;att&#x27;: &#x27;fc_size&#x27;, &#x27;epochs&#x27;: 101, &#x27;estimator_type&#x27;: &#x27;CNN&#x27;,\n",
       "                &#x27;fc_size&#x27;: 10, &#x27;kernel_size&#x27;: 3, &#x27;key&#x27;: &#x27;estimator_type&#x27;,\n",
       "                &#x27;kwargs&#x27;: &lt;Recursion on dict with id=2016611982784&gt;,\n",
       "                &#x27;self&#x27;: Trainer(att=&#x27;fc_size&#x27;, epochs=101, estimator_type=&#x27;CNN&#x27;,\n",
       "                                fc_size=10, kernel_size=3, key=&#x27;estimator_type&#x27;,\n",
       "                                kwargs=&lt;Recursion on dict with id=2016611982784&gt;,\n",
       "                                lr_init=0.001, value=10),\n",
       "                &#x27;value&#x27;: 10},\n",
       "        lr_init=0.001, value=10)</pre></div></div></div><div class=\"sk-serial\"><div class=\"sk-item\"><div class=\"sk-estimator sk-toggleable\"><input class=\"sk-toggleable__control sk-hidden--visually\" id=\"sk-estimator-id-6\" type=\"checkbox\" ><label for=\"sk-estimator-id-6\" class=\"sk-toggleable__label sk-toggleable__label-arrow\">Trainer</label><div class=\"sk-toggleable__content\"><pre>Trainer(att=&#x27;fc_size&#x27;, epochs=101, estimator_type=&#x27;CNN&#x27;, fc_size=10,\n",
       "        kernel_size=3, key=&#x27;estimator_type&#x27;,\n",
       "        kwargs={&#x27;att&#x27;: &#x27;fc_size&#x27;, &#x27;epochs&#x27;: 101, &#x27;estimator_type&#x27;: &#x27;CNN&#x27;,\n",
       "                &#x27;fc_size&#x27;: 10, &#x27;kernel_size&#x27;: 3, &#x27;key&#x27;: &#x27;estimator_type&#x27;,\n",
       "                &#x27;kwargs&#x27;: &lt;Recursion on dict with id=2016611982784&gt;,\n",
       "                &#x27;self&#x27;: Trainer(att=&#x27;fc_size&#x27;, epochs=101, estimator_type=&#x27;CNN&#x27;,\n",
       "                                fc_size=10, kernel_size=3, key=&#x27;estimator_type&#x27;,\n",
       "                                kwargs=&lt;Recursion on dict with id=2016611982784&gt;,\n",
       "                                lr_init=0.001, value=10),\n",
       "                &#x27;value&#x27;: 10},\n",
       "        lr_init=0.001, value=10)</pre></div></div></div></div></div></div></div></div></div></div>"
      ],
      "text/plain": [
       "GridSearchCV(cv=2,\n",
       "             estimator=Trainer(att='fc_size', epochs=101, estimator_type='CNN',\n",
       "                               fc_size=10, kernel_size=3, key='estimator_type',\n",
       "                               kwargs={'att': 'fc_size', 'epochs': 101,\n",
       "                                       'estimator_type': 'CNN', 'fc_size': 10,\n",
       "                                       'kernel_size': 3,\n",
       "                                       'key': 'estimator_type',\n",
       "                                       'kwargs': <Recursion on dict with id=2016611982784>,\n",
       "                                       'self': Trainer(att='fc_size',\n",
       "                                                       epochs=101,\n",
       "                                                       estimator_type='CNN',\n",
       "                                                       fc_size=10,\n",
       "                                                       kernel_size=3,\n",
       "                                                       key='estimator_type',\n",
       "                                                       kwargs=<Recursion on dict with id=2016611982784>,\n",
       "                                                       lr_init=0.001,\n",
       "                                                       value=10),\n",
       "                                       'value': 10},\n",
       "                               lr_init=0.001, value=10),\n",
       "             n_jobs=1,\n",
       "             param_grid={'fc_layers': [1, 3, 5], 'lr_init': [0.1, 0.01, 0.001]},\n",
       "             verbose=1)"
      ]
     },
     "execution_count": 7,
     "metadata": {},
     "output_type": "execute_result"
    }
   ],
   "source": [
    "grid_.fit(x,y)"
   ]
  },
  {
   "cell_type": "code",
   "execution_count": 8,
   "metadata": {},
   "outputs": [
    {
     "name": "stdout",
     "output_type": "stream",
     "text": [
      "torch.Size([1000, 10]) torch.Size([1000, 1])\n"
     ]
    },
    {
     "data": {
      "text/html": [
       "<style>#sk-container-id-3 {color: black;background-color: white;}#sk-container-id-3 pre{padding: 0;}#sk-container-id-3 div.sk-toggleable {background-color: white;}#sk-container-id-3 label.sk-toggleable__label {cursor: pointer;display: block;width: 100%;margin-bottom: 0;padding: 0.3em;box-sizing: border-box;text-align: center;}#sk-container-id-3 label.sk-toggleable__label-arrow:before {content: \"▸\";float: left;margin-right: 0.25em;color: #696969;}#sk-container-id-3 label.sk-toggleable__label-arrow:hover:before {color: black;}#sk-container-id-3 div.sk-estimator:hover label.sk-toggleable__label-arrow:before {color: black;}#sk-container-id-3 div.sk-toggleable__content {max-height: 0;max-width: 0;overflow: hidden;text-align: left;background-color: #f0f8ff;}#sk-container-id-3 div.sk-toggleable__content pre {margin: 0.2em;color: black;border-radius: 0.25em;background-color: #f0f8ff;}#sk-container-id-3 input.sk-toggleable__control:checked~div.sk-toggleable__content {max-height: 200px;max-width: 100%;overflow: auto;}#sk-container-id-3 input.sk-toggleable__control:checked~label.sk-toggleable__label-arrow:before {content: \"▾\";}#sk-container-id-3 div.sk-estimator input.sk-toggleable__control:checked~label.sk-toggleable__label {background-color: #d4ebff;}#sk-container-id-3 div.sk-label input.sk-toggleable__control:checked~label.sk-toggleable__label {background-color: #d4ebff;}#sk-container-id-3 input.sk-hidden--visually {border: 0;clip: rect(1px 1px 1px 1px);clip: rect(1px, 1px, 1px, 1px);height: 1px;margin: -1px;overflow: hidden;padding: 0;position: absolute;width: 1px;}#sk-container-id-3 div.sk-estimator {font-family: monospace;background-color: #f0f8ff;border: 1px dotted black;border-radius: 0.25em;box-sizing: border-box;margin-bottom: 0.5em;}#sk-container-id-3 div.sk-estimator:hover {background-color: #d4ebff;}#sk-container-id-3 div.sk-parallel-item::after {content: \"\";width: 100%;border-bottom: 1px solid gray;flex-grow: 1;}#sk-container-id-3 div.sk-label:hover label.sk-toggleable__label {background-color: #d4ebff;}#sk-container-id-3 div.sk-serial::before {content: \"\";position: absolute;border-left: 1px solid gray;box-sizing: border-box;top: 0;bottom: 0;left: 50%;z-index: 0;}#sk-container-id-3 div.sk-serial {display: flex;flex-direction: column;align-items: center;background-color: white;padding-right: 0.2em;padding-left: 0.2em;position: relative;}#sk-container-id-3 div.sk-item {position: relative;z-index: 1;}#sk-container-id-3 div.sk-parallel {display: flex;align-items: stretch;justify-content: center;background-color: white;position: relative;}#sk-container-id-3 div.sk-item::before, #sk-container-id-3 div.sk-parallel-item::before {content: \"\";position: absolute;border-left: 1px solid gray;box-sizing: border-box;top: 0;bottom: 0;left: 50%;z-index: -1;}#sk-container-id-3 div.sk-parallel-item {display: flex;flex-direction: column;z-index: 1;position: relative;background-color: white;}#sk-container-id-3 div.sk-parallel-item:first-child::after {align-self: flex-end;width: 50%;}#sk-container-id-3 div.sk-parallel-item:last-child::after {align-self: flex-start;width: 50%;}#sk-container-id-3 div.sk-parallel-item:only-child::after {width: 0;}#sk-container-id-3 div.sk-dashed-wrapped {border: 1px dashed gray;margin: 0 0.4em 0.5em 0.4em;box-sizing: border-box;padding-bottom: 0.4em;background-color: white;}#sk-container-id-3 div.sk-label label {font-family: monospace;font-weight: bold;display: inline-block;line-height: 1.2em;}#sk-container-id-3 div.sk-label-container {text-align: center;}#sk-container-id-3 div.sk-container {/* jupyter's `normalize.less` sets `[hidden] { display: none; }` but bootstrap.min.css set `[hidden] { display: none !important; }` so we also need the `!important` here to be able to override the default hidden behavior on the sphinx rendered scikit-learn.org. See: https://github.com/scikit-learn/scikit-learn/issues/21755 */display: inline-block !important;position: relative;}#sk-container-id-3 div.sk-text-repr-fallback {display: none;}</style><div id=\"sk-container-id-3\" class=\"sk-top-container\"><div class=\"sk-text-repr-fallback\"><pre>Trainer(att=&#x27;lr_init&#x27;, epochs=101, estimator_type=&#x27;CNN&#x27;, fc_size=10,\n",
       "        input_dim=10, kernel_size=3, key=&#x27;estimator_type&#x27;,\n",
       "        kwargs={&#x27;L1_reg&#x27;: &lt;kmodels.utils.L1_regularization object at 0x000001D587A0F820&gt;,\n",
       "                &#x27;L2_reg&#x27;: &lt;kmodels.utils.L2_regularization object at 0x000001D587A0F640&gt;,\n",
       "                &#x27;att&#x27;: &#x27;lr_init&#x27;, &#x27;batch_size&#x27;: 100, &#x27;beta&#x27;: 1.0,\n",
       "                &#x27;binary_dim&#x27;: 0, &#x27;binary_dim_y&#x27;: 0,\n",
       "                &#x27;config&#x27;: {&#x27;att&#x27;...\n",
       "                &#x27;losses&#x27;: [], &#x27;lr_gamma&#x27;: 0.1, &#x27;lr_init&#x27;: 0.01,\n",
       "                &#x27;metric&#x27;: &lt;function r2_score at 0x000001D586253C70&gt;,\n",
       "                &#x27;n_inputs&#x27;: 10, &#x27;n_outputs&#x27;: 1,\n",
       "                &#x27;optimizer&#x27;: Adam (\n",
       "Parameter Group 0\n",
       "    amsgrad: False\n",
       "    betas: (0.9, 0.999)\n",
       "    capturable: False\n",
       "    differentiable: False\n",
       "    eps: 1e-08\n",
       "    foreach: None\n",
       "    fused: False\n",
       "    lr: 0.001\n",
       "    maximize: False\n",
       "    weight_decay: 0\n",
       "), ...},\n",
       "        lr_init=0.01, output_dim=1, train_observations=1000, value=0.001)</pre><b>In a Jupyter environment, please rerun this cell to show the HTML representation or trust the notebook. <br />On GitHub, the HTML representation is unable to render, please try loading this page with nbviewer.org.</b></div><div class=\"sk-container\" hidden><div class=\"sk-item\"><div class=\"sk-estimator sk-toggleable\"><input class=\"sk-toggleable__control sk-hidden--visually\" id=\"sk-estimator-id-7\" type=\"checkbox\" checked><label for=\"sk-estimator-id-7\" class=\"sk-toggleable__label sk-toggleable__label-arrow\">Trainer</label><div class=\"sk-toggleable__content\"><pre>Trainer(att=&#x27;lr_init&#x27;, epochs=101, estimator_type=&#x27;CNN&#x27;, fc_size=10,\n",
       "        input_dim=10, kernel_size=3, key=&#x27;estimator_type&#x27;,\n",
       "        kwargs={&#x27;L1_reg&#x27;: &lt;kmodels.utils.L1_regularization object at 0x000001D587A0F820&gt;,\n",
       "                &#x27;L2_reg&#x27;: &lt;kmodels.utils.L2_regularization object at 0x000001D587A0F640&gt;,\n",
       "                &#x27;att&#x27;: &#x27;lr_init&#x27;, &#x27;batch_size&#x27;: 100, &#x27;beta&#x27;: 1.0,\n",
       "                &#x27;binary_dim&#x27;: 0, &#x27;binary_dim_y&#x27;: 0,\n",
       "                &#x27;config&#x27;: {&#x27;att&#x27;...\n",
       "                &#x27;losses&#x27;: [], &#x27;lr_gamma&#x27;: 0.1, &#x27;lr_init&#x27;: 0.01,\n",
       "                &#x27;metric&#x27;: &lt;function r2_score at 0x000001D586253C70&gt;,\n",
       "                &#x27;n_inputs&#x27;: 10, &#x27;n_outputs&#x27;: 1,\n",
       "                &#x27;optimizer&#x27;: Adam (\n",
       "Parameter Group 0\n",
       "    amsgrad: False\n",
       "    betas: (0.9, 0.999)\n",
       "    capturable: False\n",
       "    differentiable: False\n",
       "    eps: 1e-08\n",
       "    foreach: None\n",
       "    fused: False\n",
       "    lr: 0.001\n",
       "    maximize: False\n",
       "    weight_decay: 0\n",
       "), ...},\n",
       "        lr_init=0.01, output_dim=1, train_observations=1000, value=0.001)</pre></div></div></div></div></div>"
      ],
      "text/plain": [
       "Trainer(att='lr_init', epochs=101, estimator_type='CNN', fc_size=10,\n",
       "        input_dim=10, kernel_size=3, key='estimator_type',\n",
       "        kwargs={'L1_reg': <kmodels.utils.L1_regularization object at 0x000001D587A0F820>,\n",
       "                'L2_reg': <kmodels.utils.L2_regularization object at 0x000001D587A0F640>,\n",
       "                'att': 'lr_init', 'batch_size': 100, 'beta': 1.0,\n",
       "                'binary_dim': 0, 'binary_dim_y': 0,\n",
       "                'config': {'att'...\n",
       "                'losses': [], 'lr_gamma': 0.1, 'lr_init': 0.01,\n",
       "                'metric': <function r2_score at 0x000001D586253C70>,\n",
       "                'n_inputs': 10, 'n_outputs': 1,\n",
       "                'optimizer': Adam (\n",
       "Parameter Group 0\n",
       "    amsgrad: False\n",
       "    betas: (0.9, 0.999)\n",
       "    capturable: False\n",
       "    differentiable: False\n",
       "    eps: 1e-08\n",
       "    foreach: None\n",
       "    fused: False\n",
       "    lr: 0.001\n",
       "    maximize: False\n",
       "    weight_decay: 0\n",
       "), ...},\n",
       "        lr_init=0.01, output_dim=1, train_observations=1000, value=0.001)"
      ]
     },
     "execution_count": 8,
     "metadata": {},
     "output_type": "execute_result"
    }
   ],
   "source": [
    "reg = grid_.best_estimator_\n",
    "print(x.shape, y.shape)\n",
    "reg.fit(x,y.reshape(-1,1))"
   ]
  },
  {
   "cell_type": "code",
   "execution_count": 9,
   "metadata": {},
   "outputs": [
    {
     "data": {
      "text/plain": [
       "(-21.81572938430192,\n",
       " [CNN(\n",
       "    (c1): Conv1d(1, 3, kernel_size=(2,), stride=(1,))\n",
       "    (c2): Conv1d(3, 10, kernel_size=(2,), stride=(1,))\n",
       "    (p1): AvgPool1d(kernel_size=(2,), stride=(2,), padding=(0,))\n",
       "    (fc1): Linear(in_features=10, out_features=10, bias=True)\n",
       "    (fcs): ModuleList(\n",
       "      (0): Linear(in_features=10, out_features=10, bias=True)\n",
       "      (1): Linear(in_features=10, out_features=10, bias=True)\n",
       "    )\n",
       "    (fout): Linear(in_features=10, out_features=1, bias=True)\n",
       "  ),\n",
       "  Conv1d(1, 3, kernel_size=(2,), stride=(1,)),\n",
       "  Conv1d(3, 10, kernel_size=(2,), stride=(1,)),\n",
       "  AvgPool1d(kernel_size=(2,), stride=(2,), padding=(0,)),\n",
       "  Linear(in_features=10, out_features=10, bias=True),\n",
       "  ModuleList(\n",
       "    (0): Linear(in_features=10, out_features=10, bias=True)\n",
       "    (1): Linear(in_features=10, out_features=10, bias=True)\n",
       "  ),\n",
       "  Linear(in_features=10, out_features=10, bias=True),\n",
       "  Linear(in_features=10, out_features=10, bias=True),\n",
       "  Linear(in_features=10, out_features=1, bias=True)])"
      ]
     },
     "execution_count": 9,
     "metadata": {},
     "output_type": "execute_result"
    }
   ],
   "source": [
    "reg.score(x,y.reshape(-1,1)), [i for i in reg.estimator.modules()]"
   ]
  },
  {
   "cell_type": "code",
   "execution_count": 10,
   "metadata": {},
   "outputs": [
    {
     "data": {
      "application/vnd.plotly.v1+json": {
       "config": {
        "plotlyServerURL": "https://plot.ly"
       },
       "data": [
        {
         "hovertemplate": "param_lr_init=%{x}<br>param_fc_layers=%{y}<br>mean_test_score=%{marker.color}<extra></extra>",
         "legendgroup": "",
         "marker": {
          "color": [
           -23.367819219113073,
           -20.561489642202353,
           -21.00967945563422,
           -20.72946683862838,
           -21.26085396629281,
           -19.502636831217487,
           -20.457020983260698,
           -19.02495495682195,
           -22.515897471067746
          ],
          "coloraxis": "coloraxis",
          "symbol": "circle"
         },
         "mode": "markers",
         "name": "",
         "scene": "scene",
         "showlegend": false,
         "type": "scatter3d",
         "x": [
          0.1,
          0.01,
          0.001,
          0.1,
          0.01,
          0.001,
          0.1,
          0.01,
          0.001
         ],
         "y": [
          1,
          1,
          1,
          3,
          3,
          3,
          5,
          5,
          5
         ],
         "z": [
          -23.367819219113073,
          -20.561489642202353,
          -21.00967945563422,
          -20.72946683862838,
          -21.26085396629281,
          -19.502636831217487,
          -20.457020983260698,
          -19.02495495682195,
          -22.515897471067746
         ]
        }
       ],
       "layout": {
        "coloraxis": {
         "colorbar": {
          "title": {
           "text": "mean_test_score"
          }
         },
         "colorscale": [
          [
           0,
           "#0d0887"
          ],
          [
           0.1111111111111111,
           "#46039f"
          ],
          [
           0.2222222222222222,
           "#7201a8"
          ],
          [
           0.3333333333333333,
           "#9c179e"
          ],
          [
           0.4444444444444444,
           "#bd3786"
          ],
          [
           0.5555555555555556,
           "#d8576b"
          ],
          [
           0.6666666666666666,
           "#ed7953"
          ],
          [
           0.7777777777777778,
           "#fb9f3a"
          ],
          [
           0.8888888888888888,
           "#fdca26"
          ],
          [
           1,
           "#f0f921"
          ]
         ]
        },
        "legend": {
         "tracegroupgap": 0
        },
        "margin": {
         "t": 60
        },
        "scene": {
         "domain": {
          "x": [
           0,
           1
          ],
          "y": [
           0,
           1
          ]
         },
         "xaxis": {
          "title": {
           "text": "param_lr_init"
          }
         },
         "yaxis": {
          "title": {
           "text": "param_fc_layers"
          }
         },
         "zaxis": {
          "title": {
           "text": "mean_test_score"
          }
         }
        },
        "template": {
         "data": {
          "bar": [
           {
            "error_x": {
             "color": "#2a3f5f"
            },
            "error_y": {
             "color": "#2a3f5f"
            },
            "marker": {
             "line": {
              "color": "#E5ECF6",
              "width": 0.5
             },
             "pattern": {
              "fillmode": "overlay",
              "size": 10,
              "solidity": 0.2
             }
            },
            "type": "bar"
           }
          ],
          "barpolar": [
           {
            "marker": {
             "line": {
              "color": "#E5ECF6",
              "width": 0.5
             },
             "pattern": {
              "fillmode": "overlay",
              "size": 10,
              "solidity": 0.2
             }
            },
            "type": "barpolar"
           }
          ],
          "carpet": [
           {
            "aaxis": {
             "endlinecolor": "#2a3f5f",
             "gridcolor": "white",
             "linecolor": "white",
             "minorgridcolor": "white",
             "startlinecolor": "#2a3f5f"
            },
            "baxis": {
             "endlinecolor": "#2a3f5f",
             "gridcolor": "white",
             "linecolor": "white",
             "minorgridcolor": "white",
             "startlinecolor": "#2a3f5f"
            },
            "type": "carpet"
           }
          ],
          "choropleth": [
           {
            "colorbar": {
             "outlinewidth": 0,
             "ticks": ""
            },
            "type": "choropleth"
           }
          ],
          "contour": [
           {
            "colorbar": {
             "outlinewidth": 0,
             "ticks": ""
            },
            "colorscale": [
             [
              0,
              "#0d0887"
             ],
             [
              0.1111111111111111,
              "#46039f"
             ],
             [
              0.2222222222222222,
              "#7201a8"
             ],
             [
              0.3333333333333333,
              "#9c179e"
             ],
             [
              0.4444444444444444,
              "#bd3786"
             ],
             [
              0.5555555555555556,
              "#d8576b"
             ],
             [
              0.6666666666666666,
              "#ed7953"
             ],
             [
              0.7777777777777778,
              "#fb9f3a"
             ],
             [
              0.8888888888888888,
              "#fdca26"
             ],
             [
              1,
              "#f0f921"
             ]
            ],
            "type": "contour"
           }
          ],
          "contourcarpet": [
           {
            "colorbar": {
             "outlinewidth": 0,
             "ticks": ""
            },
            "type": "contourcarpet"
           }
          ],
          "heatmap": [
           {
            "colorbar": {
             "outlinewidth": 0,
             "ticks": ""
            },
            "colorscale": [
             [
              0,
              "#0d0887"
             ],
             [
              0.1111111111111111,
              "#46039f"
             ],
             [
              0.2222222222222222,
              "#7201a8"
             ],
             [
              0.3333333333333333,
              "#9c179e"
             ],
             [
              0.4444444444444444,
              "#bd3786"
             ],
             [
              0.5555555555555556,
              "#d8576b"
             ],
             [
              0.6666666666666666,
              "#ed7953"
             ],
             [
              0.7777777777777778,
              "#fb9f3a"
             ],
             [
              0.8888888888888888,
              "#fdca26"
             ],
             [
              1,
              "#f0f921"
             ]
            ],
            "type": "heatmap"
           }
          ],
          "heatmapgl": [
           {
            "colorbar": {
             "outlinewidth": 0,
             "ticks": ""
            },
            "colorscale": [
             [
              0,
              "#0d0887"
             ],
             [
              0.1111111111111111,
              "#46039f"
             ],
             [
              0.2222222222222222,
              "#7201a8"
             ],
             [
              0.3333333333333333,
              "#9c179e"
             ],
             [
              0.4444444444444444,
              "#bd3786"
             ],
             [
              0.5555555555555556,
              "#d8576b"
             ],
             [
              0.6666666666666666,
              "#ed7953"
             ],
             [
              0.7777777777777778,
              "#fb9f3a"
             ],
             [
              0.8888888888888888,
              "#fdca26"
             ],
             [
              1,
              "#f0f921"
             ]
            ],
            "type": "heatmapgl"
           }
          ],
          "histogram": [
           {
            "marker": {
             "pattern": {
              "fillmode": "overlay",
              "size": 10,
              "solidity": 0.2
             }
            },
            "type": "histogram"
           }
          ],
          "histogram2d": [
           {
            "colorbar": {
             "outlinewidth": 0,
             "ticks": ""
            },
            "colorscale": [
             [
              0,
              "#0d0887"
             ],
             [
              0.1111111111111111,
              "#46039f"
             ],
             [
              0.2222222222222222,
              "#7201a8"
             ],
             [
              0.3333333333333333,
              "#9c179e"
             ],
             [
              0.4444444444444444,
              "#bd3786"
             ],
             [
              0.5555555555555556,
              "#d8576b"
             ],
             [
              0.6666666666666666,
              "#ed7953"
             ],
             [
              0.7777777777777778,
              "#fb9f3a"
             ],
             [
              0.8888888888888888,
              "#fdca26"
             ],
             [
              1,
              "#f0f921"
             ]
            ],
            "type": "histogram2d"
           }
          ],
          "histogram2dcontour": [
           {
            "colorbar": {
             "outlinewidth": 0,
             "ticks": ""
            },
            "colorscale": [
             [
              0,
              "#0d0887"
             ],
             [
              0.1111111111111111,
              "#46039f"
             ],
             [
              0.2222222222222222,
              "#7201a8"
             ],
             [
              0.3333333333333333,
              "#9c179e"
             ],
             [
              0.4444444444444444,
              "#bd3786"
             ],
             [
              0.5555555555555556,
              "#d8576b"
             ],
             [
              0.6666666666666666,
              "#ed7953"
             ],
             [
              0.7777777777777778,
              "#fb9f3a"
             ],
             [
              0.8888888888888888,
              "#fdca26"
             ],
             [
              1,
              "#f0f921"
             ]
            ],
            "type": "histogram2dcontour"
           }
          ],
          "mesh3d": [
           {
            "colorbar": {
             "outlinewidth": 0,
             "ticks": ""
            },
            "type": "mesh3d"
           }
          ],
          "parcoords": [
           {
            "line": {
             "colorbar": {
              "outlinewidth": 0,
              "ticks": ""
             }
            },
            "type": "parcoords"
           }
          ],
          "pie": [
           {
            "automargin": true,
            "type": "pie"
           }
          ],
          "scatter": [
           {
            "fillpattern": {
             "fillmode": "overlay",
             "size": 10,
             "solidity": 0.2
            },
            "type": "scatter"
           }
          ],
          "scatter3d": [
           {
            "line": {
             "colorbar": {
              "outlinewidth": 0,
              "ticks": ""
             }
            },
            "marker": {
             "colorbar": {
              "outlinewidth": 0,
              "ticks": ""
             }
            },
            "type": "scatter3d"
           }
          ],
          "scattercarpet": [
           {
            "marker": {
             "colorbar": {
              "outlinewidth": 0,
              "ticks": ""
             }
            },
            "type": "scattercarpet"
           }
          ],
          "scattergeo": [
           {
            "marker": {
             "colorbar": {
              "outlinewidth": 0,
              "ticks": ""
             }
            },
            "type": "scattergeo"
           }
          ],
          "scattergl": [
           {
            "marker": {
             "colorbar": {
              "outlinewidth": 0,
              "ticks": ""
             }
            },
            "type": "scattergl"
           }
          ],
          "scattermapbox": [
           {
            "marker": {
             "colorbar": {
              "outlinewidth": 0,
              "ticks": ""
             }
            },
            "type": "scattermapbox"
           }
          ],
          "scatterpolar": [
           {
            "marker": {
             "colorbar": {
              "outlinewidth": 0,
              "ticks": ""
             }
            },
            "type": "scatterpolar"
           }
          ],
          "scatterpolargl": [
           {
            "marker": {
             "colorbar": {
              "outlinewidth": 0,
              "ticks": ""
             }
            },
            "type": "scatterpolargl"
           }
          ],
          "scatterternary": [
           {
            "marker": {
             "colorbar": {
              "outlinewidth": 0,
              "ticks": ""
             }
            },
            "type": "scatterternary"
           }
          ],
          "surface": [
           {
            "colorbar": {
             "outlinewidth": 0,
             "ticks": ""
            },
            "colorscale": [
             [
              0,
              "#0d0887"
             ],
             [
              0.1111111111111111,
              "#46039f"
             ],
             [
              0.2222222222222222,
              "#7201a8"
             ],
             [
              0.3333333333333333,
              "#9c179e"
             ],
             [
              0.4444444444444444,
              "#bd3786"
             ],
             [
              0.5555555555555556,
              "#d8576b"
             ],
             [
              0.6666666666666666,
              "#ed7953"
             ],
             [
              0.7777777777777778,
              "#fb9f3a"
             ],
             [
              0.8888888888888888,
              "#fdca26"
             ],
             [
              1,
              "#f0f921"
             ]
            ],
            "type": "surface"
           }
          ],
          "table": [
           {
            "cells": {
             "fill": {
              "color": "#EBF0F8"
             },
             "line": {
              "color": "white"
             }
            },
            "header": {
             "fill": {
              "color": "#C8D4E3"
             },
             "line": {
              "color": "white"
             }
            },
            "type": "table"
           }
          ]
         },
         "layout": {
          "annotationdefaults": {
           "arrowcolor": "#2a3f5f",
           "arrowhead": 0,
           "arrowwidth": 1
          },
          "autotypenumbers": "strict",
          "coloraxis": {
           "colorbar": {
            "outlinewidth": 0,
            "ticks": ""
           }
          },
          "colorscale": {
           "diverging": [
            [
             0,
             "#8e0152"
            ],
            [
             0.1,
             "#c51b7d"
            ],
            [
             0.2,
             "#de77ae"
            ],
            [
             0.3,
             "#f1b6da"
            ],
            [
             0.4,
             "#fde0ef"
            ],
            [
             0.5,
             "#f7f7f7"
            ],
            [
             0.6,
             "#e6f5d0"
            ],
            [
             0.7,
             "#b8e186"
            ],
            [
             0.8,
             "#7fbc41"
            ],
            [
             0.9,
             "#4d9221"
            ],
            [
             1,
             "#276419"
            ]
           ],
           "sequential": [
            [
             0,
             "#0d0887"
            ],
            [
             0.1111111111111111,
             "#46039f"
            ],
            [
             0.2222222222222222,
             "#7201a8"
            ],
            [
             0.3333333333333333,
             "#9c179e"
            ],
            [
             0.4444444444444444,
             "#bd3786"
            ],
            [
             0.5555555555555556,
             "#d8576b"
            ],
            [
             0.6666666666666666,
             "#ed7953"
            ],
            [
             0.7777777777777778,
             "#fb9f3a"
            ],
            [
             0.8888888888888888,
             "#fdca26"
            ],
            [
             1,
             "#f0f921"
            ]
           ],
           "sequentialminus": [
            [
             0,
             "#0d0887"
            ],
            [
             0.1111111111111111,
             "#46039f"
            ],
            [
             0.2222222222222222,
             "#7201a8"
            ],
            [
             0.3333333333333333,
             "#9c179e"
            ],
            [
             0.4444444444444444,
             "#bd3786"
            ],
            [
             0.5555555555555556,
             "#d8576b"
            ],
            [
             0.6666666666666666,
             "#ed7953"
            ],
            [
             0.7777777777777778,
             "#fb9f3a"
            ],
            [
             0.8888888888888888,
             "#fdca26"
            ],
            [
             1,
             "#f0f921"
            ]
           ]
          },
          "colorway": [
           "#636efa",
           "#EF553B",
           "#00cc96",
           "#ab63fa",
           "#FFA15A",
           "#19d3f3",
           "#FF6692",
           "#B6E880",
           "#FF97FF",
           "#FECB52"
          ],
          "font": {
           "color": "#2a3f5f"
          },
          "geo": {
           "bgcolor": "white",
           "lakecolor": "white",
           "landcolor": "#E5ECF6",
           "showlakes": true,
           "showland": true,
           "subunitcolor": "white"
          },
          "hoverlabel": {
           "align": "left"
          },
          "hovermode": "closest",
          "mapbox": {
           "style": "light"
          },
          "paper_bgcolor": "white",
          "plot_bgcolor": "#E5ECF6",
          "polar": {
           "angularaxis": {
            "gridcolor": "white",
            "linecolor": "white",
            "ticks": ""
           },
           "bgcolor": "#E5ECF6",
           "radialaxis": {
            "gridcolor": "white",
            "linecolor": "white",
            "ticks": ""
           }
          },
          "scene": {
           "xaxis": {
            "backgroundcolor": "#E5ECF6",
            "gridcolor": "white",
            "gridwidth": 2,
            "linecolor": "white",
            "showbackground": true,
            "ticks": "",
            "zerolinecolor": "white"
           },
           "yaxis": {
            "backgroundcolor": "#E5ECF6",
            "gridcolor": "white",
            "gridwidth": 2,
            "linecolor": "white",
            "showbackground": true,
            "ticks": "",
            "zerolinecolor": "white"
           },
           "zaxis": {
            "backgroundcolor": "#E5ECF6",
            "gridcolor": "white",
            "gridwidth": 2,
            "linecolor": "white",
            "showbackground": true,
            "ticks": "",
            "zerolinecolor": "white"
           }
          },
          "shapedefaults": {
           "line": {
            "color": "#2a3f5f"
           }
          },
          "ternary": {
           "aaxis": {
            "gridcolor": "white",
            "linecolor": "white",
            "ticks": ""
           },
           "baxis": {
            "gridcolor": "white",
            "linecolor": "white",
            "ticks": ""
           },
           "bgcolor": "#E5ECF6",
           "caxis": {
            "gridcolor": "white",
            "linecolor": "white",
            "ticks": ""
           }
          },
          "title": {
           "x": 0.05
          },
          "xaxis": {
           "automargin": true,
           "gridcolor": "white",
           "linecolor": "white",
           "ticks": "",
           "title": {
            "standoff": 15
           },
           "zerolinecolor": "white",
           "zerolinewidth": 2
          },
          "yaxis": {
           "automargin": true,
           "gridcolor": "white",
           "linecolor": "white",
           "ticks": "",
           "title": {
            "standoff": 15
           },
           "zerolinecolor": "white",
           "zerolinewidth": 2
          }
         }
        }
       }
      }
     },
     "metadata": {},
     "output_type": "display_data"
    }
   ],
   "source": [
    "# plot the results of the grid search\n",
    "import pandas as pd\n",
    "df = pd.DataFrame(grid_.cv_results_)\n",
    "# make a contour plot where color is the score and x and y are the parameters (lr_init and fc_layers)\n",
    "fig = px.scatter_3d(df, x='param_lr_init', y='param_fc_layers', z='mean_test_score', color='mean_test_score')\n",
    "fig.show()"
   ]
  },
  {
   "cell_type": "code",
   "execution_count": 11,
   "metadata": {},
   "outputs": [
    {
     "name": "stdout",
     "output_type": "stream",
     "text": [
      "torch.Size([1000, 1]) torch.Size([1000, 1])\n"
     ]
    },
    {
     "data": {
      "text/plain": [
       "<matplotlib.collections.PathCollection at 0x1d59d3537f0>"
      ]
     },
     "execution_count": 11,
     "metadata": {},
     "output_type": "execute_result"
    },
    {
     "data": {
      "image/png": "[encoded data removed]",
      "text/plain": [
       "<Figure size 640x480 with 1 Axes>"
      ]
     },
     "metadata": {},
     "output_type": "display_data"
    }
   ],
   "source": [
    "#plt.plot(reg.losses)\n",
    "pred = reg.predict(x).reshape(-1, 1)\n",
    "print(pred.shape, y.shape)\n",
    "plt.scatter(y.reshape(-1, 1), pred)"
   ]
  },
  {
   "cell_type": "code",
   "execution_count": 12,
   "metadata": {},
   "outputs": [
    {
     "data": {
      "text/plain": [
       "[<matplotlib.lines.Line2D at 0x1d59d609720>]"
      ]
     },
     "execution_count": 12,
     "metadata": {},
     "output_type": "execute_result"
    },
    {
     "data": {
      "image/png": "[encoded data removed]",
      "text/plain": [
       "<Figure size 640x480 with 1 Axes>"
      ]
     },
     "metadata": {},
     "output_type": "display_data"
    }
   ],
   "source": [
    "# best_model = reg\n",
    "# #plt.plot(best_model.losses)\n",
    "# print(grid_.best_params_)\n",
    "# print(grid_.best_score_)\n",
    "best_model = reg\n",
    "pred = best_model.predict(x).reshape(-1,1)\n",
    "plt.plot(pred.detach().numpy(), y.detach().numpy().reshape(-1,1), 'o')"
   ]
  },
  {
   "cell_type": "code",
   "execution_count": 13,
   "metadata": {},
   "outputs": [
    {
     "ename": "AttributeError",
     "evalue": "module 'kmodels' has no attribute 'trainer'",
     "output_type": "error",
     "traceback": [
      "\u001b[1;31m---------------------------------------------------------------------------\u001b[0m",
      "\u001b[1;31mAttributeError\u001b[0m                            Traceback (most recent call last)",
      "Cell \u001b[1;32mIn[13], line 1\u001b[0m\n\u001b[1;32m----> 1\u001b[0m trainer \u001b[39m=\u001b[39m kmk\u001b[39m.\u001b[39;49mtrainer(\u001b[39m*\u001b[39m\u001b[39m*\u001b[39m{\u001b[39m'\u001b[39m\u001b[39mbinary_dim\u001b[39m\u001b[39m'\u001b[39m:\u001b[39m0\u001b[39m, \u001b[39m'\u001b[39m\u001b[39mbinary_dim_y\u001b[39m\u001b[39m'\u001b[39m:\u001b[39m0\u001b[39m, \u001b[39m'\u001b[39m\u001b[39mmodel_type\u001b[39m\u001b[39m'\u001b[39m:\u001b[39m'\u001b[39m\u001b[39mNN\u001b[39m\u001b[39m'\u001b[39m, \u001b[39m'\u001b[39m\u001b[39mepochs\u001b[39m\u001b[39m'\u001b[39m:\u001b[39m11\u001b[39m,\u001b[39m'\u001b[39m\u001b[39mlr_init\u001b[39m\u001b[39m'\u001b[39m:\u001b[39m1e-3\u001b[39m,\n\u001b[0;32m      2\u001b[0m                        \u001b[39m'\u001b[39m\u001b[39mbatch_size\u001b[39m\u001b[39m'\u001b[39m:\u001b[39m1000\u001b[39m,\u001b[39m'\u001b[39m\u001b[39mbeta\u001b[39m\u001b[39m'\u001b[39m:\u001b[39m0\u001b[39m, \u001b[39m'\u001b[39m\u001b[39mgamma\u001b[39m\u001b[39m'\u001b[39m:\u001b[39m0\u001b[39m, \u001b[39m'\u001b[39m\u001b[39mlayers\u001b[39m\u001b[39m'\u001b[39m:\u001b[39m5\u001b[39m, \u001b[39m'\u001b[39m\u001b[39mlayer_size\u001b[39m\u001b[39m'\u001b[39m:\u001b[39m100\u001b[39m})\n\u001b[0;32m      3\u001b[0m trainer\u001b[39m.\u001b[39mfit(x\u001b[39m.\u001b[39mreshape(\u001b[39m-\u001b[39m\u001b[39m1\u001b[39m, \u001b[39m1\u001b[39m), y\u001b[39m.\u001b[39mreshape(\u001b[39m-\u001b[39m\u001b[39m1\u001b[39m, \u001b[39m1\u001b[39m))\n",
      "\u001b[1;31mAttributeError\u001b[0m: module 'kmodels' has no attribute 'trainer'"
     ]
    }
   ],
   "source": [
    "trainer = kmk.trainer(**{'binary_dim':0, 'binary_dim_y':0, 'model_type':'NN', 'epochs':11,'lr_init':1e-3,\n",
    "                       'batch_size':1000,'beta':0, 'gamma':0, 'layers':5, 'layer_size':100})\n",
    "trainer.fit(x.reshape(-1, 1), y.reshape(-1, 1))"
   ]
  },
  {
   "cell_type": "code",
   "execution_count": null,
   "metadata": {},
   "outputs": [],
   "source": [
    "plt.plot(trainer.losses)"
   ]
  },
  {
   "cell_type": "code",
   "execution_count": null,
   "metadata": {},
   "outputs": [],
   "source": [
    "pred = trainer.predict(x.reshape(-1,1)).reshape(-1,1)\n",
    "plt.scatter(pred, y)"
   ]
  },
  {
   "cell_type": "code",
   "execution_count": null,
   "metadata": {},
   "outputs": [],
   "source": [
    "x"
   ]
  },
  {
   "cell_type": "code",
   "execution_count": null,
   "metadata": {},
   "outputs": [],
   "source": [
    "new_model = kmk.NN(n_inputs=x.shape[1], n_outputs=y.shape[1], layers=2, layer_size=50)\n",
    "reg = kmk.trainer({'n_inputs':x.shape[1], 'n_outputs':y.shape[1], 'layers':2, 'layer_size':50})\n",
    "params = reg.params\n",
    "reg.set_params(**params)"
   ]
  },
  {
   "cell_type": "code",
   "execution_count": 16,
   "metadata": {},
   "outputs": [],
   "source": [
    "from ray import tune\n",
    "import ray\n",
    "import os\n",
    "\n",
    "def train_model(config: dict):\n",
    "    trainer = kmk.Trainer({'binary_dim':0, 'binary_dim_y':0, 'model_type':'NN', 'epochs':11,'lr_init':1e-3,\n",
    "                           'batch_size':1000,'beta':0, 'gamma':0, 'layers':5, 'layer_size':100})\n",
    "    trainer.set_params(**config)\n",
    "    trainer.fit(x.reshape(-1, 1), y.reshape(-1, 1))\n",
    "    return trainer\n"
   ]
  },
  {
   "cell_type": "code",
   "execution_count": 17,
   "metadata": {},
   "outputs": [
    {
     "name": "stderr",
     "output_type": "stream",
     "text": [
      "2023-05-15 13:49:28,486\tINFO worker.py:1616 -- Started a local Ray instance. View the dashboard at \u001b[1m\u001b[32m127.0.0.1:8265 \u001b[39m\u001b[22m\n"
     ]
    },
    {
     "ename": "",
     "evalue": "",
     "output_type": "error",
     "traceback": [
      "\u001b[1;31mCanceled future for execute_request message before replies were done"
     ]
    },
    {
     "ename": "",
     "evalue": "",
     "output_type": "error",
     "traceback": [
      "\u001b[1;31mThe Kernel crashed while executing code in the the current cell or a previous cell. Please review the code in the cell(s) to identify a possible cause of the failure. Click <a href='https://aka.ms/vscodeJupyterKernelCrash'>here</a> for more info. View Jupyter <a href='command:jupyter.viewOutput'>log</a> for further details."
     ]
    }
   ],
   "source": [
    "from ray.train.torch import TorchTrainer\n",
    "from ray.air import ScalingConfig\n",
    "# get the logging\n",
    "ray.init(num_cpus=1, log_to_driver=False)\n",
    "# For GPU Training, set `use_gpu` to True.\n",
    "# trainer = Trainer(backend=\"torch\", num_workers=2, use_gpu=True)\n",
    "scaling_config = ScalingConfig(train_model, num_workers=1)\n",
    "config = {}\n",
    "trainer = TorchTrainer(train_loop_per_worker=train_model, train_loop_config=config)\n",
    "trainer.fit()"
   ]
  },
  {
   "cell_type": "code",
   "execution_count": null,
   "metadata": {},
   "outputs": [],
   "source": [
    "import ray\n",
    "\n",
    "# Connect to the Ray cluster.\n",
    "ray.init()\n",
    "\n",
    "# Define a remote function to check the status of a worker.\n",
    "@ray.remote\n",
    "def check_worker_status(worker_id):\n",
    "    # Add your logic here to check the worker's status.\n",
    "    # For example:\n",
    "    # return True if the worker is healthy, otherwise False.\n",
    "    return True\n",
    "\n",
    "# Get a list of all workers in the cluster.\n",
    "all_workers = ray.nodes()\n",
    "\n",
    "# Check the status of each worker in parallel.\n",
    "worker_statuses = ray.get([check_worker_status.remote(worker[\"NodeID\"]) for worker in all_workers])\n",
    "\n",
    "# Print the status of each worker.\n",
    "for worker, status in zip(all_workers, worker_statuses):\n",
    "    print(f\"Worker {worker['NodeID']} is {'healthy' if status else 'unhealthy'}.\")\n"
   ]
  },
  {
   "cell_type": "code",
   "execution_count": null,
   "metadata": {},
   "outputs": [],
   "source": [
    "trainer = train_model({'epochs':51})\n",
    "plt.plot(trainer.losses)\n"
   ]
  },
  {
   "cell_type": "code",
   "execution_count": null,
   "metadata": {},
   "outputs": [],
   "source": [
    "pred = trainer.predict(trainer.x).reshape(-1,1)\n",
    "plt.scatter(pred, trainer.y)"
   ]
  },
  {
   "cell_type": "code",
   "execution_count": null,
   "metadata": {},
   "outputs": [],
   "source": [
    "model = kmk.NN(n_inputs=x.shape[1], n_outputs=y.shape[1], layers=2, layer_size=50, change_layers=0)\n",
    "model"
   ]
  },
  {
   "cell_type": "code",
   "execution_count": null,
   "metadata": {},
   "outputs": [],
   "source": [
    "tlnn = kmk.TLNN(model, x, change_layers=1)\n",
    "tlnn"
   ]
  },
  {
   "cell_type": "code",
   "execution_count": null,
   "metadata": {},
   "outputs": [],
   "source": [
    "model.__init__(**model.params)"
   ]
  }
 ],
 "metadata": {
  "kernelspec": {
   "display_name": "venv",
   "language": "python",
   "name": "python3"
  },
  "language_info": {
   "codemirror_mode": {
    "name": "ipython",
    "version": 3
   },
   "file_extension": ".py",
   "mimetype": "text/x-python",
   "name": "python",
   "nbconvert_exporter": "python",
   "pygments_lexer": "ipython3",
   "version": "3.10.10"
  },
  "orig_nbformat": 4
 },
 "nbformat": 4,
 "nbformat_minor": 2
}
