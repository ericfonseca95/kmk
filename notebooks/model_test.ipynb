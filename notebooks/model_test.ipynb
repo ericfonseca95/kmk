{
 "cells": [
  {
   "cell_type": "code",
   "execution_count": 1,
   "metadata": {},
   "outputs": [],
   "source": [
    "import kmodels as kmk\n",
    "import torch \n",
    "import numpy as np\n",
    "import plotly.express as px\n",
    "from sklearn.preprocessing import StandardScaler, MinMaxScaler\n",
    "import matplotlib.pyplot as plt\n"
   ]
  },
  {
   "cell_type": "code",
   "execution_count": 2,
   "metadata": {},
   "outputs": [
    {
     "data": {
      "text/plain": [
       "((10000, 10),\n",
       " (10000,),\n",
       " array([[0.1194922 , 0.53838045, 0.1524641 , ..., 0.65380512, 0.14608518,\n",
       "         0.65134791],\n",
       "        [0.64006304, 0.32410967, 0.48230019, ..., 0.6967407 , 0.7420642 ,\n",
       "         0.33564953],\n",
       "        [0.68232645, 0.36530413, 0.55144371, ..., 0.12324705, 0.47250347,\n",
       "         0.16469272],\n",
       "        ...,\n",
       "        [0.76958349, 0.05722626, 0.23376806, ..., 0.74776321, 0.60394879,\n",
       "         0.94208693],\n",
       "        [0.37042494, 0.75787078, 0.72989883, ..., 0.4987222 , 0.72920548,\n",
       "         0.46995113],\n",
       "        [0.04888459, 0.84270939, 0.94685361, ..., 0.28583863, 0.12039865,\n",
       "         0.75574954]]),\n",
       " array([], shape=(10000, 0), dtype=int32))"
      ]
     },
     "execution_count": 2,
     "metadata": {},
     "output_type": "execute_result"
    }
   ],
   "source": [
    "n = 10000\n",
    "n_features = 10\n",
    "binary_dim = 0\n",
    "float_dim = n_features - binary_dim\n",
    "x_bin = np.random.randint(2, size=(n, binary_dim))\n",
    "x_float = np.random.rand(n, float_dim)\n",
    "x = np.concatenate((x_bin, x_float), axis=1)\n",
    "y = np.sin(x[:,0]) + np.cos(x[:,1])\n",
    "# # y will be piecewise linear function of x using binary dim as a switch\n",
    "# y = np.zeros(n)\n",
    "# for i in range(n):\n",
    "#     if x_bin[i] == 0:\n",
    "#         y[i] = np.sum(x_float[i])\n",
    "#     else:\n",
    "#         y[i] = np.sum(x_float[i]**2)\n",
    "x.shape, y.shape, x, x_bin"
   ]
  },
  {
   "cell_type": "code",
   "execution_count": 3,
   "metadata": {},
   "outputs": [
    {
     "name": "stdout",
     "output_type": "stream",
     "text": [
      "float scaler:  (10000, 10)\n"
     ]
    },
    {
     "data": {
      "text/plain": [
       "(10000, 10)"
      ]
     },
     "execution_count": 3,
     "metadata": {},
     "output_type": "execute_result"
    }
   ],
   "source": [
    "def scale_data(x, binary_dim=0):\n",
    "    if binary_dim>0:\n",
    "        bin_scaler = MinMaxScaler()\n",
    "        float_scaler = StandardScaler()\n",
    "        x_bin = bin_scaler.fit_transform(x[:, :binary_dim])\n",
    "        x_float = float_scaler.fit_transform(x[:, binary_dim:])\n",
    "        print('binary scaler: ', x_bin.shape)\n",
    "        print('float scaler: ', x_float.shape)\n",
    "        x = np.concatenate((x_bin, x_float), axis=1)\n",
    "    else:\n",
    "        bin_scaler = None\n",
    "        float_scaler = StandardScaler()\n",
    "        x = float_scaler.fit_transform(x)\n",
    "        print('float scaler: ', x.shape)\n",
    "    return x, bin_scaler, float_scaler\n",
    "\n",
    "x, bin_scaler, float_scaler = scale_data(x, binary_dim=binary_dim)\n",
    "x.shape"
   ]
  },
  {
   "cell_type": "code",
   "execution_count": 4,
   "metadata": {},
   "outputs": [],
   "source": [
    "from torch.utils.data import TensorDataset\n",
    "x = torch.tensor(x, dtype=torch.float32)\n",
    "y = torch.tensor(y, dtype=torch.float32).reshape(-1, 1)\n",
    "dataset = TensorDataset(x, y)"
   ]
  },
  {
   "cell_type": "code",
   "execution_count": 11,
   "metadata": {},
   "outputs": [],
   "source": [
    "from sklearn.model_selection import GridSearchCV\n",
    "param_dist = {'fc_layers':[3, 5], 'lr_init':[0.01, 0.001], 'kernel_size':[3, 5]}\n",
    "reg = kmk.Trainer(**{'conv_layers':1, 'estimator_type':'CNN', 'batch_size':1000, 'fc_size':10,\n",
    "                     'epochs':101, 'fc_size':10, 'verbose':10,'reg_factor':0})\n",
    "grid_ = GridSearchCV(reg, param_dist, cv=2, verbose=1, n_jobs=1)"
   ]
  },
  {
   "cell_type": "code",
   "execution_count": 12,
   "metadata": {},
   "outputs": [
    {
     "name": "stdout",
     "output_type": "stream",
     "text": [
      "Fitting 2 folds for each of 8 candidates, totalling 16 fits\n",
      "====> Epoch: 0 Average loss: 0.003573536 Time: 0.30\n",
      "Loss components:  {}\n",
      "====> Epoch: 10 Average loss: 0.000251950 Time: 0.07\n",
      "Loss components:  {}\n",
      "====> Epoch: 20 Average loss: 0.000179158 Time: 0.07\n",
      "Loss components:  {}\n",
      "====> Epoch: 30 Average loss: 0.000168426 Time: 0.07\n",
      "Loss components:  {}\n",
      "====> Epoch: 40 Average loss: 0.000164178 Time: 0.07\n",
      "Loss components:  {}\n",
      "====> Epoch: 50 Average loss: 0.000161885 Time: 0.26\n",
      "Loss components:  {}\n",
      "====> Epoch: 60 Average loss: 0.000160186 Time: 0.07\n",
      "Loss components:  {}\n",
      "====> Epoch: 70 Average loss: 0.000158509 Time: 0.07\n",
      "Loss components:  {}\n",
      "====> Epoch: 80 Average loss: 0.000156956 Time: 0.08\n",
      "Loss components:  {}\n",
      "====> Epoch: 90 Average loss: 0.000155436 Time: 0.07\n",
      "Loss components:  {}\n",
      "====> Epoch: 100 Average loss: 0.000153450 Time: 0.26\n",
      "Loss components:  {}\n",
      "====> Epoch: 0 Average loss: 0.009623623 Time: 0.07\n",
      "Loss components:  {}\n",
      "====> Epoch: 10 Average loss: 0.000373208 Time: 0.07\n",
      "Loss components:  {}\n",
      "====> Epoch: 20 Average loss: 0.000215563 Time: 0.07\n",
      "Loss components:  {}\n",
      "====> Epoch: 30 Average loss: 0.000201551 Time: 0.07\n",
      "Loss components:  {}\n",
      "====> Epoch: 40 Average loss: 0.000199227 Time: 0.07\n",
      "Loss components:  {}\n",
      "====> Epoch: 50 Average loss: 0.000197136 Time: 0.07\n",
      "Loss components:  {}\n",
      "====> Epoch: 60 Average loss: 0.000195335 Time: 0.07\n",
      "Loss components:  {}\n",
      "====> Epoch: 70 Average loss: 0.000193991 Time: 0.08\n",
      "Loss components:  {}\n",
      "====> Epoch: 80 Average loss: 0.000190414 Time: 0.07\n",
      "Loss components:  {}\n",
      "====> Epoch: 90 Average loss: 0.000187513 Time: 0.07\n",
      "Loss components:  {}\n",
      "====> Epoch: 100 Average loss: 0.000185208 Time: 0.07\n",
      "Loss components:  {}\n",
      "====> Epoch: 0 Average loss: 0.008197637 Time: 0.07\n",
      "Loss components:  {}\n",
      "====> Epoch: 10 Average loss: 0.006685539 Time: 0.08\n",
      "Loss components:  {}\n",
      "====> Epoch: 20 Average loss: 0.005918760 Time: 0.07\n",
      "Loss components:  {}\n",
      "====> Epoch: 30 Average loss: 0.003299623 Time: 0.07\n",
      "Loss components:  {}\n",
      "====> Epoch: 40 Average loss: 0.001223380 Time: 0.06\n",
      "Loss components:  {}\n",
      "====> Epoch: 50 Average loss: 0.000761648 Time: 0.09\n",
      "Loss components:  {}\n",
      "====> Epoch: 60 Average loss: 0.000379217 Time: 0.07\n",
      "Loss components:  {}\n",
      "====> Epoch: 70 Average loss: 0.000195288 Time: 0.08\n",
      "Loss components:  {}\n",
      "====> Epoch: 80 Average loss: 0.000147745 Time: 0.07\n",
      "Loss components:  {}\n",
      "====> Epoch: 90 Average loss: 0.000133883 Time: 0.08\n",
      "Loss components:  {}\n",
      "====> Epoch: 100 Average loss: 0.000128691 Time: 0.08\n",
      "Loss components:  {}\n",
      "====> Epoch: 0 Average loss: 0.006295088 Time: 0.07\n",
      "Loss components:  {}\n",
      "====> Epoch: 10 Average loss: 0.003105567 Time: 0.07\n",
      "Loss components:  {}\n",
      "====> Epoch: 20 Average loss: 0.000638169 Time: 0.07\n",
      "Loss components:  {}\n",
      "====> Epoch: 30 Average loss: 0.000419003 Time: 0.08\n",
      "Loss components:  {}\n",
      "====> Epoch: 40 Average loss: 0.000378553 Time: 0.08\n",
      "Loss components:  {}\n",
      "====> Epoch: 50 Average loss: 0.000349620 Time: 0.08\n",
      "Loss components:  {}\n",
      "====> Epoch: 60 Average loss: 0.000325774 Time: 0.08\n",
      "Loss components:  {}\n",
      "====> Epoch: 70 Average loss: 0.000306687 Time: 0.08\n",
      "Loss components:  {}\n",
      "====> Epoch: 80 Average loss: 0.000293036 Time: 0.07\n",
      "Loss components:  {}\n",
      "====> Epoch: 90 Average loss: 0.000284063 Time: 0.07\n",
      "Loss components:  {}\n",
      "====> Epoch: 100 Average loss: 0.000278534 Time: 0.07\n",
      "Loss components:  {}\n",
      "====> Epoch: 0 Average loss: 0.006132082 Time: 0.07\n",
      "Loss components:  {}\n",
      "====> Epoch: 10 Average loss: 0.000484016 Time: 0.08\n",
      "Loss components:  {}\n",
      "====> Epoch: 20 Average loss: 0.000209497 Time: 0.08\n",
      "Loss components:  {}\n",
      "====> Epoch: 30 Average loss: 0.000196536 Time: 0.08\n",
      "Loss components:  {}\n",
      "====> Epoch: 40 Average loss: 0.000195599 Time: 0.07\n",
      "Loss components:  {}\n",
      "====> Epoch: 50 Average loss: 0.000193097 Time: 0.07\n",
      "Loss components:  {}\n",
      "====> Epoch: 60 Average loss: 0.000191957 Time: 0.07\n",
      "Loss components:  {}\n",
      "====> Epoch: 70 Average loss: 0.000190864 Time: 0.07\n",
      "Loss components:  {}\n",
      "====> Epoch: 80 Average loss: 0.000190031 Time: 0.06\n",
      "Loss components:  {}\n",
      "====> Epoch: 90 Average loss: 0.000189015 Time: 0.07\n",
      "Loss components:  {}\n",
      "====> Epoch: 100 Average loss: 0.000187736 Time: 0.07\n",
      "Loss components:  {}\n",
      "====> Epoch: 0 Average loss: 0.007993691 Time: 0.07\n",
      "Loss components:  {}\n",
      "====> Epoch: 10 Average loss: 0.000305671 Time: 0.08\n",
      "Loss components:  {}\n",
      "====> Epoch: 20 Average loss: 0.000166951 Time: 0.29\n",
      "Loss components:  {}\n",
      "====> Epoch: 30 Average loss: 0.000156824 Time: 0.07\n",
      "Loss components:  {}\n",
      "====> Epoch: 40 Average loss: 0.000153357 Time: 0.07\n",
      "Loss components:  {}\n",
      "====> Epoch: 50 Average loss: 0.000151018 Time: 0.07\n",
      "Loss components:  {}\n",
      "====> Epoch: 60 Average loss: 0.000149032 Time: 0.07\n",
      "Loss components:  {}\n",
      "====> Epoch: 70 Average loss: 0.000145187 Time: 0.26\n",
      "Loss components:  {}\n",
      "====> Epoch: 80 Average loss: 0.000142822 Time: 0.07\n",
      "Loss components:  {}\n",
      "====> Epoch: 90 Average loss: 0.000141437 Time: 0.07\n",
      "Loss components:  {}\n",
      "====> Epoch: 100 Average loss: 0.000140624 Time: 0.07\n",
      "Loss components:  {}\n",
      "====> Epoch: 0 Average loss: 0.005259156 Time: 0.07\n",
      "Loss components:  {}\n",
      "====> Epoch: 10 Average loss: 0.002684960 Time: 0.07\n",
      "Loss components:  {}\n",
      "====> Epoch: 20 Average loss: 0.000857329 Time: 0.07\n",
      "Loss components:  {}\n",
      "====> Epoch: 30 Average loss: 0.000569590 Time: 0.07\n",
      "Loss components:  {}\n",
      "====> Epoch: 40 Average loss: 0.000374166 Time: 0.07\n",
      "Loss components:  {}\n",
      "====> Epoch: 50 Average loss: 0.000253041 Time: 0.07\n",
      "Loss components:  {}\n",
      "====> Epoch: 60 Average loss: 0.000194812 Time: 0.07\n",
      "Loss components:  {}\n",
      "====> Epoch: 70 Average loss: 0.000172839 Time: 0.07\n",
      "Loss components:  {}\n",
      "====> Epoch: 80 Average loss: 0.000162878 Time: 0.07\n",
      "Loss components:  {}\n",
      "====> Epoch: 90 Average loss: 0.000157277 Time: 0.07\n",
      "Loss components:  {}\n",
      "====> Epoch: 100 Average loss: 0.000153751 Time: 0.07\n",
      "Loss components:  {}\n",
      "====> Epoch: 0 Average loss: 0.010208251 Time: 0.07\n",
      "Loss components:  {}\n",
      "====> Epoch: 10 Average loss: 0.007989632 Time: 0.07\n",
      "Loss components:  {}\n",
      "====> Epoch: 20 Average loss: 0.005427704 Time: 0.07\n",
      "Loss components:  {}\n",
      "====> Epoch: 30 Average loss: 0.002030406 Time: 0.06\n",
      "Loss components:  {}\n",
      "====> Epoch: 40 Average loss: 0.001159359 Time: 0.07\n",
      "Loss components:  {}\n",
      "====> Epoch: 50 Average loss: 0.000889563 Time: 0.07\n",
      "Loss components:  {}\n",
      "====> Epoch: 60 Average loss: 0.000679816 Time: 0.07\n",
      "Loss components:  {}\n",
      "====> Epoch: 70 Average loss: 0.000475259 Time: 0.08\n",
      "Loss components:  {}\n",
      "====> Epoch: 80 Average loss: 0.000347343 Time: 0.07\n",
      "Loss components:  {}\n",
      "====> Epoch: 90 Average loss: 0.000269086 Time: 0.07\n",
      "Loss components:  {}\n",
      "====> Epoch: 100 Average loss: 0.000227914 Time: 0.07\n",
      "Loss components:  {}\n",
      "====> Epoch: 0 Average loss: 0.008368733 Time: 0.07\n",
      "Loss components:  {}\n",
      "====> Epoch: 10 Average loss: 0.000218248 Time: 0.07\n",
      "Loss components:  {}\n",
      "====> Epoch: 20 Average loss: 0.000151236 Time: 0.08\n",
      "Loss components:  {}\n",
      "====> Epoch: 30 Average loss: 0.000146626 Time: 0.07\n",
      "Loss components:  {}\n",
      "====> Epoch: 40 Average loss: 0.000144376 Time: 0.07\n",
      "Loss components:  {}\n",
      "====> Epoch: 50 Average loss: 0.000140140 Time: 0.12\n",
      "Loss components:  {}\n",
      "====> Epoch: 60 Average loss: 0.000127917 Time: 0.08\n",
      "Loss components:  {}\n",
      "====> Epoch: 70 Average loss: 0.000117512 Time: 0.07\n",
      "Loss components:  {}\n",
      "====> Epoch: 80 Average loss: 0.000115189 Time: 0.07\n",
      "Loss components:  {}\n",
      "====> Epoch: 90 Average loss: 0.000114326 Time: 0.07\n",
      "Loss components:  {}\n",
      "====> Epoch: 100 Average loss: 0.000113833 Time: 0.07\n",
      "Loss components:  {}\n",
      "====> Epoch: 0 Average loss: 0.012515618 Time: 0.08\n",
      "Loss components:  {}\n",
      "====> Epoch: 10 Average loss: 0.005477231 Time: 0.07\n",
      "Loss components:  {}\n",
      "====> Epoch: 20 Average loss: 0.002373292 Time: 0.07\n",
      "Loss components:  {}\n",
      "====> Epoch: 30 Average loss: 0.001033432 Time: 0.07\n",
      "Loss components:  {}\n",
      "====> Epoch: 40 Average loss: 0.000565756 Time: 0.08\n",
      "Loss components:  {}\n",
      "====> Epoch: 50 Average loss: 0.000436709 Time: 0.07\n",
      "Loss components:  {}\n",
      "====> Epoch: 60 Average loss: 0.000408618 Time: 0.08\n",
      "Loss components:  {}\n",
      "====> Epoch: 70 Average loss: 0.000403819 Time: 0.08\n",
      "Loss components:  {}\n",
      "====> Epoch: 80 Average loss: 0.000403183 Time: 0.08\n",
      "Loss components:  {}\n",
      "====> Epoch: 90 Average loss: 0.000403124 Time: 0.07\n",
      "Loss components:  {}\n",
      "====> Epoch: 100 Average loss: 0.000403119 Time: 0.07\n",
      "Loss components:  {}\n",
      "====> Epoch: 0 Average loss: 0.006003516 Time: 0.07\n",
      "Loss components:  {}\n",
      "====> Epoch: 10 Average loss: 0.003746242 Time: 0.07\n",
      "Loss components:  {}\n",
      "====> Epoch: 20 Average loss: 0.000649066 Time: 0.08\n",
      "Loss components:  {}\n",
      "====> Epoch: 30 Average loss: 0.000482047 Time: 0.07\n",
      "Loss components:  {}\n",
      "====> Epoch: 40 Average loss: 0.000379758 Time: 0.07\n",
      "Loss components:  {}\n",
      "====> Epoch: 50 Average loss: 0.000304250 Time: 0.07\n",
      "Loss components:  {}\n",
      "====> Epoch: 60 Average loss: 0.000243017 Time: 0.08\n",
      "Loss components:  {}\n",
      "====> Epoch: 70 Average loss: 0.000187634 Time: 0.07\n",
      "Loss components:  {}\n",
      "====> Epoch: 80 Average loss: 0.000165529 Time: 0.07\n",
      "Loss components:  {}\n",
      "====> Epoch: 90 Average loss: 0.000156855 Time: 0.07\n",
      "Loss components:  {}\n",
      "====> Epoch: 100 Average loss: 0.000152378 Time: 0.07\n",
      "Loss components:  {}\n",
      "====> Epoch: 0 Average loss: 0.005347910 Time: 0.08\n",
      "Loss components:  {}\n",
      "====> Epoch: 10 Average loss: 0.003414497 Time: 0.08\n",
      "Loss components:  {}\n",
      "====> Epoch: 20 Average loss: 0.000527214 Time: 0.08\n",
      "Loss components:  {}\n",
      "====> Epoch: 30 Average loss: 0.000415435 Time: 0.08\n",
      "Loss components:  {}\n",
      "====> Epoch: 40 Average loss: 0.000338474 Time: 0.08\n",
      "Loss components:  {}\n",
      "====> Epoch: 50 Average loss: 0.000292373 Time: 0.07\n",
      "Loss components:  {}\n",
      "====> Epoch: 60 Average loss: 0.000254488 Time: 0.29\n",
      "Loss components:  {}\n",
      "====> Epoch: 70 Average loss: 0.000223000 Time: 0.08\n",
      "Loss components:  {}\n",
      "====> Epoch: 80 Average loss: 0.000206714 Time: 0.08\n",
      "Loss components:  {}\n",
      "====> Epoch: 90 Average loss: 0.000201613 Time: 0.07\n",
      "Loss components:  {}\n",
      "====> Epoch: 100 Average loss: 0.000199219 Time: 0.08\n",
      "Loss components:  {}\n",
      "====> Epoch: 0 Average loss: 0.012759331 Time: 0.08\n",
      "Loss components:  {}\n",
      "====> Epoch: 10 Average loss: 0.000403647 Time: 0.07\n",
      "Loss components:  {}\n",
      "====> Epoch: 20 Average loss: 0.000221049 Time: 0.08\n",
      "Loss components:  {}\n",
      "====> Epoch: 30 Average loss: 0.000192124 Time: 0.07\n",
      "Loss components:  {}\n",
      "====> Epoch: 40 Average loss: 0.000190870 Time: 0.07\n",
      "Loss components:  {}\n",
      "====> Epoch: 50 Average loss: 0.000189657 Time: 0.07\n",
      "Loss components:  {}\n",
      "====> Epoch: 60 Average loss: 0.000184407 Time: 0.07\n",
      "Loss components:  {}\n",
      "====> Epoch: 70 Average loss: 0.000180853 Time: 0.08\n",
      "Loss components:  {}\n",
      "====> Epoch: 80 Average loss: 0.000179740 Time: 0.07\n",
      "Loss components:  {}\n",
      "====> Epoch: 90 Average loss: 0.000179260 Time: 0.07\n",
      "Loss components:  {}\n",
      "====> Epoch: 100 Average loss: 0.000179200 Time: 0.07\n",
      "Loss components:  {}\n",
      "====> Epoch: 0 Average loss: 0.010778476 Time: 0.08\n",
      "Loss components:  {}\n",
      "====> Epoch: 10 Average loss: 0.000322890 Time: 0.08\n",
      "Loss components:  {}\n",
      "====> Epoch: 20 Average loss: 0.000224717 Time: 0.07\n",
      "Loss components:  {}\n",
      "====> Epoch: 30 Average loss: 0.000178378 Time: 0.09\n",
      "Loss components:  {}\n",
      "====> Epoch: 40 Average loss: 0.000156206 Time: 0.07\n",
      "Loss components:  {}\n",
      "====> Epoch: 50 Average loss: 0.000145127 Time: 0.08\n",
      "Loss components:  {}\n",
      "====> Epoch: 60 Average loss: 0.000142179 Time: 0.08\n",
      "Loss components:  {}\n",
      "====> Epoch: 70 Average loss: 0.000140363 Time: 0.07\n",
      "Loss components:  {}\n",
      "====> Epoch: 80 Average loss: 0.000138362 Time: 0.08\n",
      "Loss components:  {}\n",
      "====> Epoch: 90 Average loss: 0.000136550 Time: 0.09\n",
      "Loss components:  {}\n",
      "====> Epoch: 100 Average loss: 0.000134789 Time: 0.08\n",
      "Loss components:  {}\n",
      "====> Epoch: 0 Average loss: 0.007058669 Time: 0.08\n",
      "Loss components:  {}\n",
      "====> Epoch: 10 Average loss: 0.005263701 Time: 0.08\n",
      "Loss components:  {}\n",
      "====> Epoch: 20 Average loss: 0.002357882 Time: 0.08\n",
      "Loss components:  {}\n",
      "====> Epoch: 30 Average loss: 0.000550105 Time: 0.08\n",
      "Loss components:  {}\n",
      "====> Epoch: 40 Average loss: 0.000470056 Time: 0.07\n",
      "Loss components:  {}\n",
      "====> Epoch: 50 Average loss: 0.000411497 Time: 0.08\n",
      "Loss components:  {}\n",
      "====> Epoch: 60 Average loss: 0.000361081 Time: 0.07\n",
      "Loss components:  {}\n",
      "====> Epoch: 70 Average loss: 0.000314900 Time: 0.09\n",
      "Loss components:  {}\n",
      "====> Epoch: 80 Average loss: 0.000281952 Time: 0.07\n",
      "Loss components:  {}\n",
      "====> Epoch: 90 Average loss: 0.000264795 Time: 0.08\n",
      "Loss components:  {}\n",
      "====> Epoch: 100 Average loss: 0.000257720 Time: 0.08\n",
      "Loss components:  {}\n",
      "====> Epoch: 0 Average loss: 0.006416266 Time: 0.08\n",
      "Loss components:  {}\n",
      "====> Epoch: 10 Average loss: 0.004625375 Time: 0.10\n",
      "Loss components:  {}\n",
      "====> Epoch: 20 Average loss: 0.003369832 Time: 0.08\n",
      "Loss components:  {}\n",
      "====> Epoch: 30 Average loss: 0.001062145 Time: 0.08\n",
      "Loss components:  {}\n",
      "====> Epoch: 40 Average loss: 0.000459788 Time: 0.08\n",
      "Loss components:  {}\n",
      "====> Epoch: 50 Average loss: 0.000372735 Time: 0.08\n",
      "Loss components:  {}\n",
      "====> Epoch: 60 Average loss: 0.000277240 Time: 0.07\n",
      "Loss components:  {}\n",
      "====> Epoch: 70 Average loss: 0.000206535 Time: 0.08\n",
      "Loss components:  {}\n",
      "====> Epoch: 80 Average loss: 0.000187503 Time: 0.07\n",
      "Loss components:  {}\n",
      "====> Epoch: 90 Average loss: 0.000183927 Time: 0.08\n",
      "Loss components:  {}\n",
      "====> Epoch: 100 Average loss: 0.000180880 Time: 0.08\n",
      "Loss components:  {}\n",
      "====> Epoch: 0 Average loss: 0.010402581 Time: 0.35\n",
      "Loss components:  {}\n",
      "====> Epoch: 10 Average loss: 0.000333582 Time: 0.15\n",
      "Loss components:  {}\n",
      "====> Epoch: 20 Average loss: 0.000289741 Time: 0.16\n",
      "Loss components:  {}\n",
      "====> Epoch: 30 Average loss: 0.000256168 Time: 0.15\n",
      "Loss components:  {}\n",
      "====> Epoch: 40 Average loss: 0.000246252 Time: 0.16\n",
      "Loss components:  {}\n",
      "====> Epoch: 50 Average loss: 0.000238473 Time: 0.39\n",
      "Loss components:  {}\n",
      "====> Epoch: 60 Average loss: 0.000230751 Time: 0.16\n",
      "Loss components:  {}\n",
      "====> Epoch: 70 Average loss: 0.000227215 Time: 0.16\n",
      "Loss components:  {}\n",
      "====> Epoch: 80 Average loss: 0.000218652 Time: 0.16\n",
      "Loss components:  {}\n",
      "====> Epoch: 90 Average loss: 0.000215584 Time: 0.16\n",
      "Loss components:  {}\n",
      "====> Epoch: 100 Average loss: 0.000210951 Time: 0.34\n",
      "Loss components:  {}\n"
     ]
    },
    {
     "data": {
      "text/html": [
       "<style>#sk-container-id-1 {color: black;background-color: white;}#sk-container-id-1 pre{padding: 0;}#sk-container-id-1 div.sk-toggleable {background-color: white;}#sk-container-id-1 label.sk-toggleable__label {cursor: pointer;display: block;width: 100%;margin-bottom: 0;padding: 0.3em;box-sizing: border-box;text-align: center;}#sk-container-id-1 label.sk-toggleable__label-arrow:before {content: \"▸\";float: left;margin-right: 0.25em;color: #696969;}#sk-container-id-1 label.sk-toggleable__label-arrow:hover:before {color: black;}#sk-container-id-1 div.sk-estimator:hover label.sk-toggleable__label-arrow:before {color: black;}#sk-container-id-1 div.sk-toggleable__content {max-height: 0;max-width: 0;overflow: hidden;text-align: left;background-color: #f0f8ff;}#sk-container-id-1 div.sk-toggleable__content pre {margin: 0.2em;color: black;border-radius: 0.25em;background-color: #f0f8ff;}#sk-container-id-1 input.sk-toggleable__control:checked~div.sk-toggleable__content {max-height: 200px;max-width: 100%;overflow: auto;}#sk-container-id-1 input.sk-toggleable__control:checked~label.sk-toggleable__label-arrow:before {content: \"▾\";}#sk-container-id-1 div.sk-estimator input.sk-toggleable__control:checked~label.sk-toggleable__label {background-color: #d4ebff;}#sk-container-id-1 div.sk-label input.sk-toggleable__control:checked~label.sk-toggleable__label {background-color: #d4ebff;}#sk-container-id-1 input.sk-hidden--visually {border: 0;clip: rect(1px 1px 1px 1px);clip: rect(1px, 1px, 1px, 1px);height: 1px;margin: -1px;overflow: hidden;padding: 0;position: absolute;width: 1px;}#sk-container-id-1 div.sk-estimator {font-family: monospace;background-color: #f0f8ff;border: 1px dotted black;border-radius: 0.25em;box-sizing: border-box;margin-bottom: 0.5em;}#sk-container-id-1 div.sk-estimator:hover {background-color: #d4ebff;}#sk-container-id-1 div.sk-parallel-item::after {content: \"\";width: 100%;border-bottom: 1px solid gray;flex-grow: 1;}#sk-container-id-1 div.sk-label:hover label.sk-toggleable__label {background-color: #d4ebff;}#sk-container-id-1 div.sk-serial::before {content: \"\";position: absolute;border-left: 1px solid gray;box-sizing: border-box;top: 0;bottom: 0;left: 50%;z-index: 0;}#sk-container-id-1 div.sk-serial {display: flex;flex-direction: column;align-items: center;background-color: white;padding-right: 0.2em;padding-left: 0.2em;position: relative;}#sk-container-id-1 div.sk-item {position: relative;z-index: 1;}#sk-container-id-1 div.sk-parallel {display: flex;align-items: stretch;justify-content: center;background-color: white;position: relative;}#sk-container-id-1 div.sk-item::before, #sk-container-id-1 div.sk-parallel-item::before {content: \"\";position: absolute;border-left: 1px solid gray;box-sizing: border-box;top: 0;bottom: 0;left: 50%;z-index: -1;}#sk-container-id-1 div.sk-parallel-item {display: flex;flex-direction: column;z-index: 1;position: relative;background-color: white;}#sk-container-id-1 div.sk-parallel-item:first-child::after {align-self: flex-end;width: 50%;}#sk-container-id-1 div.sk-parallel-item:last-child::after {align-self: flex-start;width: 50%;}#sk-container-id-1 div.sk-parallel-item:only-child::after {width: 0;}#sk-container-id-1 div.sk-dashed-wrapped {border: 1px dashed gray;margin: 0 0.4em 0.5em 0.4em;box-sizing: border-box;padding-bottom: 0.4em;background-color: white;}#sk-container-id-1 div.sk-label label {font-family: monospace;font-weight: bold;display: inline-block;line-height: 1.2em;}#sk-container-id-1 div.sk-label-container {text-align: center;}#sk-container-id-1 div.sk-container {/* jupyter's `normalize.less` sets `[hidden] { display: none; }` but bootstrap.min.css set `[hidden] { display: none !important; }` so we also need the `!important` here to be able to override the default hidden behavior on the sphinx rendered scikit-learn.org. See: https://github.com/scikit-learn/scikit-learn/issues/21755 */display: inline-block !important;position: relative;}#sk-container-id-1 div.sk-text-repr-fallback {display: none;}</style><div id=\"sk-container-id-1\" class=\"sk-top-container\"><div class=\"sk-text-repr-fallback\"><pre>GridSearchCV(cv=2,\n",
       "             estimator=&lt;kmodels.utils.Trainer object at 0x00000178C94B18A0&gt;,\n",
       "             n_jobs=1,\n",
       "             param_grid={&#x27;fc_layers&#x27;: [3, 5], &#x27;kernel_size&#x27;: [3, 5],\n",
       "                         &#x27;lr_init&#x27;: [0.01, 0.001]},\n",
       "             verbose=1)</pre><b>In a Jupyter environment, please rerun this cell to show the HTML representation or trust the notebook. <br />On GitHub, the HTML representation is unable to render, please try loading this page with nbviewer.org.</b></div><div class=\"sk-container\" hidden><div class=\"sk-item sk-dashed-wrapped\"><div class=\"sk-label-container\"><div class=\"sk-label sk-toggleable\"><input class=\"sk-toggleable__control sk-hidden--visually\" id=\"sk-estimator-id-1\" type=\"checkbox\" ><label for=\"sk-estimator-id-1\" class=\"sk-toggleable__label sk-toggleable__label-arrow\">GridSearchCV</label><div class=\"sk-toggleable__content\"><pre>GridSearchCV(cv=2,\n",
       "             estimator=&lt;kmodels.utils.Trainer object at 0x00000178C94B18A0&gt;,\n",
       "             n_jobs=1,\n",
       "             param_grid={&#x27;fc_layers&#x27;: [3, 5], &#x27;kernel_size&#x27;: [3, 5],\n",
       "                         &#x27;lr_init&#x27;: [0.01, 0.001]},\n",
       "             verbose=1)</pre></div></div></div><div class=\"sk-parallel\"><div class=\"sk-parallel-item\"><div class=\"sk-item\"><div class=\"sk-label-container\"><div class=\"sk-label sk-toggleable\"><input class=\"sk-toggleable__control sk-hidden--visually\" id=\"sk-estimator-id-2\" type=\"checkbox\" ><label for=\"sk-estimator-id-2\" class=\"sk-toggleable__label sk-toggleable__label-arrow\">estimator: Trainer</label><div class=\"sk-toggleable__content\"><pre>&lt;kmodels.utils.Trainer object at 0x00000178C94B18A0&gt;</pre></div></div></div><div class=\"sk-serial\"><div class=\"sk-item\"><div class=\"sk-estimator sk-toggleable\"><input class=\"sk-toggleable__control sk-hidden--visually\" id=\"sk-estimator-id-3\" type=\"checkbox\" ><label for=\"sk-estimator-id-3\" class=\"sk-toggleable__label sk-toggleable__label-arrow\">Trainer</label><div class=\"sk-toggleable__content\"><pre>&lt;kmodels.utils.Trainer object at 0x00000178C94B18A0&gt;</pre></div></div></div></div></div></div></div></div></div></div>"
      ],
      "text/plain": [
       "GridSearchCV(cv=2,\n",
       "             estimator=<kmodels.utils.Trainer object at 0x00000178C94B18A0>,\n",
       "             n_jobs=1,\n",
       "             param_grid={'fc_layers': [3, 5], 'kernel_size': [3, 5],\n",
       "                         'lr_init': [0.01, 0.001]},\n",
       "             verbose=1)"
      ]
     },
     "execution_count": 12,
     "metadata": {},
     "output_type": "execute_result"
    }
   ],
   "source": [
    "grid_.fit(x, y)"
   ]
  },
  {
   "cell_type": "code",
   "execution_count": 13,
   "metadata": {},
   "outputs": [
    {
     "data": {
      "text/plain": [
       "{'epochs': 101,\n",
       " 'device': 'cpu',\n",
       " 'conv_layers': 1,\n",
       " 'batch_size': 1000,\n",
       " 'fc_size': 10,\n",
       " 'verbose': 10,\n",
       " 'reg_factor': 0,\n",
       " 'lr_init': 0.01,\n",
       " 'metric': <function sklearn.metrics._regression.r2_score(y_true, y_pred, *, sample_weight=None, multioutput='uniform_average', force_finite=True)>,\n",
       " 'lr_gamma': 0.1,\n",
       " 'scheduler': kmodels.utils.LR_scheduler,\n",
       " 'is_VAE': False,\n",
       " 'n_inputs': 10,\n",
       " 'n_outputs': 1,\n",
       " 'binary_dim': 0,\n",
       " 'beta': 0,\n",
       " 'gamma': 0,\n",
       " 'binary_dim_y': 0,\n",
       " 'fc_layers': 5,\n",
       " 'out_channels': [3],\n",
       " 'kernel_size': 5,\n",
       " 'conv_padding': 0,\n",
       " 'train_observations': 10000,\n",
       " 'estimator_type': 'CNN'}"
      ]
     },
     "execution_count": 13,
     "metadata": {},
     "output_type": "execute_result"
    }
   ],
   "source": [
    "reg = grid_.best_estimator_\n",
    "reg.set_params(**{'epochs':101})\n",
    "reg.config"
   ]
  },
  {
   "cell_type": "code",
   "execution_count": 14,
   "metadata": {},
   "outputs": [
    {
     "name": "stdout",
     "output_type": "stream",
     "text": [
      "torch.Size([10000, 10]) torch.Size([10000, 1])\n",
      "====> Epoch: 0 Average loss: 0.020305963 Time: 0.17\n",
      "Loss components:  {}\n",
      "====> Epoch: 10 Average loss: 0.000522518 Time: 0.16\n",
      "Loss components:  {}\n",
      "====> Epoch: 20 Average loss: 0.000297721 Time: 0.16\n",
      "Loss components:  {}\n",
      "====> Epoch: 30 Average loss: 0.000271364 Time: 0.15\n",
      "Loss components:  {}\n",
      "====> Epoch: 40 Average loss: 0.000267948 Time: 0.15\n",
      "Loss components:  {}\n",
      "====> Epoch: 50 Average loss: 0.000262060 Time: 0.16\n",
      "Loss components:  {}\n",
      "====> Epoch: 60 Average loss: 0.000261302 Time: 0.17\n",
      "Loss components:  {}\n",
      "====> Epoch: 70 Average loss: 0.000263491 Time: 0.15\n",
      "Loss components:  {}\n",
      "====> Epoch: 80 Average loss: 0.000256148 Time: 0.16\n",
      "Loss components:  {}\n",
      "====> Epoch: 90 Average loss: 0.000255832 Time: 0.15\n",
      "Loss components:  {}\n",
      "====> Epoch: 100 Average loss: 0.000254527 Time: 0.18\n",
      "Loss components:  {}\n"
     ]
    },
    {
     "data": {
      "text/plain": [
       "<kmodels.utils.Trainer at 0x178d2980af0>"
      ]
     },
     "execution_count": 14,
     "metadata": {},
     "output_type": "execute_result"
    }
   ],
   "source": [
    "print(x.shape, y.shape)\n",
    "reg.fit(x,y.reshape(-1,1))\n",
    "reg"
   ]
  },
  {
   "cell_type": "code",
   "execution_count": 15,
   "metadata": {},
   "outputs": [
    {
     "data": {
      "text/plain": [
       "(0.6801018842859619,\n",
       " [CNN(conv_layers=1, fc_layers=5, fc_size=10, kernel_size=5, n_inputs=10,\n",
       "      out_channels=[3]),\n",
       "  ModuleList(),\n",
       "  Linear(in_features=10, out_features=10, bias=True),\n",
       "  ModuleList(\n",
       "    (0): Linear(in_features=10, out_features=10, bias=True)\n",
       "    (1): Linear(in_features=10, out_features=10, bias=True)\n",
       "    (2): Linear(in_features=10, out_features=10, bias=True)\n",
       "    (3): Linear(in_features=10, out_features=10, bias=True)\n",
       "  ),\n",
       "  Linear(in_features=10, out_features=10, bias=True),\n",
       "  Linear(in_features=10, out_features=10, bias=True),\n",
       "  Linear(in_features=10, out_features=10, bias=True),\n",
       "  Linear(in_features=10, out_features=10, bias=True),\n",
       "  Linear(in_features=10, out_features=1, bias=True)])"
      ]
     },
     "execution_count": 15,
     "metadata": {},
     "output_type": "execute_result"
    }
   ],
   "source": [
    "reg.score(x,y.reshape(-1,1)), [i for i in reg.estimator.modules()]"
   ]
  },
  {
   "cell_type": "code",
   "execution_count": 16,
   "metadata": {},
   "outputs": [
    {
     "data": {
      "text/plain": [
       "{'estimator_type': 'CNN',\n",
       " 'fc_layers': 5,\n",
       " 'fc_size': 10,\n",
       " 'out_channels': [3],\n",
       " 'kernel_size': 5,\n",
       " 'conv_layers': 1,\n",
       " 'n_inputs': 10,\n",
       " 'n_outputs': 1,\n",
       " 'conv_padding': 0}"
      ]
     },
     "execution_count": 16,
     "metadata": {},
     "output_type": "execute_result"
    }
   ],
   "source": [
    "reg.estimator_params"
   ]
  },
  {
   "cell_type": "code",
   "execution_count": 17,
   "metadata": {},
   "outputs": [
    {
     "data": {
      "application/vnd.plotly.v1+json": {
       "config": {
        "plotlyServerURL": "https://plot.ly"
       },
       "data": [
        {
         "hovertemplate": "param_lr_init=%{x}<br>param_fc_layers=%{y}<br>mean_test_score=%{marker.color}<extra></extra>",
         "legendgroup": "",
         "marker": {
          "color": [
           0.5743039849620091,
           0.5150625780284933,
           0.5784772930145206,
           0.5188203765790942,
           0.35158040714409144,
           0.5627623033949084,
           0.6121779237690286,
           0.43995168617157354
          ],
          "coloraxis": "coloraxis",
          "symbol": "circle"
         },
         "mode": "markers",
         "name": "",
         "scene": "scene",
         "showlegend": false,
         "type": "scatter3d",
         "x": [
          0.01,
          0.001,
          0.01,
          0.001,
          0.01,
          0.001,
          0.01,
          0.001
         ],
         "y": [
          3,
          3,
          3,
          3,
          5,
          5,
          5,
          5
         ],
         "z": [
          0.5743039849620091,
          0.5150625780284933,
          0.5784772930145206,
          0.5188203765790942,
          0.35158040714409144,
          0.5627623033949084,
          0.6121779237690286,
          0.43995168617157354
         ]
        }
       ],
       "layout": {
        "coloraxis": {
         "colorbar": {
          "title": {
           "text": "mean_test_score"
          }
         },
         "colorscale": [
          [
           0,
           "#0d0887"
          ],
          [
           0.1111111111111111,
           "#46039f"
          ],
          [
           0.2222222222222222,
           "#7201a8"
          ],
          [
           0.3333333333333333,
           "#9c179e"
          ],
          [
           0.4444444444444444,
           "#bd3786"
          ],
          [
           0.5555555555555556,
           "#d8576b"
          ],
          [
           0.6666666666666666,
           "#ed7953"
          ],
          [
           0.7777777777777778,
           "#fb9f3a"
          ],
          [
           0.8888888888888888,
           "#fdca26"
          ],
          [
           1,
           "#f0f921"
          ]
         ]
        },
        "legend": {
         "tracegroupgap": 0
        },
        "margin": {
         "t": 60
        },
        "scene": {
         "domain": {
          "x": [
           0,
           1
          ],
          "y": [
           0,
           1
          ]
         },
         "xaxis": {
          "title": {
           "text": "param_lr_init"
          }
         },
         "yaxis": {
          "title": {
           "text": "param_fc_layers"
          }
         },
         "zaxis": {
          "title": {
           "text": "mean_test_score"
          }
         }
        },
        "template": {
         "data": {
          "bar": [
           {
            "error_x": {
             "color": "#2a3f5f"
            },
            "error_y": {
             "color": "#2a3f5f"
            },
            "marker": {
             "line": {
              "color": "#E5ECF6",
              "width": 0.5
             },
             "pattern": {
              "fillmode": "overlay",
              "size": 10,
              "solidity": 0.2
             }
            },
            "type": "bar"
           }
          ],
          "barpolar": [
           {
            "marker": {
             "line": {
              "color": "#E5ECF6",
              "width": 0.5
             },
             "pattern": {
              "fillmode": "overlay",
              "size": 10,
              "solidity": 0.2
             }
            },
            "type": "barpolar"
           }
          ],
          "carpet": [
           {
            "aaxis": {
             "endlinecolor": "#2a3f5f",
             "gridcolor": "white",
             "linecolor": "white",
             "minorgridcolor": "white",
             "startlinecolor": "#2a3f5f"
            },
            "baxis": {
             "endlinecolor": "#2a3f5f",
             "gridcolor": "white",
             "linecolor": "white",
             "minorgridcolor": "white",
             "startlinecolor": "#2a3f5f"
            },
            "type": "carpet"
           }
          ],
          "choropleth": [
           {
            "colorbar": {
             "outlinewidth": 0,
             "ticks": ""
            },
            "type": "choropleth"
           }
          ],
          "contour": [
           {
            "colorbar": {
             "outlinewidth": 0,
             "ticks": ""
            },
            "colorscale": [
             [
              0,
              "#0d0887"
             ],
             [
              0.1111111111111111,
              "#46039f"
             ],
             [
              0.2222222222222222,
              "#7201a8"
             ],
             [
              0.3333333333333333,
              "#9c179e"
             ],
             [
              0.4444444444444444,
              "#bd3786"
             ],
             [
              0.5555555555555556,
              "#d8576b"
             ],
             [
              0.6666666666666666,
              "#ed7953"
             ],
             [
              0.7777777777777778,
              "#fb9f3a"
             ],
             [
              0.8888888888888888,
              "#fdca26"
             ],
             [
              1,
              "#f0f921"
             ]
            ],
            "type": "contour"
           }
          ],
          "contourcarpet": [
           {
            "colorbar": {
             "outlinewidth": 0,
             "ticks": ""
            },
            "type": "contourcarpet"
           }
          ],
          "heatmap": [
           {
            "colorbar": {
             "outlinewidth": 0,
             "ticks": ""
            },
            "colorscale": [
             [
              0,
              "#0d0887"
             ],
             [
              0.1111111111111111,
              "#46039f"
             ],
             [
              0.2222222222222222,
              "#7201a8"
             ],
             [
              0.3333333333333333,
              "#9c179e"
             ],
             [
              0.4444444444444444,
              "#bd3786"
             ],
             [
              0.5555555555555556,
              "#d8576b"
             ],
             [
              0.6666666666666666,
              "#ed7953"
             ],
             [
              0.7777777777777778,
              "#fb9f3a"
             ],
             [
              0.8888888888888888,
              "#fdca26"
             ],
             [
              1,
              "#f0f921"
             ]
            ],
            "type": "heatmap"
           }
          ],
          "heatmapgl": [
           {
            "colorbar": {
             "outlinewidth": 0,
             "ticks": ""
            },
            "colorscale": [
             [
              0,
              "#0d0887"
             ],
             [
              0.1111111111111111,
              "#46039f"
             ],
             [
              0.2222222222222222,
              "#7201a8"
             ],
             [
              0.3333333333333333,
              "#9c179e"
             ],
             [
              0.4444444444444444,
              "#bd3786"
             ],
             [
              0.5555555555555556,
              "#d8576b"
             ],
             [
              0.6666666666666666,
              "#ed7953"
             ],
             [
              0.7777777777777778,
              "#fb9f3a"
             ],
             [
              0.8888888888888888,
              "#fdca26"
             ],
             [
              1,
              "#f0f921"
             ]
            ],
            "type": "heatmapgl"
           }
          ],
          "histogram": [
           {
            "marker": {
             "pattern": {
              "fillmode": "overlay",
              "size": 10,
              "solidity": 0.2
             }
            },
            "type": "histogram"
           }
          ],
          "histogram2d": [
           {
            "colorbar": {
             "outlinewidth": 0,
             "ticks": ""
            },
            "colorscale": [
             [
              0,
              "#0d0887"
             ],
             [
              0.1111111111111111,
              "#46039f"
             ],
             [
              0.2222222222222222,
              "#7201a8"
             ],
             [
              0.3333333333333333,
              "#9c179e"
             ],
             [
              0.4444444444444444,
              "#bd3786"
             ],
             [
              0.5555555555555556,
              "#d8576b"
             ],
             [
              0.6666666666666666,
              "#ed7953"
             ],
             [
              0.7777777777777778,
              "#fb9f3a"
             ],
             [
              0.8888888888888888,
              "#fdca26"
             ],
             [
              1,
              "#f0f921"
             ]
            ],
            "type": "histogram2d"
           }
          ],
          "histogram2dcontour": [
           {
            "colorbar": {
             "outlinewidth": 0,
             "ticks": ""
            },
            "colorscale": [
             [
              0,
              "#0d0887"
             ],
             [
              0.1111111111111111,
              "#46039f"
             ],
             [
              0.2222222222222222,
              "#7201a8"
             ],
             [
              0.3333333333333333,
              "#9c179e"
             ],
             [
              0.4444444444444444,
              "#bd3786"
             ],
             [
              0.5555555555555556,
              "#d8576b"
             ],
             [
              0.6666666666666666,
              "#ed7953"
             ],
             [
              0.7777777777777778,
              "#fb9f3a"
             ],
             [
              0.8888888888888888,
              "#fdca26"
             ],
             [
              1,
              "#f0f921"
             ]
            ],
            "type": "histogram2dcontour"
           }
          ],
          "mesh3d": [
           {
            "colorbar": {
             "outlinewidth": 0,
             "ticks": ""
            },
            "type": "mesh3d"
           }
          ],
          "parcoords": [
           {
            "line": {
             "colorbar": {
              "outlinewidth": 0,
              "ticks": ""
             }
            },
            "type": "parcoords"
           }
          ],
          "pie": [
           {
            "automargin": true,
            "type": "pie"
           }
          ],
          "scatter": [
           {
            "fillpattern": {
             "fillmode": "overlay",
             "size": 10,
             "solidity": 0.2
            },
            "type": "scatter"
           }
          ],
          "scatter3d": [
           {
            "line": {
             "colorbar": {
              "outlinewidth": 0,
              "ticks": ""
             }
            },
            "marker": {
             "colorbar": {
              "outlinewidth": 0,
              "ticks": ""
             }
            },
            "type": "scatter3d"
           }
          ],
          "scattercarpet": [
           {
            "marker": {
             "colorbar": {
              "outlinewidth": 0,
              "ticks": ""
             }
            },
            "type": "scattercarpet"
           }
          ],
          "scattergeo": [
           {
            "marker": {
             "colorbar": {
              "outlinewidth": 0,
              "ticks": ""
             }
            },
            "type": "scattergeo"
           }
          ],
          "scattergl": [
           {
            "marker": {
             "colorbar": {
              "outlinewidth": 0,
              "ticks": ""
             }
            },
            "type": "scattergl"
           }
          ],
          "scattermapbox": [
           {
            "marker": {
             "colorbar": {
              "outlinewidth": 0,
              "ticks": ""
             }
            },
            "type": "scattermapbox"
           }
          ],
          "scatterpolar": [
           {
            "marker": {
             "colorbar": {
              "outlinewidth": 0,
              "ticks": ""
             }
            },
            "type": "scatterpolar"
           }
          ],
          "scatterpolargl": [
           {
            "marker": {
             "colorbar": {
              "outlinewidth": 0,
              "ticks": ""
             }
            },
            "type": "scatterpolargl"
           }
          ],
          "scatterternary": [
           {
            "marker": {
             "colorbar": {
              "outlinewidth": 0,
              "ticks": ""
             }
            },
            "type": "scatterternary"
           }
          ],
          "surface": [
           {
            "colorbar": {
             "outlinewidth": 0,
             "ticks": ""
            },
            "colorscale": [
             [
              0,
              "#0d0887"
             ],
             [
              0.1111111111111111,
              "#46039f"
             ],
             [
              0.2222222222222222,
              "#7201a8"
             ],
             [
              0.3333333333333333,
              "#9c179e"
             ],
             [
              0.4444444444444444,
              "#bd3786"
             ],
             [
              0.5555555555555556,
              "#d8576b"
             ],
             [
              0.6666666666666666,
              "#ed7953"
             ],
             [
              0.7777777777777778,
              "#fb9f3a"
             ],
             [
              0.8888888888888888,
              "#fdca26"
             ],
             [
              1,
              "#f0f921"
             ]
            ],
            "type": "surface"
           }
          ],
          "table": [
           {
            "cells": {
             "fill": {
              "color": "#EBF0F8"
             },
             "line": {
              "color": "white"
             }
            },
            "header": {
             "fill": {
              "color": "#C8D4E3"
             },
             "line": {
              "color": "white"
             }
            },
            "type": "table"
           }
          ]
         },
         "layout": {
          "annotationdefaults": {
           "arrowcolor": "#2a3f5f",
           "arrowhead": 0,
           "arrowwidth": 1
          },
          "autotypenumbers": "strict",
          "coloraxis": {
           "colorbar": {
            "outlinewidth": 0,
            "ticks": ""
           }
          },
          "colorscale": {
           "diverging": [
            [
             0,
             "#8e0152"
            ],
            [
             0.1,
             "#c51b7d"
            ],
            [
             0.2,
             "#de77ae"
            ],
            [
             0.3,
             "#f1b6da"
            ],
            [
             0.4,
             "#fde0ef"
            ],
            [
             0.5,
             "#f7f7f7"
            ],
            [
             0.6,
             "#e6f5d0"
            ],
            [
             0.7,
             "#b8e186"
            ],
            [
             0.8,
             "#7fbc41"
            ],
            [
             0.9,
             "#4d9221"
            ],
            [
             1,
             "#276419"
            ]
           ],
           "sequential": [
            [
             0,
             "#0d0887"
            ],
            [
             0.1111111111111111,
             "#46039f"
            ],
            [
             0.2222222222222222,
             "#7201a8"
            ],
            [
             0.3333333333333333,
             "#9c179e"
            ],
            [
             0.4444444444444444,
             "#bd3786"
            ],
            [
             0.5555555555555556,
             "#d8576b"
            ],
            [
             0.6666666666666666,
             "#ed7953"
            ],
            [
             0.7777777777777778,
             "#fb9f3a"
            ],
            [
             0.8888888888888888,
             "#fdca26"
            ],
            [
             1,
             "#f0f921"
            ]
           ],
           "sequentialminus": [
            [
             0,
             "#0d0887"
            ],
            [
             0.1111111111111111,
             "#46039f"
            ],
            [
             0.2222222222222222,
             "#7201a8"
            ],
            [
             0.3333333333333333,
             "#9c179e"
            ],
            [
             0.4444444444444444,
             "#bd3786"
            ],
            [
             0.5555555555555556,
             "#d8576b"
            ],
            [
             0.6666666666666666,
             "#ed7953"
            ],
            [
             0.7777777777777778,
             "#fb9f3a"
            ],
            [
             0.8888888888888888,
             "#fdca26"
            ],
            [
             1,
             "#f0f921"
            ]
           ]
          },
          "colorway": [
           "#636efa",
           "#EF553B",
           "#00cc96",
           "#ab63fa",
           "#FFA15A",
           "#19d3f3",
           "#FF6692",
           "#B6E880",
           "#FF97FF",
           "#FECB52"
          ],
          "font": {
           "color": "#2a3f5f"
          },
          "geo": {
           "bgcolor": "white",
           "lakecolor": "white",
           "landcolor": "#E5ECF6",
           "showlakes": true,
           "showland": true,
           "subunitcolor": "white"
          },
          "hoverlabel": {
           "align": "left"
          },
          "hovermode": "closest",
          "mapbox": {
           "style": "light"
          },
          "paper_bgcolor": "white",
          "plot_bgcolor": "#E5ECF6",
          "polar": {
           "angularaxis": {
            "gridcolor": "white",
            "linecolor": "white",
            "ticks": ""
           },
           "bgcolor": "#E5ECF6",
           "radialaxis": {
            "gridcolor": "white",
            "linecolor": "white",
            "ticks": ""
           }
          },
          "scene": {
           "xaxis": {
            "backgroundcolor": "#E5ECF6",
            "gridcolor": "white",
            "gridwidth": 2,
            "linecolor": "white",
            "showbackground": true,
            "ticks": "",
            "zerolinecolor": "white"
           },
           "yaxis": {
            "backgroundcolor": "#E5ECF6",
            "gridcolor": "white",
            "gridwidth": 2,
            "linecolor": "white",
            "showbackground": true,
            "ticks": "",
            "zerolinecolor": "white"
           },
           "zaxis": {
            "backgroundcolor": "#E5ECF6",
            "gridcolor": "white",
            "gridwidth": 2,
            "linecolor": "white",
            "showbackground": true,
            "ticks": "",
            "zerolinecolor": "white"
           }
          },
          "shapedefaults": {
           "line": {
            "color": "#2a3f5f"
           }
          },
          "ternary": {
           "aaxis": {
            "gridcolor": "white",
            "linecolor": "white",
            "ticks": ""
           },
           "baxis": {
            "gridcolor": "white",
            "linecolor": "white",
            "ticks": ""
           },
           "bgcolor": "#E5ECF6",
           "caxis": {
            "gridcolor": "white",
            "linecolor": "white",
            "ticks": ""
           }
          },
          "title": {
           "x": 0.05
          },
          "xaxis": {
           "automargin": true,
           "gridcolor": "white",
           "linecolor": "white",
           "ticks": "",
           "title": {
            "standoff": 15
           },
           "zerolinecolor": "white",
           "zerolinewidth": 2
          },
          "yaxis": {
           "automargin": true,
           "gridcolor": "white",
           "linecolor": "white",
           "ticks": "",
           "title": {
            "standoff": 15
           },
           "zerolinecolor": "white",
           "zerolinewidth": 2
          }
         }
        }
       }
      }
     },
     "metadata": {},
     "output_type": "display_data"
    }
   ],
   "source": [
    "# plot the results of the grid search\n",
    "import pandas as pd\n",
    "df = pd.DataFrame(grid_.cv_results_)\n",
    "# make a contour plot where color is the score and x and y are the parameters (lr_init and fc_layers)\n",
    "fig = px.scatter_3d(df, x='param_lr_init', y='param_fc_layers', z='mean_test_score', color='mean_test_score')\n",
    "fig.show()"
   ]
  },
  {
   "cell_type": "code",
   "execution_count": 18,
   "metadata": {},
   "outputs": [
    {
     "name": "stdout",
     "output_type": "stream",
     "text": [
      "torch.Size([10000, 1]) torch.Size([10000, 1])\n"
     ]
    },
    {
     "data": {
      "text/plain": [
       "<matplotlib.collections.PathCollection at 0x178d61fb8b0>"
      ]
     },
     "execution_count": 18,
     "metadata": {},
     "output_type": "execute_result"
    },
    {
     "data": {
      "image/png": "[encoded data removed]",
      "text/plain": [
       "<Figure size 640x480 with 1 Axes>"
      ]
     },
     "metadata": {},
     "output_type": "display_data"
    }
   ],
   "source": [
    "#plt.plot(reg.losses)\n",
    "pred = reg.predict(x).reshape(-1, 1)\n",
    "print(pred.shape, y.shape)\n",
    "plt.scatter(y.reshape(-1, 1), pred)"
   ]
  },
  {
   "cell_type": "code",
   "execution_count": 19,
   "metadata": {},
   "outputs": [
    {
     "data": {
      "text/plain": [
       "[<matplotlib.lines.Line2D at 0x178d6325ae0>]"
      ]
     },
     "execution_count": 19,
     "metadata": {},
     "output_type": "execute_result"
    },
    {
     "data": {
      "image/png": "[encoded data removed]",
      "text/plain": [
       "<Figure size 640x480 with 1 Axes>"
      ]
     },
     "metadata": {},
     "output_type": "display_data"
    }
   ],
   "source": [
    "# best_model = reg\n",
    "# #plt.plot(best_model.losses)\n",
    "# print(grid_.best_params_)\n",
    "# print(grid_.best_score_)\n",
    "best_model = reg\n",
    "pred = best_model.predict(x).reshape(-1,1)\n",
    "plt.plot(pred.detach().numpy(), y.detach().numpy().reshape(-1,1), 'o')"
   ]
  },
  {
   "cell_type": "code",
   "execution_count": null,
   "metadata": {},
   "outputs": [
    {
     "ename": "AttributeError",
     "evalue": "module 'kmodels' has no attribute 'trainer'",
     "output_type": "error",
     "traceback": [
      "\u001b[1;31m---------------------------------------------------------------------------\u001b[0m",
      "\u001b[1;31mAttributeError\u001b[0m                            Traceback (most recent call last)",
      "Cell \u001b[1;32mIn[14], line 1\u001b[0m\n\u001b[1;32m----> 1\u001b[0m trainer \u001b[39m=\u001b[39m kmk\u001b[39m.\u001b[39;49mtrainer(\u001b[39m*\u001b[39m\u001b[39m*\u001b[39m{\u001b[39m'\u001b[39m\u001b[39mbinary_dim\u001b[39m\u001b[39m'\u001b[39m:\u001b[39m0\u001b[39m, \u001b[39m'\u001b[39m\u001b[39mbinary_dim_y\u001b[39m\u001b[39m'\u001b[39m:\u001b[39m0\u001b[39m, \u001b[39m'\u001b[39m\u001b[39mmodel_type\u001b[39m\u001b[39m'\u001b[39m:\u001b[39m'\u001b[39m\u001b[39mNN\u001b[39m\u001b[39m'\u001b[39m, \u001b[39m'\u001b[39m\u001b[39mepochs\u001b[39m\u001b[39m'\u001b[39m:\u001b[39m11\u001b[39m,\u001b[39m'\u001b[39m\u001b[39mlr_init\u001b[39m\u001b[39m'\u001b[39m:\u001b[39m1e-3\u001b[39m,\n\u001b[0;32m      2\u001b[0m                        \u001b[39m'\u001b[39m\u001b[39mbatch_size\u001b[39m\u001b[39m'\u001b[39m:\u001b[39m1000\u001b[39m,\u001b[39m'\u001b[39m\u001b[39mbeta\u001b[39m\u001b[39m'\u001b[39m:\u001b[39m0\u001b[39m, \u001b[39m'\u001b[39m\u001b[39mgamma\u001b[39m\u001b[39m'\u001b[39m:\u001b[39m0\u001b[39m, \u001b[39m'\u001b[39m\u001b[39mlayers\u001b[39m\u001b[39m'\u001b[39m:\u001b[39m5\u001b[39m, \u001b[39m'\u001b[39m\u001b[39mlayer_size\u001b[39m\u001b[39m'\u001b[39m:\u001b[39m100\u001b[39m})\n\u001b[0;32m      3\u001b[0m trainer\u001b[39m.\u001b[39mfit(x\u001b[39m.\u001b[39mreshape(\u001b[39m-\u001b[39m\u001b[39m1\u001b[39m, \u001b[39m1\u001b[39m), y\u001b[39m.\u001b[39mreshape(\u001b[39m-\u001b[39m\u001b[39m1\u001b[39m, \u001b[39m1\u001b[39m))\n",
      "\u001b[1;31mAttributeError\u001b[0m: module 'kmodels' has no attribute 'trainer'"
     ]
    }
   ],
   "source": [
    "trainer = kmk.trainer(**{'binary_dim':0, 'binary_dim_y':0, 'model_type':'NN', 'epochs':11,'lr_init':1e-3,\n",
    "                       'batch_size':1000,'beta':0, 'gamma':0, 'layers':5, 'layer_size':100})\n",
    "trainer.fit(x.reshape(-1, 1), y.reshape(-1, 1))"
   ]
  },
  {
   "cell_type": "code",
   "execution_count": null,
   "metadata": {},
   "outputs": [],
   "source": [
    "plt.plot(trainer.losses)"
   ]
  },
  {
   "cell_type": "code",
   "execution_count": null,
   "metadata": {},
   "outputs": [],
   "source": [
    "pred = trainer.predict(x.reshape(-1,1)).reshape(-1,1)\n",
    "plt.scatter(pred, y)"
   ]
  },
  {
   "cell_type": "code",
   "execution_count": null,
   "metadata": {},
   "outputs": [],
   "source": [
    "x"
   ]
  },
  {
   "cell_type": "code",
   "execution_count": null,
   "metadata": {},
   "outputs": [],
   "source": [
    "new_model = kmk.NN(n_inputs=x.shape[1], n_outputs=y.shape[1], layers=2, layer_size=50)\n",
    "reg = kmk.trainer({'n_inputs':x.shape[1], 'n_outputs':y.shape[1], 'layers':2, 'layer_size':50})\n",
    "params = reg.params\n",
    "reg.set_params(**params)"
   ]
  },
  {
   "cell_type": "code",
   "execution_count": null,
   "metadata": {},
   "outputs": [],
   "source": [
    "from ray import tune\n",
    "import ray\n",
    "import os\n",
    "\n",
    "def train_model(config: dict):\n",
    "    trainer = kmk.Trainer({'binary_dim':0, 'binary_dim_y':0, 'model_type':'NN', 'epochs':11,'lr_init':1e-3,\n",
    "                           'batch_size':1000,'beta':0, 'gamma':0, 'layers':5, 'layer_size':100})\n",
    "    trainer.set_params(**config)\n",
    "    trainer.fit(x.reshape(-1, 1), y.reshape(-1, 1))\n",
    "    return trainer\n"
   ]
  },
  {
   "cell_type": "code",
   "execution_count": null,
   "metadata": {},
   "outputs": [],
   "source": [
    "from ray.train.torch import TorchTrainer\n",
    "from ray.air import ScalingConfig\n",
    "# get the logging\n",
    "ray.init(num_cpus=1, log_to_driver=False)\n",
    "# For GPU Training, set `use_gpu` to True.\n",
    "# trainer = Trainer(backend=\"torch\", num_workers=2, use_gpu=True)\n",
    "scaling_config = ScalingConfig(train_model, num_workers=1)\n",
    "config = {}\n",
    "trainer = TorchTrainer(train_loop_per_worker=train_model, train_loop_config=config)\n",
    "trainer.fit()"
   ]
  },
  {
   "cell_type": "code",
   "execution_count": null,
   "metadata": {},
   "outputs": [],
   "source": [
    "import ray\n",
    "\n",
    "# Connect to the Ray cluster.\n",
    "ray.init()\n",
    "\n",
    "# Define a remote function to check the status of a worker.\n",
    "@ray.remote\n",
    "def check_worker_status(worker_id):\n",
    "    # Add your logic here to check the worker's status.\n",
    "    # For example:\n",
    "    # return True if the worker is healthy, otherwise False.\n",
    "    return True\n",
    "\n",
    "# Get a list of all workers in the cluster.\n",
    "all_workers = ray.nodes()\n",
    "\n",
    "# Check the status of each worker in parallel.\n",
    "worker_statuses = ray.get([check_worker_status.remote(worker[\"NodeID\"]) for worker in all_workers])\n",
    "\n",
    "# Print the status of each worker.\n",
    "for worker, status in zip(all_workers, worker_statuses):\n",
    "    print(f\"Worker {worker['NodeID']} is {'healthy' if status else 'unhealthy'}.\")\n"
   ]
  },
  {
   "cell_type": "code",
   "execution_count": null,
   "metadata": {},
   "outputs": [],
   "source": [
    "trainer = train_model({'epochs':51})\n",
    "plt.plot(trainer.losses)\n"
   ]
  },
  {
   "cell_type": "code",
   "execution_count": null,
   "metadata": {},
   "outputs": [],
   "source": [
    "pred = trainer.predict(trainer.x).reshape(-1,1)\n",
    "plt.scatter(pred, trainer.y)"
   ]
  },
  {
   "cell_type": "code",
   "execution_count": null,
   "metadata": {},
   "outputs": [],
   "source": [
    "model = kmk.NN(n_inputs=x.shape[1], n_outputs=y.shape[1], layers=2, layer_size=50, change_layers=0)\n",
    "model"
   ]
  },
  {
   "cell_type": "code",
   "execution_count": null,
   "metadata": {},
   "outputs": [],
   "source": [
    "tlnn = kmk.TLNN(model, x, change_layers=1)\n",
    "tlnn"
   ]
  },
  {
   "cell_type": "code",
   "execution_count": null,
   "metadata": {},
   "outputs": [],
   "source": [
    "model.__init__(**model.params)"
   ]
  }
 ],
 "metadata": {
  "kernelspec": {
   "display_name": "venv",
   "language": "python",
   "name": "python3"
  },
  "language_info": {
   "codemirror_mode": {
    "name": "ipython",
    "version": 3
   },
   "file_extension": ".py",
   "mimetype": "text/x-python",
   "name": "python",
   "nbconvert_exporter": "python",
   "pygments_lexer": "ipython3",
   "version": "3.10.10"
  },
  "orig_nbformat": 4
 },
 "nbformat": 4,
 "nbformat_minor": 2
}
