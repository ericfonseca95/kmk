{
 "cells": [
  {
   "cell_type": "code",
   "execution_count": 125,
   "metadata": {},
   "outputs": [
    {
     "data": {
      "text/plain": [
       "'c:\\\\Users\\\\efons\\\\Desktop\\\\kalyn_lstm\\\\kmodels\\\\notebooks'"
      ]
     },
     "execution_count": 125,
     "metadata": {},
     "output_type": "execute_result"
    }
   ],
   "source": [
    "import kmodels as kmk\n",
    "import numpy as np\n",
    "import pandas as pd\n",
    "import os\n",
    "import torch\n",
    "import matplotlib.pyplot as plt\n",
    "from sklearn.preprocessing import StandardScaler\n",
    "os.getcwd()"
   ]
  },
  {
   "cell_type": "code",
   "execution_count": 126,
   "metadata": {},
   "outputs": [
    {
     "data": {
      "text/html": [
       "<div>\n",
       "<style scoped>\n",
       "    .dataframe tbody tr th:only-of-type {\n",
       "        vertical-align: middle;\n",
       "    }\n",
       "\n",
       "    .dataframe tbody tr th {\n",
       "        vertical-align: top;\n",
       "    }\n",
       "\n",
       "    .dataframe thead th {\n",
       "        text-align: right;\n",
       "    }\n",
       "</style>\n",
       "<table border=\"1\" class=\"dataframe\">\n",
       "  <thead>\n",
       "    <tr style=\"text-align: right;\">\n",
       "      <th></th>\n",
       "      <th>Time</th>\n",
       "      <th>FCU</th>\n",
       "      <th>EPL</th>\n",
       "      <th>EPB</th>\n",
       "      <th>FPL</th>\n",
       "      <th>APL</th>\n",
       "      <th>FPB</th>\n",
       "      <th>OPP</th>\n",
       "      <th>Fx</th>\n",
       "      <th>Fy</th>\n",
       "      <th>Fz</th>\n",
       "      <th>ADD</th>\n",
       "      <th>Subject</th>\n",
       "    </tr>\n",
       "  </thead>\n",
       "  <tbody>\n",
       "    <tr>\n",
       "      <th>0</th>\n",
       "      <td>0.000000</td>\n",
       "      <td>0.054566</td>\n",
       "      <td>0.058537</td>\n",
       "      <td>0.062743</td>\n",
       "      <td>0.155728</td>\n",
       "      <td>0.023906</td>\n",
       "      <td>0.021142</td>\n",
       "      <td>0.070465</td>\n",
       "      <td>-9.259692</td>\n",
       "      <td>-4.447818</td>\n",
       "      <td>-6.536988</td>\n",
       "      <td>0.026819</td>\n",
       "      <td>6.26_0.9_1.06</td>\n",
       "    </tr>\n",
       "    <tr>\n",
       "      <th>1</th>\n",
       "      <td>0.009799</td>\n",
       "      <td>0.054646</td>\n",
       "      <td>0.058400</td>\n",
       "      <td>0.062911</td>\n",
       "      <td>0.154414</td>\n",
       "      <td>0.023787</td>\n",
       "      <td>0.021018</td>\n",
       "      <td>0.077124</td>\n",
       "      <td>-9.502468</td>\n",
       "      <td>-4.600985</td>\n",
       "      <td>-6.520491</td>\n",
       "      <td>0.026349</td>\n",
       "      <td>6.26_0.9_1.06</td>\n",
       "    </tr>\n",
       "    <tr>\n",
       "      <th>2</th>\n",
       "      <td>0.019599</td>\n",
       "      <td>0.054800</td>\n",
       "      <td>0.057753</td>\n",
       "      <td>0.062681</td>\n",
       "      <td>0.153220</td>\n",
       "      <td>0.023763</td>\n",
       "      <td>0.021220</td>\n",
       "      <td>0.095268</td>\n",
       "      <td>-9.513043</td>\n",
       "      <td>-4.624847</td>\n",
       "      <td>-6.518658</td>\n",
       "      <td>0.026434</td>\n",
       "      <td>6.26_0.9_1.06</td>\n",
       "    </tr>\n",
       "    <tr>\n",
       "      <th>3</th>\n",
       "      <td>0.029398</td>\n",
       "      <td>0.056122</td>\n",
       "      <td>0.056917</td>\n",
       "      <td>0.063201</td>\n",
       "      <td>0.157919</td>\n",
       "      <td>0.023762</td>\n",
       "      <td>0.022113</td>\n",
       "      <td>0.114959</td>\n",
       "      <td>-9.409544</td>\n",
       "      <td>-4.564386</td>\n",
       "      <td>-6.497891</td>\n",
       "      <td>0.026648</td>\n",
       "      <td>6.26_0.9_1.06</td>\n",
       "    </tr>\n",
       "    <tr>\n",
       "      <th>4</th>\n",
       "      <td>0.039197</td>\n",
       "      <td>0.057602</td>\n",
       "      <td>0.056416</td>\n",
       "      <td>0.063981</td>\n",
       "      <td>0.163014</td>\n",
       "      <td>0.023785</td>\n",
       "      <td>0.023148</td>\n",
       "      <td>0.126942</td>\n",
       "      <td>-9.251525</td>\n",
       "      <td>-4.474644</td>\n",
       "      <td>-6.437751</td>\n",
       "      <td>0.026858</td>\n",
       "      <td>6.26_0.9_1.06</td>\n",
       "    </tr>\n",
       "    <tr>\n",
       "      <th>...</th>\n",
       "      <td>...</td>\n",
       "      <td>...</td>\n",
       "      <td>...</td>\n",
       "      <td>...</td>\n",
       "      <td>...</td>\n",
       "      <td>...</td>\n",
       "      <td>...</td>\n",
       "      <td>...</td>\n",
       "      <td>...</td>\n",
       "      <td>...</td>\n",
       "      <td>...</td>\n",
       "      <td>...</td>\n",
       "      <td>...</td>\n",
       "    </tr>\n",
       "    <tr>\n",
       "      <th>1345171</th>\n",
       "      <td>1.950067</td>\n",
       "      <td>0.077327</td>\n",
       "      <td>0.028705</td>\n",
       "      <td>0.070763</td>\n",
       "      <td>0.186818</td>\n",
       "      <td>0.081797</td>\n",
       "      <td>0.022118</td>\n",
       "      <td>0.090759</td>\n",
       "      <td>-4.916051</td>\n",
       "      <td>-5.716611</td>\n",
       "      <td>-12.003086</td>\n",
       "      <td>0.024750</td>\n",
       "      <td>6.53_1.04_1.02</td>\n",
       "    </tr>\n",
       "    <tr>\n",
       "      <th>1345172</th>\n",
       "      <td>1.959866</td>\n",
       "      <td>0.077751</td>\n",
       "      <td>0.027808</td>\n",
       "      <td>0.071065</td>\n",
       "      <td>0.191791</td>\n",
       "      <td>0.082448</td>\n",
       "      <td>0.022103</td>\n",
       "      <td>0.095652</td>\n",
       "      <td>-5.248973</td>\n",
       "      <td>-5.937422</td>\n",
       "      <td>-12.067884</td>\n",
       "      <td>0.024120</td>\n",
       "      <td>6.53_1.04_1.02</td>\n",
       "    </tr>\n",
       "    <tr>\n",
       "      <th>1345173</th>\n",
       "      <td>1.969666</td>\n",
       "      <td>0.078584</td>\n",
       "      <td>0.027024</td>\n",
       "      <td>0.071566</td>\n",
       "      <td>0.193814</td>\n",
       "      <td>0.083229</td>\n",
       "      <td>0.022089</td>\n",
       "      <td>0.093776</td>\n",
       "      <td>-5.556444</td>\n",
       "      <td>-6.157407</td>\n",
       "      <td>-12.143441</td>\n",
       "      <td>0.023570</td>\n",
       "      <td>6.53_1.04_1.02</td>\n",
       "    </tr>\n",
       "    <tr>\n",
       "      <th>1345174</th>\n",
       "      <td>1.979465</td>\n",
       "      <td>0.078977</td>\n",
       "      <td>0.026315</td>\n",
       "      <td>0.071994</td>\n",
       "      <td>0.195077</td>\n",
       "      <td>0.083762</td>\n",
       "      <td>0.022077</td>\n",
       "      <td>0.086941</td>\n",
       "      <td>-5.809779</td>\n",
       "      <td>-6.380327</td>\n",
       "      <td>-12.206728</td>\n",
       "      <td>0.023072</td>\n",
       "      <td>6.53_1.04_1.02</td>\n",
       "    </tr>\n",
       "    <tr>\n",
       "      <th>1345175</th>\n",
       "      <td>1.989264</td>\n",
       "      <td>0.079077</td>\n",
       "      <td>0.025693</td>\n",
       "      <td>0.072354</td>\n",
       "      <td>0.196594</td>\n",
       "      <td>0.084091</td>\n",
       "      <td>0.022066</td>\n",
       "      <td>0.077667</td>\n",
       "      <td>-6.071978</td>\n",
       "      <td>-6.645673</td>\n",
       "      <td>-12.258107</td>\n",
       "      <td>0.022634</td>\n",
       "      <td>6.53_1.04_1.02</td>\n",
       "    </tr>\n",
       "  </tbody>\n",
       "</table>\n",
       "<p>1345176 rows × 13 columns</p>\n",
       "</div>"
      ],
      "text/plain": [
       "             Time       FCU       EPL       EPB       FPL       APL       FPB  \\\n",
       "0        0.000000  0.054566  0.058537  0.062743  0.155728  0.023906  0.021142   \n",
       "1        0.009799  0.054646  0.058400  0.062911  0.154414  0.023787  0.021018   \n",
       "2        0.019599  0.054800  0.057753  0.062681  0.153220  0.023763  0.021220   \n",
       "3        0.029398  0.056122  0.056917  0.063201  0.157919  0.023762  0.022113   \n",
       "4        0.039197  0.057602  0.056416  0.063981  0.163014  0.023785  0.023148   \n",
       "...           ...       ...       ...       ...       ...       ...       ...   \n",
       "1345171  1.950067  0.077327  0.028705  0.070763  0.186818  0.081797  0.022118   \n",
       "1345172  1.959866  0.077751  0.027808  0.071065  0.191791  0.082448  0.022103   \n",
       "1345173  1.969666  0.078584  0.027024  0.071566  0.193814  0.083229  0.022089   \n",
       "1345174  1.979465  0.078977  0.026315  0.071994  0.195077  0.083762  0.022077   \n",
       "1345175  1.989264  0.079077  0.025693  0.072354  0.196594  0.084091  0.022066   \n",
       "\n",
       "              OPP        Fx        Fy         Fz       ADD         Subject  \n",
       "0        0.070465 -9.259692 -4.447818  -6.536988  0.026819   6.26_0.9_1.06  \n",
       "1        0.077124 -9.502468 -4.600985  -6.520491  0.026349   6.26_0.9_1.06  \n",
       "2        0.095268 -9.513043 -4.624847  -6.518658  0.026434   6.26_0.9_1.06  \n",
       "3        0.114959 -9.409544 -4.564386  -6.497891  0.026648   6.26_0.9_1.06  \n",
       "4        0.126942 -9.251525 -4.474644  -6.437751  0.026858   6.26_0.9_1.06  \n",
       "...           ...       ...       ...        ...       ...             ...  \n",
       "1345171  0.090759 -4.916051 -5.716611 -12.003086  0.024750  6.53_1.04_1.02  \n",
       "1345172  0.095652 -5.248973 -5.937422 -12.067884  0.024120  6.53_1.04_1.02  \n",
       "1345173  0.093776 -5.556444 -6.157407 -12.143441  0.023570  6.53_1.04_1.02  \n",
       "1345174  0.086941 -5.809779 -6.380327 -12.206728  0.023072  6.53_1.04_1.02  \n",
       "1345175  0.077667 -6.071978 -6.645673 -12.258107  0.022634  6.53_1.04_1.02  \n",
       "\n",
       "[1345176 rows x 13 columns]"
      ]
     },
     "execution_count": 126,
     "metadata": {},
     "output_type": "execute_result"
    }
   ],
   "source": [
    "data_path = '../../data/'\n",
    "# get all pickles\n",
    "pickles = [f for f in os.listdir(data_path) if f.endswith('.pkl')]\n",
    "# get the Formatted pickle\n",
    "data = [f for f in pickles if 'Formatted' in f][0]\n",
    "df = pd.read_pickle(data_path + data)\n",
    "df"
   ]
  },
  {
   "cell_type": "code",
   "execution_count": 127,
   "metadata": {},
   "outputs": [
    {
     "name": "stdout",
     "output_type": "stream",
     "text": [
      "['Time', 'FCU', 'EPL', 'EPB', 'FPL', 'APL', 'FPB', 'OPP', 'Fx', 'Fy', 'Fz']\n",
      "['Fx', 'Fy', 'Fz']\n"
     ]
    }
   ],
   "source": [
    "xcols = df.columns\n",
    "# drop \"ADD\", and \"Subject\"\n",
    "xcols = list(xcols.drop(['ADD', 'Subject']))\n",
    "ycols = ['Fx','Fy','Fz']\n",
    "print(xcols)\n",
    "print(ycols)"
   ]
  },
  {
   "cell_type": "code",
   "execution_count": 128,
   "metadata": {},
   "outputs": [],
   "source": [
    "#random_search_results = kmk.random_search(df, batch_size=10000, n_epochs=11, n_iter=10, n_splits=5)"
   ]
  },
  {
   "cell_type": "code",
   "execution_count": 129,
   "metadata": {},
   "outputs": [],
   "source": [
    "#random_search_results[1]"
   ]
  },
  {
   "cell_type": "code",
   "execution_count": 130,
   "metadata": {},
   "outputs": [],
   "source": [
    "model = kmk.NN(layer_size=10, layers=5, n_inputs=len(xcols), n_outputs=len(ycols))"
   ]
  },
  {
   "cell_type": "code",
   "execution_count": 131,
   "metadata": {},
   "outputs": [],
   "source": [
    "data = kmk.Dataset(df, sort_column=['Subject'])"
   ]
  },
  {
   "cell_type": "code",
   "execution_count": 132,
   "metadata": {},
   "outputs": [
    {
     "data": {
      "text/plain": [
       "torch.Size([1345176, 8])"
      ]
     },
     "execution_count": 132,
     "metadata": {},
     "output_type": "execute_result"
    }
   ],
   "source": [
    "X = data.X.float()\n",
    "Y = data.Y.float()\n",
    "\n",
    "# use a scaler to scale the data\n",
    "scaler = StandardScaler()\n",
    "X = scaler.fit_transform(X)\n",
    "X = torch.from_numpy(X).float()\n",
    "X.shape"
   ]
  },
  {
   "cell_type": "code",
   "execution_count": 134,
   "metadata": {},
   "outputs": [
    {
     "name": "stdout",
     "output_type": "stream",
     "text": [
      "EPOCH :  0 , dt:  0.4769008159637451 seconds, losses : 194.900390625\n",
      "EPOCH :  10 , dt:  4.278886556625366 seconds, losses : 193.5989227294922\n",
      "EPOCH :  20 , dt:  4.571239709854126 seconds, losses : 191.96131896972656\n",
      "EPOCH :  30 , dt:  5.349892854690552 seconds, losses : 189.75660705566406\n",
      "EPOCH :  40 , dt:  4.5362708568573 seconds, losses : 186.56057739257812\n",
      "EPOCH :  50 , dt:  4.1087048053741455 seconds, losses : 181.54855346679688\n",
      "EPOCH :  60 , dt:  4.150460481643677 seconds, losses : 173.48260498046875\n",
      "EPOCH :  70 , dt:  4.125542640686035 seconds, losses : 160.8152313232422\n",
      "EPOCH :  80 , dt:  3.944117307662964 seconds, losses : 142.15869140625\n",
      "EPOCH :  90 , dt:  3.9798285961151123 seconds, losses : 118.2671890258789\n",
      "EPOCH :  100 , dt:  4.272316217422485 seconds, losses : 93.19566345214844\n",
      "EPOCH :  110 , dt:  4.2053282260894775 seconds, losses : 72.47252655029297\n",
      "EPOCH :  120 , dt:  5.638564586639404 seconds, losses : 58.1220588684082\n",
      "EPOCH :  130 , dt:  4.75177526473999 seconds, losses : 48.481407165527344\n",
      "EPOCH :  140 , dt:  5.5267014503479 seconds, losses : 42.69858169555664\n",
      "EPOCH :  150 , dt:  5.437038898468018 seconds, losses : 39.25265884399414\n",
      "EPOCH :  160 , dt:  5.03365683555603 seconds, losses : 37.08343505859375\n",
      "EPOCH :  170 , dt:  6.502851724624634 seconds, losses : 35.5622673034668\n"
     ]
    },
    {
     "ename": "OutOfMemoryError",
     "evalue": "CUDA out of memory. Tried to allocate 52.00 MiB (GPU 0; 6.00 GiB total capacity; 4.00 GiB already allocated; 0 bytes free; 5.29 GiB reserved in total by PyTorch) If reserved memory is >> allocated memory try setting max_split_size_mb to avoid fragmentation.  See documentation for Memory Management and PYTORCH_CUDA_ALLOC_CONF",
     "output_type": "error",
     "traceback": [
      "\u001b[1;31m---------------------------------------------------------------------------\u001b[0m",
      "\u001b[1;31mOutOfMemoryError\u001b[0m                          Traceback (most recent call last)",
      "Cell \u001b[1;32mIn[134], line 1\u001b[0m\n\u001b[1;32m----> 1\u001b[0m losses \u001b[39m=\u001b[39m kmk\u001b[39m.\u001b[39;49mrun_Pytorch(model, X, Y, batch_size\u001b[39m=\u001b[39;49m\u001b[39mlen\u001b[39;49m(X)\u001b[39m-\u001b[39;49m\u001b[39m1\u001b[39;49m, n_epochs\u001b[39m=\u001b[39;49m\u001b[39m1001\u001b[39;49m, learning_rate\u001b[39m=\u001b[39;49m\u001b[39m1e-3\u001b[39;49m,\n\u001b[0;32m      2\u001b[0m                          optimizer\u001b[39m=\u001b[39;49mtorch\u001b[39m.\u001b[39;49moptim\u001b[39m.\u001b[39;49mAdam(model\u001b[39m.\u001b[39;49mparameters(), lr\u001b[39m=\u001b[39;49m\u001b[39m1e-3\u001b[39;49m, weight_decay\u001b[39m=\u001b[39;49m\u001b[39m1e-2\u001b[39;49m))\n",
      "File \u001b[1;32mc:\\Users\\efons\\anaconda3\\envs\\venv\\lib\\site-packages\\kmodels\\kmodels.py:23\u001b[0m, in \u001b[0;36mrun_Pytorch\u001b[1;34m(model, X_train, Y_train, n_epochs, learning_rate, batch_size, device, optimizer)\u001b[0m\n\u001b[0;32m     21\u001b[0m \u001b[39mif\u001b[39;00m optimizer \u001b[39mis\u001b[39;00m \u001b[39mNone\u001b[39;00m:\n\u001b[0;32m     22\u001b[0m     optimizer \u001b[39m=\u001b[39m torch\u001b[39m.\u001b[39moptim\u001b[39m.\u001b[39mAdam(model\u001b[39m.\u001b[39mparameters(), lr\u001b[39m=\u001b[39mlearning_rate, weight_decay\u001b[39m=\u001b[39m\u001b[39m0.001\u001b[39m)\n\u001b[1;32m---> 23\u001b[0m losses \u001b[39m=\u001b[39m train_pytorch(model, \n\u001b[0;32m     24\u001b[0m              X_train, \n\u001b[0;32m     25\u001b[0m              Y_train,\n\u001b[0;32m     26\u001b[0m              n_epochs\u001b[39m=\u001b[39;49mn_epochs,\n\u001b[0;32m     27\u001b[0m              batch_size\u001b[39m=\u001b[39;49mbatch_size, \n\u001b[0;32m     28\u001b[0m              learning_rate\u001b[39m=\u001b[39;49mlearning_rate)\n\u001b[0;32m     29\u001b[0m \u001b[39mreturn\u001b[39;00m losses\n",
      "File \u001b[1;32mc:\\Users\\efons\\anaconda3\\envs\\venv\\lib\\site-packages\\kmodels\\kmodels.py:63\u001b[0m, in \u001b[0;36mtrain_pytorch\u001b[1;34m(model, X_train, Y_train, n_epochs, batch_size, learning_rate, device, optimizer)\u001b[0m\n\u001b[0;32m     61\u001b[0m \u001b[39m#optimizer = torch.optim.SGD(model.parameters(), lr=learning_rate)\u001b[39;00m\n\u001b[0;32m     62\u001b[0m loss_func \u001b[39m=\u001b[39m torch\u001b[39m.\u001b[39mnn\u001b[39m.\u001b[39mMSELoss()\n\u001b[1;32m---> 63\u001b[0m losses \u001b[39m=\u001b[39m run_epochs(model, X_train, Y_train, loss_func, optimizer, batches, n_epochs\u001b[39m=\u001b[39;49mn_epochs)\n\u001b[0;32m     64\u001b[0m \u001b[39mreturn\u001b[39;00m [i\u001b[39m.\u001b[39mdetach()\u001b[39m.\u001b[39mcpu() \u001b[39mfor\u001b[39;00m i \u001b[39min\u001b[39;00m losses]\n",
      "File \u001b[1;32mc:\\Users\\efons\\anaconda3\\envs\\venv\\lib\\site-packages\\kmodels\\kmodels.py:42\u001b[0m, in \u001b[0;36mrun_epochs\u001b[1;34m(model, X_train, Y_train, loss_func, optimizer, batches, n_epochs, device)\u001b[0m\n\u001b[0;32m     40\u001b[0m     pred \u001b[39m=\u001b[39m model(x)\n\u001b[0;32m     41\u001b[0m     loss \u001b[39m=\u001b[39m loss_func(pred, y) \u001b[39m# must be (1. nn output, 2. target)\u001b[39;00m\n\u001b[1;32m---> 42\u001b[0m     loss\u001b[39m.\u001b[39;49mbackward()         \u001b[39m# backpropagation, compute gradients\u001b[39;00m\n\u001b[0;32m     43\u001b[0m     optimizer\u001b[39m.\u001b[39mstep()        \u001b[39m# apply gradients\u001b[39;00m\n\u001b[0;32m     44\u001b[0m losses\u001b[39m.\u001b[39mappend(loss)\n",
      "File \u001b[1;32mc:\\Users\\efons\\anaconda3\\envs\\venv\\lib\\site-packages\\torch\\_tensor.py:487\u001b[0m, in \u001b[0;36mTensor.backward\u001b[1;34m(self, gradient, retain_graph, create_graph, inputs)\u001b[0m\n\u001b[0;32m    477\u001b[0m \u001b[39mif\u001b[39;00m has_torch_function_unary(\u001b[39mself\u001b[39m):\n\u001b[0;32m    478\u001b[0m     \u001b[39mreturn\u001b[39;00m handle_torch_function(\n\u001b[0;32m    479\u001b[0m         Tensor\u001b[39m.\u001b[39mbackward,\n\u001b[0;32m    480\u001b[0m         (\u001b[39mself\u001b[39m,),\n\u001b[1;32m   (...)\u001b[0m\n\u001b[0;32m    485\u001b[0m         inputs\u001b[39m=\u001b[39minputs,\n\u001b[0;32m    486\u001b[0m     )\n\u001b[1;32m--> 487\u001b[0m torch\u001b[39m.\u001b[39;49mautograd\u001b[39m.\u001b[39;49mbackward(\n\u001b[0;32m    488\u001b[0m     \u001b[39mself\u001b[39;49m, gradient, retain_graph, create_graph, inputs\u001b[39m=\u001b[39;49minputs\n\u001b[0;32m    489\u001b[0m )\n",
      "File \u001b[1;32mc:\\Users\\efons\\anaconda3\\envs\\venv\\lib\\site-packages\\torch\\autograd\\__init__.py:197\u001b[0m, in \u001b[0;36mbackward\u001b[1;34m(tensors, grad_tensors, retain_graph, create_graph, grad_variables, inputs)\u001b[0m\n\u001b[0;32m    192\u001b[0m     retain_graph \u001b[39m=\u001b[39m create_graph\n\u001b[0;32m    194\u001b[0m \u001b[39m# The reason we repeat same the comment below is that\u001b[39;00m\n\u001b[0;32m    195\u001b[0m \u001b[39m# some Python versions print out the first line of a multi-line function\u001b[39;00m\n\u001b[0;32m    196\u001b[0m \u001b[39m# calls in the traceback and some print out the last line\u001b[39;00m\n\u001b[1;32m--> 197\u001b[0m Variable\u001b[39m.\u001b[39;49m_execution_engine\u001b[39m.\u001b[39;49mrun_backward(  \u001b[39m# Calls into the C++ engine to run the backward pass\u001b[39;49;00m\n\u001b[0;32m    198\u001b[0m     tensors, grad_tensors_, retain_graph, create_graph, inputs,\n\u001b[0;32m    199\u001b[0m     allow_unreachable\u001b[39m=\u001b[39;49m\u001b[39mTrue\u001b[39;49;00m, accumulate_grad\u001b[39m=\u001b[39;49m\u001b[39mTrue\u001b[39;49;00m)\n",
      "\u001b[1;31mOutOfMemoryError\u001b[0m: CUDA out of memory. Tried to allocate 52.00 MiB (GPU 0; 6.00 GiB total capacity; 4.00 GiB already allocated; 0 bytes free; 5.29 GiB reserved in total by PyTorch) If reserved memory is >> allocated memory try setting max_split_size_mb to avoid fragmentation.  See documentation for Memory Management and PYTORCH_CUDA_ALLOC_CONF"
     ]
    }
   ],
   "source": [
    "losses = kmk.run_Pytorch(model, X, Y, batch_size=len(X)-1, n_epochs=1001, learning_rate=1e-3,\n",
    "                         optimizer=torch.optim.Adam(model.parameters(), lr=1e-3, weight_decay=1e-2))\n"
   ]
  },
  {
   "cell_type": "code",
   "execution_count": null,
   "metadata": {},
   "outputs": [
    {
     "data": {
      "text/plain": [
       "[<matplotlib.lines.Line2D at 0x1e26e32d150>]"
      ]
     },
     "execution_count": 102,
     "metadata": {},
     "output_type": "execute_result"
    },
    {
     "data": {
      "image/png": "[encoded data removed]",
      "text/plain": [
       "<Figure size 640x480 with 1 Axes>"
      ]
     },
     "metadata": {},
     "output_type": "display_data"
    }
   ],
   "source": [
    "plt.plot(losses)"
   ]
  },
  {
   "cell_type": "code",
   "execution_count": null,
   "metadata": {},
   "outputs": [],
   "source": [
    "tlm = kmk.TLNN(model, X[0:2, :], change_layers=2)\n"
   ]
  },
  {
   "cell_type": "code",
   "execution_count": null,
   "metadata": {},
   "outputs": [
    {
     "data": {
      "text/html": [
       "<div>\n",
       "<style scoped>\n",
       "    .dataframe tbody tr th:only-of-type {\n",
       "        vertical-align: middle;\n",
       "    }\n",
       "\n",
       "    .dataframe tbody tr th {\n",
       "        vertical-align: top;\n",
       "    }\n",
       "\n",
       "    .dataframe thead th {\n",
       "        text-align: right;\n",
       "    }\n",
       "</style>\n",
       "<table border=\"1\" class=\"dataframe\">\n",
       "  <thead>\n",
       "    <tr style=\"text-align: right;\">\n",
       "      <th></th>\n",
       "      <th>Time</th>\n",
       "      <th>Event</th>\n",
       "      <th>EPB</th>\n",
       "      <th>EPL</th>\n",
       "      <th>FPL</th>\n",
       "      <th>APL</th>\n",
       "      <th>ADD</th>\n",
       "      <th>FCU</th>\n",
       "      <th>FPB</th>\n",
       "      <th>OPP</th>\n",
       "      <th>Fx</th>\n",
       "      <th>Fy</th>\n",
       "      <th>Fz</th>\n",
       "      <th>Subject</th>\n",
       "    </tr>\n",
       "  </thead>\n",
       "  <tbody>\n",
       "    <tr>\n",
       "      <th>0</th>\n",
       "      <td>0.000000</td>\n",
       "      <td>0</td>\n",
       "      <td>0.609387</td>\n",
       "      <td>0.425615</td>\n",
       "      <td>0.448714</td>\n",
       "      <td>0.759052</td>\n",
       "      <td>0.686264</td>\n",
       "      <td>0.066787</td>\n",
       "      <td>0.298815</td>\n",
       "      <td>0.601626</td>\n",
       "      <td>6.628719</td>\n",
       "      <td>-5.536619</td>\n",
       "      <td>-72.106877</td>\n",
       "      <td>bXa12</td>\n",
       "    </tr>\n",
       "    <tr>\n",
       "      <th>1</th>\n",
       "      <td>0.016722</td>\n",
       "      <td>0</td>\n",
       "      <td>0.621460</td>\n",
       "      <td>0.430126</td>\n",
       "      <td>0.451183</td>\n",
       "      <td>0.757899</td>\n",
       "      <td>0.687901</td>\n",
       "      <td>0.066837</td>\n",
       "      <td>0.298880</td>\n",
       "      <td>0.607359</td>\n",
       "      <td>6.438037</td>\n",
       "      <td>-5.549640</td>\n",
       "      <td>-73.115967</td>\n",
       "      <td>bXa12</td>\n",
       "    </tr>\n",
       "    <tr>\n",
       "      <th>2</th>\n",
       "      <td>0.033445</td>\n",
       "      <td>0</td>\n",
       "      <td>0.631084</td>\n",
       "      <td>0.435097</td>\n",
       "      <td>0.453312</td>\n",
       "      <td>0.755323</td>\n",
       "      <td>0.692222</td>\n",
       "      <td>0.066811</td>\n",
       "      <td>0.298609</td>\n",
       "      <td>0.613068</td>\n",
       "      <td>6.327789</td>\n",
       "      <td>-5.691851</td>\n",
       "      <td>-74.307988</td>\n",
       "      <td>bXa12</td>\n",
       "    </tr>\n",
       "    <tr>\n",
       "      <th>3</th>\n",
       "      <td>0.050167</td>\n",
       "      <td>0</td>\n",
       "      <td>0.637990</td>\n",
       "      <td>0.440523</td>\n",
       "      <td>0.455069</td>\n",
       "      <td>0.751424</td>\n",
       "      <td>0.698965</td>\n",
       "      <td>0.066699</td>\n",
       "      <td>0.298155</td>\n",
       "      <td>0.618620</td>\n",
       "      <td>6.591325</td>\n",
       "      <td>-5.942138</td>\n",
       "      <td>-74.517149</td>\n",
       "      <td>bXa12</td>\n",
       "    </tr>\n",
       "    <tr>\n",
       "      <th>4</th>\n",
       "      <td>0.066890</td>\n",
       "      <td>0</td>\n",
       "      <td>0.642083</td>\n",
       "      <td>0.446395</td>\n",
       "      <td>0.456437</td>\n",
       "      <td>0.746356</td>\n",
       "      <td>0.707680</td>\n",
       "      <td>0.066504</td>\n",
       "      <td>0.297653</td>\n",
       "      <td>0.623865</td>\n",
       "      <td>6.722019</td>\n",
       "      <td>-6.021124</td>\n",
       "      <td>-75.056662</td>\n",
       "      <td>bXa12</td>\n",
       "    </tr>\n",
       "    <tr>\n",
       "      <th>...</th>\n",
       "      <td>...</td>\n",
       "      <td>...</td>\n",
       "      <td>...</td>\n",
       "      <td>...</td>\n",
       "      <td>...</td>\n",
       "      <td>...</td>\n",
       "      <td>...</td>\n",
       "      <td>...</td>\n",
       "      <td>...</td>\n",
       "      <td>...</td>\n",
       "      <td>...</td>\n",
       "      <td>...</td>\n",
       "      <td>...</td>\n",
       "      <td>...</td>\n",
       "    </tr>\n",
       "    <tr>\n",
       "      <th>895</th>\n",
       "      <td>4.932781</td>\n",
       "      <td>2</td>\n",
       "      <td>0.111433</td>\n",
       "      <td>0.079270</td>\n",
       "      <td>0.040960</td>\n",
       "      <td>0.024509</td>\n",
       "      <td>0.051543</td>\n",
       "      <td>0.116518</td>\n",
       "      <td>0.185874</td>\n",
       "      <td>0.143175</td>\n",
       "      <td>6.296023</td>\n",
       "      <td>-0.046129</td>\n",
       "      <td>-24.747921</td>\n",
       "      <td>zNu44</td>\n",
       "    </tr>\n",
       "    <tr>\n",
       "      <th>896</th>\n",
       "      <td>4.949503</td>\n",
       "      <td>2</td>\n",
       "      <td>0.105564</td>\n",
       "      <td>0.076230</td>\n",
       "      <td>0.039156</td>\n",
       "      <td>0.024097</td>\n",
       "      <td>0.051073</td>\n",
       "      <td>0.117729</td>\n",
       "      <td>0.175012</td>\n",
       "      <td>0.132562</td>\n",
       "      <td>4.910950</td>\n",
       "      <td>-0.154313</td>\n",
       "      <td>-20.377578</td>\n",
       "      <td>zNu44</td>\n",
       "    </tr>\n",
       "    <tr>\n",
       "      <th>897</th>\n",
       "      <td>4.966224</td>\n",
       "      <td>2</td>\n",
       "      <td>0.099609</td>\n",
       "      <td>0.073080</td>\n",
       "      <td>0.037808</td>\n",
       "      <td>0.023934</td>\n",
       "      <td>0.050917</td>\n",
       "      <td>0.116978</td>\n",
       "      <td>0.163997</td>\n",
       "      <td>0.121663</td>\n",
       "      <td>3.814453</td>\n",
       "      <td>-0.394626</td>\n",
       "      <td>-16.421894</td>\n",
       "      <td>zNu44</td>\n",
       "    </tr>\n",
       "    <tr>\n",
       "      <th>898</th>\n",
       "      <td>4.982945</td>\n",
       "      <td>2</td>\n",
       "      <td>0.093762</td>\n",
       "      <td>0.069941</td>\n",
       "      <td>0.036912</td>\n",
       "      <td>0.024011</td>\n",
       "      <td>0.051028</td>\n",
       "      <td>0.114628</td>\n",
       "      <td>0.153383</td>\n",
       "      <td>0.110998</td>\n",
       "      <td>2.864429</td>\n",
       "      <td>-0.684709</td>\n",
       "      <td>-13.006773</td>\n",
       "      <td>zNu44</td>\n",
       "    </tr>\n",
       "    <tr>\n",
       "      <th>899</th>\n",
       "      <td>4.999667</td>\n",
       "      <td>2</td>\n",
       "      <td>0.088187</td>\n",
       "      <td>0.066910</td>\n",
       "      <td>0.036436</td>\n",
       "      <td>0.024313</td>\n",
       "      <td>0.051352</td>\n",
       "      <td>0.111083</td>\n",
       "      <td>0.143629</td>\n",
       "      <td>0.101011</td>\n",
       "      <td>2.186261</td>\n",
       "      <td>-0.928818</td>\n",
       "      <td>-9.994077</td>\n",
       "      <td>zNu44</td>\n",
       "    </tr>\n",
       "  </tbody>\n",
       "</table>\n",
       "<p>7200 rows × 14 columns</p>\n",
       "</div>"
      ],
      "text/plain": [
       "         Time  Event       EPB       EPL       FPL       APL       ADD  \\\n",
       "0    0.000000      0  0.609387  0.425615  0.448714  0.759052  0.686264   \n",
       "1    0.016722      0  0.621460  0.430126  0.451183  0.757899  0.687901   \n",
       "2    0.033445      0  0.631084  0.435097  0.453312  0.755323  0.692222   \n",
       "3    0.050167      0  0.637990  0.440523  0.455069  0.751424  0.698965   \n",
       "4    0.066890      0  0.642083  0.446395  0.456437  0.746356  0.707680   \n",
       "..        ...    ...       ...       ...       ...       ...       ...   \n",
       "895  4.932781      2  0.111433  0.079270  0.040960  0.024509  0.051543   \n",
       "896  4.949503      2  0.105564  0.076230  0.039156  0.024097  0.051073   \n",
       "897  4.966224      2  0.099609  0.073080  0.037808  0.023934  0.050917   \n",
       "898  4.982945      2  0.093762  0.069941  0.036912  0.024011  0.051028   \n",
       "899  4.999667      2  0.088187  0.066910  0.036436  0.024313  0.051352   \n",
       "\n",
       "          FCU       FPB       OPP        Fx        Fy         Fz Subject  \n",
       "0    0.066787  0.298815  0.601626  6.628719 -5.536619 -72.106877   bXa12  \n",
       "1    0.066837  0.298880  0.607359  6.438037 -5.549640 -73.115967   bXa12  \n",
       "2    0.066811  0.298609  0.613068  6.327789 -5.691851 -74.307988   bXa12  \n",
       "3    0.066699  0.298155  0.618620  6.591325 -5.942138 -74.517149   bXa12  \n",
       "4    0.066504  0.297653  0.623865  6.722019 -6.021124 -75.056662   bXa12  \n",
       "..        ...       ...       ...       ...       ...        ...     ...  \n",
       "895  0.116518  0.185874  0.143175  6.296023 -0.046129 -24.747921   zNu44  \n",
       "896  0.117729  0.175012  0.132562  4.910950 -0.154313 -20.377578   zNu44  \n",
       "897  0.116978  0.163997  0.121663  3.814453 -0.394626 -16.421894   zNu44  \n",
       "898  0.114628  0.153383  0.110998  2.864429 -0.684709 -13.006773   zNu44  \n",
       "899  0.111083  0.143629  0.101011  2.186261 -0.928818  -9.994077   zNu44  \n",
       "\n",
       "[7200 rows x 14 columns]"
      ]
     },
     "execution_count": 110,
     "metadata": {},
     "output_type": "execute_result"
    }
   ],
   "source": [
    "df2 = pd.read_pickle('../../data/SeparatedData.pkl')\n",
    "df2"
   ]
  },
  {
   "cell_type": "code",
   "execution_count": null,
   "metadata": {},
   "outputs": [],
   "source": [
    "exp_data = kmk.Dataset(df2, sort_column=['Subject'])\n",
    "n_subjects = len(exp_data.subjects)\n",
    "\n",
    "test_data = exp_data.X[(n_subjects-1)*900:, :]\n",
    "test_labels = exp_data.Y[(n_subjects-1)*900:, :]\n",
    "\n",
    "\n",
    "train_data= exp_data.X[0:(n_subjects-1)*900, :]\n",
    "train_labels = exp_data.Y[0:(n_subjects-1)*900, :]\n",
    "train_data = train_data.float()\n",
    "train_labels = train_labels.float()\n",
    "# scale the data\n",
    "train_data = train_data.detach().cpu().numpy()\n",
    "train_data = scaler.transform(train_data)\n",
    "train_data = torch.from_numpy(train_data).float()"
   ]
  },
  {
   "cell_type": "code",
   "execution_count": null,
   "metadata": {},
   "outputs": [
    {
     "data": {
      "text/plain": [
       "torch.Size([7200, 8])"
      ]
     },
     "execution_count": 112,
     "metadata": {},
     "output_type": "execute_result"
    }
   ],
   "source": [
    "exp_data.X.shape"
   ]
  },
  {
   "cell_type": "code",
   "execution_count": null,
   "metadata": {},
   "outputs": [
    {
     "name": "stdout",
     "output_type": "stream",
     "text": [
      "EPOCH :  0 , dt:  1.7006218433380127 seconds, losses : 261.0935363769531\n",
      "EPOCH :  10 , dt:  16.266148567199707 seconds, losses : 125.99663543701172\n",
      "EPOCH :  20 , dt:  16.039243936538696 seconds, losses : 89.14463806152344\n",
      "EPOCH :  30 , dt:  15.961235284805298 seconds, losses : 82.9539566040039\n"
     ]
    },
    {
     "ename": "KeyboardInterrupt",
     "evalue": "",
     "output_type": "error",
     "traceback": [
      "\u001b[1;31m---------------------------------------------------------------------------\u001b[0m",
      "\u001b[1;31mKeyboardInterrupt\u001b[0m                         Traceback (most recent call last)",
      "Cell \u001b[1;32mIn[122], line 1\u001b[0m\n\u001b[1;32m----> 1\u001b[0m tlm_losses \u001b[39m=\u001b[39m kmk\u001b[39m.\u001b[39;49mrun_Pytorch(tlm, train_data, train_labels, learning_rate\u001b[39m=\u001b[39;49m\u001b[39m1e-3\u001b[39;49m, \n\u001b[0;32m      2\u001b[0m                              batch_size\u001b[39m=\u001b[39;49m\u001b[39m32\u001b[39;49m, n_epochs\u001b[39m=\u001b[39;49m\u001b[39m1001\u001b[39;49m, \n\u001b[0;32m      3\u001b[0m                              optimizer\u001b[39m=\u001b[39;49mtorch\u001b[39m.\u001b[39;49moptim\u001b[39m.\u001b[39;49mAdam(tlm\u001b[39m.\u001b[39;49mparameters(), lr\u001b[39m=\u001b[39;49m\u001b[39m1e-3\u001b[39;49m, weight_decay\u001b[39m=\u001b[39;49m\u001b[39m1e-1\u001b[39;49m))\n",
      "File \u001b[1;32mc:\\Users\\efons\\anaconda3\\envs\\venv\\lib\\site-packages\\kmodels\\kmodels.py:23\u001b[0m, in \u001b[0;36mrun_Pytorch\u001b[1;34m(model, X_train, Y_train, n_epochs, learning_rate, batch_size, device, optimizer)\u001b[0m\n\u001b[0;32m     21\u001b[0m \u001b[39mif\u001b[39;00m optimizer \u001b[39mis\u001b[39;00m \u001b[39mNone\u001b[39;00m:\n\u001b[0;32m     22\u001b[0m     optimizer \u001b[39m=\u001b[39m torch\u001b[39m.\u001b[39moptim\u001b[39m.\u001b[39mAdam(model\u001b[39m.\u001b[39mparameters(), lr\u001b[39m=\u001b[39mlearning_rate, weight_decay\u001b[39m=\u001b[39m\u001b[39m0.001\u001b[39m)\n\u001b[1;32m---> 23\u001b[0m losses \u001b[39m=\u001b[39m train_pytorch(model, \n\u001b[0;32m     24\u001b[0m              X_train, \n\u001b[0;32m     25\u001b[0m              Y_train,\n\u001b[0;32m     26\u001b[0m              n_epochs\u001b[39m=\u001b[39;49mn_epochs,\n\u001b[0;32m     27\u001b[0m              batch_size\u001b[39m=\u001b[39;49mbatch_size, \n\u001b[0;32m     28\u001b[0m              learning_rate\u001b[39m=\u001b[39;49mlearning_rate)\n\u001b[0;32m     29\u001b[0m \u001b[39mreturn\u001b[39;00m losses\n",
      "File \u001b[1;32mc:\\Users\\efons\\anaconda3\\envs\\venv\\lib\\site-packages\\kmodels\\kmodels.py:63\u001b[0m, in \u001b[0;36mtrain_pytorch\u001b[1;34m(model, X_train, Y_train, n_epochs, batch_size, learning_rate, device, optimizer)\u001b[0m\n\u001b[0;32m     61\u001b[0m \u001b[39m#optimizer = torch.optim.SGD(model.parameters(), lr=learning_rate)\u001b[39;00m\n\u001b[0;32m     62\u001b[0m loss_func \u001b[39m=\u001b[39m torch\u001b[39m.\u001b[39mnn\u001b[39m.\u001b[39mMSELoss()\n\u001b[1;32m---> 63\u001b[0m losses \u001b[39m=\u001b[39m run_epochs(model, X_train, Y_train, loss_func, optimizer, batches, n_epochs\u001b[39m=\u001b[39;49mn_epochs)\n\u001b[0;32m     64\u001b[0m \u001b[39mreturn\u001b[39;00m [i\u001b[39m.\u001b[39mdetach()\u001b[39m.\u001b[39mcpu() \u001b[39mfor\u001b[39;00m i \u001b[39min\u001b[39;00m losses]\n",
      "File \u001b[1;32mc:\\Users\\efons\\anaconda3\\envs\\venv\\lib\\site-packages\\kmodels\\kmodels.py:43\u001b[0m, in \u001b[0;36mrun_epochs\u001b[1;34m(model, X_train, Y_train, loss_func, optimizer, batches, n_epochs, device)\u001b[0m\n\u001b[0;32m     41\u001b[0m     loss \u001b[39m=\u001b[39m loss_func(pred, y) \u001b[39m# must be (1. nn output, 2. target)\u001b[39;00m\n\u001b[0;32m     42\u001b[0m     loss\u001b[39m.\u001b[39mbackward()         \u001b[39m# backpropagation, compute gradients\u001b[39;00m\n\u001b[1;32m---> 43\u001b[0m     optimizer\u001b[39m.\u001b[39;49mstep()        \u001b[39m# apply gradients\u001b[39;00m\n\u001b[0;32m     44\u001b[0m losses\u001b[39m.\u001b[39mappend(loss)\n\u001b[0;32m     45\u001b[0m torch\u001b[39m.\u001b[39mcuda\u001b[39m.\u001b[39mempty_cache()\n",
      "File \u001b[1;32mc:\\Users\\efons\\anaconda3\\envs\\venv\\lib\\site-packages\\torch\\optim\\optimizer.py:140\u001b[0m, in \u001b[0;36mOptimizer._hook_for_profile.<locals>.profile_hook_step.<locals>.wrapper\u001b[1;34m(*args, **kwargs)\u001b[0m\n\u001b[0;32m    138\u001b[0m profile_name \u001b[39m=\u001b[39m \u001b[39m\"\u001b[39m\u001b[39mOptimizer.step#\u001b[39m\u001b[39m{}\u001b[39;00m\u001b[39m.step\u001b[39m\u001b[39m\"\u001b[39m\u001b[39m.\u001b[39mformat(obj\u001b[39m.\u001b[39m\u001b[39m__class__\u001b[39m\u001b[39m.\u001b[39m\u001b[39m__name__\u001b[39m)\n\u001b[0;32m    139\u001b[0m \u001b[39mwith\u001b[39;00m torch\u001b[39m.\u001b[39mautograd\u001b[39m.\u001b[39mprofiler\u001b[39m.\u001b[39mrecord_function(profile_name):\n\u001b[1;32m--> 140\u001b[0m     out \u001b[39m=\u001b[39m func(\u001b[39m*\u001b[39margs, \u001b[39m*\u001b[39m\u001b[39m*\u001b[39mkwargs)\n\u001b[0;32m    141\u001b[0m     obj\u001b[39m.\u001b[39m_optimizer_step_code()\n\u001b[0;32m    142\u001b[0m     \u001b[39mreturn\u001b[39;00m out\n",
      "File \u001b[1;32mc:\\Users\\efons\\anaconda3\\envs\\venv\\lib\\site-packages\\torch\\optim\\optimizer.py:23\u001b[0m, in \u001b[0;36m_use_grad_for_differentiable.<locals>._use_grad\u001b[1;34m(self, *args, **kwargs)\u001b[0m\n\u001b[0;32m     21\u001b[0m \u001b[39mtry\u001b[39;00m:\n\u001b[0;32m     22\u001b[0m     torch\u001b[39m.\u001b[39mset_grad_enabled(\u001b[39mself\u001b[39m\u001b[39m.\u001b[39mdefaults[\u001b[39m'\u001b[39m\u001b[39mdifferentiable\u001b[39m\u001b[39m'\u001b[39m])\n\u001b[1;32m---> 23\u001b[0m     ret \u001b[39m=\u001b[39m func(\u001b[39mself\u001b[39m, \u001b[39m*\u001b[39margs, \u001b[39m*\u001b[39m\u001b[39m*\u001b[39mkwargs)\n\u001b[0;32m     24\u001b[0m \u001b[39mfinally\u001b[39;00m:\n\u001b[0;32m     25\u001b[0m     torch\u001b[39m.\u001b[39mset_grad_enabled(prev_grad)\n",
      "File \u001b[1;32mc:\\Users\\efons\\anaconda3\\envs\\venv\\lib\\site-packages\\torch\\optim\\adam.py:234\u001b[0m, in \u001b[0;36mAdam.step\u001b[1;34m(self, closure, grad_scaler)\u001b[0m\n\u001b[0;32m    231\u001b[0m                 \u001b[39mraise\u001b[39;00m \u001b[39mRuntimeError\u001b[39;00m(\u001b[39m'\u001b[39m\u001b[39m`requires_grad` is not supported for `step` in differentiable mode\u001b[39m\u001b[39m'\u001b[39m)\n\u001b[0;32m    232\u001b[0m             state_steps\u001b[39m.\u001b[39mappend(state[\u001b[39m'\u001b[39m\u001b[39mstep\u001b[39m\u001b[39m'\u001b[39m])\n\u001b[1;32m--> 234\u001b[0m     adam(params_with_grad,\n\u001b[0;32m    235\u001b[0m          grads,\n\u001b[0;32m    236\u001b[0m          exp_avgs,\n\u001b[0;32m    237\u001b[0m          exp_avg_sqs,\n\u001b[0;32m    238\u001b[0m          max_exp_avg_sqs,\n\u001b[0;32m    239\u001b[0m          state_steps,\n\u001b[0;32m    240\u001b[0m          amsgrad\u001b[39m=\u001b[39;49mgroup[\u001b[39m'\u001b[39;49m\u001b[39mamsgrad\u001b[39;49m\u001b[39m'\u001b[39;49m],\n\u001b[0;32m    241\u001b[0m          beta1\u001b[39m=\u001b[39;49mbeta1,\n\u001b[0;32m    242\u001b[0m          beta2\u001b[39m=\u001b[39;49mbeta2,\n\u001b[0;32m    243\u001b[0m          lr\u001b[39m=\u001b[39;49mgroup[\u001b[39m'\u001b[39;49m\u001b[39mlr\u001b[39;49m\u001b[39m'\u001b[39;49m],\n\u001b[0;32m    244\u001b[0m          weight_decay\u001b[39m=\u001b[39;49mgroup[\u001b[39m'\u001b[39;49m\u001b[39mweight_decay\u001b[39;49m\u001b[39m'\u001b[39;49m],\n\u001b[0;32m    245\u001b[0m          eps\u001b[39m=\u001b[39;49mgroup[\u001b[39m'\u001b[39;49m\u001b[39meps\u001b[39;49m\u001b[39m'\u001b[39;49m],\n\u001b[0;32m    246\u001b[0m          maximize\u001b[39m=\u001b[39;49mgroup[\u001b[39m'\u001b[39;49m\u001b[39mmaximize\u001b[39;49m\u001b[39m'\u001b[39;49m],\n\u001b[0;32m    247\u001b[0m          foreach\u001b[39m=\u001b[39;49mgroup[\u001b[39m'\u001b[39;49m\u001b[39mforeach\u001b[39;49m\u001b[39m'\u001b[39;49m],\n\u001b[0;32m    248\u001b[0m          capturable\u001b[39m=\u001b[39;49mgroup[\u001b[39m'\u001b[39;49m\u001b[39mcapturable\u001b[39;49m\u001b[39m'\u001b[39;49m],\n\u001b[0;32m    249\u001b[0m          differentiable\u001b[39m=\u001b[39;49mgroup[\u001b[39m'\u001b[39;49m\u001b[39mdifferentiable\u001b[39;49m\u001b[39m'\u001b[39;49m],\n\u001b[0;32m    250\u001b[0m          fused\u001b[39m=\u001b[39;49mgroup[\u001b[39m'\u001b[39;49m\u001b[39mfused\u001b[39;49m\u001b[39m'\u001b[39;49m],\n\u001b[0;32m    251\u001b[0m          grad_scale\u001b[39m=\u001b[39;49mgrad_scale,\n\u001b[0;32m    252\u001b[0m          found_inf\u001b[39m=\u001b[39;49mfound_inf)\n\u001b[0;32m    254\u001b[0m \u001b[39mreturn\u001b[39;00m loss\n",
      "File \u001b[1;32mc:\\Users\\efons\\anaconda3\\envs\\venv\\lib\\site-packages\\torch\\optim\\adam.py:300\u001b[0m, in \u001b[0;36madam\u001b[1;34m(params, grads, exp_avgs, exp_avg_sqs, max_exp_avg_sqs, state_steps, foreach, capturable, differentiable, fused, grad_scale, found_inf, amsgrad, beta1, beta2, lr, weight_decay, eps, maximize)\u001b[0m\n\u001b[0;32m    297\u001b[0m \u001b[39melse\u001b[39;00m:\n\u001b[0;32m    298\u001b[0m     func \u001b[39m=\u001b[39m _single_tensor_adam\n\u001b[1;32m--> 300\u001b[0m func(params,\n\u001b[0;32m    301\u001b[0m      grads,\n\u001b[0;32m    302\u001b[0m      exp_avgs,\n\u001b[0;32m    303\u001b[0m      exp_avg_sqs,\n\u001b[0;32m    304\u001b[0m      max_exp_avg_sqs,\n\u001b[0;32m    305\u001b[0m      state_steps,\n\u001b[0;32m    306\u001b[0m      amsgrad\u001b[39m=\u001b[39;49mamsgrad,\n\u001b[0;32m    307\u001b[0m      beta1\u001b[39m=\u001b[39;49mbeta1,\n\u001b[0;32m    308\u001b[0m      beta2\u001b[39m=\u001b[39;49mbeta2,\n\u001b[0;32m    309\u001b[0m      lr\u001b[39m=\u001b[39;49mlr,\n\u001b[0;32m    310\u001b[0m      weight_decay\u001b[39m=\u001b[39;49mweight_decay,\n\u001b[0;32m    311\u001b[0m      eps\u001b[39m=\u001b[39;49meps,\n\u001b[0;32m    312\u001b[0m      maximize\u001b[39m=\u001b[39;49mmaximize,\n\u001b[0;32m    313\u001b[0m      capturable\u001b[39m=\u001b[39;49mcapturable,\n\u001b[0;32m    314\u001b[0m      differentiable\u001b[39m=\u001b[39;49mdifferentiable,\n\u001b[0;32m    315\u001b[0m      grad_scale\u001b[39m=\u001b[39;49mgrad_scale,\n\u001b[0;32m    316\u001b[0m      found_inf\u001b[39m=\u001b[39;49mfound_inf)\n",
      "File \u001b[1;32mc:\\Users\\efons\\anaconda3\\envs\\venv\\lib\\site-packages\\torch\\optim\\adam.py:354\u001b[0m, in \u001b[0;36m_single_tensor_adam\u001b[1;34m(params, grads, exp_avgs, exp_avg_sqs, max_exp_avg_sqs, state_steps, grad_scale, found_inf, amsgrad, beta1, beta2, lr, weight_decay, eps, maximize, capturable, differentiable)\u001b[0m\n\u001b[0;32m    351\u001b[0m step_t \u001b[39m+\u001b[39m\u001b[39m=\u001b[39m \u001b[39m1\u001b[39m\n\u001b[0;32m    353\u001b[0m \u001b[39mif\u001b[39;00m weight_decay \u001b[39m!=\u001b[39m \u001b[39m0\u001b[39m:\n\u001b[1;32m--> 354\u001b[0m     grad \u001b[39m=\u001b[39m grad\u001b[39m.\u001b[39;49madd(param, alpha\u001b[39m=\u001b[39;49mweight_decay)\n\u001b[0;32m    356\u001b[0m \u001b[39mif\u001b[39;00m torch\u001b[39m.\u001b[39mis_complex(param):\n\u001b[0;32m    357\u001b[0m     grad \u001b[39m=\u001b[39m torch\u001b[39m.\u001b[39mview_as_real(grad)\n",
      "\u001b[1;31mKeyboardInterrupt\u001b[0m: "
     ]
    }
   ],
   "source": [
    "tlm_losses = kmk.run_Pytorch(tlm, train_data, train_labels, learning_rate=1e-3, \n",
    "                             batch_size=32, n_epochs=1001, \n",
    "                             optimizer=torch.optim.Adam(tlm.parameters(), lr=1e-3, weight_decay=1e-1))\n"
   ]
  },
  {
   "cell_type": "code",
   "execution_count": null,
   "metadata": {},
   "outputs": [
    {
     "data": {
      "text/plain": [
       "<matplotlib.collections.PathCollection at 0x1e1990bd9c0>"
      ]
     },
     "execution_count": 123,
     "metadata": {},
     "output_type": "execute_result"
    },
    {
     "data": {
      "image/png": "[encoded data removed]",
      "text/plain": [
       "<Figure size 640x480 with 1 Axes>"
      ]
     },
     "metadata": {},
     "output_type": "display_data"
    }
   ],
   "source": [
    "# parity plot\n",
    "pred = tlm(test_data.float().to('cuda'))\n",
    "plt.scatter(pred.detach().cpu().numpy()[:,0], test_labels.detach().cpu().numpy()[:,0])"
   ]
  },
  {
   "cell_type": "code",
   "execution_count": null,
   "metadata": {},
   "outputs": [
    {
     "data": {
      "text/plain": [
       "<matplotlib.collections.PathCollection at 0x1e19a290be0>"
      ]
     },
     "execution_count": 119,
     "metadata": {},
     "output_type": "execute_result"
    },
    {
     "data": {
      "image/png": "[encoded data removed]",
      "text/plain": [
       "<Figure size 640x480 with 1 Axes>"
      ]
     },
     "metadata": {},
     "output_type": "display_data"
    }
   ],
   "source": [
    "# random forest for comparison\n",
    "from sklearn.ensemble import RandomForestRegressor\n",
    "reg = RandomForestRegressor(n_estimators=1000, max_depth=10, random_state=0, n_jobs=-1)\n",
    "reg.fit(train_data.detach().cpu().numpy(), train_labels.detach().cpu().numpy())\n",
    "pred = reg.predict(test_data.detach().cpu().numpy())\n",
    "# parity plot\n",
    "plt.scatter(pred[:,0], test_labels.detach().cpu().numpy()[:,0])"
   ]
  },
  {
   "cell_type": "code",
   "execution_count": null,
   "metadata": {},
   "outputs": [],
   "source": [
    "# lets try a linear model\n"
   ]
  }
 ],
 "metadata": {
  "kernelspec": {
   "display_name": "venv",
   "language": "python",
   "name": "python3"
  },
  "language_info": {
   "codemirror_mode": {
    "name": "ipython",
    "version": 3
   },
   "file_extension": ".py",
   "mimetype": "text/x-python",
   "name": "python",
   "nbconvert_exporter": "python",
   "pygments_lexer": "ipython3",
   "version": "3.10.8"
  },
  "orig_nbformat": 4,
  "vscode": {
   "interpreter": {
    "hash": "e2c1d3e12e66dc47a0aae61db106152a68be04014ca291cb297471e9102f95b0"
   }
  }
 },
 "nbformat": 4,
 "nbformat_minor": 2
}
